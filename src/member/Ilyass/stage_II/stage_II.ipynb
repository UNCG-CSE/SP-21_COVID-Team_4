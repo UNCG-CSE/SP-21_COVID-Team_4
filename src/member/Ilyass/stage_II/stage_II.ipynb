{
 "cells": [
  {
   "cell_type": "code",
   "execution_count": 3,
   "metadata": {},
   "outputs": [
    {
     "name": "stdout",
     "output_type": "stream",
     "text": [
      "Requirement already satisfied: plotly in c:\\users\\z\\anaconda3\\lib\\site-packages (4.14.3)\n",
      "Requirement already satisfied: six in c:\\users\\z\\anaconda3\\lib\\site-packages (from plotly) (1.15.0)\n",
      "Requirement already satisfied: retrying>=1.3.3 in c:\\users\\z\\anaconda3\\lib\\site-packages (from plotly) (1.3.3)\n",
      "Requirement already satisfied: cufflinks in c:\\users\\z\\anaconda3\\lib\\site-packages (0.17.3)\n",
      "Requirement already satisfied: numpy>=1.9.2 in c:\\users\\z\\anaconda3\\lib\\site-packages (from cufflinks) (1.19.2)\n",
      "Requirement already satisfied: ipywidgets>=7.0.0 in c:\\users\\z\\anaconda3\\lib\\site-packages (from cufflinks) (7.5.1)\n",
      "Requirement already satisfied: ipython>=5.3.0 in c:\\users\\z\\anaconda3\\lib\\site-packages (from cufflinks) (7.19.0)\n",
      "Requirement already satisfied: plotly>=4.1.1 in c:\\users\\z\\anaconda3\\lib\\site-packages (from cufflinks) (4.14.3)\n",
      "Requirement already satisfied: pandas>=0.19.2 in c:\\users\\z\\anaconda3\\lib\\site-packages (from cufflinks) (1.1.3)\n",
      "Requirement already satisfied: colorlover>=0.2.1 in c:\\users\\z\\anaconda3\\lib\\site-packages (from cufflinks) (0.3.0)\n",
      "Requirement already satisfied: six>=1.9.0 in c:\\users\\z\\anaconda3\\lib\\site-packages (from cufflinks) (1.15.0)\n",
      "Requirement already satisfied: setuptools>=34.4.1 in c:\\users\\z\\anaconda3\\lib\\site-packages (from cufflinks) (50.3.1.post20201107)\n",
      "Requirement already satisfied: nbformat>=4.2.0 in c:\\users\\z\\anaconda3\\lib\\site-packages (from ipywidgets>=7.0.0->cufflinks) (5.0.8)\n",
      "Requirement already satisfied: traitlets>=4.3.1 in c:\\users\\z\\anaconda3\\lib\\site-packages (from ipywidgets>=7.0.0->cufflinks) (5.0.5)\n",
      "Requirement already satisfied: ipykernel>=4.5.1 in c:\\users\\z\\anaconda3\\lib\\site-packages (from ipywidgets>=7.0.0->cufflinks) (5.3.4)\n",
      "Requirement already satisfied: widgetsnbextension~=3.5.0 in c:\\users\\z\\anaconda3\\lib\\site-packages (from ipywidgets>=7.0.0->cufflinks) (3.5.1)\n",
      "Requirement already satisfied: decorator in c:\\users\\z\\anaconda3\\lib\\site-packages (from ipython>=5.3.0->cufflinks) (4.4.2)\n",
      "Requirement already satisfied: jedi>=0.10 in c:\\users\\z\\anaconda3\\lib\\site-packages (from ipython>=5.3.0->cufflinks) (0.17.1)\n",
      "Requirement already satisfied: prompt-toolkit!=3.0.0,!=3.0.1,<3.1.0,>=2.0.0 in c:\\users\\z\\anaconda3\\lib\\site-packages (from ipython>=5.3.0->cufflinks) (3.0.8)\n",
      "Requirement already satisfied: backcall in c:\\users\\z\\anaconda3\\lib\\site-packages (from ipython>=5.3.0->cufflinks) (0.2.0)\n",
      "Requirement already satisfied: pickleshare in c:\\users\\z\\anaconda3\\lib\\site-packages (from ipython>=5.3.0->cufflinks) (0.7.5)\n",
      "Requirement already satisfied: colorama; sys_platform == \"win32\" in c:\\users\\z\\anaconda3\\lib\\site-packages (from ipython>=5.3.0->cufflinks) (0.4.4)\n",
      "Requirement already satisfied: pygments in c:\\users\\z\\anaconda3\\lib\\site-packages (from ipython>=5.3.0->cufflinks) (2.7.2)\n",
      "Requirement already satisfied: retrying>=1.3.3 in c:\\users\\z\\anaconda3\\lib\\site-packages (from plotly>=4.1.1->cufflinks) (1.3.3)\n",
      "Requirement already satisfied: pytz>=2017.2 in c:\\users\\z\\anaconda3\\lib\\site-packages (from pandas>=0.19.2->cufflinks) (2020.1)\n",
      "Requirement already satisfied: python-dateutil>=2.7.3 in c:\\users\\z\\anaconda3\\lib\\site-packages (from pandas>=0.19.2->cufflinks) (2.8.1)\n",
      "Requirement already satisfied: ipython-genutils in c:\\users\\z\\anaconda3\\lib\\site-packages (from nbformat>=4.2.0->ipywidgets>=7.0.0->cufflinks) (0.2.0)\n",
      "Requirement already satisfied: jupyter-core in c:\\users\\z\\anaconda3\\lib\\site-packages (from nbformat>=4.2.0->ipywidgets>=7.0.0->cufflinks) (4.6.3)\n",
      "Requirement already satisfied: jsonschema!=2.5.0,>=2.4 in c:\\users\\z\\anaconda3\\lib\\site-packages (from nbformat>=4.2.0->ipywidgets>=7.0.0->cufflinks) (3.2.0)\n",
      "Requirement already satisfied: jupyter-client in c:\\users\\z\\anaconda3\\lib\\site-packages (from ipykernel>=4.5.1->ipywidgets>=7.0.0->cufflinks) (6.1.7)\n",
      "Requirement already satisfied: tornado>=4.2 in c:\\users\\z\\anaconda3\\lib\\site-packages (from ipykernel>=4.5.1->ipywidgets>=7.0.0->cufflinks) (6.0.4)\n",
      "Requirement already satisfied: notebook>=4.4.1 in c:\\users\\z\\anaconda3\\lib\\site-packages (from widgetsnbextension~=3.5.0->ipywidgets>=7.0.0->cufflinks) (6.1.4)\n",
      "Requirement already satisfied: parso<0.8.0,>=0.7.0 in c:\\users\\z\\anaconda3\\lib\\site-packages (from jedi>=0.10->ipython>=5.3.0->cufflinks) (0.7.0)\n",
      "Requirement already satisfied: wcwidth in c:\\users\\z\\anaconda3\\lib\\site-packages (from prompt-toolkit!=3.0.0,!=3.0.1,<3.1.0,>=2.0.0->ipython>=5.3.0->cufflinks) (0.2.5)\n",
      "Requirement already satisfied: pywin32>=1.0; sys_platform == \"win32\" in c:\\users\\z\\anaconda3\\lib\\site-packages (from jupyter-core->nbformat>=4.2.0->ipywidgets>=7.0.0->cufflinks) (227)\n",
      "Requirement already satisfied: attrs>=17.4.0 in c:\\users\\z\\anaconda3\\lib\\site-packages (from jsonschema!=2.5.0,>=2.4->nbformat>=4.2.0->ipywidgets>=7.0.0->cufflinks) (20.3.0)\n",
      "Requirement already satisfied: pyrsistent>=0.14.0 in c:\\users\\z\\anaconda3\\lib\\site-packages (from jsonschema!=2.5.0,>=2.4->nbformat>=4.2.0->ipywidgets>=7.0.0->cufflinks) (0.17.3)\n",
      "Requirement already satisfied: pyzmq>=13 in c:\\users\\z\\anaconda3\\lib\\site-packages (from jupyter-client->ipykernel>=4.5.1->ipywidgets>=7.0.0->cufflinks) (19.0.2)\n",
      "Requirement already satisfied: terminado>=0.8.3 in c:\\users\\z\\anaconda3\\lib\\site-packages (from notebook>=4.4.1->widgetsnbextension~=3.5.0->ipywidgets>=7.0.0->cufflinks) (0.9.1)\n",
      "Requirement already satisfied: nbconvert in c:\\users\\z\\anaconda3\\lib\\site-packages (from notebook>=4.4.1->widgetsnbextension~=3.5.0->ipywidgets>=7.0.0->cufflinks) (6.0.7)\n",
      "Requirement already satisfied: prometheus-client in c:\\users\\z\\anaconda3\\lib\\site-packages (from notebook>=4.4.1->widgetsnbextension~=3.5.0->ipywidgets>=7.0.0->cufflinks) (0.8.0)\n",
      "Requirement already satisfied: Send2Trash in c:\\users\\z\\anaconda3\\lib\\site-packages (from notebook>=4.4.1->widgetsnbextension~=3.5.0->ipywidgets>=7.0.0->cufflinks) (1.5.0)\n",
      "Requirement already satisfied: argon2-cffi in c:\\users\\z\\anaconda3\\lib\\site-packages (from notebook>=4.4.1->widgetsnbextension~=3.5.0->ipywidgets>=7.0.0->cufflinks) (20.1.0)\n",
      "Requirement already satisfied: jinja2 in c:\\users\\z\\anaconda3\\lib\\site-packages (from notebook>=4.4.1->widgetsnbextension~=3.5.0->ipywidgets>=7.0.0->cufflinks) (2.11.2)\n",
      "Requirement already satisfied: pywinpty>=0.5 in c:\\users\\z\\anaconda3\\lib\\site-packages (from terminado>=0.8.3->notebook>=4.4.1->widgetsnbextension~=3.5.0->ipywidgets>=7.0.0->cufflinks) (0.5.7)\n",
      "Requirement already satisfied: nbclient<0.6.0,>=0.5.0 in c:\\users\\z\\anaconda3\\lib\\site-packages (from nbconvert->notebook>=4.4.1->widgetsnbextension~=3.5.0->ipywidgets>=7.0.0->cufflinks) (0.5.1)\n",
      "Requirement already satisfied: defusedxml in c:\\users\\z\\anaconda3\\lib\\site-packages (from nbconvert->notebook>=4.4.1->widgetsnbextension~=3.5.0->ipywidgets>=7.0.0->cufflinks) (0.6.0)\n",
      "Requirement already satisfied: pandocfilters>=1.4.1 in c:\\users\\z\\anaconda3\\lib\\site-packages (from nbconvert->notebook>=4.4.1->widgetsnbextension~=3.5.0->ipywidgets>=7.0.0->cufflinks) (1.4.3)\n",
      "Requirement already satisfied: bleach in c:\\users\\z\\anaconda3\\lib\\site-packages (from nbconvert->notebook>=4.4.1->widgetsnbextension~=3.5.0->ipywidgets>=7.0.0->cufflinks) (3.2.1)\n",
      "Requirement already satisfied: testpath in c:\\users\\z\\anaconda3\\lib\\site-packages (from nbconvert->notebook>=4.4.1->widgetsnbextension~=3.5.0->ipywidgets>=7.0.0->cufflinks) (0.4.4)\n",
      "Requirement already satisfied: mistune<2,>=0.8.1 in c:\\users\\z\\anaconda3\\lib\\site-packages (from nbconvert->notebook>=4.4.1->widgetsnbextension~=3.5.0->ipywidgets>=7.0.0->cufflinks) (0.8.4)\n",
      "Requirement already satisfied: jupyterlab-pygments in c:\\users\\z\\anaconda3\\lib\\site-packages (from nbconvert->notebook>=4.4.1->widgetsnbextension~=3.5.0->ipywidgets>=7.0.0->cufflinks) (0.1.2)\n",
      "Requirement already satisfied: entrypoints>=0.2.2 in c:\\users\\z\\anaconda3\\lib\\site-packages (from nbconvert->notebook>=4.4.1->widgetsnbextension~=3.5.0->ipywidgets>=7.0.0->cufflinks) (0.3)\n",
      "Requirement already satisfied: cffi>=1.0.0 in c:\\users\\z\\anaconda3\\lib\\site-packages (from argon2-cffi->notebook>=4.4.1->widgetsnbextension~=3.5.0->ipywidgets>=7.0.0->cufflinks) (1.14.3)\n",
      "Requirement already satisfied: MarkupSafe>=0.23 in c:\\users\\z\\anaconda3\\lib\\site-packages (from jinja2->notebook>=4.4.1->widgetsnbextension~=3.5.0->ipywidgets>=7.0.0->cufflinks) (1.1.1)\n",
      "Requirement already satisfied: async-generator in c:\\users\\z\\anaconda3\\lib\\site-packages (from nbclient<0.6.0,>=0.5.0->nbconvert->notebook>=4.4.1->widgetsnbextension~=3.5.0->ipywidgets>=7.0.0->cufflinks) (1.10)\n",
      "Requirement already satisfied: nest-asyncio in c:\\users\\z\\anaconda3\\lib\\site-packages (from nbclient<0.6.0,>=0.5.0->nbconvert->notebook>=4.4.1->widgetsnbextension~=3.5.0->ipywidgets>=7.0.0->cufflinks) (1.4.2)\n",
      "Requirement already satisfied: packaging in c:\\users\\z\\anaconda3\\lib\\site-packages (from bleach->nbconvert->notebook>=4.4.1->widgetsnbextension~=3.5.0->ipywidgets>=7.0.0->cufflinks) (20.4)\n",
      "Requirement already satisfied: webencodings in c:\\users\\z\\anaconda3\\lib\\site-packages (from bleach->nbconvert->notebook>=4.4.1->widgetsnbextension~=3.5.0->ipywidgets>=7.0.0->cufflinks) (0.5.1)\n",
      "Requirement already satisfied: pycparser in c:\\users\\z\\anaconda3\\lib\\site-packages (from cffi>=1.0.0->argon2-cffi->notebook>=4.4.1->widgetsnbextension~=3.5.0->ipywidgets>=7.0.0->cufflinks) (2.20)\n",
      "Requirement already satisfied: pyparsing>=2.0.2 in c:\\users\\z\\anaconda3\\lib\\site-packages (from packaging->bleach->nbconvert->notebook>=4.4.1->widgetsnbextension~=3.5.0->ipywidgets>=7.0.0->cufflinks) (2.4.7)\n"
     ]
    },
    {
     "data": {
      "text/html": [
       "        <script type=\"text/javascript\">\n",
       "        window.PlotlyConfig = {MathJaxConfig: 'local'};\n",
       "        if (window.MathJax) {MathJax.Hub.Config({SVG: {font: \"STIX-Web\"}});}\n",
       "        if (typeof require !== 'undefined') {\n",
       "        require.undef(\"plotly\");\n",
       "        requirejs.config({\n",
       "            paths: {\n",
       "                'plotly': ['https://cdn.plot.ly/plotly-latest.min']\n",
       "            }\n",
       "        });\n",
       "        require(['plotly'], function(Plotly) {\n",
       "            window._Plotly = Plotly;\n",
       "        });\n",
       "        }\n",
       "        </script>\n",
       "        "
      ]
     },
     "metadata": {},
     "output_type": "display_data"
    }
   ],
   "source": [
    "import warnings\n",
    "warnings.filterwarnings('ignore')\n",
    "import pandas as pd\n",
    "import numpy as np\n",
    "import plotly.express as px \n",
    "import math\n",
    "import scipy.stats as stats\n",
    "from datetime import datetime\n",
    "import matplotlib.pyplot as plt\n",
    "! pip install plotly\n",
    "import plotly\n",
    "! pip install cufflinks\n",
    "import cufflinks as cf\n",
    "cf.go_offline()\n",
    "cf.set_config_file(offline=False, world_readable=True)\n",
    "\n",
    "SuperData = pd.read_csv(\"../../../../data/stage_I/superDataset.csv\")"
   ]
  },
  {
   "cell_type": "markdown",
   "metadata": {},
   "source": [
    "#### extract and seprate data like cases and deaths"
   ]
  },
  {
   "cell_type": "code",
   "execution_count": 4,
   "metadata": {},
   "outputs": [],
   "source": [
    "TexasData = SuperData.loc[(SuperData[\"State\"] == \"TX\") & (SuperData[\"countyFIPS\"] != 0)]\n",
    "TexasIdentifiers = TexasData.iloc[:,:5]\n",
    "TexasPop = TexasIdentifiers[\"population\"]\n",
    "TexasCases = TexasData.filter(regex='cases$',axis=1)\n",
    "TexasDeaths = TexasData.filter(regex='deaths$',axis=1)"
   ]
  },
  {
   "cell_type": "code",
   "execution_count": 5,
   "metadata": {},
   "outputs": [],
   "source": [
    "#clean NAN and negatives from data\n",
    "TexasCases = TexasCases.diff(axis=1)\n",
    "TexasCases = TexasCases.replace(np.nan, 0)\n",
    "TexasCases[TexasCases < 0] = 0\n",
    "\n",
    "TexasDeaths = TexasDeaths.diff(axis=1)\n",
    "TexasDeaths = TexasDeaths.replace(np.nan, 0)\n",
    "TexasDeaths[TexasDeaths < 0] = 0"
   ]
  },
  {
   "cell_type": "markdown",
   "metadata": {},
   "source": [
    "#### "
   ]
  },
  {
   "cell_type": "code",
   "execution_count": 6,
   "metadata": {},
   "outputs": [],
   "source": [
    "#function to normalize data, since \n",
    "def norm(x, population):\n",
    "    return (x/population)*100000\n",
    "\n",
    "#normalize Texas cases\n",
    "count=0\n",
    "counties = TexasPop.index\n",
    "for county in counties:\n",
    "    population = TexasPop.index[count]\n",
    "    TexasCases.iloc[count] = TexasCases.iloc[count].apply(norm, args=(population,))\n",
    "    count +=1\n",
    "TexasCases = TexasCases.round(0).astype(int)\n",
    "\n",
    "#normalize Texas deaths\n",
    "count=0\n",
    "counties = TexasPop.index\n",
    "for county in counties:\n",
    "    population = TexasPop.index[count]\n",
    "    TexasDeaths.iloc[count] = TexasDeaths.iloc[count].apply(norm, args=(population,))\n",
    "    count +=1\n",
    "TexasDeaths = TexasDeaths.round(0).astype(int)"
   ]
  },
  {
   "cell_type": "code",
   "execution_count": 7,
   "metadata": {},
   "outputs": [],
   "source": [
    "#create weekly data\n",
    "num_days = len(TexasCases.columns)\n",
    "num_weeks = int(num_days/7)\n",
    "TexasWeeklyCases = pd.DataFrame()\n",
    "for week in range(0, num_weeks):\n",
    "    start=week*7\n",
    "    end=start+6\n",
    "    column_name = \"cases_week_\" + str(week+1)\n",
    "    TexasWeeklyCases[column_name] = TexasCases.iloc[:,start:end].mean(axis=1)\n",
    "TexasWeeklyCases = TexasWeeklyCases.round(0).astype(int)\n",
    "\n",
    "num_days = len(TexasDeaths.columns)\n",
    "num_weeks = int(num_days/7)\n",
    "TexasWeeklyDeaths = pd.DataFrame()\n",
    "for week in range(0, num_weeks):\n",
    "    start=week*7\n",
    "    end=start+6\n",
    "    column_name = \"cases_week_\" + str(week+1)\n",
    "    TexasWeeklyDeaths[column_name] = TexasDeaths.iloc[:,start:end].mean(axis=1)\n",
    "TexasWeeklyDeaths = TexasWeeklyDeaths.round(0).astype(int)"
   ]
  },
  {
   "cell_type": "code",
   "execution_count": 8,
   "metadata": {},
   "outputs": [],
   "source": [
    "#merge back data with idenifers\n",
    "TexasWeelyDeathsFin = pd.merge(TexasIdentifiers, TexasWeeklyDeaths, left_index=True, right_index=True)\n",
    "TexasWeelyCasesFin = pd.merge(TexasIdentifiers, TexasWeeklyCases, left_index=True, right_index=True)"
   ]
  },
  {
   "cell_type": "code",
   "execution_count": 9,
   "metadata": {},
   "outputs": [],
   "source": [
    "TexasDWF = TexasWeelyDeathsFin.groupby(['State']).sum()\n",
    "TexasCWF = TexasWeelyCasesFin.groupby(['State']).sum()"
   ]
  },
  {
   "cell_type": "code",
   "execution_count": 10,
   "metadata": {},
   "outputs": [],
   "source": [
    "#generate weekly stats\n",
    "meanTXCases = TexasCWF.mean(axis=1)\n",
    "medianTXCases = TexasCWF.median(axis=1)\n",
    "modeTXCases = TexasCWF.mode(axis=1)\n",
    "\n",
    "meanTXDeaths = TexasDWF.mean(axis=1)\n",
    "medianTXDeaths = TexasDWF.median(axis=1)\n",
    "modeTXDeaths = TexasDWF.mode(axis=1)"
   ]
  },
  {
   "cell_type": "markdown",
   "metadata": {},
   "source": [
    "### Member Task 1 - 1 - Weekly Stats for TX"
   ]
  },
  {
   "cell_type": "code",
   "execution_count": 11,
   "metadata": {},
   "outputs": [
    {
     "name": "stdout",
     "output_type": "stream",
     "text": [
      "State\n",
      "TX    658821.285714\n",
      "dtype: float64 State\n",
      "TX    3365.0\n",
      "dtype: float64        0\n",
      "State   \n",
      "TX     0\n"
     ]
    }
   ],
   "source": [
    "print(meanTXDeaths,medianTXDeaths,modeTXDeaths)"
   ]
  },
  {
   "cell_type": "code",
   "execution_count": 12,
   "metadata": {},
   "outputs": [
    {
     "name": "stdout",
     "output_type": "stream",
     "text": [
      "State\n",
      "TX    880862.571429\n",
      "dtype: float64 State\n",
      "TX    182154.0\n",
      "dtype: float64        0\n",
      "State   \n",
      "TX     0\n"
     ]
    }
   ],
   "source": [
    "print(meanTXCases,medianTXCases,modeTXCases)"
   ]
  },
  {
   "cell_type": "markdown",
   "metadata": {},
   "source": [
    "#### Everyhting that was done above for Texas is done for three more states splitting, normalizing, and creating weekly data"
   ]
  },
  {
   "cell_type": "markdown",
   "metadata": {},
   "source": [
    "##### NC data"
   ]
  },
  {
   "cell_type": "code",
   "execution_count": 13,
   "metadata": {},
   "outputs": [],
   "source": [
    "#picking three states to comapre\n",
    "\n",
    "#Taking data from NC spliting it, cleaning it, normailizing it, adding weeks, summing and grenrating weekly stats\n",
    "NCData = SuperData.loc[(SuperData[\"State\"] == \"NC\") & (SuperData[\"countyFIPS\"] != 0)]\n",
    "NCIdentifiers = NCData.iloc[:,:5]\n",
    "NCPop = NCIdentifiers[\"population\"]\n",
    "NCCases = NCData.filter(regex='cases$',axis=1)\n",
    "NCDeaths = NCData.filter(regex='deaths$',axis=1)\n",
    "\n",
    "NCCases = NCCases.diff(axis=1)\n",
    "NCCases = NCCases.replace(np.nan, 0)\n",
    "NCCases[NCCases < 0] = 0\n",
    "\n",
    "NCDeaths = NCDeaths.diff(axis=1)\n",
    "NCDeaths = NCDeaths.replace(np.nan, 0)\n",
    "NCDeaths[NCDeaths < 0] = 0\n",
    "\n",
    "count=0\n",
    "counties = NCPop.index\n",
    "for county in counties:\n",
    "    population = NCPop.index[count]\n",
    "    NCCases.iloc[count] = NCCases.iloc[count].apply(norm, args=(population,))\n",
    "    count +=1\n",
    "NCCases = NCCases.round(0).astype(int)\n",
    "\n",
    "count=0\n",
    "counties = NCPop.index\n",
    "for county in counties:\n",
    "    population = NCPop.index[count]\n",
    "    NCDeaths.iloc[count] = NCDeaths.iloc[count].apply(norm, args=(population,))\n",
    "    count +=1\n",
    "NCDeaths = NCDeaths.round(0).astype(int)\n",
    "\n",
    "#ws\n",
    "num_days = len(NCCases.columns)\n",
    "num_weeks = int(num_days/7)\n",
    "NCWeeklyCases = pd.DataFrame()\n",
    "for week in range(0, num_weeks):\n",
    "    start=week*7\n",
    "    end=start+6\n",
    "    column_name = \"cases_week_\" + str(week+1)\n",
    "    NCWeeklyCases[column_name] = NCCases.iloc[:,start:end].mean(axis=1)\n",
    "NCWeeklyCases = NCWeeklyCases.round(0).astype(int)\n",
    "\n",
    "num_days = len(NCDeaths.columns)\n",
    "num_weeks = int(num_days/7)\n",
    "NCWeeklyDeaths = pd.DataFrame()\n",
    "for week in range(0, num_weeks):\n",
    "    start=week*7\n",
    "    end=start+6\n",
    "    column_name = \"cases_week_\" + str(week+1)\n",
    "    NCWeeklyDeaths[column_name] = NCDeaths.iloc[:,start:end].mean(axis=1)\n",
    "NCWeeklyDeaths = NCWeeklyDeaths.round(0).astype(int)"
   ]
  },
  {
   "cell_type": "markdown",
   "metadata": {},
   "source": [
    "##### FL data"
   ]
  },
  {
   "cell_type": "code",
   "execution_count": 40,
   "metadata": {},
   "outputs": [],
   "source": [
    "#Taking data from FL spliting it, cleaning it, normailizing it, adding weeks, summing and grenrating weekly stats\n",
    "FLData = SuperData.loc[(SuperData[\"State\"] == \"FL\") & (SuperData[\"countyFIPS\"] != 0)]\n",
    "FLIdentifiers = FLData.iloc[:,:5]\n",
    "FLPop = FLIdentifiers[\"population\"]\n",
    "FLCases = FLData.filter(regex='cases$',axis=1)\n",
    "FLDeaths = FLData.filter(regex='deaths$',axis=1)\n",
    "\n",
    "FLCases = FLCases.diff(axis=1)\n",
    "FLCases = FLCases.replace(np.nan, 0)\n",
    "FLCases[FLCases < 0] = 0\n",
    "\n",
    "FLDeaths = FLDeaths.diff(axis=1)\n",
    "FLDeaths = FLDeaths.replace(np.nan, 0)\n",
    "FLDeaths[FLDeaths < 0] = 0\n",
    "\n",
    "count=0\n",
    "counties = FLPop.index\n",
    "for county in counties:\n",
    "    population = FLPop.index[count]\n",
    "    FLCases.iloc[count] = FLCases.iloc[count].apply(norm, args=(population,))\n",
    "    count +=1\n",
    "FLCases = FLCases.round(0).astype(int)\n",
    "\n",
    "count=0\n",
    "counties = FLPop.index\n",
    "for county in counties:\n",
    "    population = FLPop.index[count]\n",
    "    FLDeaths.iloc[count] = FLDeaths.iloc[count].apply(norm, args=(population,))\n",
    "    count +=1\n",
    "FLDeaths = FLDeaths.round(0).astype(int)\n",
    "\n",
    "num_days = len(FLCases.columns)\n",
    "num_weeks = int(num_days/7)\n",
    "FLWeeklyCases = pd.DataFrame()\n",
    "for week in range(0, num_weeks):\n",
    "    start=week*7\n",
    "    end=start+6\n",
    "    column_name = \"cases_week_\" + str(week+1)\n",
    "    FLWeeklyCases[column_name] = FLCases.iloc[:,start:end].mean(axis=1)\n",
    "FLWeeklyCases = FLWeeklyCases.round(0).astype(int)\n",
    "\n",
    "num_days = len(FLDeaths.columns)\n",
    "num_weeks = int(num_days/7)\n",
    "FLWeeklyDeaths = pd.DataFrame()\n",
    "for week in range(0, num_weeks):\n",
    "    start=week*7\n",
    "    end=start+6\n",
    "    column_name = \"cases_week_\" + str(week+1)\n",
    "    FLWeeklyDeaths[column_name] = FLDeaths.iloc[:,start:end].mean(axis=1)\n",
    "FLWeeklyDeaths = FLWeeklyDeaths.round(0).astype(int)"
   ]
  },
  {
   "cell_type": "markdown",
   "metadata": {},
   "source": [
    "##### CA data"
   ]
  },
  {
   "cell_type": "code",
   "execution_count": 41,
   "metadata": {},
   "outputs": [],
   "source": [
    "\n",
    "#Taking data from CA spliting it, cleaning it, normailizing it, adding weeks, summing and grenrating weekly stats\n",
    "CAData = SuperData.loc[(SuperData[\"State\"] == \"CA\") & (SuperData[\"countyFIPS\"] != 0)]\n",
    "CAIdentifiers = CAData.iloc[:,:5]\n",
    "CAPop = CAIdentifiers[\"population\"]\n",
    "CACases = CAData.filter(regex='cases$',axis=1)\n",
    "CADeaths = CAData.filter(regex='deaths$',axis=1)\n",
    "\n",
    "CACases = CACases.diff(axis=1)\n",
    "CACases = CACases.replace(np.nan, 0)\n",
    "CACases[CACases < 0] = 0\n",
    "\n",
    "CADeaths = CADeaths.diff(axis=1)\n",
    "CADeaths = CADeaths.replace(np.nan, 0)\n",
    "CADeaths[CADeaths < 0] = 0\n",
    "\n",
    "count=0\n",
    "counties = CAPop.index\n",
    "for county in counties:\n",
    "    population = CAPop.index[count]\n",
    "    CACases.iloc[count] = CACases.iloc[count].apply(norm, args=(population,))\n",
    "    count +=1\n",
    "CACases = CACases.round(0).astype(int)\n",
    "\n",
    "count=0\n",
    "counties = CAPop.index\n",
    "for county in counties:\n",
    "    population = CAPop.index[count]\n",
    "    CADeaths.iloc[count] = CADeaths.iloc[count].apply(norm, args=(population,))\n",
    "    count +=1\n",
    "CADeaths = CADeaths.round(0).astype(int)\n",
    "\n",
    "num_days = len(CACases.columns)\n",
    "num_weeks = int(num_days/7)\n",
    "CAWeeklyCases = pd.DataFrame()\n",
    "for week in range(0, num_weeks):\n",
    "    start=week*7\n",
    "    end=start+6\n",
    "    column_name = \"cases_week_\" + str(week+1)\n",
    "    CAWeeklyCases[column_name] = CACases.iloc[:,start:end].mean(axis=1)\n",
    "CAWeeklyCases = CAWeeklyCases.round(0).astype(int)\n",
    "\n",
    "num_days = len(CADeaths.columns)\n",
    "num_weeks = int(num_days/7)\n",
    "CAWeeklyDeaths = pd.DataFrame()\n",
    "for week in range(0, num_weeks):\n",
    "    start=week*7\n",
    "    end=start+6\n",
    "    column_name = \"cases_week_\" + str(week+1)\n",
    "    CAWeeklyDeaths[column_name] = CADeaths.iloc[:,start:end].mean(axis=1)\n",
    "CAWeeklyDeaths = CAWeeklyDeaths.round(0).astype(int)"
   ]
  },
  {
   "cell_type": "markdown",
   "metadata": {},
   "source": [
    "##### merege above data back with Identifiers coulmns for things like county name and population"
   ]
  },
  {
   "cell_type": "code",
   "execution_count": 14,
   "metadata": {},
   "outputs": [],
   "source": [
    "NCWeelyDeathsFin = pd.merge(NCIdentifiers, NCWeeklyDeaths, left_index=True, right_index=True)\n",
    "NCWeelyCasesFin = pd.merge(NCIdentifiers, NCWeeklyCases, left_index=True, right_index=True)\n",
    "\n",
    "FLWeelyDeathsFin = pd.merge(FLIdentifiers, FLWeeklyDeaths, left_index=True, right_index=True)\n",
    "FLWeelyCasesFin = pd.merge(FLIdentifiers, FLWeeklyCases, left_index=True, right_index=True)\n",
    "\n",
    "CAWeelyDeathsFin = pd.merge(CAIdentifiers, CAWeeklyDeaths, left_index=True, right_index=True)\n",
    "CAWeelyCasesFin = pd.merge(CAIdentifiers, CAWeeklyCases, left_index=True, right_index=True)"
   ]
  },
  {
   "cell_type": "markdown",
   "metadata": {},
   "source": [
    "##### sum weekly states for states"
   ]
  },
  {
   "cell_type": "code",
   "execution_count": 15,
   "metadata": {},
   "outputs": [],
   "source": [
    "NCDGS = NCWeelyDeathsFin.groupby(['State']).sum()\n",
    "NCCGS = NCWeelyCasesFin.groupby(['State']).sum()\n",
    "\n",
    "FLDGS = FLWeelyDeathsFin.groupby(['State']).sum()\n",
    "FLCGS = FLWeelyCasesFin.groupby(['State']).sum()\n",
    "\n",
    "CADGS = CAWeelyDeathsFin.groupby(['State']).sum()\n",
    "CACGS = CAWeelyCasesFin.groupby(['State']).sum()\n",
    "\n",
    "meanNCCases = NCCGS.mean(axis=1)\n",
    "meanNCCases = NCCGS.median(axis=1)\n",
    "\n",
    "meanNCDeaths = NCDGS.mean(axis=1)\n",
    "medianNCDeaths = NCDGS.median(axis=1)\n",
    "\n",
    "meanFLCases = FLCGS.mean(axis=1)\n",
    "medianFLCases = FLCGS.median(axis=1)\n",
    "\n",
    "meanFLDeaths = FLDGS.mean(axis=1)\n",
    "medianFLDeaths = FLDGS.median(axis=1)\n",
    "\n",
    "meanCACases = CACGS.mean(axis=1)\n",
    "medianCACases = CACGS.median(axis=1)\n",
    "\n",
    "meanCADeaths = CADGS.mean(axis=1)\n",
    "medianCADeaths = CADGS.median(axis=1)"
   ]
  },
  {
   "cell_type": "markdown",
   "metadata": {},
   "source": [
    "### Member Task 1 - 2 - Compare Weekly Statistics for Other States"
   ]
  },
  {
   "cell_type": "code",
   "execution_count": 16,
   "metadata": {},
   "outputs": [
    {
     "data": {
      "text/plain": [
       "(State\n",
       " NC    83381.0\n",
       " dtype: float64,\n",
       " State\n",
       " NC    83381.0\n",
       " dtype: float64,\n",
       " State\n",
       " NC    226780.714286\n",
       " dtype: float64,\n",
       " State\n",
       " NC    1145.0\n",
       " dtype: float64)"
      ]
     },
     "execution_count": 16,
     "metadata": {},
     "output_type": "execute_result"
    }
   ],
   "source": [
    "meanNCCases, meanNCCases, meanNCDeaths, medianNCDeaths"
   ]
  },
  {
   "cell_type": "code",
   "execution_count": 17,
   "metadata": {},
   "outputs": [
    {
     "data": {
      "text/plain": [
       "(State\n",
       " FL    1.598936e+06\n",
       " dtype: float64,\n",
       " State\n",
       " FL    1.598936e+06\n",
       " dtype: float64,\n",
       " State\n",
       " FL    373473.174603\n",
       " dtype: float64,\n",
       " State\n",
       " FL    20208.0\n",
       " dtype: float64)"
      ]
     },
     "execution_count": 17,
     "metadata": {},
     "output_type": "execute_result"
    }
   ],
   "source": [
    "meanFLCases, meanFLCases, meanFLDeaths, medianFLDeaths"
   ]
  },
  {
   "cell_type": "code",
   "execution_count": 18,
   "metadata": {},
   "outputs": [
    {
     "data": {
      "text/plain": [
       "(State\n",
       " CA    4.357795e+06\n",
       " dtype: float64,\n",
       " State\n",
       " CA    4.357795e+06\n",
       " dtype: float64,\n",
       " State\n",
       " CA    690799.539683\n",
       " dtype: float64,\n",
       " State\n",
       " CA    32419.0\n",
       " dtype: float64)"
      ]
     },
     "execution_count": 18,
     "metadata": {},
     "output_type": "execute_result"
    }
   ],
   "source": [
    "meanCACases, meanCACases, meanCADeaths, medianCADeaths"
   ]
  },
  {
   "cell_type": "markdown",
   "metadata": {},
   "source": [
    "### Member Task 1 - 3"
   ]
  },
  {
   "cell_type": "code",
   "execution_count": 42,
   "metadata": {},
   "outputs": [],
   "source": [
    "#identify top 5 states in TX\n",
    "TexasDailyCasesFin = pd.merge(TexasIdentifiers, TexasCases, left_index=True, right_index=True)\n",
    "TexasDailyDeathsFin = pd.merge(TexasIdentifiers, TexasDeaths, left_index=True, right_index=True)\n",
    "TDCS = TexasDailyCasesFin.sort_values(by=['population'], ascending=False)\n",
    "TDDS = TexasDailyDeathsFin.sort_values(by=['population'], ascending=False)\n",
    "TDCS.drop(['population', 'StateFIPS', 'State','countyFIPS'], axis=1, inplace=True)\n",
    "TDDS.drop(['population', 'StateFIPS', 'State','countyFIPS'], axis=1, inplace=True)\n",
    "TDCSF = TDCS.head(5)\n",
    "TDDSF = TDDS.head(5)"
   ]
  },
  {
   "cell_type": "markdown",
   "metadata": {},
   "source": [
    "### Member Task 1 - 4 "
   ]
  },
  {
   "cell_type": "markdown",
   "metadata": {},
   "source": [
    "#### From the top 5 counties a significant peak in cases can be seen towards the end of the year of 2020"
   ]
  },
  {
   "cell_type": "code",
   "execution_count": 20,
   "metadata": {},
   "outputs": [
    {
     "data": {
      "application/vnd.plotly.v1+json": {
       "config": {
        "linkText": "Export to plot.ly",
        "plotlyServerURL": "https://plot.ly",
        "showLink": true
       },
       "data": [
        {
         "line": {
          "color": "rgba(255, 153, 51, 1.0)",
          "dash": "solid",
          "shape": "linear",
          "width": 1.3
         },
         "mode": "lines",
         "name": "2667",
         "text": "",
         "type": "scatter",
         "x": [
          "County Name",
          "2020-01-22_cases",
          "2020-01-23_cases",
          "2020-01-24_cases",
          "2020-01-25_cases",
          "2020-01-26_cases",
          "2020-01-27_cases",
          "2020-01-28_cases",
          "2020-01-29_cases",
          "2020-01-30_cases",
          "2020-01-31_cases",
          "2020-02-01_cases",
          "2020-02-02_cases",
          "2020-02-03_cases",
          "2020-02-04_cases",
          "2020-02-05_cases",
          "2020-02-06_cases",
          "2020-02-07_cases",
          "2020-02-08_cases",
          "2020-02-09_cases",
          "2020-02-10_cases",
          "2020-02-11_cases",
          "2020-02-12_cases",
          "2020-02-13_cases",
          "2020-02-14_cases",
          "2020-02-15_cases",
          "2020-02-16_cases",
          "2020-02-17_cases",
          "2020-02-18_cases",
          "2020-02-19_cases",
          "2020-02-20_cases",
          "2020-02-21_cases",
          "2020-02-22_cases",
          "2020-02-23_cases",
          "2020-02-24_cases",
          "2020-02-25_cases",
          "2020-02-26_cases",
          "2020-02-27_cases",
          "2020-02-28_cases",
          "2020-02-29_cases",
          "2020-03-01_cases",
          "2020-03-02_cases",
          "2020-03-03_cases",
          "2020-03-04_cases",
          "2020-03-05_cases",
          "2020-03-06_cases",
          "2020-03-07_cases",
          "2020-03-08_cases",
          "2020-03-09_cases",
          "2020-03-10_cases",
          "2020-03-11_cases",
          "2020-03-12_cases",
          "2020-03-13_cases",
          "2020-03-14_cases",
          "2020-03-15_cases",
          "2020-03-16_cases",
          "2020-03-17_cases",
          "2020-03-18_cases",
          "2020-03-19_cases",
          "2020-03-20_cases",
          "2020-03-21_cases",
          "2020-03-22_cases",
          "2020-03-23_cases",
          "2020-03-24_cases",
          "2020-03-25_cases",
          "2020-03-26_cases",
          "2020-03-27_cases",
          "2020-03-28_cases",
          "2020-03-29_cases",
          "2020-03-30_cases",
          "2020-03-31_cases",
          "2020-04-01_cases",
          "2020-04-02_cases",
          "2020-04-03_cases",
          "2020-04-04_cases",
          "2020-04-05_cases",
          "2020-04-06_cases",
          "2020-04-07_cases",
          "2020-04-08_cases",
          "2020-04-09_cases",
          "2020-04-10_cases",
          "2020-04-11_cases",
          "2020-04-12_cases",
          "2020-04-13_cases",
          "2020-04-14_cases",
          "2020-04-15_cases",
          "2020-04-16_cases",
          "2020-04-17_cases",
          "2020-04-18_cases",
          "2020-04-19_cases",
          "2020-04-20_cases",
          "2020-04-21_cases",
          "2020-04-22_cases",
          "2020-04-23_cases",
          "2020-04-24_cases",
          "2020-04-25_cases",
          "2020-04-26_cases",
          "2020-04-27_cases",
          "2020-04-28_cases",
          "2020-04-29_cases",
          "2020-04-30_cases",
          "2020-05-01_cases",
          "2020-05-02_cases",
          "2020-05-03_cases",
          "2020-05-04_cases",
          "2020-05-05_cases",
          "2020-05-06_cases",
          "2020-05-07_cases",
          "2020-05-08_cases",
          "2020-05-09_cases",
          "2020-05-10_cases",
          "2020-05-11_cases",
          "2020-05-12_cases",
          "2020-05-13_cases",
          "2020-05-14_cases",
          "2020-05-15_cases",
          "2020-05-16_cases",
          "2020-05-17_cases",
          "2020-05-18_cases",
          "2020-05-19_cases",
          "2020-05-20_cases",
          "2020-05-21_cases",
          "2020-05-22_cases",
          "2020-05-23_cases",
          "2020-05-24_cases",
          "2020-05-25_cases",
          "2020-05-26_cases",
          "2020-05-27_cases",
          "2020-05-28_cases",
          "2020-05-29_cases",
          "2020-05-30_cases",
          "2020-05-31_cases",
          "2020-06-01_cases",
          "2020-06-02_cases",
          "2020-06-03_cases",
          "2020-06-04_cases",
          "2020-06-05_cases",
          "2020-06-06_cases",
          "2020-06-07_cases",
          "2020-06-08_cases",
          "2020-06-09_cases",
          "2020-06-10_cases",
          "2020-06-11_cases",
          "2020-06-12_cases",
          "2020-06-13_cases",
          "2020-06-14_cases",
          "2020-06-15_cases",
          "2020-06-16_cases",
          "2020-06-17_cases",
          "2020-06-18_cases",
          "2020-06-19_cases",
          "2020-06-20_cases",
          "2020-06-21_cases",
          "2020-06-22_cases",
          "2020-06-23_cases",
          "2020-06-24_cases",
          "2020-06-25_cases",
          "2020-06-26_cases",
          "2020-06-27_cases",
          "2020-06-28_cases",
          "2020-06-29_cases",
          "2020-06-30_cases",
          "2020-07-01_cases",
          "2020-07-02_cases",
          "2020-07-03_cases",
          "2020-07-04_cases",
          "2020-07-05_cases",
          "2020-07-06_cases",
          "2020-07-07_cases",
          "2020-07-08_cases",
          "2020-07-09_cases",
          "2020-07-10_cases",
          "2020-07-11_cases",
          "2020-07-12_cases",
          "2020-07-13_cases",
          "2020-07-14_cases",
          "2020-07-15_cases",
          "2020-07-16_cases",
          "2020-07-17_cases",
          "2020-07-18_cases",
          "2020-07-19_cases",
          "2020-07-20_cases",
          "2020-07-21_cases",
          "2020-07-22_cases",
          "2020-07-23_cases",
          "2020-07-24_cases",
          "2020-07-25_cases",
          "2020-07-26_cases",
          "2020-07-27_cases",
          "2020-07-28_cases",
          "2020-07-29_cases",
          "2020-07-30_cases",
          "2020-07-31_cases",
          "2020-08-01_cases",
          "2020-08-02_cases",
          "2020-08-03_cases",
          "2020-08-04_cases",
          "2020-08-05_cases",
          "2020-08-06_cases",
          "2020-08-07_cases",
          "2020-08-08_cases",
          "2020-08-09_cases",
          "2020-08-10_cases",
          "2020-08-11_cases",
          "2020-08-12_cases",
          "2020-08-13_cases",
          "2020-08-14_cases",
          "2020-08-15_cases",
          "2020-08-16_cases",
          "2020-08-17_cases",
          "2020-08-18_cases",
          "2020-08-19_cases",
          "2020-08-20_cases",
          "2020-08-21_cases",
          "2020-08-22_cases",
          "2020-08-23_cases",
          "2020-08-24_cases",
          "2020-08-25_cases",
          "2020-08-26_cases",
          "2020-08-27_cases",
          "2020-08-28_cases",
          "2020-08-29_cases",
          "2020-08-30_cases",
          "2020-08-31_cases",
          "2020-09-01_cases",
          "2020-09-02_cases",
          "2020-09-03_cases",
          "2020-09-04_cases",
          "2020-09-05_cases",
          "2020-09-06_cases",
          "2020-09-07_cases",
          "2020-09-08_cases",
          "2020-09-09_cases",
          "2020-09-10_cases",
          "2020-09-11_cases",
          "2020-09-12_cases",
          "2020-09-13_cases",
          "2020-09-14_cases",
          "2020-09-15_cases",
          "2020-09-16_cases",
          "2020-09-17_cases",
          "2020-09-18_cases",
          "2020-09-19_cases",
          "2020-09-20_cases",
          "2020-09-21_cases",
          "2020-09-22_cases",
          "2020-09-23_cases",
          "2020-09-24_cases",
          "2020-09-25_cases",
          "2020-09-26_cases",
          "2020-09-27_cases",
          "2020-09-28_cases",
          "2020-09-29_cases",
          "2020-09-30_cases",
          "2020-10-01_cases",
          "2020-10-02_cases",
          "2020-10-03_cases",
          "2020-10-04_cases",
          "2020-10-05_cases",
          "2020-10-06_cases",
          "2020-10-07_cases",
          "2020-10-08_cases",
          "2020-10-09_cases",
          "2020-10-10_cases",
          "2020-10-11_cases",
          "2020-10-12_cases",
          "2020-10-13_cases",
          "2020-10-14_cases",
          "2020-10-15_cases",
          "2020-10-16_cases",
          "2020-10-17_cases",
          "2020-10-18_cases",
          "2020-10-19_cases",
          "2020-10-20_cases",
          "2020-10-21_cases",
          "2020-10-22_cases",
          "2020-10-23_cases",
          "2020-10-24_cases",
          "2020-10-25_cases",
          "2020-10-26_cases",
          "2020-10-27_cases",
          "2020-10-28_cases",
          "2020-10-29_cases",
          "2020-10-30_cases",
          "2020-10-31_cases",
          "2020-11-01_cases",
          "2020-11-02_cases",
          "2020-11-03_cases",
          "2020-11-04_cases",
          "2020-11-05_cases",
          "2020-11-06_cases",
          "2020-11-07_cases",
          "2020-11-08_cases",
          "2020-11-09_cases",
          "2020-11-10_cases",
          "2020-11-11_cases",
          "2020-11-12_cases",
          "2020-11-13_cases",
          "2020-11-14_cases",
          "2020-11-15_cases",
          "2020-11-16_cases",
          "2020-11-17_cases",
          "2020-11-18_cases",
          "2020-11-19_cases",
          "2020-11-20_cases",
          "2020-11-21_cases",
          "2020-11-22_cases",
          "2020-11-23_cases",
          "2020-11-24_cases",
          "2020-11-25_cases",
          "2020-11-26_cases",
          "2020-11-27_cases",
          "2020-11-28_cases",
          "2020-11-29_cases",
          "2020-11-30_cases",
          "2020-12-01_cases",
          "2020-12-02_cases",
          "2020-12-03_cases",
          "2020-12-04_cases",
          "2020-12-05_cases",
          "2020-12-06_cases",
          "2020-12-07_cases",
          "2020-12-08_cases",
          "2020-12-09_cases",
          "2020-12-10_cases",
          "2020-12-11_cases",
          "2020-12-12_cases",
          "2020-12-13_cases",
          "2020-12-14_cases",
          "2020-12-15_cases",
          "2020-12-16_cases",
          "2020-12-17_cases",
          "2020-12-18_cases",
          "2020-12-19_cases",
          "2020-12-20_cases",
          "2020-12-21_cases",
          "2020-12-22_cases",
          "2020-12-23_cases",
          "2020-12-24_cases",
          "2020-12-25_cases",
          "2020-12-26_cases",
          "2020-12-27_cases",
          "2020-12-28_cases",
          "2020-12-29_cases",
          "2020-12-30_cases",
          "2020-12-31_cases",
          "2021-01-01_cases",
          "2021-01-02_cases",
          "2021-01-03_cases",
          "2021-01-04_cases",
          "2021-01-05_cases",
          "2021-01-06_cases",
          "2021-01-07_cases",
          "2021-01-08_cases",
          "2021-01-09_cases",
          "2021-01-10_cases",
          "2021-01-11_cases",
          "2021-01-12_cases",
          "2021-01-13_cases",
          "2021-01-14_cases",
          "2021-01-15_cases",
          "2021-01-16_cases",
          "2021-01-17_cases",
          "2021-01-18_cases",
          "2021-01-19_cases",
          "2021-01-20_cases",
          "2021-01-21_cases",
          "2021-01-22_cases",
          "2021-01-23_cases",
          "2021-01-24_cases",
          "2021-01-25_cases",
          "2021-01-26_cases",
          "2021-01-27_cases",
          "2021-01-28_cases",
          "2021-01-29_cases",
          "2021-01-30_cases",
          "2021-01-31_cases",
          "2021-02-01_cases",
          "2021-02-02_cases",
          "2021-02-03_cases",
          "2021-02-04_cases",
          "2021-02-05_cases",
          "2021-02-06_cases",
          "2021-02-07_cases",
          "2021-02-08_cases",
          "2021-02-09_cases",
          "2021-02-10_cases",
          "2021-02-11_cases",
          "2021-02-12_cases",
          "2021-02-13_cases",
          "2021-02-14_cases",
          "2021-02-15_cases",
          "2021-02-16_cases",
          "2021-02-17_cases",
          "2021-02-18_cases",
          "2021-02-19_cases",
          "2021-02-20_cases",
          "2021-02-21_cases",
          "2021-02-22_cases",
          "2021-02-23_cases",
          "2021-02-24_cases",
          "2021-02-25_cases",
          "2021-02-26_cases",
          "2021-02-27_cases",
          "2021-02-28_cases",
          "2021-03-01_cases",
          "2021-03-02_cases",
          "2021-03-03_cases",
          "2021-03-04_cases",
          "2021-03-05_cases",
          "2021-03-06_cases",
          "2021-03-07_cases",
          "2021-03-08_cases",
          "2021-03-09_cases",
          "2021-03-10_cases",
          "2021-03-11_cases",
          "2021-03-12_cases",
          "2021-03-13_cases",
          "2021-03-14_cases",
          "2021-03-15_cases",
          "2021-03-16_cases",
          "2021-03-17_cases"
         ],
         "y": [
          "Harris County",
          0,
          0,
          0,
          0,
          0,
          0,
          0,
          0,
          0,
          0,
          0,
          0,
          0,
          0,
          0,
          0,
          0,
          0,
          0,
          0,
          0,
          0,
          0,
          0,
          0,
          0,
          0,
          0,
          0,
          0,
          0,
          0,
          0,
          0,
          0,
          0,
          0,
          0,
          0,
          0,
          0,
          0,
          0,
          75,
          37,
          75,
          0,
          37,
          37,
          0,
          37,
          37,
          37,
          0,
          0,
          0,
          0,
          0,
          975,
          0,
          0,
          675,
          937,
          1500,
          2475,
          675,
          975,
          8099,
          3037,
          1387,
          4387,
          6262,
          4049,
          5662,
          6674,
          4162,
          15523,
          12636,
          7312,
          26472,
          8024,
          11249,
          2550,
          4424,
          5999,
          7124,
          7837,
          5774,
          7237,
          6374,
          5774,
          6224,
          2550,
          4462,
          5699,
          5474,
          3787,
          3675,
          5962,
          6562,
          7312,
          7312,
          5887,
          4874,
          4837,
          6037,
          4349,
          4987,
          8136,
          7837,
          2812,
          11174,
          8999,
          7687,
          7349,
          8736,
          2850,
          12711,
          6374,
          8399,
          8849,
          7049,
          9111,
          9149,
          5662,
          2775,
          10724,
          9786,
          8549,
          8961,
          7912,
          2100,
          14548,
          13611,
          9036,
          12561,
          12636,
          18110,
          6112,
          12448,
          11999,
          11774,
          11699,
          12148,
          14248,
          7874,
          18898,
          15936,
          16873,
          14811,
          44507,
          42557,
          6712,
          74766,
          51519,
          51181,
          46157,
          46419,
          34046,
          4237,
          54481,
          25984,
          53881,
          46832,
          45294,
          22385,
          25647,
          44207,
          57555,
          26284,
          34008,
          40532,
          72703,
          53581,
          75028,
          62167,
          50356,
          59955,
          59468,
          46907,
          36108,
          49719,
          51931,
          54143,
          55943,
          45107,
          56018,
          46344,
          31721,
          54931,
          54968,
          64642,
          79265,
          0,
          137908,
          54856,
          53918,
          51406,
          37683,
          47394,
          53131,
          43382,
          30221,
          35321,
          37083,
          34908,
          43082,
          42145,
          20810,
          25909,
          34796,
          30146,
          35808,
          38508,
          40757,
          28534,
          29396,
          33033,
          33971,
          22235,
          53168,
          58530,
          41545,
          31421,
          33558,
          22310,
          27522,
          38058,
          34796,
          28609,
          0,
          19273,
          27109,
          27822,
          47132,
          14548,
          38358,
          52343,
          103787,
          16310,
          32133,
          30634,
          30709,
          20735,
          529771,
          19760,
          20397,
          24897,
          31909,
          12598,
          18185,
          13273,
          22797,
          13723,
          31834,
          101387,
          39895,
          19123,
          16010,
          20022,
          23435,
          14136,
          15186,
          16873,
          20060,
          11324,
          15636,
          27859,
          13273,
          22272,
          14398,
          15448,
          14923,
          16010,
          31609,
          26509,
          24372,
          37008,
          14211,
          19273,
          12936,
          34308,
          16948,
          23585,
          25984,
          18785,
          17998,
          20922,
          22497,
          30259,
          26809,
          21672,
          29471,
          23435,
          29621,
          78328,
          40532,
          31759,
          25234,
          39633,
          34533,
          20435,
          56505,
          50431,
          41245,
          54368,
          31159,
          39745,
          76940,
          69704,
          22347,
          4049,
          2437,
          101200,
          33071,
          23022,
          36070,
          67867,
          24709,
          41245,
          86352,
          23847,
          29996,
          41207,
          51181,
          74578,
          40420,
          55418,
          49906,
          60930,
          87139,
          0,
          0,
          0,
          246682,
          97300,
          40157,
          49269,
          32133,
          9861,
          2925,
          234871,
          60855,
          52718,
          72628,
          39520,
          72366,
          127559,
          93438,
          71504,
          76115,
          51219,
          0,
          194676,
          139745,
          103187,
          149981,
          45144,
          50994,
          217848,
          127972,
          116610,
          131046,
          53956,
          52381,
          93588,
          113311,
          37308,
          84552,
          41545,
          132883,
          118485,
          81065,
          90251,
          103600,
          113686,
          110874,
          80465,
          35396,
          99888,
          60067,
          46419,
          31159,
          50506,
          27784,
          15336,
          25497,
          59280,
          54068,
          89764,
          50206,
          47319,
          375,
          40570,
          2925,
          41807,
          14698,
          50919,
          28534,
          18860,
          19835,
          29846,
          120997,
          27109,
          50731,
          32321,
          89501,
          60555,
          51144,
          42332,
          35508,
          32883,
          21222,
          17735,
          19385,
          66667,
          31196,
          39933,
          27184,
          6562,
          25459
         ]
        },
        {
         "line": {
          "color": "rgba(55, 128, 191, 1.0)",
          "dash": "solid",
          "shape": "linear",
          "width": 1.3
         },
         "mode": "lines",
         "name": "2623",
         "text": "",
         "type": "scatter",
         "x": [
          "County Name",
          "2020-01-22_cases",
          "2020-01-23_cases",
          "2020-01-24_cases",
          "2020-01-25_cases",
          "2020-01-26_cases",
          "2020-01-27_cases",
          "2020-01-28_cases",
          "2020-01-29_cases",
          "2020-01-30_cases",
          "2020-01-31_cases",
          "2020-02-01_cases",
          "2020-02-02_cases",
          "2020-02-03_cases",
          "2020-02-04_cases",
          "2020-02-05_cases",
          "2020-02-06_cases",
          "2020-02-07_cases",
          "2020-02-08_cases",
          "2020-02-09_cases",
          "2020-02-10_cases",
          "2020-02-11_cases",
          "2020-02-12_cases",
          "2020-02-13_cases",
          "2020-02-14_cases",
          "2020-02-15_cases",
          "2020-02-16_cases",
          "2020-02-17_cases",
          "2020-02-18_cases",
          "2020-02-19_cases",
          "2020-02-20_cases",
          "2020-02-21_cases",
          "2020-02-22_cases",
          "2020-02-23_cases",
          "2020-02-24_cases",
          "2020-02-25_cases",
          "2020-02-26_cases",
          "2020-02-27_cases",
          "2020-02-28_cases",
          "2020-02-29_cases",
          "2020-03-01_cases",
          "2020-03-02_cases",
          "2020-03-03_cases",
          "2020-03-04_cases",
          "2020-03-05_cases",
          "2020-03-06_cases",
          "2020-03-07_cases",
          "2020-03-08_cases",
          "2020-03-09_cases",
          "2020-03-10_cases",
          "2020-03-11_cases",
          "2020-03-12_cases",
          "2020-03-13_cases",
          "2020-03-14_cases",
          "2020-03-15_cases",
          "2020-03-16_cases",
          "2020-03-17_cases",
          "2020-03-18_cases",
          "2020-03-19_cases",
          "2020-03-20_cases",
          "2020-03-21_cases",
          "2020-03-22_cases",
          "2020-03-23_cases",
          "2020-03-24_cases",
          "2020-03-25_cases",
          "2020-03-26_cases",
          "2020-03-27_cases",
          "2020-03-28_cases",
          "2020-03-29_cases",
          "2020-03-30_cases",
          "2020-03-31_cases",
          "2020-04-01_cases",
          "2020-04-02_cases",
          "2020-04-03_cases",
          "2020-04-04_cases",
          "2020-04-05_cases",
          "2020-04-06_cases",
          "2020-04-07_cases",
          "2020-04-08_cases",
          "2020-04-09_cases",
          "2020-04-10_cases",
          "2020-04-11_cases",
          "2020-04-12_cases",
          "2020-04-13_cases",
          "2020-04-14_cases",
          "2020-04-15_cases",
          "2020-04-16_cases",
          "2020-04-17_cases",
          "2020-04-18_cases",
          "2020-04-19_cases",
          "2020-04-20_cases",
          "2020-04-21_cases",
          "2020-04-22_cases",
          "2020-04-23_cases",
          "2020-04-24_cases",
          "2020-04-25_cases",
          "2020-04-26_cases",
          "2020-04-27_cases",
          "2020-04-28_cases",
          "2020-04-29_cases",
          "2020-04-30_cases",
          "2020-05-01_cases",
          "2020-05-02_cases",
          "2020-05-03_cases",
          "2020-05-04_cases",
          "2020-05-05_cases",
          "2020-05-06_cases",
          "2020-05-07_cases",
          "2020-05-08_cases",
          "2020-05-09_cases",
          "2020-05-10_cases",
          "2020-05-11_cases",
          "2020-05-12_cases",
          "2020-05-13_cases",
          "2020-05-14_cases",
          "2020-05-15_cases",
          "2020-05-16_cases",
          "2020-05-17_cases",
          "2020-05-18_cases",
          "2020-05-19_cases",
          "2020-05-20_cases",
          "2020-05-21_cases",
          "2020-05-22_cases",
          "2020-05-23_cases",
          "2020-05-24_cases",
          "2020-05-25_cases",
          "2020-05-26_cases",
          "2020-05-27_cases",
          "2020-05-28_cases",
          "2020-05-29_cases",
          "2020-05-30_cases",
          "2020-05-31_cases",
          "2020-06-01_cases",
          "2020-06-02_cases",
          "2020-06-03_cases",
          "2020-06-04_cases",
          "2020-06-05_cases",
          "2020-06-06_cases",
          "2020-06-07_cases",
          "2020-06-08_cases",
          "2020-06-09_cases",
          "2020-06-10_cases",
          "2020-06-11_cases",
          "2020-06-12_cases",
          "2020-06-13_cases",
          "2020-06-14_cases",
          "2020-06-15_cases",
          "2020-06-16_cases",
          "2020-06-17_cases",
          "2020-06-18_cases",
          "2020-06-19_cases",
          "2020-06-20_cases",
          "2020-06-21_cases",
          "2020-06-22_cases",
          "2020-06-23_cases",
          "2020-06-24_cases",
          "2020-06-25_cases",
          "2020-06-26_cases",
          "2020-06-27_cases",
          "2020-06-28_cases",
          "2020-06-29_cases",
          "2020-06-30_cases",
          "2020-07-01_cases",
          "2020-07-02_cases",
          "2020-07-03_cases",
          "2020-07-04_cases",
          "2020-07-05_cases",
          "2020-07-06_cases",
          "2020-07-07_cases",
          "2020-07-08_cases",
          "2020-07-09_cases",
          "2020-07-10_cases",
          "2020-07-11_cases",
          "2020-07-12_cases",
          "2020-07-13_cases",
          "2020-07-14_cases",
          "2020-07-15_cases",
          "2020-07-16_cases",
          "2020-07-17_cases",
          "2020-07-18_cases",
          "2020-07-19_cases",
          "2020-07-20_cases",
          "2020-07-21_cases",
          "2020-07-22_cases",
          "2020-07-23_cases",
          "2020-07-24_cases",
          "2020-07-25_cases",
          "2020-07-26_cases",
          "2020-07-27_cases",
          "2020-07-28_cases",
          "2020-07-29_cases",
          "2020-07-30_cases",
          "2020-07-31_cases",
          "2020-08-01_cases",
          "2020-08-02_cases",
          "2020-08-03_cases",
          "2020-08-04_cases",
          "2020-08-05_cases",
          "2020-08-06_cases",
          "2020-08-07_cases",
          "2020-08-08_cases",
          "2020-08-09_cases",
          "2020-08-10_cases",
          "2020-08-11_cases",
          "2020-08-12_cases",
          "2020-08-13_cases",
          "2020-08-14_cases",
          "2020-08-15_cases",
          "2020-08-16_cases",
          "2020-08-17_cases",
          "2020-08-18_cases",
          "2020-08-19_cases",
          "2020-08-20_cases",
          "2020-08-21_cases",
          "2020-08-22_cases",
          "2020-08-23_cases",
          "2020-08-24_cases",
          "2020-08-25_cases",
          "2020-08-26_cases",
          "2020-08-27_cases",
          "2020-08-28_cases",
          "2020-08-29_cases",
          "2020-08-30_cases",
          "2020-08-31_cases",
          "2020-09-01_cases",
          "2020-09-02_cases",
          "2020-09-03_cases",
          "2020-09-04_cases",
          "2020-09-05_cases",
          "2020-09-06_cases",
          "2020-09-07_cases",
          "2020-09-08_cases",
          "2020-09-09_cases",
          "2020-09-10_cases",
          "2020-09-11_cases",
          "2020-09-12_cases",
          "2020-09-13_cases",
          "2020-09-14_cases",
          "2020-09-15_cases",
          "2020-09-16_cases",
          "2020-09-17_cases",
          "2020-09-18_cases",
          "2020-09-19_cases",
          "2020-09-20_cases",
          "2020-09-21_cases",
          "2020-09-22_cases",
          "2020-09-23_cases",
          "2020-09-24_cases",
          "2020-09-25_cases",
          "2020-09-26_cases",
          "2020-09-27_cases",
          "2020-09-28_cases",
          "2020-09-29_cases",
          "2020-09-30_cases",
          "2020-10-01_cases",
          "2020-10-02_cases",
          "2020-10-03_cases",
          "2020-10-04_cases",
          "2020-10-05_cases",
          "2020-10-06_cases",
          "2020-10-07_cases",
          "2020-10-08_cases",
          "2020-10-09_cases",
          "2020-10-10_cases",
          "2020-10-11_cases",
          "2020-10-12_cases",
          "2020-10-13_cases",
          "2020-10-14_cases",
          "2020-10-15_cases",
          "2020-10-16_cases",
          "2020-10-17_cases",
          "2020-10-18_cases",
          "2020-10-19_cases",
          "2020-10-20_cases",
          "2020-10-21_cases",
          "2020-10-22_cases",
          "2020-10-23_cases",
          "2020-10-24_cases",
          "2020-10-25_cases",
          "2020-10-26_cases",
          "2020-10-27_cases",
          "2020-10-28_cases",
          "2020-10-29_cases",
          "2020-10-30_cases",
          "2020-10-31_cases",
          "2020-11-01_cases",
          "2020-11-02_cases",
          "2020-11-03_cases",
          "2020-11-04_cases",
          "2020-11-05_cases",
          "2020-11-06_cases",
          "2020-11-07_cases",
          "2020-11-08_cases",
          "2020-11-09_cases",
          "2020-11-10_cases",
          "2020-11-11_cases",
          "2020-11-12_cases",
          "2020-11-13_cases",
          "2020-11-14_cases",
          "2020-11-15_cases",
          "2020-11-16_cases",
          "2020-11-17_cases",
          "2020-11-18_cases",
          "2020-11-19_cases",
          "2020-11-20_cases",
          "2020-11-21_cases",
          "2020-11-22_cases",
          "2020-11-23_cases",
          "2020-11-24_cases",
          "2020-11-25_cases",
          "2020-11-26_cases",
          "2020-11-27_cases",
          "2020-11-28_cases",
          "2020-11-29_cases",
          "2020-11-30_cases",
          "2020-12-01_cases",
          "2020-12-02_cases",
          "2020-12-03_cases",
          "2020-12-04_cases",
          "2020-12-05_cases",
          "2020-12-06_cases",
          "2020-12-07_cases",
          "2020-12-08_cases",
          "2020-12-09_cases",
          "2020-12-10_cases",
          "2020-12-11_cases",
          "2020-12-12_cases",
          "2020-12-13_cases",
          "2020-12-14_cases",
          "2020-12-15_cases",
          "2020-12-16_cases",
          "2020-12-17_cases",
          "2020-12-18_cases",
          "2020-12-19_cases",
          "2020-12-20_cases",
          "2020-12-21_cases",
          "2020-12-22_cases",
          "2020-12-23_cases",
          "2020-12-24_cases",
          "2020-12-25_cases",
          "2020-12-26_cases",
          "2020-12-27_cases",
          "2020-12-28_cases",
          "2020-12-29_cases",
          "2020-12-30_cases",
          "2020-12-31_cases",
          "2021-01-01_cases",
          "2021-01-02_cases",
          "2021-01-03_cases",
          "2021-01-04_cases",
          "2021-01-05_cases",
          "2021-01-06_cases",
          "2021-01-07_cases",
          "2021-01-08_cases",
          "2021-01-09_cases",
          "2021-01-10_cases",
          "2021-01-11_cases",
          "2021-01-12_cases",
          "2021-01-13_cases",
          "2021-01-14_cases",
          "2021-01-15_cases",
          "2021-01-16_cases",
          "2021-01-17_cases",
          "2021-01-18_cases",
          "2021-01-19_cases",
          "2021-01-20_cases",
          "2021-01-21_cases",
          "2021-01-22_cases",
          "2021-01-23_cases",
          "2021-01-24_cases",
          "2021-01-25_cases",
          "2021-01-26_cases",
          "2021-01-27_cases",
          "2021-01-28_cases",
          "2021-01-29_cases",
          "2021-01-30_cases",
          "2021-01-31_cases",
          "2021-02-01_cases",
          "2021-02-02_cases",
          "2021-02-03_cases",
          "2021-02-04_cases",
          "2021-02-05_cases",
          "2021-02-06_cases",
          "2021-02-07_cases",
          "2021-02-08_cases",
          "2021-02-09_cases",
          "2021-02-10_cases",
          "2021-02-11_cases",
          "2021-02-12_cases",
          "2021-02-13_cases",
          "2021-02-14_cases",
          "2021-02-15_cases",
          "2021-02-16_cases",
          "2021-02-17_cases",
          "2021-02-18_cases",
          "2021-02-19_cases",
          "2021-02-20_cases",
          "2021-02-21_cases",
          "2021-02-22_cases",
          "2021-02-23_cases",
          "2021-02-24_cases",
          "2021-02-25_cases",
          "2021-02-26_cases",
          "2021-02-27_cases",
          "2021-02-28_cases",
          "2021-03-01_cases",
          "2021-03-02_cases",
          "2021-03-03_cases",
          "2021-03-04_cases",
          "2021-03-05_cases",
          "2021-03-06_cases",
          "2021-03-07_cases",
          "2021-03-08_cases",
          "2021-03-09_cases",
          "2021-03-10_cases",
          "2021-03-11_cases",
          "2021-03-12_cases",
          "2021-03-13_cases",
          "2021-03-14_cases",
          "2021-03-15_cases",
          "2021-03-16_cases",
          "2021-03-17_cases"
         ],
         "y": [
          "Dallas County",
          0,
          0,
          0,
          0,
          0,
          0,
          0,
          0,
          0,
          0,
          0,
          0,
          0,
          0,
          0,
          0,
          0,
          0,
          0,
          0,
          0,
          0,
          0,
          0,
          0,
          0,
          0,
          0,
          0,
          0,
          0,
          0,
          0,
          0,
          0,
          0,
          0,
          0,
          0,
          0,
          0,
          0,
          0,
          0,
          0,
          0,
          0,
          0,
          76,
          0,
          38,
          152,
          38,
          114,
          0,
          0,
          152,
          1487,
          762,
          0,
          0,
          3088,
          534,
          2974,
          2135,
          2440,
          2745,
          1868,
          2326,
          3126,
          3812,
          3812,
          3431,
          3584,
          3698,
          1639,
          4041,
          2402,
          4117,
          4003,
          4079,
          3012,
          2478,
          0,
          7549,
          3050,
          4727,
          0,
          9074,
          0,
          3202,
          3431,
          3088,
          3050,
          2707,
          2859,
          4003,
          3469,
          5147,
          4270,
          6824,
          7129,
          6900,
          8921,
          9035,
          9645,
          9379,
          9569,
          9493,
          9531,
          9569,
          9645,
          8997,
          9264,
          8959,
          7587,
          8159,
          7815,
          8540,
          8578,
          0,
          14068,
          7777,
          6557,
          6786,
          6519,
          7244,
          7510,
          7701,
          7625,
          8349,
          8692,
          8692,
          9798,
          9112,
          10865,
          11361,
          11018,
          10027,
          9684,
          11361,
          11437,
          11895,
          12505,
          13153,
          11514,
          11628,
          11666,
          15745,
          14945,
          15021,
          15059,
          15555,
          17308,
          16965,
          14907,
          15364,
          18910,
          21388,
          21731,
          21807,
          22913,
          20740,
          26992,
          41365,
          42051,
          40488,
          46283,
          41060,
          39230,
          45787,
          44377,
          41975,
          44758,
          42470,
          38124,
          40221,
          39154,
          45559,
          39306,
          39802,
          39116,
          27983,
          15745,
          24705,
          25124,
          48303,
          30499,
          16241,
          30080,
          26839,
          20473,
          26954,
          0,
          43157,
          14563,
          24438,
          19367,
          8769,
          16088,
          20587,
          32139,
          22150,
          11361,
          8921,
          24438,
          33740,
          28746,
          204384,
          70530,
          30004,
          15212,
          11742,
          27221,
          41403,
          12657,
          6939,
          8273,
          22036,
          8349,
          10522,
          16546,
          13725,
          17537,
          23713,
          13648,
          9531,
          7434,
          15173,
          9417,
          9950,
          5299,
          14335,
          5795,
          9874,
          6291,
          5947,
          16775,
          7244,
          11857,
          17461,
          13534,
          5947,
          29394,
          12047,
          6557,
          13191,
          26801,
          44949,
          14220,
          7510,
          7510,
          30080,
          9493,
          0,
          19367,
          9912,
          23523,
          17156,
          9379,
          13077,
          7549,
          15974,
          17537,
          15936,
          17003,
          23103,
          17308,
          20473,
          17613,
          22836,
          21121,
          12619,
          17995,
          19939,
          13382,
          20320,
          24705,
          26801,
          14907,
          15974,
          18262,
          21540,
          25543,
          23713,
          26839,
          18185,
          22798,
          26191,
          22913,
          33054,
          24933,
          30766,
          41746,
          48303,
          35303,
          15669,
          19024,
          55433,
          48837,
          64621,
          17423,
          29966,
          68776,
          62753,
          66374,
          69043,
          19863,
          57796,
          45177,
          0,
          0,
          28174,
          117537,
          26077,
          41784,
          53641,
          62409,
          24743,
          53793,
          68128,
          61228,
          32787,
          41555,
          65459,
          51582,
          25505,
          97255,
          57911,
          59055,
          74037,
          0,
          0,
          0,
          884217,
          69157,
          90202,
          95768,
          0,
          0,
          52917,
          0,
          278955,
          43042,
          87381,
          67632,
          0,
          0,
          255166,
          59855,
          106481,
          92566,
          0,
          189745,
          121769,
          85627,
          71178,
          135303,
          114144,
          75982,
          107396,
          107091,
          52497,
          0,
          60579,
          132253,
          75410,
          78727,
          73199,
          44758,
          64735,
          70835,
          63706,
          62409,
          68967,
          53641,
          61647,
          54403,
          54823,
          51697,
          43805,
          54289,
          39039,
          38849,
          34617,
          49676,
          46931,
          38887,
          32215,
          33511,
          33740,
          27831,
          9340,
          14602,
          10141,
          11056,
          12695,
          10408,
          13267,
          15707,
          30080,
          23408,
          27678,
          21731,
          0,
          28631,
          20053,
          27373,
          29775,
          17461,
          14182,
          0,
          19062,
          16203,
          0,
          28517,
          15288,
          10179,
          0,
          21883,
          11857
         ]
        },
        {
         "line": {
          "color": "rgba(50, 171, 96, 1.0)",
          "dash": "solid",
          "shape": "linear",
          "width": 1.3
         },
         "mode": "lines",
         "name": "2786",
         "text": "",
         "type": "scatter",
         "x": [
          "County Name",
          "2020-01-22_cases",
          "2020-01-23_cases",
          "2020-01-24_cases",
          "2020-01-25_cases",
          "2020-01-26_cases",
          "2020-01-27_cases",
          "2020-01-28_cases",
          "2020-01-29_cases",
          "2020-01-30_cases",
          "2020-01-31_cases",
          "2020-02-01_cases",
          "2020-02-02_cases",
          "2020-02-03_cases",
          "2020-02-04_cases",
          "2020-02-05_cases",
          "2020-02-06_cases",
          "2020-02-07_cases",
          "2020-02-08_cases",
          "2020-02-09_cases",
          "2020-02-10_cases",
          "2020-02-11_cases",
          "2020-02-12_cases",
          "2020-02-13_cases",
          "2020-02-14_cases",
          "2020-02-15_cases",
          "2020-02-16_cases",
          "2020-02-17_cases",
          "2020-02-18_cases",
          "2020-02-19_cases",
          "2020-02-20_cases",
          "2020-02-21_cases",
          "2020-02-22_cases",
          "2020-02-23_cases",
          "2020-02-24_cases",
          "2020-02-25_cases",
          "2020-02-26_cases",
          "2020-02-27_cases",
          "2020-02-28_cases",
          "2020-02-29_cases",
          "2020-03-01_cases",
          "2020-03-02_cases",
          "2020-03-03_cases",
          "2020-03-04_cases",
          "2020-03-05_cases",
          "2020-03-06_cases",
          "2020-03-07_cases",
          "2020-03-08_cases",
          "2020-03-09_cases",
          "2020-03-10_cases",
          "2020-03-11_cases",
          "2020-03-12_cases",
          "2020-03-13_cases",
          "2020-03-14_cases",
          "2020-03-15_cases",
          "2020-03-16_cases",
          "2020-03-17_cases",
          "2020-03-18_cases",
          "2020-03-19_cases",
          "2020-03-20_cases",
          "2020-03-21_cases",
          "2020-03-22_cases",
          "2020-03-23_cases",
          "2020-03-24_cases",
          "2020-03-25_cases",
          "2020-03-26_cases",
          "2020-03-27_cases",
          "2020-03-28_cases",
          "2020-03-29_cases",
          "2020-03-30_cases",
          "2020-03-31_cases",
          "2020-04-01_cases",
          "2020-04-02_cases",
          "2020-04-03_cases",
          "2020-04-04_cases",
          "2020-04-05_cases",
          "2020-04-06_cases",
          "2020-04-07_cases",
          "2020-04-08_cases",
          "2020-04-09_cases",
          "2020-04-10_cases",
          "2020-04-11_cases",
          "2020-04-12_cases",
          "2020-04-13_cases",
          "2020-04-14_cases",
          "2020-04-15_cases",
          "2020-04-16_cases",
          "2020-04-17_cases",
          "2020-04-18_cases",
          "2020-04-19_cases",
          "2020-04-20_cases",
          "2020-04-21_cases",
          "2020-04-22_cases",
          "2020-04-23_cases",
          "2020-04-24_cases",
          "2020-04-25_cases",
          "2020-04-26_cases",
          "2020-04-27_cases",
          "2020-04-28_cases",
          "2020-04-29_cases",
          "2020-04-30_cases",
          "2020-05-01_cases",
          "2020-05-02_cases",
          "2020-05-03_cases",
          "2020-05-04_cases",
          "2020-05-05_cases",
          "2020-05-06_cases",
          "2020-05-07_cases",
          "2020-05-08_cases",
          "2020-05-09_cases",
          "2020-05-10_cases",
          "2020-05-11_cases",
          "2020-05-12_cases",
          "2020-05-13_cases",
          "2020-05-14_cases",
          "2020-05-15_cases",
          "2020-05-16_cases",
          "2020-05-17_cases",
          "2020-05-18_cases",
          "2020-05-19_cases",
          "2020-05-20_cases",
          "2020-05-21_cases",
          "2020-05-22_cases",
          "2020-05-23_cases",
          "2020-05-24_cases",
          "2020-05-25_cases",
          "2020-05-26_cases",
          "2020-05-27_cases",
          "2020-05-28_cases",
          "2020-05-29_cases",
          "2020-05-30_cases",
          "2020-05-31_cases",
          "2020-06-01_cases",
          "2020-06-02_cases",
          "2020-06-03_cases",
          "2020-06-04_cases",
          "2020-06-05_cases",
          "2020-06-06_cases",
          "2020-06-07_cases",
          "2020-06-08_cases",
          "2020-06-09_cases",
          "2020-06-10_cases",
          "2020-06-11_cases",
          "2020-06-12_cases",
          "2020-06-13_cases",
          "2020-06-14_cases",
          "2020-06-15_cases",
          "2020-06-16_cases",
          "2020-06-17_cases",
          "2020-06-18_cases",
          "2020-06-19_cases",
          "2020-06-20_cases",
          "2020-06-21_cases",
          "2020-06-22_cases",
          "2020-06-23_cases",
          "2020-06-24_cases",
          "2020-06-25_cases",
          "2020-06-26_cases",
          "2020-06-27_cases",
          "2020-06-28_cases",
          "2020-06-29_cases",
          "2020-06-30_cases",
          "2020-07-01_cases",
          "2020-07-02_cases",
          "2020-07-03_cases",
          "2020-07-04_cases",
          "2020-07-05_cases",
          "2020-07-06_cases",
          "2020-07-07_cases",
          "2020-07-08_cases",
          "2020-07-09_cases",
          "2020-07-10_cases",
          "2020-07-11_cases",
          "2020-07-12_cases",
          "2020-07-13_cases",
          "2020-07-14_cases",
          "2020-07-15_cases",
          "2020-07-16_cases",
          "2020-07-17_cases",
          "2020-07-18_cases",
          "2020-07-19_cases",
          "2020-07-20_cases",
          "2020-07-21_cases",
          "2020-07-22_cases",
          "2020-07-23_cases",
          "2020-07-24_cases",
          "2020-07-25_cases",
          "2020-07-26_cases",
          "2020-07-27_cases",
          "2020-07-28_cases",
          "2020-07-29_cases",
          "2020-07-30_cases",
          "2020-07-31_cases",
          "2020-08-01_cases",
          "2020-08-02_cases",
          "2020-08-03_cases",
          "2020-08-04_cases",
          "2020-08-05_cases",
          "2020-08-06_cases",
          "2020-08-07_cases",
          "2020-08-08_cases",
          "2020-08-09_cases",
          "2020-08-10_cases",
          "2020-08-11_cases",
          "2020-08-12_cases",
          "2020-08-13_cases",
          "2020-08-14_cases",
          "2020-08-15_cases",
          "2020-08-16_cases",
          "2020-08-17_cases",
          "2020-08-18_cases",
          "2020-08-19_cases",
          "2020-08-20_cases",
          "2020-08-21_cases",
          "2020-08-22_cases",
          "2020-08-23_cases",
          "2020-08-24_cases",
          "2020-08-25_cases",
          "2020-08-26_cases",
          "2020-08-27_cases",
          "2020-08-28_cases",
          "2020-08-29_cases",
          "2020-08-30_cases",
          "2020-08-31_cases",
          "2020-09-01_cases",
          "2020-09-02_cases",
          "2020-09-03_cases",
          "2020-09-04_cases",
          "2020-09-05_cases",
          "2020-09-06_cases",
          "2020-09-07_cases",
          "2020-09-08_cases",
          "2020-09-09_cases",
          "2020-09-10_cases",
          "2020-09-11_cases",
          "2020-09-12_cases",
          "2020-09-13_cases",
          "2020-09-14_cases",
          "2020-09-15_cases",
          "2020-09-16_cases",
          "2020-09-17_cases",
          "2020-09-18_cases",
          "2020-09-19_cases",
          "2020-09-20_cases",
          "2020-09-21_cases",
          "2020-09-22_cases",
          "2020-09-23_cases",
          "2020-09-24_cases",
          "2020-09-25_cases",
          "2020-09-26_cases",
          "2020-09-27_cases",
          "2020-09-28_cases",
          "2020-09-29_cases",
          "2020-09-30_cases",
          "2020-10-01_cases",
          "2020-10-02_cases",
          "2020-10-03_cases",
          "2020-10-04_cases",
          "2020-10-05_cases",
          "2020-10-06_cases",
          "2020-10-07_cases",
          "2020-10-08_cases",
          "2020-10-09_cases",
          "2020-10-10_cases",
          "2020-10-11_cases",
          "2020-10-12_cases",
          "2020-10-13_cases",
          "2020-10-14_cases",
          "2020-10-15_cases",
          "2020-10-16_cases",
          "2020-10-17_cases",
          "2020-10-18_cases",
          "2020-10-19_cases",
          "2020-10-20_cases",
          "2020-10-21_cases",
          "2020-10-22_cases",
          "2020-10-23_cases",
          "2020-10-24_cases",
          "2020-10-25_cases",
          "2020-10-26_cases",
          "2020-10-27_cases",
          "2020-10-28_cases",
          "2020-10-29_cases",
          "2020-10-30_cases",
          "2020-10-31_cases",
          "2020-11-01_cases",
          "2020-11-02_cases",
          "2020-11-03_cases",
          "2020-11-04_cases",
          "2020-11-05_cases",
          "2020-11-06_cases",
          "2020-11-07_cases",
          "2020-11-08_cases",
          "2020-11-09_cases",
          "2020-11-10_cases",
          "2020-11-11_cases",
          "2020-11-12_cases",
          "2020-11-13_cases",
          "2020-11-14_cases",
          "2020-11-15_cases",
          "2020-11-16_cases",
          "2020-11-17_cases",
          "2020-11-18_cases",
          "2020-11-19_cases",
          "2020-11-20_cases",
          "2020-11-21_cases",
          "2020-11-22_cases",
          "2020-11-23_cases",
          "2020-11-24_cases",
          "2020-11-25_cases",
          "2020-11-26_cases",
          "2020-11-27_cases",
          "2020-11-28_cases",
          "2020-11-29_cases",
          "2020-11-30_cases",
          "2020-12-01_cases",
          "2020-12-02_cases",
          "2020-12-03_cases",
          "2020-12-04_cases",
          "2020-12-05_cases",
          "2020-12-06_cases",
          "2020-12-07_cases",
          "2020-12-08_cases",
          "2020-12-09_cases",
          "2020-12-10_cases",
          "2020-12-11_cases",
          "2020-12-12_cases",
          "2020-12-13_cases",
          "2020-12-14_cases",
          "2020-12-15_cases",
          "2020-12-16_cases",
          "2020-12-17_cases",
          "2020-12-18_cases",
          "2020-12-19_cases",
          "2020-12-20_cases",
          "2020-12-21_cases",
          "2020-12-22_cases",
          "2020-12-23_cases",
          "2020-12-24_cases",
          "2020-12-25_cases",
          "2020-12-26_cases",
          "2020-12-27_cases",
          "2020-12-28_cases",
          "2020-12-29_cases",
          "2020-12-30_cases",
          "2020-12-31_cases",
          "2021-01-01_cases",
          "2021-01-02_cases",
          "2021-01-03_cases",
          "2021-01-04_cases",
          "2021-01-05_cases",
          "2021-01-06_cases",
          "2021-01-07_cases",
          "2021-01-08_cases",
          "2021-01-09_cases",
          "2021-01-10_cases",
          "2021-01-11_cases",
          "2021-01-12_cases",
          "2021-01-13_cases",
          "2021-01-14_cases",
          "2021-01-15_cases",
          "2021-01-16_cases",
          "2021-01-17_cases",
          "2021-01-18_cases",
          "2021-01-19_cases",
          "2021-01-20_cases",
          "2021-01-21_cases",
          "2021-01-22_cases",
          "2021-01-23_cases",
          "2021-01-24_cases",
          "2021-01-25_cases",
          "2021-01-26_cases",
          "2021-01-27_cases",
          "2021-01-28_cases",
          "2021-01-29_cases",
          "2021-01-30_cases",
          "2021-01-31_cases",
          "2021-02-01_cases",
          "2021-02-02_cases",
          "2021-02-03_cases",
          "2021-02-04_cases",
          "2021-02-05_cases",
          "2021-02-06_cases",
          "2021-02-07_cases",
          "2021-02-08_cases",
          "2021-02-09_cases",
          "2021-02-10_cases",
          "2021-02-11_cases",
          "2021-02-12_cases",
          "2021-02-13_cases",
          "2021-02-14_cases",
          "2021-02-15_cases",
          "2021-02-16_cases",
          "2021-02-17_cases",
          "2021-02-18_cases",
          "2021-02-19_cases",
          "2021-02-20_cases",
          "2021-02-21_cases",
          "2021-02-22_cases",
          "2021-02-23_cases",
          "2021-02-24_cases",
          "2021-02-25_cases",
          "2021-02-26_cases",
          "2021-02-27_cases",
          "2021-02-28_cases",
          "2021-03-01_cases",
          "2021-03-02_cases",
          "2021-03-03_cases",
          "2021-03-04_cases",
          "2021-03-05_cases",
          "2021-03-06_cases",
          "2021-03-07_cases",
          "2021-03-08_cases",
          "2021-03-09_cases",
          "2021-03-10_cases",
          "2021-03-11_cases",
          "2021-03-12_cases",
          "2021-03-13_cases",
          "2021-03-14_cases",
          "2021-03-15_cases",
          "2021-03-16_cases",
          "2021-03-17_cases"
         ],
         "y": [
          "Tarrant County",
          0,
          0,
          0,
          0,
          0,
          0,
          0,
          0,
          0,
          0,
          0,
          0,
          0,
          0,
          0,
          0,
          0,
          0,
          0,
          0,
          0,
          0,
          0,
          0,
          0,
          0,
          0,
          0,
          0,
          0,
          0,
          0,
          0,
          0,
          0,
          0,
          0,
          0,
          0,
          0,
          0,
          0,
          0,
          0,
          0,
          0,
          0,
          0,
          36,
          0,
          0,
          0,
          72,
          0,
          0,
          0,
          72,
          503,
          0,
          0,
          0,
          1364,
          503,
          682,
          359,
          503,
          503,
          395,
          574,
          4235,
          538,
          1328,
          2082,
          754,
          503,
          1220,
          2333,
          2548,
          1759,
          2441,
          2943,
          682,
          2513,
          0,
          4092,
          3697,
          2943,
          0,
          2405,
          0,
          251,
          3015,
          3482,
          4630,
          5276,
          4666,
          3984,
          2584,
          2477,
          2190,
          3482,
          5097,
          4128,
          2907,
          1436,
          2225,
          4559,
          5133,
          6138,
          2979,
          17408,
          1795,
          2333,
          9548,
          4846,
          1974,
          3015,
          3482,
          4020,
          3015,
          2441,
          3302,
          3446,
          1866,
          933,
          0,
          2225,
          5420,
          3733,
          3051,
          3015,
          1795,
          754,
          3195,
          4953,
          3661,
          4379,
          3159,
          2764,
          7861,
          2297,
          5958,
          8076,
          10625,
          4774,
          2907,
          5887,
          5169,
          6461,
          9943,
          8327,
          6461,
          15937,
          6138,
          9332,
          16511,
          18557,
          12312,
          13532,
          14106,
          9440,
          21716,
          21752,
          16978,
          0,
          0,
          20998,
          29433,
          27172,
          21357,
          18665,
          22757,
          15183,
          14501,
          11558,
          19060,
          30761,
          20172,
          17014,
          10337,
          15147,
          13819,
          23798,
          31263,
          15470,
          21357,
          20962,
          12670,
          8615,
          20675,
          30007,
          24121,
          21070,
          0,
          23116,
          10876,
          28894,
          2333,
          15183,
          9763,
          27459,
          17588,
          10481,
          7071,
          14501,
          11953,
          16906,
          51543,
          24659,
          8686,
          16188,
          11845,
          6820,
          7071,
          7717,
          7609,
          3230,
          12886,
          6030,
          6927,
          7251,
          7251,
          6030,
          4235,
          5528,
          6138,
          5743,
          5528,
          8938,
          0,
          0,
          7933,
          12563,
          5635,
          6030,
          5564,
          10553,
          9189,
          13819,
          13568,
          8256,
          8579,
          11091,
          11773,
          10840,
          9835,
          11558,
          18342,
          11845,
          8615,
          6461,
          8220,
          16045,
          11594,
          9225,
          10912,
          13711,
          17301,
          7466,
          8040,
          15721,
          17660,
          9978,
          12024,
          24515,
          10373,
          16296,
          15650,
          18737,
          17732,
          17983,
          14214,
          11019,
          14178,
          18413,
          23690,
          24336,
          23690,
          21357,
          15147,
          14393,
          19131,
          17337,
          21931,
          17803,
          23582,
          16009,
          20495,
          20711,
          28536,
          29397,
          28069,
          12599,
          50790,
          30510,
          24551,
          31766,
          42355,
          25126,
          47308,
          29002,
          20711,
          69849,
          57358,
          42032,
          44795,
          51795,
          35391,
          45980,
          41027,
          0,
          0,
          0,
          37401,
          113855,
          43647,
          55312,
          57825,
          45585,
          36612,
          51687,
          57897,
          25556,
          44508,
          34063,
          45836,
          39806,
          46159,
          42462,
          36971,
          55707,
          0,
          0,
          0,
          783345,
          53625,
          53841,
          61091,
          0,
          0,
          0,
          79576,
          215039,
          45872,
          57753,
          111845,
          0,
          120639,
          156748,
          78930,
          69885,
          122398,
          0,
          195334,
          111630,
          105887,
          78500,
          65219,
          82053,
          87330,
          84350,
          108507,
          57825,
          108435,
          69239,
          74444,
          64214,
          66906,
          77351,
          62312,
          45226,
          54702,
          44042,
          90991,
          51579,
          66834,
          67767,
          67732,
          51184,
          58327,
          59691,
          50036,
          44688,
          35571,
          38011,
          32053,
          47057,
          37114,
          33022,
          33058,
          28607,
          0,
          0,
          17839,
          16152,
          41852,
          0,
          11773,
          14896,
          13209,
          16870,
          27207,
          44293,
          0,
          21285,
          14178,
          15398,
          23618,
          18162,
          14393,
          11665,
          12312,
          3051,
          8758,
          16080,
          15542,
          11594,
          10876,
          7609,
          7215,
          8256
         ]
        },
        {
         "line": {
          "color": "rgba(128, 0, 128, 1.0)",
          "dash": "solid",
          "shape": "linear",
          "width": 1.3
         },
         "mode": "lines",
         "name": "2581",
         "text": "",
         "type": "scatter",
         "x": [
          "County Name",
          "2020-01-22_cases",
          "2020-01-23_cases",
          "2020-01-24_cases",
          "2020-01-25_cases",
          "2020-01-26_cases",
          "2020-01-27_cases",
          "2020-01-28_cases",
          "2020-01-29_cases",
          "2020-01-30_cases",
          "2020-01-31_cases",
          "2020-02-01_cases",
          "2020-02-02_cases",
          "2020-02-03_cases",
          "2020-02-04_cases",
          "2020-02-05_cases",
          "2020-02-06_cases",
          "2020-02-07_cases",
          "2020-02-08_cases",
          "2020-02-09_cases",
          "2020-02-10_cases",
          "2020-02-11_cases",
          "2020-02-12_cases",
          "2020-02-13_cases",
          "2020-02-14_cases",
          "2020-02-15_cases",
          "2020-02-16_cases",
          "2020-02-17_cases",
          "2020-02-18_cases",
          "2020-02-19_cases",
          "2020-02-20_cases",
          "2020-02-21_cases",
          "2020-02-22_cases",
          "2020-02-23_cases",
          "2020-02-24_cases",
          "2020-02-25_cases",
          "2020-02-26_cases",
          "2020-02-27_cases",
          "2020-02-28_cases",
          "2020-02-29_cases",
          "2020-03-01_cases",
          "2020-03-02_cases",
          "2020-03-03_cases",
          "2020-03-04_cases",
          "2020-03-05_cases",
          "2020-03-06_cases",
          "2020-03-07_cases",
          "2020-03-08_cases",
          "2020-03-09_cases",
          "2020-03-10_cases",
          "2020-03-11_cases",
          "2020-03-12_cases",
          "2020-03-13_cases",
          "2020-03-14_cases",
          "2020-03-15_cases",
          "2020-03-16_cases",
          "2020-03-17_cases",
          "2020-03-18_cases",
          "2020-03-19_cases",
          "2020-03-20_cases",
          "2020-03-21_cases",
          "2020-03-22_cases",
          "2020-03-23_cases",
          "2020-03-24_cases",
          "2020-03-25_cases",
          "2020-03-26_cases",
          "2020-03-27_cases",
          "2020-03-28_cases",
          "2020-03-29_cases",
          "2020-03-30_cases",
          "2020-03-31_cases",
          "2020-04-01_cases",
          "2020-04-02_cases",
          "2020-04-03_cases",
          "2020-04-04_cases",
          "2020-04-05_cases",
          "2020-04-06_cases",
          "2020-04-07_cases",
          "2020-04-08_cases",
          "2020-04-09_cases",
          "2020-04-10_cases",
          "2020-04-11_cases",
          "2020-04-12_cases",
          "2020-04-13_cases",
          "2020-04-14_cases",
          "2020-04-15_cases",
          "2020-04-16_cases",
          "2020-04-17_cases",
          "2020-04-18_cases",
          "2020-04-19_cases",
          "2020-04-20_cases",
          "2020-04-21_cases",
          "2020-04-22_cases",
          "2020-04-23_cases",
          "2020-04-24_cases",
          "2020-04-25_cases",
          "2020-04-26_cases",
          "2020-04-27_cases",
          "2020-04-28_cases",
          "2020-04-29_cases",
          "2020-04-30_cases",
          "2020-05-01_cases",
          "2020-05-02_cases",
          "2020-05-03_cases",
          "2020-05-04_cases",
          "2020-05-05_cases",
          "2020-05-06_cases",
          "2020-05-07_cases",
          "2020-05-08_cases",
          "2020-05-09_cases",
          "2020-05-10_cases",
          "2020-05-11_cases",
          "2020-05-12_cases",
          "2020-05-13_cases",
          "2020-05-14_cases",
          "2020-05-15_cases",
          "2020-05-16_cases",
          "2020-05-17_cases",
          "2020-05-18_cases",
          "2020-05-19_cases",
          "2020-05-20_cases",
          "2020-05-21_cases",
          "2020-05-22_cases",
          "2020-05-23_cases",
          "2020-05-24_cases",
          "2020-05-25_cases",
          "2020-05-26_cases",
          "2020-05-27_cases",
          "2020-05-28_cases",
          "2020-05-29_cases",
          "2020-05-30_cases",
          "2020-05-31_cases",
          "2020-06-01_cases",
          "2020-06-02_cases",
          "2020-06-03_cases",
          "2020-06-04_cases",
          "2020-06-05_cases",
          "2020-06-06_cases",
          "2020-06-07_cases",
          "2020-06-08_cases",
          "2020-06-09_cases",
          "2020-06-10_cases",
          "2020-06-11_cases",
          "2020-06-12_cases",
          "2020-06-13_cases",
          "2020-06-14_cases",
          "2020-06-15_cases",
          "2020-06-16_cases",
          "2020-06-17_cases",
          "2020-06-18_cases",
          "2020-06-19_cases",
          "2020-06-20_cases",
          "2020-06-21_cases",
          "2020-06-22_cases",
          "2020-06-23_cases",
          "2020-06-24_cases",
          "2020-06-25_cases",
          "2020-06-26_cases",
          "2020-06-27_cases",
          "2020-06-28_cases",
          "2020-06-29_cases",
          "2020-06-30_cases",
          "2020-07-01_cases",
          "2020-07-02_cases",
          "2020-07-03_cases",
          "2020-07-04_cases",
          "2020-07-05_cases",
          "2020-07-06_cases",
          "2020-07-07_cases",
          "2020-07-08_cases",
          "2020-07-09_cases",
          "2020-07-10_cases",
          "2020-07-11_cases",
          "2020-07-12_cases",
          "2020-07-13_cases",
          "2020-07-14_cases",
          "2020-07-15_cases",
          "2020-07-16_cases",
          "2020-07-17_cases",
          "2020-07-18_cases",
          "2020-07-19_cases",
          "2020-07-20_cases",
          "2020-07-21_cases",
          "2020-07-22_cases",
          "2020-07-23_cases",
          "2020-07-24_cases",
          "2020-07-25_cases",
          "2020-07-26_cases",
          "2020-07-27_cases",
          "2020-07-28_cases",
          "2020-07-29_cases",
          "2020-07-30_cases",
          "2020-07-31_cases",
          "2020-08-01_cases",
          "2020-08-02_cases",
          "2020-08-03_cases",
          "2020-08-04_cases",
          "2020-08-05_cases",
          "2020-08-06_cases",
          "2020-08-07_cases",
          "2020-08-08_cases",
          "2020-08-09_cases",
          "2020-08-10_cases",
          "2020-08-11_cases",
          "2020-08-12_cases",
          "2020-08-13_cases",
          "2020-08-14_cases",
          "2020-08-15_cases",
          "2020-08-16_cases",
          "2020-08-17_cases",
          "2020-08-18_cases",
          "2020-08-19_cases",
          "2020-08-20_cases",
          "2020-08-21_cases",
          "2020-08-22_cases",
          "2020-08-23_cases",
          "2020-08-24_cases",
          "2020-08-25_cases",
          "2020-08-26_cases",
          "2020-08-27_cases",
          "2020-08-28_cases",
          "2020-08-29_cases",
          "2020-08-30_cases",
          "2020-08-31_cases",
          "2020-09-01_cases",
          "2020-09-02_cases",
          "2020-09-03_cases",
          "2020-09-04_cases",
          "2020-09-05_cases",
          "2020-09-06_cases",
          "2020-09-07_cases",
          "2020-09-08_cases",
          "2020-09-09_cases",
          "2020-09-10_cases",
          "2020-09-11_cases",
          "2020-09-12_cases",
          "2020-09-13_cases",
          "2020-09-14_cases",
          "2020-09-15_cases",
          "2020-09-16_cases",
          "2020-09-17_cases",
          "2020-09-18_cases",
          "2020-09-19_cases",
          "2020-09-20_cases",
          "2020-09-21_cases",
          "2020-09-22_cases",
          "2020-09-23_cases",
          "2020-09-24_cases",
          "2020-09-25_cases",
          "2020-09-26_cases",
          "2020-09-27_cases",
          "2020-09-28_cases",
          "2020-09-29_cases",
          "2020-09-30_cases",
          "2020-10-01_cases",
          "2020-10-02_cases",
          "2020-10-03_cases",
          "2020-10-04_cases",
          "2020-10-05_cases",
          "2020-10-06_cases",
          "2020-10-07_cases",
          "2020-10-08_cases",
          "2020-10-09_cases",
          "2020-10-10_cases",
          "2020-10-11_cases",
          "2020-10-12_cases",
          "2020-10-13_cases",
          "2020-10-14_cases",
          "2020-10-15_cases",
          "2020-10-16_cases",
          "2020-10-17_cases",
          "2020-10-18_cases",
          "2020-10-19_cases",
          "2020-10-20_cases",
          "2020-10-21_cases",
          "2020-10-22_cases",
          "2020-10-23_cases",
          "2020-10-24_cases",
          "2020-10-25_cases",
          "2020-10-26_cases",
          "2020-10-27_cases",
          "2020-10-28_cases",
          "2020-10-29_cases",
          "2020-10-30_cases",
          "2020-10-31_cases",
          "2020-11-01_cases",
          "2020-11-02_cases",
          "2020-11-03_cases",
          "2020-11-04_cases",
          "2020-11-05_cases",
          "2020-11-06_cases",
          "2020-11-07_cases",
          "2020-11-08_cases",
          "2020-11-09_cases",
          "2020-11-10_cases",
          "2020-11-11_cases",
          "2020-11-12_cases",
          "2020-11-13_cases",
          "2020-11-14_cases",
          "2020-11-15_cases",
          "2020-11-16_cases",
          "2020-11-17_cases",
          "2020-11-18_cases",
          "2020-11-19_cases",
          "2020-11-20_cases",
          "2020-11-21_cases",
          "2020-11-22_cases",
          "2020-11-23_cases",
          "2020-11-24_cases",
          "2020-11-25_cases",
          "2020-11-26_cases",
          "2020-11-27_cases",
          "2020-11-28_cases",
          "2020-11-29_cases",
          "2020-11-30_cases",
          "2020-12-01_cases",
          "2020-12-02_cases",
          "2020-12-03_cases",
          "2020-12-04_cases",
          "2020-12-05_cases",
          "2020-12-06_cases",
          "2020-12-07_cases",
          "2020-12-08_cases",
          "2020-12-09_cases",
          "2020-12-10_cases",
          "2020-12-11_cases",
          "2020-12-12_cases",
          "2020-12-13_cases",
          "2020-12-14_cases",
          "2020-12-15_cases",
          "2020-12-16_cases",
          "2020-12-17_cases",
          "2020-12-18_cases",
          "2020-12-19_cases",
          "2020-12-20_cases",
          "2020-12-21_cases",
          "2020-12-22_cases",
          "2020-12-23_cases",
          "2020-12-24_cases",
          "2020-12-25_cases",
          "2020-12-26_cases",
          "2020-12-27_cases",
          "2020-12-28_cases",
          "2020-12-29_cases",
          "2020-12-30_cases",
          "2020-12-31_cases",
          "2021-01-01_cases",
          "2021-01-02_cases",
          "2021-01-03_cases",
          "2021-01-04_cases",
          "2021-01-05_cases",
          "2021-01-06_cases",
          "2021-01-07_cases",
          "2021-01-08_cases",
          "2021-01-09_cases",
          "2021-01-10_cases",
          "2021-01-11_cases",
          "2021-01-12_cases",
          "2021-01-13_cases",
          "2021-01-14_cases",
          "2021-01-15_cases",
          "2021-01-16_cases",
          "2021-01-17_cases",
          "2021-01-18_cases",
          "2021-01-19_cases",
          "2021-01-20_cases",
          "2021-01-21_cases",
          "2021-01-22_cases",
          "2021-01-23_cases",
          "2021-01-24_cases",
          "2021-01-25_cases",
          "2021-01-26_cases",
          "2021-01-27_cases",
          "2021-01-28_cases",
          "2021-01-29_cases",
          "2021-01-30_cases",
          "2021-01-31_cases",
          "2021-02-01_cases",
          "2021-02-02_cases",
          "2021-02-03_cases",
          "2021-02-04_cases",
          "2021-02-05_cases",
          "2021-02-06_cases",
          "2021-02-07_cases",
          "2021-02-08_cases",
          "2021-02-09_cases",
          "2021-02-10_cases",
          "2021-02-11_cases",
          "2021-02-12_cases",
          "2021-02-13_cases",
          "2021-02-14_cases",
          "2021-02-15_cases",
          "2021-02-16_cases",
          "2021-02-17_cases",
          "2021-02-18_cases",
          "2021-02-19_cases",
          "2021-02-20_cases",
          "2021-02-21_cases",
          "2021-02-22_cases",
          "2021-02-23_cases",
          "2021-02-24_cases",
          "2021-02-25_cases",
          "2021-02-26_cases",
          "2021-02-27_cases",
          "2021-02-28_cases",
          "2021-03-01_cases",
          "2021-03-02_cases",
          "2021-03-03_cases",
          "2021-03-04_cases",
          "2021-03-05_cases",
          "2021-03-06_cases",
          "2021-03-07_cases",
          "2021-03-08_cases",
          "2021-03-09_cases",
          "2021-03-10_cases",
          "2021-03-11_cases",
          "2021-03-12_cases",
          "2021-03-13_cases",
          "2021-03-14_cases",
          "2021-03-15_cases",
          "2021-03-16_cases",
          "2021-03-17_cases"
         ],
         "y": [
          "Bexar County",
          0,
          0,
          0,
          0,
          0,
          0,
          0,
          0,
          0,
          0,
          0,
          0,
          0,
          0,
          0,
          0,
          0,
          0,
          0,
          0,
          0,
          0,
          0,
          0,
          0,
          0,
          0,
          0,
          0,
          0,
          0,
          0,
          0,
          0,
          0,
          0,
          0,
          0,
          0,
          0,
          0,
          0,
          0,
          0,
          0,
          0,
          0,
          0,
          0,
          0,
          0,
          0,
          39,
          77,
          0,
          0,
          39,
          77,
          232,
          387,
          77,
          1279,
          465,
          581,
          1124,
          271,
          775,
          659,
          426,
          1511,
          852,
          969,
          3410,
          1627,
          1007,
          1782,
          1395,
          2402,
          2363,
          1937,
          2247,
          1898,
          852,
          0,
          3719,
          1085,
          1589,
          0,
          2170,
          0,
          542,
          1976,
          1782,
          1589,
          1085,
          1395,
          891,
          814,
          1240,
          736,
          1860,
          3991,
          4184,
          1085,
          1511,
          969,
          3255,
          1705,
          1162,
          2557,
          0,
          736,
          852,
          1317,
          2518,
          3061,
          0,
          0,
          2790,
          3332,
          1705,
          1898,
          814,
          1007,
          930,
          271,
          1201,
          1744,
          2247,
          2053,
          7323,
          194,
          349,
          1666,
          2751,
          2518,
          4843,
          5695,
          814,
          852,
          6974,
          5231,
          7439,
          6664,
          8911,
          5850,
          1705,
          17009,
          10306,
          15808,
          15963,
          14800,
          20845,
          10616,
          12050,
          13444,
          24719,
          15692,
          30802,
          19179,
          25184,
          49128,
          17009,
          14491,
          51685,
          13212,
          7671,
          13599,
          30143,
          32739,
          36962,
          35761,
          20728,
          19799,
          21891,
          51647,
          213134,
          18520,
          42929,
          85316,
          18636,
          61217,
          25533,
          41767,
          11585,
          29368,
          15227,
          13754,
          59899,
          36652,
          51259,
          21310,
          14491,
          0,
          0,
          5269,
          13173,
          12592,
          13948,
          8989,
          9764,
          6819,
          7943,
          11275,
          11933,
          2325,
          6587,
          2286,
          2712,
          5540,
          0,
          7400,
          7207,
          19915,
          3836,
          4223,
          4804,
          5192,
          7323,
          10539,
          8059,
          4262,
          1550,
          8601,
          9686,
          6083,
          4417,
          5076,
          8834,
          0,
          7478,
          5850,
          2673,
          4572,
          4804,
          66525,
          3913,
          4456,
          5928,
          5463,
          6277,
          6703,
          100000,
          3952,
          7594,
          6005,
          6858,
          8679,
          3874,
          110422,
          2441,
          18171,
          6005,
          4029,
          3991,
          5618,
          19140,
          2635,
          7478,
          8291,
          6587,
          7400,
          3100,
          3487,
          1782,
          6664,
          5114,
          8679,
          7129,
          7245,
          104572,
          3797,
          6509,
          8253,
          8020,
          9570,
          8330,
          5424,
          5850,
          6742,
          10887,
          7788,
          6858,
          10577,
          7400,
          6470,
          11546,
          7168,
          7555,
          8446,
          9221,
          10151,
          16157,
          12863,
          0,
          13057,
          26773,
          15072,
          9647,
          7516,
          11313,
          14181,
          18714,
          36265,
          19062,
          41728,
          27470,
          43665,
          39985,
          0,
          0,
          64355,
          63774,
          43278,
          17513,
          58078,
          29446,
          50988,
          26889,
          42270,
          46881,
          50136,
          28284,
          45486,
          42232,
          38435,
          27354,
          23208,
          52654,
          0,
          54088,
          98489,
          28826,
          51995,
          0,
          49709,
          848547,
          11662,
          0,
          0,
          210190,
          1666,
          81403,
          51259,
          0,
          0,
          142193,
          86633,
          40953,
          83379,
          81248,
          45331,
          41806,
          50407,
          119024,
          61410,
          89229,
          53390,
          70864,
          111933,
          110035,
          85703,
          49632,
          92793,
          32933,
          97133,
          87059,
          65246,
          19644,
          80666,
          31809,
          51957,
          67881,
          59861,
          82177,
          134289,
          92057,
          48818,
          39210,
          33320,
          66796,
          24215,
          84851,
          9105,
          52228,
          25571,
          34948,
          27741,
          26501,
          0,
          0,
          0,
          0,
          0,
          0,
          85897,
          135529,
          8911,
          10461,
          14374,
          15653,
          19411,
          18675,
          31344,
          11158,
          9647,
          7361,
          9376,
          11120,
          5308,
          25068,
          8911,
          6625,
          3719,
          14181,
          6122,
          3255,
          38396,
          5967,
          7439,
          7207
         ]
        },
        {
         "line": {
          "color": "rgba(219, 64, 82, 1.0)",
          "dash": "solid",
          "shape": "linear",
          "width": 1.3
         },
         "mode": "lines",
         "name": "2793",
         "text": "",
         "type": "scatter",
         "x": [
          "County Name",
          "2020-01-22_cases",
          "2020-01-23_cases",
          "2020-01-24_cases",
          "2020-01-25_cases",
          "2020-01-26_cases",
          "2020-01-27_cases",
          "2020-01-28_cases",
          "2020-01-29_cases",
          "2020-01-30_cases",
          "2020-01-31_cases",
          "2020-02-01_cases",
          "2020-02-02_cases",
          "2020-02-03_cases",
          "2020-02-04_cases",
          "2020-02-05_cases",
          "2020-02-06_cases",
          "2020-02-07_cases",
          "2020-02-08_cases",
          "2020-02-09_cases",
          "2020-02-10_cases",
          "2020-02-11_cases",
          "2020-02-12_cases",
          "2020-02-13_cases",
          "2020-02-14_cases",
          "2020-02-15_cases",
          "2020-02-16_cases",
          "2020-02-17_cases",
          "2020-02-18_cases",
          "2020-02-19_cases",
          "2020-02-20_cases",
          "2020-02-21_cases",
          "2020-02-22_cases",
          "2020-02-23_cases",
          "2020-02-24_cases",
          "2020-02-25_cases",
          "2020-02-26_cases",
          "2020-02-27_cases",
          "2020-02-28_cases",
          "2020-02-29_cases",
          "2020-03-01_cases",
          "2020-03-02_cases",
          "2020-03-03_cases",
          "2020-03-04_cases",
          "2020-03-05_cases",
          "2020-03-06_cases",
          "2020-03-07_cases",
          "2020-03-08_cases",
          "2020-03-09_cases",
          "2020-03-10_cases",
          "2020-03-11_cases",
          "2020-03-12_cases",
          "2020-03-13_cases",
          "2020-03-14_cases",
          "2020-03-15_cases",
          "2020-03-16_cases",
          "2020-03-17_cases",
          "2020-03-18_cases",
          "2020-03-19_cases",
          "2020-03-20_cases",
          "2020-03-21_cases",
          "2020-03-22_cases",
          "2020-03-23_cases",
          "2020-03-24_cases",
          "2020-03-25_cases",
          "2020-03-26_cases",
          "2020-03-27_cases",
          "2020-03-28_cases",
          "2020-03-29_cases",
          "2020-03-30_cases",
          "2020-03-31_cases",
          "2020-04-01_cases",
          "2020-04-02_cases",
          "2020-04-03_cases",
          "2020-04-04_cases",
          "2020-04-05_cases",
          "2020-04-06_cases",
          "2020-04-07_cases",
          "2020-04-08_cases",
          "2020-04-09_cases",
          "2020-04-10_cases",
          "2020-04-11_cases",
          "2020-04-12_cases",
          "2020-04-13_cases",
          "2020-04-14_cases",
          "2020-04-15_cases",
          "2020-04-16_cases",
          "2020-04-17_cases",
          "2020-04-18_cases",
          "2020-04-19_cases",
          "2020-04-20_cases",
          "2020-04-21_cases",
          "2020-04-22_cases",
          "2020-04-23_cases",
          "2020-04-24_cases",
          "2020-04-25_cases",
          "2020-04-26_cases",
          "2020-04-27_cases",
          "2020-04-28_cases",
          "2020-04-29_cases",
          "2020-04-30_cases",
          "2020-05-01_cases",
          "2020-05-02_cases",
          "2020-05-03_cases",
          "2020-05-04_cases",
          "2020-05-05_cases",
          "2020-05-06_cases",
          "2020-05-07_cases",
          "2020-05-08_cases",
          "2020-05-09_cases",
          "2020-05-10_cases",
          "2020-05-11_cases",
          "2020-05-12_cases",
          "2020-05-13_cases",
          "2020-05-14_cases",
          "2020-05-15_cases",
          "2020-05-16_cases",
          "2020-05-17_cases",
          "2020-05-18_cases",
          "2020-05-19_cases",
          "2020-05-20_cases",
          "2020-05-21_cases",
          "2020-05-22_cases",
          "2020-05-23_cases",
          "2020-05-24_cases",
          "2020-05-25_cases",
          "2020-05-26_cases",
          "2020-05-27_cases",
          "2020-05-28_cases",
          "2020-05-29_cases",
          "2020-05-30_cases",
          "2020-05-31_cases",
          "2020-06-01_cases",
          "2020-06-02_cases",
          "2020-06-03_cases",
          "2020-06-04_cases",
          "2020-06-05_cases",
          "2020-06-06_cases",
          "2020-06-07_cases",
          "2020-06-08_cases",
          "2020-06-09_cases",
          "2020-06-10_cases",
          "2020-06-11_cases",
          "2020-06-12_cases",
          "2020-06-13_cases",
          "2020-06-14_cases",
          "2020-06-15_cases",
          "2020-06-16_cases",
          "2020-06-17_cases",
          "2020-06-18_cases",
          "2020-06-19_cases",
          "2020-06-20_cases",
          "2020-06-21_cases",
          "2020-06-22_cases",
          "2020-06-23_cases",
          "2020-06-24_cases",
          "2020-06-25_cases",
          "2020-06-26_cases",
          "2020-06-27_cases",
          "2020-06-28_cases",
          "2020-06-29_cases",
          "2020-06-30_cases",
          "2020-07-01_cases",
          "2020-07-02_cases",
          "2020-07-03_cases",
          "2020-07-04_cases",
          "2020-07-05_cases",
          "2020-07-06_cases",
          "2020-07-07_cases",
          "2020-07-08_cases",
          "2020-07-09_cases",
          "2020-07-10_cases",
          "2020-07-11_cases",
          "2020-07-12_cases",
          "2020-07-13_cases",
          "2020-07-14_cases",
          "2020-07-15_cases",
          "2020-07-16_cases",
          "2020-07-17_cases",
          "2020-07-18_cases",
          "2020-07-19_cases",
          "2020-07-20_cases",
          "2020-07-21_cases",
          "2020-07-22_cases",
          "2020-07-23_cases",
          "2020-07-24_cases",
          "2020-07-25_cases",
          "2020-07-26_cases",
          "2020-07-27_cases",
          "2020-07-28_cases",
          "2020-07-29_cases",
          "2020-07-30_cases",
          "2020-07-31_cases",
          "2020-08-01_cases",
          "2020-08-02_cases",
          "2020-08-03_cases",
          "2020-08-04_cases",
          "2020-08-05_cases",
          "2020-08-06_cases",
          "2020-08-07_cases",
          "2020-08-08_cases",
          "2020-08-09_cases",
          "2020-08-10_cases",
          "2020-08-11_cases",
          "2020-08-12_cases",
          "2020-08-13_cases",
          "2020-08-14_cases",
          "2020-08-15_cases",
          "2020-08-16_cases",
          "2020-08-17_cases",
          "2020-08-18_cases",
          "2020-08-19_cases",
          "2020-08-20_cases",
          "2020-08-21_cases",
          "2020-08-22_cases",
          "2020-08-23_cases",
          "2020-08-24_cases",
          "2020-08-25_cases",
          "2020-08-26_cases",
          "2020-08-27_cases",
          "2020-08-28_cases",
          "2020-08-29_cases",
          "2020-08-30_cases",
          "2020-08-31_cases",
          "2020-09-01_cases",
          "2020-09-02_cases",
          "2020-09-03_cases",
          "2020-09-04_cases",
          "2020-09-05_cases",
          "2020-09-06_cases",
          "2020-09-07_cases",
          "2020-09-08_cases",
          "2020-09-09_cases",
          "2020-09-10_cases",
          "2020-09-11_cases",
          "2020-09-12_cases",
          "2020-09-13_cases",
          "2020-09-14_cases",
          "2020-09-15_cases",
          "2020-09-16_cases",
          "2020-09-17_cases",
          "2020-09-18_cases",
          "2020-09-19_cases",
          "2020-09-20_cases",
          "2020-09-21_cases",
          "2020-09-22_cases",
          "2020-09-23_cases",
          "2020-09-24_cases",
          "2020-09-25_cases",
          "2020-09-26_cases",
          "2020-09-27_cases",
          "2020-09-28_cases",
          "2020-09-29_cases",
          "2020-09-30_cases",
          "2020-10-01_cases",
          "2020-10-02_cases",
          "2020-10-03_cases",
          "2020-10-04_cases",
          "2020-10-05_cases",
          "2020-10-06_cases",
          "2020-10-07_cases",
          "2020-10-08_cases",
          "2020-10-09_cases",
          "2020-10-10_cases",
          "2020-10-11_cases",
          "2020-10-12_cases",
          "2020-10-13_cases",
          "2020-10-14_cases",
          "2020-10-15_cases",
          "2020-10-16_cases",
          "2020-10-17_cases",
          "2020-10-18_cases",
          "2020-10-19_cases",
          "2020-10-20_cases",
          "2020-10-21_cases",
          "2020-10-22_cases",
          "2020-10-23_cases",
          "2020-10-24_cases",
          "2020-10-25_cases",
          "2020-10-26_cases",
          "2020-10-27_cases",
          "2020-10-28_cases",
          "2020-10-29_cases",
          "2020-10-30_cases",
          "2020-10-31_cases",
          "2020-11-01_cases",
          "2020-11-02_cases",
          "2020-11-03_cases",
          "2020-11-04_cases",
          "2020-11-05_cases",
          "2020-11-06_cases",
          "2020-11-07_cases",
          "2020-11-08_cases",
          "2020-11-09_cases",
          "2020-11-10_cases",
          "2020-11-11_cases",
          "2020-11-12_cases",
          "2020-11-13_cases",
          "2020-11-14_cases",
          "2020-11-15_cases",
          "2020-11-16_cases",
          "2020-11-17_cases",
          "2020-11-18_cases",
          "2020-11-19_cases",
          "2020-11-20_cases",
          "2020-11-21_cases",
          "2020-11-22_cases",
          "2020-11-23_cases",
          "2020-11-24_cases",
          "2020-11-25_cases",
          "2020-11-26_cases",
          "2020-11-27_cases",
          "2020-11-28_cases",
          "2020-11-29_cases",
          "2020-11-30_cases",
          "2020-12-01_cases",
          "2020-12-02_cases",
          "2020-12-03_cases",
          "2020-12-04_cases",
          "2020-12-05_cases",
          "2020-12-06_cases",
          "2020-12-07_cases",
          "2020-12-08_cases",
          "2020-12-09_cases",
          "2020-12-10_cases",
          "2020-12-11_cases",
          "2020-12-12_cases",
          "2020-12-13_cases",
          "2020-12-14_cases",
          "2020-12-15_cases",
          "2020-12-16_cases",
          "2020-12-17_cases",
          "2020-12-18_cases",
          "2020-12-19_cases",
          "2020-12-20_cases",
          "2020-12-21_cases",
          "2020-12-22_cases",
          "2020-12-23_cases",
          "2020-12-24_cases",
          "2020-12-25_cases",
          "2020-12-26_cases",
          "2020-12-27_cases",
          "2020-12-28_cases",
          "2020-12-29_cases",
          "2020-12-30_cases",
          "2020-12-31_cases",
          "2021-01-01_cases",
          "2021-01-02_cases",
          "2021-01-03_cases",
          "2021-01-04_cases",
          "2021-01-05_cases",
          "2021-01-06_cases",
          "2021-01-07_cases",
          "2021-01-08_cases",
          "2021-01-09_cases",
          "2021-01-10_cases",
          "2021-01-11_cases",
          "2021-01-12_cases",
          "2021-01-13_cases",
          "2021-01-14_cases",
          "2021-01-15_cases",
          "2021-01-16_cases",
          "2021-01-17_cases",
          "2021-01-18_cases",
          "2021-01-19_cases",
          "2021-01-20_cases",
          "2021-01-21_cases",
          "2021-01-22_cases",
          "2021-01-23_cases",
          "2021-01-24_cases",
          "2021-01-25_cases",
          "2021-01-26_cases",
          "2021-01-27_cases",
          "2021-01-28_cases",
          "2021-01-29_cases",
          "2021-01-30_cases",
          "2021-01-31_cases",
          "2021-02-01_cases",
          "2021-02-02_cases",
          "2021-02-03_cases",
          "2021-02-04_cases",
          "2021-02-05_cases",
          "2021-02-06_cases",
          "2021-02-07_cases",
          "2021-02-08_cases",
          "2021-02-09_cases",
          "2021-02-10_cases",
          "2021-02-11_cases",
          "2021-02-12_cases",
          "2021-02-13_cases",
          "2021-02-14_cases",
          "2021-02-15_cases",
          "2021-02-16_cases",
          "2021-02-17_cases",
          "2021-02-18_cases",
          "2021-02-19_cases",
          "2021-02-20_cases",
          "2021-02-21_cases",
          "2021-02-22_cases",
          "2021-02-23_cases",
          "2021-02-24_cases",
          "2021-02-25_cases",
          "2021-02-26_cases",
          "2021-02-27_cases",
          "2021-02-28_cases",
          "2021-03-01_cases",
          "2021-03-02_cases",
          "2021-03-03_cases",
          "2021-03-04_cases",
          "2021-03-05_cases",
          "2021-03-06_cases",
          "2021-03-07_cases",
          "2021-03-08_cases",
          "2021-03-09_cases",
          "2021-03-10_cases",
          "2021-03-11_cases",
          "2021-03-12_cases",
          "2021-03-13_cases",
          "2021-03-14_cases",
          "2021-03-15_cases",
          "2021-03-16_cases",
          "2021-03-17_cases"
         ],
         "y": [
          "Travis County",
          0,
          0,
          0,
          0,
          0,
          0,
          0,
          0,
          0,
          0,
          0,
          0,
          0,
          0,
          0,
          0,
          0,
          0,
          0,
          0,
          0,
          0,
          0,
          0,
          0,
          0,
          0,
          0,
          0,
          0,
          0,
          0,
          0,
          0,
          0,
          0,
          0,
          0,
          0,
          0,
          0,
          0,
          0,
          0,
          0,
          0,
          0,
          0,
          0,
          0,
          0,
          36,
          0,
          0,
          36,
          179,
          501,
          716,
          0,
          0,
          0,
          1611,
          430,
          752,
          644,
          823,
          0,
          680,
          752,
          215,
          1361,
          2184,
          4475,
          1074,
          859,
          644,
          1862,
          1540,
          1611,
          1719,
          1933,
          1074,
          2936,
          0,
          4332,
          1862,
          1611,
          0,
          1217,
          0,
          2363,
          2112,
          1074,
          1754,
          2399,
          609,
          573,
          1862,
          2685,
          1862,
          2256,
          1038,
          1110,
          1504,
          2148,
          2148,
          2506,
          2005,
          2470,
          859,
          1146,
          1575,
          2291,
          1898,
          2041,
          1289,
          1575,
          1217,
          2793,
          2077,
          1754,
          2435,
          1754,
          967,
          2112,
          3079,
          1826,
          2614,
          2399,
          2220,
          1647,
          1432,
          3151,
          2614,
          2435,
          2184,
          1933,
          1647,
          1253,
          4225,
          5764,
          4762,
          4619,
          2721,
          5263,
          3008,
          4261,
          3831,
          7877,
          0,
          10562,
          14966,
          18117,
          4619,
          9202,
          11386,
          6552,
          0,
          26065,
          22771,
          18188,
          19979,
          21375,
          20444,
          11242,
          4368,
          19620,
          8844,
          17257,
          26960,
          25170,
          15754,
          11386,
          5943,
          23523,
          19799,
          20480,
          14787,
          8306,
          8557,
          6874,
          5192,
          21590,
          10813,
          8700,
          8521,
          8020,
          2828,
          8593,
          8306,
          8414,
          9953,
          10025,
          0,
          16792,
          11994,
          9774,
          7232,
          8306,
          8020,
          4368,
          4368,
          8199,
          10598,
          6158,
          10634,
          5442,
          4941,
          4869,
          9488,
          12531,
          10849,
          10419,
          7376,
          2900,
          3437,
          5514,
          4547,
          3580,
          4368,
          2435,
          322,
          4225,
          2936,
          251,
          3545,
          3724,
          4583,
          2757,
          1361,
          2470,
          3079,
          2936,
          7805,
          3616,
          1898,
          4404,
          2685,
          6624,
          5084,
          3903,
          5836,
          2256,
          107,
          5550,
          1683,
          3652,
          5693,
          6051,
          2041,
          4368,
          3258,
          2793,
          3330,
          2220,
          2542,
          3688,
          1754,
          2077,
          3401,
          1611,
          2793,
          3222,
          1217,
          2363,
          4762,
          0,
          7268,
          3115,
          3903,
          3974,
          1719,
          3473,
          3795,
          2470,
          3545,
          3008,
          2936,
          2077,
          3652,
          4368,
          2721,
          3294,
          2900,
          4261,
          2757,
          2972,
          5299,
          5514,
          5120,
          6445,
          3151,
          5442,
          7662,
          6337,
          7519,
          6839,
          8736,
          10741,
          3867,
          5621,
          8987,
          10956,
          10383,
          13176,
          6839,
          9345,
          11386,
          13104,
          4225,
          0,
          15324,
          8306,
          5263,
          11887,
          13605,
          10025,
          8235,
          10705,
          12854,
          10168,
          9739,
          12710,
          9166,
          15288,
          13677,
          8414,
          10920,
          14859,
          21948,
          13140,
          0,
          0,
          0,
          59291,
          19227,
          24060,
          13426,
          0,
          0,
          40530,
          7734,
          18869,
          24955,
          19549,
          14357,
          0,
          34479,
          14250,
          26924,
          20193,
          23738,
          0,
          52667,
          16613,
          0,
          34193,
          0,
          52309,
          39671,
          24705,
          10562,
          14429,
          24561,
          29860,
          26280,
          25600,
          19334,
          13140,
          10920,
          19477,
          25134,
          23272,
          25313,
          16255,
          9667,
          15789,
          24239,
          24382,
          19406,
          19083,
          9381,
          7053,
          7447,
          16040,
          12388,
          12424,
          10276,
          9989,
          0,
          0,
          0,
          0,
          0,
          0,
          0,
          0,
          9703,
          14214,
          14035,
          8485,
          7590,
          11278,
          9130,
          680,
          9488,
          6695,
          6660,
          3258,
          2936,
          2148,
          4690,
          3724,
          4046,
          8127,
          5335,
          3509,
          2828,
          2757,
          6588,
          3795
         ]
        }
       ],
       "layout": {
        "legend": {
         "bgcolor": "#F5F6F9",
         "font": {
          "color": "#4D5663"
         }
        },
        "paper_bgcolor": "#F5F6F9",
        "plot_bgcolor": "#F5F6F9",
        "template": {
         "data": {
          "bar": [
           {
            "error_x": {
             "color": "#2a3f5f"
            },
            "error_y": {
             "color": "#2a3f5f"
            },
            "marker": {
             "line": {
              "color": "#E5ECF6",
              "width": 0.5
             }
            },
            "type": "bar"
           }
          ],
          "barpolar": [
           {
            "marker": {
             "line": {
              "color": "#E5ECF6",
              "width": 0.5
             }
            },
            "type": "barpolar"
           }
          ],
          "carpet": [
           {
            "aaxis": {
             "endlinecolor": "#2a3f5f",
             "gridcolor": "white",
             "linecolor": "white",
             "minorgridcolor": "white",
             "startlinecolor": "#2a3f5f"
            },
            "baxis": {
             "endlinecolor": "#2a3f5f",
             "gridcolor": "white",
             "linecolor": "white",
             "minorgridcolor": "white",
             "startlinecolor": "#2a3f5f"
            },
            "type": "carpet"
           }
          ],
          "choropleth": [
           {
            "colorbar": {
             "outlinewidth": 0,
             "ticks": ""
            },
            "type": "choropleth"
           }
          ],
          "contour": [
           {
            "colorbar": {
             "outlinewidth": 0,
             "ticks": ""
            },
            "colorscale": [
             [
              0,
              "#0d0887"
             ],
             [
              0.1111111111111111,
              "#46039f"
             ],
             [
              0.2222222222222222,
              "#7201a8"
             ],
             [
              0.3333333333333333,
              "#9c179e"
             ],
             [
              0.4444444444444444,
              "#bd3786"
             ],
             [
              0.5555555555555556,
              "#d8576b"
             ],
             [
              0.6666666666666666,
              "#ed7953"
             ],
             [
              0.7777777777777778,
              "#fb9f3a"
             ],
             [
              0.8888888888888888,
              "#fdca26"
             ],
             [
              1,
              "#f0f921"
             ]
            ],
            "type": "contour"
           }
          ],
          "contourcarpet": [
           {
            "colorbar": {
             "outlinewidth": 0,
             "ticks": ""
            },
            "type": "contourcarpet"
           }
          ],
          "heatmap": [
           {
            "colorbar": {
             "outlinewidth": 0,
             "ticks": ""
            },
            "colorscale": [
             [
              0,
              "#0d0887"
             ],
             [
              0.1111111111111111,
              "#46039f"
             ],
             [
              0.2222222222222222,
              "#7201a8"
             ],
             [
              0.3333333333333333,
              "#9c179e"
             ],
             [
              0.4444444444444444,
              "#bd3786"
             ],
             [
              0.5555555555555556,
              "#d8576b"
             ],
             [
              0.6666666666666666,
              "#ed7953"
             ],
             [
              0.7777777777777778,
              "#fb9f3a"
             ],
             [
              0.8888888888888888,
              "#fdca26"
             ],
             [
              1,
              "#f0f921"
             ]
            ],
            "type": "heatmap"
           }
          ],
          "heatmapgl": [
           {
            "colorbar": {
             "outlinewidth": 0,
             "ticks": ""
            },
            "colorscale": [
             [
              0,
              "#0d0887"
             ],
             [
              0.1111111111111111,
              "#46039f"
             ],
             [
              0.2222222222222222,
              "#7201a8"
             ],
             [
              0.3333333333333333,
              "#9c179e"
             ],
             [
              0.4444444444444444,
              "#bd3786"
             ],
             [
              0.5555555555555556,
              "#d8576b"
             ],
             [
              0.6666666666666666,
              "#ed7953"
             ],
             [
              0.7777777777777778,
              "#fb9f3a"
             ],
             [
              0.8888888888888888,
              "#fdca26"
             ],
             [
              1,
              "#f0f921"
             ]
            ],
            "type": "heatmapgl"
           }
          ],
          "histogram": [
           {
            "marker": {
             "colorbar": {
              "outlinewidth": 0,
              "ticks": ""
             }
            },
            "type": "histogram"
           }
          ],
          "histogram2d": [
           {
            "colorbar": {
             "outlinewidth": 0,
             "ticks": ""
            },
            "colorscale": [
             [
              0,
              "#0d0887"
             ],
             [
              0.1111111111111111,
              "#46039f"
             ],
             [
              0.2222222222222222,
              "#7201a8"
             ],
             [
              0.3333333333333333,
              "#9c179e"
             ],
             [
              0.4444444444444444,
              "#bd3786"
             ],
             [
              0.5555555555555556,
              "#d8576b"
             ],
             [
              0.6666666666666666,
              "#ed7953"
             ],
             [
              0.7777777777777778,
              "#fb9f3a"
             ],
             [
              0.8888888888888888,
              "#fdca26"
             ],
             [
              1,
              "#f0f921"
             ]
            ],
            "type": "histogram2d"
           }
          ],
          "histogram2dcontour": [
           {
            "colorbar": {
             "outlinewidth": 0,
             "ticks": ""
            },
            "colorscale": [
             [
              0,
              "#0d0887"
             ],
             [
              0.1111111111111111,
              "#46039f"
             ],
             [
              0.2222222222222222,
              "#7201a8"
             ],
             [
              0.3333333333333333,
              "#9c179e"
             ],
             [
              0.4444444444444444,
              "#bd3786"
             ],
             [
              0.5555555555555556,
              "#d8576b"
             ],
             [
              0.6666666666666666,
              "#ed7953"
             ],
             [
              0.7777777777777778,
              "#fb9f3a"
             ],
             [
              0.8888888888888888,
              "#fdca26"
             ],
             [
              1,
              "#f0f921"
             ]
            ],
            "type": "histogram2dcontour"
           }
          ],
          "mesh3d": [
           {
            "colorbar": {
             "outlinewidth": 0,
             "ticks": ""
            },
            "type": "mesh3d"
           }
          ],
          "parcoords": [
           {
            "line": {
             "colorbar": {
              "outlinewidth": 0,
              "ticks": ""
             }
            },
            "type": "parcoords"
           }
          ],
          "pie": [
           {
            "automargin": true,
            "type": "pie"
           }
          ],
          "scatter": [
           {
            "marker": {
             "colorbar": {
              "outlinewidth": 0,
              "ticks": ""
             }
            },
            "type": "scatter"
           }
          ],
          "scatter3d": [
           {
            "line": {
             "colorbar": {
              "outlinewidth": 0,
              "ticks": ""
             }
            },
            "marker": {
             "colorbar": {
              "outlinewidth": 0,
              "ticks": ""
             }
            },
            "type": "scatter3d"
           }
          ],
          "scattercarpet": [
           {
            "marker": {
             "colorbar": {
              "outlinewidth": 0,
              "ticks": ""
             }
            },
            "type": "scattercarpet"
           }
          ],
          "scattergeo": [
           {
            "marker": {
             "colorbar": {
              "outlinewidth": 0,
              "ticks": ""
             }
            },
            "type": "scattergeo"
           }
          ],
          "scattergl": [
           {
            "marker": {
             "colorbar": {
              "outlinewidth": 0,
              "ticks": ""
             }
            },
            "type": "scattergl"
           }
          ],
          "scattermapbox": [
           {
            "marker": {
             "colorbar": {
              "outlinewidth": 0,
              "ticks": ""
             }
            },
            "type": "scattermapbox"
           }
          ],
          "scatterpolar": [
           {
            "marker": {
             "colorbar": {
              "outlinewidth": 0,
              "ticks": ""
             }
            },
            "type": "scatterpolar"
           }
          ],
          "scatterpolargl": [
           {
            "marker": {
             "colorbar": {
              "outlinewidth": 0,
              "ticks": ""
             }
            },
            "type": "scatterpolargl"
           }
          ],
          "scatterternary": [
           {
            "marker": {
             "colorbar": {
              "outlinewidth": 0,
              "ticks": ""
             }
            },
            "type": "scatterternary"
           }
          ],
          "surface": [
           {
            "colorbar": {
             "outlinewidth": 0,
             "ticks": ""
            },
            "colorscale": [
             [
              0,
              "#0d0887"
             ],
             [
              0.1111111111111111,
              "#46039f"
             ],
             [
              0.2222222222222222,
              "#7201a8"
             ],
             [
              0.3333333333333333,
              "#9c179e"
             ],
             [
              0.4444444444444444,
              "#bd3786"
             ],
             [
              0.5555555555555556,
              "#d8576b"
             ],
             [
              0.6666666666666666,
              "#ed7953"
             ],
             [
              0.7777777777777778,
              "#fb9f3a"
             ],
             [
              0.8888888888888888,
              "#fdca26"
             ],
             [
              1,
              "#f0f921"
             ]
            ],
            "type": "surface"
           }
          ],
          "table": [
           {
            "cells": {
             "fill": {
              "color": "#EBF0F8"
             },
             "line": {
              "color": "white"
             }
            },
            "header": {
             "fill": {
              "color": "#C8D4E3"
             },
             "line": {
              "color": "white"
             }
            },
            "type": "table"
           }
          ]
         },
         "layout": {
          "annotationdefaults": {
           "arrowcolor": "#2a3f5f",
           "arrowhead": 0,
           "arrowwidth": 1
          },
          "autotypenumbers": "strict",
          "coloraxis": {
           "colorbar": {
            "outlinewidth": 0,
            "ticks": ""
           }
          },
          "colorscale": {
           "diverging": [
            [
             0,
             "#8e0152"
            ],
            [
             0.1,
             "#c51b7d"
            ],
            [
             0.2,
             "#de77ae"
            ],
            [
             0.3,
             "#f1b6da"
            ],
            [
             0.4,
             "#fde0ef"
            ],
            [
             0.5,
             "#f7f7f7"
            ],
            [
             0.6,
             "#e6f5d0"
            ],
            [
             0.7,
             "#b8e186"
            ],
            [
             0.8,
             "#7fbc41"
            ],
            [
             0.9,
             "#4d9221"
            ],
            [
             1,
             "#276419"
            ]
           ],
           "sequential": [
            [
             0,
             "#0d0887"
            ],
            [
             0.1111111111111111,
             "#46039f"
            ],
            [
             0.2222222222222222,
             "#7201a8"
            ],
            [
             0.3333333333333333,
             "#9c179e"
            ],
            [
             0.4444444444444444,
             "#bd3786"
            ],
            [
             0.5555555555555556,
             "#d8576b"
            ],
            [
             0.6666666666666666,
             "#ed7953"
            ],
            [
             0.7777777777777778,
             "#fb9f3a"
            ],
            [
             0.8888888888888888,
             "#fdca26"
            ],
            [
             1,
             "#f0f921"
            ]
           ],
           "sequentialminus": [
            [
             0,
             "#0d0887"
            ],
            [
             0.1111111111111111,
             "#46039f"
            ],
            [
             0.2222222222222222,
             "#7201a8"
            ],
            [
             0.3333333333333333,
             "#9c179e"
            ],
            [
             0.4444444444444444,
             "#bd3786"
            ],
            [
             0.5555555555555556,
             "#d8576b"
            ],
            [
             0.6666666666666666,
             "#ed7953"
            ],
            [
             0.7777777777777778,
             "#fb9f3a"
            ],
            [
             0.8888888888888888,
             "#fdca26"
            ],
            [
             1,
             "#f0f921"
            ]
           ]
          },
          "colorway": [
           "#636efa",
           "#EF553B",
           "#00cc96",
           "#ab63fa",
           "#FFA15A",
           "#19d3f3",
           "#FF6692",
           "#B6E880",
           "#FF97FF",
           "#FECB52"
          ],
          "font": {
           "color": "#2a3f5f"
          },
          "geo": {
           "bgcolor": "white",
           "lakecolor": "white",
           "landcolor": "#E5ECF6",
           "showlakes": true,
           "showland": true,
           "subunitcolor": "white"
          },
          "hoverlabel": {
           "align": "left"
          },
          "hovermode": "closest",
          "mapbox": {
           "style": "light"
          },
          "paper_bgcolor": "white",
          "plot_bgcolor": "#E5ECF6",
          "polar": {
           "angularaxis": {
            "gridcolor": "white",
            "linecolor": "white",
            "ticks": ""
           },
           "bgcolor": "#E5ECF6",
           "radialaxis": {
            "gridcolor": "white",
            "linecolor": "white",
            "ticks": ""
           }
          },
          "scene": {
           "xaxis": {
            "backgroundcolor": "#E5ECF6",
            "gridcolor": "white",
            "gridwidth": 2,
            "linecolor": "white",
            "showbackground": true,
            "ticks": "",
            "zerolinecolor": "white"
           },
           "yaxis": {
            "backgroundcolor": "#E5ECF6",
            "gridcolor": "white",
            "gridwidth": 2,
            "linecolor": "white",
            "showbackground": true,
            "ticks": "",
            "zerolinecolor": "white"
           },
           "zaxis": {
            "backgroundcolor": "#E5ECF6",
            "gridcolor": "white",
            "gridwidth": 2,
            "linecolor": "white",
            "showbackground": true,
            "ticks": "",
            "zerolinecolor": "white"
           }
          },
          "shapedefaults": {
           "line": {
            "color": "#2a3f5f"
           }
          },
          "ternary": {
           "aaxis": {
            "gridcolor": "white",
            "linecolor": "white",
            "ticks": ""
           },
           "baxis": {
            "gridcolor": "white",
            "linecolor": "white",
            "ticks": ""
           },
           "bgcolor": "#E5ECF6",
           "caxis": {
            "gridcolor": "white",
            "linecolor": "white",
            "ticks": ""
           }
          },
          "title": {
           "x": 0.05
          },
          "xaxis": {
           "automargin": true,
           "gridcolor": "white",
           "linecolor": "white",
           "ticks": "",
           "title": {
            "standoff": 15
           },
           "zerolinecolor": "white",
           "zerolinewidth": 2
          },
          "yaxis": {
           "automargin": true,
           "gridcolor": "white",
           "linecolor": "white",
           "ticks": "",
           "title": {
            "standoff": 15
           },
           "zerolinecolor": "white",
           "zerolinewidth": 2
          }
         }
        },
        "title": {
         "font": {
          "color": "#4D5663"
         },
         "text": "Texas: Daily Cases Top 5 Counties"
        },
        "xaxis": {
         "gridcolor": "#E1E5ED",
         "showgrid": true,
         "tickfont": {
          "color": "#4D5663"
         },
         "title": {
          "font": {
           "color": "#4D5663"
          },
          "text": ""
         },
         "zerolinecolor": "#E1E5ED"
        },
        "yaxis": {
         "gridcolor": "#E1E5ED",
         "showgrid": true,
         "tickfont": {
          "color": "#4D5663"
         },
         "title": {
          "font": {
           "color": "#4D5663"
          },
          "text": ""
         },
         "zerolinecolor": "#E1E5ED"
        }
       }
      },
      "text/html": [
       "<div>                            <div id=\"d447338c-8e1c-4222-96a3-537ec388b1ad\" class=\"plotly-graph-div\" style=\"height:525px; width:100%;\"></div>            <script type=\"text/javascript\">                require([\"plotly\"], function(Plotly) {                    window.PLOTLYENV=window.PLOTLYENV || {};\n",
       "                    window.PLOTLYENV.BASE_URL='https://plot.ly';                                    if (document.getElementById(\"d447338c-8e1c-4222-96a3-537ec388b1ad\")) {                    Plotly.newPlot(                        \"d447338c-8e1c-4222-96a3-537ec388b1ad\",                        [{\"line\": {\"color\": \"rgba(255, 153, 51, 1.0)\", \"dash\": \"solid\", \"shape\": \"linear\", \"width\": 1.3}, \"mode\": \"lines\", \"name\": \"2667\", \"text\": \"\", \"type\": \"scatter\", \"x\": [\"County Name\", \"2020-01-22_cases\", \"2020-01-23_cases\", \"2020-01-24_cases\", \"2020-01-25_cases\", \"2020-01-26_cases\", \"2020-01-27_cases\", \"2020-01-28_cases\", \"2020-01-29_cases\", \"2020-01-30_cases\", \"2020-01-31_cases\", \"2020-02-01_cases\", \"2020-02-02_cases\", \"2020-02-03_cases\", \"2020-02-04_cases\", \"2020-02-05_cases\", \"2020-02-06_cases\", \"2020-02-07_cases\", \"2020-02-08_cases\", \"2020-02-09_cases\", \"2020-02-10_cases\", \"2020-02-11_cases\", \"2020-02-12_cases\", \"2020-02-13_cases\", \"2020-02-14_cases\", \"2020-02-15_cases\", \"2020-02-16_cases\", \"2020-02-17_cases\", \"2020-02-18_cases\", \"2020-02-19_cases\", \"2020-02-20_cases\", \"2020-02-21_cases\", \"2020-02-22_cases\", \"2020-02-23_cases\", \"2020-02-24_cases\", \"2020-02-25_cases\", \"2020-02-26_cases\", \"2020-02-27_cases\", \"2020-02-28_cases\", \"2020-02-29_cases\", \"2020-03-01_cases\", \"2020-03-02_cases\", \"2020-03-03_cases\", \"2020-03-04_cases\", \"2020-03-05_cases\", \"2020-03-06_cases\", \"2020-03-07_cases\", \"2020-03-08_cases\", \"2020-03-09_cases\", \"2020-03-10_cases\", \"2020-03-11_cases\", \"2020-03-12_cases\", \"2020-03-13_cases\", \"2020-03-14_cases\", \"2020-03-15_cases\", \"2020-03-16_cases\", \"2020-03-17_cases\", \"2020-03-18_cases\", \"2020-03-19_cases\", \"2020-03-20_cases\", \"2020-03-21_cases\", \"2020-03-22_cases\", \"2020-03-23_cases\", \"2020-03-24_cases\", \"2020-03-25_cases\", \"2020-03-26_cases\", \"2020-03-27_cases\", \"2020-03-28_cases\", \"2020-03-29_cases\", \"2020-03-30_cases\", \"2020-03-31_cases\", \"2020-04-01_cases\", \"2020-04-02_cases\", \"2020-04-03_cases\", \"2020-04-04_cases\", \"2020-04-05_cases\", \"2020-04-06_cases\", \"2020-04-07_cases\", \"2020-04-08_cases\", \"2020-04-09_cases\", \"2020-04-10_cases\", \"2020-04-11_cases\", \"2020-04-12_cases\", \"2020-04-13_cases\", \"2020-04-14_cases\", \"2020-04-15_cases\", \"2020-04-16_cases\", \"2020-04-17_cases\", \"2020-04-18_cases\", \"2020-04-19_cases\", \"2020-04-20_cases\", \"2020-04-21_cases\", \"2020-04-22_cases\", \"2020-04-23_cases\", \"2020-04-24_cases\", \"2020-04-25_cases\", \"2020-04-26_cases\", \"2020-04-27_cases\", \"2020-04-28_cases\", \"2020-04-29_cases\", \"2020-04-30_cases\", \"2020-05-01_cases\", \"2020-05-02_cases\", \"2020-05-03_cases\", \"2020-05-04_cases\", \"2020-05-05_cases\", \"2020-05-06_cases\", \"2020-05-07_cases\", \"2020-05-08_cases\", \"2020-05-09_cases\", \"2020-05-10_cases\", \"2020-05-11_cases\", \"2020-05-12_cases\", \"2020-05-13_cases\", \"2020-05-14_cases\", \"2020-05-15_cases\", \"2020-05-16_cases\", \"2020-05-17_cases\", \"2020-05-18_cases\", \"2020-05-19_cases\", \"2020-05-20_cases\", \"2020-05-21_cases\", \"2020-05-22_cases\", \"2020-05-23_cases\", \"2020-05-24_cases\", \"2020-05-25_cases\", \"2020-05-26_cases\", \"2020-05-27_cases\", \"2020-05-28_cases\", \"2020-05-29_cases\", \"2020-05-30_cases\", \"2020-05-31_cases\", \"2020-06-01_cases\", \"2020-06-02_cases\", \"2020-06-03_cases\", \"2020-06-04_cases\", \"2020-06-05_cases\", \"2020-06-06_cases\", \"2020-06-07_cases\", \"2020-06-08_cases\", \"2020-06-09_cases\", \"2020-06-10_cases\", \"2020-06-11_cases\", \"2020-06-12_cases\", \"2020-06-13_cases\", \"2020-06-14_cases\", \"2020-06-15_cases\", \"2020-06-16_cases\", \"2020-06-17_cases\", \"2020-06-18_cases\", \"2020-06-19_cases\", \"2020-06-20_cases\", \"2020-06-21_cases\", \"2020-06-22_cases\", \"2020-06-23_cases\", \"2020-06-24_cases\", \"2020-06-25_cases\", \"2020-06-26_cases\", \"2020-06-27_cases\", \"2020-06-28_cases\", \"2020-06-29_cases\", \"2020-06-30_cases\", \"2020-07-01_cases\", \"2020-07-02_cases\", \"2020-07-03_cases\", \"2020-07-04_cases\", \"2020-07-05_cases\", \"2020-07-06_cases\", \"2020-07-07_cases\", \"2020-07-08_cases\", \"2020-07-09_cases\", \"2020-07-10_cases\", \"2020-07-11_cases\", \"2020-07-12_cases\", \"2020-07-13_cases\", \"2020-07-14_cases\", \"2020-07-15_cases\", \"2020-07-16_cases\", \"2020-07-17_cases\", \"2020-07-18_cases\", \"2020-07-19_cases\", \"2020-07-20_cases\", \"2020-07-21_cases\", \"2020-07-22_cases\", \"2020-07-23_cases\", \"2020-07-24_cases\", \"2020-07-25_cases\", \"2020-07-26_cases\", \"2020-07-27_cases\", \"2020-07-28_cases\", \"2020-07-29_cases\", \"2020-07-30_cases\", \"2020-07-31_cases\", \"2020-08-01_cases\", \"2020-08-02_cases\", \"2020-08-03_cases\", \"2020-08-04_cases\", \"2020-08-05_cases\", \"2020-08-06_cases\", \"2020-08-07_cases\", \"2020-08-08_cases\", \"2020-08-09_cases\", \"2020-08-10_cases\", \"2020-08-11_cases\", \"2020-08-12_cases\", \"2020-08-13_cases\", \"2020-08-14_cases\", \"2020-08-15_cases\", \"2020-08-16_cases\", \"2020-08-17_cases\", \"2020-08-18_cases\", \"2020-08-19_cases\", \"2020-08-20_cases\", \"2020-08-21_cases\", \"2020-08-22_cases\", \"2020-08-23_cases\", \"2020-08-24_cases\", \"2020-08-25_cases\", \"2020-08-26_cases\", \"2020-08-27_cases\", \"2020-08-28_cases\", \"2020-08-29_cases\", \"2020-08-30_cases\", \"2020-08-31_cases\", \"2020-09-01_cases\", \"2020-09-02_cases\", \"2020-09-03_cases\", \"2020-09-04_cases\", \"2020-09-05_cases\", \"2020-09-06_cases\", \"2020-09-07_cases\", \"2020-09-08_cases\", \"2020-09-09_cases\", \"2020-09-10_cases\", \"2020-09-11_cases\", \"2020-09-12_cases\", \"2020-09-13_cases\", \"2020-09-14_cases\", \"2020-09-15_cases\", \"2020-09-16_cases\", \"2020-09-17_cases\", \"2020-09-18_cases\", \"2020-09-19_cases\", \"2020-09-20_cases\", \"2020-09-21_cases\", \"2020-09-22_cases\", \"2020-09-23_cases\", \"2020-09-24_cases\", \"2020-09-25_cases\", \"2020-09-26_cases\", \"2020-09-27_cases\", \"2020-09-28_cases\", \"2020-09-29_cases\", \"2020-09-30_cases\", \"2020-10-01_cases\", \"2020-10-02_cases\", \"2020-10-03_cases\", \"2020-10-04_cases\", \"2020-10-05_cases\", \"2020-10-06_cases\", \"2020-10-07_cases\", \"2020-10-08_cases\", \"2020-10-09_cases\", \"2020-10-10_cases\", \"2020-10-11_cases\", \"2020-10-12_cases\", \"2020-10-13_cases\", \"2020-10-14_cases\", \"2020-10-15_cases\", \"2020-10-16_cases\", \"2020-10-17_cases\", \"2020-10-18_cases\", \"2020-10-19_cases\", \"2020-10-20_cases\", \"2020-10-21_cases\", \"2020-10-22_cases\", \"2020-10-23_cases\", \"2020-10-24_cases\", \"2020-10-25_cases\", \"2020-10-26_cases\", \"2020-10-27_cases\", \"2020-10-28_cases\", \"2020-10-29_cases\", \"2020-10-30_cases\", \"2020-10-31_cases\", \"2020-11-01_cases\", \"2020-11-02_cases\", \"2020-11-03_cases\", \"2020-11-04_cases\", \"2020-11-05_cases\", \"2020-11-06_cases\", \"2020-11-07_cases\", \"2020-11-08_cases\", \"2020-11-09_cases\", \"2020-11-10_cases\", \"2020-11-11_cases\", \"2020-11-12_cases\", \"2020-11-13_cases\", \"2020-11-14_cases\", \"2020-11-15_cases\", \"2020-11-16_cases\", \"2020-11-17_cases\", \"2020-11-18_cases\", \"2020-11-19_cases\", \"2020-11-20_cases\", \"2020-11-21_cases\", \"2020-11-22_cases\", \"2020-11-23_cases\", \"2020-11-24_cases\", \"2020-11-25_cases\", \"2020-11-26_cases\", \"2020-11-27_cases\", \"2020-11-28_cases\", \"2020-11-29_cases\", \"2020-11-30_cases\", \"2020-12-01_cases\", \"2020-12-02_cases\", \"2020-12-03_cases\", \"2020-12-04_cases\", \"2020-12-05_cases\", \"2020-12-06_cases\", \"2020-12-07_cases\", \"2020-12-08_cases\", \"2020-12-09_cases\", \"2020-12-10_cases\", \"2020-12-11_cases\", \"2020-12-12_cases\", \"2020-12-13_cases\", \"2020-12-14_cases\", \"2020-12-15_cases\", \"2020-12-16_cases\", \"2020-12-17_cases\", \"2020-12-18_cases\", \"2020-12-19_cases\", \"2020-12-20_cases\", \"2020-12-21_cases\", \"2020-12-22_cases\", \"2020-12-23_cases\", \"2020-12-24_cases\", \"2020-12-25_cases\", \"2020-12-26_cases\", \"2020-12-27_cases\", \"2020-12-28_cases\", \"2020-12-29_cases\", \"2020-12-30_cases\", \"2020-12-31_cases\", \"2021-01-01_cases\", \"2021-01-02_cases\", \"2021-01-03_cases\", \"2021-01-04_cases\", \"2021-01-05_cases\", \"2021-01-06_cases\", \"2021-01-07_cases\", \"2021-01-08_cases\", \"2021-01-09_cases\", \"2021-01-10_cases\", \"2021-01-11_cases\", \"2021-01-12_cases\", \"2021-01-13_cases\", \"2021-01-14_cases\", \"2021-01-15_cases\", \"2021-01-16_cases\", \"2021-01-17_cases\", \"2021-01-18_cases\", \"2021-01-19_cases\", \"2021-01-20_cases\", \"2021-01-21_cases\", \"2021-01-22_cases\", \"2021-01-23_cases\", \"2021-01-24_cases\", \"2021-01-25_cases\", \"2021-01-26_cases\", \"2021-01-27_cases\", \"2021-01-28_cases\", \"2021-01-29_cases\", \"2021-01-30_cases\", \"2021-01-31_cases\", \"2021-02-01_cases\", \"2021-02-02_cases\", \"2021-02-03_cases\", \"2021-02-04_cases\", \"2021-02-05_cases\", \"2021-02-06_cases\", \"2021-02-07_cases\", \"2021-02-08_cases\", \"2021-02-09_cases\", \"2021-02-10_cases\", \"2021-02-11_cases\", \"2021-02-12_cases\", \"2021-02-13_cases\", \"2021-02-14_cases\", \"2021-02-15_cases\", \"2021-02-16_cases\", \"2021-02-17_cases\", \"2021-02-18_cases\", \"2021-02-19_cases\", \"2021-02-20_cases\", \"2021-02-21_cases\", \"2021-02-22_cases\", \"2021-02-23_cases\", \"2021-02-24_cases\", \"2021-02-25_cases\", \"2021-02-26_cases\", \"2021-02-27_cases\", \"2021-02-28_cases\", \"2021-03-01_cases\", \"2021-03-02_cases\", \"2021-03-03_cases\", \"2021-03-04_cases\", \"2021-03-05_cases\", \"2021-03-06_cases\", \"2021-03-07_cases\", \"2021-03-08_cases\", \"2021-03-09_cases\", \"2021-03-10_cases\", \"2021-03-11_cases\", \"2021-03-12_cases\", \"2021-03-13_cases\", \"2021-03-14_cases\", \"2021-03-15_cases\", \"2021-03-16_cases\", \"2021-03-17_cases\"], \"y\": [\"Harris County\", 0, 0, 0, 0, 0, 0, 0, 0, 0, 0, 0, 0, 0, 0, 0, 0, 0, 0, 0, 0, 0, 0, 0, 0, 0, 0, 0, 0, 0, 0, 0, 0, 0, 0, 0, 0, 0, 0, 0, 0, 0, 0, 0, 75, 37, 75, 0, 37, 37, 0, 37, 37, 37, 0, 0, 0, 0, 0, 975, 0, 0, 675, 937, 1500, 2475, 675, 975, 8099, 3037, 1387, 4387, 6262, 4049, 5662, 6674, 4162, 15523, 12636, 7312, 26472, 8024, 11249, 2550, 4424, 5999, 7124, 7837, 5774, 7237, 6374, 5774, 6224, 2550, 4462, 5699, 5474, 3787, 3675, 5962, 6562, 7312, 7312, 5887, 4874, 4837, 6037, 4349, 4987, 8136, 7837, 2812, 11174, 8999, 7687, 7349, 8736, 2850, 12711, 6374, 8399, 8849, 7049, 9111, 9149, 5662, 2775, 10724, 9786, 8549, 8961, 7912, 2100, 14548, 13611, 9036, 12561, 12636, 18110, 6112, 12448, 11999, 11774, 11699, 12148, 14248, 7874, 18898, 15936, 16873, 14811, 44507, 42557, 6712, 74766, 51519, 51181, 46157, 46419, 34046, 4237, 54481, 25984, 53881, 46832, 45294, 22385, 25647, 44207, 57555, 26284, 34008, 40532, 72703, 53581, 75028, 62167, 50356, 59955, 59468, 46907, 36108, 49719, 51931, 54143, 55943, 45107, 56018, 46344, 31721, 54931, 54968, 64642, 79265, 0, 137908, 54856, 53918, 51406, 37683, 47394, 53131, 43382, 30221, 35321, 37083, 34908, 43082, 42145, 20810, 25909, 34796, 30146, 35808, 38508, 40757, 28534, 29396, 33033, 33971, 22235, 53168, 58530, 41545, 31421, 33558, 22310, 27522, 38058, 34796, 28609, 0, 19273, 27109, 27822, 47132, 14548, 38358, 52343, 103787, 16310, 32133, 30634, 30709, 20735, 529771, 19760, 20397, 24897, 31909, 12598, 18185, 13273, 22797, 13723, 31834, 101387, 39895, 19123, 16010, 20022, 23435, 14136, 15186, 16873, 20060, 11324, 15636, 27859, 13273, 22272, 14398, 15448, 14923, 16010, 31609, 26509, 24372, 37008, 14211, 19273, 12936, 34308, 16948, 23585, 25984, 18785, 17998, 20922, 22497, 30259, 26809, 21672, 29471, 23435, 29621, 78328, 40532, 31759, 25234, 39633, 34533, 20435, 56505, 50431, 41245, 54368, 31159, 39745, 76940, 69704, 22347, 4049, 2437, 101200, 33071, 23022, 36070, 67867, 24709, 41245, 86352, 23847, 29996, 41207, 51181, 74578, 40420, 55418, 49906, 60930, 87139, 0, 0, 0, 246682, 97300, 40157, 49269, 32133, 9861, 2925, 234871, 60855, 52718, 72628, 39520, 72366, 127559, 93438, 71504, 76115, 51219, 0, 194676, 139745, 103187, 149981, 45144, 50994, 217848, 127972, 116610, 131046, 53956, 52381, 93588, 113311, 37308, 84552, 41545, 132883, 118485, 81065, 90251, 103600, 113686, 110874, 80465, 35396, 99888, 60067, 46419, 31159, 50506, 27784, 15336, 25497, 59280, 54068, 89764, 50206, 47319, 375, 40570, 2925, 41807, 14698, 50919, 28534, 18860, 19835, 29846, 120997, 27109, 50731, 32321, 89501, 60555, 51144, 42332, 35508, 32883, 21222, 17735, 19385, 66667, 31196, 39933, 27184, 6562, 25459]}, {\"line\": {\"color\": \"rgba(55, 128, 191, 1.0)\", \"dash\": \"solid\", \"shape\": \"linear\", \"width\": 1.3}, \"mode\": \"lines\", \"name\": \"2623\", \"text\": \"\", \"type\": \"scatter\", \"x\": [\"County Name\", \"2020-01-22_cases\", \"2020-01-23_cases\", \"2020-01-24_cases\", \"2020-01-25_cases\", \"2020-01-26_cases\", \"2020-01-27_cases\", \"2020-01-28_cases\", \"2020-01-29_cases\", \"2020-01-30_cases\", \"2020-01-31_cases\", \"2020-02-01_cases\", \"2020-02-02_cases\", \"2020-02-03_cases\", \"2020-02-04_cases\", \"2020-02-05_cases\", \"2020-02-06_cases\", \"2020-02-07_cases\", \"2020-02-08_cases\", \"2020-02-09_cases\", \"2020-02-10_cases\", \"2020-02-11_cases\", \"2020-02-12_cases\", \"2020-02-13_cases\", \"2020-02-14_cases\", \"2020-02-15_cases\", \"2020-02-16_cases\", \"2020-02-17_cases\", \"2020-02-18_cases\", \"2020-02-19_cases\", \"2020-02-20_cases\", \"2020-02-21_cases\", \"2020-02-22_cases\", \"2020-02-23_cases\", \"2020-02-24_cases\", \"2020-02-25_cases\", \"2020-02-26_cases\", \"2020-02-27_cases\", \"2020-02-28_cases\", \"2020-02-29_cases\", \"2020-03-01_cases\", \"2020-03-02_cases\", \"2020-03-03_cases\", \"2020-03-04_cases\", \"2020-03-05_cases\", \"2020-03-06_cases\", \"2020-03-07_cases\", \"2020-03-08_cases\", \"2020-03-09_cases\", \"2020-03-10_cases\", \"2020-03-11_cases\", \"2020-03-12_cases\", \"2020-03-13_cases\", \"2020-03-14_cases\", \"2020-03-15_cases\", \"2020-03-16_cases\", \"2020-03-17_cases\", \"2020-03-18_cases\", \"2020-03-19_cases\", \"2020-03-20_cases\", \"2020-03-21_cases\", \"2020-03-22_cases\", \"2020-03-23_cases\", \"2020-03-24_cases\", \"2020-03-25_cases\", \"2020-03-26_cases\", \"2020-03-27_cases\", \"2020-03-28_cases\", \"2020-03-29_cases\", \"2020-03-30_cases\", \"2020-03-31_cases\", \"2020-04-01_cases\", \"2020-04-02_cases\", \"2020-04-03_cases\", \"2020-04-04_cases\", \"2020-04-05_cases\", \"2020-04-06_cases\", \"2020-04-07_cases\", \"2020-04-08_cases\", \"2020-04-09_cases\", \"2020-04-10_cases\", \"2020-04-11_cases\", \"2020-04-12_cases\", \"2020-04-13_cases\", \"2020-04-14_cases\", \"2020-04-15_cases\", \"2020-04-16_cases\", \"2020-04-17_cases\", \"2020-04-18_cases\", \"2020-04-19_cases\", \"2020-04-20_cases\", \"2020-04-21_cases\", \"2020-04-22_cases\", \"2020-04-23_cases\", \"2020-04-24_cases\", \"2020-04-25_cases\", \"2020-04-26_cases\", \"2020-04-27_cases\", \"2020-04-28_cases\", \"2020-04-29_cases\", \"2020-04-30_cases\", \"2020-05-01_cases\", \"2020-05-02_cases\", \"2020-05-03_cases\", \"2020-05-04_cases\", \"2020-05-05_cases\", \"2020-05-06_cases\", \"2020-05-07_cases\", \"2020-05-08_cases\", \"2020-05-09_cases\", \"2020-05-10_cases\", \"2020-05-11_cases\", \"2020-05-12_cases\", \"2020-05-13_cases\", \"2020-05-14_cases\", \"2020-05-15_cases\", \"2020-05-16_cases\", \"2020-05-17_cases\", \"2020-05-18_cases\", \"2020-05-19_cases\", \"2020-05-20_cases\", \"2020-05-21_cases\", \"2020-05-22_cases\", \"2020-05-23_cases\", \"2020-05-24_cases\", \"2020-05-25_cases\", \"2020-05-26_cases\", \"2020-05-27_cases\", \"2020-05-28_cases\", \"2020-05-29_cases\", \"2020-05-30_cases\", \"2020-05-31_cases\", \"2020-06-01_cases\", \"2020-06-02_cases\", \"2020-06-03_cases\", \"2020-06-04_cases\", \"2020-06-05_cases\", \"2020-06-06_cases\", \"2020-06-07_cases\", \"2020-06-08_cases\", \"2020-06-09_cases\", \"2020-06-10_cases\", \"2020-06-11_cases\", \"2020-06-12_cases\", \"2020-06-13_cases\", \"2020-06-14_cases\", \"2020-06-15_cases\", \"2020-06-16_cases\", \"2020-06-17_cases\", \"2020-06-18_cases\", \"2020-06-19_cases\", \"2020-06-20_cases\", \"2020-06-21_cases\", \"2020-06-22_cases\", \"2020-06-23_cases\", \"2020-06-24_cases\", \"2020-06-25_cases\", \"2020-06-26_cases\", \"2020-06-27_cases\", \"2020-06-28_cases\", \"2020-06-29_cases\", \"2020-06-30_cases\", \"2020-07-01_cases\", \"2020-07-02_cases\", \"2020-07-03_cases\", \"2020-07-04_cases\", \"2020-07-05_cases\", \"2020-07-06_cases\", \"2020-07-07_cases\", \"2020-07-08_cases\", \"2020-07-09_cases\", \"2020-07-10_cases\", \"2020-07-11_cases\", \"2020-07-12_cases\", \"2020-07-13_cases\", \"2020-07-14_cases\", \"2020-07-15_cases\", \"2020-07-16_cases\", \"2020-07-17_cases\", \"2020-07-18_cases\", \"2020-07-19_cases\", \"2020-07-20_cases\", \"2020-07-21_cases\", \"2020-07-22_cases\", \"2020-07-23_cases\", \"2020-07-24_cases\", \"2020-07-25_cases\", \"2020-07-26_cases\", \"2020-07-27_cases\", \"2020-07-28_cases\", \"2020-07-29_cases\", \"2020-07-30_cases\", \"2020-07-31_cases\", \"2020-08-01_cases\", \"2020-08-02_cases\", \"2020-08-03_cases\", \"2020-08-04_cases\", \"2020-08-05_cases\", \"2020-08-06_cases\", \"2020-08-07_cases\", \"2020-08-08_cases\", \"2020-08-09_cases\", \"2020-08-10_cases\", \"2020-08-11_cases\", \"2020-08-12_cases\", \"2020-08-13_cases\", \"2020-08-14_cases\", \"2020-08-15_cases\", \"2020-08-16_cases\", \"2020-08-17_cases\", \"2020-08-18_cases\", \"2020-08-19_cases\", \"2020-08-20_cases\", \"2020-08-21_cases\", \"2020-08-22_cases\", \"2020-08-23_cases\", \"2020-08-24_cases\", \"2020-08-25_cases\", \"2020-08-26_cases\", \"2020-08-27_cases\", \"2020-08-28_cases\", \"2020-08-29_cases\", \"2020-08-30_cases\", \"2020-08-31_cases\", \"2020-09-01_cases\", \"2020-09-02_cases\", \"2020-09-03_cases\", \"2020-09-04_cases\", \"2020-09-05_cases\", \"2020-09-06_cases\", \"2020-09-07_cases\", \"2020-09-08_cases\", \"2020-09-09_cases\", \"2020-09-10_cases\", \"2020-09-11_cases\", \"2020-09-12_cases\", \"2020-09-13_cases\", \"2020-09-14_cases\", \"2020-09-15_cases\", \"2020-09-16_cases\", \"2020-09-17_cases\", \"2020-09-18_cases\", \"2020-09-19_cases\", \"2020-09-20_cases\", \"2020-09-21_cases\", \"2020-09-22_cases\", \"2020-09-23_cases\", \"2020-09-24_cases\", \"2020-09-25_cases\", \"2020-09-26_cases\", \"2020-09-27_cases\", \"2020-09-28_cases\", \"2020-09-29_cases\", \"2020-09-30_cases\", \"2020-10-01_cases\", \"2020-10-02_cases\", \"2020-10-03_cases\", \"2020-10-04_cases\", \"2020-10-05_cases\", \"2020-10-06_cases\", \"2020-10-07_cases\", \"2020-10-08_cases\", \"2020-10-09_cases\", \"2020-10-10_cases\", \"2020-10-11_cases\", \"2020-10-12_cases\", \"2020-10-13_cases\", \"2020-10-14_cases\", \"2020-10-15_cases\", \"2020-10-16_cases\", \"2020-10-17_cases\", \"2020-10-18_cases\", \"2020-10-19_cases\", \"2020-10-20_cases\", \"2020-10-21_cases\", \"2020-10-22_cases\", \"2020-10-23_cases\", \"2020-10-24_cases\", \"2020-10-25_cases\", \"2020-10-26_cases\", \"2020-10-27_cases\", \"2020-10-28_cases\", \"2020-10-29_cases\", \"2020-10-30_cases\", \"2020-10-31_cases\", \"2020-11-01_cases\", \"2020-11-02_cases\", \"2020-11-03_cases\", \"2020-11-04_cases\", \"2020-11-05_cases\", \"2020-11-06_cases\", \"2020-11-07_cases\", \"2020-11-08_cases\", \"2020-11-09_cases\", \"2020-11-10_cases\", \"2020-11-11_cases\", \"2020-11-12_cases\", \"2020-11-13_cases\", \"2020-11-14_cases\", \"2020-11-15_cases\", \"2020-11-16_cases\", \"2020-11-17_cases\", \"2020-11-18_cases\", \"2020-11-19_cases\", \"2020-11-20_cases\", \"2020-11-21_cases\", \"2020-11-22_cases\", \"2020-11-23_cases\", \"2020-11-24_cases\", \"2020-11-25_cases\", \"2020-11-26_cases\", \"2020-11-27_cases\", \"2020-11-28_cases\", \"2020-11-29_cases\", \"2020-11-30_cases\", \"2020-12-01_cases\", \"2020-12-02_cases\", \"2020-12-03_cases\", \"2020-12-04_cases\", \"2020-12-05_cases\", \"2020-12-06_cases\", \"2020-12-07_cases\", \"2020-12-08_cases\", \"2020-12-09_cases\", \"2020-12-10_cases\", \"2020-12-11_cases\", \"2020-12-12_cases\", \"2020-12-13_cases\", \"2020-12-14_cases\", \"2020-12-15_cases\", \"2020-12-16_cases\", \"2020-12-17_cases\", \"2020-12-18_cases\", \"2020-12-19_cases\", \"2020-12-20_cases\", \"2020-12-21_cases\", \"2020-12-22_cases\", \"2020-12-23_cases\", \"2020-12-24_cases\", \"2020-12-25_cases\", \"2020-12-26_cases\", \"2020-12-27_cases\", \"2020-12-28_cases\", \"2020-12-29_cases\", \"2020-12-30_cases\", \"2020-12-31_cases\", \"2021-01-01_cases\", \"2021-01-02_cases\", \"2021-01-03_cases\", \"2021-01-04_cases\", \"2021-01-05_cases\", \"2021-01-06_cases\", \"2021-01-07_cases\", \"2021-01-08_cases\", \"2021-01-09_cases\", \"2021-01-10_cases\", \"2021-01-11_cases\", \"2021-01-12_cases\", \"2021-01-13_cases\", \"2021-01-14_cases\", \"2021-01-15_cases\", \"2021-01-16_cases\", \"2021-01-17_cases\", \"2021-01-18_cases\", \"2021-01-19_cases\", \"2021-01-20_cases\", \"2021-01-21_cases\", \"2021-01-22_cases\", \"2021-01-23_cases\", \"2021-01-24_cases\", \"2021-01-25_cases\", \"2021-01-26_cases\", \"2021-01-27_cases\", \"2021-01-28_cases\", \"2021-01-29_cases\", \"2021-01-30_cases\", \"2021-01-31_cases\", \"2021-02-01_cases\", \"2021-02-02_cases\", \"2021-02-03_cases\", \"2021-02-04_cases\", \"2021-02-05_cases\", \"2021-02-06_cases\", \"2021-02-07_cases\", \"2021-02-08_cases\", \"2021-02-09_cases\", \"2021-02-10_cases\", \"2021-02-11_cases\", \"2021-02-12_cases\", \"2021-02-13_cases\", \"2021-02-14_cases\", \"2021-02-15_cases\", \"2021-02-16_cases\", \"2021-02-17_cases\", \"2021-02-18_cases\", \"2021-02-19_cases\", \"2021-02-20_cases\", \"2021-02-21_cases\", \"2021-02-22_cases\", \"2021-02-23_cases\", \"2021-02-24_cases\", \"2021-02-25_cases\", \"2021-02-26_cases\", \"2021-02-27_cases\", \"2021-02-28_cases\", \"2021-03-01_cases\", \"2021-03-02_cases\", \"2021-03-03_cases\", \"2021-03-04_cases\", \"2021-03-05_cases\", \"2021-03-06_cases\", \"2021-03-07_cases\", \"2021-03-08_cases\", \"2021-03-09_cases\", \"2021-03-10_cases\", \"2021-03-11_cases\", \"2021-03-12_cases\", \"2021-03-13_cases\", \"2021-03-14_cases\", \"2021-03-15_cases\", \"2021-03-16_cases\", \"2021-03-17_cases\"], \"y\": [\"Dallas County\", 0, 0, 0, 0, 0, 0, 0, 0, 0, 0, 0, 0, 0, 0, 0, 0, 0, 0, 0, 0, 0, 0, 0, 0, 0, 0, 0, 0, 0, 0, 0, 0, 0, 0, 0, 0, 0, 0, 0, 0, 0, 0, 0, 0, 0, 0, 0, 0, 76, 0, 38, 152, 38, 114, 0, 0, 152, 1487, 762, 0, 0, 3088, 534, 2974, 2135, 2440, 2745, 1868, 2326, 3126, 3812, 3812, 3431, 3584, 3698, 1639, 4041, 2402, 4117, 4003, 4079, 3012, 2478, 0, 7549, 3050, 4727, 0, 9074, 0, 3202, 3431, 3088, 3050, 2707, 2859, 4003, 3469, 5147, 4270, 6824, 7129, 6900, 8921, 9035, 9645, 9379, 9569, 9493, 9531, 9569, 9645, 8997, 9264, 8959, 7587, 8159, 7815, 8540, 8578, 0, 14068, 7777, 6557, 6786, 6519, 7244, 7510, 7701, 7625, 8349, 8692, 8692, 9798, 9112, 10865, 11361, 11018, 10027, 9684, 11361, 11437, 11895, 12505, 13153, 11514, 11628, 11666, 15745, 14945, 15021, 15059, 15555, 17308, 16965, 14907, 15364, 18910, 21388, 21731, 21807, 22913, 20740, 26992, 41365, 42051, 40488, 46283, 41060, 39230, 45787, 44377, 41975, 44758, 42470, 38124, 40221, 39154, 45559, 39306, 39802, 39116, 27983, 15745, 24705, 25124, 48303, 30499, 16241, 30080, 26839, 20473, 26954, 0, 43157, 14563, 24438, 19367, 8769, 16088, 20587, 32139, 22150, 11361, 8921, 24438, 33740, 28746, 204384, 70530, 30004, 15212, 11742, 27221, 41403, 12657, 6939, 8273, 22036, 8349, 10522, 16546, 13725, 17537, 23713, 13648, 9531, 7434, 15173, 9417, 9950, 5299, 14335, 5795, 9874, 6291, 5947, 16775, 7244, 11857, 17461, 13534, 5947, 29394, 12047, 6557, 13191, 26801, 44949, 14220, 7510, 7510, 30080, 9493, 0, 19367, 9912, 23523, 17156, 9379, 13077, 7549, 15974, 17537, 15936, 17003, 23103, 17308, 20473, 17613, 22836, 21121, 12619, 17995, 19939, 13382, 20320, 24705, 26801, 14907, 15974, 18262, 21540, 25543, 23713, 26839, 18185, 22798, 26191, 22913, 33054, 24933, 30766, 41746, 48303, 35303, 15669, 19024, 55433, 48837, 64621, 17423, 29966, 68776, 62753, 66374, 69043, 19863, 57796, 45177, 0, 0, 28174, 117537, 26077, 41784, 53641, 62409, 24743, 53793, 68128, 61228, 32787, 41555, 65459, 51582, 25505, 97255, 57911, 59055, 74037, 0, 0, 0, 884217, 69157, 90202, 95768, 0, 0, 52917, 0, 278955, 43042, 87381, 67632, 0, 0, 255166, 59855, 106481, 92566, 0, 189745, 121769, 85627, 71178, 135303, 114144, 75982, 107396, 107091, 52497, 0, 60579, 132253, 75410, 78727, 73199, 44758, 64735, 70835, 63706, 62409, 68967, 53641, 61647, 54403, 54823, 51697, 43805, 54289, 39039, 38849, 34617, 49676, 46931, 38887, 32215, 33511, 33740, 27831, 9340, 14602, 10141, 11056, 12695, 10408, 13267, 15707, 30080, 23408, 27678, 21731, 0, 28631, 20053, 27373, 29775, 17461, 14182, 0, 19062, 16203, 0, 28517, 15288, 10179, 0, 21883, 11857]}, {\"line\": {\"color\": \"rgba(50, 171, 96, 1.0)\", \"dash\": \"solid\", \"shape\": \"linear\", \"width\": 1.3}, \"mode\": \"lines\", \"name\": \"2786\", \"text\": \"\", \"type\": \"scatter\", \"x\": [\"County Name\", \"2020-01-22_cases\", \"2020-01-23_cases\", \"2020-01-24_cases\", \"2020-01-25_cases\", \"2020-01-26_cases\", \"2020-01-27_cases\", \"2020-01-28_cases\", \"2020-01-29_cases\", \"2020-01-30_cases\", \"2020-01-31_cases\", \"2020-02-01_cases\", \"2020-02-02_cases\", \"2020-02-03_cases\", \"2020-02-04_cases\", \"2020-02-05_cases\", \"2020-02-06_cases\", \"2020-02-07_cases\", \"2020-02-08_cases\", \"2020-02-09_cases\", \"2020-02-10_cases\", \"2020-02-11_cases\", \"2020-02-12_cases\", \"2020-02-13_cases\", \"2020-02-14_cases\", \"2020-02-15_cases\", \"2020-02-16_cases\", \"2020-02-17_cases\", \"2020-02-18_cases\", \"2020-02-19_cases\", \"2020-02-20_cases\", \"2020-02-21_cases\", \"2020-02-22_cases\", \"2020-02-23_cases\", \"2020-02-24_cases\", \"2020-02-25_cases\", \"2020-02-26_cases\", \"2020-02-27_cases\", \"2020-02-28_cases\", \"2020-02-29_cases\", \"2020-03-01_cases\", \"2020-03-02_cases\", \"2020-03-03_cases\", \"2020-03-04_cases\", \"2020-03-05_cases\", \"2020-03-06_cases\", \"2020-03-07_cases\", \"2020-03-08_cases\", \"2020-03-09_cases\", \"2020-03-10_cases\", \"2020-03-11_cases\", \"2020-03-12_cases\", \"2020-03-13_cases\", \"2020-03-14_cases\", \"2020-03-15_cases\", \"2020-03-16_cases\", \"2020-03-17_cases\", \"2020-03-18_cases\", \"2020-03-19_cases\", \"2020-03-20_cases\", \"2020-03-21_cases\", \"2020-03-22_cases\", \"2020-03-23_cases\", \"2020-03-24_cases\", \"2020-03-25_cases\", \"2020-03-26_cases\", \"2020-03-27_cases\", \"2020-03-28_cases\", \"2020-03-29_cases\", \"2020-03-30_cases\", \"2020-03-31_cases\", \"2020-04-01_cases\", \"2020-04-02_cases\", \"2020-04-03_cases\", \"2020-04-04_cases\", \"2020-04-05_cases\", \"2020-04-06_cases\", \"2020-04-07_cases\", \"2020-04-08_cases\", \"2020-04-09_cases\", \"2020-04-10_cases\", \"2020-04-11_cases\", \"2020-04-12_cases\", \"2020-04-13_cases\", \"2020-04-14_cases\", \"2020-04-15_cases\", \"2020-04-16_cases\", \"2020-04-17_cases\", \"2020-04-18_cases\", \"2020-04-19_cases\", \"2020-04-20_cases\", \"2020-04-21_cases\", \"2020-04-22_cases\", \"2020-04-23_cases\", \"2020-04-24_cases\", \"2020-04-25_cases\", \"2020-04-26_cases\", \"2020-04-27_cases\", \"2020-04-28_cases\", \"2020-04-29_cases\", \"2020-04-30_cases\", \"2020-05-01_cases\", \"2020-05-02_cases\", \"2020-05-03_cases\", \"2020-05-04_cases\", \"2020-05-05_cases\", \"2020-05-06_cases\", \"2020-05-07_cases\", \"2020-05-08_cases\", \"2020-05-09_cases\", \"2020-05-10_cases\", \"2020-05-11_cases\", \"2020-05-12_cases\", \"2020-05-13_cases\", \"2020-05-14_cases\", \"2020-05-15_cases\", \"2020-05-16_cases\", \"2020-05-17_cases\", \"2020-05-18_cases\", \"2020-05-19_cases\", \"2020-05-20_cases\", \"2020-05-21_cases\", \"2020-05-22_cases\", \"2020-05-23_cases\", \"2020-05-24_cases\", \"2020-05-25_cases\", \"2020-05-26_cases\", \"2020-05-27_cases\", \"2020-05-28_cases\", \"2020-05-29_cases\", \"2020-05-30_cases\", \"2020-05-31_cases\", \"2020-06-01_cases\", \"2020-06-02_cases\", \"2020-06-03_cases\", \"2020-06-04_cases\", \"2020-06-05_cases\", \"2020-06-06_cases\", \"2020-06-07_cases\", \"2020-06-08_cases\", \"2020-06-09_cases\", \"2020-06-10_cases\", \"2020-06-11_cases\", \"2020-06-12_cases\", \"2020-06-13_cases\", \"2020-06-14_cases\", \"2020-06-15_cases\", \"2020-06-16_cases\", \"2020-06-17_cases\", \"2020-06-18_cases\", \"2020-06-19_cases\", \"2020-06-20_cases\", \"2020-06-21_cases\", \"2020-06-22_cases\", \"2020-06-23_cases\", \"2020-06-24_cases\", \"2020-06-25_cases\", \"2020-06-26_cases\", \"2020-06-27_cases\", \"2020-06-28_cases\", \"2020-06-29_cases\", \"2020-06-30_cases\", \"2020-07-01_cases\", \"2020-07-02_cases\", \"2020-07-03_cases\", \"2020-07-04_cases\", \"2020-07-05_cases\", \"2020-07-06_cases\", \"2020-07-07_cases\", \"2020-07-08_cases\", \"2020-07-09_cases\", \"2020-07-10_cases\", \"2020-07-11_cases\", \"2020-07-12_cases\", \"2020-07-13_cases\", \"2020-07-14_cases\", \"2020-07-15_cases\", \"2020-07-16_cases\", \"2020-07-17_cases\", \"2020-07-18_cases\", \"2020-07-19_cases\", \"2020-07-20_cases\", \"2020-07-21_cases\", \"2020-07-22_cases\", \"2020-07-23_cases\", \"2020-07-24_cases\", \"2020-07-25_cases\", \"2020-07-26_cases\", \"2020-07-27_cases\", \"2020-07-28_cases\", \"2020-07-29_cases\", \"2020-07-30_cases\", \"2020-07-31_cases\", \"2020-08-01_cases\", \"2020-08-02_cases\", \"2020-08-03_cases\", \"2020-08-04_cases\", \"2020-08-05_cases\", \"2020-08-06_cases\", \"2020-08-07_cases\", \"2020-08-08_cases\", \"2020-08-09_cases\", \"2020-08-10_cases\", \"2020-08-11_cases\", \"2020-08-12_cases\", \"2020-08-13_cases\", \"2020-08-14_cases\", \"2020-08-15_cases\", \"2020-08-16_cases\", \"2020-08-17_cases\", \"2020-08-18_cases\", \"2020-08-19_cases\", \"2020-08-20_cases\", \"2020-08-21_cases\", \"2020-08-22_cases\", \"2020-08-23_cases\", \"2020-08-24_cases\", \"2020-08-25_cases\", \"2020-08-26_cases\", \"2020-08-27_cases\", \"2020-08-28_cases\", \"2020-08-29_cases\", \"2020-08-30_cases\", \"2020-08-31_cases\", \"2020-09-01_cases\", \"2020-09-02_cases\", \"2020-09-03_cases\", \"2020-09-04_cases\", \"2020-09-05_cases\", \"2020-09-06_cases\", \"2020-09-07_cases\", \"2020-09-08_cases\", \"2020-09-09_cases\", \"2020-09-10_cases\", \"2020-09-11_cases\", \"2020-09-12_cases\", \"2020-09-13_cases\", \"2020-09-14_cases\", \"2020-09-15_cases\", \"2020-09-16_cases\", \"2020-09-17_cases\", \"2020-09-18_cases\", \"2020-09-19_cases\", \"2020-09-20_cases\", \"2020-09-21_cases\", \"2020-09-22_cases\", \"2020-09-23_cases\", \"2020-09-24_cases\", \"2020-09-25_cases\", \"2020-09-26_cases\", \"2020-09-27_cases\", \"2020-09-28_cases\", \"2020-09-29_cases\", \"2020-09-30_cases\", \"2020-10-01_cases\", \"2020-10-02_cases\", \"2020-10-03_cases\", \"2020-10-04_cases\", \"2020-10-05_cases\", \"2020-10-06_cases\", \"2020-10-07_cases\", \"2020-10-08_cases\", \"2020-10-09_cases\", \"2020-10-10_cases\", \"2020-10-11_cases\", \"2020-10-12_cases\", \"2020-10-13_cases\", \"2020-10-14_cases\", \"2020-10-15_cases\", \"2020-10-16_cases\", \"2020-10-17_cases\", \"2020-10-18_cases\", \"2020-10-19_cases\", \"2020-10-20_cases\", \"2020-10-21_cases\", \"2020-10-22_cases\", \"2020-10-23_cases\", \"2020-10-24_cases\", \"2020-10-25_cases\", \"2020-10-26_cases\", \"2020-10-27_cases\", \"2020-10-28_cases\", \"2020-10-29_cases\", \"2020-10-30_cases\", \"2020-10-31_cases\", \"2020-11-01_cases\", \"2020-11-02_cases\", \"2020-11-03_cases\", \"2020-11-04_cases\", \"2020-11-05_cases\", \"2020-11-06_cases\", \"2020-11-07_cases\", \"2020-11-08_cases\", \"2020-11-09_cases\", \"2020-11-10_cases\", \"2020-11-11_cases\", \"2020-11-12_cases\", \"2020-11-13_cases\", \"2020-11-14_cases\", \"2020-11-15_cases\", \"2020-11-16_cases\", \"2020-11-17_cases\", \"2020-11-18_cases\", \"2020-11-19_cases\", \"2020-11-20_cases\", \"2020-11-21_cases\", \"2020-11-22_cases\", \"2020-11-23_cases\", \"2020-11-24_cases\", \"2020-11-25_cases\", \"2020-11-26_cases\", \"2020-11-27_cases\", \"2020-11-28_cases\", \"2020-11-29_cases\", \"2020-11-30_cases\", \"2020-12-01_cases\", \"2020-12-02_cases\", \"2020-12-03_cases\", \"2020-12-04_cases\", \"2020-12-05_cases\", \"2020-12-06_cases\", \"2020-12-07_cases\", \"2020-12-08_cases\", \"2020-12-09_cases\", \"2020-12-10_cases\", \"2020-12-11_cases\", \"2020-12-12_cases\", \"2020-12-13_cases\", \"2020-12-14_cases\", \"2020-12-15_cases\", \"2020-12-16_cases\", \"2020-12-17_cases\", \"2020-12-18_cases\", \"2020-12-19_cases\", \"2020-12-20_cases\", \"2020-12-21_cases\", \"2020-12-22_cases\", \"2020-12-23_cases\", \"2020-12-24_cases\", \"2020-12-25_cases\", \"2020-12-26_cases\", \"2020-12-27_cases\", \"2020-12-28_cases\", \"2020-12-29_cases\", \"2020-12-30_cases\", \"2020-12-31_cases\", \"2021-01-01_cases\", \"2021-01-02_cases\", \"2021-01-03_cases\", \"2021-01-04_cases\", \"2021-01-05_cases\", \"2021-01-06_cases\", \"2021-01-07_cases\", \"2021-01-08_cases\", \"2021-01-09_cases\", \"2021-01-10_cases\", \"2021-01-11_cases\", \"2021-01-12_cases\", \"2021-01-13_cases\", \"2021-01-14_cases\", \"2021-01-15_cases\", \"2021-01-16_cases\", \"2021-01-17_cases\", \"2021-01-18_cases\", \"2021-01-19_cases\", \"2021-01-20_cases\", \"2021-01-21_cases\", \"2021-01-22_cases\", \"2021-01-23_cases\", \"2021-01-24_cases\", \"2021-01-25_cases\", \"2021-01-26_cases\", \"2021-01-27_cases\", \"2021-01-28_cases\", \"2021-01-29_cases\", \"2021-01-30_cases\", \"2021-01-31_cases\", \"2021-02-01_cases\", \"2021-02-02_cases\", \"2021-02-03_cases\", \"2021-02-04_cases\", \"2021-02-05_cases\", \"2021-02-06_cases\", \"2021-02-07_cases\", \"2021-02-08_cases\", \"2021-02-09_cases\", \"2021-02-10_cases\", \"2021-02-11_cases\", \"2021-02-12_cases\", \"2021-02-13_cases\", \"2021-02-14_cases\", \"2021-02-15_cases\", \"2021-02-16_cases\", \"2021-02-17_cases\", \"2021-02-18_cases\", \"2021-02-19_cases\", \"2021-02-20_cases\", \"2021-02-21_cases\", \"2021-02-22_cases\", \"2021-02-23_cases\", \"2021-02-24_cases\", \"2021-02-25_cases\", \"2021-02-26_cases\", \"2021-02-27_cases\", \"2021-02-28_cases\", \"2021-03-01_cases\", \"2021-03-02_cases\", \"2021-03-03_cases\", \"2021-03-04_cases\", \"2021-03-05_cases\", \"2021-03-06_cases\", \"2021-03-07_cases\", \"2021-03-08_cases\", \"2021-03-09_cases\", \"2021-03-10_cases\", \"2021-03-11_cases\", \"2021-03-12_cases\", \"2021-03-13_cases\", \"2021-03-14_cases\", \"2021-03-15_cases\", \"2021-03-16_cases\", \"2021-03-17_cases\"], \"y\": [\"Tarrant County\", 0, 0, 0, 0, 0, 0, 0, 0, 0, 0, 0, 0, 0, 0, 0, 0, 0, 0, 0, 0, 0, 0, 0, 0, 0, 0, 0, 0, 0, 0, 0, 0, 0, 0, 0, 0, 0, 0, 0, 0, 0, 0, 0, 0, 0, 0, 0, 0, 36, 0, 0, 0, 72, 0, 0, 0, 72, 503, 0, 0, 0, 1364, 503, 682, 359, 503, 503, 395, 574, 4235, 538, 1328, 2082, 754, 503, 1220, 2333, 2548, 1759, 2441, 2943, 682, 2513, 0, 4092, 3697, 2943, 0, 2405, 0, 251, 3015, 3482, 4630, 5276, 4666, 3984, 2584, 2477, 2190, 3482, 5097, 4128, 2907, 1436, 2225, 4559, 5133, 6138, 2979, 17408, 1795, 2333, 9548, 4846, 1974, 3015, 3482, 4020, 3015, 2441, 3302, 3446, 1866, 933, 0, 2225, 5420, 3733, 3051, 3015, 1795, 754, 3195, 4953, 3661, 4379, 3159, 2764, 7861, 2297, 5958, 8076, 10625, 4774, 2907, 5887, 5169, 6461, 9943, 8327, 6461, 15937, 6138, 9332, 16511, 18557, 12312, 13532, 14106, 9440, 21716, 21752, 16978, 0, 0, 20998, 29433, 27172, 21357, 18665, 22757, 15183, 14501, 11558, 19060, 30761, 20172, 17014, 10337, 15147, 13819, 23798, 31263, 15470, 21357, 20962, 12670, 8615, 20675, 30007, 24121, 21070, 0, 23116, 10876, 28894, 2333, 15183, 9763, 27459, 17588, 10481, 7071, 14501, 11953, 16906, 51543, 24659, 8686, 16188, 11845, 6820, 7071, 7717, 7609, 3230, 12886, 6030, 6927, 7251, 7251, 6030, 4235, 5528, 6138, 5743, 5528, 8938, 0, 0, 7933, 12563, 5635, 6030, 5564, 10553, 9189, 13819, 13568, 8256, 8579, 11091, 11773, 10840, 9835, 11558, 18342, 11845, 8615, 6461, 8220, 16045, 11594, 9225, 10912, 13711, 17301, 7466, 8040, 15721, 17660, 9978, 12024, 24515, 10373, 16296, 15650, 18737, 17732, 17983, 14214, 11019, 14178, 18413, 23690, 24336, 23690, 21357, 15147, 14393, 19131, 17337, 21931, 17803, 23582, 16009, 20495, 20711, 28536, 29397, 28069, 12599, 50790, 30510, 24551, 31766, 42355, 25126, 47308, 29002, 20711, 69849, 57358, 42032, 44795, 51795, 35391, 45980, 41027, 0, 0, 0, 37401, 113855, 43647, 55312, 57825, 45585, 36612, 51687, 57897, 25556, 44508, 34063, 45836, 39806, 46159, 42462, 36971, 55707, 0, 0, 0, 783345, 53625, 53841, 61091, 0, 0, 0, 79576, 215039, 45872, 57753, 111845, 0, 120639, 156748, 78930, 69885, 122398, 0, 195334, 111630, 105887, 78500, 65219, 82053, 87330, 84350, 108507, 57825, 108435, 69239, 74444, 64214, 66906, 77351, 62312, 45226, 54702, 44042, 90991, 51579, 66834, 67767, 67732, 51184, 58327, 59691, 50036, 44688, 35571, 38011, 32053, 47057, 37114, 33022, 33058, 28607, 0, 0, 17839, 16152, 41852, 0, 11773, 14896, 13209, 16870, 27207, 44293, 0, 21285, 14178, 15398, 23618, 18162, 14393, 11665, 12312, 3051, 8758, 16080, 15542, 11594, 10876, 7609, 7215, 8256]}, {\"line\": {\"color\": \"rgba(128, 0, 128, 1.0)\", \"dash\": \"solid\", \"shape\": \"linear\", \"width\": 1.3}, \"mode\": \"lines\", \"name\": \"2581\", \"text\": \"\", \"type\": \"scatter\", \"x\": [\"County Name\", \"2020-01-22_cases\", \"2020-01-23_cases\", \"2020-01-24_cases\", \"2020-01-25_cases\", \"2020-01-26_cases\", \"2020-01-27_cases\", \"2020-01-28_cases\", \"2020-01-29_cases\", \"2020-01-30_cases\", \"2020-01-31_cases\", \"2020-02-01_cases\", \"2020-02-02_cases\", \"2020-02-03_cases\", \"2020-02-04_cases\", \"2020-02-05_cases\", \"2020-02-06_cases\", \"2020-02-07_cases\", \"2020-02-08_cases\", \"2020-02-09_cases\", \"2020-02-10_cases\", \"2020-02-11_cases\", \"2020-02-12_cases\", \"2020-02-13_cases\", \"2020-02-14_cases\", \"2020-02-15_cases\", \"2020-02-16_cases\", \"2020-02-17_cases\", \"2020-02-18_cases\", \"2020-02-19_cases\", \"2020-02-20_cases\", \"2020-02-21_cases\", \"2020-02-22_cases\", \"2020-02-23_cases\", \"2020-02-24_cases\", \"2020-02-25_cases\", \"2020-02-26_cases\", \"2020-02-27_cases\", \"2020-02-28_cases\", \"2020-02-29_cases\", \"2020-03-01_cases\", \"2020-03-02_cases\", \"2020-03-03_cases\", \"2020-03-04_cases\", \"2020-03-05_cases\", \"2020-03-06_cases\", \"2020-03-07_cases\", \"2020-03-08_cases\", \"2020-03-09_cases\", \"2020-03-10_cases\", \"2020-03-11_cases\", \"2020-03-12_cases\", \"2020-03-13_cases\", \"2020-03-14_cases\", \"2020-03-15_cases\", \"2020-03-16_cases\", \"2020-03-17_cases\", \"2020-03-18_cases\", \"2020-03-19_cases\", \"2020-03-20_cases\", \"2020-03-21_cases\", \"2020-03-22_cases\", \"2020-03-23_cases\", \"2020-03-24_cases\", \"2020-03-25_cases\", \"2020-03-26_cases\", \"2020-03-27_cases\", \"2020-03-28_cases\", \"2020-03-29_cases\", \"2020-03-30_cases\", \"2020-03-31_cases\", \"2020-04-01_cases\", \"2020-04-02_cases\", \"2020-04-03_cases\", \"2020-04-04_cases\", \"2020-04-05_cases\", \"2020-04-06_cases\", \"2020-04-07_cases\", \"2020-04-08_cases\", \"2020-04-09_cases\", \"2020-04-10_cases\", \"2020-04-11_cases\", \"2020-04-12_cases\", \"2020-04-13_cases\", \"2020-04-14_cases\", \"2020-04-15_cases\", \"2020-04-16_cases\", \"2020-04-17_cases\", \"2020-04-18_cases\", \"2020-04-19_cases\", \"2020-04-20_cases\", \"2020-04-21_cases\", \"2020-04-22_cases\", \"2020-04-23_cases\", \"2020-04-24_cases\", \"2020-04-25_cases\", \"2020-04-26_cases\", \"2020-04-27_cases\", \"2020-04-28_cases\", \"2020-04-29_cases\", \"2020-04-30_cases\", \"2020-05-01_cases\", \"2020-05-02_cases\", \"2020-05-03_cases\", \"2020-05-04_cases\", \"2020-05-05_cases\", \"2020-05-06_cases\", \"2020-05-07_cases\", \"2020-05-08_cases\", \"2020-05-09_cases\", \"2020-05-10_cases\", \"2020-05-11_cases\", \"2020-05-12_cases\", \"2020-05-13_cases\", \"2020-05-14_cases\", \"2020-05-15_cases\", \"2020-05-16_cases\", \"2020-05-17_cases\", \"2020-05-18_cases\", \"2020-05-19_cases\", \"2020-05-20_cases\", \"2020-05-21_cases\", \"2020-05-22_cases\", \"2020-05-23_cases\", \"2020-05-24_cases\", \"2020-05-25_cases\", \"2020-05-26_cases\", \"2020-05-27_cases\", \"2020-05-28_cases\", \"2020-05-29_cases\", \"2020-05-30_cases\", \"2020-05-31_cases\", \"2020-06-01_cases\", \"2020-06-02_cases\", \"2020-06-03_cases\", \"2020-06-04_cases\", \"2020-06-05_cases\", \"2020-06-06_cases\", \"2020-06-07_cases\", \"2020-06-08_cases\", \"2020-06-09_cases\", \"2020-06-10_cases\", \"2020-06-11_cases\", \"2020-06-12_cases\", \"2020-06-13_cases\", \"2020-06-14_cases\", \"2020-06-15_cases\", \"2020-06-16_cases\", \"2020-06-17_cases\", \"2020-06-18_cases\", \"2020-06-19_cases\", \"2020-06-20_cases\", \"2020-06-21_cases\", \"2020-06-22_cases\", \"2020-06-23_cases\", \"2020-06-24_cases\", \"2020-06-25_cases\", \"2020-06-26_cases\", \"2020-06-27_cases\", \"2020-06-28_cases\", \"2020-06-29_cases\", \"2020-06-30_cases\", \"2020-07-01_cases\", \"2020-07-02_cases\", \"2020-07-03_cases\", \"2020-07-04_cases\", \"2020-07-05_cases\", \"2020-07-06_cases\", \"2020-07-07_cases\", \"2020-07-08_cases\", \"2020-07-09_cases\", \"2020-07-10_cases\", \"2020-07-11_cases\", \"2020-07-12_cases\", \"2020-07-13_cases\", \"2020-07-14_cases\", \"2020-07-15_cases\", \"2020-07-16_cases\", \"2020-07-17_cases\", \"2020-07-18_cases\", \"2020-07-19_cases\", \"2020-07-20_cases\", \"2020-07-21_cases\", \"2020-07-22_cases\", \"2020-07-23_cases\", \"2020-07-24_cases\", \"2020-07-25_cases\", \"2020-07-26_cases\", \"2020-07-27_cases\", \"2020-07-28_cases\", \"2020-07-29_cases\", \"2020-07-30_cases\", \"2020-07-31_cases\", \"2020-08-01_cases\", \"2020-08-02_cases\", \"2020-08-03_cases\", \"2020-08-04_cases\", \"2020-08-05_cases\", \"2020-08-06_cases\", \"2020-08-07_cases\", \"2020-08-08_cases\", \"2020-08-09_cases\", \"2020-08-10_cases\", \"2020-08-11_cases\", \"2020-08-12_cases\", \"2020-08-13_cases\", \"2020-08-14_cases\", \"2020-08-15_cases\", \"2020-08-16_cases\", \"2020-08-17_cases\", \"2020-08-18_cases\", \"2020-08-19_cases\", \"2020-08-20_cases\", \"2020-08-21_cases\", \"2020-08-22_cases\", \"2020-08-23_cases\", \"2020-08-24_cases\", \"2020-08-25_cases\", \"2020-08-26_cases\", \"2020-08-27_cases\", \"2020-08-28_cases\", \"2020-08-29_cases\", \"2020-08-30_cases\", \"2020-08-31_cases\", \"2020-09-01_cases\", \"2020-09-02_cases\", \"2020-09-03_cases\", \"2020-09-04_cases\", \"2020-09-05_cases\", \"2020-09-06_cases\", \"2020-09-07_cases\", \"2020-09-08_cases\", \"2020-09-09_cases\", \"2020-09-10_cases\", \"2020-09-11_cases\", \"2020-09-12_cases\", \"2020-09-13_cases\", \"2020-09-14_cases\", \"2020-09-15_cases\", \"2020-09-16_cases\", \"2020-09-17_cases\", \"2020-09-18_cases\", \"2020-09-19_cases\", \"2020-09-20_cases\", \"2020-09-21_cases\", \"2020-09-22_cases\", \"2020-09-23_cases\", \"2020-09-24_cases\", \"2020-09-25_cases\", \"2020-09-26_cases\", \"2020-09-27_cases\", \"2020-09-28_cases\", \"2020-09-29_cases\", \"2020-09-30_cases\", \"2020-10-01_cases\", \"2020-10-02_cases\", \"2020-10-03_cases\", \"2020-10-04_cases\", \"2020-10-05_cases\", \"2020-10-06_cases\", \"2020-10-07_cases\", \"2020-10-08_cases\", \"2020-10-09_cases\", \"2020-10-10_cases\", \"2020-10-11_cases\", \"2020-10-12_cases\", \"2020-10-13_cases\", \"2020-10-14_cases\", \"2020-10-15_cases\", \"2020-10-16_cases\", \"2020-10-17_cases\", \"2020-10-18_cases\", \"2020-10-19_cases\", \"2020-10-20_cases\", \"2020-10-21_cases\", \"2020-10-22_cases\", \"2020-10-23_cases\", \"2020-10-24_cases\", \"2020-10-25_cases\", \"2020-10-26_cases\", \"2020-10-27_cases\", \"2020-10-28_cases\", \"2020-10-29_cases\", \"2020-10-30_cases\", \"2020-10-31_cases\", \"2020-11-01_cases\", \"2020-11-02_cases\", \"2020-11-03_cases\", \"2020-11-04_cases\", \"2020-11-05_cases\", \"2020-11-06_cases\", \"2020-11-07_cases\", \"2020-11-08_cases\", \"2020-11-09_cases\", \"2020-11-10_cases\", \"2020-11-11_cases\", \"2020-11-12_cases\", \"2020-11-13_cases\", \"2020-11-14_cases\", \"2020-11-15_cases\", \"2020-11-16_cases\", \"2020-11-17_cases\", \"2020-11-18_cases\", \"2020-11-19_cases\", \"2020-11-20_cases\", \"2020-11-21_cases\", \"2020-11-22_cases\", \"2020-11-23_cases\", \"2020-11-24_cases\", \"2020-11-25_cases\", \"2020-11-26_cases\", \"2020-11-27_cases\", \"2020-11-28_cases\", \"2020-11-29_cases\", \"2020-11-30_cases\", \"2020-12-01_cases\", \"2020-12-02_cases\", \"2020-12-03_cases\", \"2020-12-04_cases\", \"2020-12-05_cases\", \"2020-12-06_cases\", \"2020-12-07_cases\", \"2020-12-08_cases\", \"2020-12-09_cases\", \"2020-12-10_cases\", \"2020-12-11_cases\", \"2020-12-12_cases\", \"2020-12-13_cases\", \"2020-12-14_cases\", \"2020-12-15_cases\", \"2020-12-16_cases\", \"2020-12-17_cases\", \"2020-12-18_cases\", \"2020-12-19_cases\", \"2020-12-20_cases\", \"2020-12-21_cases\", \"2020-12-22_cases\", \"2020-12-23_cases\", \"2020-12-24_cases\", \"2020-12-25_cases\", \"2020-12-26_cases\", \"2020-12-27_cases\", \"2020-12-28_cases\", \"2020-12-29_cases\", \"2020-12-30_cases\", \"2020-12-31_cases\", \"2021-01-01_cases\", \"2021-01-02_cases\", \"2021-01-03_cases\", \"2021-01-04_cases\", \"2021-01-05_cases\", \"2021-01-06_cases\", \"2021-01-07_cases\", \"2021-01-08_cases\", \"2021-01-09_cases\", \"2021-01-10_cases\", \"2021-01-11_cases\", \"2021-01-12_cases\", \"2021-01-13_cases\", \"2021-01-14_cases\", \"2021-01-15_cases\", \"2021-01-16_cases\", \"2021-01-17_cases\", \"2021-01-18_cases\", \"2021-01-19_cases\", \"2021-01-20_cases\", \"2021-01-21_cases\", \"2021-01-22_cases\", \"2021-01-23_cases\", \"2021-01-24_cases\", \"2021-01-25_cases\", \"2021-01-26_cases\", \"2021-01-27_cases\", \"2021-01-28_cases\", \"2021-01-29_cases\", \"2021-01-30_cases\", \"2021-01-31_cases\", \"2021-02-01_cases\", \"2021-02-02_cases\", \"2021-02-03_cases\", \"2021-02-04_cases\", \"2021-02-05_cases\", \"2021-02-06_cases\", \"2021-02-07_cases\", \"2021-02-08_cases\", \"2021-02-09_cases\", \"2021-02-10_cases\", \"2021-02-11_cases\", \"2021-02-12_cases\", \"2021-02-13_cases\", \"2021-02-14_cases\", \"2021-02-15_cases\", \"2021-02-16_cases\", \"2021-02-17_cases\", \"2021-02-18_cases\", \"2021-02-19_cases\", \"2021-02-20_cases\", \"2021-02-21_cases\", \"2021-02-22_cases\", \"2021-02-23_cases\", \"2021-02-24_cases\", \"2021-02-25_cases\", \"2021-02-26_cases\", \"2021-02-27_cases\", \"2021-02-28_cases\", \"2021-03-01_cases\", \"2021-03-02_cases\", \"2021-03-03_cases\", \"2021-03-04_cases\", \"2021-03-05_cases\", \"2021-03-06_cases\", \"2021-03-07_cases\", \"2021-03-08_cases\", \"2021-03-09_cases\", \"2021-03-10_cases\", \"2021-03-11_cases\", \"2021-03-12_cases\", \"2021-03-13_cases\", \"2021-03-14_cases\", \"2021-03-15_cases\", \"2021-03-16_cases\", \"2021-03-17_cases\"], \"y\": [\"Bexar County\", 0, 0, 0, 0, 0, 0, 0, 0, 0, 0, 0, 0, 0, 0, 0, 0, 0, 0, 0, 0, 0, 0, 0, 0, 0, 0, 0, 0, 0, 0, 0, 0, 0, 0, 0, 0, 0, 0, 0, 0, 0, 0, 0, 0, 0, 0, 0, 0, 0, 0, 0, 0, 39, 77, 0, 0, 39, 77, 232, 387, 77, 1279, 465, 581, 1124, 271, 775, 659, 426, 1511, 852, 969, 3410, 1627, 1007, 1782, 1395, 2402, 2363, 1937, 2247, 1898, 852, 0, 3719, 1085, 1589, 0, 2170, 0, 542, 1976, 1782, 1589, 1085, 1395, 891, 814, 1240, 736, 1860, 3991, 4184, 1085, 1511, 969, 3255, 1705, 1162, 2557, 0, 736, 852, 1317, 2518, 3061, 0, 0, 2790, 3332, 1705, 1898, 814, 1007, 930, 271, 1201, 1744, 2247, 2053, 7323, 194, 349, 1666, 2751, 2518, 4843, 5695, 814, 852, 6974, 5231, 7439, 6664, 8911, 5850, 1705, 17009, 10306, 15808, 15963, 14800, 20845, 10616, 12050, 13444, 24719, 15692, 30802, 19179, 25184, 49128, 17009, 14491, 51685, 13212, 7671, 13599, 30143, 32739, 36962, 35761, 20728, 19799, 21891, 51647, 213134, 18520, 42929, 85316, 18636, 61217, 25533, 41767, 11585, 29368, 15227, 13754, 59899, 36652, 51259, 21310, 14491, 0, 0, 5269, 13173, 12592, 13948, 8989, 9764, 6819, 7943, 11275, 11933, 2325, 6587, 2286, 2712, 5540, 0, 7400, 7207, 19915, 3836, 4223, 4804, 5192, 7323, 10539, 8059, 4262, 1550, 8601, 9686, 6083, 4417, 5076, 8834, 0, 7478, 5850, 2673, 4572, 4804, 66525, 3913, 4456, 5928, 5463, 6277, 6703, 100000, 3952, 7594, 6005, 6858, 8679, 3874, 110422, 2441, 18171, 6005, 4029, 3991, 5618, 19140, 2635, 7478, 8291, 6587, 7400, 3100, 3487, 1782, 6664, 5114, 8679, 7129, 7245, 104572, 3797, 6509, 8253, 8020, 9570, 8330, 5424, 5850, 6742, 10887, 7788, 6858, 10577, 7400, 6470, 11546, 7168, 7555, 8446, 9221, 10151, 16157, 12863, 0, 13057, 26773, 15072, 9647, 7516, 11313, 14181, 18714, 36265, 19062, 41728, 27470, 43665, 39985, 0, 0, 64355, 63774, 43278, 17513, 58078, 29446, 50988, 26889, 42270, 46881, 50136, 28284, 45486, 42232, 38435, 27354, 23208, 52654, 0, 54088, 98489, 28826, 51995, 0, 49709, 848547, 11662, 0, 0, 210190, 1666, 81403, 51259, 0, 0, 142193, 86633, 40953, 83379, 81248, 45331, 41806, 50407, 119024, 61410, 89229, 53390, 70864, 111933, 110035, 85703, 49632, 92793, 32933, 97133, 87059, 65246, 19644, 80666, 31809, 51957, 67881, 59861, 82177, 134289, 92057, 48818, 39210, 33320, 66796, 24215, 84851, 9105, 52228, 25571, 34948, 27741, 26501, 0, 0, 0, 0, 0, 0, 85897, 135529, 8911, 10461, 14374, 15653, 19411, 18675, 31344, 11158, 9647, 7361, 9376, 11120, 5308, 25068, 8911, 6625, 3719, 14181, 6122, 3255, 38396, 5967, 7439, 7207]}, {\"line\": {\"color\": \"rgba(219, 64, 82, 1.0)\", \"dash\": \"solid\", \"shape\": \"linear\", \"width\": 1.3}, \"mode\": \"lines\", \"name\": \"2793\", \"text\": \"\", \"type\": \"scatter\", \"x\": [\"County Name\", \"2020-01-22_cases\", \"2020-01-23_cases\", \"2020-01-24_cases\", \"2020-01-25_cases\", \"2020-01-26_cases\", \"2020-01-27_cases\", \"2020-01-28_cases\", \"2020-01-29_cases\", \"2020-01-30_cases\", \"2020-01-31_cases\", \"2020-02-01_cases\", \"2020-02-02_cases\", \"2020-02-03_cases\", \"2020-02-04_cases\", \"2020-02-05_cases\", \"2020-02-06_cases\", \"2020-02-07_cases\", \"2020-02-08_cases\", \"2020-02-09_cases\", \"2020-02-10_cases\", \"2020-02-11_cases\", \"2020-02-12_cases\", \"2020-02-13_cases\", \"2020-02-14_cases\", \"2020-02-15_cases\", \"2020-02-16_cases\", \"2020-02-17_cases\", \"2020-02-18_cases\", \"2020-02-19_cases\", \"2020-02-20_cases\", \"2020-02-21_cases\", \"2020-02-22_cases\", \"2020-02-23_cases\", \"2020-02-24_cases\", \"2020-02-25_cases\", \"2020-02-26_cases\", \"2020-02-27_cases\", \"2020-02-28_cases\", \"2020-02-29_cases\", \"2020-03-01_cases\", \"2020-03-02_cases\", \"2020-03-03_cases\", \"2020-03-04_cases\", \"2020-03-05_cases\", \"2020-03-06_cases\", \"2020-03-07_cases\", \"2020-03-08_cases\", \"2020-03-09_cases\", \"2020-03-10_cases\", \"2020-03-11_cases\", \"2020-03-12_cases\", \"2020-03-13_cases\", \"2020-03-14_cases\", \"2020-03-15_cases\", \"2020-03-16_cases\", \"2020-03-17_cases\", \"2020-03-18_cases\", \"2020-03-19_cases\", \"2020-03-20_cases\", \"2020-03-21_cases\", \"2020-03-22_cases\", \"2020-03-23_cases\", \"2020-03-24_cases\", \"2020-03-25_cases\", \"2020-03-26_cases\", \"2020-03-27_cases\", \"2020-03-28_cases\", \"2020-03-29_cases\", \"2020-03-30_cases\", \"2020-03-31_cases\", \"2020-04-01_cases\", \"2020-04-02_cases\", \"2020-04-03_cases\", \"2020-04-04_cases\", \"2020-04-05_cases\", \"2020-04-06_cases\", \"2020-04-07_cases\", \"2020-04-08_cases\", \"2020-04-09_cases\", \"2020-04-10_cases\", \"2020-04-11_cases\", \"2020-04-12_cases\", \"2020-04-13_cases\", \"2020-04-14_cases\", \"2020-04-15_cases\", \"2020-04-16_cases\", \"2020-04-17_cases\", \"2020-04-18_cases\", \"2020-04-19_cases\", \"2020-04-20_cases\", \"2020-04-21_cases\", \"2020-04-22_cases\", \"2020-04-23_cases\", \"2020-04-24_cases\", \"2020-04-25_cases\", \"2020-04-26_cases\", \"2020-04-27_cases\", \"2020-04-28_cases\", \"2020-04-29_cases\", \"2020-04-30_cases\", \"2020-05-01_cases\", \"2020-05-02_cases\", \"2020-05-03_cases\", \"2020-05-04_cases\", \"2020-05-05_cases\", \"2020-05-06_cases\", \"2020-05-07_cases\", \"2020-05-08_cases\", \"2020-05-09_cases\", \"2020-05-10_cases\", \"2020-05-11_cases\", \"2020-05-12_cases\", \"2020-05-13_cases\", \"2020-05-14_cases\", \"2020-05-15_cases\", \"2020-05-16_cases\", \"2020-05-17_cases\", \"2020-05-18_cases\", \"2020-05-19_cases\", \"2020-05-20_cases\", \"2020-05-21_cases\", \"2020-05-22_cases\", \"2020-05-23_cases\", \"2020-05-24_cases\", \"2020-05-25_cases\", \"2020-05-26_cases\", \"2020-05-27_cases\", \"2020-05-28_cases\", \"2020-05-29_cases\", \"2020-05-30_cases\", \"2020-05-31_cases\", \"2020-06-01_cases\", \"2020-06-02_cases\", \"2020-06-03_cases\", \"2020-06-04_cases\", \"2020-06-05_cases\", \"2020-06-06_cases\", \"2020-06-07_cases\", \"2020-06-08_cases\", \"2020-06-09_cases\", \"2020-06-10_cases\", \"2020-06-11_cases\", \"2020-06-12_cases\", \"2020-06-13_cases\", \"2020-06-14_cases\", \"2020-06-15_cases\", \"2020-06-16_cases\", \"2020-06-17_cases\", \"2020-06-18_cases\", \"2020-06-19_cases\", \"2020-06-20_cases\", \"2020-06-21_cases\", \"2020-06-22_cases\", \"2020-06-23_cases\", \"2020-06-24_cases\", \"2020-06-25_cases\", \"2020-06-26_cases\", \"2020-06-27_cases\", \"2020-06-28_cases\", \"2020-06-29_cases\", \"2020-06-30_cases\", \"2020-07-01_cases\", \"2020-07-02_cases\", \"2020-07-03_cases\", \"2020-07-04_cases\", \"2020-07-05_cases\", \"2020-07-06_cases\", \"2020-07-07_cases\", \"2020-07-08_cases\", \"2020-07-09_cases\", \"2020-07-10_cases\", \"2020-07-11_cases\", \"2020-07-12_cases\", \"2020-07-13_cases\", \"2020-07-14_cases\", \"2020-07-15_cases\", \"2020-07-16_cases\", \"2020-07-17_cases\", \"2020-07-18_cases\", \"2020-07-19_cases\", \"2020-07-20_cases\", \"2020-07-21_cases\", \"2020-07-22_cases\", \"2020-07-23_cases\", \"2020-07-24_cases\", \"2020-07-25_cases\", \"2020-07-26_cases\", \"2020-07-27_cases\", \"2020-07-28_cases\", \"2020-07-29_cases\", \"2020-07-30_cases\", \"2020-07-31_cases\", \"2020-08-01_cases\", \"2020-08-02_cases\", \"2020-08-03_cases\", \"2020-08-04_cases\", \"2020-08-05_cases\", \"2020-08-06_cases\", \"2020-08-07_cases\", \"2020-08-08_cases\", \"2020-08-09_cases\", \"2020-08-10_cases\", \"2020-08-11_cases\", \"2020-08-12_cases\", \"2020-08-13_cases\", \"2020-08-14_cases\", \"2020-08-15_cases\", \"2020-08-16_cases\", \"2020-08-17_cases\", \"2020-08-18_cases\", \"2020-08-19_cases\", \"2020-08-20_cases\", \"2020-08-21_cases\", \"2020-08-22_cases\", \"2020-08-23_cases\", \"2020-08-24_cases\", \"2020-08-25_cases\", \"2020-08-26_cases\", \"2020-08-27_cases\", \"2020-08-28_cases\", \"2020-08-29_cases\", \"2020-08-30_cases\", \"2020-08-31_cases\", \"2020-09-01_cases\", \"2020-09-02_cases\", \"2020-09-03_cases\", \"2020-09-04_cases\", \"2020-09-05_cases\", \"2020-09-06_cases\", \"2020-09-07_cases\", \"2020-09-08_cases\", \"2020-09-09_cases\", \"2020-09-10_cases\", \"2020-09-11_cases\", \"2020-09-12_cases\", \"2020-09-13_cases\", \"2020-09-14_cases\", \"2020-09-15_cases\", \"2020-09-16_cases\", \"2020-09-17_cases\", \"2020-09-18_cases\", \"2020-09-19_cases\", \"2020-09-20_cases\", \"2020-09-21_cases\", \"2020-09-22_cases\", \"2020-09-23_cases\", \"2020-09-24_cases\", \"2020-09-25_cases\", \"2020-09-26_cases\", \"2020-09-27_cases\", \"2020-09-28_cases\", \"2020-09-29_cases\", \"2020-09-30_cases\", \"2020-10-01_cases\", \"2020-10-02_cases\", \"2020-10-03_cases\", \"2020-10-04_cases\", \"2020-10-05_cases\", \"2020-10-06_cases\", \"2020-10-07_cases\", \"2020-10-08_cases\", \"2020-10-09_cases\", \"2020-10-10_cases\", \"2020-10-11_cases\", \"2020-10-12_cases\", \"2020-10-13_cases\", \"2020-10-14_cases\", \"2020-10-15_cases\", \"2020-10-16_cases\", \"2020-10-17_cases\", \"2020-10-18_cases\", \"2020-10-19_cases\", \"2020-10-20_cases\", \"2020-10-21_cases\", \"2020-10-22_cases\", \"2020-10-23_cases\", \"2020-10-24_cases\", \"2020-10-25_cases\", \"2020-10-26_cases\", \"2020-10-27_cases\", \"2020-10-28_cases\", \"2020-10-29_cases\", \"2020-10-30_cases\", \"2020-10-31_cases\", \"2020-11-01_cases\", \"2020-11-02_cases\", \"2020-11-03_cases\", \"2020-11-04_cases\", \"2020-11-05_cases\", \"2020-11-06_cases\", \"2020-11-07_cases\", \"2020-11-08_cases\", \"2020-11-09_cases\", \"2020-11-10_cases\", \"2020-11-11_cases\", \"2020-11-12_cases\", \"2020-11-13_cases\", \"2020-11-14_cases\", \"2020-11-15_cases\", \"2020-11-16_cases\", \"2020-11-17_cases\", \"2020-11-18_cases\", \"2020-11-19_cases\", \"2020-11-20_cases\", \"2020-11-21_cases\", \"2020-11-22_cases\", \"2020-11-23_cases\", \"2020-11-24_cases\", \"2020-11-25_cases\", \"2020-11-26_cases\", \"2020-11-27_cases\", \"2020-11-28_cases\", \"2020-11-29_cases\", \"2020-11-30_cases\", \"2020-12-01_cases\", \"2020-12-02_cases\", \"2020-12-03_cases\", \"2020-12-04_cases\", \"2020-12-05_cases\", \"2020-12-06_cases\", \"2020-12-07_cases\", \"2020-12-08_cases\", \"2020-12-09_cases\", \"2020-12-10_cases\", \"2020-12-11_cases\", \"2020-12-12_cases\", \"2020-12-13_cases\", \"2020-12-14_cases\", \"2020-12-15_cases\", \"2020-12-16_cases\", \"2020-12-17_cases\", \"2020-12-18_cases\", \"2020-12-19_cases\", \"2020-12-20_cases\", \"2020-12-21_cases\", \"2020-12-22_cases\", \"2020-12-23_cases\", \"2020-12-24_cases\", \"2020-12-25_cases\", \"2020-12-26_cases\", \"2020-12-27_cases\", \"2020-12-28_cases\", \"2020-12-29_cases\", \"2020-12-30_cases\", \"2020-12-31_cases\", \"2021-01-01_cases\", \"2021-01-02_cases\", \"2021-01-03_cases\", \"2021-01-04_cases\", \"2021-01-05_cases\", \"2021-01-06_cases\", \"2021-01-07_cases\", \"2021-01-08_cases\", \"2021-01-09_cases\", \"2021-01-10_cases\", \"2021-01-11_cases\", \"2021-01-12_cases\", \"2021-01-13_cases\", \"2021-01-14_cases\", \"2021-01-15_cases\", \"2021-01-16_cases\", \"2021-01-17_cases\", \"2021-01-18_cases\", \"2021-01-19_cases\", \"2021-01-20_cases\", \"2021-01-21_cases\", \"2021-01-22_cases\", \"2021-01-23_cases\", \"2021-01-24_cases\", \"2021-01-25_cases\", \"2021-01-26_cases\", \"2021-01-27_cases\", \"2021-01-28_cases\", \"2021-01-29_cases\", \"2021-01-30_cases\", \"2021-01-31_cases\", \"2021-02-01_cases\", \"2021-02-02_cases\", \"2021-02-03_cases\", \"2021-02-04_cases\", \"2021-02-05_cases\", \"2021-02-06_cases\", \"2021-02-07_cases\", \"2021-02-08_cases\", \"2021-02-09_cases\", \"2021-02-10_cases\", \"2021-02-11_cases\", \"2021-02-12_cases\", \"2021-02-13_cases\", \"2021-02-14_cases\", \"2021-02-15_cases\", \"2021-02-16_cases\", \"2021-02-17_cases\", \"2021-02-18_cases\", \"2021-02-19_cases\", \"2021-02-20_cases\", \"2021-02-21_cases\", \"2021-02-22_cases\", \"2021-02-23_cases\", \"2021-02-24_cases\", \"2021-02-25_cases\", \"2021-02-26_cases\", \"2021-02-27_cases\", \"2021-02-28_cases\", \"2021-03-01_cases\", \"2021-03-02_cases\", \"2021-03-03_cases\", \"2021-03-04_cases\", \"2021-03-05_cases\", \"2021-03-06_cases\", \"2021-03-07_cases\", \"2021-03-08_cases\", \"2021-03-09_cases\", \"2021-03-10_cases\", \"2021-03-11_cases\", \"2021-03-12_cases\", \"2021-03-13_cases\", \"2021-03-14_cases\", \"2021-03-15_cases\", \"2021-03-16_cases\", \"2021-03-17_cases\"], \"y\": [\"Travis County\", 0, 0, 0, 0, 0, 0, 0, 0, 0, 0, 0, 0, 0, 0, 0, 0, 0, 0, 0, 0, 0, 0, 0, 0, 0, 0, 0, 0, 0, 0, 0, 0, 0, 0, 0, 0, 0, 0, 0, 0, 0, 0, 0, 0, 0, 0, 0, 0, 0, 0, 0, 36, 0, 0, 36, 179, 501, 716, 0, 0, 0, 1611, 430, 752, 644, 823, 0, 680, 752, 215, 1361, 2184, 4475, 1074, 859, 644, 1862, 1540, 1611, 1719, 1933, 1074, 2936, 0, 4332, 1862, 1611, 0, 1217, 0, 2363, 2112, 1074, 1754, 2399, 609, 573, 1862, 2685, 1862, 2256, 1038, 1110, 1504, 2148, 2148, 2506, 2005, 2470, 859, 1146, 1575, 2291, 1898, 2041, 1289, 1575, 1217, 2793, 2077, 1754, 2435, 1754, 967, 2112, 3079, 1826, 2614, 2399, 2220, 1647, 1432, 3151, 2614, 2435, 2184, 1933, 1647, 1253, 4225, 5764, 4762, 4619, 2721, 5263, 3008, 4261, 3831, 7877, 0, 10562, 14966, 18117, 4619, 9202, 11386, 6552, 0, 26065, 22771, 18188, 19979, 21375, 20444, 11242, 4368, 19620, 8844, 17257, 26960, 25170, 15754, 11386, 5943, 23523, 19799, 20480, 14787, 8306, 8557, 6874, 5192, 21590, 10813, 8700, 8521, 8020, 2828, 8593, 8306, 8414, 9953, 10025, 0, 16792, 11994, 9774, 7232, 8306, 8020, 4368, 4368, 8199, 10598, 6158, 10634, 5442, 4941, 4869, 9488, 12531, 10849, 10419, 7376, 2900, 3437, 5514, 4547, 3580, 4368, 2435, 322, 4225, 2936, 251, 3545, 3724, 4583, 2757, 1361, 2470, 3079, 2936, 7805, 3616, 1898, 4404, 2685, 6624, 5084, 3903, 5836, 2256, 107, 5550, 1683, 3652, 5693, 6051, 2041, 4368, 3258, 2793, 3330, 2220, 2542, 3688, 1754, 2077, 3401, 1611, 2793, 3222, 1217, 2363, 4762, 0, 7268, 3115, 3903, 3974, 1719, 3473, 3795, 2470, 3545, 3008, 2936, 2077, 3652, 4368, 2721, 3294, 2900, 4261, 2757, 2972, 5299, 5514, 5120, 6445, 3151, 5442, 7662, 6337, 7519, 6839, 8736, 10741, 3867, 5621, 8987, 10956, 10383, 13176, 6839, 9345, 11386, 13104, 4225, 0, 15324, 8306, 5263, 11887, 13605, 10025, 8235, 10705, 12854, 10168, 9739, 12710, 9166, 15288, 13677, 8414, 10920, 14859, 21948, 13140, 0, 0, 0, 59291, 19227, 24060, 13426, 0, 0, 40530, 7734, 18869, 24955, 19549, 14357, 0, 34479, 14250, 26924, 20193, 23738, 0, 52667, 16613, 0, 34193, 0, 52309, 39671, 24705, 10562, 14429, 24561, 29860, 26280, 25600, 19334, 13140, 10920, 19477, 25134, 23272, 25313, 16255, 9667, 15789, 24239, 24382, 19406, 19083, 9381, 7053, 7447, 16040, 12388, 12424, 10276, 9989, 0, 0, 0, 0, 0, 0, 0, 0, 9703, 14214, 14035, 8485, 7590, 11278, 9130, 680, 9488, 6695, 6660, 3258, 2936, 2148, 4690, 3724, 4046, 8127, 5335, 3509, 2828, 2757, 6588, 3795]}],                        {\"legend\": {\"bgcolor\": \"#F5F6F9\", \"font\": {\"color\": \"#4D5663\"}}, \"paper_bgcolor\": \"#F5F6F9\", \"plot_bgcolor\": \"#F5F6F9\", \"template\": {\"data\": {\"bar\": [{\"error_x\": {\"color\": \"#2a3f5f\"}, \"error_y\": {\"color\": \"#2a3f5f\"}, \"marker\": {\"line\": {\"color\": \"#E5ECF6\", \"width\": 0.5}}, \"type\": \"bar\"}], \"barpolar\": [{\"marker\": {\"line\": {\"color\": \"#E5ECF6\", \"width\": 0.5}}, \"type\": \"barpolar\"}], \"carpet\": [{\"aaxis\": {\"endlinecolor\": \"#2a3f5f\", \"gridcolor\": \"white\", \"linecolor\": \"white\", \"minorgridcolor\": \"white\", \"startlinecolor\": \"#2a3f5f\"}, \"baxis\": {\"endlinecolor\": \"#2a3f5f\", \"gridcolor\": \"white\", \"linecolor\": \"white\", \"minorgridcolor\": \"white\", \"startlinecolor\": \"#2a3f5f\"}, \"type\": \"carpet\"}], \"choropleth\": [{\"colorbar\": {\"outlinewidth\": 0, \"ticks\": \"\"}, \"type\": \"choropleth\"}], \"contour\": [{\"colorbar\": {\"outlinewidth\": 0, \"ticks\": \"\"}, \"colorscale\": [[0.0, \"#0d0887\"], [0.1111111111111111, \"#46039f\"], [0.2222222222222222, \"#7201a8\"], [0.3333333333333333, \"#9c179e\"], [0.4444444444444444, \"#bd3786\"], [0.5555555555555556, \"#d8576b\"], [0.6666666666666666, \"#ed7953\"], [0.7777777777777778, \"#fb9f3a\"], [0.8888888888888888, \"#fdca26\"], [1.0, \"#f0f921\"]], \"type\": \"contour\"}], \"contourcarpet\": [{\"colorbar\": {\"outlinewidth\": 0, \"ticks\": \"\"}, \"type\": \"contourcarpet\"}], \"heatmap\": [{\"colorbar\": {\"outlinewidth\": 0, \"ticks\": \"\"}, \"colorscale\": [[0.0, \"#0d0887\"], [0.1111111111111111, \"#46039f\"], [0.2222222222222222, \"#7201a8\"], [0.3333333333333333, \"#9c179e\"], [0.4444444444444444, \"#bd3786\"], [0.5555555555555556, \"#d8576b\"], [0.6666666666666666, \"#ed7953\"], [0.7777777777777778, \"#fb9f3a\"], [0.8888888888888888, \"#fdca26\"], [1.0, \"#f0f921\"]], \"type\": \"heatmap\"}], \"heatmapgl\": [{\"colorbar\": {\"outlinewidth\": 0, \"ticks\": \"\"}, \"colorscale\": [[0.0, \"#0d0887\"], [0.1111111111111111, \"#46039f\"], [0.2222222222222222, \"#7201a8\"], [0.3333333333333333, \"#9c179e\"], [0.4444444444444444, \"#bd3786\"], [0.5555555555555556, \"#d8576b\"], [0.6666666666666666, \"#ed7953\"], [0.7777777777777778, \"#fb9f3a\"], [0.8888888888888888, \"#fdca26\"], [1.0, \"#f0f921\"]], \"type\": \"heatmapgl\"}], \"histogram\": [{\"marker\": {\"colorbar\": {\"outlinewidth\": 0, \"ticks\": \"\"}}, \"type\": \"histogram\"}], \"histogram2d\": [{\"colorbar\": {\"outlinewidth\": 0, \"ticks\": \"\"}, \"colorscale\": [[0.0, \"#0d0887\"], [0.1111111111111111, \"#46039f\"], [0.2222222222222222, \"#7201a8\"], [0.3333333333333333, \"#9c179e\"], [0.4444444444444444, \"#bd3786\"], [0.5555555555555556, \"#d8576b\"], [0.6666666666666666, \"#ed7953\"], [0.7777777777777778, \"#fb9f3a\"], [0.8888888888888888, \"#fdca26\"], [1.0, \"#f0f921\"]], \"type\": \"histogram2d\"}], \"histogram2dcontour\": [{\"colorbar\": {\"outlinewidth\": 0, \"ticks\": \"\"}, \"colorscale\": [[0.0, \"#0d0887\"], [0.1111111111111111, \"#46039f\"], [0.2222222222222222, \"#7201a8\"], [0.3333333333333333, \"#9c179e\"], [0.4444444444444444, \"#bd3786\"], [0.5555555555555556, \"#d8576b\"], [0.6666666666666666, \"#ed7953\"], [0.7777777777777778, \"#fb9f3a\"], [0.8888888888888888, \"#fdca26\"], [1.0, \"#f0f921\"]], \"type\": \"histogram2dcontour\"}], \"mesh3d\": [{\"colorbar\": {\"outlinewidth\": 0, \"ticks\": \"\"}, \"type\": \"mesh3d\"}], \"parcoords\": [{\"line\": {\"colorbar\": {\"outlinewidth\": 0, \"ticks\": \"\"}}, \"type\": \"parcoords\"}], \"pie\": [{\"automargin\": true, \"type\": \"pie\"}], \"scatter\": [{\"marker\": {\"colorbar\": {\"outlinewidth\": 0, \"ticks\": \"\"}}, \"type\": \"scatter\"}], \"scatter3d\": [{\"line\": {\"colorbar\": {\"outlinewidth\": 0, \"ticks\": \"\"}}, \"marker\": {\"colorbar\": {\"outlinewidth\": 0, \"ticks\": \"\"}}, \"type\": \"scatter3d\"}], \"scattercarpet\": [{\"marker\": {\"colorbar\": {\"outlinewidth\": 0, \"ticks\": \"\"}}, \"type\": \"scattercarpet\"}], \"scattergeo\": [{\"marker\": {\"colorbar\": {\"outlinewidth\": 0, \"ticks\": \"\"}}, \"type\": \"scattergeo\"}], \"scattergl\": [{\"marker\": {\"colorbar\": {\"outlinewidth\": 0, \"ticks\": \"\"}}, \"type\": \"scattergl\"}], \"scattermapbox\": [{\"marker\": {\"colorbar\": {\"outlinewidth\": 0, \"ticks\": \"\"}}, \"type\": \"scattermapbox\"}], \"scatterpolar\": [{\"marker\": {\"colorbar\": {\"outlinewidth\": 0, \"ticks\": \"\"}}, \"type\": \"scatterpolar\"}], \"scatterpolargl\": [{\"marker\": {\"colorbar\": {\"outlinewidth\": 0, \"ticks\": \"\"}}, \"type\": \"scatterpolargl\"}], \"scatterternary\": [{\"marker\": {\"colorbar\": {\"outlinewidth\": 0, \"ticks\": \"\"}}, \"type\": \"scatterternary\"}], \"surface\": [{\"colorbar\": {\"outlinewidth\": 0, \"ticks\": \"\"}, \"colorscale\": [[0.0, \"#0d0887\"], [0.1111111111111111, \"#46039f\"], [0.2222222222222222, \"#7201a8\"], [0.3333333333333333, \"#9c179e\"], [0.4444444444444444, \"#bd3786\"], [0.5555555555555556, \"#d8576b\"], [0.6666666666666666, \"#ed7953\"], [0.7777777777777778, \"#fb9f3a\"], [0.8888888888888888, \"#fdca26\"], [1.0, \"#f0f921\"]], \"type\": \"surface\"}], \"table\": [{\"cells\": {\"fill\": {\"color\": \"#EBF0F8\"}, \"line\": {\"color\": \"white\"}}, \"header\": {\"fill\": {\"color\": \"#C8D4E3\"}, \"line\": {\"color\": \"white\"}}, \"type\": \"table\"}]}, \"layout\": {\"annotationdefaults\": {\"arrowcolor\": \"#2a3f5f\", \"arrowhead\": 0, \"arrowwidth\": 1}, \"autotypenumbers\": \"strict\", \"coloraxis\": {\"colorbar\": {\"outlinewidth\": 0, \"ticks\": \"\"}}, \"colorscale\": {\"diverging\": [[0, \"#8e0152\"], [0.1, \"#c51b7d\"], [0.2, \"#de77ae\"], [0.3, \"#f1b6da\"], [0.4, \"#fde0ef\"], [0.5, \"#f7f7f7\"], [0.6, \"#e6f5d0\"], [0.7, \"#b8e186\"], [0.8, \"#7fbc41\"], [0.9, \"#4d9221\"], [1, \"#276419\"]], \"sequential\": [[0.0, \"#0d0887\"], [0.1111111111111111, \"#46039f\"], [0.2222222222222222, \"#7201a8\"], [0.3333333333333333, \"#9c179e\"], [0.4444444444444444, \"#bd3786\"], [0.5555555555555556, \"#d8576b\"], [0.6666666666666666, \"#ed7953\"], [0.7777777777777778, \"#fb9f3a\"], [0.8888888888888888, \"#fdca26\"], [1.0, \"#f0f921\"]], \"sequentialminus\": [[0.0, \"#0d0887\"], [0.1111111111111111, \"#46039f\"], [0.2222222222222222, \"#7201a8\"], [0.3333333333333333, \"#9c179e\"], [0.4444444444444444, \"#bd3786\"], [0.5555555555555556, \"#d8576b\"], [0.6666666666666666, \"#ed7953\"], [0.7777777777777778, \"#fb9f3a\"], [0.8888888888888888, \"#fdca26\"], [1.0, \"#f0f921\"]]}, \"colorway\": [\"#636efa\", \"#EF553B\", \"#00cc96\", \"#ab63fa\", \"#FFA15A\", \"#19d3f3\", \"#FF6692\", \"#B6E880\", \"#FF97FF\", \"#FECB52\"], \"font\": {\"color\": \"#2a3f5f\"}, \"geo\": {\"bgcolor\": \"white\", \"lakecolor\": \"white\", \"landcolor\": \"#E5ECF6\", \"showlakes\": true, \"showland\": true, \"subunitcolor\": \"white\"}, \"hoverlabel\": {\"align\": \"left\"}, \"hovermode\": \"closest\", \"mapbox\": {\"style\": \"light\"}, \"paper_bgcolor\": \"white\", \"plot_bgcolor\": \"#E5ECF6\", \"polar\": {\"angularaxis\": {\"gridcolor\": \"white\", \"linecolor\": \"white\", \"ticks\": \"\"}, \"bgcolor\": \"#E5ECF6\", \"radialaxis\": {\"gridcolor\": \"white\", \"linecolor\": \"white\", \"ticks\": \"\"}}, \"scene\": {\"xaxis\": {\"backgroundcolor\": \"#E5ECF6\", \"gridcolor\": \"white\", \"gridwidth\": 2, \"linecolor\": \"white\", \"showbackground\": true, \"ticks\": \"\", \"zerolinecolor\": \"white\"}, \"yaxis\": {\"backgroundcolor\": \"#E5ECF6\", \"gridcolor\": \"white\", \"gridwidth\": 2, \"linecolor\": \"white\", \"showbackground\": true, \"ticks\": \"\", \"zerolinecolor\": \"white\"}, \"zaxis\": {\"backgroundcolor\": \"#E5ECF6\", \"gridcolor\": \"white\", \"gridwidth\": 2, \"linecolor\": \"white\", \"showbackground\": true, \"ticks\": \"\", \"zerolinecolor\": \"white\"}}, \"shapedefaults\": {\"line\": {\"color\": \"#2a3f5f\"}}, \"ternary\": {\"aaxis\": {\"gridcolor\": \"white\", \"linecolor\": \"white\", \"ticks\": \"\"}, \"baxis\": {\"gridcolor\": \"white\", \"linecolor\": \"white\", \"ticks\": \"\"}, \"bgcolor\": \"#E5ECF6\", \"caxis\": {\"gridcolor\": \"white\", \"linecolor\": \"white\", \"ticks\": \"\"}}, \"title\": {\"x\": 0.05}, \"xaxis\": {\"automargin\": true, \"gridcolor\": \"white\", \"linecolor\": \"white\", \"ticks\": \"\", \"title\": {\"standoff\": 15}, \"zerolinecolor\": \"white\", \"zerolinewidth\": 2}, \"yaxis\": {\"automargin\": true, \"gridcolor\": \"white\", \"linecolor\": \"white\", \"ticks\": \"\", \"title\": {\"standoff\": 15}, \"zerolinecolor\": \"white\", \"zerolinewidth\": 2}}}, \"title\": {\"font\": {\"color\": \"#4D5663\"}, \"text\": \"Texas: Daily Cases Top 5 Counties\"}, \"xaxis\": {\"gridcolor\": \"#E1E5ED\", \"showgrid\": true, \"tickfont\": {\"color\": \"#4D5663\"}, \"title\": {\"font\": {\"color\": \"#4D5663\"}, \"text\": \"\"}, \"zerolinecolor\": \"#E1E5ED\"}, \"yaxis\": {\"gridcolor\": \"#E1E5ED\", \"showgrid\": true, \"tickfont\": {\"color\": \"#4D5663\"}, \"title\": {\"font\": {\"color\": \"#4D5663\"}, \"text\": \"\"}, \"zerolinecolor\": \"#E1E5ED\"}},                        {\"showLink\": true, \"linkText\": \"Export to plot.ly\", \"plotlyServerURL\": \"https://plot.ly\", \"responsive\": true}                    ).then(function(){\n",
       "                            \n",
       "var gd = document.getElementById('d447338c-8e1c-4222-96a3-537ec388b1ad');\n",
       "var x = new MutationObserver(function (mutations, observer) {{\n",
       "        var display = window.getComputedStyle(gd).display;\n",
       "        if (!display || display === 'none') {{\n",
       "            console.log([gd, 'removed!']);\n",
       "            Plotly.purge(gd);\n",
       "            observer.disconnect();\n",
       "        }}\n",
       "}});\n",
       "\n",
       "// Listen for the removal of the full notebook cells\n",
       "var notebookContainer = gd.closest('#notebook-container');\n",
       "if (notebookContainer) {{\n",
       "    x.observe(notebookContainer, {childList: true});\n",
       "}}\n",
       "\n",
       "// Listen for the clearing of the current output cell\n",
       "var outputEl = gd.closest('.output');\n",
       "if (outputEl) {{\n",
       "    x.observe(outputEl, {childList: true});\n",
       "}}\n",
       "\n",
       "                        })                };                });            </script>        </div>"
      ]
     },
     "metadata": {},
     "output_type": "display_data"
    }
   ],
   "source": [
    "TDCSF.T.iplot(kind='scatter', title='Texas: Daily Cases Top 5 Counties')"
   ]
  },
  {
   "cell_type": "markdown",
   "metadata": {},
   "source": [
    "#### From the top 5 counties a significant peak deaths can be seen in month 8"
   ]
  },
  {
   "cell_type": "code",
   "execution_count": 21,
   "metadata": {},
   "outputs": [
    {
     "data": {
      "application/vnd.plotly.v1+json": {
       "config": {
        "linkText": "Export to plot.ly",
        "plotlyServerURL": "https://plot.ly",
        "showLink": true
       },
       "data": [
        {
         "line": {
          "color": "rgba(255, 153, 51, 1.0)",
          "dash": "solid",
          "shape": "linear",
          "width": 1.3
         },
         "mode": "lines",
         "name": "2667",
         "text": "",
         "type": "scatter",
         "x": [
          "County Name",
          "2020-01-22_deaths",
          "2020-01-23_deaths",
          "2020-01-24_deaths",
          "2020-01-25_deaths",
          "2020-01-26_deaths",
          "2020-01-27_deaths",
          "2020-01-28_deaths",
          "2020-01-29_deaths",
          "2020-01-30_deaths",
          "2020-01-31_deaths",
          "2020-02-01_deaths",
          "2020-02-02_deaths",
          "2020-02-03_deaths",
          "2020-02-04_deaths",
          "2020-02-05_deaths",
          "2020-02-06_deaths",
          "2020-02-07_deaths",
          "2020-02-08_deaths",
          "2020-02-09_deaths",
          "2020-02-10_deaths",
          "2020-02-11_deaths",
          "2020-02-12_deaths",
          "2020-02-13_deaths",
          "2020-02-14_deaths",
          "2020-02-15_deaths",
          "2020-02-16_deaths",
          "2020-02-17_deaths",
          "2020-02-18_deaths",
          "2020-02-19_deaths",
          "2020-02-20_deaths",
          "2020-02-21_deaths",
          "2020-02-22_deaths",
          "2020-02-23_deaths",
          "2020-02-24_deaths",
          "2020-02-25_deaths",
          "2020-02-26_deaths",
          "2020-02-27_deaths",
          "2020-02-28_deaths",
          "2020-02-29_deaths",
          "2020-03-01_deaths",
          "2020-03-02_deaths",
          "2020-03-03_deaths",
          "2020-03-04_deaths",
          "2020-03-05_deaths",
          "2020-03-06_deaths",
          "2020-03-07_deaths",
          "2020-03-08_deaths",
          "2020-03-09_deaths",
          "2020-03-10_deaths",
          "2020-03-11_deaths",
          "2020-03-12_deaths",
          "2020-03-13_deaths",
          "2020-03-14_deaths",
          "2020-03-15_deaths",
          "2020-03-16_deaths",
          "2020-03-17_deaths",
          "2020-03-18_deaths",
          "2020-03-19_deaths",
          "2020-03-20_deaths",
          "2020-03-21_deaths",
          "2020-03-22_deaths",
          "2020-03-23_deaths",
          "2020-03-24_deaths",
          "2020-03-25_deaths",
          "2020-03-26_deaths",
          "2020-03-27_deaths",
          "2020-03-28_deaths",
          "2020-03-29_deaths",
          "2020-03-30_deaths",
          "2020-03-31_deaths",
          "2020-04-01_deaths",
          "2020-04-02_deaths",
          "2020-04-03_deaths",
          "2020-04-04_deaths",
          "2020-04-05_deaths",
          "2020-04-06_deaths",
          "2020-04-07_deaths",
          "2020-04-08_deaths",
          "2020-04-09_deaths",
          "2020-04-10_deaths",
          "2020-04-11_deaths",
          "2020-04-12_deaths",
          "2020-04-13_deaths",
          "2020-04-14_deaths",
          "2020-04-15_deaths",
          "2020-04-16_deaths",
          "2020-04-17_deaths",
          "2020-04-18_deaths",
          "2020-04-19_deaths",
          "2020-04-20_deaths",
          "2020-04-21_deaths",
          "2020-04-22_deaths",
          "2020-04-23_deaths",
          "2020-04-24_deaths",
          "2020-04-25_deaths",
          "2020-04-26_deaths",
          "2020-04-27_deaths",
          "2020-04-28_deaths",
          "2020-04-29_deaths",
          "2020-04-30_deaths",
          "2020-05-01_deaths",
          "2020-05-02_deaths",
          "2020-05-03_deaths",
          "2020-05-04_deaths",
          "2020-05-05_deaths",
          "2020-05-06_deaths",
          "2020-05-07_deaths",
          "2020-05-08_deaths",
          "2020-05-09_deaths",
          "2020-05-10_deaths",
          "2020-05-11_deaths",
          "2020-05-12_deaths",
          "2020-05-13_deaths",
          "2020-05-14_deaths",
          "2020-05-15_deaths",
          "2020-05-16_deaths",
          "2020-05-17_deaths",
          "2020-05-18_deaths",
          "2020-05-19_deaths",
          "2020-05-20_deaths",
          "2020-05-21_deaths",
          "2020-05-22_deaths",
          "2020-05-23_deaths",
          "2020-05-24_deaths",
          "2020-05-25_deaths",
          "2020-05-26_deaths",
          "2020-05-27_deaths",
          "2020-05-28_deaths",
          "2020-05-29_deaths",
          "2020-05-30_deaths",
          "2020-05-31_deaths",
          "2020-06-01_deaths",
          "2020-06-02_deaths",
          "2020-06-03_deaths",
          "2020-06-04_deaths",
          "2020-06-05_deaths",
          "2020-06-06_deaths",
          "2020-06-07_deaths",
          "2020-06-08_deaths",
          "2020-06-09_deaths",
          "2020-06-10_deaths",
          "2020-06-11_deaths",
          "2020-06-12_deaths",
          "2020-06-13_deaths",
          "2020-06-14_deaths",
          "2020-06-15_deaths",
          "2020-06-16_deaths",
          "2020-06-17_deaths",
          "2020-06-18_deaths",
          "2020-06-19_deaths",
          "2020-06-20_deaths",
          "2020-06-21_deaths",
          "2020-06-22_deaths",
          "2020-06-23_deaths",
          "2020-06-24_deaths",
          "2020-06-25_deaths",
          "2020-06-26_deaths",
          "2020-06-27_deaths",
          "2020-06-28_deaths",
          "2020-06-29_deaths",
          "2020-06-30_deaths",
          "2020-07-01_deaths",
          "2020-07-02_deaths",
          "2020-07-03_deaths",
          "2020-07-04_deaths",
          "2020-07-05_deaths",
          "2020-07-06_deaths",
          "2020-07-07_deaths",
          "2020-07-08_deaths",
          "2020-07-09_deaths",
          "2020-07-10_deaths",
          "2020-07-11_deaths",
          "2020-07-12_deaths",
          "2020-07-13_deaths",
          "2020-07-14_deaths",
          "2020-07-15_deaths",
          "2020-07-16_deaths",
          "2020-07-17_deaths",
          "2020-07-18_deaths",
          "2020-07-19_deaths",
          "2020-07-20_deaths",
          "2020-07-21_deaths",
          "2020-07-22_deaths",
          "2020-07-23_deaths",
          "2020-07-24_deaths",
          "2020-07-25_deaths",
          "2020-07-26_deaths",
          "2020-07-27_deaths",
          "2020-07-28_deaths",
          "2020-07-29_deaths",
          "2020-07-30_deaths",
          "2020-07-31_deaths",
          "2020-08-01_deaths",
          "2020-08-02_deaths",
          "2020-08-03_deaths",
          "2020-08-04_deaths",
          "2020-08-05_deaths",
          "2020-08-06_deaths",
          "2020-08-07_deaths",
          "2020-08-08_deaths",
          "2020-08-09_deaths",
          "2020-08-10_deaths",
          "2020-08-11_deaths",
          "2020-08-12_deaths",
          "2020-08-13_deaths",
          "2020-08-14_deaths",
          "2020-08-15_deaths",
          "2020-08-16_deaths",
          "2020-08-17_deaths",
          "2020-08-18_deaths",
          "2020-08-19_deaths",
          "2020-08-20_deaths",
          "2020-08-21_deaths",
          "2020-08-22_deaths",
          "2020-08-23_deaths",
          "2020-08-24_deaths",
          "2020-08-25_deaths",
          "2020-08-26_deaths",
          "2020-08-27_deaths",
          "2020-08-28_deaths",
          "2020-08-29_deaths",
          "2020-08-30_deaths",
          "2020-08-31_deaths",
          "2020-09-01_deaths",
          "2020-09-02_deaths",
          "2020-09-03_deaths",
          "2020-09-04_deaths",
          "2020-09-05_deaths",
          "2020-09-06_deaths",
          "2020-09-07_deaths",
          "2020-09-08_deaths",
          "2020-09-09_deaths",
          "2020-09-10_deaths",
          "2020-09-11_deaths",
          "2020-09-12_deaths",
          "2020-09-13_deaths",
          "2020-09-14_deaths",
          "2020-09-15_deaths",
          "2020-09-16_deaths",
          "2020-09-17_deaths",
          "2020-09-18_deaths",
          "2020-09-19_deaths",
          "2020-09-20_deaths",
          "2020-09-21_deaths",
          "2020-09-22_deaths",
          "2020-09-23_deaths",
          "2020-09-24_deaths",
          "2020-09-25_deaths",
          "2020-09-26_deaths",
          "2020-09-27_deaths",
          "2020-09-28_deaths",
          "2020-09-29_deaths",
          "2020-09-30_deaths",
          "2020-10-01_deaths",
          "2020-10-02_deaths",
          "2020-10-03_deaths",
          "2020-10-04_deaths",
          "2020-10-05_deaths",
          "2020-10-06_deaths",
          "2020-10-07_deaths",
          "2020-10-08_deaths",
          "2020-10-09_deaths",
          "2020-10-10_deaths",
          "2020-10-11_deaths",
          "2020-10-12_deaths",
          "2020-10-13_deaths",
          "2020-10-14_deaths",
          "2020-10-15_deaths",
          "2020-10-16_deaths",
          "2020-10-17_deaths",
          "2020-10-18_deaths",
          "2020-10-19_deaths",
          "2020-10-20_deaths",
          "2020-10-21_deaths",
          "2020-10-22_deaths",
          "2020-10-23_deaths",
          "2020-10-24_deaths",
          "2020-10-25_deaths",
          "2020-10-26_deaths",
          "2020-10-27_deaths",
          "2020-10-28_deaths",
          "2020-10-29_deaths",
          "2020-10-30_deaths",
          "2020-10-31_deaths",
          "2020-11-01_deaths",
          "2020-11-02_deaths",
          "2020-11-03_deaths",
          "2020-11-04_deaths",
          "2020-11-05_deaths",
          "2020-11-06_deaths",
          "2020-11-07_deaths",
          "2020-11-08_deaths",
          "2020-11-09_deaths",
          "2020-11-10_deaths",
          "2020-11-11_deaths",
          "2020-11-12_deaths",
          "2020-11-13_deaths",
          "2020-11-14_deaths",
          "2020-11-15_deaths",
          "2020-11-16_deaths",
          "2020-11-17_deaths",
          "2020-11-18_deaths",
          "2020-11-19_deaths",
          "2020-11-20_deaths",
          "2020-11-21_deaths",
          "2020-11-22_deaths",
          "2020-11-23_deaths",
          "2020-11-24_deaths",
          "2020-11-25_deaths",
          "2020-11-26_deaths",
          "2020-11-27_deaths",
          "2020-11-28_deaths",
          "2020-11-29_deaths",
          "2020-11-30_deaths",
          "2020-12-01_deaths",
          "2020-12-02_deaths",
          "2020-12-03_deaths",
          "2020-12-04_deaths",
          "2020-12-05_deaths",
          "2020-12-06_deaths",
          "2020-12-07_deaths",
          "2020-12-08_deaths",
          "2020-12-09_deaths",
          "2020-12-10_deaths",
          "2020-12-11_deaths",
          "2020-12-12_deaths",
          "2020-12-13_deaths",
          "2020-12-14_deaths",
          "2020-12-15_deaths",
          "2020-12-16_deaths",
          "2020-12-17_deaths",
          "2020-12-18_deaths",
          "2020-12-19_deaths",
          "2020-12-20_deaths",
          "2020-12-21_deaths",
          "2020-12-22_deaths",
          "2020-12-23_deaths",
          "2020-12-24_deaths",
          "2020-12-25_deaths",
          "2020-12-26_deaths",
          "2020-12-27_deaths",
          "2020-12-28_deaths",
          "2020-12-29_deaths",
          "2020-12-30_deaths",
          "2020-12-31_deaths",
          "2021-01-01_deaths",
          "2021-01-02_deaths",
          "2021-01-03_deaths",
          "2021-01-04_deaths",
          "2021-01-05_deaths",
          "2021-01-06_deaths",
          "2021-01-07_deaths",
          "2021-01-08_deaths",
          "2021-01-09_deaths",
          "2021-01-10_deaths",
          "2021-01-11_deaths",
          "2021-01-12_deaths",
          "2021-01-13_deaths",
          "2021-01-14_deaths",
          "2021-01-15_deaths",
          "2021-01-16_deaths",
          "2021-01-17_deaths",
          "2021-01-18_deaths",
          "2021-01-19_deaths",
          "2021-01-20_deaths",
          "2021-01-21_deaths",
          "2021-01-22_deaths",
          "2021-01-23_deaths",
          "2021-01-24_deaths",
          "2021-01-25_deaths",
          "2021-01-26_deaths",
          "2021-01-27_deaths",
          "2021-01-28_deaths",
          "2021-01-29_deaths",
          "2021-01-30_deaths",
          "2021-01-31_deaths",
          "2021-02-01_deaths",
          "2021-02-02_deaths",
          "2021-02-03_deaths",
          "2021-02-04_deaths",
          "2021-02-05_deaths",
          "2021-02-06_deaths",
          "2021-02-07_deaths",
          "2021-02-08_deaths",
          "2021-02-09_deaths",
          "2021-02-10_deaths",
          "2021-02-11_deaths",
          "2021-02-12_deaths",
          "2021-02-13_deaths",
          "2021-02-14_deaths",
          "2021-02-15_deaths",
          "2021-02-16_deaths",
          "2021-02-17_deaths",
          "2021-02-18_deaths",
          "2021-02-19_deaths",
          "2021-02-20_deaths",
          "2021-02-21_deaths",
          "2021-02-22_deaths",
          "2021-02-23_deaths",
          "2021-02-24_deaths",
          "2021-02-25_deaths",
          "2021-02-26_deaths",
          "2021-02-27_deaths",
          "2021-02-28_deaths",
          "2021-03-01_deaths",
          "2021-03-02_deaths",
          "2021-03-03_deaths",
          "2021-03-04_deaths",
          "2021-03-05_deaths",
          "2021-03-06_deaths",
          "2021-03-07_deaths",
          "2021-03-08_deaths",
          "2021-03-09_deaths",
          "2021-03-10_deaths",
          "2021-03-11_deaths",
          "2021-03-12_deaths",
          "2021-03-13_deaths",
          "2021-03-14_deaths",
          "2021-03-15_deaths",
          "2021-03-16_deaths",
          "2021-03-17_deaths"
         ],
         "y": [
          "Harris County",
          0,
          0,
          0,
          0,
          0,
          0,
          0,
          0,
          0,
          0,
          0,
          0,
          0,
          0,
          0,
          0,
          0,
          0,
          0,
          0,
          0,
          0,
          0,
          0,
          0,
          0,
          0,
          0,
          0,
          0,
          0,
          0,
          0,
          0,
          0,
          0,
          0,
          0,
          0,
          0,
          0,
          0,
          0,
          0,
          0,
          0,
          0,
          0,
          0,
          0,
          0,
          0,
          0,
          0,
          0,
          0,
          0,
          0,
          37,
          0,
          0,
          0,
          0,
          0,
          37,
          0,
          0,
          37,
          37,
          0,
          75,
          0,
          75,
          187,
          150,
          112,
          75,
          37,
          300,
          112,
          225,
          37,
          0,
          187,
          225,
          225,
          187,
          150,
          150,
          150,
          112,
          37,
          37,
          75,
          75,
          187,
          150,
          187,
          187,
          225,
          187,
          300,
          262,
          150,
          262,
          150,
          225,
          150,
          225,
          300,
          150,
          262,
          150,
          187,
          187,
          225,
          187,
          0,
          37,
          75,
          112,
          225,
          37,
          75,
          37,
          37,
          0,
          75,
          37,
          150,
          112,
          37,
          112,
          37,
          187,
          225,
          225,
          225,
          75,
          37,
          0,
          187,
          0,
          150,
          150,
          0,
          337,
          187,
          337,
          262,
          225,
          412,
          112,
          262,
          112,
          412,
          262,
          300,
          300,
          75,
          187,
          75,
          225,
          112,
          300,
          187,
          0,
          37,
          225,
          150,
          450,
          600,
          600,
          112,
          300,
          262,
          675,
          637,
          675,
          225,
          112,
          337,
          600,
          562,
          787,
          675,
          825,
          17398,
          1012,
          2062,
          900,
          1950,
          1125,
          0,
          1125,
          1837,
          1575,
          1875,
          2062,
          1800,
          487,
          300,
          1237,
          2362,
          1275,
          2175,
          1537,
          637,
          337,
          1387,
          1687,
          1237,
          937,
          1237,
          637,
          75,
          1575,
          1275,
          1275,
          487,
          900,
          412,
          150,
          600,
          1462,
          1275,
          712,
          1012,
          300,
          0,
          262,
          787,
          825,
          375,
          712,
          225,
          112,
          637,
          675,
          450,
          487,
          562,
          225,
          37,
          487,
          637,
          487,
          262,
          637,
          150,
          0,
          450,
          412,
          300,
          300,
          337,
          75,
          75,
          150,
          562,
          375,
          412,
          262,
          262,
          0,
          262,
          337,
          375,
          375,
          300,
          75,
          37,
          225,
          562,
          337,
          225,
          375,
          300,
          0,
          75,
          225,
          337,
          225,
          112,
          75,
          112,
          337,
          675,
          375,
          112,
          412,
          37,
          0,
          187,
          225,
          375,
          300,
          487,
          37,
          37,
          337,
          337,
          562,
          412,
          0,
          412,
          0,
          337,
          375,
          300,
          112,
          225,
          300,
          0,
          150,
          375,
          337,
          525,
          525,
          262,
          75,
          637,
          637,
          262,
          675,
          525,
          300,
          0,
          450,
          600,
          937,
          0,
          0,
          0,
          0,
          3000,
          0,
          862,
          825,
          0,
          112,
          37,
          600,
          862,
          1162,
          562,
          262,
          262,
          150,
          675,
          1087,
          1500,
          0,
          2212,
          262,
          112,
          1012,
          1500,
          1237,
          1200,
          2025,
          562,
          112,
          1125,
          1537,
          1200,
          1612,
          1387,
          1312,
          412,
          1350,
          1912,
          1537,
          1650,
          1725,
          562,
          262,
          1875,
          1575,
          2025,
          1162,
          1762,
          675,
          525,
          1837,
          1425,
          2137,
          1425,
          1237,
          675,
          262,
          0,
          225,
          187,
          712,
          1462,
          825,
          262,
          975,
          1837,
          1762,
          1462,
          825,
          1275,
          262,
          1050,
          1687,
          2137,
          2062,
          1087,
          187,
          112,
          1012,
          1462,
          1162,
          1462,
          1050,
          712,
          112,
          562,
          1012
         ]
        },
        {
         "line": {
          "color": "rgba(55, 128, 191, 1.0)",
          "dash": "solid",
          "shape": "linear",
          "width": 1.3
         },
         "mode": "lines",
         "name": "2623",
         "text": "",
         "type": "scatter",
         "x": [
          "County Name",
          "2020-01-22_deaths",
          "2020-01-23_deaths",
          "2020-01-24_deaths",
          "2020-01-25_deaths",
          "2020-01-26_deaths",
          "2020-01-27_deaths",
          "2020-01-28_deaths",
          "2020-01-29_deaths",
          "2020-01-30_deaths",
          "2020-01-31_deaths",
          "2020-02-01_deaths",
          "2020-02-02_deaths",
          "2020-02-03_deaths",
          "2020-02-04_deaths",
          "2020-02-05_deaths",
          "2020-02-06_deaths",
          "2020-02-07_deaths",
          "2020-02-08_deaths",
          "2020-02-09_deaths",
          "2020-02-10_deaths",
          "2020-02-11_deaths",
          "2020-02-12_deaths",
          "2020-02-13_deaths",
          "2020-02-14_deaths",
          "2020-02-15_deaths",
          "2020-02-16_deaths",
          "2020-02-17_deaths",
          "2020-02-18_deaths",
          "2020-02-19_deaths",
          "2020-02-20_deaths",
          "2020-02-21_deaths",
          "2020-02-22_deaths",
          "2020-02-23_deaths",
          "2020-02-24_deaths",
          "2020-02-25_deaths",
          "2020-02-26_deaths",
          "2020-02-27_deaths",
          "2020-02-28_deaths",
          "2020-02-29_deaths",
          "2020-03-01_deaths",
          "2020-03-02_deaths",
          "2020-03-03_deaths",
          "2020-03-04_deaths",
          "2020-03-05_deaths",
          "2020-03-06_deaths",
          "2020-03-07_deaths",
          "2020-03-08_deaths",
          "2020-03-09_deaths",
          "2020-03-10_deaths",
          "2020-03-11_deaths",
          "2020-03-12_deaths",
          "2020-03-13_deaths",
          "2020-03-14_deaths",
          "2020-03-15_deaths",
          "2020-03-16_deaths",
          "2020-03-17_deaths",
          "2020-03-18_deaths",
          "2020-03-19_deaths",
          "2020-03-20_deaths",
          "2020-03-21_deaths",
          "2020-03-22_deaths",
          "2020-03-23_deaths",
          "2020-03-24_deaths",
          "2020-03-25_deaths",
          "2020-03-26_deaths",
          "2020-03-27_deaths",
          "2020-03-28_deaths",
          "2020-03-29_deaths",
          "2020-03-30_deaths",
          "2020-03-31_deaths",
          "2020-04-01_deaths",
          "2020-04-02_deaths",
          "2020-04-03_deaths",
          "2020-04-04_deaths",
          "2020-04-05_deaths",
          "2020-04-06_deaths",
          "2020-04-07_deaths",
          "2020-04-08_deaths",
          "2020-04-09_deaths",
          "2020-04-10_deaths",
          "2020-04-11_deaths",
          "2020-04-12_deaths",
          "2020-04-13_deaths",
          "2020-04-14_deaths",
          "2020-04-15_deaths",
          "2020-04-16_deaths",
          "2020-04-17_deaths",
          "2020-04-18_deaths",
          "2020-04-19_deaths",
          "2020-04-20_deaths",
          "2020-04-21_deaths",
          "2020-04-22_deaths",
          "2020-04-23_deaths",
          "2020-04-24_deaths",
          "2020-04-25_deaths",
          "2020-04-26_deaths",
          "2020-04-27_deaths",
          "2020-04-28_deaths",
          "2020-04-29_deaths",
          "2020-04-30_deaths",
          "2020-05-01_deaths",
          "2020-05-02_deaths",
          "2020-05-03_deaths",
          "2020-05-04_deaths",
          "2020-05-05_deaths",
          "2020-05-06_deaths",
          "2020-05-07_deaths",
          "2020-05-08_deaths",
          "2020-05-09_deaths",
          "2020-05-10_deaths",
          "2020-05-11_deaths",
          "2020-05-12_deaths",
          "2020-05-13_deaths",
          "2020-05-14_deaths",
          "2020-05-15_deaths",
          "2020-05-16_deaths",
          "2020-05-17_deaths",
          "2020-05-18_deaths",
          "2020-05-19_deaths",
          "2020-05-20_deaths",
          "2020-05-21_deaths",
          "2020-05-22_deaths",
          "2020-05-23_deaths",
          "2020-05-24_deaths",
          "2020-05-25_deaths",
          "2020-05-26_deaths",
          "2020-05-27_deaths",
          "2020-05-28_deaths",
          "2020-05-29_deaths",
          "2020-05-30_deaths",
          "2020-05-31_deaths",
          "2020-06-01_deaths",
          "2020-06-02_deaths",
          "2020-06-03_deaths",
          "2020-06-04_deaths",
          "2020-06-05_deaths",
          "2020-06-06_deaths",
          "2020-06-07_deaths",
          "2020-06-08_deaths",
          "2020-06-09_deaths",
          "2020-06-10_deaths",
          "2020-06-11_deaths",
          "2020-06-12_deaths",
          "2020-06-13_deaths",
          "2020-06-14_deaths",
          "2020-06-15_deaths",
          "2020-06-16_deaths",
          "2020-06-17_deaths",
          "2020-06-18_deaths",
          "2020-06-19_deaths",
          "2020-06-20_deaths",
          "2020-06-21_deaths",
          "2020-06-22_deaths",
          "2020-06-23_deaths",
          "2020-06-24_deaths",
          "2020-06-25_deaths",
          "2020-06-26_deaths",
          "2020-06-27_deaths",
          "2020-06-28_deaths",
          "2020-06-29_deaths",
          "2020-06-30_deaths",
          "2020-07-01_deaths",
          "2020-07-02_deaths",
          "2020-07-03_deaths",
          "2020-07-04_deaths",
          "2020-07-05_deaths",
          "2020-07-06_deaths",
          "2020-07-07_deaths",
          "2020-07-08_deaths",
          "2020-07-09_deaths",
          "2020-07-10_deaths",
          "2020-07-11_deaths",
          "2020-07-12_deaths",
          "2020-07-13_deaths",
          "2020-07-14_deaths",
          "2020-07-15_deaths",
          "2020-07-16_deaths",
          "2020-07-17_deaths",
          "2020-07-18_deaths",
          "2020-07-19_deaths",
          "2020-07-20_deaths",
          "2020-07-21_deaths",
          "2020-07-22_deaths",
          "2020-07-23_deaths",
          "2020-07-24_deaths",
          "2020-07-25_deaths",
          "2020-07-26_deaths",
          "2020-07-27_deaths",
          "2020-07-28_deaths",
          "2020-07-29_deaths",
          "2020-07-30_deaths",
          "2020-07-31_deaths",
          "2020-08-01_deaths",
          "2020-08-02_deaths",
          "2020-08-03_deaths",
          "2020-08-04_deaths",
          "2020-08-05_deaths",
          "2020-08-06_deaths",
          "2020-08-07_deaths",
          "2020-08-08_deaths",
          "2020-08-09_deaths",
          "2020-08-10_deaths",
          "2020-08-11_deaths",
          "2020-08-12_deaths",
          "2020-08-13_deaths",
          "2020-08-14_deaths",
          "2020-08-15_deaths",
          "2020-08-16_deaths",
          "2020-08-17_deaths",
          "2020-08-18_deaths",
          "2020-08-19_deaths",
          "2020-08-20_deaths",
          "2020-08-21_deaths",
          "2020-08-22_deaths",
          "2020-08-23_deaths",
          "2020-08-24_deaths",
          "2020-08-25_deaths",
          "2020-08-26_deaths",
          "2020-08-27_deaths",
          "2020-08-28_deaths",
          "2020-08-29_deaths",
          "2020-08-30_deaths",
          "2020-08-31_deaths",
          "2020-09-01_deaths",
          "2020-09-02_deaths",
          "2020-09-03_deaths",
          "2020-09-04_deaths",
          "2020-09-05_deaths",
          "2020-09-06_deaths",
          "2020-09-07_deaths",
          "2020-09-08_deaths",
          "2020-09-09_deaths",
          "2020-09-10_deaths",
          "2020-09-11_deaths",
          "2020-09-12_deaths",
          "2020-09-13_deaths",
          "2020-09-14_deaths",
          "2020-09-15_deaths",
          "2020-09-16_deaths",
          "2020-09-17_deaths",
          "2020-09-18_deaths",
          "2020-09-19_deaths",
          "2020-09-20_deaths",
          "2020-09-21_deaths",
          "2020-09-22_deaths",
          "2020-09-23_deaths",
          "2020-09-24_deaths",
          "2020-09-25_deaths",
          "2020-09-26_deaths",
          "2020-09-27_deaths",
          "2020-09-28_deaths",
          "2020-09-29_deaths",
          "2020-09-30_deaths",
          "2020-10-01_deaths",
          "2020-10-02_deaths",
          "2020-10-03_deaths",
          "2020-10-04_deaths",
          "2020-10-05_deaths",
          "2020-10-06_deaths",
          "2020-10-07_deaths",
          "2020-10-08_deaths",
          "2020-10-09_deaths",
          "2020-10-10_deaths",
          "2020-10-11_deaths",
          "2020-10-12_deaths",
          "2020-10-13_deaths",
          "2020-10-14_deaths",
          "2020-10-15_deaths",
          "2020-10-16_deaths",
          "2020-10-17_deaths",
          "2020-10-18_deaths",
          "2020-10-19_deaths",
          "2020-10-20_deaths",
          "2020-10-21_deaths",
          "2020-10-22_deaths",
          "2020-10-23_deaths",
          "2020-10-24_deaths",
          "2020-10-25_deaths",
          "2020-10-26_deaths",
          "2020-10-27_deaths",
          "2020-10-28_deaths",
          "2020-10-29_deaths",
          "2020-10-30_deaths",
          "2020-10-31_deaths",
          "2020-11-01_deaths",
          "2020-11-02_deaths",
          "2020-11-03_deaths",
          "2020-11-04_deaths",
          "2020-11-05_deaths",
          "2020-11-06_deaths",
          "2020-11-07_deaths",
          "2020-11-08_deaths",
          "2020-11-09_deaths",
          "2020-11-10_deaths",
          "2020-11-11_deaths",
          "2020-11-12_deaths",
          "2020-11-13_deaths",
          "2020-11-14_deaths",
          "2020-11-15_deaths",
          "2020-11-16_deaths",
          "2020-11-17_deaths",
          "2020-11-18_deaths",
          "2020-11-19_deaths",
          "2020-11-20_deaths",
          "2020-11-21_deaths",
          "2020-11-22_deaths",
          "2020-11-23_deaths",
          "2020-11-24_deaths",
          "2020-11-25_deaths",
          "2020-11-26_deaths",
          "2020-11-27_deaths",
          "2020-11-28_deaths",
          "2020-11-29_deaths",
          "2020-11-30_deaths",
          "2020-12-01_deaths",
          "2020-12-02_deaths",
          "2020-12-03_deaths",
          "2020-12-04_deaths",
          "2020-12-05_deaths",
          "2020-12-06_deaths",
          "2020-12-07_deaths",
          "2020-12-08_deaths",
          "2020-12-09_deaths",
          "2020-12-10_deaths",
          "2020-12-11_deaths",
          "2020-12-12_deaths",
          "2020-12-13_deaths",
          "2020-12-14_deaths",
          "2020-12-15_deaths",
          "2020-12-16_deaths",
          "2020-12-17_deaths",
          "2020-12-18_deaths",
          "2020-12-19_deaths",
          "2020-12-20_deaths",
          "2020-12-21_deaths",
          "2020-12-22_deaths",
          "2020-12-23_deaths",
          "2020-12-24_deaths",
          "2020-12-25_deaths",
          "2020-12-26_deaths",
          "2020-12-27_deaths",
          "2020-12-28_deaths",
          "2020-12-29_deaths",
          "2020-12-30_deaths",
          "2020-12-31_deaths",
          "2021-01-01_deaths",
          "2021-01-02_deaths",
          "2021-01-03_deaths",
          "2021-01-04_deaths",
          "2021-01-05_deaths",
          "2021-01-06_deaths",
          "2021-01-07_deaths",
          "2021-01-08_deaths",
          "2021-01-09_deaths",
          "2021-01-10_deaths",
          "2021-01-11_deaths",
          "2021-01-12_deaths",
          "2021-01-13_deaths",
          "2021-01-14_deaths",
          "2021-01-15_deaths",
          "2021-01-16_deaths",
          "2021-01-17_deaths",
          "2021-01-18_deaths",
          "2021-01-19_deaths",
          "2021-01-20_deaths",
          "2021-01-21_deaths",
          "2021-01-22_deaths",
          "2021-01-23_deaths",
          "2021-01-24_deaths",
          "2021-01-25_deaths",
          "2021-01-26_deaths",
          "2021-01-27_deaths",
          "2021-01-28_deaths",
          "2021-01-29_deaths",
          "2021-01-30_deaths",
          "2021-01-31_deaths",
          "2021-02-01_deaths",
          "2021-02-02_deaths",
          "2021-02-03_deaths",
          "2021-02-04_deaths",
          "2021-02-05_deaths",
          "2021-02-06_deaths",
          "2021-02-07_deaths",
          "2021-02-08_deaths",
          "2021-02-09_deaths",
          "2021-02-10_deaths",
          "2021-02-11_deaths",
          "2021-02-12_deaths",
          "2021-02-13_deaths",
          "2021-02-14_deaths",
          "2021-02-15_deaths",
          "2021-02-16_deaths",
          "2021-02-17_deaths",
          "2021-02-18_deaths",
          "2021-02-19_deaths",
          "2021-02-20_deaths",
          "2021-02-21_deaths",
          "2021-02-22_deaths",
          "2021-02-23_deaths",
          "2021-02-24_deaths",
          "2021-02-25_deaths",
          "2021-02-26_deaths",
          "2021-02-27_deaths",
          "2021-02-28_deaths",
          "2021-03-01_deaths",
          "2021-03-02_deaths",
          "2021-03-03_deaths",
          "2021-03-04_deaths",
          "2021-03-05_deaths",
          "2021-03-06_deaths",
          "2021-03-07_deaths",
          "2021-03-08_deaths",
          "2021-03-09_deaths",
          "2021-03-10_deaths",
          "2021-03-11_deaths",
          "2021-03-12_deaths",
          "2021-03-13_deaths",
          "2021-03-14_deaths",
          "2021-03-15_deaths",
          "2021-03-16_deaths",
          "2021-03-17_deaths"
         ],
         "y": [
          "Dallas County",
          0,
          0,
          0,
          0,
          0,
          0,
          0,
          0,
          0,
          0,
          0,
          0,
          0,
          0,
          0,
          0,
          0,
          0,
          0,
          0,
          0,
          0,
          0,
          0,
          0,
          0,
          0,
          0,
          0,
          0,
          0,
          0,
          0,
          0,
          0,
          0,
          0,
          0,
          0,
          0,
          0,
          0,
          0,
          0,
          0,
          0,
          0,
          0,
          0,
          0,
          0,
          0,
          0,
          0,
          0,
          0,
          0,
          38,
          0,
          0,
          0,
          114,
          38,
          38,
          38,
          0,
          76,
          38,
          38,
          76,
          76,
          76,
          0,
          0,
          38,
          0,
          0,
          38,
          38,
          76,
          114,
          76,
          0,
          191,
          381,
          38,
          267,
          191,
          191,
          0,
          0,
          152,
          38,
          267,
          191,
          152,
          38,
          76,
          381,
          191,
          191,
          76,
          152,
          38,
          114,
          267,
          76,
          76,
          381,
          305,
          0,
          76,
          114,
          191,
          229,
          191,
          229,
          229,
          38,
          534,
          0,
          457,
          152,
          114,
          38,
          0,
          76,
          305,
          38,
          38,
          191,
          38,
          0,
          610,
          152,
          38,
          381,
          76,
          76,
          0,
          267,
          114,
          114,
          114,
          114,
          38,
          38,
          305,
          343,
          191,
          152,
          76,
          38,
          114,
          267,
          152,
          229,
          381,
          267,
          38,
          38,
          762,
          267,
          267,
          229,
          76,
          0,
          229,
          343,
          610,
          381,
          343,
          152,
          76,
          229,
          762,
          305,
          610,
          496,
          343,
          76,
          38,
          419,
          1144,
          457,
          267,
          686,
          0,
          305,
          801,
          0,
          801,
          419,
          0,
          343,
          839,
          572,
          381,
          724,
          381,
          305,
          152,
          534,
          801,
          305,
          801,
          534,
          76,
          305,
          191,
          381,
          496,
          534,
          381,
          114,
          76,
          610,
          496,
          534,
          457,
          191,
          152,
          0,
          457,
          534,
          419,
          267,
          419,
          229,
          76,
          38,
          381,
          152,
          457,
          229,
          76,
          38,
          152,
          229,
          114,
          534,
          381,
          76,
          0,
          229,
          572,
          343,
          114,
          76,
          152,
          0,
          76,
          267,
          152,
          76,
          191,
          152,
          38,
          191,
          191,
          76,
          152,
          76,
          76,
          0,
          152,
          267,
          152,
          114,
          114,
          152,
          0,
          267,
          152,
          229,
          114,
          114,
          114,
          76,
          267,
          229,
          305,
          419,
          496,
          38,
          38,
          305,
          114,
          496,
          534,
          419,
          38,
          76,
          381,
          381,
          343,
          419,
          457,
          229,
          152,
          305,
          724,
          724,
          801,
          0,
          610,
          76,
          419,
          686,
          686,
          305,
          191,
          305,
          114,
          381,
          610,
          762,
          724,
          610,
          305,
          114,
          724,
          801,
          877,
          191,
          610,
          496,
          0,
          457,
          953,
          877,
          0,
          0,
          0,
          0,
          3164,
          0,
          1258,
          648,
          152,
          229,
          191,
          724,
          610,
          1372,
          991,
          343,
          267,
          343,
          1106,
          1144,
          1296,
          0,
          2631,
          724,
          114,
          991,
          1258,
          1220,
          1106,
          1334,
          1067,
          229,
          839,
          1830,
          1639,
          1411,
          1258,
          572,
          305,
          1372,
          1601,
          1258,
          915,
          1220,
          572,
          191,
          877,
          1449,
          1754,
          1677,
          1220,
          343,
          114,
          991,
          1029,
          1067,
          877,
          1601,
          762,
          496,
          343,
          229,
          229,
          648,
          877,
          496,
          114,
          991,
          1067,
          1029,
          877,
          343,
          686,
          724,
          1067,
          915,
          1067,
          610,
          991,
          76,
          267,
          762,
          1411,
          686,
          915,
          648,
          229,
          381,
          496,
          457
         ]
        },
        {
         "line": {
          "color": "rgba(50, 171, 96, 1.0)",
          "dash": "solid",
          "shape": "linear",
          "width": 1.3
         },
         "mode": "lines",
         "name": "2786",
         "text": "",
         "type": "scatter",
         "x": [
          "County Name",
          "2020-01-22_deaths",
          "2020-01-23_deaths",
          "2020-01-24_deaths",
          "2020-01-25_deaths",
          "2020-01-26_deaths",
          "2020-01-27_deaths",
          "2020-01-28_deaths",
          "2020-01-29_deaths",
          "2020-01-30_deaths",
          "2020-01-31_deaths",
          "2020-02-01_deaths",
          "2020-02-02_deaths",
          "2020-02-03_deaths",
          "2020-02-04_deaths",
          "2020-02-05_deaths",
          "2020-02-06_deaths",
          "2020-02-07_deaths",
          "2020-02-08_deaths",
          "2020-02-09_deaths",
          "2020-02-10_deaths",
          "2020-02-11_deaths",
          "2020-02-12_deaths",
          "2020-02-13_deaths",
          "2020-02-14_deaths",
          "2020-02-15_deaths",
          "2020-02-16_deaths",
          "2020-02-17_deaths",
          "2020-02-18_deaths",
          "2020-02-19_deaths",
          "2020-02-20_deaths",
          "2020-02-21_deaths",
          "2020-02-22_deaths",
          "2020-02-23_deaths",
          "2020-02-24_deaths",
          "2020-02-25_deaths",
          "2020-02-26_deaths",
          "2020-02-27_deaths",
          "2020-02-28_deaths",
          "2020-02-29_deaths",
          "2020-03-01_deaths",
          "2020-03-02_deaths",
          "2020-03-03_deaths",
          "2020-03-04_deaths",
          "2020-03-05_deaths",
          "2020-03-06_deaths",
          "2020-03-07_deaths",
          "2020-03-08_deaths",
          "2020-03-09_deaths",
          "2020-03-10_deaths",
          "2020-03-11_deaths",
          "2020-03-12_deaths",
          "2020-03-13_deaths",
          "2020-03-14_deaths",
          "2020-03-15_deaths",
          "2020-03-16_deaths",
          "2020-03-17_deaths",
          "2020-03-18_deaths",
          "2020-03-19_deaths",
          "2020-03-20_deaths",
          "2020-03-21_deaths",
          "2020-03-22_deaths",
          "2020-03-23_deaths",
          "2020-03-24_deaths",
          "2020-03-25_deaths",
          "2020-03-26_deaths",
          "2020-03-27_deaths",
          "2020-03-28_deaths",
          "2020-03-29_deaths",
          "2020-03-30_deaths",
          "2020-03-31_deaths",
          "2020-04-01_deaths",
          "2020-04-02_deaths",
          "2020-04-03_deaths",
          "2020-04-04_deaths",
          "2020-04-05_deaths",
          "2020-04-06_deaths",
          "2020-04-07_deaths",
          "2020-04-08_deaths",
          "2020-04-09_deaths",
          "2020-04-10_deaths",
          "2020-04-11_deaths",
          "2020-04-12_deaths",
          "2020-04-13_deaths",
          "2020-04-14_deaths",
          "2020-04-15_deaths",
          "2020-04-16_deaths",
          "2020-04-17_deaths",
          "2020-04-18_deaths",
          "2020-04-19_deaths",
          "2020-04-20_deaths",
          "2020-04-21_deaths",
          "2020-04-22_deaths",
          "2020-04-23_deaths",
          "2020-04-24_deaths",
          "2020-04-25_deaths",
          "2020-04-26_deaths",
          "2020-04-27_deaths",
          "2020-04-28_deaths",
          "2020-04-29_deaths",
          "2020-04-30_deaths",
          "2020-05-01_deaths",
          "2020-05-02_deaths",
          "2020-05-03_deaths",
          "2020-05-04_deaths",
          "2020-05-05_deaths",
          "2020-05-06_deaths",
          "2020-05-07_deaths",
          "2020-05-08_deaths",
          "2020-05-09_deaths",
          "2020-05-10_deaths",
          "2020-05-11_deaths",
          "2020-05-12_deaths",
          "2020-05-13_deaths",
          "2020-05-14_deaths",
          "2020-05-15_deaths",
          "2020-05-16_deaths",
          "2020-05-17_deaths",
          "2020-05-18_deaths",
          "2020-05-19_deaths",
          "2020-05-20_deaths",
          "2020-05-21_deaths",
          "2020-05-22_deaths",
          "2020-05-23_deaths",
          "2020-05-24_deaths",
          "2020-05-25_deaths",
          "2020-05-26_deaths",
          "2020-05-27_deaths",
          "2020-05-28_deaths",
          "2020-05-29_deaths",
          "2020-05-30_deaths",
          "2020-05-31_deaths",
          "2020-06-01_deaths",
          "2020-06-02_deaths",
          "2020-06-03_deaths",
          "2020-06-04_deaths",
          "2020-06-05_deaths",
          "2020-06-06_deaths",
          "2020-06-07_deaths",
          "2020-06-08_deaths",
          "2020-06-09_deaths",
          "2020-06-10_deaths",
          "2020-06-11_deaths",
          "2020-06-12_deaths",
          "2020-06-13_deaths",
          "2020-06-14_deaths",
          "2020-06-15_deaths",
          "2020-06-16_deaths",
          "2020-06-17_deaths",
          "2020-06-18_deaths",
          "2020-06-19_deaths",
          "2020-06-20_deaths",
          "2020-06-21_deaths",
          "2020-06-22_deaths",
          "2020-06-23_deaths",
          "2020-06-24_deaths",
          "2020-06-25_deaths",
          "2020-06-26_deaths",
          "2020-06-27_deaths",
          "2020-06-28_deaths",
          "2020-06-29_deaths",
          "2020-06-30_deaths",
          "2020-07-01_deaths",
          "2020-07-02_deaths",
          "2020-07-03_deaths",
          "2020-07-04_deaths",
          "2020-07-05_deaths",
          "2020-07-06_deaths",
          "2020-07-07_deaths",
          "2020-07-08_deaths",
          "2020-07-09_deaths",
          "2020-07-10_deaths",
          "2020-07-11_deaths",
          "2020-07-12_deaths",
          "2020-07-13_deaths",
          "2020-07-14_deaths",
          "2020-07-15_deaths",
          "2020-07-16_deaths",
          "2020-07-17_deaths",
          "2020-07-18_deaths",
          "2020-07-19_deaths",
          "2020-07-20_deaths",
          "2020-07-21_deaths",
          "2020-07-22_deaths",
          "2020-07-23_deaths",
          "2020-07-24_deaths",
          "2020-07-25_deaths",
          "2020-07-26_deaths",
          "2020-07-27_deaths",
          "2020-07-28_deaths",
          "2020-07-29_deaths",
          "2020-07-30_deaths",
          "2020-07-31_deaths",
          "2020-08-01_deaths",
          "2020-08-02_deaths",
          "2020-08-03_deaths",
          "2020-08-04_deaths",
          "2020-08-05_deaths",
          "2020-08-06_deaths",
          "2020-08-07_deaths",
          "2020-08-08_deaths",
          "2020-08-09_deaths",
          "2020-08-10_deaths",
          "2020-08-11_deaths",
          "2020-08-12_deaths",
          "2020-08-13_deaths",
          "2020-08-14_deaths",
          "2020-08-15_deaths",
          "2020-08-16_deaths",
          "2020-08-17_deaths",
          "2020-08-18_deaths",
          "2020-08-19_deaths",
          "2020-08-20_deaths",
          "2020-08-21_deaths",
          "2020-08-22_deaths",
          "2020-08-23_deaths",
          "2020-08-24_deaths",
          "2020-08-25_deaths",
          "2020-08-26_deaths",
          "2020-08-27_deaths",
          "2020-08-28_deaths",
          "2020-08-29_deaths",
          "2020-08-30_deaths",
          "2020-08-31_deaths",
          "2020-09-01_deaths",
          "2020-09-02_deaths",
          "2020-09-03_deaths",
          "2020-09-04_deaths",
          "2020-09-05_deaths",
          "2020-09-06_deaths",
          "2020-09-07_deaths",
          "2020-09-08_deaths",
          "2020-09-09_deaths",
          "2020-09-10_deaths",
          "2020-09-11_deaths",
          "2020-09-12_deaths",
          "2020-09-13_deaths",
          "2020-09-14_deaths",
          "2020-09-15_deaths",
          "2020-09-16_deaths",
          "2020-09-17_deaths",
          "2020-09-18_deaths",
          "2020-09-19_deaths",
          "2020-09-20_deaths",
          "2020-09-21_deaths",
          "2020-09-22_deaths",
          "2020-09-23_deaths",
          "2020-09-24_deaths",
          "2020-09-25_deaths",
          "2020-09-26_deaths",
          "2020-09-27_deaths",
          "2020-09-28_deaths",
          "2020-09-29_deaths",
          "2020-09-30_deaths",
          "2020-10-01_deaths",
          "2020-10-02_deaths",
          "2020-10-03_deaths",
          "2020-10-04_deaths",
          "2020-10-05_deaths",
          "2020-10-06_deaths",
          "2020-10-07_deaths",
          "2020-10-08_deaths",
          "2020-10-09_deaths",
          "2020-10-10_deaths",
          "2020-10-11_deaths",
          "2020-10-12_deaths",
          "2020-10-13_deaths",
          "2020-10-14_deaths",
          "2020-10-15_deaths",
          "2020-10-16_deaths",
          "2020-10-17_deaths",
          "2020-10-18_deaths",
          "2020-10-19_deaths",
          "2020-10-20_deaths",
          "2020-10-21_deaths",
          "2020-10-22_deaths",
          "2020-10-23_deaths",
          "2020-10-24_deaths",
          "2020-10-25_deaths",
          "2020-10-26_deaths",
          "2020-10-27_deaths",
          "2020-10-28_deaths",
          "2020-10-29_deaths",
          "2020-10-30_deaths",
          "2020-10-31_deaths",
          "2020-11-01_deaths",
          "2020-11-02_deaths",
          "2020-11-03_deaths",
          "2020-11-04_deaths",
          "2020-11-05_deaths",
          "2020-11-06_deaths",
          "2020-11-07_deaths",
          "2020-11-08_deaths",
          "2020-11-09_deaths",
          "2020-11-10_deaths",
          "2020-11-11_deaths",
          "2020-11-12_deaths",
          "2020-11-13_deaths",
          "2020-11-14_deaths",
          "2020-11-15_deaths",
          "2020-11-16_deaths",
          "2020-11-17_deaths",
          "2020-11-18_deaths",
          "2020-11-19_deaths",
          "2020-11-20_deaths",
          "2020-11-21_deaths",
          "2020-11-22_deaths",
          "2020-11-23_deaths",
          "2020-11-24_deaths",
          "2020-11-25_deaths",
          "2020-11-26_deaths",
          "2020-11-27_deaths",
          "2020-11-28_deaths",
          "2020-11-29_deaths",
          "2020-11-30_deaths",
          "2020-12-01_deaths",
          "2020-12-02_deaths",
          "2020-12-03_deaths",
          "2020-12-04_deaths",
          "2020-12-05_deaths",
          "2020-12-06_deaths",
          "2020-12-07_deaths",
          "2020-12-08_deaths",
          "2020-12-09_deaths",
          "2020-12-10_deaths",
          "2020-12-11_deaths",
          "2020-12-12_deaths",
          "2020-12-13_deaths",
          "2020-12-14_deaths",
          "2020-12-15_deaths",
          "2020-12-16_deaths",
          "2020-12-17_deaths",
          "2020-12-18_deaths",
          "2020-12-19_deaths",
          "2020-12-20_deaths",
          "2020-12-21_deaths",
          "2020-12-22_deaths",
          "2020-12-23_deaths",
          "2020-12-24_deaths",
          "2020-12-25_deaths",
          "2020-12-26_deaths",
          "2020-12-27_deaths",
          "2020-12-28_deaths",
          "2020-12-29_deaths",
          "2020-12-30_deaths",
          "2020-12-31_deaths",
          "2021-01-01_deaths",
          "2021-01-02_deaths",
          "2021-01-03_deaths",
          "2021-01-04_deaths",
          "2021-01-05_deaths",
          "2021-01-06_deaths",
          "2021-01-07_deaths",
          "2021-01-08_deaths",
          "2021-01-09_deaths",
          "2021-01-10_deaths",
          "2021-01-11_deaths",
          "2021-01-12_deaths",
          "2021-01-13_deaths",
          "2021-01-14_deaths",
          "2021-01-15_deaths",
          "2021-01-16_deaths",
          "2021-01-17_deaths",
          "2021-01-18_deaths",
          "2021-01-19_deaths",
          "2021-01-20_deaths",
          "2021-01-21_deaths",
          "2021-01-22_deaths",
          "2021-01-23_deaths",
          "2021-01-24_deaths",
          "2021-01-25_deaths",
          "2021-01-26_deaths",
          "2021-01-27_deaths",
          "2021-01-28_deaths",
          "2021-01-29_deaths",
          "2021-01-30_deaths",
          "2021-01-31_deaths",
          "2021-02-01_deaths",
          "2021-02-02_deaths",
          "2021-02-03_deaths",
          "2021-02-04_deaths",
          "2021-02-05_deaths",
          "2021-02-06_deaths",
          "2021-02-07_deaths",
          "2021-02-08_deaths",
          "2021-02-09_deaths",
          "2021-02-10_deaths",
          "2021-02-11_deaths",
          "2021-02-12_deaths",
          "2021-02-13_deaths",
          "2021-02-14_deaths",
          "2021-02-15_deaths",
          "2021-02-16_deaths",
          "2021-02-17_deaths",
          "2021-02-18_deaths",
          "2021-02-19_deaths",
          "2021-02-20_deaths",
          "2021-02-21_deaths",
          "2021-02-22_deaths",
          "2021-02-23_deaths",
          "2021-02-24_deaths",
          "2021-02-25_deaths",
          "2021-02-26_deaths",
          "2021-02-27_deaths",
          "2021-02-28_deaths",
          "2021-03-01_deaths",
          "2021-03-02_deaths",
          "2021-03-03_deaths",
          "2021-03-04_deaths",
          "2021-03-05_deaths",
          "2021-03-06_deaths",
          "2021-03-07_deaths",
          "2021-03-08_deaths",
          "2021-03-09_deaths",
          "2021-03-10_deaths",
          "2021-03-11_deaths",
          "2021-03-12_deaths",
          "2021-03-13_deaths",
          "2021-03-14_deaths",
          "2021-03-15_deaths",
          "2021-03-16_deaths",
          "2021-03-17_deaths"
         ],
         "y": [
          "Tarrant County",
          0,
          0,
          0,
          0,
          0,
          0,
          0,
          0,
          0,
          0,
          0,
          0,
          0,
          0,
          0,
          0,
          0,
          0,
          0,
          0,
          0,
          0,
          0,
          0,
          0,
          0,
          0,
          0,
          0,
          0,
          0,
          0,
          0,
          0,
          0,
          0,
          0,
          0,
          0,
          0,
          0,
          0,
          0,
          0,
          0,
          0,
          0,
          0,
          0,
          0,
          0,
          0,
          0,
          0,
          0,
          0,
          36,
          0,
          0,
          0,
          0,
          0,
          0,
          0,
          0,
          0,
          0,
          0,
          0,
          0,
          72,
          108,
          0,
          36,
          72,
          72,
          72,
          179,
          36,
          36,
          36,
          144,
          0,
          0,
          144,
          36,
          144,
          36,
          108,
          36,
          0,
          108,
          72,
          36,
          108,
          144,
          36,
          0,
          179,
          108,
          251,
          36,
          72,
          144,
          72,
          215,
          179,
          72,
          179,
          215,
          72,
          36,
          179,
          179,
          108,
          108,
          36,
          72,
          0,
          251,
          72,
          251,
          72,
          72,
          36,
          0,
          0,
          395,
          108,
          72,
          179,
          0,
          0,
          72,
          36,
          179,
          36,
          72,
          72,
          0,
          215,
          179,
          36,
          36,
          108,
          108,
          0,
          36,
          36,
          215,
          72,
          36,
          0,
          72,
          36,
          144,
          108,
          144,
          72,
          36,
          0,
          108,
          108,
          72,
          0,
          0,
          108,
          72,
          359,
          215,
          179,
          108,
          215,
          144,
          0,
          0,
          179,
          215,
          179,
          179,
          179,
          36,
          179,
          215,
          323,
          359,
          538,
          0,
          179,
          287,
          287,
          215,
          467,
          0,
          287,
          431,
          431,
          431,
          538,
          287,
          72,
          72,
          287,
          431,
          395,
          431,
          251,
          179,
          0,
          323,
          538,
          323,
          359,
          359,
          251,
          0,
          215,
          574,
          144,
          323,
          251,
          144,
          0,
          144,
          215,
          144,
          215,
          215,
          72,
          0,
          36,
          144,
          395,
          108,
          108,
          36,
          36,
          179,
          215,
          215,
          179,
          215,
          108,
          0,
          0,
          179,
          108,
          72,
          251,
          36,
          0,
          287,
          72,
          144,
          108,
          215,
          0,
          0,
          215,
          251,
          144,
          215,
          215,
          0,
          0,
          72,
          144,
          108,
          215,
          144,
          36,
          36,
          72,
          359,
          179,
          251,
          179,
          36,
          0,
          36,
          215,
          179,
          108,
          215,
          36,
          0,
          215,
          287,
          395,
          359,
          179,
          72,
          0,
          144,
          359,
          215,
          574,
          359,
          144,
          36,
          503,
          538,
          359,
          359,
          0,
          287,
          36,
          359,
          395,
          215,
          179,
          251,
          0,
          0,
          610,
          395,
          467,
          359,
          610,
          179,
          0,
          287,
          395,
          933,
          503,
          610,
          179,
          36,
          395,
          467,
          574,
          0,
          0,
          0,
          0,
          3877,
          0,
          754,
          395,
          36,
          179,
          72,
          538,
          646,
          861,
          718,
          215,
          108,
          108,
          861,
          754,
          1149,
          0,
          1759,
          431,
          0,
          969,
          1579,
          969,
          1256,
          826,
          1005,
          72,
          574,
          1472,
          969,
          1041,
          969,
          682,
          251,
          610,
          1364,
          2082,
          610,
          1220,
          395,
          144,
          359,
          861,
          1615,
          1149,
          1005,
          682,
          72,
          1113,
          1579,
          790,
          969,
          431,
          323,
          108,
          179,
          108,
          323,
          359,
          431,
          251,
          144,
          359,
          1256,
          826,
          790,
          359,
          287,
          144,
          538,
          969,
          1005,
          610,
          538,
          287,
          0,
          431,
          287,
          682,
          610,
          395,
          215,
          0,
          251,
          503
         ]
        },
        {
         "line": {
          "color": "rgba(128, 0, 128, 1.0)",
          "dash": "solid",
          "shape": "linear",
          "width": 1.3
         },
         "mode": "lines",
         "name": "2581",
         "text": "",
         "type": "scatter",
         "x": [
          "County Name",
          "2020-01-22_deaths",
          "2020-01-23_deaths",
          "2020-01-24_deaths",
          "2020-01-25_deaths",
          "2020-01-26_deaths",
          "2020-01-27_deaths",
          "2020-01-28_deaths",
          "2020-01-29_deaths",
          "2020-01-30_deaths",
          "2020-01-31_deaths",
          "2020-02-01_deaths",
          "2020-02-02_deaths",
          "2020-02-03_deaths",
          "2020-02-04_deaths",
          "2020-02-05_deaths",
          "2020-02-06_deaths",
          "2020-02-07_deaths",
          "2020-02-08_deaths",
          "2020-02-09_deaths",
          "2020-02-10_deaths",
          "2020-02-11_deaths",
          "2020-02-12_deaths",
          "2020-02-13_deaths",
          "2020-02-14_deaths",
          "2020-02-15_deaths",
          "2020-02-16_deaths",
          "2020-02-17_deaths",
          "2020-02-18_deaths",
          "2020-02-19_deaths",
          "2020-02-20_deaths",
          "2020-02-21_deaths",
          "2020-02-22_deaths",
          "2020-02-23_deaths",
          "2020-02-24_deaths",
          "2020-02-25_deaths",
          "2020-02-26_deaths",
          "2020-02-27_deaths",
          "2020-02-28_deaths",
          "2020-02-29_deaths",
          "2020-03-01_deaths",
          "2020-03-02_deaths",
          "2020-03-03_deaths",
          "2020-03-04_deaths",
          "2020-03-05_deaths",
          "2020-03-06_deaths",
          "2020-03-07_deaths",
          "2020-03-08_deaths",
          "2020-03-09_deaths",
          "2020-03-10_deaths",
          "2020-03-11_deaths",
          "2020-03-12_deaths",
          "2020-03-13_deaths",
          "2020-03-14_deaths",
          "2020-03-15_deaths",
          "2020-03-16_deaths",
          "2020-03-17_deaths",
          "2020-03-18_deaths",
          "2020-03-19_deaths",
          "2020-03-20_deaths",
          "2020-03-21_deaths",
          "2020-03-22_deaths",
          "2020-03-23_deaths",
          "2020-03-24_deaths",
          "2020-03-25_deaths",
          "2020-03-26_deaths",
          "2020-03-27_deaths",
          "2020-03-28_deaths",
          "2020-03-29_deaths",
          "2020-03-30_deaths",
          "2020-03-31_deaths",
          "2020-04-01_deaths",
          "2020-04-02_deaths",
          "2020-04-03_deaths",
          "2020-04-04_deaths",
          "2020-04-05_deaths",
          "2020-04-06_deaths",
          "2020-04-07_deaths",
          "2020-04-08_deaths",
          "2020-04-09_deaths",
          "2020-04-10_deaths",
          "2020-04-11_deaths",
          "2020-04-12_deaths",
          "2020-04-13_deaths",
          "2020-04-14_deaths",
          "2020-04-15_deaths",
          "2020-04-16_deaths",
          "2020-04-17_deaths",
          "2020-04-18_deaths",
          "2020-04-19_deaths",
          "2020-04-20_deaths",
          "2020-04-21_deaths",
          "2020-04-22_deaths",
          "2020-04-23_deaths",
          "2020-04-24_deaths",
          "2020-04-25_deaths",
          "2020-04-26_deaths",
          "2020-04-27_deaths",
          "2020-04-28_deaths",
          "2020-04-29_deaths",
          "2020-04-30_deaths",
          "2020-05-01_deaths",
          "2020-05-02_deaths",
          "2020-05-03_deaths",
          "2020-05-04_deaths",
          "2020-05-05_deaths",
          "2020-05-06_deaths",
          "2020-05-07_deaths",
          "2020-05-08_deaths",
          "2020-05-09_deaths",
          "2020-05-10_deaths",
          "2020-05-11_deaths",
          "2020-05-12_deaths",
          "2020-05-13_deaths",
          "2020-05-14_deaths",
          "2020-05-15_deaths",
          "2020-05-16_deaths",
          "2020-05-17_deaths",
          "2020-05-18_deaths",
          "2020-05-19_deaths",
          "2020-05-20_deaths",
          "2020-05-21_deaths",
          "2020-05-22_deaths",
          "2020-05-23_deaths",
          "2020-05-24_deaths",
          "2020-05-25_deaths",
          "2020-05-26_deaths",
          "2020-05-27_deaths",
          "2020-05-28_deaths",
          "2020-05-29_deaths",
          "2020-05-30_deaths",
          "2020-05-31_deaths",
          "2020-06-01_deaths",
          "2020-06-02_deaths",
          "2020-06-03_deaths",
          "2020-06-04_deaths",
          "2020-06-05_deaths",
          "2020-06-06_deaths",
          "2020-06-07_deaths",
          "2020-06-08_deaths",
          "2020-06-09_deaths",
          "2020-06-10_deaths",
          "2020-06-11_deaths",
          "2020-06-12_deaths",
          "2020-06-13_deaths",
          "2020-06-14_deaths",
          "2020-06-15_deaths",
          "2020-06-16_deaths",
          "2020-06-17_deaths",
          "2020-06-18_deaths",
          "2020-06-19_deaths",
          "2020-06-20_deaths",
          "2020-06-21_deaths",
          "2020-06-22_deaths",
          "2020-06-23_deaths",
          "2020-06-24_deaths",
          "2020-06-25_deaths",
          "2020-06-26_deaths",
          "2020-06-27_deaths",
          "2020-06-28_deaths",
          "2020-06-29_deaths",
          "2020-06-30_deaths",
          "2020-07-01_deaths",
          "2020-07-02_deaths",
          "2020-07-03_deaths",
          "2020-07-04_deaths",
          "2020-07-05_deaths",
          "2020-07-06_deaths",
          "2020-07-07_deaths",
          "2020-07-08_deaths",
          "2020-07-09_deaths",
          "2020-07-10_deaths",
          "2020-07-11_deaths",
          "2020-07-12_deaths",
          "2020-07-13_deaths",
          "2020-07-14_deaths",
          "2020-07-15_deaths",
          "2020-07-16_deaths",
          "2020-07-17_deaths",
          "2020-07-18_deaths",
          "2020-07-19_deaths",
          "2020-07-20_deaths",
          "2020-07-21_deaths",
          "2020-07-22_deaths",
          "2020-07-23_deaths",
          "2020-07-24_deaths",
          "2020-07-25_deaths",
          "2020-07-26_deaths",
          "2020-07-27_deaths",
          "2020-07-28_deaths",
          "2020-07-29_deaths",
          "2020-07-30_deaths",
          "2020-07-31_deaths",
          "2020-08-01_deaths",
          "2020-08-02_deaths",
          "2020-08-03_deaths",
          "2020-08-04_deaths",
          "2020-08-05_deaths",
          "2020-08-06_deaths",
          "2020-08-07_deaths",
          "2020-08-08_deaths",
          "2020-08-09_deaths",
          "2020-08-10_deaths",
          "2020-08-11_deaths",
          "2020-08-12_deaths",
          "2020-08-13_deaths",
          "2020-08-14_deaths",
          "2020-08-15_deaths",
          "2020-08-16_deaths",
          "2020-08-17_deaths",
          "2020-08-18_deaths",
          "2020-08-19_deaths",
          "2020-08-20_deaths",
          "2020-08-21_deaths",
          "2020-08-22_deaths",
          "2020-08-23_deaths",
          "2020-08-24_deaths",
          "2020-08-25_deaths",
          "2020-08-26_deaths",
          "2020-08-27_deaths",
          "2020-08-28_deaths",
          "2020-08-29_deaths",
          "2020-08-30_deaths",
          "2020-08-31_deaths",
          "2020-09-01_deaths",
          "2020-09-02_deaths",
          "2020-09-03_deaths",
          "2020-09-04_deaths",
          "2020-09-05_deaths",
          "2020-09-06_deaths",
          "2020-09-07_deaths",
          "2020-09-08_deaths",
          "2020-09-09_deaths",
          "2020-09-10_deaths",
          "2020-09-11_deaths",
          "2020-09-12_deaths",
          "2020-09-13_deaths",
          "2020-09-14_deaths",
          "2020-09-15_deaths",
          "2020-09-16_deaths",
          "2020-09-17_deaths",
          "2020-09-18_deaths",
          "2020-09-19_deaths",
          "2020-09-20_deaths",
          "2020-09-21_deaths",
          "2020-09-22_deaths",
          "2020-09-23_deaths",
          "2020-09-24_deaths",
          "2020-09-25_deaths",
          "2020-09-26_deaths",
          "2020-09-27_deaths",
          "2020-09-28_deaths",
          "2020-09-29_deaths",
          "2020-09-30_deaths",
          "2020-10-01_deaths",
          "2020-10-02_deaths",
          "2020-10-03_deaths",
          "2020-10-04_deaths",
          "2020-10-05_deaths",
          "2020-10-06_deaths",
          "2020-10-07_deaths",
          "2020-10-08_deaths",
          "2020-10-09_deaths",
          "2020-10-10_deaths",
          "2020-10-11_deaths",
          "2020-10-12_deaths",
          "2020-10-13_deaths",
          "2020-10-14_deaths",
          "2020-10-15_deaths",
          "2020-10-16_deaths",
          "2020-10-17_deaths",
          "2020-10-18_deaths",
          "2020-10-19_deaths",
          "2020-10-20_deaths",
          "2020-10-21_deaths",
          "2020-10-22_deaths",
          "2020-10-23_deaths",
          "2020-10-24_deaths",
          "2020-10-25_deaths",
          "2020-10-26_deaths",
          "2020-10-27_deaths",
          "2020-10-28_deaths",
          "2020-10-29_deaths",
          "2020-10-30_deaths",
          "2020-10-31_deaths",
          "2020-11-01_deaths",
          "2020-11-02_deaths",
          "2020-11-03_deaths",
          "2020-11-04_deaths",
          "2020-11-05_deaths",
          "2020-11-06_deaths",
          "2020-11-07_deaths",
          "2020-11-08_deaths",
          "2020-11-09_deaths",
          "2020-11-10_deaths",
          "2020-11-11_deaths",
          "2020-11-12_deaths",
          "2020-11-13_deaths",
          "2020-11-14_deaths",
          "2020-11-15_deaths",
          "2020-11-16_deaths",
          "2020-11-17_deaths",
          "2020-11-18_deaths",
          "2020-11-19_deaths",
          "2020-11-20_deaths",
          "2020-11-21_deaths",
          "2020-11-22_deaths",
          "2020-11-23_deaths",
          "2020-11-24_deaths",
          "2020-11-25_deaths",
          "2020-11-26_deaths",
          "2020-11-27_deaths",
          "2020-11-28_deaths",
          "2020-11-29_deaths",
          "2020-11-30_deaths",
          "2020-12-01_deaths",
          "2020-12-02_deaths",
          "2020-12-03_deaths",
          "2020-12-04_deaths",
          "2020-12-05_deaths",
          "2020-12-06_deaths",
          "2020-12-07_deaths",
          "2020-12-08_deaths",
          "2020-12-09_deaths",
          "2020-12-10_deaths",
          "2020-12-11_deaths",
          "2020-12-12_deaths",
          "2020-12-13_deaths",
          "2020-12-14_deaths",
          "2020-12-15_deaths",
          "2020-12-16_deaths",
          "2020-12-17_deaths",
          "2020-12-18_deaths",
          "2020-12-19_deaths",
          "2020-12-20_deaths",
          "2020-12-21_deaths",
          "2020-12-22_deaths",
          "2020-12-23_deaths",
          "2020-12-24_deaths",
          "2020-12-25_deaths",
          "2020-12-26_deaths",
          "2020-12-27_deaths",
          "2020-12-28_deaths",
          "2020-12-29_deaths",
          "2020-12-30_deaths",
          "2020-12-31_deaths",
          "2021-01-01_deaths",
          "2021-01-02_deaths",
          "2021-01-03_deaths",
          "2021-01-04_deaths",
          "2021-01-05_deaths",
          "2021-01-06_deaths",
          "2021-01-07_deaths",
          "2021-01-08_deaths",
          "2021-01-09_deaths",
          "2021-01-10_deaths",
          "2021-01-11_deaths",
          "2021-01-12_deaths",
          "2021-01-13_deaths",
          "2021-01-14_deaths",
          "2021-01-15_deaths",
          "2021-01-16_deaths",
          "2021-01-17_deaths",
          "2021-01-18_deaths",
          "2021-01-19_deaths",
          "2021-01-20_deaths",
          "2021-01-21_deaths",
          "2021-01-22_deaths",
          "2021-01-23_deaths",
          "2021-01-24_deaths",
          "2021-01-25_deaths",
          "2021-01-26_deaths",
          "2021-01-27_deaths",
          "2021-01-28_deaths",
          "2021-01-29_deaths",
          "2021-01-30_deaths",
          "2021-01-31_deaths",
          "2021-02-01_deaths",
          "2021-02-02_deaths",
          "2021-02-03_deaths",
          "2021-02-04_deaths",
          "2021-02-05_deaths",
          "2021-02-06_deaths",
          "2021-02-07_deaths",
          "2021-02-08_deaths",
          "2021-02-09_deaths",
          "2021-02-10_deaths",
          "2021-02-11_deaths",
          "2021-02-12_deaths",
          "2021-02-13_deaths",
          "2021-02-14_deaths",
          "2021-02-15_deaths",
          "2021-02-16_deaths",
          "2021-02-17_deaths",
          "2021-02-18_deaths",
          "2021-02-19_deaths",
          "2021-02-20_deaths",
          "2021-02-21_deaths",
          "2021-02-22_deaths",
          "2021-02-23_deaths",
          "2021-02-24_deaths",
          "2021-02-25_deaths",
          "2021-02-26_deaths",
          "2021-02-27_deaths",
          "2021-02-28_deaths",
          "2021-03-01_deaths",
          "2021-03-02_deaths",
          "2021-03-03_deaths",
          "2021-03-04_deaths",
          "2021-03-05_deaths",
          "2021-03-06_deaths",
          "2021-03-07_deaths",
          "2021-03-08_deaths",
          "2021-03-09_deaths",
          "2021-03-10_deaths",
          "2021-03-11_deaths",
          "2021-03-12_deaths",
          "2021-03-13_deaths",
          "2021-03-14_deaths",
          "2021-03-15_deaths",
          "2021-03-16_deaths",
          "2021-03-17_deaths"
         ],
         "y": [
          "Bexar County",
          0,
          0,
          0,
          0,
          0,
          0,
          0,
          0,
          0,
          0,
          0,
          0,
          0,
          0,
          0,
          0,
          0,
          0,
          0,
          0,
          0,
          0,
          0,
          0,
          0,
          0,
          0,
          0,
          0,
          0,
          0,
          0,
          0,
          0,
          0,
          0,
          0,
          0,
          0,
          0,
          0,
          0,
          0,
          0,
          0,
          0,
          0,
          0,
          0,
          0,
          0,
          0,
          0,
          0,
          0,
          0,
          0,
          0,
          0,
          0,
          0,
          39,
          0,
          77,
          77,
          0,
          0,
          0,
          0,
          155,
          0,
          0,
          0,
          0,
          77,
          39,
          0,
          232,
          77,
          77,
          77,
          116,
          0,
          232,
          0,
          155,
          0,
          0,
          39,
          39,
          0,
          0,
          0,
          155,
          0,
          0,
          0,
          39,
          0,
          77,
          39,
          39,
          0,
          0,
          0,
          155,
          39,
          39,
          77,
          0,
          0,
          39,
          0,
          39,
          39,
          116,
          0,
          0,
          0,
          0,
          39,
          39,
          77,
          0,
          116,
          0,
          0,
          39,
          39,
          39,
          39,
          39,
          39,
          0,
          116,
          0,
          0,
          0,
          0,
          0,
          77,
          0,
          77,
          77,
          155,
          0,
          39,
          0,
          39,
          77,
          155,
          0,
          39,
          0,
          116,
          155,
          0,
          39,
          77,
          77,
          0,
          39,
          39,
          155,
          77,
          194,
          310,
          77,
          194,
          349,
          736,
          39,
          349,
          349,
          426,
          232,
          271,
          814,
          426,
          0,
          659,
          194,
          465,
          349,
          581,
          581,
          349,
          6122,
          659,
          930,
          930,
          1279,
          1279,
          0,
          426,
          930,
          1046,
          1240,
          1317,
          1317,
          349,
          77,
          852,
          775,
          930,
          581,
          852,
          194,
          0,
          814,
          852,
          852,
          930,
          426,
          232,
          0,
          349,
          736,
          775,
          620,
          620,
          310,
          0,
          581,
          697,
          659,
          349,
          542,
          232,
          39,
          39,
          194,
          349,
          387,
          349,
          155,
          39,
          387,
          504,
          194,
          349,
          77,
          77,
          77,
          271,
          349,
          271,
          310,
          697,
          0,
          0,
          232,
          387,
          194,
          194,
          232,
          116,
          0,
          155,
          116,
          310,
          349,
          155,
          0,
          0,
          39,
          194,
          155,
          232,
          116,
          77,
          0,
          77,
          77,
          39,
          155,
          77,
          77,
          0,
          310,
          194,
          77,
          39,
          77,
          77,
          0,
          39,
          271,
          77,
          39,
          77,
          77,
          0,
          155,
          194,
          232,
          116,
          77,
          77,
          0,
          77,
          194,
          271,
          116,
          0,
          310,
          0,
          155,
          232,
          116,
          116,
          77,
          77,
          77,
          155,
          387,
          155,
          349,
          426,
          39,
          39,
          232,
          310,
          349,
          271,
          232,
          116,
          0,
          194,
          349,
          349,
          0,
          0,
          0,
          0,
          2015,
          0,
          542,
          697,
          39,
          155,
          0,
          387,
          387,
          659,
          504,
          155,
          77,
          77,
          426,
          775,
          814,
          0,
          1744,
          581,
          116,
          852,
          1085,
          1162,
          1085,
          1472,
          426,
          39,
          775,
          1046,
          891,
          1279,
          814,
          349,
          310,
          775,
          1356,
          1782,
          1589,
          1007,
          736,
          39,
          1201,
          1395,
          969,
          1279,
          1356,
          697,
          271,
          891,
          1317,
          775,
          1356,
          930,
          426,
          232,
          116,
          194,
          465,
          232,
          697,
          814,
          426,
          542,
          1356,
          1162,
          1201,
          465,
          349,
          116,
          1317,
          852,
          1124,
          1007,
          930,
          232,
          116,
          542,
          620,
          969,
          620,
          465,
          232,
          39,
          349,
          697
         ]
        },
        {
         "line": {
          "color": "rgba(219, 64, 82, 1.0)",
          "dash": "solid",
          "shape": "linear",
          "width": 1.3
         },
         "mode": "lines",
         "name": "2793",
         "text": "",
         "type": "scatter",
         "x": [
          "County Name",
          "2020-01-22_deaths",
          "2020-01-23_deaths",
          "2020-01-24_deaths",
          "2020-01-25_deaths",
          "2020-01-26_deaths",
          "2020-01-27_deaths",
          "2020-01-28_deaths",
          "2020-01-29_deaths",
          "2020-01-30_deaths",
          "2020-01-31_deaths",
          "2020-02-01_deaths",
          "2020-02-02_deaths",
          "2020-02-03_deaths",
          "2020-02-04_deaths",
          "2020-02-05_deaths",
          "2020-02-06_deaths",
          "2020-02-07_deaths",
          "2020-02-08_deaths",
          "2020-02-09_deaths",
          "2020-02-10_deaths",
          "2020-02-11_deaths",
          "2020-02-12_deaths",
          "2020-02-13_deaths",
          "2020-02-14_deaths",
          "2020-02-15_deaths",
          "2020-02-16_deaths",
          "2020-02-17_deaths",
          "2020-02-18_deaths",
          "2020-02-19_deaths",
          "2020-02-20_deaths",
          "2020-02-21_deaths",
          "2020-02-22_deaths",
          "2020-02-23_deaths",
          "2020-02-24_deaths",
          "2020-02-25_deaths",
          "2020-02-26_deaths",
          "2020-02-27_deaths",
          "2020-02-28_deaths",
          "2020-02-29_deaths",
          "2020-03-01_deaths",
          "2020-03-02_deaths",
          "2020-03-03_deaths",
          "2020-03-04_deaths",
          "2020-03-05_deaths",
          "2020-03-06_deaths",
          "2020-03-07_deaths",
          "2020-03-08_deaths",
          "2020-03-09_deaths",
          "2020-03-10_deaths",
          "2020-03-11_deaths",
          "2020-03-12_deaths",
          "2020-03-13_deaths",
          "2020-03-14_deaths",
          "2020-03-15_deaths",
          "2020-03-16_deaths",
          "2020-03-17_deaths",
          "2020-03-18_deaths",
          "2020-03-19_deaths",
          "2020-03-20_deaths",
          "2020-03-21_deaths",
          "2020-03-22_deaths",
          "2020-03-23_deaths",
          "2020-03-24_deaths",
          "2020-03-25_deaths",
          "2020-03-26_deaths",
          "2020-03-27_deaths",
          "2020-03-28_deaths",
          "2020-03-29_deaths",
          "2020-03-30_deaths",
          "2020-03-31_deaths",
          "2020-04-01_deaths",
          "2020-04-02_deaths",
          "2020-04-03_deaths",
          "2020-04-04_deaths",
          "2020-04-05_deaths",
          "2020-04-06_deaths",
          "2020-04-07_deaths",
          "2020-04-08_deaths",
          "2020-04-09_deaths",
          "2020-04-10_deaths",
          "2020-04-11_deaths",
          "2020-04-12_deaths",
          "2020-04-13_deaths",
          "2020-04-14_deaths",
          "2020-04-15_deaths",
          "2020-04-16_deaths",
          "2020-04-17_deaths",
          "2020-04-18_deaths",
          "2020-04-19_deaths",
          "2020-04-20_deaths",
          "2020-04-21_deaths",
          "2020-04-22_deaths",
          "2020-04-23_deaths",
          "2020-04-24_deaths",
          "2020-04-25_deaths",
          "2020-04-26_deaths",
          "2020-04-27_deaths",
          "2020-04-28_deaths",
          "2020-04-29_deaths",
          "2020-04-30_deaths",
          "2020-05-01_deaths",
          "2020-05-02_deaths",
          "2020-05-03_deaths",
          "2020-05-04_deaths",
          "2020-05-05_deaths",
          "2020-05-06_deaths",
          "2020-05-07_deaths",
          "2020-05-08_deaths",
          "2020-05-09_deaths",
          "2020-05-10_deaths",
          "2020-05-11_deaths",
          "2020-05-12_deaths",
          "2020-05-13_deaths",
          "2020-05-14_deaths",
          "2020-05-15_deaths",
          "2020-05-16_deaths",
          "2020-05-17_deaths",
          "2020-05-18_deaths",
          "2020-05-19_deaths",
          "2020-05-20_deaths",
          "2020-05-21_deaths",
          "2020-05-22_deaths",
          "2020-05-23_deaths",
          "2020-05-24_deaths",
          "2020-05-25_deaths",
          "2020-05-26_deaths",
          "2020-05-27_deaths",
          "2020-05-28_deaths",
          "2020-05-29_deaths",
          "2020-05-30_deaths",
          "2020-05-31_deaths",
          "2020-06-01_deaths",
          "2020-06-02_deaths",
          "2020-06-03_deaths",
          "2020-06-04_deaths",
          "2020-06-05_deaths",
          "2020-06-06_deaths",
          "2020-06-07_deaths",
          "2020-06-08_deaths",
          "2020-06-09_deaths",
          "2020-06-10_deaths",
          "2020-06-11_deaths",
          "2020-06-12_deaths",
          "2020-06-13_deaths",
          "2020-06-14_deaths",
          "2020-06-15_deaths",
          "2020-06-16_deaths",
          "2020-06-17_deaths",
          "2020-06-18_deaths",
          "2020-06-19_deaths",
          "2020-06-20_deaths",
          "2020-06-21_deaths",
          "2020-06-22_deaths",
          "2020-06-23_deaths",
          "2020-06-24_deaths",
          "2020-06-25_deaths",
          "2020-06-26_deaths",
          "2020-06-27_deaths",
          "2020-06-28_deaths",
          "2020-06-29_deaths",
          "2020-06-30_deaths",
          "2020-07-01_deaths",
          "2020-07-02_deaths",
          "2020-07-03_deaths",
          "2020-07-04_deaths",
          "2020-07-05_deaths",
          "2020-07-06_deaths",
          "2020-07-07_deaths",
          "2020-07-08_deaths",
          "2020-07-09_deaths",
          "2020-07-10_deaths",
          "2020-07-11_deaths",
          "2020-07-12_deaths",
          "2020-07-13_deaths",
          "2020-07-14_deaths",
          "2020-07-15_deaths",
          "2020-07-16_deaths",
          "2020-07-17_deaths",
          "2020-07-18_deaths",
          "2020-07-19_deaths",
          "2020-07-20_deaths",
          "2020-07-21_deaths",
          "2020-07-22_deaths",
          "2020-07-23_deaths",
          "2020-07-24_deaths",
          "2020-07-25_deaths",
          "2020-07-26_deaths",
          "2020-07-27_deaths",
          "2020-07-28_deaths",
          "2020-07-29_deaths",
          "2020-07-30_deaths",
          "2020-07-31_deaths",
          "2020-08-01_deaths",
          "2020-08-02_deaths",
          "2020-08-03_deaths",
          "2020-08-04_deaths",
          "2020-08-05_deaths",
          "2020-08-06_deaths",
          "2020-08-07_deaths",
          "2020-08-08_deaths",
          "2020-08-09_deaths",
          "2020-08-10_deaths",
          "2020-08-11_deaths",
          "2020-08-12_deaths",
          "2020-08-13_deaths",
          "2020-08-14_deaths",
          "2020-08-15_deaths",
          "2020-08-16_deaths",
          "2020-08-17_deaths",
          "2020-08-18_deaths",
          "2020-08-19_deaths",
          "2020-08-20_deaths",
          "2020-08-21_deaths",
          "2020-08-22_deaths",
          "2020-08-23_deaths",
          "2020-08-24_deaths",
          "2020-08-25_deaths",
          "2020-08-26_deaths",
          "2020-08-27_deaths",
          "2020-08-28_deaths",
          "2020-08-29_deaths",
          "2020-08-30_deaths",
          "2020-08-31_deaths",
          "2020-09-01_deaths",
          "2020-09-02_deaths",
          "2020-09-03_deaths",
          "2020-09-04_deaths",
          "2020-09-05_deaths",
          "2020-09-06_deaths",
          "2020-09-07_deaths",
          "2020-09-08_deaths",
          "2020-09-09_deaths",
          "2020-09-10_deaths",
          "2020-09-11_deaths",
          "2020-09-12_deaths",
          "2020-09-13_deaths",
          "2020-09-14_deaths",
          "2020-09-15_deaths",
          "2020-09-16_deaths",
          "2020-09-17_deaths",
          "2020-09-18_deaths",
          "2020-09-19_deaths",
          "2020-09-20_deaths",
          "2020-09-21_deaths",
          "2020-09-22_deaths",
          "2020-09-23_deaths",
          "2020-09-24_deaths",
          "2020-09-25_deaths",
          "2020-09-26_deaths",
          "2020-09-27_deaths",
          "2020-09-28_deaths",
          "2020-09-29_deaths",
          "2020-09-30_deaths",
          "2020-10-01_deaths",
          "2020-10-02_deaths",
          "2020-10-03_deaths",
          "2020-10-04_deaths",
          "2020-10-05_deaths",
          "2020-10-06_deaths",
          "2020-10-07_deaths",
          "2020-10-08_deaths",
          "2020-10-09_deaths",
          "2020-10-10_deaths",
          "2020-10-11_deaths",
          "2020-10-12_deaths",
          "2020-10-13_deaths",
          "2020-10-14_deaths",
          "2020-10-15_deaths",
          "2020-10-16_deaths",
          "2020-10-17_deaths",
          "2020-10-18_deaths",
          "2020-10-19_deaths",
          "2020-10-20_deaths",
          "2020-10-21_deaths",
          "2020-10-22_deaths",
          "2020-10-23_deaths",
          "2020-10-24_deaths",
          "2020-10-25_deaths",
          "2020-10-26_deaths",
          "2020-10-27_deaths",
          "2020-10-28_deaths",
          "2020-10-29_deaths",
          "2020-10-30_deaths",
          "2020-10-31_deaths",
          "2020-11-01_deaths",
          "2020-11-02_deaths",
          "2020-11-03_deaths",
          "2020-11-04_deaths",
          "2020-11-05_deaths",
          "2020-11-06_deaths",
          "2020-11-07_deaths",
          "2020-11-08_deaths",
          "2020-11-09_deaths",
          "2020-11-10_deaths",
          "2020-11-11_deaths",
          "2020-11-12_deaths",
          "2020-11-13_deaths",
          "2020-11-14_deaths",
          "2020-11-15_deaths",
          "2020-11-16_deaths",
          "2020-11-17_deaths",
          "2020-11-18_deaths",
          "2020-11-19_deaths",
          "2020-11-20_deaths",
          "2020-11-21_deaths",
          "2020-11-22_deaths",
          "2020-11-23_deaths",
          "2020-11-24_deaths",
          "2020-11-25_deaths",
          "2020-11-26_deaths",
          "2020-11-27_deaths",
          "2020-11-28_deaths",
          "2020-11-29_deaths",
          "2020-11-30_deaths",
          "2020-12-01_deaths",
          "2020-12-02_deaths",
          "2020-12-03_deaths",
          "2020-12-04_deaths",
          "2020-12-05_deaths",
          "2020-12-06_deaths",
          "2020-12-07_deaths",
          "2020-12-08_deaths",
          "2020-12-09_deaths",
          "2020-12-10_deaths",
          "2020-12-11_deaths",
          "2020-12-12_deaths",
          "2020-12-13_deaths",
          "2020-12-14_deaths",
          "2020-12-15_deaths",
          "2020-12-16_deaths",
          "2020-12-17_deaths",
          "2020-12-18_deaths",
          "2020-12-19_deaths",
          "2020-12-20_deaths",
          "2020-12-21_deaths",
          "2020-12-22_deaths",
          "2020-12-23_deaths",
          "2020-12-24_deaths",
          "2020-12-25_deaths",
          "2020-12-26_deaths",
          "2020-12-27_deaths",
          "2020-12-28_deaths",
          "2020-12-29_deaths",
          "2020-12-30_deaths",
          "2020-12-31_deaths",
          "2021-01-01_deaths",
          "2021-01-02_deaths",
          "2021-01-03_deaths",
          "2021-01-04_deaths",
          "2021-01-05_deaths",
          "2021-01-06_deaths",
          "2021-01-07_deaths",
          "2021-01-08_deaths",
          "2021-01-09_deaths",
          "2021-01-10_deaths",
          "2021-01-11_deaths",
          "2021-01-12_deaths",
          "2021-01-13_deaths",
          "2021-01-14_deaths",
          "2021-01-15_deaths",
          "2021-01-16_deaths",
          "2021-01-17_deaths",
          "2021-01-18_deaths",
          "2021-01-19_deaths",
          "2021-01-20_deaths",
          "2021-01-21_deaths",
          "2021-01-22_deaths",
          "2021-01-23_deaths",
          "2021-01-24_deaths",
          "2021-01-25_deaths",
          "2021-01-26_deaths",
          "2021-01-27_deaths",
          "2021-01-28_deaths",
          "2021-01-29_deaths",
          "2021-01-30_deaths",
          "2021-01-31_deaths",
          "2021-02-01_deaths",
          "2021-02-02_deaths",
          "2021-02-03_deaths",
          "2021-02-04_deaths",
          "2021-02-05_deaths",
          "2021-02-06_deaths",
          "2021-02-07_deaths",
          "2021-02-08_deaths",
          "2021-02-09_deaths",
          "2021-02-10_deaths",
          "2021-02-11_deaths",
          "2021-02-12_deaths",
          "2021-02-13_deaths",
          "2021-02-14_deaths",
          "2021-02-15_deaths",
          "2021-02-16_deaths",
          "2021-02-17_deaths",
          "2021-02-18_deaths",
          "2021-02-19_deaths",
          "2021-02-20_deaths",
          "2021-02-21_deaths",
          "2021-02-22_deaths",
          "2021-02-23_deaths",
          "2021-02-24_deaths",
          "2021-02-25_deaths",
          "2021-02-26_deaths",
          "2021-02-27_deaths",
          "2021-02-28_deaths",
          "2021-03-01_deaths",
          "2021-03-02_deaths",
          "2021-03-03_deaths",
          "2021-03-04_deaths",
          "2021-03-05_deaths",
          "2021-03-06_deaths",
          "2021-03-07_deaths",
          "2021-03-08_deaths",
          "2021-03-09_deaths",
          "2021-03-10_deaths",
          "2021-03-11_deaths",
          "2021-03-12_deaths",
          "2021-03-13_deaths",
          "2021-03-14_deaths",
          "2021-03-15_deaths",
          "2021-03-16_deaths",
          "2021-03-17_deaths"
         ],
         "y": [
          "Travis County",
          0,
          0,
          0,
          0,
          0,
          0,
          0,
          0,
          0,
          0,
          0,
          0,
          0,
          0,
          0,
          0,
          0,
          0,
          0,
          0,
          0,
          0,
          0,
          0,
          0,
          0,
          0,
          0,
          0,
          0,
          0,
          0,
          0,
          0,
          0,
          0,
          0,
          0,
          0,
          0,
          0,
          0,
          0,
          0,
          0,
          0,
          0,
          0,
          0,
          0,
          0,
          0,
          0,
          0,
          0,
          0,
          0,
          0,
          0,
          0,
          0,
          0,
          0,
          0,
          0,
          36,
          0,
          0,
          0,
          0,
          36,
          36,
          0,
          36,
          72,
          0,
          0,
          36,
          0,
          0,
          72,
          0,
          0,
          72,
          107,
          107,
          36,
          107,
          72,
          72,
          36,
          36,
          36,
          107,
          36,
          143,
          107,
          107,
          0,
          72,
          107,
          143,
          0,
          36,
          36,
          143,
          0,
          72,
          36,
          0,
          0,
          179,
          215,
          36,
          72,
          107,
          0,
          0,
          72,
          72,
          36,
          36,
          0,
          0,
          36,
          36,
          107,
          107,
          36,
          36,
          0,
          0,
          0,
          0,
          72,
          0,
          72,
          0,
          0,
          36,
          36,
          0,
          72,
          107,
          0,
          0,
          72,
          0,
          72,
          0,
          0,
          36,
          36,
          72,
          72,
          72,
          0,
          0,
          36,
          0,
          143,
          107,
          143,
          179,
          36,
          72,
          36,
          251,
          251,
          286,
          0,
          251,
          72,
          36,
          107,
          251,
          143,
          215,
          251,
          251,
          0,
          215,
          322,
          143,
          251,
          430,
          0,
          0,
          179,
          179,
          215,
          322,
          179,
          0,
          72,
          143,
          143,
          107,
          322,
          143,
          36,
          143,
          215,
          215,
          286,
          286,
          107,
          215,
          36,
          107,
          430,
          215,
          143,
          36,
          72,
          107,
          143,
          143,
          179,
          215,
          107,
          0,
          107,
          36,
          215,
          179,
          251,
          72,
          72,
          0,
          36,
          72,
          72,
          0,
          107,
          36,
          143,
          36,
          0,
          0,
          107,
          36,
          143,
          72,
          0,
          36,
          215,
          72,
          36,
          107,
          0,
          0,
          36,
          72,
          0,
          72,
          36,
          0,
          72,
          107,
          72,
          72,
          0,
          0,
          0,
          0,
          36,
          72,
          36,
          36,
          0,
          0,
          0,
          36,
          0,
          36,
          36,
          36,
          0,
          72,
          72,
          36,
          0,
          0,
          36,
          0,
          107,
          0,
          36,
          72,
          0,
          36,
          0,
          0,
          36,
          0,
          36,
          36,
          0,
          72,
          72,
          36,
          36,
          36,
          0,
          72,
          0,
          36,
          0,
          36,
          0,
          0,
          0,
          0,
          36,
          0,
          36,
          0,
          107,
          36,
          0,
          72,
          251,
          107,
          72,
          107,
          0,
          72,
          143,
          143,
          0,
          0,
          0,
          0,
          0,
          394,
          0,
          143,
          107,
          36,
          36,
          36,
          72,
          322,
          143,
          251,
          72,
          143,
          0,
          36,
          286,
          143,
          0,
          537,
          72,
          0,
          107,
          179,
          322,
          286,
          143,
          143,
          143,
          286,
          537,
          251,
          358,
          644,
          179,
          36,
          107,
          394,
          286,
          430,
          215,
          179,
          107,
          251,
          394,
          322,
          215,
          107,
          179,
          36,
          72,
          107,
          322,
          358,
          107,
          179,
          36,
          0,
          0,
          72,
          72,
          143,
          215,
          107,
          107,
          107,
          501,
          143,
          179,
          36,
          0,
          107,
          286,
          179,
          286,
          179,
          36,
          36,
          179,
          143,
          358,
          72,
          143,
          36,
          0,
          179,
          215
         ]
        }
       ],
       "layout": {
        "legend": {
         "bgcolor": "#F5F6F9",
         "font": {
          "color": "#4D5663"
         }
        },
        "paper_bgcolor": "#F5F6F9",
        "plot_bgcolor": "#F5F6F9",
        "template": {
         "data": {
          "bar": [
           {
            "error_x": {
             "color": "#2a3f5f"
            },
            "error_y": {
             "color": "#2a3f5f"
            },
            "marker": {
             "line": {
              "color": "#E5ECF6",
              "width": 0.5
             }
            },
            "type": "bar"
           }
          ],
          "barpolar": [
           {
            "marker": {
             "line": {
              "color": "#E5ECF6",
              "width": 0.5
             }
            },
            "type": "barpolar"
           }
          ],
          "carpet": [
           {
            "aaxis": {
             "endlinecolor": "#2a3f5f",
             "gridcolor": "white",
             "linecolor": "white",
             "minorgridcolor": "white",
             "startlinecolor": "#2a3f5f"
            },
            "baxis": {
             "endlinecolor": "#2a3f5f",
             "gridcolor": "white",
             "linecolor": "white",
             "minorgridcolor": "white",
             "startlinecolor": "#2a3f5f"
            },
            "type": "carpet"
           }
          ],
          "choropleth": [
           {
            "colorbar": {
             "outlinewidth": 0,
             "ticks": ""
            },
            "type": "choropleth"
           }
          ],
          "contour": [
           {
            "colorbar": {
             "outlinewidth": 0,
             "ticks": ""
            },
            "colorscale": [
             [
              0,
              "#0d0887"
             ],
             [
              0.1111111111111111,
              "#46039f"
             ],
             [
              0.2222222222222222,
              "#7201a8"
             ],
             [
              0.3333333333333333,
              "#9c179e"
             ],
             [
              0.4444444444444444,
              "#bd3786"
             ],
             [
              0.5555555555555556,
              "#d8576b"
             ],
             [
              0.6666666666666666,
              "#ed7953"
             ],
             [
              0.7777777777777778,
              "#fb9f3a"
             ],
             [
              0.8888888888888888,
              "#fdca26"
             ],
             [
              1,
              "#f0f921"
             ]
            ],
            "type": "contour"
           }
          ],
          "contourcarpet": [
           {
            "colorbar": {
             "outlinewidth": 0,
             "ticks": ""
            },
            "type": "contourcarpet"
           }
          ],
          "heatmap": [
           {
            "colorbar": {
             "outlinewidth": 0,
             "ticks": ""
            },
            "colorscale": [
             [
              0,
              "#0d0887"
             ],
             [
              0.1111111111111111,
              "#46039f"
             ],
             [
              0.2222222222222222,
              "#7201a8"
             ],
             [
              0.3333333333333333,
              "#9c179e"
             ],
             [
              0.4444444444444444,
              "#bd3786"
             ],
             [
              0.5555555555555556,
              "#d8576b"
             ],
             [
              0.6666666666666666,
              "#ed7953"
             ],
             [
              0.7777777777777778,
              "#fb9f3a"
             ],
             [
              0.8888888888888888,
              "#fdca26"
             ],
             [
              1,
              "#f0f921"
             ]
            ],
            "type": "heatmap"
           }
          ],
          "heatmapgl": [
           {
            "colorbar": {
             "outlinewidth": 0,
             "ticks": ""
            },
            "colorscale": [
             [
              0,
              "#0d0887"
             ],
             [
              0.1111111111111111,
              "#46039f"
             ],
             [
              0.2222222222222222,
              "#7201a8"
             ],
             [
              0.3333333333333333,
              "#9c179e"
             ],
             [
              0.4444444444444444,
              "#bd3786"
             ],
             [
              0.5555555555555556,
              "#d8576b"
             ],
             [
              0.6666666666666666,
              "#ed7953"
             ],
             [
              0.7777777777777778,
              "#fb9f3a"
             ],
             [
              0.8888888888888888,
              "#fdca26"
             ],
             [
              1,
              "#f0f921"
             ]
            ],
            "type": "heatmapgl"
           }
          ],
          "histogram": [
           {
            "marker": {
             "colorbar": {
              "outlinewidth": 0,
              "ticks": ""
             }
            },
            "type": "histogram"
           }
          ],
          "histogram2d": [
           {
            "colorbar": {
             "outlinewidth": 0,
             "ticks": ""
            },
            "colorscale": [
             [
              0,
              "#0d0887"
             ],
             [
              0.1111111111111111,
              "#46039f"
             ],
             [
              0.2222222222222222,
              "#7201a8"
             ],
             [
              0.3333333333333333,
              "#9c179e"
             ],
             [
              0.4444444444444444,
              "#bd3786"
             ],
             [
              0.5555555555555556,
              "#d8576b"
             ],
             [
              0.6666666666666666,
              "#ed7953"
             ],
             [
              0.7777777777777778,
              "#fb9f3a"
             ],
             [
              0.8888888888888888,
              "#fdca26"
             ],
             [
              1,
              "#f0f921"
             ]
            ],
            "type": "histogram2d"
           }
          ],
          "histogram2dcontour": [
           {
            "colorbar": {
             "outlinewidth": 0,
             "ticks": ""
            },
            "colorscale": [
             [
              0,
              "#0d0887"
             ],
             [
              0.1111111111111111,
              "#46039f"
             ],
             [
              0.2222222222222222,
              "#7201a8"
             ],
             [
              0.3333333333333333,
              "#9c179e"
             ],
             [
              0.4444444444444444,
              "#bd3786"
             ],
             [
              0.5555555555555556,
              "#d8576b"
             ],
             [
              0.6666666666666666,
              "#ed7953"
             ],
             [
              0.7777777777777778,
              "#fb9f3a"
             ],
             [
              0.8888888888888888,
              "#fdca26"
             ],
             [
              1,
              "#f0f921"
             ]
            ],
            "type": "histogram2dcontour"
           }
          ],
          "mesh3d": [
           {
            "colorbar": {
             "outlinewidth": 0,
             "ticks": ""
            },
            "type": "mesh3d"
           }
          ],
          "parcoords": [
           {
            "line": {
             "colorbar": {
              "outlinewidth": 0,
              "ticks": ""
             }
            },
            "type": "parcoords"
           }
          ],
          "pie": [
           {
            "automargin": true,
            "type": "pie"
           }
          ],
          "scatter": [
           {
            "marker": {
             "colorbar": {
              "outlinewidth": 0,
              "ticks": ""
             }
            },
            "type": "scatter"
           }
          ],
          "scatter3d": [
           {
            "line": {
             "colorbar": {
              "outlinewidth": 0,
              "ticks": ""
             }
            },
            "marker": {
             "colorbar": {
              "outlinewidth": 0,
              "ticks": ""
             }
            },
            "type": "scatter3d"
           }
          ],
          "scattercarpet": [
           {
            "marker": {
             "colorbar": {
              "outlinewidth": 0,
              "ticks": ""
             }
            },
            "type": "scattercarpet"
           }
          ],
          "scattergeo": [
           {
            "marker": {
             "colorbar": {
              "outlinewidth": 0,
              "ticks": ""
             }
            },
            "type": "scattergeo"
           }
          ],
          "scattergl": [
           {
            "marker": {
             "colorbar": {
              "outlinewidth": 0,
              "ticks": ""
             }
            },
            "type": "scattergl"
           }
          ],
          "scattermapbox": [
           {
            "marker": {
             "colorbar": {
              "outlinewidth": 0,
              "ticks": ""
             }
            },
            "type": "scattermapbox"
           }
          ],
          "scatterpolar": [
           {
            "marker": {
             "colorbar": {
              "outlinewidth": 0,
              "ticks": ""
             }
            },
            "type": "scatterpolar"
           }
          ],
          "scatterpolargl": [
           {
            "marker": {
             "colorbar": {
              "outlinewidth": 0,
              "ticks": ""
             }
            },
            "type": "scatterpolargl"
           }
          ],
          "scatterternary": [
           {
            "marker": {
             "colorbar": {
              "outlinewidth": 0,
              "ticks": ""
             }
            },
            "type": "scatterternary"
           }
          ],
          "surface": [
           {
            "colorbar": {
             "outlinewidth": 0,
             "ticks": ""
            },
            "colorscale": [
             [
              0,
              "#0d0887"
             ],
             [
              0.1111111111111111,
              "#46039f"
             ],
             [
              0.2222222222222222,
              "#7201a8"
             ],
             [
              0.3333333333333333,
              "#9c179e"
             ],
             [
              0.4444444444444444,
              "#bd3786"
             ],
             [
              0.5555555555555556,
              "#d8576b"
             ],
             [
              0.6666666666666666,
              "#ed7953"
             ],
             [
              0.7777777777777778,
              "#fb9f3a"
             ],
             [
              0.8888888888888888,
              "#fdca26"
             ],
             [
              1,
              "#f0f921"
             ]
            ],
            "type": "surface"
           }
          ],
          "table": [
           {
            "cells": {
             "fill": {
              "color": "#EBF0F8"
             },
             "line": {
              "color": "white"
             }
            },
            "header": {
             "fill": {
              "color": "#C8D4E3"
             },
             "line": {
              "color": "white"
             }
            },
            "type": "table"
           }
          ]
         },
         "layout": {
          "annotationdefaults": {
           "arrowcolor": "#2a3f5f",
           "arrowhead": 0,
           "arrowwidth": 1
          },
          "autotypenumbers": "strict",
          "coloraxis": {
           "colorbar": {
            "outlinewidth": 0,
            "ticks": ""
           }
          },
          "colorscale": {
           "diverging": [
            [
             0,
             "#8e0152"
            ],
            [
             0.1,
             "#c51b7d"
            ],
            [
             0.2,
             "#de77ae"
            ],
            [
             0.3,
             "#f1b6da"
            ],
            [
             0.4,
             "#fde0ef"
            ],
            [
             0.5,
             "#f7f7f7"
            ],
            [
             0.6,
             "#e6f5d0"
            ],
            [
             0.7,
             "#b8e186"
            ],
            [
             0.8,
             "#7fbc41"
            ],
            [
             0.9,
             "#4d9221"
            ],
            [
             1,
             "#276419"
            ]
           ],
           "sequential": [
            [
             0,
             "#0d0887"
            ],
            [
             0.1111111111111111,
             "#46039f"
            ],
            [
             0.2222222222222222,
             "#7201a8"
            ],
            [
             0.3333333333333333,
             "#9c179e"
            ],
            [
             0.4444444444444444,
             "#bd3786"
            ],
            [
             0.5555555555555556,
             "#d8576b"
            ],
            [
             0.6666666666666666,
             "#ed7953"
            ],
            [
             0.7777777777777778,
             "#fb9f3a"
            ],
            [
             0.8888888888888888,
             "#fdca26"
            ],
            [
             1,
             "#f0f921"
            ]
           ],
           "sequentialminus": [
            [
             0,
             "#0d0887"
            ],
            [
             0.1111111111111111,
             "#46039f"
            ],
            [
             0.2222222222222222,
             "#7201a8"
            ],
            [
             0.3333333333333333,
             "#9c179e"
            ],
            [
             0.4444444444444444,
             "#bd3786"
            ],
            [
             0.5555555555555556,
             "#d8576b"
            ],
            [
             0.6666666666666666,
             "#ed7953"
            ],
            [
             0.7777777777777778,
             "#fb9f3a"
            ],
            [
             0.8888888888888888,
             "#fdca26"
            ],
            [
             1,
             "#f0f921"
            ]
           ]
          },
          "colorway": [
           "#636efa",
           "#EF553B",
           "#00cc96",
           "#ab63fa",
           "#FFA15A",
           "#19d3f3",
           "#FF6692",
           "#B6E880",
           "#FF97FF",
           "#FECB52"
          ],
          "font": {
           "color": "#2a3f5f"
          },
          "geo": {
           "bgcolor": "white",
           "lakecolor": "white",
           "landcolor": "#E5ECF6",
           "showlakes": true,
           "showland": true,
           "subunitcolor": "white"
          },
          "hoverlabel": {
           "align": "left"
          },
          "hovermode": "closest",
          "mapbox": {
           "style": "light"
          },
          "paper_bgcolor": "white",
          "plot_bgcolor": "#E5ECF6",
          "polar": {
           "angularaxis": {
            "gridcolor": "white",
            "linecolor": "white",
            "ticks": ""
           },
           "bgcolor": "#E5ECF6",
           "radialaxis": {
            "gridcolor": "white",
            "linecolor": "white",
            "ticks": ""
           }
          },
          "scene": {
           "xaxis": {
            "backgroundcolor": "#E5ECF6",
            "gridcolor": "white",
            "gridwidth": 2,
            "linecolor": "white",
            "showbackground": true,
            "ticks": "",
            "zerolinecolor": "white"
           },
           "yaxis": {
            "backgroundcolor": "#E5ECF6",
            "gridcolor": "white",
            "gridwidth": 2,
            "linecolor": "white",
            "showbackground": true,
            "ticks": "",
            "zerolinecolor": "white"
           },
           "zaxis": {
            "backgroundcolor": "#E5ECF6",
            "gridcolor": "white",
            "gridwidth": 2,
            "linecolor": "white",
            "showbackground": true,
            "ticks": "",
            "zerolinecolor": "white"
           }
          },
          "shapedefaults": {
           "line": {
            "color": "#2a3f5f"
           }
          },
          "ternary": {
           "aaxis": {
            "gridcolor": "white",
            "linecolor": "white",
            "ticks": ""
           },
           "baxis": {
            "gridcolor": "white",
            "linecolor": "white",
            "ticks": ""
           },
           "bgcolor": "#E5ECF6",
           "caxis": {
            "gridcolor": "white",
            "linecolor": "white",
            "ticks": ""
           }
          },
          "title": {
           "x": 0.05
          },
          "xaxis": {
           "automargin": true,
           "gridcolor": "white",
           "linecolor": "white",
           "ticks": "",
           "title": {
            "standoff": 15
           },
           "zerolinecolor": "white",
           "zerolinewidth": 2
          },
          "yaxis": {
           "automargin": true,
           "gridcolor": "white",
           "linecolor": "white",
           "ticks": "",
           "title": {
            "standoff": 15
           },
           "zerolinecolor": "white",
           "zerolinewidth": 2
          }
         }
        },
        "title": {
         "font": {
          "color": "#4D5663"
         },
         "text": "Texas: Daily Deaths Top 5 Counties"
        },
        "xaxis": {
         "gridcolor": "#E1E5ED",
         "showgrid": true,
         "tickfont": {
          "color": "#4D5663"
         },
         "title": {
          "font": {
           "color": "#4D5663"
          },
          "text": ""
         },
         "zerolinecolor": "#E1E5ED"
        },
        "yaxis": {
         "gridcolor": "#E1E5ED",
         "showgrid": true,
         "tickfont": {
          "color": "#4D5663"
         },
         "title": {
          "font": {
           "color": "#4D5663"
          },
          "text": ""
         },
         "zerolinecolor": "#E1E5ED"
        }
       }
      },
      "text/html": [
       "<div>                            <div id=\"ba2b9454-34fa-425a-a85f-2fcfa8e6fb4d\" class=\"plotly-graph-div\" style=\"height:525px; width:100%;\"></div>            <script type=\"text/javascript\">                require([\"plotly\"], function(Plotly) {                    window.PLOTLYENV=window.PLOTLYENV || {};\n",
       "                    window.PLOTLYENV.BASE_URL='https://plot.ly';                                    if (document.getElementById(\"ba2b9454-34fa-425a-a85f-2fcfa8e6fb4d\")) {                    Plotly.newPlot(                        \"ba2b9454-34fa-425a-a85f-2fcfa8e6fb4d\",                        [{\"line\": {\"color\": \"rgba(255, 153, 51, 1.0)\", \"dash\": \"solid\", \"shape\": \"linear\", \"width\": 1.3}, \"mode\": \"lines\", \"name\": \"2667\", \"text\": \"\", \"type\": \"scatter\", \"x\": [\"County Name\", \"2020-01-22_deaths\", \"2020-01-23_deaths\", \"2020-01-24_deaths\", \"2020-01-25_deaths\", \"2020-01-26_deaths\", \"2020-01-27_deaths\", \"2020-01-28_deaths\", \"2020-01-29_deaths\", \"2020-01-30_deaths\", \"2020-01-31_deaths\", \"2020-02-01_deaths\", \"2020-02-02_deaths\", \"2020-02-03_deaths\", \"2020-02-04_deaths\", \"2020-02-05_deaths\", \"2020-02-06_deaths\", \"2020-02-07_deaths\", \"2020-02-08_deaths\", \"2020-02-09_deaths\", \"2020-02-10_deaths\", \"2020-02-11_deaths\", \"2020-02-12_deaths\", \"2020-02-13_deaths\", \"2020-02-14_deaths\", \"2020-02-15_deaths\", \"2020-02-16_deaths\", \"2020-02-17_deaths\", \"2020-02-18_deaths\", \"2020-02-19_deaths\", \"2020-02-20_deaths\", \"2020-02-21_deaths\", \"2020-02-22_deaths\", \"2020-02-23_deaths\", \"2020-02-24_deaths\", \"2020-02-25_deaths\", \"2020-02-26_deaths\", \"2020-02-27_deaths\", \"2020-02-28_deaths\", \"2020-02-29_deaths\", \"2020-03-01_deaths\", \"2020-03-02_deaths\", \"2020-03-03_deaths\", \"2020-03-04_deaths\", \"2020-03-05_deaths\", \"2020-03-06_deaths\", \"2020-03-07_deaths\", \"2020-03-08_deaths\", \"2020-03-09_deaths\", \"2020-03-10_deaths\", \"2020-03-11_deaths\", \"2020-03-12_deaths\", \"2020-03-13_deaths\", \"2020-03-14_deaths\", \"2020-03-15_deaths\", \"2020-03-16_deaths\", \"2020-03-17_deaths\", \"2020-03-18_deaths\", \"2020-03-19_deaths\", \"2020-03-20_deaths\", \"2020-03-21_deaths\", \"2020-03-22_deaths\", \"2020-03-23_deaths\", \"2020-03-24_deaths\", \"2020-03-25_deaths\", \"2020-03-26_deaths\", \"2020-03-27_deaths\", \"2020-03-28_deaths\", \"2020-03-29_deaths\", \"2020-03-30_deaths\", \"2020-03-31_deaths\", \"2020-04-01_deaths\", \"2020-04-02_deaths\", \"2020-04-03_deaths\", \"2020-04-04_deaths\", \"2020-04-05_deaths\", \"2020-04-06_deaths\", \"2020-04-07_deaths\", \"2020-04-08_deaths\", \"2020-04-09_deaths\", \"2020-04-10_deaths\", \"2020-04-11_deaths\", \"2020-04-12_deaths\", \"2020-04-13_deaths\", \"2020-04-14_deaths\", \"2020-04-15_deaths\", \"2020-04-16_deaths\", \"2020-04-17_deaths\", \"2020-04-18_deaths\", \"2020-04-19_deaths\", \"2020-04-20_deaths\", \"2020-04-21_deaths\", \"2020-04-22_deaths\", \"2020-04-23_deaths\", \"2020-04-24_deaths\", \"2020-04-25_deaths\", \"2020-04-26_deaths\", \"2020-04-27_deaths\", \"2020-04-28_deaths\", \"2020-04-29_deaths\", \"2020-04-30_deaths\", \"2020-05-01_deaths\", \"2020-05-02_deaths\", \"2020-05-03_deaths\", \"2020-05-04_deaths\", \"2020-05-05_deaths\", \"2020-05-06_deaths\", \"2020-05-07_deaths\", \"2020-05-08_deaths\", \"2020-05-09_deaths\", \"2020-05-10_deaths\", \"2020-05-11_deaths\", \"2020-05-12_deaths\", \"2020-05-13_deaths\", \"2020-05-14_deaths\", \"2020-05-15_deaths\", \"2020-05-16_deaths\", \"2020-05-17_deaths\", \"2020-05-18_deaths\", \"2020-05-19_deaths\", \"2020-05-20_deaths\", \"2020-05-21_deaths\", \"2020-05-22_deaths\", \"2020-05-23_deaths\", \"2020-05-24_deaths\", \"2020-05-25_deaths\", \"2020-05-26_deaths\", \"2020-05-27_deaths\", \"2020-05-28_deaths\", \"2020-05-29_deaths\", \"2020-05-30_deaths\", \"2020-05-31_deaths\", \"2020-06-01_deaths\", \"2020-06-02_deaths\", \"2020-06-03_deaths\", \"2020-06-04_deaths\", \"2020-06-05_deaths\", \"2020-06-06_deaths\", \"2020-06-07_deaths\", \"2020-06-08_deaths\", \"2020-06-09_deaths\", \"2020-06-10_deaths\", \"2020-06-11_deaths\", \"2020-06-12_deaths\", \"2020-06-13_deaths\", \"2020-06-14_deaths\", \"2020-06-15_deaths\", \"2020-06-16_deaths\", \"2020-06-17_deaths\", \"2020-06-18_deaths\", \"2020-06-19_deaths\", \"2020-06-20_deaths\", \"2020-06-21_deaths\", \"2020-06-22_deaths\", \"2020-06-23_deaths\", \"2020-06-24_deaths\", \"2020-06-25_deaths\", \"2020-06-26_deaths\", \"2020-06-27_deaths\", \"2020-06-28_deaths\", \"2020-06-29_deaths\", \"2020-06-30_deaths\", \"2020-07-01_deaths\", \"2020-07-02_deaths\", \"2020-07-03_deaths\", \"2020-07-04_deaths\", \"2020-07-05_deaths\", \"2020-07-06_deaths\", \"2020-07-07_deaths\", \"2020-07-08_deaths\", \"2020-07-09_deaths\", \"2020-07-10_deaths\", \"2020-07-11_deaths\", \"2020-07-12_deaths\", \"2020-07-13_deaths\", \"2020-07-14_deaths\", \"2020-07-15_deaths\", \"2020-07-16_deaths\", \"2020-07-17_deaths\", \"2020-07-18_deaths\", \"2020-07-19_deaths\", \"2020-07-20_deaths\", \"2020-07-21_deaths\", \"2020-07-22_deaths\", \"2020-07-23_deaths\", \"2020-07-24_deaths\", \"2020-07-25_deaths\", \"2020-07-26_deaths\", \"2020-07-27_deaths\", \"2020-07-28_deaths\", \"2020-07-29_deaths\", \"2020-07-30_deaths\", \"2020-07-31_deaths\", \"2020-08-01_deaths\", \"2020-08-02_deaths\", \"2020-08-03_deaths\", \"2020-08-04_deaths\", \"2020-08-05_deaths\", \"2020-08-06_deaths\", \"2020-08-07_deaths\", \"2020-08-08_deaths\", \"2020-08-09_deaths\", \"2020-08-10_deaths\", \"2020-08-11_deaths\", \"2020-08-12_deaths\", \"2020-08-13_deaths\", \"2020-08-14_deaths\", \"2020-08-15_deaths\", \"2020-08-16_deaths\", \"2020-08-17_deaths\", \"2020-08-18_deaths\", \"2020-08-19_deaths\", \"2020-08-20_deaths\", \"2020-08-21_deaths\", \"2020-08-22_deaths\", \"2020-08-23_deaths\", \"2020-08-24_deaths\", \"2020-08-25_deaths\", \"2020-08-26_deaths\", \"2020-08-27_deaths\", \"2020-08-28_deaths\", \"2020-08-29_deaths\", \"2020-08-30_deaths\", \"2020-08-31_deaths\", \"2020-09-01_deaths\", \"2020-09-02_deaths\", \"2020-09-03_deaths\", \"2020-09-04_deaths\", \"2020-09-05_deaths\", \"2020-09-06_deaths\", \"2020-09-07_deaths\", \"2020-09-08_deaths\", \"2020-09-09_deaths\", \"2020-09-10_deaths\", \"2020-09-11_deaths\", \"2020-09-12_deaths\", \"2020-09-13_deaths\", \"2020-09-14_deaths\", \"2020-09-15_deaths\", \"2020-09-16_deaths\", \"2020-09-17_deaths\", \"2020-09-18_deaths\", \"2020-09-19_deaths\", \"2020-09-20_deaths\", \"2020-09-21_deaths\", \"2020-09-22_deaths\", \"2020-09-23_deaths\", \"2020-09-24_deaths\", \"2020-09-25_deaths\", \"2020-09-26_deaths\", \"2020-09-27_deaths\", \"2020-09-28_deaths\", \"2020-09-29_deaths\", \"2020-09-30_deaths\", \"2020-10-01_deaths\", \"2020-10-02_deaths\", \"2020-10-03_deaths\", \"2020-10-04_deaths\", \"2020-10-05_deaths\", \"2020-10-06_deaths\", \"2020-10-07_deaths\", \"2020-10-08_deaths\", \"2020-10-09_deaths\", \"2020-10-10_deaths\", \"2020-10-11_deaths\", \"2020-10-12_deaths\", \"2020-10-13_deaths\", \"2020-10-14_deaths\", \"2020-10-15_deaths\", \"2020-10-16_deaths\", \"2020-10-17_deaths\", \"2020-10-18_deaths\", \"2020-10-19_deaths\", \"2020-10-20_deaths\", \"2020-10-21_deaths\", \"2020-10-22_deaths\", \"2020-10-23_deaths\", \"2020-10-24_deaths\", \"2020-10-25_deaths\", \"2020-10-26_deaths\", \"2020-10-27_deaths\", \"2020-10-28_deaths\", \"2020-10-29_deaths\", \"2020-10-30_deaths\", \"2020-10-31_deaths\", \"2020-11-01_deaths\", \"2020-11-02_deaths\", \"2020-11-03_deaths\", \"2020-11-04_deaths\", \"2020-11-05_deaths\", \"2020-11-06_deaths\", \"2020-11-07_deaths\", \"2020-11-08_deaths\", \"2020-11-09_deaths\", \"2020-11-10_deaths\", \"2020-11-11_deaths\", \"2020-11-12_deaths\", \"2020-11-13_deaths\", \"2020-11-14_deaths\", \"2020-11-15_deaths\", \"2020-11-16_deaths\", \"2020-11-17_deaths\", \"2020-11-18_deaths\", \"2020-11-19_deaths\", \"2020-11-20_deaths\", \"2020-11-21_deaths\", \"2020-11-22_deaths\", \"2020-11-23_deaths\", \"2020-11-24_deaths\", \"2020-11-25_deaths\", \"2020-11-26_deaths\", \"2020-11-27_deaths\", \"2020-11-28_deaths\", \"2020-11-29_deaths\", \"2020-11-30_deaths\", \"2020-12-01_deaths\", \"2020-12-02_deaths\", \"2020-12-03_deaths\", \"2020-12-04_deaths\", \"2020-12-05_deaths\", \"2020-12-06_deaths\", \"2020-12-07_deaths\", \"2020-12-08_deaths\", \"2020-12-09_deaths\", \"2020-12-10_deaths\", \"2020-12-11_deaths\", \"2020-12-12_deaths\", \"2020-12-13_deaths\", \"2020-12-14_deaths\", \"2020-12-15_deaths\", \"2020-12-16_deaths\", \"2020-12-17_deaths\", \"2020-12-18_deaths\", \"2020-12-19_deaths\", \"2020-12-20_deaths\", \"2020-12-21_deaths\", \"2020-12-22_deaths\", \"2020-12-23_deaths\", \"2020-12-24_deaths\", \"2020-12-25_deaths\", \"2020-12-26_deaths\", \"2020-12-27_deaths\", \"2020-12-28_deaths\", \"2020-12-29_deaths\", \"2020-12-30_deaths\", \"2020-12-31_deaths\", \"2021-01-01_deaths\", \"2021-01-02_deaths\", \"2021-01-03_deaths\", \"2021-01-04_deaths\", \"2021-01-05_deaths\", \"2021-01-06_deaths\", \"2021-01-07_deaths\", \"2021-01-08_deaths\", \"2021-01-09_deaths\", \"2021-01-10_deaths\", \"2021-01-11_deaths\", \"2021-01-12_deaths\", \"2021-01-13_deaths\", \"2021-01-14_deaths\", \"2021-01-15_deaths\", \"2021-01-16_deaths\", \"2021-01-17_deaths\", \"2021-01-18_deaths\", \"2021-01-19_deaths\", \"2021-01-20_deaths\", \"2021-01-21_deaths\", \"2021-01-22_deaths\", \"2021-01-23_deaths\", \"2021-01-24_deaths\", \"2021-01-25_deaths\", \"2021-01-26_deaths\", \"2021-01-27_deaths\", \"2021-01-28_deaths\", \"2021-01-29_deaths\", \"2021-01-30_deaths\", \"2021-01-31_deaths\", \"2021-02-01_deaths\", \"2021-02-02_deaths\", \"2021-02-03_deaths\", \"2021-02-04_deaths\", \"2021-02-05_deaths\", \"2021-02-06_deaths\", \"2021-02-07_deaths\", \"2021-02-08_deaths\", \"2021-02-09_deaths\", \"2021-02-10_deaths\", \"2021-02-11_deaths\", \"2021-02-12_deaths\", \"2021-02-13_deaths\", \"2021-02-14_deaths\", \"2021-02-15_deaths\", \"2021-02-16_deaths\", \"2021-02-17_deaths\", \"2021-02-18_deaths\", \"2021-02-19_deaths\", \"2021-02-20_deaths\", \"2021-02-21_deaths\", \"2021-02-22_deaths\", \"2021-02-23_deaths\", \"2021-02-24_deaths\", \"2021-02-25_deaths\", \"2021-02-26_deaths\", \"2021-02-27_deaths\", \"2021-02-28_deaths\", \"2021-03-01_deaths\", \"2021-03-02_deaths\", \"2021-03-03_deaths\", \"2021-03-04_deaths\", \"2021-03-05_deaths\", \"2021-03-06_deaths\", \"2021-03-07_deaths\", \"2021-03-08_deaths\", \"2021-03-09_deaths\", \"2021-03-10_deaths\", \"2021-03-11_deaths\", \"2021-03-12_deaths\", \"2021-03-13_deaths\", \"2021-03-14_deaths\", \"2021-03-15_deaths\", \"2021-03-16_deaths\", \"2021-03-17_deaths\"], \"y\": [\"Harris County\", 0, 0, 0, 0, 0, 0, 0, 0, 0, 0, 0, 0, 0, 0, 0, 0, 0, 0, 0, 0, 0, 0, 0, 0, 0, 0, 0, 0, 0, 0, 0, 0, 0, 0, 0, 0, 0, 0, 0, 0, 0, 0, 0, 0, 0, 0, 0, 0, 0, 0, 0, 0, 0, 0, 0, 0, 0, 0, 37, 0, 0, 0, 0, 0, 37, 0, 0, 37, 37, 0, 75, 0, 75, 187, 150, 112, 75, 37, 300, 112, 225, 37, 0, 187, 225, 225, 187, 150, 150, 150, 112, 37, 37, 75, 75, 187, 150, 187, 187, 225, 187, 300, 262, 150, 262, 150, 225, 150, 225, 300, 150, 262, 150, 187, 187, 225, 187, 0, 37, 75, 112, 225, 37, 75, 37, 37, 0, 75, 37, 150, 112, 37, 112, 37, 187, 225, 225, 225, 75, 37, 0, 187, 0, 150, 150, 0, 337, 187, 337, 262, 225, 412, 112, 262, 112, 412, 262, 300, 300, 75, 187, 75, 225, 112, 300, 187, 0, 37, 225, 150, 450, 600, 600, 112, 300, 262, 675, 637, 675, 225, 112, 337, 600, 562, 787, 675, 825, 17398, 1012, 2062, 900, 1950, 1125, 0, 1125, 1837, 1575, 1875, 2062, 1800, 487, 300, 1237, 2362, 1275, 2175, 1537, 637, 337, 1387, 1687, 1237, 937, 1237, 637, 75, 1575, 1275, 1275, 487, 900, 412, 150, 600, 1462, 1275, 712, 1012, 300, 0, 262, 787, 825, 375, 712, 225, 112, 637, 675, 450, 487, 562, 225, 37, 487, 637, 487, 262, 637, 150, 0, 450, 412, 300, 300, 337, 75, 75, 150, 562, 375, 412, 262, 262, 0, 262, 337, 375, 375, 300, 75, 37, 225, 562, 337, 225, 375, 300, 0, 75, 225, 337, 225, 112, 75, 112, 337, 675, 375, 112, 412, 37, 0, 187, 225, 375, 300, 487, 37, 37, 337, 337, 562, 412, 0, 412, 0, 337, 375, 300, 112, 225, 300, 0, 150, 375, 337, 525, 525, 262, 75, 637, 637, 262, 675, 525, 300, 0, 450, 600, 937, 0, 0, 0, 0, 3000, 0, 862, 825, 0, 112, 37, 600, 862, 1162, 562, 262, 262, 150, 675, 1087, 1500, 0, 2212, 262, 112, 1012, 1500, 1237, 1200, 2025, 562, 112, 1125, 1537, 1200, 1612, 1387, 1312, 412, 1350, 1912, 1537, 1650, 1725, 562, 262, 1875, 1575, 2025, 1162, 1762, 675, 525, 1837, 1425, 2137, 1425, 1237, 675, 262, 0, 225, 187, 712, 1462, 825, 262, 975, 1837, 1762, 1462, 825, 1275, 262, 1050, 1687, 2137, 2062, 1087, 187, 112, 1012, 1462, 1162, 1462, 1050, 712, 112, 562, 1012]}, {\"line\": {\"color\": \"rgba(55, 128, 191, 1.0)\", \"dash\": \"solid\", \"shape\": \"linear\", \"width\": 1.3}, \"mode\": \"lines\", \"name\": \"2623\", \"text\": \"\", \"type\": \"scatter\", \"x\": [\"County Name\", \"2020-01-22_deaths\", \"2020-01-23_deaths\", \"2020-01-24_deaths\", \"2020-01-25_deaths\", \"2020-01-26_deaths\", \"2020-01-27_deaths\", \"2020-01-28_deaths\", \"2020-01-29_deaths\", \"2020-01-30_deaths\", \"2020-01-31_deaths\", \"2020-02-01_deaths\", \"2020-02-02_deaths\", \"2020-02-03_deaths\", \"2020-02-04_deaths\", \"2020-02-05_deaths\", \"2020-02-06_deaths\", \"2020-02-07_deaths\", \"2020-02-08_deaths\", \"2020-02-09_deaths\", \"2020-02-10_deaths\", \"2020-02-11_deaths\", \"2020-02-12_deaths\", \"2020-02-13_deaths\", \"2020-02-14_deaths\", \"2020-02-15_deaths\", \"2020-02-16_deaths\", \"2020-02-17_deaths\", \"2020-02-18_deaths\", \"2020-02-19_deaths\", \"2020-02-20_deaths\", \"2020-02-21_deaths\", \"2020-02-22_deaths\", \"2020-02-23_deaths\", \"2020-02-24_deaths\", \"2020-02-25_deaths\", \"2020-02-26_deaths\", \"2020-02-27_deaths\", \"2020-02-28_deaths\", \"2020-02-29_deaths\", \"2020-03-01_deaths\", \"2020-03-02_deaths\", \"2020-03-03_deaths\", \"2020-03-04_deaths\", \"2020-03-05_deaths\", \"2020-03-06_deaths\", \"2020-03-07_deaths\", \"2020-03-08_deaths\", \"2020-03-09_deaths\", \"2020-03-10_deaths\", \"2020-03-11_deaths\", \"2020-03-12_deaths\", \"2020-03-13_deaths\", \"2020-03-14_deaths\", \"2020-03-15_deaths\", \"2020-03-16_deaths\", \"2020-03-17_deaths\", \"2020-03-18_deaths\", \"2020-03-19_deaths\", \"2020-03-20_deaths\", \"2020-03-21_deaths\", \"2020-03-22_deaths\", \"2020-03-23_deaths\", \"2020-03-24_deaths\", \"2020-03-25_deaths\", \"2020-03-26_deaths\", \"2020-03-27_deaths\", \"2020-03-28_deaths\", \"2020-03-29_deaths\", \"2020-03-30_deaths\", \"2020-03-31_deaths\", \"2020-04-01_deaths\", \"2020-04-02_deaths\", \"2020-04-03_deaths\", \"2020-04-04_deaths\", \"2020-04-05_deaths\", \"2020-04-06_deaths\", \"2020-04-07_deaths\", \"2020-04-08_deaths\", \"2020-04-09_deaths\", \"2020-04-10_deaths\", \"2020-04-11_deaths\", \"2020-04-12_deaths\", \"2020-04-13_deaths\", \"2020-04-14_deaths\", \"2020-04-15_deaths\", \"2020-04-16_deaths\", \"2020-04-17_deaths\", \"2020-04-18_deaths\", \"2020-04-19_deaths\", \"2020-04-20_deaths\", \"2020-04-21_deaths\", \"2020-04-22_deaths\", \"2020-04-23_deaths\", \"2020-04-24_deaths\", \"2020-04-25_deaths\", \"2020-04-26_deaths\", \"2020-04-27_deaths\", \"2020-04-28_deaths\", \"2020-04-29_deaths\", \"2020-04-30_deaths\", \"2020-05-01_deaths\", \"2020-05-02_deaths\", \"2020-05-03_deaths\", \"2020-05-04_deaths\", \"2020-05-05_deaths\", \"2020-05-06_deaths\", \"2020-05-07_deaths\", \"2020-05-08_deaths\", \"2020-05-09_deaths\", \"2020-05-10_deaths\", \"2020-05-11_deaths\", \"2020-05-12_deaths\", \"2020-05-13_deaths\", \"2020-05-14_deaths\", \"2020-05-15_deaths\", \"2020-05-16_deaths\", \"2020-05-17_deaths\", \"2020-05-18_deaths\", \"2020-05-19_deaths\", \"2020-05-20_deaths\", \"2020-05-21_deaths\", \"2020-05-22_deaths\", \"2020-05-23_deaths\", \"2020-05-24_deaths\", \"2020-05-25_deaths\", \"2020-05-26_deaths\", \"2020-05-27_deaths\", \"2020-05-28_deaths\", \"2020-05-29_deaths\", \"2020-05-30_deaths\", \"2020-05-31_deaths\", \"2020-06-01_deaths\", \"2020-06-02_deaths\", \"2020-06-03_deaths\", \"2020-06-04_deaths\", \"2020-06-05_deaths\", \"2020-06-06_deaths\", \"2020-06-07_deaths\", \"2020-06-08_deaths\", \"2020-06-09_deaths\", \"2020-06-10_deaths\", \"2020-06-11_deaths\", \"2020-06-12_deaths\", \"2020-06-13_deaths\", \"2020-06-14_deaths\", \"2020-06-15_deaths\", \"2020-06-16_deaths\", \"2020-06-17_deaths\", \"2020-06-18_deaths\", \"2020-06-19_deaths\", \"2020-06-20_deaths\", \"2020-06-21_deaths\", \"2020-06-22_deaths\", \"2020-06-23_deaths\", \"2020-06-24_deaths\", \"2020-06-25_deaths\", \"2020-06-26_deaths\", \"2020-06-27_deaths\", \"2020-06-28_deaths\", \"2020-06-29_deaths\", \"2020-06-30_deaths\", \"2020-07-01_deaths\", \"2020-07-02_deaths\", \"2020-07-03_deaths\", \"2020-07-04_deaths\", \"2020-07-05_deaths\", \"2020-07-06_deaths\", \"2020-07-07_deaths\", \"2020-07-08_deaths\", \"2020-07-09_deaths\", \"2020-07-10_deaths\", \"2020-07-11_deaths\", \"2020-07-12_deaths\", \"2020-07-13_deaths\", \"2020-07-14_deaths\", \"2020-07-15_deaths\", \"2020-07-16_deaths\", \"2020-07-17_deaths\", \"2020-07-18_deaths\", \"2020-07-19_deaths\", \"2020-07-20_deaths\", \"2020-07-21_deaths\", \"2020-07-22_deaths\", \"2020-07-23_deaths\", \"2020-07-24_deaths\", \"2020-07-25_deaths\", \"2020-07-26_deaths\", \"2020-07-27_deaths\", \"2020-07-28_deaths\", \"2020-07-29_deaths\", \"2020-07-30_deaths\", \"2020-07-31_deaths\", \"2020-08-01_deaths\", \"2020-08-02_deaths\", \"2020-08-03_deaths\", \"2020-08-04_deaths\", \"2020-08-05_deaths\", \"2020-08-06_deaths\", \"2020-08-07_deaths\", \"2020-08-08_deaths\", \"2020-08-09_deaths\", \"2020-08-10_deaths\", \"2020-08-11_deaths\", \"2020-08-12_deaths\", \"2020-08-13_deaths\", \"2020-08-14_deaths\", \"2020-08-15_deaths\", \"2020-08-16_deaths\", \"2020-08-17_deaths\", \"2020-08-18_deaths\", \"2020-08-19_deaths\", \"2020-08-20_deaths\", \"2020-08-21_deaths\", \"2020-08-22_deaths\", \"2020-08-23_deaths\", \"2020-08-24_deaths\", \"2020-08-25_deaths\", \"2020-08-26_deaths\", \"2020-08-27_deaths\", \"2020-08-28_deaths\", \"2020-08-29_deaths\", \"2020-08-30_deaths\", \"2020-08-31_deaths\", \"2020-09-01_deaths\", \"2020-09-02_deaths\", \"2020-09-03_deaths\", \"2020-09-04_deaths\", \"2020-09-05_deaths\", \"2020-09-06_deaths\", \"2020-09-07_deaths\", \"2020-09-08_deaths\", \"2020-09-09_deaths\", \"2020-09-10_deaths\", \"2020-09-11_deaths\", \"2020-09-12_deaths\", \"2020-09-13_deaths\", \"2020-09-14_deaths\", \"2020-09-15_deaths\", \"2020-09-16_deaths\", \"2020-09-17_deaths\", \"2020-09-18_deaths\", \"2020-09-19_deaths\", \"2020-09-20_deaths\", \"2020-09-21_deaths\", \"2020-09-22_deaths\", \"2020-09-23_deaths\", \"2020-09-24_deaths\", \"2020-09-25_deaths\", \"2020-09-26_deaths\", \"2020-09-27_deaths\", \"2020-09-28_deaths\", \"2020-09-29_deaths\", \"2020-09-30_deaths\", \"2020-10-01_deaths\", \"2020-10-02_deaths\", \"2020-10-03_deaths\", \"2020-10-04_deaths\", \"2020-10-05_deaths\", \"2020-10-06_deaths\", \"2020-10-07_deaths\", \"2020-10-08_deaths\", \"2020-10-09_deaths\", \"2020-10-10_deaths\", \"2020-10-11_deaths\", \"2020-10-12_deaths\", \"2020-10-13_deaths\", \"2020-10-14_deaths\", \"2020-10-15_deaths\", \"2020-10-16_deaths\", \"2020-10-17_deaths\", \"2020-10-18_deaths\", \"2020-10-19_deaths\", \"2020-10-20_deaths\", \"2020-10-21_deaths\", \"2020-10-22_deaths\", \"2020-10-23_deaths\", \"2020-10-24_deaths\", \"2020-10-25_deaths\", \"2020-10-26_deaths\", \"2020-10-27_deaths\", \"2020-10-28_deaths\", \"2020-10-29_deaths\", \"2020-10-30_deaths\", \"2020-10-31_deaths\", \"2020-11-01_deaths\", \"2020-11-02_deaths\", \"2020-11-03_deaths\", \"2020-11-04_deaths\", \"2020-11-05_deaths\", \"2020-11-06_deaths\", \"2020-11-07_deaths\", \"2020-11-08_deaths\", \"2020-11-09_deaths\", \"2020-11-10_deaths\", \"2020-11-11_deaths\", \"2020-11-12_deaths\", \"2020-11-13_deaths\", \"2020-11-14_deaths\", \"2020-11-15_deaths\", \"2020-11-16_deaths\", \"2020-11-17_deaths\", \"2020-11-18_deaths\", \"2020-11-19_deaths\", \"2020-11-20_deaths\", \"2020-11-21_deaths\", \"2020-11-22_deaths\", \"2020-11-23_deaths\", \"2020-11-24_deaths\", \"2020-11-25_deaths\", \"2020-11-26_deaths\", \"2020-11-27_deaths\", \"2020-11-28_deaths\", \"2020-11-29_deaths\", \"2020-11-30_deaths\", \"2020-12-01_deaths\", \"2020-12-02_deaths\", \"2020-12-03_deaths\", \"2020-12-04_deaths\", \"2020-12-05_deaths\", \"2020-12-06_deaths\", \"2020-12-07_deaths\", \"2020-12-08_deaths\", \"2020-12-09_deaths\", \"2020-12-10_deaths\", \"2020-12-11_deaths\", \"2020-12-12_deaths\", \"2020-12-13_deaths\", \"2020-12-14_deaths\", \"2020-12-15_deaths\", \"2020-12-16_deaths\", \"2020-12-17_deaths\", \"2020-12-18_deaths\", \"2020-12-19_deaths\", \"2020-12-20_deaths\", \"2020-12-21_deaths\", \"2020-12-22_deaths\", \"2020-12-23_deaths\", \"2020-12-24_deaths\", \"2020-12-25_deaths\", \"2020-12-26_deaths\", \"2020-12-27_deaths\", \"2020-12-28_deaths\", \"2020-12-29_deaths\", \"2020-12-30_deaths\", \"2020-12-31_deaths\", \"2021-01-01_deaths\", \"2021-01-02_deaths\", \"2021-01-03_deaths\", \"2021-01-04_deaths\", \"2021-01-05_deaths\", \"2021-01-06_deaths\", \"2021-01-07_deaths\", \"2021-01-08_deaths\", \"2021-01-09_deaths\", \"2021-01-10_deaths\", \"2021-01-11_deaths\", \"2021-01-12_deaths\", \"2021-01-13_deaths\", \"2021-01-14_deaths\", \"2021-01-15_deaths\", \"2021-01-16_deaths\", \"2021-01-17_deaths\", \"2021-01-18_deaths\", \"2021-01-19_deaths\", \"2021-01-20_deaths\", \"2021-01-21_deaths\", \"2021-01-22_deaths\", \"2021-01-23_deaths\", \"2021-01-24_deaths\", \"2021-01-25_deaths\", \"2021-01-26_deaths\", \"2021-01-27_deaths\", \"2021-01-28_deaths\", \"2021-01-29_deaths\", \"2021-01-30_deaths\", \"2021-01-31_deaths\", \"2021-02-01_deaths\", \"2021-02-02_deaths\", \"2021-02-03_deaths\", \"2021-02-04_deaths\", \"2021-02-05_deaths\", \"2021-02-06_deaths\", \"2021-02-07_deaths\", \"2021-02-08_deaths\", \"2021-02-09_deaths\", \"2021-02-10_deaths\", \"2021-02-11_deaths\", \"2021-02-12_deaths\", \"2021-02-13_deaths\", \"2021-02-14_deaths\", \"2021-02-15_deaths\", \"2021-02-16_deaths\", \"2021-02-17_deaths\", \"2021-02-18_deaths\", \"2021-02-19_deaths\", \"2021-02-20_deaths\", \"2021-02-21_deaths\", \"2021-02-22_deaths\", \"2021-02-23_deaths\", \"2021-02-24_deaths\", \"2021-02-25_deaths\", \"2021-02-26_deaths\", \"2021-02-27_deaths\", \"2021-02-28_deaths\", \"2021-03-01_deaths\", \"2021-03-02_deaths\", \"2021-03-03_deaths\", \"2021-03-04_deaths\", \"2021-03-05_deaths\", \"2021-03-06_deaths\", \"2021-03-07_deaths\", \"2021-03-08_deaths\", \"2021-03-09_deaths\", \"2021-03-10_deaths\", \"2021-03-11_deaths\", \"2021-03-12_deaths\", \"2021-03-13_deaths\", \"2021-03-14_deaths\", \"2021-03-15_deaths\", \"2021-03-16_deaths\", \"2021-03-17_deaths\"], \"y\": [\"Dallas County\", 0, 0, 0, 0, 0, 0, 0, 0, 0, 0, 0, 0, 0, 0, 0, 0, 0, 0, 0, 0, 0, 0, 0, 0, 0, 0, 0, 0, 0, 0, 0, 0, 0, 0, 0, 0, 0, 0, 0, 0, 0, 0, 0, 0, 0, 0, 0, 0, 0, 0, 0, 0, 0, 0, 0, 0, 0, 38, 0, 0, 0, 114, 38, 38, 38, 0, 76, 38, 38, 76, 76, 76, 0, 0, 38, 0, 0, 38, 38, 76, 114, 76, 0, 191, 381, 38, 267, 191, 191, 0, 0, 152, 38, 267, 191, 152, 38, 76, 381, 191, 191, 76, 152, 38, 114, 267, 76, 76, 381, 305, 0, 76, 114, 191, 229, 191, 229, 229, 38, 534, 0, 457, 152, 114, 38, 0, 76, 305, 38, 38, 191, 38, 0, 610, 152, 38, 381, 76, 76, 0, 267, 114, 114, 114, 114, 38, 38, 305, 343, 191, 152, 76, 38, 114, 267, 152, 229, 381, 267, 38, 38, 762, 267, 267, 229, 76, 0, 229, 343, 610, 381, 343, 152, 76, 229, 762, 305, 610, 496, 343, 76, 38, 419, 1144, 457, 267, 686, 0, 305, 801, 0, 801, 419, 0, 343, 839, 572, 381, 724, 381, 305, 152, 534, 801, 305, 801, 534, 76, 305, 191, 381, 496, 534, 381, 114, 76, 610, 496, 534, 457, 191, 152, 0, 457, 534, 419, 267, 419, 229, 76, 38, 381, 152, 457, 229, 76, 38, 152, 229, 114, 534, 381, 76, 0, 229, 572, 343, 114, 76, 152, 0, 76, 267, 152, 76, 191, 152, 38, 191, 191, 76, 152, 76, 76, 0, 152, 267, 152, 114, 114, 152, 0, 267, 152, 229, 114, 114, 114, 76, 267, 229, 305, 419, 496, 38, 38, 305, 114, 496, 534, 419, 38, 76, 381, 381, 343, 419, 457, 229, 152, 305, 724, 724, 801, 0, 610, 76, 419, 686, 686, 305, 191, 305, 114, 381, 610, 762, 724, 610, 305, 114, 724, 801, 877, 191, 610, 496, 0, 457, 953, 877, 0, 0, 0, 0, 3164, 0, 1258, 648, 152, 229, 191, 724, 610, 1372, 991, 343, 267, 343, 1106, 1144, 1296, 0, 2631, 724, 114, 991, 1258, 1220, 1106, 1334, 1067, 229, 839, 1830, 1639, 1411, 1258, 572, 305, 1372, 1601, 1258, 915, 1220, 572, 191, 877, 1449, 1754, 1677, 1220, 343, 114, 991, 1029, 1067, 877, 1601, 762, 496, 343, 229, 229, 648, 877, 496, 114, 991, 1067, 1029, 877, 343, 686, 724, 1067, 915, 1067, 610, 991, 76, 267, 762, 1411, 686, 915, 648, 229, 381, 496, 457]}, {\"line\": {\"color\": \"rgba(50, 171, 96, 1.0)\", \"dash\": \"solid\", \"shape\": \"linear\", \"width\": 1.3}, \"mode\": \"lines\", \"name\": \"2786\", \"text\": \"\", \"type\": \"scatter\", \"x\": [\"County Name\", \"2020-01-22_deaths\", \"2020-01-23_deaths\", \"2020-01-24_deaths\", \"2020-01-25_deaths\", \"2020-01-26_deaths\", \"2020-01-27_deaths\", \"2020-01-28_deaths\", \"2020-01-29_deaths\", \"2020-01-30_deaths\", \"2020-01-31_deaths\", \"2020-02-01_deaths\", \"2020-02-02_deaths\", \"2020-02-03_deaths\", \"2020-02-04_deaths\", \"2020-02-05_deaths\", \"2020-02-06_deaths\", \"2020-02-07_deaths\", \"2020-02-08_deaths\", \"2020-02-09_deaths\", \"2020-02-10_deaths\", \"2020-02-11_deaths\", \"2020-02-12_deaths\", \"2020-02-13_deaths\", \"2020-02-14_deaths\", \"2020-02-15_deaths\", \"2020-02-16_deaths\", \"2020-02-17_deaths\", \"2020-02-18_deaths\", \"2020-02-19_deaths\", \"2020-02-20_deaths\", \"2020-02-21_deaths\", \"2020-02-22_deaths\", \"2020-02-23_deaths\", \"2020-02-24_deaths\", \"2020-02-25_deaths\", \"2020-02-26_deaths\", \"2020-02-27_deaths\", \"2020-02-28_deaths\", \"2020-02-29_deaths\", \"2020-03-01_deaths\", \"2020-03-02_deaths\", \"2020-03-03_deaths\", \"2020-03-04_deaths\", \"2020-03-05_deaths\", \"2020-03-06_deaths\", \"2020-03-07_deaths\", \"2020-03-08_deaths\", \"2020-03-09_deaths\", \"2020-03-10_deaths\", \"2020-03-11_deaths\", \"2020-03-12_deaths\", \"2020-03-13_deaths\", \"2020-03-14_deaths\", \"2020-03-15_deaths\", \"2020-03-16_deaths\", \"2020-03-17_deaths\", \"2020-03-18_deaths\", \"2020-03-19_deaths\", \"2020-03-20_deaths\", \"2020-03-21_deaths\", \"2020-03-22_deaths\", \"2020-03-23_deaths\", \"2020-03-24_deaths\", \"2020-03-25_deaths\", \"2020-03-26_deaths\", \"2020-03-27_deaths\", \"2020-03-28_deaths\", \"2020-03-29_deaths\", \"2020-03-30_deaths\", \"2020-03-31_deaths\", \"2020-04-01_deaths\", \"2020-04-02_deaths\", \"2020-04-03_deaths\", \"2020-04-04_deaths\", \"2020-04-05_deaths\", \"2020-04-06_deaths\", \"2020-04-07_deaths\", \"2020-04-08_deaths\", \"2020-04-09_deaths\", \"2020-04-10_deaths\", \"2020-04-11_deaths\", \"2020-04-12_deaths\", \"2020-04-13_deaths\", \"2020-04-14_deaths\", \"2020-04-15_deaths\", \"2020-04-16_deaths\", \"2020-04-17_deaths\", \"2020-04-18_deaths\", \"2020-04-19_deaths\", \"2020-04-20_deaths\", \"2020-04-21_deaths\", \"2020-04-22_deaths\", \"2020-04-23_deaths\", \"2020-04-24_deaths\", \"2020-04-25_deaths\", \"2020-04-26_deaths\", \"2020-04-27_deaths\", \"2020-04-28_deaths\", \"2020-04-29_deaths\", \"2020-04-30_deaths\", \"2020-05-01_deaths\", \"2020-05-02_deaths\", \"2020-05-03_deaths\", \"2020-05-04_deaths\", \"2020-05-05_deaths\", \"2020-05-06_deaths\", \"2020-05-07_deaths\", \"2020-05-08_deaths\", \"2020-05-09_deaths\", \"2020-05-10_deaths\", \"2020-05-11_deaths\", \"2020-05-12_deaths\", \"2020-05-13_deaths\", \"2020-05-14_deaths\", \"2020-05-15_deaths\", \"2020-05-16_deaths\", \"2020-05-17_deaths\", \"2020-05-18_deaths\", \"2020-05-19_deaths\", \"2020-05-20_deaths\", \"2020-05-21_deaths\", \"2020-05-22_deaths\", \"2020-05-23_deaths\", \"2020-05-24_deaths\", \"2020-05-25_deaths\", \"2020-05-26_deaths\", \"2020-05-27_deaths\", \"2020-05-28_deaths\", \"2020-05-29_deaths\", \"2020-05-30_deaths\", \"2020-05-31_deaths\", \"2020-06-01_deaths\", \"2020-06-02_deaths\", \"2020-06-03_deaths\", \"2020-06-04_deaths\", \"2020-06-05_deaths\", \"2020-06-06_deaths\", \"2020-06-07_deaths\", \"2020-06-08_deaths\", \"2020-06-09_deaths\", \"2020-06-10_deaths\", \"2020-06-11_deaths\", \"2020-06-12_deaths\", \"2020-06-13_deaths\", \"2020-06-14_deaths\", \"2020-06-15_deaths\", \"2020-06-16_deaths\", \"2020-06-17_deaths\", \"2020-06-18_deaths\", \"2020-06-19_deaths\", \"2020-06-20_deaths\", \"2020-06-21_deaths\", \"2020-06-22_deaths\", \"2020-06-23_deaths\", \"2020-06-24_deaths\", \"2020-06-25_deaths\", \"2020-06-26_deaths\", \"2020-06-27_deaths\", \"2020-06-28_deaths\", \"2020-06-29_deaths\", \"2020-06-30_deaths\", \"2020-07-01_deaths\", \"2020-07-02_deaths\", \"2020-07-03_deaths\", \"2020-07-04_deaths\", \"2020-07-05_deaths\", \"2020-07-06_deaths\", \"2020-07-07_deaths\", \"2020-07-08_deaths\", \"2020-07-09_deaths\", \"2020-07-10_deaths\", \"2020-07-11_deaths\", \"2020-07-12_deaths\", \"2020-07-13_deaths\", \"2020-07-14_deaths\", \"2020-07-15_deaths\", \"2020-07-16_deaths\", \"2020-07-17_deaths\", \"2020-07-18_deaths\", \"2020-07-19_deaths\", \"2020-07-20_deaths\", \"2020-07-21_deaths\", \"2020-07-22_deaths\", \"2020-07-23_deaths\", \"2020-07-24_deaths\", \"2020-07-25_deaths\", \"2020-07-26_deaths\", \"2020-07-27_deaths\", \"2020-07-28_deaths\", \"2020-07-29_deaths\", \"2020-07-30_deaths\", \"2020-07-31_deaths\", \"2020-08-01_deaths\", \"2020-08-02_deaths\", \"2020-08-03_deaths\", \"2020-08-04_deaths\", \"2020-08-05_deaths\", \"2020-08-06_deaths\", \"2020-08-07_deaths\", \"2020-08-08_deaths\", \"2020-08-09_deaths\", \"2020-08-10_deaths\", \"2020-08-11_deaths\", \"2020-08-12_deaths\", \"2020-08-13_deaths\", \"2020-08-14_deaths\", \"2020-08-15_deaths\", \"2020-08-16_deaths\", \"2020-08-17_deaths\", \"2020-08-18_deaths\", \"2020-08-19_deaths\", \"2020-08-20_deaths\", \"2020-08-21_deaths\", \"2020-08-22_deaths\", \"2020-08-23_deaths\", \"2020-08-24_deaths\", \"2020-08-25_deaths\", \"2020-08-26_deaths\", \"2020-08-27_deaths\", \"2020-08-28_deaths\", \"2020-08-29_deaths\", \"2020-08-30_deaths\", \"2020-08-31_deaths\", \"2020-09-01_deaths\", \"2020-09-02_deaths\", \"2020-09-03_deaths\", \"2020-09-04_deaths\", \"2020-09-05_deaths\", \"2020-09-06_deaths\", \"2020-09-07_deaths\", \"2020-09-08_deaths\", \"2020-09-09_deaths\", \"2020-09-10_deaths\", \"2020-09-11_deaths\", \"2020-09-12_deaths\", \"2020-09-13_deaths\", \"2020-09-14_deaths\", \"2020-09-15_deaths\", \"2020-09-16_deaths\", \"2020-09-17_deaths\", \"2020-09-18_deaths\", \"2020-09-19_deaths\", \"2020-09-20_deaths\", \"2020-09-21_deaths\", \"2020-09-22_deaths\", \"2020-09-23_deaths\", \"2020-09-24_deaths\", \"2020-09-25_deaths\", \"2020-09-26_deaths\", \"2020-09-27_deaths\", \"2020-09-28_deaths\", \"2020-09-29_deaths\", \"2020-09-30_deaths\", \"2020-10-01_deaths\", \"2020-10-02_deaths\", \"2020-10-03_deaths\", \"2020-10-04_deaths\", \"2020-10-05_deaths\", \"2020-10-06_deaths\", \"2020-10-07_deaths\", \"2020-10-08_deaths\", \"2020-10-09_deaths\", \"2020-10-10_deaths\", \"2020-10-11_deaths\", \"2020-10-12_deaths\", \"2020-10-13_deaths\", \"2020-10-14_deaths\", \"2020-10-15_deaths\", \"2020-10-16_deaths\", \"2020-10-17_deaths\", \"2020-10-18_deaths\", \"2020-10-19_deaths\", \"2020-10-20_deaths\", \"2020-10-21_deaths\", \"2020-10-22_deaths\", \"2020-10-23_deaths\", \"2020-10-24_deaths\", \"2020-10-25_deaths\", \"2020-10-26_deaths\", \"2020-10-27_deaths\", \"2020-10-28_deaths\", \"2020-10-29_deaths\", \"2020-10-30_deaths\", \"2020-10-31_deaths\", \"2020-11-01_deaths\", \"2020-11-02_deaths\", \"2020-11-03_deaths\", \"2020-11-04_deaths\", \"2020-11-05_deaths\", \"2020-11-06_deaths\", \"2020-11-07_deaths\", \"2020-11-08_deaths\", \"2020-11-09_deaths\", \"2020-11-10_deaths\", \"2020-11-11_deaths\", \"2020-11-12_deaths\", \"2020-11-13_deaths\", \"2020-11-14_deaths\", \"2020-11-15_deaths\", \"2020-11-16_deaths\", \"2020-11-17_deaths\", \"2020-11-18_deaths\", \"2020-11-19_deaths\", \"2020-11-20_deaths\", \"2020-11-21_deaths\", \"2020-11-22_deaths\", \"2020-11-23_deaths\", \"2020-11-24_deaths\", \"2020-11-25_deaths\", \"2020-11-26_deaths\", \"2020-11-27_deaths\", \"2020-11-28_deaths\", \"2020-11-29_deaths\", \"2020-11-30_deaths\", \"2020-12-01_deaths\", \"2020-12-02_deaths\", \"2020-12-03_deaths\", \"2020-12-04_deaths\", \"2020-12-05_deaths\", \"2020-12-06_deaths\", \"2020-12-07_deaths\", \"2020-12-08_deaths\", \"2020-12-09_deaths\", \"2020-12-10_deaths\", \"2020-12-11_deaths\", \"2020-12-12_deaths\", \"2020-12-13_deaths\", \"2020-12-14_deaths\", \"2020-12-15_deaths\", \"2020-12-16_deaths\", \"2020-12-17_deaths\", \"2020-12-18_deaths\", \"2020-12-19_deaths\", \"2020-12-20_deaths\", \"2020-12-21_deaths\", \"2020-12-22_deaths\", \"2020-12-23_deaths\", \"2020-12-24_deaths\", \"2020-12-25_deaths\", \"2020-12-26_deaths\", \"2020-12-27_deaths\", \"2020-12-28_deaths\", \"2020-12-29_deaths\", \"2020-12-30_deaths\", \"2020-12-31_deaths\", \"2021-01-01_deaths\", \"2021-01-02_deaths\", \"2021-01-03_deaths\", \"2021-01-04_deaths\", \"2021-01-05_deaths\", \"2021-01-06_deaths\", \"2021-01-07_deaths\", \"2021-01-08_deaths\", \"2021-01-09_deaths\", \"2021-01-10_deaths\", \"2021-01-11_deaths\", \"2021-01-12_deaths\", \"2021-01-13_deaths\", \"2021-01-14_deaths\", \"2021-01-15_deaths\", \"2021-01-16_deaths\", \"2021-01-17_deaths\", \"2021-01-18_deaths\", \"2021-01-19_deaths\", \"2021-01-20_deaths\", \"2021-01-21_deaths\", \"2021-01-22_deaths\", \"2021-01-23_deaths\", \"2021-01-24_deaths\", \"2021-01-25_deaths\", \"2021-01-26_deaths\", \"2021-01-27_deaths\", \"2021-01-28_deaths\", \"2021-01-29_deaths\", \"2021-01-30_deaths\", \"2021-01-31_deaths\", \"2021-02-01_deaths\", \"2021-02-02_deaths\", \"2021-02-03_deaths\", \"2021-02-04_deaths\", \"2021-02-05_deaths\", \"2021-02-06_deaths\", \"2021-02-07_deaths\", \"2021-02-08_deaths\", \"2021-02-09_deaths\", \"2021-02-10_deaths\", \"2021-02-11_deaths\", \"2021-02-12_deaths\", \"2021-02-13_deaths\", \"2021-02-14_deaths\", \"2021-02-15_deaths\", \"2021-02-16_deaths\", \"2021-02-17_deaths\", \"2021-02-18_deaths\", \"2021-02-19_deaths\", \"2021-02-20_deaths\", \"2021-02-21_deaths\", \"2021-02-22_deaths\", \"2021-02-23_deaths\", \"2021-02-24_deaths\", \"2021-02-25_deaths\", \"2021-02-26_deaths\", \"2021-02-27_deaths\", \"2021-02-28_deaths\", \"2021-03-01_deaths\", \"2021-03-02_deaths\", \"2021-03-03_deaths\", \"2021-03-04_deaths\", \"2021-03-05_deaths\", \"2021-03-06_deaths\", \"2021-03-07_deaths\", \"2021-03-08_deaths\", \"2021-03-09_deaths\", \"2021-03-10_deaths\", \"2021-03-11_deaths\", \"2021-03-12_deaths\", \"2021-03-13_deaths\", \"2021-03-14_deaths\", \"2021-03-15_deaths\", \"2021-03-16_deaths\", \"2021-03-17_deaths\"], \"y\": [\"Tarrant County\", 0, 0, 0, 0, 0, 0, 0, 0, 0, 0, 0, 0, 0, 0, 0, 0, 0, 0, 0, 0, 0, 0, 0, 0, 0, 0, 0, 0, 0, 0, 0, 0, 0, 0, 0, 0, 0, 0, 0, 0, 0, 0, 0, 0, 0, 0, 0, 0, 0, 0, 0, 0, 0, 0, 0, 0, 36, 0, 0, 0, 0, 0, 0, 0, 0, 0, 0, 0, 0, 0, 72, 108, 0, 36, 72, 72, 72, 179, 36, 36, 36, 144, 0, 0, 144, 36, 144, 36, 108, 36, 0, 108, 72, 36, 108, 144, 36, 0, 179, 108, 251, 36, 72, 144, 72, 215, 179, 72, 179, 215, 72, 36, 179, 179, 108, 108, 36, 72, 0, 251, 72, 251, 72, 72, 36, 0, 0, 395, 108, 72, 179, 0, 0, 72, 36, 179, 36, 72, 72, 0, 215, 179, 36, 36, 108, 108, 0, 36, 36, 215, 72, 36, 0, 72, 36, 144, 108, 144, 72, 36, 0, 108, 108, 72, 0, 0, 108, 72, 359, 215, 179, 108, 215, 144, 0, 0, 179, 215, 179, 179, 179, 36, 179, 215, 323, 359, 538, 0, 179, 287, 287, 215, 467, 0, 287, 431, 431, 431, 538, 287, 72, 72, 287, 431, 395, 431, 251, 179, 0, 323, 538, 323, 359, 359, 251, 0, 215, 574, 144, 323, 251, 144, 0, 144, 215, 144, 215, 215, 72, 0, 36, 144, 395, 108, 108, 36, 36, 179, 215, 215, 179, 215, 108, 0, 0, 179, 108, 72, 251, 36, 0, 287, 72, 144, 108, 215, 0, 0, 215, 251, 144, 215, 215, 0, 0, 72, 144, 108, 215, 144, 36, 36, 72, 359, 179, 251, 179, 36, 0, 36, 215, 179, 108, 215, 36, 0, 215, 287, 395, 359, 179, 72, 0, 144, 359, 215, 574, 359, 144, 36, 503, 538, 359, 359, 0, 287, 36, 359, 395, 215, 179, 251, 0, 0, 610, 395, 467, 359, 610, 179, 0, 287, 395, 933, 503, 610, 179, 36, 395, 467, 574, 0, 0, 0, 0, 3877, 0, 754, 395, 36, 179, 72, 538, 646, 861, 718, 215, 108, 108, 861, 754, 1149, 0, 1759, 431, 0, 969, 1579, 969, 1256, 826, 1005, 72, 574, 1472, 969, 1041, 969, 682, 251, 610, 1364, 2082, 610, 1220, 395, 144, 359, 861, 1615, 1149, 1005, 682, 72, 1113, 1579, 790, 969, 431, 323, 108, 179, 108, 323, 359, 431, 251, 144, 359, 1256, 826, 790, 359, 287, 144, 538, 969, 1005, 610, 538, 287, 0, 431, 287, 682, 610, 395, 215, 0, 251, 503]}, {\"line\": {\"color\": \"rgba(128, 0, 128, 1.0)\", \"dash\": \"solid\", \"shape\": \"linear\", \"width\": 1.3}, \"mode\": \"lines\", \"name\": \"2581\", \"text\": \"\", \"type\": \"scatter\", \"x\": [\"County Name\", \"2020-01-22_deaths\", \"2020-01-23_deaths\", \"2020-01-24_deaths\", \"2020-01-25_deaths\", \"2020-01-26_deaths\", \"2020-01-27_deaths\", \"2020-01-28_deaths\", \"2020-01-29_deaths\", \"2020-01-30_deaths\", \"2020-01-31_deaths\", \"2020-02-01_deaths\", \"2020-02-02_deaths\", \"2020-02-03_deaths\", \"2020-02-04_deaths\", \"2020-02-05_deaths\", \"2020-02-06_deaths\", \"2020-02-07_deaths\", \"2020-02-08_deaths\", \"2020-02-09_deaths\", \"2020-02-10_deaths\", \"2020-02-11_deaths\", \"2020-02-12_deaths\", \"2020-02-13_deaths\", \"2020-02-14_deaths\", \"2020-02-15_deaths\", \"2020-02-16_deaths\", \"2020-02-17_deaths\", \"2020-02-18_deaths\", \"2020-02-19_deaths\", \"2020-02-20_deaths\", \"2020-02-21_deaths\", \"2020-02-22_deaths\", \"2020-02-23_deaths\", \"2020-02-24_deaths\", \"2020-02-25_deaths\", \"2020-02-26_deaths\", \"2020-02-27_deaths\", \"2020-02-28_deaths\", \"2020-02-29_deaths\", \"2020-03-01_deaths\", \"2020-03-02_deaths\", \"2020-03-03_deaths\", \"2020-03-04_deaths\", \"2020-03-05_deaths\", \"2020-03-06_deaths\", \"2020-03-07_deaths\", \"2020-03-08_deaths\", \"2020-03-09_deaths\", \"2020-03-10_deaths\", \"2020-03-11_deaths\", \"2020-03-12_deaths\", \"2020-03-13_deaths\", \"2020-03-14_deaths\", \"2020-03-15_deaths\", \"2020-03-16_deaths\", \"2020-03-17_deaths\", \"2020-03-18_deaths\", \"2020-03-19_deaths\", \"2020-03-20_deaths\", \"2020-03-21_deaths\", \"2020-03-22_deaths\", \"2020-03-23_deaths\", \"2020-03-24_deaths\", \"2020-03-25_deaths\", \"2020-03-26_deaths\", \"2020-03-27_deaths\", \"2020-03-28_deaths\", \"2020-03-29_deaths\", \"2020-03-30_deaths\", \"2020-03-31_deaths\", \"2020-04-01_deaths\", \"2020-04-02_deaths\", \"2020-04-03_deaths\", \"2020-04-04_deaths\", \"2020-04-05_deaths\", \"2020-04-06_deaths\", \"2020-04-07_deaths\", \"2020-04-08_deaths\", \"2020-04-09_deaths\", \"2020-04-10_deaths\", \"2020-04-11_deaths\", \"2020-04-12_deaths\", \"2020-04-13_deaths\", \"2020-04-14_deaths\", \"2020-04-15_deaths\", \"2020-04-16_deaths\", \"2020-04-17_deaths\", \"2020-04-18_deaths\", \"2020-04-19_deaths\", \"2020-04-20_deaths\", \"2020-04-21_deaths\", \"2020-04-22_deaths\", \"2020-04-23_deaths\", \"2020-04-24_deaths\", \"2020-04-25_deaths\", \"2020-04-26_deaths\", \"2020-04-27_deaths\", \"2020-04-28_deaths\", \"2020-04-29_deaths\", \"2020-04-30_deaths\", \"2020-05-01_deaths\", \"2020-05-02_deaths\", \"2020-05-03_deaths\", \"2020-05-04_deaths\", \"2020-05-05_deaths\", \"2020-05-06_deaths\", \"2020-05-07_deaths\", \"2020-05-08_deaths\", \"2020-05-09_deaths\", \"2020-05-10_deaths\", \"2020-05-11_deaths\", \"2020-05-12_deaths\", \"2020-05-13_deaths\", \"2020-05-14_deaths\", \"2020-05-15_deaths\", \"2020-05-16_deaths\", \"2020-05-17_deaths\", \"2020-05-18_deaths\", \"2020-05-19_deaths\", \"2020-05-20_deaths\", \"2020-05-21_deaths\", \"2020-05-22_deaths\", \"2020-05-23_deaths\", \"2020-05-24_deaths\", \"2020-05-25_deaths\", \"2020-05-26_deaths\", \"2020-05-27_deaths\", \"2020-05-28_deaths\", \"2020-05-29_deaths\", \"2020-05-30_deaths\", \"2020-05-31_deaths\", \"2020-06-01_deaths\", \"2020-06-02_deaths\", \"2020-06-03_deaths\", \"2020-06-04_deaths\", \"2020-06-05_deaths\", \"2020-06-06_deaths\", \"2020-06-07_deaths\", \"2020-06-08_deaths\", \"2020-06-09_deaths\", \"2020-06-10_deaths\", \"2020-06-11_deaths\", \"2020-06-12_deaths\", \"2020-06-13_deaths\", \"2020-06-14_deaths\", \"2020-06-15_deaths\", \"2020-06-16_deaths\", \"2020-06-17_deaths\", \"2020-06-18_deaths\", \"2020-06-19_deaths\", \"2020-06-20_deaths\", \"2020-06-21_deaths\", \"2020-06-22_deaths\", \"2020-06-23_deaths\", \"2020-06-24_deaths\", \"2020-06-25_deaths\", \"2020-06-26_deaths\", \"2020-06-27_deaths\", \"2020-06-28_deaths\", \"2020-06-29_deaths\", \"2020-06-30_deaths\", \"2020-07-01_deaths\", \"2020-07-02_deaths\", \"2020-07-03_deaths\", \"2020-07-04_deaths\", \"2020-07-05_deaths\", \"2020-07-06_deaths\", \"2020-07-07_deaths\", \"2020-07-08_deaths\", \"2020-07-09_deaths\", \"2020-07-10_deaths\", \"2020-07-11_deaths\", \"2020-07-12_deaths\", \"2020-07-13_deaths\", \"2020-07-14_deaths\", \"2020-07-15_deaths\", \"2020-07-16_deaths\", \"2020-07-17_deaths\", \"2020-07-18_deaths\", \"2020-07-19_deaths\", \"2020-07-20_deaths\", \"2020-07-21_deaths\", \"2020-07-22_deaths\", \"2020-07-23_deaths\", \"2020-07-24_deaths\", \"2020-07-25_deaths\", \"2020-07-26_deaths\", \"2020-07-27_deaths\", \"2020-07-28_deaths\", \"2020-07-29_deaths\", \"2020-07-30_deaths\", \"2020-07-31_deaths\", \"2020-08-01_deaths\", \"2020-08-02_deaths\", \"2020-08-03_deaths\", \"2020-08-04_deaths\", \"2020-08-05_deaths\", \"2020-08-06_deaths\", \"2020-08-07_deaths\", \"2020-08-08_deaths\", \"2020-08-09_deaths\", \"2020-08-10_deaths\", \"2020-08-11_deaths\", \"2020-08-12_deaths\", \"2020-08-13_deaths\", \"2020-08-14_deaths\", \"2020-08-15_deaths\", \"2020-08-16_deaths\", \"2020-08-17_deaths\", \"2020-08-18_deaths\", \"2020-08-19_deaths\", \"2020-08-20_deaths\", \"2020-08-21_deaths\", \"2020-08-22_deaths\", \"2020-08-23_deaths\", \"2020-08-24_deaths\", \"2020-08-25_deaths\", \"2020-08-26_deaths\", \"2020-08-27_deaths\", \"2020-08-28_deaths\", \"2020-08-29_deaths\", \"2020-08-30_deaths\", \"2020-08-31_deaths\", \"2020-09-01_deaths\", \"2020-09-02_deaths\", \"2020-09-03_deaths\", \"2020-09-04_deaths\", \"2020-09-05_deaths\", \"2020-09-06_deaths\", \"2020-09-07_deaths\", \"2020-09-08_deaths\", \"2020-09-09_deaths\", \"2020-09-10_deaths\", \"2020-09-11_deaths\", \"2020-09-12_deaths\", \"2020-09-13_deaths\", \"2020-09-14_deaths\", \"2020-09-15_deaths\", \"2020-09-16_deaths\", \"2020-09-17_deaths\", \"2020-09-18_deaths\", \"2020-09-19_deaths\", \"2020-09-20_deaths\", \"2020-09-21_deaths\", \"2020-09-22_deaths\", \"2020-09-23_deaths\", \"2020-09-24_deaths\", \"2020-09-25_deaths\", \"2020-09-26_deaths\", \"2020-09-27_deaths\", \"2020-09-28_deaths\", \"2020-09-29_deaths\", \"2020-09-30_deaths\", \"2020-10-01_deaths\", \"2020-10-02_deaths\", \"2020-10-03_deaths\", \"2020-10-04_deaths\", \"2020-10-05_deaths\", \"2020-10-06_deaths\", \"2020-10-07_deaths\", \"2020-10-08_deaths\", \"2020-10-09_deaths\", \"2020-10-10_deaths\", \"2020-10-11_deaths\", \"2020-10-12_deaths\", \"2020-10-13_deaths\", \"2020-10-14_deaths\", \"2020-10-15_deaths\", \"2020-10-16_deaths\", \"2020-10-17_deaths\", \"2020-10-18_deaths\", \"2020-10-19_deaths\", \"2020-10-20_deaths\", \"2020-10-21_deaths\", \"2020-10-22_deaths\", \"2020-10-23_deaths\", \"2020-10-24_deaths\", \"2020-10-25_deaths\", \"2020-10-26_deaths\", \"2020-10-27_deaths\", \"2020-10-28_deaths\", \"2020-10-29_deaths\", \"2020-10-30_deaths\", \"2020-10-31_deaths\", \"2020-11-01_deaths\", \"2020-11-02_deaths\", \"2020-11-03_deaths\", \"2020-11-04_deaths\", \"2020-11-05_deaths\", \"2020-11-06_deaths\", \"2020-11-07_deaths\", \"2020-11-08_deaths\", \"2020-11-09_deaths\", \"2020-11-10_deaths\", \"2020-11-11_deaths\", \"2020-11-12_deaths\", \"2020-11-13_deaths\", \"2020-11-14_deaths\", \"2020-11-15_deaths\", \"2020-11-16_deaths\", \"2020-11-17_deaths\", \"2020-11-18_deaths\", \"2020-11-19_deaths\", \"2020-11-20_deaths\", \"2020-11-21_deaths\", \"2020-11-22_deaths\", \"2020-11-23_deaths\", \"2020-11-24_deaths\", \"2020-11-25_deaths\", \"2020-11-26_deaths\", \"2020-11-27_deaths\", \"2020-11-28_deaths\", \"2020-11-29_deaths\", \"2020-11-30_deaths\", \"2020-12-01_deaths\", \"2020-12-02_deaths\", \"2020-12-03_deaths\", \"2020-12-04_deaths\", \"2020-12-05_deaths\", \"2020-12-06_deaths\", \"2020-12-07_deaths\", \"2020-12-08_deaths\", \"2020-12-09_deaths\", \"2020-12-10_deaths\", \"2020-12-11_deaths\", \"2020-12-12_deaths\", \"2020-12-13_deaths\", \"2020-12-14_deaths\", \"2020-12-15_deaths\", \"2020-12-16_deaths\", \"2020-12-17_deaths\", \"2020-12-18_deaths\", \"2020-12-19_deaths\", \"2020-12-20_deaths\", \"2020-12-21_deaths\", \"2020-12-22_deaths\", \"2020-12-23_deaths\", \"2020-12-24_deaths\", \"2020-12-25_deaths\", \"2020-12-26_deaths\", \"2020-12-27_deaths\", \"2020-12-28_deaths\", \"2020-12-29_deaths\", \"2020-12-30_deaths\", \"2020-12-31_deaths\", \"2021-01-01_deaths\", \"2021-01-02_deaths\", \"2021-01-03_deaths\", \"2021-01-04_deaths\", \"2021-01-05_deaths\", \"2021-01-06_deaths\", \"2021-01-07_deaths\", \"2021-01-08_deaths\", \"2021-01-09_deaths\", \"2021-01-10_deaths\", \"2021-01-11_deaths\", \"2021-01-12_deaths\", \"2021-01-13_deaths\", \"2021-01-14_deaths\", \"2021-01-15_deaths\", \"2021-01-16_deaths\", \"2021-01-17_deaths\", \"2021-01-18_deaths\", \"2021-01-19_deaths\", \"2021-01-20_deaths\", \"2021-01-21_deaths\", \"2021-01-22_deaths\", \"2021-01-23_deaths\", \"2021-01-24_deaths\", \"2021-01-25_deaths\", \"2021-01-26_deaths\", \"2021-01-27_deaths\", \"2021-01-28_deaths\", \"2021-01-29_deaths\", \"2021-01-30_deaths\", \"2021-01-31_deaths\", \"2021-02-01_deaths\", \"2021-02-02_deaths\", \"2021-02-03_deaths\", \"2021-02-04_deaths\", \"2021-02-05_deaths\", \"2021-02-06_deaths\", \"2021-02-07_deaths\", \"2021-02-08_deaths\", \"2021-02-09_deaths\", \"2021-02-10_deaths\", \"2021-02-11_deaths\", \"2021-02-12_deaths\", \"2021-02-13_deaths\", \"2021-02-14_deaths\", \"2021-02-15_deaths\", \"2021-02-16_deaths\", \"2021-02-17_deaths\", \"2021-02-18_deaths\", \"2021-02-19_deaths\", \"2021-02-20_deaths\", \"2021-02-21_deaths\", \"2021-02-22_deaths\", \"2021-02-23_deaths\", \"2021-02-24_deaths\", \"2021-02-25_deaths\", \"2021-02-26_deaths\", \"2021-02-27_deaths\", \"2021-02-28_deaths\", \"2021-03-01_deaths\", \"2021-03-02_deaths\", \"2021-03-03_deaths\", \"2021-03-04_deaths\", \"2021-03-05_deaths\", \"2021-03-06_deaths\", \"2021-03-07_deaths\", \"2021-03-08_deaths\", \"2021-03-09_deaths\", \"2021-03-10_deaths\", \"2021-03-11_deaths\", \"2021-03-12_deaths\", \"2021-03-13_deaths\", \"2021-03-14_deaths\", \"2021-03-15_deaths\", \"2021-03-16_deaths\", \"2021-03-17_deaths\"], \"y\": [\"Bexar County\", 0, 0, 0, 0, 0, 0, 0, 0, 0, 0, 0, 0, 0, 0, 0, 0, 0, 0, 0, 0, 0, 0, 0, 0, 0, 0, 0, 0, 0, 0, 0, 0, 0, 0, 0, 0, 0, 0, 0, 0, 0, 0, 0, 0, 0, 0, 0, 0, 0, 0, 0, 0, 0, 0, 0, 0, 0, 0, 0, 0, 0, 39, 0, 77, 77, 0, 0, 0, 0, 155, 0, 0, 0, 0, 77, 39, 0, 232, 77, 77, 77, 116, 0, 232, 0, 155, 0, 0, 39, 39, 0, 0, 0, 155, 0, 0, 0, 39, 0, 77, 39, 39, 0, 0, 0, 155, 39, 39, 77, 0, 0, 39, 0, 39, 39, 116, 0, 0, 0, 0, 39, 39, 77, 0, 116, 0, 0, 39, 39, 39, 39, 39, 39, 0, 116, 0, 0, 0, 0, 0, 77, 0, 77, 77, 155, 0, 39, 0, 39, 77, 155, 0, 39, 0, 116, 155, 0, 39, 77, 77, 0, 39, 39, 155, 77, 194, 310, 77, 194, 349, 736, 39, 349, 349, 426, 232, 271, 814, 426, 0, 659, 194, 465, 349, 581, 581, 349, 6122, 659, 930, 930, 1279, 1279, 0, 426, 930, 1046, 1240, 1317, 1317, 349, 77, 852, 775, 930, 581, 852, 194, 0, 814, 852, 852, 930, 426, 232, 0, 349, 736, 775, 620, 620, 310, 0, 581, 697, 659, 349, 542, 232, 39, 39, 194, 349, 387, 349, 155, 39, 387, 504, 194, 349, 77, 77, 77, 271, 349, 271, 310, 697, 0, 0, 232, 387, 194, 194, 232, 116, 0, 155, 116, 310, 349, 155, 0, 0, 39, 194, 155, 232, 116, 77, 0, 77, 77, 39, 155, 77, 77, 0, 310, 194, 77, 39, 77, 77, 0, 39, 271, 77, 39, 77, 77, 0, 155, 194, 232, 116, 77, 77, 0, 77, 194, 271, 116, 0, 310, 0, 155, 232, 116, 116, 77, 77, 77, 155, 387, 155, 349, 426, 39, 39, 232, 310, 349, 271, 232, 116, 0, 194, 349, 349, 0, 0, 0, 0, 2015, 0, 542, 697, 39, 155, 0, 387, 387, 659, 504, 155, 77, 77, 426, 775, 814, 0, 1744, 581, 116, 852, 1085, 1162, 1085, 1472, 426, 39, 775, 1046, 891, 1279, 814, 349, 310, 775, 1356, 1782, 1589, 1007, 736, 39, 1201, 1395, 969, 1279, 1356, 697, 271, 891, 1317, 775, 1356, 930, 426, 232, 116, 194, 465, 232, 697, 814, 426, 542, 1356, 1162, 1201, 465, 349, 116, 1317, 852, 1124, 1007, 930, 232, 116, 542, 620, 969, 620, 465, 232, 39, 349, 697]}, {\"line\": {\"color\": \"rgba(219, 64, 82, 1.0)\", \"dash\": \"solid\", \"shape\": \"linear\", \"width\": 1.3}, \"mode\": \"lines\", \"name\": \"2793\", \"text\": \"\", \"type\": \"scatter\", \"x\": [\"County Name\", \"2020-01-22_deaths\", \"2020-01-23_deaths\", \"2020-01-24_deaths\", \"2020-01-25_deaths\", \"2020-01-26_deaths\", \"2020-01-27_deaths\", \"2020-01-28_deaths\", \"2020-01-29_deaths\", \"2020-01-30_deaths\", \"2020-01-31_deaths\", \"2020-02-01_deaths\", \"2020-02-02_deaths\", \"2020-02-03_deaths\", \"2020-02-04_deaths\", \"2020-02-05_deaths\", \"2020-02-06_deaths\", \"2020-02-07_deaths\", \"2020-02-08_deaths\", \"2020-02-09_deaths\", \"2020-02-10_deaths\", \"2020-02-11_deaths\", \"2020-02-12_deaths\", \"2020-02-13_deaths\", \"2020-02-14_deaths\", \"2020-02-15_deaths\", \"2020-02-16_deaths\", \"2020-02-17_deaths\", \"2020-02-18_deaths\", \"2020-02-19_deaths\", \"2020-02-20_deaths\", \"2020-02-21_deaths\", \"2020-02-22_deaths\", \"2020-02-23_deaths\", \"2020-02-24_deaths\", \"2020-02-25_deaths\", \"2020-02-26_deaths\", \"2020-02-27_deaths\", \"2020-02-28_deaths\", \"2020-02-29_deaths\", \"2020-03-01_deaths\", \"2020-03-02_deaths\", \"2020-03-03_deaths\", \"2020-03-04_deaths\", \"2020-03-05_deaths\", \"2020-03-06_deaths\", \"2020-03-07_deaths\", \"2020-03-08_deaths\", \"2020-03-09_deaths\", \"2020-03-10_deaths\", \"2020-03-11_deaths\", \"2020-03-12_deaths\", \"2020-03-13_deaths\", \"2020-03-14_deaths\", \"2020-03-15_deaths\", \"2020-03-16_deaths\", \"2020-03-17_deaths\", \"2020-03-18_deaths\", \"2020-03-19_deaths\", \"2020-03-20_deaths\", \"2020-03-21_deaths\", \"2020-03-22_deaths\", \"2020-03-23_deaths\", \"2020-03-24_deaths\", \"2020-03-25_deaths\", \"2020-03-26_deaths\", \"2020-03-27_deaths\", \"2020-03-28_deaths\", \"2020-03-29_deaths\", \"2020-03-30_deaths\", \"2020-03-31_deaths\", \"2020-04-01_deaths\", \"2020-04-02_deaths\", \"2020-04-03_deaths\", \"2020-04-04_deaths\", \"2020-04-05_deaths\", \"2020-04-06_deaths\", \"2020-04-07_deaths\", \"2020-04-08_deaths\", \"2020-04-09_deaths\", \"2020-04-10_deaths\", \"2020-04-11_deaths\", \"2020-04-12_deaths\", \"2020-04-13_deaths\", \"2020-04-14_deaths\", \"2020-04-15_deaths\", \"2020-04-16_deaths\", \"2020-04-17_deaths\", \"2020-04-18_deaths\", \"2020-04-19_deaths\", \"2020-04-20_deaths\", \"2020-04-21_deaths\", \"2020-04-22_deaths\", \"2020-04-23_deaths\", \"2020-04-24_deaths\", \"2020-04-25_deaths\", \"2020-04-26_deaths\", \"2020-04-27_deaths\", \"2020-04-28_deaths\", \"2020-04-29_deaths\", \"2020-04-30_deaths\", \"2020-05-01_deaths\", \"2020-05-02_deaths\", \"2020-05-03_deaths\", \"2020-05-04_deaths\", \"2020-05-05_deaths\", \"2020-05-06_deaths\", \"2020-05-07_deaths\", \"2020-05-08_deaths\", \"2020-05-09_deaths\", \"2020-05-10_deaths\", \"2020-05-11_deaths\", \"2020-05-12_deaths\", \"2020-05-13_deaths\", \"2020-05-14_deaths\", \"2020-05-15_deaths\", \"2020-05-16_deaths\", \"2020-05-17_deaths\", \"2020-05-18_deaths\", \"2020-05-19_deaths\", \"2020-05-20_deaths\", \"2020-05-21_deaths\", \"2020-05-22_deaths\", \"2020-05-23_deaths\", \"2020-05-24_deaths\", \"2020-05-25_deaths\", \"2020-05-26_deaths\", \"2020-05-27_deaths\", \"2020-05-28_deaths\", \"2020-05-29_deaths\", \"2020-05-30_deaths\", \"2020-05-31_deaths\", \"2020-06-01_deaths\", \"2020-06-02_deaths\", \"2020-06-03_deaths\", \"2020-06-04_deaths\", \"2020-06-05_deaths\", \"2020-06-06_deaths\", \"2020-06-07_deaths\", \"2020-06-08_deaths\", \"2020-06-09_deaths\", \"2020-06-10_deaths\", \"2020-06-11_deaths\", \"2020-06-12_deaths\", \"2020-06-13_deaths\", \"2020-06-14_deaths\", \"2020-06-15_deaths\", \"2020-06-16_deaths\", \"2020-06-17_deaths\", \"2020-06-18_deaths\", \"2020-06-19_deaths\", \"2020-06-20_deaths\", \"2020-06-21_deaths\", \"2020-06-22_deaths\", \"2020-06-23_deaths\", \"2020-06-24_deaths\", \"2020-06-25_deaths\", \"2020-06-26_deaths\", \"2020-06-27_deaths\", \"2020-06-28_deaths\", \"2020-06-29_deaths\", \"2020-06-30_deaths\", \"2020-07-01_deaths\", \"2020-07-02_deaths\", \"2020-07-03_deaths\", \"2020-07-04_deaths\", \"2020-07-05_deaths\", \"2020-07-06_deaths\", \"2020-07-07_deaths\", \"2020-07-08_deaths\", \"2020-07-09_deaths\", \"2020-07-10_deaths\", \"2020-07-11_deaths\", \"2020-07-12_deaths\", \"2020-07-13_deaths\", \"2020-07-14_deaths\", \"2020-07-15_deaths\", \"2020-07-16_deaths\", \"2020-07-17_deaths\", \"2020-07-18_deaths\", \"2020-07-19_deaths\", \"2020-07-20_deaths\", \"2020-07-21_deaths\", \"2020-07-22_deaths\", \"2020-07-23_deaths\", \"2020-07-24_deaths\", \"2020-07-25_deaths\", \"2020-07-26_deaths\", \"2020-07-27_deaths\", \"2020-07-28_deaths\", \"2020-07-29_deaths\", \"2020-07-30_deaths\", \"2020-07-31_deaths\", \"2020-08-01_deaths\", \"2020-08-02_deaths\", \"2020-08-03_deaths\", \"2020-08-04_deaths\", \"2020-08-05_deaths\", \"2020-08-06_deaths\", \"2020-08-07_deaths\", \"2020-08-08_deaths\", \"2020-08-09_deaths\", \"2020-08-10_deaths\", \"2020-08-11_deaths\", \"2020-08-12_deaths\", \"2020-08-13_deaths\", \"2020-08-14_deaths\", \"2020-08-15_deaths\", \"2020-08-16_deaths\", \"2020-08-17_deaths\", \"2020-08-18_deaths\", \"2020-08-19_deaths\", \"2020-08-20_deaths\", \"2020-08-21_deaths\", \"2020-08-22_deaths\", \"2020-08-23_deaths\", \"2020-08-24_deaths\", \"2020-08-25_deaths\", \"2020-08-26_deaths\", \"2020-08-27_deaths\", \"2020-08-28_deaths\", \"2020-08-29_deaths\", \"2020-08-30_deaths\", \"2020-08-31_deaths\", \"2020-09-01_deaths\", \"2020-09-02_deaths\", \"2020-09-03_deaths\", \"2020-09-04_deaths\", \"2020-09-05_deaths\", \"2020-09-06_deaths\", \"2020-09-07_deaths\", \"2020-09-08_deaths\", \"2020-09-09_deaths\", \"2020-09-10_deaths\", \"2020-09-11_deaths\", \"2020-09-12_deaths\", \"2020-09-13_deaths\", \"2020-09-14_deaths\", \"2020-09-15_deaths\", \"2020-09-16_deaths\", \"2020-09-17_deaths\", \"2020-09-18_deaths\", \"2020-09-19_deaths\", \"2020-09-20_deaths\", \"2020-09-21_deaths\", \"2020-09-22_deaths\", \"2020-09-23_deaths\", \"2020-09-24_deaths\", \"2020-09-25_deaths\", \"2020-09-26_deaths\", \"2020-09-27_deaths\", \"2020-09-28_deaths\", \"2020-09-29_deaths\", \"2020-09-30_deaths\", \"2020-10-01_deaths\", \"2020-10-02_deaths\", \"2020-10-03_deaths\", \"2020-10-04_deaths\", \"2020-10-05_deaths\", \"2020-10-06_deaths\", \"2020-10-07_deaths\", \"2020-10-08_deaths\", \"2020-10-09_deaths\", \"2020-10-10_deaths\", \"2020-10-11_deaths\", \"2020-10-12_deaths\", \"2020-10-13_deaths\", \"2020-10-14_deaths\", \"2020-10-15_deaths\", \"2020-10-16_deaths\", \"2020-10-17_deaths\", \"2020-10-18_deaths\", \"2020-10-19_deaths\", \"2020-10-20_deaths\", \"2020-10-21_deaths\", \"2020-10-22_deaths\", \"2020-10-23_deaths\", \"2020-10-24_deaths\", \"2020-10-25_deaths\", \"2020-10-26_deaths\", \"2020-10-27_deaths\", \"2020-10-28_deaths\", \"2020-10-29_deaths\", \"2020-10-30_deaths\", \"2020-10-31_deaths\", \"2020-11-01_deaths\", \"2020-11-02_deaths\", \"2020-11-03_deaths\", \"2020-11-04_deaths\", \"2020-11-05_deaths\", \"2020-11-06_deaths\", \"2020-11-07_deaths\", \"2020-11-08_deaths\", \"2020-11-09_deaths\", \"2020-11-10_deaths\", \"2020-11-11_deaths\", \"2020-11-12_deaths\", \"2020-11-13_deaths\", \"2020-11-14_deaths\", \"2020-11-15_deaths\", \"2020-11-16_deaths\", \"2020-11-17_deaths\", \"2020-11-18_deaths\", \"2020-11-19_deaths\", \"2020-11-20_deaths\", \"2020-11-21_deaths\", \"2020-11-22_deaths\", \"2020-11-23_deaths\", \"2020-11-24_deaths\", \"2020-11-25_deaths\", \"2020-11-26_deaths\", \"2020-11-27_deaths\", \"2020-11-28_deaths\", \"2020-11-29_deaths\", \"2020-11-30_deaths\", \"2020-12-01_deaths\", \"2020-12-02_deaths\", \"2020-12-03_deaths\", \"2020-12-04_deaths\", \"2020-12-05_deaths\", \"2020-12-06_deaths\", \"2020-12-07_deaths\", \"2020-12-08_deaths\", \"2020-12-09_deaths\", \"2020-12-10_deaths\", \"2020-12-11_deaths\", \"2020-12-12_deaths\", \"2020-12-13_deaths\", \"2020-12-14_deaths\", \"2020-12-15_deaths\", \"2020-12-16_deaths\", \"2020-12-17_deaths\", \"2020-12-18_deaths\", \"2020-12-19_deaths\", \"2020-12-20_deaths\", \"2020-12-21_deaths\", \"2020-12-22_deaths\", \"2020-12-23_deaths\", \"2020-12-24_deaths\", \"2020-12-25_deaths\", \"2020-12-26_deaths\", \"2020-12-27_deaths\", \"2020-12-28_deaths\", \"2020-12-29_deaths\", \"2020-12-30_deaths\", \"2020-12-31_deaths\", \"2021-01-01_deaths\", \"2021-01-02_deaths\", \"2021-01-03_deaths\", \"2021-01-04_deaths\", \"2021-01-05_deaths\", \"2021-01-06_deaths\", \"2021-01-07_deaths\", \"2021-01-08_deaths\", \"2021-01-09_deaths\", \"2021-01-10_deaths\", \"2021-01-11_deaths\", \"2021-01-12_deaths\", \"2021-01-13_deaths\", \"2021-01-14_deaths\", \"2021-01-15_deaths\", \"2021-01-16_deaths\", \"2021-01-17_deaths\", \"2021-01-18_deaths\", \"2021-01-19_deaths\", \"2021-01-20_deaths\", \"2021-01-21_deaths\", \"2021-01-22_deaths\", \"2021-01-23_deaths\", \"2021-01-24_deaths\", \"2021-01-25_deaths\", \"2021-01-26_deaths\", \"2021-01-27_deaths\", \"2021-01-28_deaths\", \"2021-01-29_deaths\", \"2021-01-30_deaths\", \"2021-01-31_deaths\", \"2021-02-01_deaths\", \"2021-02-02_deaths\", \"2021-02-03_deaths\", \"2021-02-04_deaths\", \"2021-02-05_deaths\", \"2021-02-06_deaths\", \"2021-02-07_deaths\", \"2021-02-08_deaths\", \"2021-02-09_deaths\", \"2021-02-10_deaths\", \"2021-02-11_deaths\", \"2021-02-12_deaths\", \"2021-02-13_deaths\", \"2021-02-14_deaths\", \"2021-02-15_deaths\", \"2021-02-16_deaths\", \"2021-02-17_deaths\", \"2021-02-18_deaths\", \"2021-02-19_deaths\", \"2021-02-20_deaths\", \"2021-02-21_deaths\", \"2021-02-22_deaths\", \"2021-02-23_deaths\", \"2021-02-24_deaths\", \"2021-02-25_deaths\", \"2021-02-26_deaths\", \"2021-02-27_deaths\", \"2021-02-28_deaths\", \"2021-03-01_deaths\", \"2021-03-02_deaths\", \"2021-03-03_deaths\", \"2021-03-04_deaths\", \"2021-03-05_deaths\", \"2021-03-06_deaths\", \"2021-03-07_deaths\", \"2021-03-08_deaths\", \"2021-03-09_deaths\", \"2021-03-10_deaths\", \"2021-03-11_deaths\", \"2021-03-12_deaths\", \"2021-03-13_deaths\", \"2021-03-14_deaths\", \"2021-03-15_deaths\", \"2021-03-16_deaths\", \"2021-03-17_deaths\"], \"y\": [\"Travis County\", 0, 0, 0, 0, 0, 0, 0, 0, 0, 0, 0, 0, 0, 0, 0, 0, 0, 0, 0, 0, 0, 0, 0, 0, 0, 0, 0, 0, 0, 0, 0, 0, 0, 0, 0, 0, 0, 0, 0, 0, 0, 0, 0, 0, 0, 0, 0, 0, 0, 0, 0, 0, 0, 0, 0, 0, 0, 0, 0, 0, 0, 0, 0, 0, 0, 36, 0, 0, 0, 0, 36, 36, 0, 36, 72, 0, 0, 36, 0, 0, 72, 0, 0, 72, 107, 107, 36, 107, 72, 72, 36, 36, 36, 107, 36, 143, 107, 107, 0, 72, 107, 143, 0, 36, 36, 143, 0, 72, 36, 0, 0, 179, 215, 36, 72, 107, 0, 0, 72, 72, 36, 36, 0, 0, 36, 36, 107, 107, 36, 36, 0, 0, 0, 0, 72, 0, 72, 0, 0, 36, 36, 0, 72, 107, 0, 0, 72, 0, 72, 0, 0, 36, 36, 72, 72, 72, 0, 0, 36, 0, 143, 107, 143, 179, 36, 72, 36, 251, 251, 286, 0, 251, 72, 36, 107, 251, 143, 215, 251, 251, 0, 215, 322, 143, 251, 430, 0, 0, 179, 179, 215, 322, 179, 0, 72, 143, 143, 107, 322, 143, 36, 143, 215, 215, 286, 286, 107, 215, 36, 107, 430, 215, 143, 36, 72, 107, 143, 143, 179, 215, 107, 0, 107, 36, 215, 179, 251, 72, 72, 0, 36, 72, 72, 0, 107, 36, 143, 36, 0, 0, 107, 36, 143, 72, 0, 36, 215, 72, 36, 107, 0, 0, 36, 72, 0, 72, 36, 0, 72, 107, 72, 72, 0, 0, 0, 0, 36, 72, 36, 36, 0, 0, 0, 36, 0, 36, 36, 36, 0, 72, 72, 36, 0, 0, 36, 0, 107, 0, 36, 72, 0, 36, 0, 0, 36, 0, 36, 36, 0, 72, 72, 36, 36, 36, 0, 72, 0, 36, 0, 36, 0, 0, 0, 0, 36, 0, 36, 0, 107, 36, 0, 72, 251, 107, 72, 107, 0, 72, 143, 143, 0, 0, 0, 0, 0, 394, 0, 143, 107, 36, 36, 36, 72, 322, 143, 251, 72, 143, 0, 36, 286, 143, 0, 537, 72, 0, 107, 179, 322, 286, 143, 143, 143, 286, 537, 251, 358, 644, 179, 36, 107, 394, 286, 430, 215, 179, 107, 251, 394, 322, 215, 107, 179, 36, 72, 107, 322, 358, 107, 179, 36, 0, 0, 72, 72, 143, 215, 107, 107, 107, 501, 143, 179, 36, 0, 107, 286, 179, 286, 179, 36, 36, 179, 143, 358, 72, 143, 36, 0, 179, 215]}],                        {\"legend\": {\"bgcolor\": \"#F5F6F9\", \"font\": {\"color\": \"#4D5663\"}}, \"paper_bgcolor\": \"#F5F6F9\", \"plot_bgcolor\": \"#F5F6F9\", \"template\": {\"data\": {\"bar\": [{\"error_x\": {\"color\": \"#2a3f5f\"}, \"error_y\": {\"color\": \"#2a3f5f\"}, \"marker\": {\"line\": {\"color\": \"#E5ECF6\", \"width\": 0.5}}, \"type\": \"bar\"}], \"barpolar\": [{\"marker\": {\"line\": {\"color\": \"#E5ECF6\", \"width\": 0.5}}, \"type\": \"barpolar\"}], \"carpet\": [{\"aaxis\": {\"endlinecolor\": \"#2a3f5f\", \"gridcolor\": \"white\", \"linecolor\": \"white\", \"minorgridcolor\": \"white\", \"startlinecolor\": \"#2a3f5f\"}, \"baxis\": {\"endlinecolor\": \"#2a3f5f\", \"gridcolor\": \"white\", \"linecolor\": \"white\", \"minorgridcolor\": \"white\", \"startlinecolor\": \"#2a3f5f\"}, \"type\": \"carpet\"}], \"choropleth\": [{\"colorbar\": {\"outlinewidth\": 0, \"ticks\": \"\"}, \"type\": \"choropleth\"}], \"contour\": [{\"colorbar\": {\"outlinewidth\": 0, \"ticks\": \"\"}, \"colorscale\": [[0.0, \"#0d0887\"], [0.1111111111111111, \"#46039f\"], [0.2222222222222222, \"#7201a8\"], [0.3333333333333333, \"#9c179e\"], [0.4444444444444444, \"#bd3786\"], [0.5555555555555556, \"#d8576b\"], [0.6666666666666666, \"#ed7953\"], [0.7777777777777778, \"#fb9f3a\"], [0.8888888888888888, \"#fdca26\"], [1.0, \"#f0f921\"]], \"type\": \"contour\"}], \"contourcarpet\": [{\"colorbar\": {\"outlinewidth\": 0, \"ticks\": \"\"}, \"type\": \"contourcarpet\"}], \"heatmap\": [{\"colorbar\": {\"outlinewidth\": 0, \"ticks\": \"\"}, \"colorscale\": [[0.0, \"#0d0887\"], [0.1111111111111111, \"#46039f\"], [0.2222222222222222, \"#7201a8\"], [0.3333333333333333, \"#9c179e\"], [0.4444444444444444, \"#bd3786\"], [0.5555555555555556, \"#d8576b\"], [0.6666666666666666, \"#ed7953\"], [0.7777777777777778, \"#fb9f3a\"], [0.8888888888888888, \"#fdca26\"], [1.0, \"#f0f921\"]], \"type\": \"heatmap\"}], \"heatmapgl\": [{\"colorbar\": {\"outlinewidth\": 0, \"ticks\": \"\"}, \"colorscale\": [[0.0, \"#0d0887\"], [0.1111111111111111, \"#46039f\"], [0.2222222222222222, \"#7201a8\"], [0.3333333333333333, \"#9c179e\"], [0.4444444444444444, \"#bd3786\"], [0.5555555555555556, \"#d8576b\"], [0.6666666666666666, \"#ed7953\"], [0.7777777777777778, \"#fb9f3a\"], [0.8888888888888888, \"#fdca26\"], [1.0, \"#f0f921\"]], \"type\": \"heatmapgl\"}], \"histogram\": [{\"marker\": {\"colorbar\": {\"outlinewidth\": 0, \"ticks\": \"\"}}, \"type\": \"histogram\"}], \"histogram2d\": [{\"colorbar\": {\"outlinewidth\": 0, \"ticks\": \"\"}, \"colorscale\": [[0.0, \"#0d0887\"], [0.1111111111111111, \"#46039f\"], [0.2222222222222222, \"#7201a8\"], [0.3333333333333333, \"#9c179e\"], [0.4444444444444444, \"#bd3786\"], [0.5555555555555556, \"#d8576b\"], [0.6666666666666666, \"#ed7953\"], [0.7777777777777778, \"#fb9f3a\"], [0.8888888888888888, \"#fdca26\"], [1.0, \"#f0f921\"]], \"type\": \"histogram2d\"}], \"histogram2dcontour\": [{\"colorbar\": {\"outlinewidth\": 0, \"ticks\": \"\"}, \"colorscale\": [[0.0, \"#0d0887\"], [0.1111111111111111, \"#46039f\"], [0.2222222222222222, \"#7201a8\"], [0.3333333333333333, \"#9c179e\"], [0.4444444444444444, \"#bd3786\"], [0.5555555555555556, \"#d8576b\"], [0.6666666666666666, \"#ed7953\"], [0.7777777777777778, \"#fb9f3a\"], [0.8888888888888888, \"#fdca26\"], [1.0, \"#f0f921\"]], \"type\": \"histogram2dcontour\"}], \"mesh3d\": [{\"colorbar\": {\"outlinewidth\": 0, \"ticks\": \"\"}, \"type\": \"mesh3d\"}], \"parcoords\": [{\"line\": {\"colorbar\": {\"outlinewidth\": 0, \"ticks\": \"\"}}, \"type\": \"parcoords\"}], \"pie\": [{\"automargin\": true, \"type\": \"pie\"}], \"scatter\": [{\"marker\": {\"colorbar\": {\"outlinewidth\": 0, \"ticks\": \"\"}}, \"type\": \"scatter\"}], \"scatter3d\": [{\"line\": {\"colorbar\": {\"outlinewidth\": 0, \"ticks\": \"\"}}, \"marker\": {\"colorbar\": {\"outlinewidth\": 0, \"ticks\": \"\"}}, \"type\": \"scatter3d\"}], \"scattercarpet\": [{\"marker\": {\"colorbar\": {\"outlinewidth\": 0, \"ticks\": \"\"}}, \"type\": \"scattercarpet\"}], \"scattergeo\": [{\"marker\": {\"colorbar\": {\"outlinewidth\": 0, \"ticks\": \"\"}}, \"type\": \"scattergeo\"}], \"scattergl\": [{\"marker\": {\"colorbar\": {\"outlinewidth\": 0, \"ticks\": \"\"}}, \"type\": \"scattergl\"}], \"scattermapbox\": [{\"marker\": {\"colorbar\": {\"outlinewidth\": 0, \"ticks\": \"\"}}, \"type\": \"scattermapbox\"}], \"scatterpolar\": [{\"marker\": {\"colorbar\": {\"outlinewidth\": 0, \"ticks\": \"\"}}, \"type\": \"scatterpolar\"}], \"scatterpolargl\": [{\"marker\": {\"colorbar\": {\"outlinewidth\": 0, \"ticks\": \"\"}}, \"type\": \"scatterpolargl\"}], \"scatterternary\": [{\"marker\": {\"colorbar\": {\"outlinewidth\": 0, \"ticks\": \"\"}}, \"type\": \"scatterternary\"}], \"surface\": [{\"colorbar\": {\"outlinewidth\": 0, \"ticks\": \"\"}, \"colorscale\": [[0.0, \"#0d0887\"], [0.1111111111111111, \"#46039f\"], [0.2222222222222222, \"#7201a8\"], [0.3333333333333333, \"#9c179e\"], [0.4444444444444444, \"#bd3786\"], [0.5555555555555556, \"#d8576b\"], [0.6666666666666666, \"#ed7953\"], [0.7777777777777778, \"#fb9f3a\"], [0.8888888888888888, \"#fdca26\"], [1.0, \"#f0f921\"]], \"type\": \"surface\"}], \"table\": [{\"cells\": {\"fill\": {\"color\": \"#EBF0F8\"}, \"line\": {\"color\": \"white\"}}, \"header\": {\"fill\": {\"color\": \"#C8D4E3\"}, \"line\": {\"color\": \"white\"}}, \"type\": \"table\"}]}, \"layout\": {\"annotationdefaults\": {\"arrowcolor\": \"#2a3f5f\", \"arrowhead\": 0, \"arrowwidth\": 1}, \"autotypenumbers\": \"strict\", \"coloraxis\": {\"colorbar\": {\"outlinewidth\": 0, \"ticks\": \"\"}}, \"colorscale\": {\"diverging\": [[0, \"#8e0152\"], [0.1, \"#c51b7d\"], [0.2, \"#de77ae\"], [0.3, \"#f1b6da\"], [0.4, \"#fde0ef\"], [0.5, \"#f7f7f7\"], [0.6, \"#e6f5d0\"], [0.7, \"#b8e186\"], [0.8, \"#7fbc41\"], [0.9, \"#4d9221\"], [1, \"#276419\"]], \"sequential\": [[0.0, \"#0d0887\"], [0.1111111111111111, \"#46039f\"], [0.2222222222222222, \"#7201a8\"], [0.3333333333333333, \"#9c179e\"], [0.4444444444444444, \"#bd3786\"], [0.5555555555555556, \"#d8576b\"], [0.6666666666666666, \"#ed7953\"], [0.7777777777777778, \"#fb9f3a\"], [0.8888888888888888, \"#fdca26\"], [1.0, \"#f0f921\"]], \"sequentialminus\": [[0.0, \"#0d0887\"], [0.1111111111111111, \"#46039f\"], [0.2222222222222222, \"#7201a8\"], [0.3333333333333333, \"#9c179e\"], [0.4444444444444444, \"#bd3786\"], [0.5555555555555556, \"#d8576b\"], [0.6666666666666666, \"#ed7953\"], [0.7777777777777778, \"#fb9f3a\"], [0.8888888888888888, \"#fdca26\"], [1.0, \"#f0f921\"]]}, \"colorway\": [\"#636efa\", \"#EF553B\", \"#00cc96\", \"#ab63fa\", \"#FFA15A\", \"#19d3f3\", \"#FF6692\", \"#B6E880\", \"#FF97FF\", \"#FECB52\"], \"font\": {\"color\": \"#2a3f5f\"}, \"geo\": {\"bgcolor\": \"white\", \"lakecolor\": \"white\", \"landcolor\": \"#E5ECF6\", \"showlakes\": true, \"showland\": true, \"subunitcolor\": \"white\"}, \"hoverlabel\": {\"align\": \"left\"}, \"hovermode\": \"closest\", \"mapbox\": {\"style\": \"light\"}, \"paper_bgcolor\": \"white\", \"plot_bgcolor\": \"#E5ECF6\", \"polar\": {\"angularaxis\": {\"gridcolor\": \"white\", \"linecolor\": \"white\", \"ticks\": \"\"}, \"bgcolor\": \"#E5ECF6\", \"radialaxis\": {\"gridcolor\": \"white\", \"linecolor\": \"white\", \"ticks\": \"\"}}, \"scene\": {\"xaxis\": {\"backgroundcolor\": \"#E5ECF6\", \"gridcolor\": \"white\", \"gridwidth\": 2, \"linecolor\": \"white\", \"showbackground\": true, \"ticks\": \"\", \"zerolinecolor\": \"white\"}, \"yaxis\": {\"backgroundcolor\": \"#E5ECF6\", \"gridcolor\": \"white\", \"gridwidth\": 2, \"linecolor\": \"white\", \"showbackground\": true, \"ticks\": \"\", \"zerolinecolor\": \"white\"}, \"zaxis\": {\"backgroundcolor\": \"#E5ECF6\", \"gridcolor\": \"white\", \"gridwidth\": 2, \"linecolor\": \"white\", \"showbackground\": true, \"ticks\": \"\", \"zerolinecolor\": \"white\"}}, \"shapedefaults\": {\"line\": {\"color\": \"#2a3f5f\"}}, \"ternary\": {\"aaxis\": {\"gridcolor\": \"white\", \"linecolor\": \"white\", \"ticks\": \"\"}, \"baxis\": {\"gridcolor\": \"white\", \"linecolor\": \"white\", \"ticks\": \"\"}, \"bgcolor\": \"#E5ECF6\", \"caxis\": {\"gridcolor\": \"white\", \"linecolor\": \"white\", \"ticks\": \"\"}}, \"title\": {\"x\": 0.05}, \"xaxis\": {\"automargin\": true, \"gridcolor\": \"white\", \"linecolor\": \"white\", \"ticks\": \"\", \"title\": {\"standoff\": 15}, \"zerolinecolor\": \"white\", \"zerolinewidth\": 2}, \"yaxis\": {\"automargin\": true, \"gridcolor\": \"white\", \"linecolor\": \"white\", \"ticks\": \"\", \"title\": {\"standoff\": 15}, \"zerolinecolor\": \"white\", \"zerolinewidth\": 2}}}, \"title\": {\"font\": {\"color\": \"#4D5663\"}, \"text\": \"Texas: Daily Deaths Top 5 Counties\"}, \"xaxis\": {\"gridcolor\": \"#E1E5ED\", \"showgrid\": true, \"tickfont\": {\"color\": \"#4D5663\"}, \"title\": {\"font\": {\"color\": \"#4D5663\"}, \"text\": \"\"}, \"zerolinecolor\": \"#E1E5ED\"}, \"yaxis\": {\"gridcolor\": \"#E1E5ED\", \"showgrid\": true, \"tickfont\": {\"color\": \"#4D5663\"}, \"title\": {\"font\": {\"color\": \"#4D5663\"}, \"text\": \"\"}, \"zerolinecolor\": \"#E1E5ED\"}},                        {\"showLink\": true, \"linkText\": \"Export to plot.ly\", \"plotlyServerURL\": \"https://plot.ly\", \"responsive\": true}                    ).then(function(){\n",
       "                            \n",
       "var gd = document.getElementById('ba2b9454-34fa-425a-a85f-2fcfa8e6fb4d');\n",
       "var x = new MutationObserver(function (mutations, observer) {{\n",
       "        var display = window.getComputedStyle(gd).display;\n",
       "        if (!display || display === 'none') {{\n",
       "            console.log([gd, 'removed!']);\n",
       "            Plotly.purge(gd);\n",
       "            observer.disconnect();\n",
       "        }}\n",
       "}});\n",
       "\n",
       "// Listen for the removal of the full notebook cells\n",
       "var notebookContainer = gd.closest('#notebook-container');\n",
       "if (notebookContainer) {{\n",
       "    x.observe(notebookContainer, {childList: true});\n",
       "}}\n",
       "\n",
       "// Listen for the clearing of the current output cell\n",
       "var outputEl = gd.closest('.output');\n",
       "if (outputEl) {{\n",
       "    x.observe(outputEl, {childList: true});\n",
       "}}\n",
       "\n",
       "                        })                };                });            </script>        </div>"
      ]
     },
     "metadata": {},
     "output_type": "display_data"
    }
   ],
   "source": [
    "TDDSF.T.iplot(kind='scatter', title='Texas: Daily Deaths Top 5 Counties')"
   ]
  },
  {
   "cell_type": "code",
   "execution_count": 22,
   "metadata": {},
   "outputs": [],
   "source": [
    "TexasDWFT = TexasDWF.T\n",
    "TexasDWFT.drop(['countyFIPS', 'StateFIPS', 'population'], axis=0, inplace=True)\n",
    "TexasCWFT = TexasCWF.T\n",
    "TexasCWFT.drop(['countyFIPS', 'StateFIPS', 'population'], axis=0, inplace=True)"
   ]
  },
  {
   "cell_type": "markdown",
   "metadata": {},
   "source": [
    "#### From the weekly cases in Texas, a sharp increase can be seen on week 49 of 2020 which is around thanksgiving"
   ]
  },
  {
   "cell_type": "code",
   "execution_count": 23,
   "metadata": {},
   "outputs": [
    {
     "data": {
      "application/vnd.plotly.v1+json": {
       "config": {
        "linkText": "Export to plot.ly",
        "plotlyServerURL": "https://plot.ly",
        "showLink": true
       },
       "data": [
        {
         "line": {
          "color": "rgba(255, 153, 51, 1.0)",
          "dash": "solid",
          "shape": "linear",
          "width": 1.3
         },
         "mode": "lines",
         "name": "TX",
         "text": "",
         "type": "scatter",
         "x": [
          "cases_week_1",
          "cases_week_2",
          "cases_week_3",
          "cases_week_4",
          "cases_week_5",
          "cases_week_6",
          "cases_week_7",
          "cases_week_8",
          "cases_week_9",
          "cases_week_10",
          "cases_week_11",
          "cases_week_12",
          "cases_week_13",
          "cases_week_14",
          "cases_week_15",
          "cases_week_16",
          "cases_week_17",
          "cases_week_18",
          "cases_week_19",
          "cases_week_20",
          "cases_week_21",
          "cases_week_22",
          "cases_week_23",
          "cases_week_24",
          "cases_week_25",
          "cases_week_26",
          "cases_week_27",
          "cases_week_28",
          "cases_week_29",
          "cases_week_30",
          "cases_week_31",
          "cases_week_32",
          "cases_week_33",
          "cases_week_34",
          "cases_week_35",
          "cases_week_36",
          "cases_week_37",
          "cases_week_38",
          "cases_week_39",
          "cases_week_40",
          "cases_week_41",
          "cases_week_42",
          "cases_week_43",
          "cases_week_44",
          "cases_week_45",
          "cases_week_46",
          "cases_week_47",
          "cases_week_48",
          "cases_week_49",
          "cases_week_50",
          "cases_week_51",
          "cases_week_52",
          "cases_week_53",
          "cases_week_54",
          "cases_week_55",
          "cases_week_56",
          "cases_week_57",
          "cases_week_58",
          "cases_week_59",
          "cases_week_60"
         ],
         "y": [
          0,
          0,
          0,
          0,
          0,
          0,
          100,
          235,
          3914,
          13687,
          24796,
          34673,
          30063,
          31460,
          37712,
          41179,
          46907,
          38432,
          51554,
          56050,
          74111,
          135110,
          203254,
          252923,
          335346,
          390892,
          287370,
          295787,
          251472,
          265877,
          189773,
          167480,
          146314,
          141579,
          190278,
          147835,
          162173,
          137336,
          182154,
          211378,
          222215,
          277234,
          340046,
          392164,
          332811,
          472783,
          407884,
          1375090,
          568456,
          588374,
          781677,
          813917,
          686020,
          756714,
          466999,
          363697,
          170826,
          258007,
          210527,
          165108
         ]
        }
       ],
       "layout": {
        "legend": {
         "bgcolor": "#F5F6F9",
         "font": {
          "color": "#4D5663"
         }
        },
        "paper_bgcolor": "#F5F6F9",
        "plot_bgcolor": "#F5F6F9",
        "template": {
         "data": {
          "bar": [
           {
            "error_x": {
             "color": "#2a3f5f"
            },
            "error_y": {
             "color": "#2a3f5f"
            },
            "marker": {
             "line": {
              "color": "#E5ECF6",
              "width": 0.5
             }
            },
            "type": "bar"
           }
          ],
          "barpolar": [
           {
            "marker": {
             "line": {
              "color": "#E5ECF6",
              "width": 0.5
             }
            },
            "type": "barpolar"
           }
          ],
          "carpet": [
           {
            "aaxis": {
             "endlinecolor": "#2a3f5f",
             "gridcolor": "white",
             "linecolor": "white",
             "minorgridcolor": "white",
             "startlinecolor": "#2a3f5f"
            },
            "baxis": {
             "endlinecolor": "#2a3f5f",
             "gridcolor": "white",
             "linecolor": "white",
             "minorgridcolor": "white",
             "startlinecolor": "#2a3f5f"
            },
            "type": "carpet"
           }
          ],
          "choropleth": [
           {
            "colorbar": {
             "outlinewidth": 0,
             "ticks": ""
            },
            "type": "choropleth"
           }
          ],
          "contour": [
           {
            "colorbar": {
             "outlinewidth": 0,
             "ticks": ""
            },
            "colorscale": [
             [
              0,
              "#0d0887"
             ],
             [
              0.1111111111111111,
              "#46039f"
             ],
             [
              0.2222222222222222,
              "#7201a8"
             ],
             [
              0.3333333333333333,
              "#9c179e"
             ],
             [
              0.4444444444444444,
              "#bd3786"
             ],
             [
              0.5555555555555556,
              "#d8576b"
             ],
             [
              0.6666666666666666,
              "#ed7953"
             ],
             [
              0.7777777777777778,
              "#fb9f3a"
             ],
             [
              0.8888888888888888,
              "#fdca26"
             ],
             [
              1,
              "#f0f921"
             ]
            ],
            "type": "contour"
           }
          ],
          "contourcarpet": [
           {
            "colorbar": {
             "outlinewidth": 0,
             "ticks": ""
            },
            "type": "contourcarpet"
           }
          ],
          "heatmap": [
           {
            "colorbar": {
             "outlinewidth": 0,
             "ticks": ""
            },
            "colorscale": [
             [
              0,
              "#0d0887"
             ],
             [
              0.1111111111111111,
              "#46039f"
             ],
             [
              0.2222222222222222,
              "#7201a8"
             ],
             [
              0.3333333333333333,
              "#9c179e"
             ],
             [
              0.4444444444444444,
              "#bd3786"
             ],
             [
              0.5555555555555556,
              "#d8576b"
             ],
             [
              0.6666666666666666,
              "#ed7953"
             ],
             [
              0.7777777777777778,
              "#fb9f3a"
             ],
             [
              0.8888888888888888,
              "#fdca26"
             ],
             [
              1,
              "#f0f921"
             ]
            ],
            "type": "heatmap"
           }
          ],
          "heatmapgl": [
           {
            "colorbar": {
             "outlinewidth": 0,
             "ticks": ""
            },
            "colorscale": [
             [
              0,
              "#0d0887"
             ],
             [
              0.1111111111111111,
              "#46039f"
             ],
             [
              0.2222222222222222,
              "#7201a8"
             ],
             [
              0.3333333333333333,
              "#9c179e"
             ],
             [
              0.4444444444444444,
              "#bd3786"
             ],
             [
              0.5555555555555556,
              "#d8576b"
             ],
             [
              0.6666666666666666,
              "#ed7953"
             ],
             [
              0.7777777777777778,
              "#fb9f3a"
             ],
             [
              0.8888888888888888,
              "#fdca26"
             ],
             [
              1,
              "#f0f921"
             ]
            ],
            "type": "heatmapgl"
           }
          ],
          "histogram": [
           {
            "marker": {
             "colorbar": {
              "outlinewidth": 0,
              "ticks": ""
             }
            },
            "type": "histogram"
           }
          ],
          "histogram2d": [
           {
            "colorbar": {
             "outlinewidth": 0,
             "ticks": ""
            },
            "colorscale": [
             [
              0,
              "#0d0887"
             ],
             [
              0.1111111111111111,
              "#46039f"
             ],
             [
              0.2222222222222222,
              "#7201a8"
             ],
             [
              0.3333333333333333,
              "#9c179e"
             ],
             [
              0.4444444444444444,
              "#bd3786"
             ],
             [
              0.5555555555555556,
              "#d8576b"
             ],
             [
              0.6666666666666666,
              "#ed7953"
             ],
             [
              0.7777777777777778,
              "#fb9f3a"
             ],
             [
              0.8888888888888888,
              "#fdca26"
             ],
             [
              1,
              "#f0f921"
             ]
            ],
            "type": "histogram2d"
           }
          ],
          "histogram2dcontour": [
           {
            "colorbar": {
             "outlinewidth": 0,
             "ticks": ""
            },
            "colorscale": [
             [
              0,
              "#0d0887"
             ],
             [
              0.1111111111111111,
              "#46039f"
             ],
             [
              0.2222222222222222,
              "#7201a8"
             ],
             [
              0.3333333333333333,
              "#9c179e"
             ],
             [
              0.4444444444444444,
              "#bd3786"
             ],
             [
              0.5555555555555556,
              "#d8576b"
             ],
             [
              0.6666666666666666,
              "#ed7953"
             ],
             [
              0.7777777777777778,
              "#fb9f3a"
             ],
             [
              0.8888888888888888,
              "#fdca26"
             ],
             [
              1,
              "#f0f921"
             ]
            ],
            "type": "histogram2dcontour"
           }
          ],
          "mesh3d": [
           {
            "colorbar": {
             "outlinewidth": 0,
             "ticks": ""
            },
            "type": "mesh3d"
           }
          ],
          "parcoords": [
           {
            "line": {
             "colorbar": {
              "outlinewidth": 0,
              "ticks": ""
             }
            },
            "type": "parcoords"
           }
          ],
          "pie": [
           {
            "automargin": true,
            "type": "pie"
           }
          ],
          "scatter": [
           {
            "marker": {
             "colorbar": {
              "outlinewidth": 0,
              "ticks": ""
             }
            },
            "type": "scatter"
           }
          ],
          "scatter3d": [
           {
            "line": {
             "colorbar": {
              "outlinewidth": 0,
              "ticks": ""
             }
            },
            "marker": {
             "colorbar": {
              "outlinewidth": 0,
              "ticks": ""
             }
            },
            "type": "scatter3d"
           }
          ],
          "scattercarpet": [
           {
            "marker": {
             "colorbar": {
              "outlinewidth": 0,
              "ticks": ""
             }
            },
            "type": "scattercarpet"
           }
          ],
          "scattergeo": [
           {
            "marker": {
             "colorbar": {
              "outlinewidth": 0,
              "ticks": ""
             }
            },
            "type": "scattergeo"
           }
          ],
          "scattergl": [
           {
            "marker": {
             "colorbar": {
              "outlinewidth": 0,
              "ticks": ""
             }
            },
            "type": "scattergl"
           }
          ],
          "scattermapbox": [
           {
            "marker": {
             "colorbar": {
              "outlinewidth": 0,
              "ticks": ""
             }
            },
            "type": "scattermapbox"
           }
          ],
          "scatterpolar": [
           {
            "marker": {
             "colorbar": {
              "outlinewidth": 0,
              "ticks": ""
             }
            },
            "type": "scatterpolar"
           }
          ],
          "scatterpolargl": [
           {
            "marker": {
             "colorbar": {
              "outlinewidth": 0,
              "ticks": ""
             }
            },
            "type": "scatterpolargl"
           }
          ],
          "scatterternary": [
           {
            "marker": {
             "colorbar": {
              "outlinewidth": 0,
              "ticks": ""
             }
            },
            "type": "scatterternary"
           }
          ],
          "surface": [
           {
            "colorbar": {
             "outlinewidth": 0,
             "ticks": ""
            },
            "colorscale": [
             [
              0,
              "#0d0887"
             ],
             [
              0.1111111111111111,
              "#46039f"
             ],
             [
              0.2222222222222222,
              "#7201a8"
             ],
             [
              0.3333333333333333,
              "#9c179e"
             ],
             [
              0.4444444444444444,
              "#bd3786"
             ],
             [
              0.5555555555555556,
              "#d8576b"
             ],
             [
              0.6666666666666666,
              "#ed7953"
             ],
             [
              0.7777777777777778,
              "#fb9f3a"
             ],
             [
              0.8888888888888888,
              "#fdca26"
             ],
             [
              1,
              "#f0f921"
             ]
            ],
            "type": "surface"
           }
          ],
          "table": [
           {
            "cells": {
             "fill": {
              "color": "#EBF0F8"
             },
             "line": {
              "color": "white"
             }
            },
            "header": {
             "fill": {
              "color": "#C8D4E3"
             },
             "line": {
              "color": "white"
             }
            },
            "type": "table"
           }
          ]
         },
         "layout": {
          "annotationdefaults": {
           "arrowcolor": "#2a3f5f",
           "arrowhead": 0,
           "arrowwidth": 1
          },
          "autotypenumbers": "strict",
          "coloraxis": {
           "colorbar": {
            "outlinewidth": 0,
            "ticks": ""
           }
          },
          "colorscale": {
           "diverging": [
            [
             0,
             "#8e0152"
            ],
            [
             0.1,
             "#c51b7d"
            ],
            [
             0.2,
             "#de77ae"
            ],
            [
             0.3,
             "#f1b6da"
            ],
            [
             0.4,
             "#fde0ef"
            ],
            [
             0.5,
             "#f7f7f7"
            ],
            [
             0.6,
             "#e6f5d0"
            ],
            [
             0.7,
             "#b8e186"
            ],
            [
             0.8,
             "#7fbc41"
            ],
            [
             0.9,
             "#4d9221"
            ],
            [
             1,
             "#276419"
            ]
           ],
           "sequential": [
            [
             0,
             "#0d0887"
            ],
            [
             0.1111111111111111,
             "#46039f"
            ],
            [
             0.2222222222222222,
             "#7201a8"
            ],
            [
             0.3333333333333333,
             "#9c179e"
            ],
            [
             0.4444444444444444,
             "#bd3786"
            ],
            [
             0.5555555555555556,
             "#d8576b"
            ],
            [
             0.6666666666666666,
             "#ed7953"
            ],
            [
             0.7777777777777778,
             "#fb9f3a"
            ],
            [
             0.8888888888888888,
             "#fdca26"
            ],
            [
             1,
             "#f0f921"
            ]
           ],
           "sequentialminus": [
            [
             0,
             "#0d0887"
            ],
            [
             0.1111111111111111,
             "#46039f"
            ],
            [
             0.2222222222222222,
             "#7201a8"
            ],
            [
             0.3333333333333333,
             "#9c179e"
            ],
            [
             0.4444444444444444,
             "#bd3786"
            ],
            [
             0.5555555555555556,
             "#d8576b"
            ],
            [
             0.6666666666666666,
             "#ed7953"
            ],
            [
             0.7777777777777778,
             "#fb9f3a"
            ],
            [
             0.8888888888888888,
             "#fdca26"
            ],
            [
             1,
             "#f0f921"
            ]
           ]
          },
          "colorway": [
           "#636efa",
           "#EF553B",
           "#00cc96",
           "#ab63fa",
           "#FFA15A",
           "#19d3f3",
           "#FF6692",
           "#B6E880",
           "#FF97FF",
           "#FECB52"
          ],
          "font": {
           "color": "#2a3f5f"
          },
          "geo": {
           "bgcolor": "white",
           "lakecolor": "white",
           "landcolor": "#E5ECF6",
           "showlakes": true,
           "showland": true,
           "subunitcolor": "white"
          },
          "hoverlabel": {
           "align": "left"
          },
          "hovermode": "closest",
          "mapbox": {
           "style": "light"
          },
          "paper_bgcolor": "white",
          "plot_bgcolor": "#E5ECF6",
          "polar": {
           "angularaxis": {
            "gridcolor": "white",
            "linecolor": "white",
            "ticks": ""
           },
           "bgcolor": "#E5ECF6",
           "radialaxis": {
            "gridcolor": "white",
            "linecolor": "white",
            "ticks": ""
           }
          },
          "scene": {
           "xaxis": {
            "backgroundcolor": "#E5ECF6",
            "gridcolor": "white",
            "gridwidth": 2,
            "linecolor": "white",
            "showbackground": true,
            "ticks": "",
            "zerolinecolor": "white"
           },
           "yaxis": {
            "backgroundcolor": "#E5ECF6",
            "gridcolor": "white",
            "gridwidth": 2,
            "linecolor": "white",
            "showbackground": true,
            "ticks": "",
            "zerolinecolor": "white"
           },
           "zaxis": {
            "backgroundcolor": "#E5ECF6",
            "gridcolor": "white",
            "gridwidth": 2,
            "linecolor": "white",
            "showbackground": true,
            "ticks": "",
            "zerolinecolor": "white"
           }
          },
          "shapedefaults": {
           "line": {
            "color": "#2a3f5f"
           }
          },
          "ternary": {
           "aaxis": {
            "gridcolor": "white",
            "linecolor": "white",
            "ticks": ""
           },
           "baxis": {
            "gridcolor": "white",
            "linecolor": "white",
            "ticks": ""
           },
           "bgcolor": "#E5ECF6",
           "caxis": {
            "gridcolor": "white",
            "linecolor": "white",
            "ticks": ""
           }
          },
          "title": {
           "x": 0.05
          },
          "xaxis": {
           "automargin": true,
           "gridcolor": "white",
           "linecolor": "white",
           "ticks": "",
           "title": {
            "standoff": 15
           },
           "zerolinecolor": "white",
           "zerolinewidth": 2
          },
          "yaxis": {
           "automargin": true,
           "gridcolor": "white",
           "linecolor": "white",
           "ticks": "",
           "title": {
            "standoff": 15
           },
           "zerolinecolor": "white",
           "zerolinewidth": 2
          }
         }
        },
        "title": {
         "font": {
          "color": "#4D5663"
         },
         "text": "Texas: Weekly Cases"
        },
        "xaxis": {
         "gridcolor": "#E1E5ED",
         "showgrid": true,
         "tickfont": {
          "color": "#4D5663"
         },
         "title": {
          "font": {
           "color": "#4D5663"
          },
          "text": ""
         },
         "zerolinecolor": "#E1E5ED"
        },
        "yaxis": {
         "gridcolor": "#E1E5ED",
         "showgrid": true,
         "tickfont": {
          "color": "#4D5663"
         },
         "title": {
          "font": {
           "color": "#4D5663"
          },
          "text": ""
         },
         "zerolinecolor": "#E1E5ED"
        }
       }
      },
      "text/html": [
       "<div>                            <div id=\"ca82ea29-0dff-41db-8f53-f10439d3d491\" class=\"plotly-graph-div\" style=\"height:525px; width:100%;\"></div>            <script type=\"text/javascript\">                require([\"plotly\"], function(Plotly) {                    window.PLOTLYENV=window.PLOTLYENV || {};\n",
       "                    window.PLOTLYENV.BASE_URL='https://plot.ly';                                    if (document.getElementById(\"ca82ea29-0dff-41db-8f53-f10439d3d491\")) {                    Plotly.newPlot(                        \"ca82ea29-0dff-41db-8f53-f10439d3d491\",                        [{\"line\": {\"color\": \"rgba(255, 153, 51, 1.0)\", \"dash\": \"solid\", \"shape\": \"linear\", \"width\": 1.3}, \"mode\": \"lines\", \"name\": \"TX\", \"text\": \"\", \"type\": \"scatter\", \"x\": [\"cases_week_1\", \"cases_week_2\", \"cases_week_3\", \"cases_week_4\", \"cases_week_5\", \"cases_week_6\", \"cases_week_7\", \"cases_week_8\", \"cases_week_9\", \"cases_week_10\", \"cases_week_11\", \"cases_week_12\", \"cases_week_13\", \"cases_week_14\", \"cases_week_15\", \"cases_week_16\", \"cases_week_17\", \"cases_week_18\", \"cases_week_19\", \"cases_week_20\", \"cases_week_21\", \"cases_week_22\", \"cases_week_23\", \"cases_week_24\", \"cases_week_25\", \"cases_week_26\", \"cases_week_27\", \"cases_week_28\", \"cases_week_29\", \"cases_week_30\", \"cases_week_31\", \"cases_week_32\", \"cases_week_33\", \"cases_week_34\", \"cases_week_35\", \"cases_week_36\", \"cases_week_37\", \"cases_week_38\", \"cases_week_39\", \"cases_week_40\", \"cases_week_41\", \"cases_week_42\", \"cases_week_43\", \"cases_week_44\", \"cases_week_45\", \"cases_week_46\", \"cases_week_47\", \"cases_week_48\", \"cases_week_49\", \"cases_week_50\", \"cases_week_51\", \"cases_week_52\", \"cases_week_53\", \"cases_week_54\", \"cases_week_55\", \"cases_week_56\", \"cases_week_57\", \"cases_week_58\", \"cases_week_59\", \"cases_week_60\"], \"y\": [0, 0, 0, 0, 0, 0, 100, 235, 3914, 13687, 24796, 34673, 30063, 31460, 37712, 41179, 46907, 38432, 51554, 56050, 74111, 135110, 203254, 252923, 335346, 390892, 287370, 295787, 251472, 265877, 189773, 167480, 146314, 141579, 190278, 147835, 162173, 137336, 182154, 211378, 222215, 277234, 340046, 392164, 332811, 472783, 407884, 1375090, 568456, 588374, 781677, 813917, 686020, 756714, 466999, 363697, 170826, 258007, 210527, 165108]}],                        {\"legend\": {\"bgcolor\": \"#F5F6F9\", \"font\": {\"color\": \"#4D5663\"}}, \"paper_bgcolor\": \"#F5F6F9\", \"plot_bgcolor\": \"#F5F6F9\", \"template\": {\"data\": {\"bar\": [{\"error_x\": {\"color\": \"#2a3f5f\"}, \"error_y\": {\"color\": \"#2a3f5f\"}, \"marker\": {\"line\": {\"color\": \"#E5ECF6\", \"width\": 0.5}}, \"type\": \"bar\"}], \"barpolar\": [{\"marker\": {\"line\": {\"color\": \"#E5ECF6\", \"width\": 0.5}}, \"type\": \"barpolar\"}], \"carpet\": [{\"aaxis\": {\"endlinecolor\": \"#2a3f5f\", \"gridcolor\": \"white\", \"linecolor\": \"white\", \"minorgridcolor\": \"white\", \"startlinecolor\": \"#2a3f5f\"}, \"baxis\": {\"endlinecolor\": \"#2a3f5f\", \"gridcolor\": \"white\", \"linecolor\": \"white\", \"minorgridcolor\": \"white\", \"startlinecolor\": \"#2a3f5f\"}, \"type\": \"carpet\"}], \"choropleth\": [{\"colorbar\": {\"outlinewidth\": 0, \"ticks\": \"\"}, \"type\": \"choropleth\"}], \"contour\": [{\"colorbar\": {\"outlinewidth\": 0, \"ticks\": \"\"}, \"colorscale\": [[0.0, \"#0d0887\"], [0.1111111111111111, \"#46039f\"], [0.2222222222222222, \"#7201a8\"], [0.3333333333333333, \"#9c179e\"], [0.4444444444444444, \"#bd3786\"], [0.5555555555555556, \"#d8576b\"], [0.6666666666666666, \"#ed7953\"], [0.7777777777777778, \"#fb9f3a\"], [0.8888888888888888, \"#fdca26\"], [1.0, \"#f0f921\"]], \"type\": \"contour\"}], \"contourcarpet\": [{\"colorbar\": {\"outlinewidth\": 0, \"ticks\": \"\"}, \"type\": \"contourcarpet\"}], \"heatmap\": [{\"colorbar\": {\"outlinewidth\": 0, \"ticks\": \"\"}, \"colorscale\": [[0.0, \"#0d0887\"], [0.1111111111111111, \"#46039f\"], [0.2222222222222222, \"#7201a8\"], [0.3333333333333333, \"#9c179e\"], [0.4444444444444444, \"#bd3786\"], [0.5555555555555556, \"#d8576b\"], [0.6666666666666666, \"#ed7953\"], [0.7777777777777778, \"#fb9f3a\"], [0.8888888888888888, \"#fdca26\"], [1.0, \"#f0f921\"]], \"type\": \"heatmap\"}], \"heatmapgl\": [{\"colorbar\": {\"outlinewidth\": 0, \"ticks\": \"\"}, \"colorscale\": [[0.0, \"#0d0887\"], [0.1111111111111111, \"#46039f\"], [0.2222222222222222, \"#7201a8\"], [0.3333333333333333, \"#9c179e\"], [0.4444444444444444, \"#bd3786\"], [0.5555555555555556, \"#d8576b\"], [0.6666666666666666, \"#ed7953\"], [0.7777777777777778, \"#fb9f3a\"], [0.8888888888888888, \"#fdca26\"], [1.0, \"#f0f921\"]], \"type\": \"heatmapgl\"}], \"histogram\": [{\"marker\": {\"colorbar\": {\"outlinewidth\": 0, \"ticks\": \"\"}}, \"type\": \"histogram\"}], \"histogram2d\": [{\"colorbar\": {\"outlinewidth\": 0, \"ticks\": \"\"}, \"colorscale\": [[0.0, \"#0d0887\"], [0.1111111111111111, \"#46039f\"], [0.2222222222222222, \"#7201a8\"], [0.3333333333333333, \"#9c179e\"], [0.4444444444444444, \"#bd3786\"], [0.5555555555555556, \"#d8576b\"], [0.6666666666666666, \"#ed7953\"], [0.7777777777777778, \"#fb9f3a\"], [0.8888888888888888, \"#fdca26\"], [1.0, \"#f0f921\"]], \"type\": \"histogram2d\"}], \"histogram2dcontour\": [{\"colorbar\": {\"outlinewidth\": 0, \"ticks\": \"\"}, \"colorscale\": [[0.0, \"#0d0887\"], [0.1111111111111111, \"#46039f\"], [0.2222222222222222, \"#7201a8\"], [0.3333333333333333, \"#9c179e\"], [0.4444444444444444, \"#bd3786\"], [0.5555555555555556, \"#d8576b\"], [0.6666666666666666, \"#ed7953\"], [0.7777777777777778, \"#fb9f3a\"], [0.8888888888888888, \"#fdca26\"], [1.0, \"#f0f921\"]], \"type\": \"histogram2dcontour\"}], \"mesh3d\": [{\"colorbar\": {\"outlinewidth\": 0, \"ticks\": \"\"}, \"type\": \"mesh3d\"}], \"parcoords\": [{\"line\": {\"colorbar\": {\"outlinewidth\": 0, \"ticks\": \"\"}}, \"type\": \"parcoords\"}], \"pie\": [{\"automargin\": true, \"type\": \"pie\"}], \"scatter\": [{\"marker\": {\"colorbar\": {\"outlinewidth\": 0, \"ticks\": \"\"}}, \"type\": \"scatter\"}], \"scatter3d\": [{\"line\": {\"colorbar\": {\"outlinewidth\": 0, \"ticks\": \"\"}}, \"marker\": {\"colorbar\": {\"outlinewidth\": 0, \"ticks\": \"\"}}, \"type\": \"scatter3d\"}], \"scattercarpet\": [{\"marker\": {\"colorbar\": {\"outlinewidth\": 0, \"ticks\": \"\"}}, \"type\": \"scattercarpet\"}], \"scattergeo\": [{\"marker\": {\"colorbar\": {\"outlinewidth\": 0, \"ticks\": \"\"}}, \"type\": \"scattergeo\"}], \"scattergl\": [{\"marker\": {\"colorbar\": {\"outlinewidth\": 0, \"ticks\": \"\"}}, \"type\": \"scattergl\"}], \"scattermapbox\": [{\"marker\": {\"colorbar\": {\"outlinewidth\": 0, \"ticks\": \"\"}}, \"type\": \"scattermapbox\"}], \"scatterpolar\": [{\"marker\": {\"colorbar\": {\"outlinewidth\": 0, \"ticks\": \"\"}}, \"type\": \"scatterpolar\"}], \"scatterpolargl\": [{\"marker\": {\"colorbar\": {\"outlinewidth\": 0, \"ticks\": \"\"}}, \"type\": \"scatterpolargl\"}], \"scatterternary\": [{\"marker\": {\"colorbar\": {\"outlinewidth\": 0, \"ticks\": \"\"}}, \"type\": \"scatterternary\"}], \"surface\": [{\"colorbar\": {\"outlinewidth\": 0, \"ticks\": \"\"}, \"colorscale\": [[0.0, \"#0d0887\"], [0.1111111111111111, \"#46039f\"], [0.2222222222222222, \"#7201a8\"], [0.3333333333333333, \"#9c179e\"], [0.4444444444444444, \"#bd3786\"], [0.5555555555555556, \"#d8576b\"], [0.6666666666666666, \"#ed7953\"], [0.7777777777777778, \"#fb9f3a\"], [0.8888888888888888, \"#fdca26\"], [1.0, \"#f0f921\"]], \"type\": \"surface\"}], \"table\": [{\"cells\": {\"fill\": {\"color\": \"#EBF0F8\"}, \"line\": {\"color\": \"white\"}}, \"header\": {\"fill\": {\"color\": \"#C8D4E3\"}, \"line\": {\"color\": \"white\"}}, \"type\": \"table\"}]}, \"layout\": {\"annotationdefaults\": {\"arrowcolor\": \"#2a3f5f\", \"arrowhead\": 0, \"arrowwidth\": 1}, \"autotypenumbers\": \"strict\", \"coloraxis\": {\"colorbar\": {\"outlinewidth\": 0, \"ticks\": \"\"}}, \"colorscale\": {\"diverging\": [[0, \"#8e0152\"], [0.1, \"#c51b7d\"], [0.2, \"#de77ae\"], [0.3, \"#f1b6da\"], [0.4, \"#fde0ef\"], [0.5, \"#f7f7f7\"], [0.6, \"#e6f5d0\"], [0.7, \"#b8e186\"], [0.8, \"#7fbc41\"], [0.9, \"#4d9221\"], [1, \"#276419\"]], \"sequential\": [[0.0, \"#0d0887\"], [0.1111111111111111, \"#46039f\"], [0.2222222222222222, \"#7201a8\"], [0.3333333333333333, \"#9c179e\"], [0.4444444444444444, \"#bd3786\"], [0.5555555555555556, \"#d8576b\"], [0.6666666666666666, \"#ed7953\"], [0.7777777777777778, \"#fb9f3a\"], [0.8888888888888888, \"#fdca26\"], [1.0, \"#f0f921\"]], \"sequentialminus\": [[0.0, \"#0d0887\"], [0.1111111111111111, \"#46039f\"], [0.2222222222222222, \"#7201a8\"], [0.3333333333333333, \"#9c179e\"], [0.4444444444444444, \"#bd3786\"], [0.5555555555555556, \"#d8576b\"], [0.6666666666666666, \"#ed7953\"], [0.7777777777777778, \"#fb9f3a\"], [0.8888888888888888, \"#fdca26\"], [1.0, \"#f0f921\"]]}, \"colorway\": [\"#636efa\", \"#EF553B\", \"#00cc96\", \"#ab63fa\", \"#FFA15A\", \"#19d3f3\", \"#FF6692\", \"#B6E880\", \"#FF97FF\", \"#FECB52\"], \"font\": {\"color\": \"#2a3f5f\"}, \"geo\": {\"bgcolor\": \"white\", \"lakecolor\": \"white\", \"landcolor\": \"#E5ECF6\", \"showlakes\": true, \"showland\": true, \"subunitcolor\": \"white\"}, \"hoverlabel\": {\"align\": \"left\"}, \"hovermode\": \"closest\", \"mapbox\": {\"style\": \"light\"}, \"paper_bgcolor\": \"white\", \"plot_bgcolor\": \"#E5ECF6\", \"polar\": {\"angularaxis\": {\"gridcolor\": \"white\", \"linecolor\": \"white\", \"ticks\": \"\"}, \"bgcolor\": \"#E5ECF6\", \"radialaxis\": {\"gridcolor\": \"white\", \"linecolor\": \"white\", \"ticks\": \"\"}}, \"scene\": {\"xaxis\": {\"backgroundcolor\": \"#E5ECF6\", \"gridcolor\": \"white\", \"gridwidth\": 2, \"linecolor\": \"white\", \"showbackground\": true, \"ticks\": \"\", \"zerolinecolor\": \"white\"}, \"yaxis\": {\"backgroundcolor\": \"#E5ECF6\", \"gridcolor\": \"white\", \"gridwidth\": 2, \"linecolor\": \"white\", \"showbackground\": true, \"ticks\": \"\", \"zerolinecolor\": \"white\"}, \"zaxis\": {\"backgroundcolor\": \"#E5ECF6\", \"gridcolor\": \"white\", \"gridwidth\": 2, \"linecolor\": \"white\", \"showbackground\": true, \"ticks\": \"\", \"zerolinecolor\": \"white\"}}, \"shapedefaults\": {\"line\": {\"color\": \"#2a3f5f\"}}, \"ternary\": {\"aaxis\": {\"gridcolor\": \"white\", \"linecolor\": \"white\", \"ticks\": \"\"}, \"baxis\": {\"gridcolor\": \"white\", \"linecolor\": \"white\", \"ticks\": \"\"}, \"bgcolor\": \"#E5ECF6\", \"caxis\": {\"gridcolor\": \"white\", \"linecolor\": \"white\", \"ticks\": \"\"}}, \"title\": {\"x\": 0.05}, \"xaxis\": {\"automargin\": true, \"gridcolor\": \"white\", \"linecolor\": \"white\", \"ticks\": \"\", \"title\": {\"standoff\": 15}, \"zerolinecolor\": \"white\", \"zerolinewidth\": 2}, \"yaxis\": {\"automargin\": true, \"gridcolor\": \"white\", \"linecolor\": \"white\", \"ticks\": \"\", \"title\": {\"standoff\": 15}, \"zerolinecolor\": \"white\", \"zerolinewidth\": 2}}}, \"title\": {\"font\": {\"color\": \"#4D5663\"}, \"text\": \"Texas: Weekly Cases\"}, \"xaxis\": {\"gridcolor\": \"#E1E5ED\", \"showgrid\": true, \"tickfont\": {\"color\": \"#4D5663\"}, \"title\": {\"font\": {\"color\": \"#4D5663\"}, \"text\": \"\"}, \"zerolinecolor\": \"#E1E5ED\"}, \"yaxis\": {\"gridcolor\": \"#E1E5ED\", \"showgrid\": true, \"tickfont\": {\"color\": \"#4D5663\"}, \"title\": {\"font\": {\"color\": \"#4D5663\"}, \"text\": \"\"}, \"zerolinecolor\": \"#E1E5ED\"}},                        {\"showLink\": true, \"linkText\": \"Export to plot.ly\", \"plotlyServerURL\": \"https://plot.ly\", \"responsive\": true}                    ).then(function(){\n",
       "                            \n",
       "var gd = document.getElementById('ca82ea29-0dff-41db-8f53-f10439d3d491');\n",
       "var x = new MutationObserver(function (mutations, observer) {{\n",
       "        var display = window.getComputedStyle(gd).display;\n",
       "        if (!display || display === 'none') {{\n",
       "            console.log([gd, 'removed!']);\n",
       "            Plotly.purge(gd);\n",
       "            observer.disconnect();\n",
       "        }}\n",
       "}});\n",
       "\n",
       "// Listen for the removal of the full notebook cells\n",
       "var notebookContainer = gd.closest('#notebook-container');\n",
       "if (notebookContainer) {{\n",
       "    x.observe(notebookContainer, {childList: true});\n",
       "}}\n",
       "\n",
       "// Listen for the clearing of the current output cell\n",
       "var outputEl = gd.closest('.output');\n",
       "if (outputEl) {{\n",
       "    x.observe(outputEl, {childList: true});\n",
       "}}\n",
       "\n",
       "                        })                };                });            </script>        </div>"
      ]
     },
     "metadata": {},
     "output_type": "display_data"
    }
   ],
   "source": [
    "TexasDailyCasesTotal = TexasWeelyCasesFin.groupby(['State']).sum()\n",
    "TexasDailyCasesTotal.drop(['countyFIPS', 'StateFIPS', 'population'], axis=1, inplace=True)\n",
    "tff = TexasDailyCasesTotal.T\n",
    "tff.iplot(kind='scatter', title='Texas: Weekly Cases')"
   ]
  },
  {
   "cell_type": "markdown",
   "metadata": {},
   "source": [
    "#### From the weekly deahts in Texas, a sharp increase can be seen on week 27 of 2020 and at the end of 2020 which can be explained by the holiday season"
   ]
  },
  {
   "cell_type": "code",
   "execution_count": 24,
   "metadata": {},
   "outputs": [
    {
     "data": {
      "application/vnd.plotly.v1+json": {
       "config": {
        "linkText": "Export to plot.ly",
        "plotlyServerURL": "https://plot.ly",
        "showLink": true
       },
       "data": [
        {
         "line": {
          "color": "rgba(255, 153, 51, 1.0)",
          "dash": "solid",
          "shape": "linear",
          "width": 1.3
         },
         "mode": "lines",
         "name": "TX",
         "text": "",
         "type": "scatter",
         "x": [
          "cases_week_1",
          "cases_week_2",
          "cases_week_3",
          "cases_week_4",
          "cases_week_5",
          "cases_week_6",
          "cases_week_7",
          "cases_week_8",
          "cases_week_9",
          "cases_week_10",
          "cases_week_11",
          "cases_week_12",
          "cases_week_13",
          "cases_week_14",
          "cases_week_15",
          "cases_week_16",
          "cases_week_17",
          "cases_week_18",
          "cases_week_19",
          "cases_week_20",
          "cases_week_21",
          "cases_week_22",
          "cases_week_23",
          "cases_week_24",
          "cases_week_25",
          "cases_week_26",
          "cases_week_27",
          "cases_week_28",
          "cases_week_29",
          "cases_week_30",
          "cases_week_31",
          "cases_week_32",
          "cases_week_33",
          "cases_week_34",
          "cases_week_35",
          "cases_week_36",
          "cases_week_37",
          "cases_week_38",
          "cases_week_39",
          "cases_week_40",
          "cases_week_41",
          "cases_week_42",
          "cases_week_43",
          "cases_week_44",
          "cases_week_45",
          "cases_week_46",
          "cases_week_47",
          "cases_week_48",
          "cases_week_49",
          "cases_week_50",
          "cases_week_51",
          "cases_week_52",
          "cases_week_53",
          "cases_week_54",
          "cases_week_55",
          "cases_week_56",
          "cases_week_57",
          "cases_week_58",
          "cases_week_59",
          "cases_week_60"
         ],
         "y": [
          0,
          0,
          0,
          0,
          0,
          0,
          0,
          6,
          49,
          180,
          559,
          723,
          1097,
          902,
          1198,
          1192,
          1311,
          977,
          882,
          847,
          793,
          998,
          1165,
          1462,
          3236,
          4343,
          13168,
          7589,
          7650,
          8347,
          7093,
          5975,
          5056,
          4105,
          3576,
          3365,
          2661,
          2764,
          2468,
          2641,
          3084,
          3535,
          4413,
          5541,
          3889,
          6696,
          6997,
          3208,
          4075,
          7492,
          10667,
          11590,
          12422,
          11443,
          11377,
          9909,
          4725,
          8429,
          7562,
          5720
         ]
        }
       ],
       "layout": {
        "legend": {
         "bgcolor": "#F5F6F9",
         "font": {
          "color": "#4D5663"
         }
        },
        "paper_bgcolor": "#F5F6F9",
        "plot_bgcolor": "#F5F6F9",
        "template": {
         "data": {
          "bar": [
           {
            "error_x": {
             "color": "#2a3f5f"
            },
            "error_y": {
             "color": "#2a3f5f"
            },
            "marker": {
             "line": {
              "color": "#E5ECF6",
              "width": 0.5
             }
            },
            "type": "bar"
           }
          ],
          "barpolar": [
           {
            "marker": {
             "line": {
              "color": "#E5ECF6",
              "width": 0.5
             }
            },
            "type": "barpolar"
           }
          ],
          "carpet": [
           {
            "aaxis": {
             "endlinecolor": "#2a3f5f",
             "gridcolor": "white",
             "linecolor": "white",
             "minorgridcolor": "white",
             "startlinecolor": "#2a3f5f"
            },
            "baxis": {
             "endlinecolor": "#2a3f5f",
             "gridcolor": "white",
             "linecolor": "white",
             "minorgridcolor": "white",
             "startlinecolor": "#2a3f5f"
            },
            "type": "carpet"
           }
          ],
          "choropleth": [
           {
            "colorbar": {
             "outlinewidth": 0,
             "ticks": ""
            },
            "type": "choropleth"
           }
          ],
          "contour": [
           {
            "colorbar": {
             "outlinewidth": 0,
             "ticks": ""
            },
            "colorscale": [
             [
              0,
              "#0d0887"
             ],
             [
              0.1111111111111111,
              "#46039f"
             ],
             [
              0.2222222222222222,
              "#7201a8"
             ],
             [
              0.3333333333333333,
              "#9c179e"
             ],
             [
              0.4444444444444444,
              "#bd3786"
             ],
             [
              0.5555555555555556,
              "#d8576b"
             ],
             [
              0.6666666666666666,
              "#ed7953"
             ],
             [
              0.7777777777777778,
              "#fb9f3a"
             ],
             [
              0.8888888888888888,
              "#fdca26"
             ],
             [
              1,
              "#f0f921"
             ]
            ],
            "type": "contour"
           }
          ],
          "contourcarpet": [
           {
            "colorbar": {
             "outlinewidth": 0,
             "ticks": ""
            },
            "type": "contourcarpet"
           }
          ],
          "heatmap": [
           {
            "colorbar": {
             "outlinewidth": 0,
             "ticks": ""
            },
            "colorscale": [
             [
              0,
              "#0d0887"
             ],
             [
              0.1111111111111111,
              "#46039f"
             ],
             [
              0.2222222222222222,
              "#7201a8"
             ],
             [
              0.3333333333333333,
              "#9c179e"
             ],
             [
              0.4444444444444444,
              "#bd3786"
             ],
             [
              0.5555555555555556,
              "#d8576b"
             ],
             [
              0.6666666666666666,
              "#ed7953"
             ],
             [
              0.7777777777777778,
              "#fb9f3a"
             ],
             [
              0.8888888888888888,
              "#fdca26"
             ],
             [
              1,
              "#f0f921"
             ]
            ],
            "type": "heatmap"
           }
          ],
          "heatmapgl": [
           {
            "colorbar": {
             "outlinewidth": 0,
             "ticks": ""
            },
            "colorscale": [
             [
              0,
              "#0d0887"
             ],
             [
              0.1111111111111111,
              "#46039f"
             ],
             [
              0.2222222222222222,
              "#7201a8"
             ],
             [
              0.3333333333333333,
              "#9c179e"
             ],
             [
              0.4444444444444444,
              "#bd3786"
             ],
             [
              0.5555555555555556,
              "#d8576b"
             ],
             [
              0.6666666666666666,
              "#ed7953"
             ],
             [
              0.7777777777777778,
              "#fb9f3a"
             ],
             [
              0.8888888888888888,
              "#fdca26"
             ],
             [
              1,
              "#f0f921"
             ]
            ],
            "type": "heatmapgl"
           }
          ],
          "histogram": [
           {
            "marker": {
             "colorbar": {
              "outlinewidth": 0,
              "ticks": ""
             }
            },
            "type": "histogram"
           }
          ],
          "histogram2d": [
           {
            "colorbar": {
             "outlinewidth": 0,
             "ticks": ""
            },
            "colorscale": [
             [
              0,
              "#0d0887"
             ],
             [
              0.1111111111111111,
              "#46039f"
             ],
             [
              0.2222222222222222,
              "#7201a8"
             ],
             [
              0.3333333333333333,
              "#9c179e"
             ],
             [
              0.4444444444444444,
              "#bd3786"
             ],
             [
              0.5555555555555556,
              "#d8576b"
             ],
             [
              0.6666666666666666,
              "#ed7953"
             ],
             [
              0.7777777777777778,
              "#fb9f3a"
             ],
             [
              0.8888888888888888,
              "#fdca26"
             ],
             [
              1,
              "#f0f921"
             ]
            ],
            "type": "histogram2d"
           }
          ],
          "histogram2dcontour": [
           {
            "colorbar": {
             "outlinewidth": 0,
             "ticks": ""
            },
            "colorscale": [
             [
              0,
              "#0d0887"
             ],
             [
              0.1111111111111111,
              "#46039f"
             ],
             [
              0.2222222222222222,
              "#7201a8"
             ],
             [
              0.3333333333333333,
              "#9c179e"
             ],
             [
              0.4444444444444444,
              "#bd3786"
             ],
             [
              0.5555555555555556,
              "#d8576b"
             ],
             [
              0.6666666666666666,
              "#ed7953"
             ],
             [
              0.7777777777777778,
              "#fb9f3a"
             ],
             [
              0.8888888888888888,
              "#fdca26"
             ],
             [
              1,
              "#f0f921"
             ]
            ],
            "type": "histogram2dcontour"
           }
          ],
          "mesh3d": [
           {
            "colorbar": {
             "outlinewidth": 0,
             "ticks": ""
            },
            "type": "mesh3d"
           }
          ],
          "parcoords": [
           {
            "line": {
             "colorbar": {
              "outlinewidth": 0,
              "ticks": ""
             }
            },
            "type": "parcoords"
           }
          ],
          "pie": [
           {
            "automargin": true,
            "type": "pie"
           }
          ],
          "scatter": [
           {
            "marker": {
             "colorbar": {
              "outlinewidth": 0,
              "ticks": ""
             }
            },
            "type": "scatter"
           }
          ],
          "scatter3d": [
           {
            "line": {
             "colorbar": {
              "outlinewidth": 0,
              "ticks": ""
             }
            },
            "marker": {
             "colorbar": {
              "outlinewidth": 0,
              "ticks": ""
             }
            },
            "type": "scatter3d"
           }
          ],
          "scattercarpet": [
           {
            "marker": {
             "colorbar": {
              "outlinewidth": 0,
              "ticks": ""
             }
            },
            "type": "scattercarpet"
           }
          ],
          "scattergeo": [
           {
            "marker": {
             "colorbar": {
              "outlinewidth": 0,
              "ticks": ""
             }
            },
            "type": "scattergeo"
           }
          ],
          "scattergl": [
           {
            "marker": {
             "colorbar": {
              "outlinewidth": 0,
              "ticks": ""
             }
            },
            "type": "scattergl"
           }
          ],
          "scattermapbox": [
           {
            "marker": {
             "colorbar": {
              "outlinewidth": 0,
              "ticks": ""
             }
            },
            "type": "scattermapbox"
           }
          ],
          "scatterpolar": [
           {
            "marker": {
             "colorbar": {
              "outlinewidth": 0,
              "ticks": ""
             }
            },
            "type": "scatterpolar"
           }
          ],
          "scatterpolargl": [
           {
            "marker": {
             "colorbar": {
              "outlinewidth": 0,
              "ticks": ""
             }
            },
            "type": "scatterpolargl"
           }
          ],
          "scatterternary": [
           {
            "marker": {
             "colorbar": {
              "outlinewidth": 0,
              "ticks": ""
             }
            },
            "type": "scatterternary"
           }
          ],
          "surface": [
           {
            "colorbar": {
             "outlinewidth": 0,
             "ticks": ""
            },
            "colorscale": [
             [
              0,
              "#0d0887"
             ],
             [
              0.1111111111111111,
              "#46039f"
             ],
             [
              0.2222222222222222,
              "#7201a8"
             ],
             [
              0.3333333333333333,
              "#9c179e"
             ],
             [
              0.4444444444444444,
              "#bd3786"
             ],
             [
              0.5555555555555556,
              "#d8576b"
             ],
             [
              0.6666666666666666,
              "#ed7953"
             ],
             [
              0.7777777777777778,
              "#fb9f3a"
             ],
             [
              0.8888888888888888,
              "#fdca26"
             ],
             [
              1,
              "#f0f921"
             ]
            ],
            "type": "surface"
           }
          ],
          "table": [
           {
            "cells": {
             "fill": {
              "color": "#EBF0F8"
             },
             "line": {
              "color": "white"
             }
            },
            "header": {
             "fill": {
              "color": "#C8D4E3"
             },
             "line": {
              "color": "white"
             }
            },
            "type": "table"
           }
          ]
         },
         "layout": {
          "annotationdefaults": {
           "arrowcolor": "#2a3f5f",
           "arrowhead": 0,
           "arrowwidth": 1
          },
          "autotypenumbers": "strict",
          "coloraxis": {
           "colorbar": {
            "outlinewidth": 0,
            "ticks": ""
           }
          },
          "colorscale": {
           "diverging": [
            [
             0,
             "#8e0152"
            ],
            [
             0.1,
             "#c51b7d"
            ],
            [
             0.2,
             "#de77ae"
            ],
            [
             0.3,
             "#f1b6da"
            ],
            [
             0.4,
             "#fde0ef"
            ],
            [
             0.5,
             "#f7f7f7"
            ],
            [
             0.6,
             "#e6f5d0"
            ],
            [
             0.7,
             "#b8e186"
            ],
            [
             0.8,
             "#7fbc41"
            ],
            [
             0.9,
             "#4d9221"
            ],
            [
             1,
             "#276419"
            ]
           ],
           "sequential": [
            [
             0,
             "#0d0887"
            ],
            [
             0.1111111111111111,
             "#46039f"
            ],
            [
             0.2222222222222222,
             "#7201a8"
            ],
            [
             0.3333333333333333,
             "#9c179e"
            ],
            [
             0.4444444444444444,
             "#bd3786"
            ],
            [
             0.5555555555555556,
             "#d8576b"
            ],
            [
             0.6666666666666666,
             "#ed7953"
            ],
            [
             0.7777777777777778,
             "#fb9f3a"
            ],
            [
             0.8888888888888888,
             "#fdca26"
            ],
            [
             1,
             "#f0f921"
            ]
           ],
           "sequentialminus": [
            [
             0,
             "#0d0887"
            ],
            [
             0.1111111111111111,
             "#46039f"
            ],
            [
             0.2222222222222222,
             "#7201a8"
            ],
            [
             0.3333333333333333,
             "#9c179e"
            ],
            [
             0.4444444444444444,
             "#bd3786"
            ],
            [
             0.5555555555555556,
             "#d8576b"
            ],
            [
             0.6666666666666666,
             "#ed7953"
            ],
            [
             0.7777777777777778,
             "#fb9f3a"
            ],
            [
             0.8888888888888888,
             "#fdca26"
            ],
            [
             1,
             "#f0f921"
            ]
           ]
          },
          "colorway": [
           "#636efa",
           "#EF553B",
           "#00cc96",
           "#ab63fa",
           "#FFA15A",
           "#19d3f3",
           "#FF6692",
           "#B6E880",
           "#FF97FF",
           "#FECB52"
          ],
          "font": {
           "color": "#2a3f5f"
          },
          "geo": {
           "bgcolor": "white",
           "lakecolor": "white",
           "landcolor": "#E5ECF6",
           "showlakes": true,
           "showland": true,
           "subunitcolor": "white"
          },
          "hoverlabel": {
           "align": "left"
          },
          "hovermode": "closest",
          "mapbox": {
           "style": "light"
          },
          "paper_bgcolor": "white",
          "plot_bgcolor": "#E5ECF6",
          "polar": {
           "angularaxis": {
            "gridcolor": "white",
            "linecolor": "white",
            "ticks": ""
           },
           "bgcolor": "#E5ECF6",
           "radialaxis": {
            "gridcolor": "white",
            "linecolor": "white",
            "ticks": ""
           }
          },
          "scene": {
           "xaxis": {
            "backgroundcolor": "#E5ECF6",
            "gridcolor": "white",
            "gridwidth": 2,
            "linecolor": "white",
            "showbackground": true,
            "ticks": "",
            "zerolinecolor": "white"
           },
           "yaxis": {
            "backgroundcolor": "#E5ECF6",
            "gridcolor": "white",
            "gridwidth": 2,
            "linecolor": "white",
            "showbackground": true,
            "ticks": "",
            "zerolinecolor": "white"
           },
           "zaxis": {
            "backgroundcolor": "#E5ECF6",
            "gridcolor": "white",
            "gridwidth": 2,
            "linecolor": "white",
            "showbackground": true,
            "ticks": "",
            "zerolinecolor": "white"
           }
          },
          "shapedefaults": {
           "line": {
            "color": "#2a3f5f"
           }
          },
          "ternary": {
           "aaxis": {
            "gridcolor": "white",
            "linecolor": "white",
            "ticks": ""
           },
           "baxis": {
            "gridcolor": "white",
            "linecolor": "white",
            "ticks": ""
           },
           "bgcolor": "#E5ECF6",
           "caxis": {
            "gridcolor": "white",
            "linecolor": "white",
            "ticks": ""
           }
          },
          "title": {
           "x": 0.05
          },
          "xaxis": {
           "automargin": true,
           "gridcolor": "white",
           "linecolor": "white",
           "ticks": "",
           "title": {
            "standoff": 15
           },
           "zerolinecolor": "white",
           "zerolinewidth": 2
          },
          "yaxis": {
           "automargin": true,
           "gridcolor": "white",
           "linecolor": "white",
           "ticks": "",
           "title": {
            "standoff": 15
           },
           "zerolinecolor": "white",
           "zerolinewidth": 2
          }
         }
        },
        "title": {
         "font": {
          "color": "#4D5663"
         },
         "text": "Texas: Weekly Deaths"
        },
        "xaxis": {
         "gridcolor": "#E1E5ED",
         "showgrid": true,
         "tickfont": {
          "color": "#4D5663"
         },
         "title": {
          "font": {
           "color": "#4D5663"
          },
          "text": ""
         },
         "zerolinecolor": "#E1E5ED"
        },
        "yaxis": {
         "gridcolor": "#E1E5ED",
         "showgrid": true,
         "tickfont": {
          "color": "#4D5663"
         },
         "title": {
          "font": {
           "color": "#4D5663"
          },
          "text": ""
         },
         "zerolinecolor": "#E1E5ED"
        }
       }
      },
      "text/html": [
       "<div>                            <div id=\"3fc576a6-9312-42ae-9c05-3448d56c035e\" class=\"plotly-graph-div\" style=\"height:525px; width:100%;\"></div>            <script type=\"text/javascript\">                require([\"plotly\"], function(Plotly) {                    window.PLOTLYENV=window.PLOTLYENV || {};\n",
       "                    window.PLOTLYENV.BASE_URL='https://plot.ly';                                    if (document.getElementById(\"3fc576a6-9312-42ae-9c05-3448d56c035e\")) {                    Plotly.newPlot(                        \"3fc576a6-9312-42ae-9c05-3448d56c035e\",                        [{\"line\": {\"color\": \"rgba(255, 153, 51, 1.0)\", \"dash\": \"solid\", \"shape\": \"linear\", \"width\": 1.3}, \"mode\": \"lines\", \"name\": \"TX\", \"text\": \"\", \"type\": \"scatter\", \"x\": [\"cases_week_1\", \"cases_week_2\", \"cases_week_3\", \"cases_week_4\", \"cases_week_5\", \"cases_week_6\", \"cases_week_7\", \"cases_week_8\", \"cases_week_9\", \"cases_week_10\", \"cases_week_11\", \"cases_week_12\", \"cases_week_13\", \"cases_week_14\", \"cases_week_15\", \"cases_week_16\", \"cases_week_17\", \"cases_week_18\", \"cases_week_19\", \"cases_week_20\", \"cases_week_21\", \"cases_week_22\", \"cases_week_23\", \"cases_week_24\", \"cases_week_25\", \"cases_week_26\", \"cases_week_27\", \"cases_week_28\", \"cases_week_29\", \"cases_week_30\", \"cases_week_31\", \"cases_week_32\", \"cases_week_33\", \"cases_week_34\", \"cases_week_35\", \"cases_week_36\", \"cases_week_37\", \"cases_week_38\", \"cases_week_39\", \"cases_week_40\", \"cases_week_41\", \"cases_week_42\", \"cases_week_43\", \"cases_week_44\", \"cases_week_45\", \"cases_week_46\", \"cases_week_47\", \"cases_week_48\", \"cases_week_49\", \"cases_week_50\", \"cases_week_51\", \"cases_week_52\", \"cases_week_53\", \"cases_week_54\", \"cases_week_55\", \"cases_week_56\", \"cases_week_57\", \"cases_week_58\", \"cases_week_59\", \"cases_week_60\"], \"y\": [0, 0, 0, 0, 0, 0, 0, 6, 49, 180, 559, 723, 1097, 902, 1198, 1192, 1311, 977, 882, 847, 793, 998, 1165, 1462, 3236, 4343, 13168, 7589, 7650, 8347, 7093, 5975, 5056, 4105, 3576, 3365, 2661, 2764, 2468, 2641, 3084, 3535, 4413, 5541, 3889, 6696, 6997, 3208, 4075, 7492, 10667, 11590, 12422, 11443, 11377, 9909, 4725, 8429, 7562, 5720]}],                        {\"legend\": {\"bgcolor\": \"#F5F6F9\", \"font\": {\"color\": \"#4D5663\"}}, \"paper_bgcolor\": \"#F5F6F9\", \"plot_bgcolor\": \"#F5F6F9\", \"template\": {\"data\": {\"bar\": [{\"error_x\": {\"color\": \"#2a3f5f\"}, \"error_y\": {\"color\": \"#2a3f5f\"}, \"marker\": {\"line\": {\"color\": \"#E5ECF6\", \"width\": 0.5}}, \"type\": \"bar\"}], \"barpolar\": [{\"marker\": {\"line\": {\"color\": \"#E5ECF6\", \"width\": 0.5}}, \"type\": \"barpolar\"}], \"carpet\": [{\"aaxis\": {\"endlinecolor\": \"#2a3f5f\", \"gridcolor\": \"white\", \"linecolor\": \"white\", \"minorgridcolor\": \"white\", \"startlinecolor\": \"#2a3f5f\"}, \"baxis\": {\"endlinecolor\": \"#2a3f5f\", \"gridcolor\": \"white\", \"linecolor\": \"white\", \"minorgridcolor\": \"white\", \"startlinecolor\": \"#2a3f5f\"}, \"type\": \"carpet\"}], \"choropleth\": [{\"colorbar\": {\"outlinewidth\": 0, \"ticks\": \"\"}, \"type\": \"choropleth\"}], \"contour\": [{\"colorbar\": {\"outlinewidth\": 0, \"ticks\": \"\"}, \"colorscale\": [[0.0, \"#0d0887\"], [0.1111111111111111, \"#46039f\"], [0.2222222222222222, \"#7201a8\"], [0.3333333333333333, \"#9c179e\"], [0.4444444444444444, \"#bd3786\"], [0.5555555555555556, \"#d8576b\"], [0.6666666666666666, \"#ed7953\"], [0.7777777777777778, \"#fb9f3a\"], [0.8888888888888888, \"#fdca26\"], [1.0, \"#f0f921\"]], \"type\": \"contour\"}], \"contourcarpet\": [{\"colorbar\": {\"outlinewidth\": 0, \"ticks\": \"\"}, \"type\": \"contourcarpet\"}], \"heatmap\": [{\"colorbar\": {\"outlinewidth\": 0, \"ticks\": \"\"}, \"colorscale\": [[0.0, \"#0d0887\"], [0.1111111111111111, \"#46039f\"], [0.2222222222222222, \"#7201a8\"], [0.3333333333333333, \"#9c179e\"], [0.4444444444444444, \"#bd3786\"], [0.5555555555555556, \"#d8576b\"], [0.6666666666666666, \"#ed7953\"], [0.7777777777777778, \"#fb9f3a\"], [0.8888888888888888, \"#fdca26\"], [1.0, \"#f0f921\"]], \"type\": \"heatmap\"}], \"heatmapgl\": [{\"colorbar\": {\"outlinewidth\": 0, \"ticks\": \"\"}, \"colorscale\": [[0.0, \"#0d0887\"], [0.1111111111111111, \"#46039f\"], [0.2222222222222222, \"#7201a8\"], [0.3333333333333333, \"#9c179e\"], [0.4444444444444444, \"#bd3786\"], [0.5555555555555556, \"#d8576b\"], [0.6666666666666666, \"#ed7953\"], [0.7777777777777778, \"#fb9f3a\"], [0.8888888888888888, \"#fdca26\"], [1.0, \"#f0f921\"]], \"type\": \"heatmapgl\"}], \"histogram\": [{\"marker\": {\"colorbar\": {\"outlinewidth\": 0, \"ticks\": \"\"}}, \"type\": \"histogram\"}], \"histogram2d\": [{\"colorbar\": {\"outlinewidth\": 0, \"ticks\": \"\"}, \"colorscale\": [[0.0, \"#0d0887\"], [0.1111111111111111, \"#46039f\"], [0.2222222222222222, \"#7201a8\"], [0.3333333333333333, \"#9c179e\"], [0.4444444444444444, \"#bd3786\"], [0.5555555555555556, \"#d8576b\"], [0.6666666666666666, \"#ed7953\"], [0.7777777777777778, \"#fb9f3a\"], [0.8888888888888888, \"#fdca26\"], [1.0, \"#f0f921\"]], \"type\": \"histogram2d\"}], \"histogram2dcontour\": [{\"colorbar\": {\"outlinewidth\": 0, \"ticks\": \"\"}, \"colorscale\": [[0.0, \"#0d0887\"], [0.1111111111111111, \"#46039f\"], [0.2222222222222222, \"#7201a8\"], [0.3333333333333333, \"#9c179e\"], [0.4444444444444444, \"#bd3786\"], [0.5555555555555556, \"#d8576b\"], [0.6666666666666666, \"#ed7953\"], [0.7777777777777778, \"#fb9f3a\"], [0.8888888888888888, \"#fdca26\"], [1.0, \"#f0f921\"]], \"type\": \"histogram2dcontour\"}], \"mesh3d\": [{\"colorbar\": {\"outlinewidth\": 0, \"ticks\": \"\"}, \"type\": \"mesh3d\"}], \"parcoords\": [{\"line\": {\"colorbar\": {\"outlinewidth\": 0, \"ticks\": \"\"}}, \"type\": \"parcoords\"}], \"pie\": [{\"automargin\": true, \"type\": \"pie\"}], \"scatter\": [{\"marker\": {\"colorbar\": {\"outlinewidth\": 0, \"ticks\": \"\"}}, \"type\": \"scatter\"}], \"scatter3d\": [{\"line\": {\"colorbar\": {\"outlinewidth\": 0, \"ticks\": \"\"}}, \"marker\": {\"colorbar\": {\"outlinewidth\": 0, \"ticks\": \"\"}}, \"type\": \"scatter3d\"}], \"scattercarpet\": [{\"marker\": {\"colorbar\": {\"outlinewidth\": 0, \"ticks\": \"\"}}, \"type\": \"scattercarpet\"}], \"scattergeo\": [{\"marker\": {\"colorbar\": {\"outlinewidth\": 0, \"ticks\": \"\"}}, \"type\": \"scattergeo\"}], \"scattergl\": [{\"marker\": {\"colorbar\": {\"outlinewidth\": 0, \"ticks\": \"\"}}, \"type\": \"scattergl\"}], \"scattermapbox\": [{\"marker\": {\"colorbar\": {\"outlinewidth\": 0, \"ticks\": \"\"}}, \"type\": \"scattermapbox\"}], \"scatterpolar\": [{\"marker\": {\"colorbar\": {\"outlinewidth\": 0, \"ticks\": \"\"}}, \"type\": \"scatterpolar\"}], \"scatterpolargl\": [{\"marker\": {\"colorbar\": {\"outlinewidth\": 0, \"ticks\": \"\"}}, \"type\": \"scatterpolargl\"}], \"scatterternary\": [{\"marker\": {\"colorbar\": {\"outlinewidth\": 0, \"ticks\": \"\"}}, \"type\": \"scatterternary\"}], \"surface\": [{\"colorbar\": {\"outlinewidth\": 0, \"ticks\": \"\"}, \"colorscale\": [[0.0, \"#0d0887\"], [0.1111111111111111, \"#46039f\"], [0.2222222222222222, \"#7201a8\"], [0.3333333333333333, \"#9c179e\"], [0.4444444444444444, \"#bd3786\"], [0.5555555555555556, \"#d8576b\"], [0.6666666666666666, \"#ed7953\"], [0.7777777777777778, \"#fb9f3a\"], [0.8888888888888888, \"#fdca26\"], [1.0, \"#f0f921\"]], \"type\": \"surface\"}], \"table\": [{\"cells\": {\"fill\": {\"color\": \"#EBF0F8\"}, \"line\": {\"color\": \"white\"}}, \"header\": {\"fill\": {\"color\": \"#C8D4E3\"}, \"line\": {\"color\": \"white\"}}, \"type\": \"table\"}]}, \"layout\": {\"annotationdefaults\": {\"arrowcolor\": \"#2a3f5f\", \"arrowhead\": 0, \"arrowwidth\": 1}, \"autotypenumbers\": \"strict\", \"coloraxis\": {\"colorbar\": {\"outlinewidth\": 0, \"ticks\": \"\"}}, \"colorscale\": {\"diverging\": [[0, \"#8e0152\"], [0.1, \"#c51b7d\"], [0.2, \"#de77ae\"], [0.3, \"#f1b6da\"], [0.4, \"#fde0ef\"], [0.5, \"#f7f7f7\"], [0.6, \"#e6f5d0\"], [0.7, \"#b8e186\"], [0.8, \"#7fbc41\"], [0.9, \"#4d9221\"], [1, \"#276419\"]], \"sequential\": [[0.0, \"#0d0887\"], [0.1111111111111111, \"#46039f\"], [0.2222222222222222, \"#7201a8\"], [0.3333333333333333, \"#9c179e\"], [0.4444444444444444, \"#bd3786\"], [0.5555555555555556, \"#d8576b\"], [0.6666666666666666, \"#ed7953\"], [0.7777777777777778, \"#fb9f3a\"], [0.8888888888888888, \"#fdca26\"], [1.0, \"#f0f921\"]], \"sequentialminus\": [[0.0, \"#0d0887\"], [0.1111111111111111, \"#46039f\"], [0.2222222222222222, \"#7201a8\"], [0.3333333333333333, \"#9c179e\"], [0.4444444444444444, \"#bd3786\"], [0.5555555555555556, \"#d8576b\"], [0.6666666666666666, \"#ed7953\"], [0.7777777777777778, \"#fb9f3a\"], [0.8888888888888888, \"#fdca26\"], [1.0, \"#f0f921\"]]}, \"colorway\": [\"#636efa\", \"#EF553B\", \"#00cc96\", \"#ab63fa\", \"#FFA15A\", \"#19d3f3\", \"#FF6692\", \"#B6E880\", \"#FF97FF\", \"#FECB52\"], \"font\": {\"color\": \"#2a3f5f\"}, \"geo\": {\"bgcolor\": \"white\", \"lakecolor\": \"white\", \"landcolor\": \"#E5ECF6\", \"showlakes\": true, \"showland\": true, \"subunitcolor\": \"white\"}, \"hoverlabel\": {\"align\": \"left\"}, \"hovermode\": \"closest\", \"mapbox\": {\"style\": \"light\"}, \"paper_bgcolor\": \"white\", \"plot_bgcolor\": \"#E5ECF6\", \"polar\": {\"angularaxis\": {\"gridcolor\": \"white\", \"linecolor\": \"white\", \"ticks\": \"\"}, \"bgcolor\": \"#E5ECF6\", \"radialaxis\": {\"gridcolor\": \"white\", \"linecolor\": \"white\", \"ticks\": \"\"}}, \"scene\": {\"xaxis\": {\"backgroundcolor\": \"#E5ECF6\", \"gridcolor\": \"white\", \"gridwidth\": 2, \"linecolor\": \"white\", \"showbackground\": true, \"ticks\": \"\", \"zerolinecolor\": \"white\"}, \"yaxis\": {\"backgroundcolor\": \"#E5ECF6\", \"gridcolor\": \"white\", \"gridwidth\": 2, \"linecolor\": \"white\", \"showbackground\": true, \"ticks\": \"\", \"zerolinecolor\": \"white\"}, \"zaxis\": {\"backgroundcolor\": \"#E5ECF6\", \"gridcolor\": \"white\", \"gridwidth\": 2, \"linecolor\": \"white\", \"showbackground\": true, \"ticks\": \"\", \"zerolinecolor\": \"white\"}}, \"shapedefaults\": {\"line\": {\"color\": \"#2a3f5f\"}}, \"ternary\": {\"aaxis\": {\"gridcolor\": \"white\", \"linecolor\": \"white\", \"ticks\": \"\"}, \"baxis\": {\"gridcolor\": \"white\", \"linecolor\": \"white\", \"ticks\": \"\"}, \"bgcolor\": \"#E5ECF6\", \"caxis\": {\"gridcolor\": \"white\", \"linecolor\": \"white\", \"ticks\": \"\"}}, \"title\": {\"x\": 0.05}, \"xaxis\": {\"automargin\": true, \"gridcolor\": \"white\", \"linecolor\": \"white\", \"ticks\": \"\", \"title\": {\"standoff\": 15}, \"zerolinecolor\": \"white\", \"zerolinewidth\": 2}, \"yaxis\": {\"automargin\": true, \"gridcolor\": \"white\", \"linecolor\": \"white\", \"ticks\": \"\", \"title\": {\"standoff\": 15}, \"zerolinecolor\": \"white\", \"zerolinewidth\": 2}}}, \"title\": {\"font\": {\"color\": \"#4D5663\"}, \"text\": \"Texas: Weekly Deaths\"}, \"xaxis\": {\"gridcolor\": \"#E1E5ED\", \"showgrid\": true, \"tickfont\": {\"color\": \"#4D5663\"}, \"title\": {\"font\": {\"color\": \"#4D5663\"}, \"text\": \"\"}, \"zerolinecolor\": \"#E1E5ED\"}, \"yaxis\": {\"gridcolor\": \"#E1E5ED\", \"showgrid\": true, \"tickfont\": {\"color\": \"#4D5663\"}, \"title\": {\"font\": {\"color\": \"#4D5663\"}, \"text\": \"\"}, \"zerolinecolor\": \"#E1E5ED\"}},                        {\"showLink\": true, \"linkText\": \"Export to plot.ly\", \"plotlyServerURL\": \"https://plot.ly\", \"responsive\": true}                    ).then(function(){\n",
       "                            \n",
       "var gd = document.getElementById('3fc576a6-9312-42ae-9c05-3448d56c035e');\n",
       "var x = new MutationObserver(function (mutations, observer) {{\n",
       "        var display = window.getComputedStyle(gd).display;\n",
       "        if (!display || display === 'none') {{\n",
       "            console.log([gd, 'removed!']);\n",
       "            Plotly.purge(gd);\n",
       "            observer.disconnect();\n",
       "        }}\n",
       "}});\n",
       "\n",
       "// Listen for the removal of the full notebook cells\n",
       "var notebookContainer = gd.closest('#notebook-container');\n",
       "if (notebookContainer) {{\n",
       "    x.observe(notebookContainer, {childList: true});\n",
       "}}\n",
       "\n",
       "// Listen for the clearing of the current output cell\n",
       "var outputEl = gd.closest('.output');\n",
       "if (outputEl) {{\n",
       "    x.observe(outputEl, {childList: true});\n",
       "}}\n",
       "\n",
       "                        })                };                });            </script>        </div>"
      ]
     },
     "metadata": {},
     "output_type": "display_data"
    }
   ],
   "source": [
    "TexasDailyDeathsTotal = TexasWeelyDeathsFin.groupby(['State']).sum()\n",
    "TexasDailyDeathsTotal.drop(['countyFIPS', 'StateFIPS', 'population'], axis=1, inplace=True)\n",
    "tfff = TexasDailyDeathsTotal.T\n",
    "tfff.iplot(kind='scatter', title='Texas: Weekly Deaths')"
   ]
  },
  {
   "cell_type": "code",
   "execution_count": 25,
   "metadata": {},
   "outputs": [
    {
     "data": {
      "application/vnd.plotly.v1+json": {
       "config": {
        "plotlyServerURL": "https://plot.ly"
       },
       "data": [
        {
         "alignmentgroup": "True",
         "bingroup": "x",
         "hovertemplate": "variable=0<br>value=%{x}<br>count=%{y}<extra></extra>",
         "legendgroup": "0",
         "marker": {
          "color": "#636efa"
         },
         "name": "0",
         "offsetgroup": "0",
         "orientation": "v",
         "showlegend": true,
         "type": "histogram",
         "x": [
          32613.97862232779,
          26011.05700712589,
          21125.242280285034,
          20254.990498812353,
          6614.33729216152
         ],
         "xaxis": "x",
         "yaxis": "y"
        }
       ],
       "layout": {
        "barmode": "relative",
        "legend": {
         "title": {
          "text": "variable"
         },
         "tracegroupgap": 0
        },
        "margin": {
         "t": 60
        },
        "template": {
         "data": {
          "bar": [
           {
            "error_x": {
             "color": "#2a3f5f"
            },
            "error_y": {
             "color": "#2a3f5f"
            },
            "marker": {
             "line": {
              "color": "#E5ECF6",
              "width": 0.5
             }
            },
            "type": "bar"
           }
          ],
          "barpolar": [
           {
            "marker": {
             "line": {
              "color": "#E5ECF6",
              "width": 0.5
             }
            },
            "type": "barpolar"
           }
          ],
          "carpet": [
           {
            "aaxis": {
             "endlinecolor": "#2a3f5f",
             "gridcolor": "white",
             "linecolor": "white",
             "minorgridcolor": "white",
             "startlinecolor": "#2a3f5f"
            },
            "baxis": {
             "endlinecolor": "#2a3f5f",
             "gridcolor": "white",
             "linecolor": "white",
             "minorgridcolor": "white",
             "startlinecolor": "#2a3f5f"
            },
            "type": "carpet"
           }
          ],
          "choropleth": [
           {
            "colorbar": {
             "outlinewidth": 0,
             "ticks": ""
            },
            "type": "choropleth"
           }
          ],
          "contour": [
           {
            "colorbar": {
             "outlinewidth": 0,
             "ticks": ""
            },
            "colorscale": [
             [
              0,
              "#0d0887"
             ],
             [
              0.1111111111111111,
              "#46039f"
             ],
             [
              0.2222222222222222,
              "#7201a8"
             ],
             [
              0.3333333333333333,
              "#9c179e"
             ],
             [
              0.4444444444444444,
              "#bd3786"
             ],
             [
              0.5555555555555556,
              "#d8576b"
             ],
             [
              0.6666666666666666,
              "#ed7953"
             ],
             [
              0.7777777777777778,
              "#fb9f3a"
             ],
             [
              0.8888888888888888,
              "#fdca26"
             ],
             [
              1,
              "#f0f921"
             ]
            ],
            "type": "contour"
           }
          ],
          "contourcarpet": [
           {
            "colorbar": {
             "outlinewidth": 0,
             "ticks": ""
            },
            "type": "contourcarpet"
           }
          ],
          "heatmap": [
           {
            "colorbar": {
             "outlinewidth": 0,
             "ticks": ""
            },
            "colorscale": [
             [
              0,
              "#0d0887"
             ],
             [
              0.1111111111111111,
              "#46039f"
             ],
             [
              0.2222222222222222,
              "#7201a8"
             ],
             [
              0.3333333333333333,
              "#9c179e"
             ],
             [
              0.4444444444444444,
              "#bd3786"
             ],
             [
              0.5555555555555556,
              "#d8576b"
             ],
             [
              0.6666666666666666,
              "#ed7953"
             ],
             [
              0.7777777777777778,
              "#fb9f3a"
             ],
             [
              0.8888888888888888,
              "#fdca26"
             ],
             [
              1,
              "#f0f921"
             ]
            ],
            "type": "heatmap"
           }
          ],
          "heatmapgl": [
           {
            "colorbar": {
             "outlinewidth": 0,
             "ticks": ""
            },
            "colorscale": [
             [
              0,
              "#0d0887"
             ],
             [
              0.1111111111111111,
              "#46039f"
             ],
             [
              0.2222222222222222,
              "#7201a8"
             ],
             [
              0.3333333333333333,
              "#9c179e"
             ],
             [
              0.4444444444444444,
              "#bd3786"
             ],
             [
              0.5555555555555556,
              "#d8576b"
             ],
             [
              0.6666666666666666,
              "#ed7953"
             ],
             [
              0.7777777777777778,
              "#fb9f3a"
             ],
             [
              0.8888888888888888,
              "#fdca26"
             ],
             [
              1,
              "#f0f921"
             ]
            ],
            "type": "heatmapgl"
           }
          ],
          "histogram": [
           {
            "marker": {
             "colorbar": {
              "outlinewidth": 0,
              "ticks": ""
             }
            },
            "type": "histogram"
           }
          ],
          "histogram2d": [
           {
            "colorbar": {
             "outlinewidth": 0,
             "ticks": ""
            },
            "colorscale": [
             [
              0,
              "#0d0887"
             ],
             [
              0.1111111111111111,
              "#46039f"
             ],
             [
              0.2222222222222222,
              "#7201a8"
             ],
             [
              0.3333333333333333,
              "#9c179e"
             ],
             [
              0.4444444444444444,
              "#bd3786"
             ],
             [
              0.5555555555555556,
              "#d8576b"
             ],
             [
              0.6666666666666666,
              "#ed7953"
             ],
             [
              0.7777777777777778,
              "#fb9f3a"
             ],
             [
              0.8888888888888888,
              "#fdca26"
             ],
             [
              1,
              "#f0f921"
             ]
            ],
            "type": "histogram2d"
           }
          ],
          "histogram2dcontour": [
           {
            "colorbar": {
             "outlinewidth": 0,
             "ticks": ""
            },
            "colorscale": [
             [
              0,
              "#0d0887"
             ],
             [
              0.1111111111111111,
              "#46039f"
             ],
             [
              0.2222222222222222,
              "#7201a8"
             ],
             [
              0.3333333333333333,
              "#9c179e"
             ],
             [
              0.4444444444444444,
              "#bd3786"
             ],
             [
              0.5555555555555556,
              "#d8576b"
             ],
             [
              0.6666666666666666,
              "#ed7953"
             ],
             [
              0.7777777777777778,
              "#fb9f3a"
             ],
             [
              0.8888888888888888,
              "#fdca26"
             ],
             [
              1,
              "#f0f921"
             ]
            ],
            "type": "histogram2dcontour"
           }
          ],
          "mesh3d": [
           {
            "colorbar": {
             "outlinewidth": 0,
             "ticks": ""
            },
            "type": "mesh3d"
           }
          ],
          "parcoords": [
           {
            "line": {
             "colorbar": {
              "outlinewidth": 0,
              "ticks": ""
             }
            },
            "type": "parcoords"
           }
          ],
          "pie": [
           {
            "automargin": true,
            "type": "pie"
           }
          ],
          "scatter": [
           {
            "marker": {
             "colorbar": {
              "outlinewidth": 0,
              "ticks": ""
             }
            },
            "type": "scatter"
           }
          ],
          "scatter3d": [
           {
            "line": {
             "colorbar": {
              "outlinewidth": 0,
              "ticks": ""
             }
            },
            "marker": {
             "colorbar": {
              "outlinewidth": 0,
              "ticks": ""
             }
            },
            "type": "scatter3d"
           }
          ],
          "scattercarpet": [
           {
            "marker": {
             "colorbar": {
              "outlinewidth": 0,
              "ticks": ""
             }
            },
            "type": "scattercarpet"
           }
          ],
          "scattergeo": [
           {
            "marker": {
             "colorbar": {
              "outlinewidth": 0,
              "ticks": ""
             }
            },
            "type": "scattergeo"
           }
          ],
          "scattergl": [
           {
            "marker": {
             "colorbar": {
              "outlinewidth": 0,
              "ticks": ""
             }
            },
            "type": "scattergl"
           }
          ],
          "scattermapbox": [
           {
            "marker": {
             "colorbar": {
              "outlinewidth": 0,
              "ticks": ""
             }
            },
            "type": "scattermapbox"
           }
          ],
          "scatterpolar": [
           {
            "marker": {
             "colorbar": {
              "outlinewidth": 0,
              "ticks": ""
             }
            },
            "type": "scatterpolar"
           }
          ],
          "scatterpolargl": [
           {
            "marker": {
             "colorbar": {
              "outlinewidth": 0,
              "ticks": ""
             }
            },
            "type": "scatterpolargl"
           }
          ],
          "scatterternary": [
           {
            "marker": {
             "colorbar": {
              "outlinewidth": 0,
              "ticks": ""
             }
            },
            "type": "scatterternary"
           }
          ],
          "surface": [
           {
            "colorbar": {
             "outlinewidth": 0,
             "ticks": ""
            },
            "colorscale": [
             [
              0,
              "#0d0887"
             ],
             [
              0.1111111111111111,
              "#46039f"
             ],
             [
              0.2222222222222222,
              "#7201a8"
             ],
             [
              0.3333333333333333,
              "#9c179e"
             ],
             [
              0.4444444444444444,
              "#bd3786"
             ],
             [
              0.5555555555555556,
              "#d8576b"
             ],
             [
              0.6666666666666666,
              "#ed7953"
             ],
             [
              0.7777777777777778,
              "#fb9f3a"
             ],
             [
              0.8888888888888888,
              "#fdca26"
             ],
             [
              1,
              "#f0f921"
             ]
            ],
            "type": "surface"
           }
          ],
          "table": [
           {
            "cells": {
             "fill": {
              "color": "#EBF0F8"
             },
             "line": {
              "color": "white"
             }
            },
            "header": {
             "fill": {
              "color": "#C8D4E3"
             },
             "line": {
              "color": "white"
             }
            },
            "type": "table"
           }
          ]
         },
         "layout": {
          "annotationdefaults": {
           "arrowcolor": "#2a3f5f",
           "arrowhead": 0,
           "arrowwidth": 1
          },
          "autotypenumbers": "strict",
          "coloraxis": {
           "colorbar": {
            "outlinewidth": 0,
            "ticks": ""
           }
          },
          "colorscale": {
           "diverging": [
            [
             0,
             "#8e0152"
            ],
            [
             0.1,
             "#c51b7d"
            ],
            [
             0.2,
             "#de77ae"
            ],
            [
             0.3,
             "#f1b6da"
            ],
            [
             0.4,
             "#fde0ef"
            ],
            [
             0.5,
             "#f7f7f7"
            ],
            [
             0.6,
             "#e6f5d0"
            ],
            [
             0.7,
             "#b8e186"
            ],
            [
             0.8,
             "#7fbc41"
            ],
            [
             0.9,
             "#4d9221"
            ],
            [
             1,
             "#276419"
            ]
           ],
           "sequential": [
            [
             0,
             "#0d0887"
            ],
            [
             0.1111111111111111,
             "#46039f"
            ],
            [
             0.2222222222222222,
             "#7201a8"
            ],
            [
             0.3333333333333333,
             "#9c179e"
            ],
            [
             0.4444444444444444,
             "#bd3786"
            ],
            [
             0.5555555555555556,
             "#d8576b"
            ],
            [
             0.6666666666666666,
             "#ed7953"
            ],
            [
             0.7777777777777778,
             "#fb9f3a"
            ],
            [
             0.8888888888888888,
             "#fdca26"
            ],
            [
             1,
             "#f0f921"
            ]
           ],
           "sequentialminus": [
            [
             0,
             "#0d0887"
            ],
            [
             0.1111111111111111,
             "#46039f"
            ],
            [
             0.2222222222222222,
             "#7201a8"
            ],
            [
             0.3333333333333333,
             "#9c179e"
            ],
            [
             0.4444444444444444,
             "#bd3786"
            ],
            [
             0.5555555555555556,
             "#d8576b"
            ],
            [
             0.6666666666666666,
             "#ed7953"
            ],
            [
             0.7777777777777778,
             "#fb9f3a"
            ],
            [
             0.8888888888888888,
             "#fdca26"
            ],
            [
             1,
             "#f0f921"
            ]
           ]
          },
          "colorway": [
           "#636efa",
           "#EF553B",
           "#00cc96",
           "#ab63fa",
           "#FFA15A",
           "#19d3f3",
           "#FF6692",
           "#B6E880",
           "#FF97FF",
           "#FECB52"
          ],
          "font": {
           "color": "#2a3f5f"
          },
          "geo": {
           "bgcolor": "white",
           "lakecolor": "white",
           "landcolor": "#E5ECF6",
           "showlakes": true,
           "showland": true,
           "subunitcolor": "white"
          },
          "hoverlabel": {
           "align": "left"
          },
          "hovermode": "closest",
          "mapbox": {
           "style": "light"
          },
          "paper_bgcolor": "white",
          "plot_bgcolor": "#E5ECF6",
          "polar": {
           "angularaxis": {
            "gridcolor": "white",
            "linecolor": "white",
            "ticks": ""
           },
           "bgcolor": "#E5ECF6",
           "radialaxis": {
            "gridcolor": "white",
            "linecolor": "white",
            "ticks": ""
           }
          },
          "scene": {
           "xaxis": {
            "backgroundcolor": "#E5ECF6",
            "gridcolor": "white",
            "gridwidth": 2,
            "linecolor": "white",
            "showbackground": true,
            "ticks": "",
            "zerolinecolor": "white"
           },
           "yaxis": {
            "backgroundcolor": "#E5ECF6",
            "gridcolor": "white",
            "gridwidth": 2,
            "linecolor": "white",
            "showbackground": true,
            "ticks": "",
            "zerolinecolor": "white"
           },
           "zaxis": {
            "backgroundcolor": "#E5ECF6",
            "gridcolor": "white",
            "gridwidth": 2,
            "linecolor": "white",
            "showbackground": true,
            "ticks": "",
            "zerolinecolor": "white"
           }
          },
          "shapedefaults": {
           "line": {
            "color": "#2a3f5f"
           }
          },
          "ternary": {
           "aaxis": {
            "gridcolor": "white",
            "linecolor": "white",
            "ticks": ""
           },
           "baxis": {
            "gridcolor": "white",
            "linecolor": "white",
            "ticks": ""
           },
           "bgcolor": "#E5ECF6",
           "caxis": {
            "gridcolor": "white",
            "linecolor": "white",
            "ticks": ""
           }
          },
          "title": {
           "x": 0.05
          },
          "xaxis": {
           "automargin": true,
           "gridcolor": "white",
           "linecolor": "white",
           "ticks": "",
           "title": {
            "standoff": 15
           },
           "zerolinecolor": "white",
           "zerolinewidth": 2
          },
          "yaxis": {
           "automargin": true,
           "gridcolor": "white",
           "linecolor": "white",
           "ticks": "",
           "title": {
            "standoff": 15
           },
           "zerolinecolor": "white",
           "zerolinewidth": 2
          }
         }
        },
        "xaxis": {
         "anchor": "y",
         "domain": [
          0,
          1
         ],
         "title": {
          "text": "value"
         }
        },
        "yaxis": {
         "anchor": "x",
         "domain": [
          0,
          1
         ],
         "title": {
          "text": "count"
         }
        }
       }
      },
      "text/html": [
       "<div>                            <div id=\"162e1a32-b038-49bf-9578-a8f68f2b2995\" class=\"plotly-graph-div\" style=\"height:525px; width:100%;\"></div>            <script type=\"text/javascript\">                require([\"plotly\"], function(Plotly) {                    window.PLOTLYENV=window.PLOTLYENV || {};                                    if (document.getElementById(\"162e1a32-b038-49bf-9578-a8f68f2b2995\")) {                    Plotly.newPlot(                        \"162e1a32-b038-49bf-9578-a8f68f2b2995\",                        [{\"alignmentgroup\": \"True\", \"bingroup\": \"x\", \"hovertemplate\": \"variable=0<br>value=%{x}<br>count=%{y}<extra></extra>\", \"legendgroup\": \"0\", \"marker\": {\"color\": \"#636efa\"}, \"name\": \"0\", \"offsetgroup\": \"0\", \"orientation\": \"v\", \"showlegend\": true, \"type\": \"histogram\", \"x\": [32613.97862232779, 26011.05700712589, 21125.242280285034, 20254.990498812353, 6614.33729216152], \"xaxis\": \"x\", \"yaxis\": \"y\"}],                        {\"barmode\": \"relative\", \"legend\": {\"title\": {\"text\": \"variable\"}, \"tracegroupgap\": 0}, \"margin\": {\"t\": 60}, \"template\": {\"data\": {\"bar\": [{\"error_x\": {\"color\": \"#2a3f5f\"}, \"error_y\": {\"color\": \"#2a3f5f\"}, \"marker\": {\"line\": {\"color\": \"#E5ECF6\", \"width\": 0.5}}, \"type\": \"bar\"}], \"barpolar\": [{\"marker\": {\"line\": {\"color\": \"#E5ECF6\", \"width\": 0.5}}, \"type\": \"barpolar\"}], \"carpet\": [{\"aaxis\": {\"endlinecolor\": \"#2a3f5f\", \"gridcolor\": \"white\", \"linecolor\": \"white\", \"minorgridcolor\": \"white\", \"startlinecolor\": \"#2a3f5f\"}, \"baxis\": {\"endlinecolor\": \"#2a3f5f\", \"gridcolor\": \"white\", \"linecolor\": \"white\", \"minorgridcolor\": \"white\", \"startlinecolor\": \"#2a3f5f\"}, \"type\": \"carpet\"}], \"choropleth\": [{\"colorbar\": {\"outlinewidth\": 0, \"ticks\": \"\"}, \"type\": \"choropleth\"}], \"contour\": [{\"colorbar\": {\"outlinewidth\": 0, \"ticks\": \"\"}, \"colorscale\": [[0.0, \"#0d0887\"], [0.1111111111111111, \"#46039f\"], [0.2222222222222222, \"#7201a8\"], [0.3333333333333333, \"#9c179e\"], [0.4444444444444444, \"#bd3786\"], [0.5555555555555556, \"#d8576b\"], [0.6666666666666666, \"#ed7953\"], [0.7777777777777778, \"#fb9f3a\"], [0.8888888888888888, \"#fdca26\"], [1.0, \"#f0f921\"]], \"type\": \"contour\"}], \"contourcarpet\": [{\"colorbar\": {\"outlinewidth\": 0, \"ticks\": \"\"}, \"type\": \"contourcarpet\"}], \"heatmap\": [{\"colorbar\": {\"outlinewidth\": 0, \"ticks\": \"\"}, \"colorscale\": [[0.0, \"#0d0887\"], [0.1111111111111111, \"#46039f\"], [0.2222222222222222, \"#7201a8\"], [0.3333333333333333, \"#9c179e\"], [0.4444444444444444, \"#bd3786\"], [0.5555555555555556, \"#d8576b\"], [0.6666666666666666, \"#ed7953\"], [0.7777777777777778, \"#fb9f3a\"], [0.8888888888888888, \"#fdca26\"], [1.0, \"#f0f921\"]], \"type\": \"heatmap\"}], \"heatmapgl\": [{\"colorbar\": {\"outlinewidth\": 0, \"ticks\": \"\"}, \"colorscale\": [[0.0, \"#0d0887\"], [0.1111111111111111, \"#46039f\"], [0.2222222222222222, \"#7201a8\"], [0.3333333333333333, \"#9c179e\"], [0.4444444444444444, \"#bd3786\"], [0.5555555555555556, \"#d8576b\"], [0.6666666666666666, \"#ed7953\"], [0.7777777777777778, \"#fb9f3a\"], [0.8888888888888888, \"#fdca26\"], [1.0, \"#f0f921\"]], \"type\": \"heatmapgl\"}], \"histogram\": [{\"marker\": {\"colorbar\": {\"outlinewidth\": 0, \"ticks\": \"\"}}, \"type\": \"histogram\"}], \"histogram2d\": [{\"colorbar\": {\"outlinewidth\": 0, \"ticks\": \"\"}, \"colorscale\": [[0.0, \"#0d0887\"], [0.1111111111111111, \"#46039f\"], [0.2222222222222222, \"#7201a8\"], [0.3333333333333333, \"#9c179e\"], [0.4444444444444444, \"#bd3786\"], [0.5555555555555556, \"#d8576b\"], [0.6666666666666666, \"#ed7953\"], [0.7777777777777778, \"#fb9f3a\"], [0.8888888888888888, \"#fdca26\"], [1.0, \"#f0f921\"]], \"type\": \"histogram2d\"}], \"histogram2dcontour\": [{\"colorbar\": {\"outlinewidth\": 0, \"ticks\": \"\"}, \"colorscale\": [[0.0, \"#0d0887\"], [0.1111111111111111, \"#46039f\"], [0.2222222222222222, \"#7201a8\"], [0.3333333333333333, \"#9c179e\"], [0.4444444444444444, \"#bd3786\"], [0.5555555555555556, \"#d8576b\"], [0.6666666666666666, \"#ed7953\"], [0.7777777777777778, \"#fb9f3a\"], [0.8888888888888888, \"#fdca26\"], [1.0, \"#f0f921\"]], \"type\": \"histogram2dcontour\"}], \"mesh3d\": [{\"colorbar\": {\"outlinewidth\": 0, \"ticks\": \"\"}, \"type\": \"mesh3d\"}], \"parcoords\": [{\"line\": {\"colorbar\": {\"outlinewidth\": 0, \"ticks\": \"\"}}, \"type\": \"parcoords\"}], \"pie\": [{\"automargin\": true, \"type\": \"pie\"}], \"scatter\": [{\"marker\": {\"colorbar\": {\"outlinewidth\": 0, \"ticks\": \"\"}}, \"type\": \"scatter\"}], \"scatter3d\": [{\"line\": {\"colorbar\": {\"outlinewidth\": 0, \"ticks\": \"\"}}, \"marker\": {\"colorbar\": {\"outlinewidth\": 0, \"ticks\": \"\"}}, \"type\": \"scatter3d\"}], \"scattercarpet\": [{\"marker\": {\"colorbar\": {\"outlinewidth\": 0, \"ticks\": \"\"}}, \"type\": \"scattercarpet\"}], \"scattergeo\": [{\"marker\": {\"colorbar\": {\"outlinewidth\": 0, \"ticks\": \"\"}}, \"type\": \"scattergeo\"}], \"scattergl\": [{\"marker\": {\"colorbar\": {\"outlinewidth\": 0, \"ticks\": \"\"}}, \"type\": \"scattergl\"}], \"scattermapbox\": [{\"marker\": {\"colorbar\": {\"outlinewidth\": 0, \"ticks\": \"\"}}, \"type\": \"scattermapbox\"}], \"scatterpolar\": [{\"marker\": {\"colorbar\": {\"outlinewidth\": 0, \"ticks\": \"\"}}, \"type\": \"scatterpolar\"}], \"scatterpolargl\": [{\"marker\": {\"colorbar\": {\"outlinewidth\": 0, \"ticks\": \"\"}}, \"type\": \"scatterpolargl\"}], \"scatterternary\": [{\"marker\": {\"colorbar\": {\"outlinewidth\": 0, \"ticks\": \"\"}}, \"type\": \"scatterternary\"}], \"surface\": [{\"colorbar\": {\"outlinewidth\": 0, \"ticks\": \"\"}, \"colorscale\": [[0.0, \"#0d0887\"], [0.1111111111111111, \"#46039f\"], [0.2222222222222222, \"#7201a8\"], [0.3333333333333333, \"#9c179e\"], [0.4444444444444444, \"#bd3786\"], [0.5555555555555556, \"#d8576b\"], [0.6666666666666666, \"#ed7953\"], [0.7777777777777778, \"#fb9f3a\"], [0.8888888888888888, \"#fdca26\"], [1.0, \"#f0f921\"]], \"type\": \"surface\"}], \"table\": [{\"cells\": {\"fill\": {\"color\": \"#EBF0F8\"}, \"line\": {\"color\": \"white\"}}, \"header\": {\"fill\": {\"color\": \"#C8D4E3\"}, \"line\": {\"color\": \"white\"}}, \"type\": \"table\"}]}, \"layout\": {\"annotationdefaults\": {\"arrowcolor\": \"#2a3f5f\", \"arrowhead\": 0, \"arrowwidth\": 1}, \"autotypenumbers\": \"strict\", \"coloraxis\": {\"colorbar\": {\"outlinewidth\": 0, \"ticks\": \"\"}}, \"colorscale\": {\"diverging\": [[0, \"#8e0152\"], [0.1, \"#c51b7d\"], [0.2, \"#de77ae\"], [0.3, \"#f1b6da\"], [0.4, \"#fde0ef\"], [0.5, \"#f7f7f7\"], [0.6, \"#e6f5d0\"], [0.7, \"#b8e186\"], [0.8, \"#7fbc41\"], [0.9, \"#4d9221\"], [1, \"#276419\"]], \"sequential\": [[0.0, \"#0d0887\"], [0.1111111111111111, \"#46039f\"], [0.2222222222222222, \"#7201a8\"], [0.3333333333333333, \"#9c179e\"], [0.4444444444444444, \"#bd3786\"], [0.5555555555555556, \"#d8576b\"], [0.6666666666666666, \"#ed7953\"], [0.7777777777777778, \"#fb9f3a\"], [0.8888888888888888, \"#fdca26\"], [1.0, \"#f0f921\"]], \"sequentialminus\": [[0.0, \"#0d0887\"], [0.1111111111111111, \"#46039f\"], [0.2222222222222222, \"#7201a8\"], [0.3333333333333333, \"#9c179e\"], [0.4444444444444444, \"#bd3786\"], [0.5555555555555556, \"#d8576b\"], [0.6666666666666666, \"#ed7953\"], [0.7777777777777778, \"#fb9f3a\"], [0.8888888888888888, \"#fdca26\"], [1.0, \"#f0f921\"]]}, \"colorway\": [\"#636efa\", \"#EF553B\", \"#00cc96\", \"#ab63fa\", \"#FFA15A\", \"#19d3f3\", \"#FF6692\", \"#B6E880\", \"#FF97FF\", \"#FECB52\"], \"font\": {\"color\": \"#2a3f5f\"}, \"geo\": {\"bgcolor\": \"white\", \"lakecolor\": \"white\", \"landcolor\": \"#E5ECF6\", \"showlakes\": true, \"showland\": true, \"subunitcolor\": \"white\"}, \"hoverlabel\": {\"align\": \"left\"}, \"hovermode\": \"closest\", \"mapbox\": {\"style\": \"light\"}, \"paper_bgcolor\": \"white\", \"plot_bgcolor\": \"#E5ECF6\", \"polar\": {\"angularaxis\": {\"gridcolor\": \"white\", \"linecolor\": \"white\", \"ticks\": \"\"}, \"bgcolor\": \"#E5ECF6\", \"radialaxis\": {\"gridcolor\": \"white\", \"linecolor\": \"white\", \"ticks\": \"\"}}, \"scene\": {\"xaxis\": {\"backgroundcolor\": \"#E5ECF6\", \"gridcolor\": \"white\", \"gridwidth\": 2, \"linecolor\": \"white\", \"showbackground\": true, \"ticks\": \"\", \"zerolinecolor\": \"white\"}, \"yaxis\": {\"backgroundcolor\": \"#E5ECF6\", \"gridcolor\": \"white\", \"gridwidth\": 2, \"linecolor\": \"white\", \"showbackground\": true, \"ticks\": \"\", \"zerolinecolor\": \"white\"}, \"zaxis\": {\"backgroundcolor\": \"#E5ECF6\", \"gridcolor\": \"white\", \"gridwidth\": 2, \"linecolor\": \"white\", \"showbackground\": true, \"ticks\": \"\", \"zerolinecolor\": \"white\"}}, \"shapedefaults\": {\"line\": {\"color\": \"#2a3f5f\"}}, \"ternary\": {\"aaxis\": {\"gridcolor\": \"white\", \"linecolor\": \"white\", \"ticks\": \"\"}, \"baxis\": {\"gridcolor\": \"white\", \"linecolor\": \"white\", \"ticks\": \"\"}, \"bgcolor\": \"#E5ECF6\", \"caxis\": {\"gridcolor\": \"white\", \"linecolor\": \"white\", \"ticks\": \"\"}}, \"title\": {\"x\": 0.05}, \"xaxis\": {\"automargin\": true, \"gridcolor\": \"white\", \"linecolor\": \"white\", \"ticks\": \"\", \"title\": {\"standoff\": 15}, \"zerolinecolor\": \"white\", \"zerolinewidth\": 2}, \"yaxis\": {\"automargin\": true, \"gridcolor\": \"white\", \"linecolor\": \"white\", \"ticks\": \"\", \"title\": {\"standoff\": 15}, \"zerolinecolor\": \"white\", \"zerolinewidth\": 2}}}, \"xaxis\": {\"anchor\": \"y\", \"domain\": [0.0, 1.0], \"title\": {\"text\": \"value\"}}, \"yaxis\": {\"anchor\": \"x\", \"domain\": [0.0, 1.0], \"title\": {\"text\": \"count\"}}},                        {\"responsive\": true}                    ).then(function(){\n",
       "                            \n",
       "var gd = document.getElementById('162e1a32-b038-49bf-9578-a8f68f2b2995');\n",
       "var x = new MutationObserver(function (mutations, observer) {{\n",
       "        var display = window.getComputedStyle(gd).display;\n",
       "        if (!display || display === 'none') {{\n",
       "            console.log([gd, 'removed!']);\n",
       "            Plotly.purge(gd);\n",
       "            observer.disconnect();\n",
       "        }}\n",
       "}});\n",
       "\n",
       "// Listen for the removal of the full notebook cells\n",
       "var notebookContainer = gd.closest('#notebook-container');\n",
       "if (notebookContainer) {{\n",
       "    x.observe(notebookContainer, {childList: true});\n",
       "}}\n",
       "\n",
       "// Listen for the clearing of the current output cell\n",
       "var outputEl = gd.closest('.output');\n",
       "if (outputEl) {{\n",
       "    x.observe(outputEl, {childList: true});\n",
       "}}\n",
       "\n",
       "                        })                };                });            </script>        </div>"
      ]
     },
     "metadata": {},
     "output_type": "display_data"
    }
   ],
   "source": [
    "px.histogram(TDCSF.mean(axis=1))"
   ]
  },
  {
   "cell_type": "code",
   "execution_count": 26,
   "metadata": {},
   "outputs": [
    {
     "data": {
      "application/vnd.plotly.v1+json": {
       "config": {
        "plotlyServerURL": "https://plot.ly"
       },
       "data": [
        {
         "alignmentgroup": "True",
         "bingroup": "x",
         "hovertemplate": "variable=0<br>value=%{x}<br>count=%{y}<extra></extra>",
         "legendgroup": "0",
         "marker": {
          "color": "#636efa"
         },
         "name": "0",
         "offsetgroup": "0",
         "orientation": "v",
         "showlegend": true,
         "type": "histogram",
         "x": [
          492.5368171021378,
          338.3349168646081,
          239.3254156769596,
          290.5914489311164,
          81.50593824228028
         ],
         "xaxis": "x",
         "yaxis": "y"
        }
       ],
       "layout": {
        "barmode": "relative",
        "legend": {
         "title": {
          "text": "variable"
         },
         "tracegroupgap": 0
        },
        "margin": {
         "t": 60
        },
        "template": {
         "data": {
          "bar": [
           {
            "error_x": {
             "color": "#2a3f5f"
            },
            "error_y": {
             "color": "#2a3f5f"
            },
            "marker": {
             "line": {
              "color": "#E5ECF6",
              "width": 0.5
             }
            },
            "type": "bar"
           }
          ],
          "barpolar": [
           {
            "marker": {
             "line": {
              "color": "#E5ECF6",
              "width": 0.5
             }
            },
            "type": "barpolar"
           }
          ],
          "carpet": [
           {
            "aaxis": {
             "endlinecolor": "#2a3f5f",
             "gridcolor": "white",
             "linecolor": "white",
             "minorgridcolor": "white",
             "startlinecolor": "#2a3f5f"
            },
            "baxis": {
             "endlinecolor": "#2a3f5f",
             "gridcolor": "white",
             "linecolor": "white",
             "minorgridcolor": "white",
             "startlinecolor": "#2a3f5f"
            },
            "type": "carpet"
           }
          ],
          "choropleth": [
           {
            "colorbar": {
             "outlinewidth": 0,
             "ticks": ""
            },
            "type": "choropleth"
           }
          ],
          "contour": [
           {
            "colorbar": {
             "outlinewidth": 0,
             "ticks": ""
            },
            "colorscale": [
             [
              0,
              "#0d0887"
             ],
             [
              0.1111111111111111,
              "#46039f"
             ],
             [
              0.2222222222222222,
              "#7201a8"
             ],
             [
              0.3333333333333333,
              "#9c179e"
             ],
             [
              0.4444444444444444,
              "#bd3786"
             ],
             [
              0.5555555555555556,
              "#d8576b"
             ],
             [
              0.6666666666666666,
              "#ed7953"
             ],
             [
              0.7777777777777778,
              "#fb9f3a"
             ],
             [
              0.8888888888888888,
              "#fdca26"
             ],
             [
              1,
              "#f0f921"
             ]
            ],
            "type": "contour"
           }
          ],
          "contourcarpet": [
           {
            "colorbar": {
             "outlinewidth": 0,
             "ticks": ""
            },
            "type": "contourcarpet"
           }
          ],
          "heatmap": [
           {
            "colorbar": {
             "outlinewidth": 0,
             "ticks": ""
            },
            "colorscale": [
             [
              0,
              "#0d0887"
             ],
             [
              0.1111111111111111,
              "#46039f"
             ],
             [
              0.2222222222222222,
              "#7201a8"
             ],
             [
              0.3333333333333333,
              "#9c179e"
             ],
             [
              0.4444444444444444,
              "#bd3786"
             ],
             [
              0.5555555555555556,
              "#d8576b"
             ],
             [
              0.6666666666666666,
              "#ed7953"
             ],
             [
              0.7777777777777778,
              "#fb9f3a"
             ],
             [
              0.8888888888888888,
              "#fdca26"
             ],
             [
              1,
              "#f0f921"
             ]
            ],
            "type": "heatmap"
           }
          ],
          "heatmapgl": [
           {
            "colorbar": {
             "outlinewidth": 0,
             "ticks": ""
            },
            "colorscale": [
             [
              0,
              "#0d0887"
             ],
             [
              0.1111111111111111,
              "#46039f"
             ],
             [
              0.2222222222222222,
              "#7201a8"
             ],
             [
              0.3333333333333333,
              "#9c179e"
             ],
             [
              0.4444444444444444,
              "#bd3786"
             ],
             [
              0.5555555555555556,
              "#d8576b"
             ],
             [
              0.6666666666666666,
              "#ed7953"
             ],
             [
              0.7777777777777778,
              "#fb9f3a"
             ],
             [
              0.8888888888888888,
              "#fdca26"
             ],
             [
              1,
              "#f0f921"
             ]
            ],
            "type": "heatmapgl"
           }
          ],
          "histogram": [
           {
            "marker": {
             "colorbar": {
              "outlinewidth": 0,
              "ticks": ""
             }
            },
            "type": "histogram"
           }
          ],
          "histogram2d": [
           {
            "colorbar": {
             "outlinewidth": 0,
             "ticks": ""
            },
            "colorscale": [
             [
              0,
              "#0d0887"
             ],
             [
              0.1111111111111111,
              "#46039f"
             ],
             [
              0.2222222222222222,
              "#7201a8"
             ],
             [
              0.3333333333333333,
              "#9c179e"
             ],
             [
              0.4444444444444444,
              "#bd3786"
             ],
             [
              0.5555555555555556,
              "#d8576b"
             ],
             [
              0.6666666666666666,
              "#ed7953"
             ],
             [
              0.7777777777777778,
              "#fb9f3a"
             ],
             [
              0.8888888888888888,
              "#fdca26"
             ],
             [
              1,
              "#f0f921"
             ]
            ],
            "type": "histogram2d"
           }
          ],
          "histogram2dcontour": [
           {
            "colorbar": {
             "outlinewidth": 0,
             "ticks": ""
            },
            "colorscale": [
             [
              0,
              "#0d0887"
             ],
             [
              0.1111111111111111,
              "#46039f"
             ],
             [
              0.2222222222222222,
              "#7201a8"
             ],
             [
              0.3333333333333333,
              "#9c179e"
             ],
             [
              0.4444444444444444,
              "#bd3786"
             ],
             [
              0.5555555555555556,
              "#d8576b"
             ],
             [
              0.6666666666666666,
              "#ed7953"
             ],
             [
              0.7777777777777778,
              "#fb9f3a"
             ],
             [
              0.8888888888888888,
              "#fdca26"
             ],
             [
              1,
              "#f0f921"
             ]
            ],
            "type": "histogram2dcontour"
           }
          ],
          "mesh3d": [
           {
            "colorbar": {
             "outlinewidth": 0,
             "ticks": ""
            },
            "type": "mesh3d"
           }
          ],
          "parcoords": [
           {
            "line": {
             "colorbar": {
              "outlinewidth": 0,
              "ticks": ""
             }
            },
            "type": "parcoords"
           }
          ],
          "pie": [
           {
            "automargin": true,
            "type": "pie"
           }
          ],
          "scatter": [
           {
            "marker": {
             "colorbar": {
              "outlinewidth": 0,
              "ticks": ""
             }
            },
            "type": "scatter"
           }
          ],
          "scatter3d": [
           {
            "line": {
             "colorbar": {
              "outlinewidth": 0,
              "ticks": ""
             }
            },
            "marker": {
             "colorbar": {
              "outlinewidth": 0,
              "ticks": ""
             }
            },
            "type": "scatter3d"
           }
          ],
          "scattercarpet": [
           {
            "marker": {
             "colorbar": {
              "outlinewidth": 0,
              "ticks": ""
             }
            },
            "type": "scattercarpet"
           }
          ],
          "scattergeo": [
           {
            "marker": {
             "colorbar": {
              "outlinewidth": 0,
              "ticks": ""
             }
            },
            "type": "scattergeo"
           }
          ],
          "scattergl": [
           {
            "marker": {
             "colorbar": {
              "outlinewidth": 0,
              "ticks": ""
             }
            },
            "type": "scattergl"
           }
          ],
          "scattermapbox": [
           {
            "marker": {
             "colorbar": {
              "outlinewidth": 0,
              "ticks": ""
             }
            },
            "type": "scattermapbox"
           }
          ],
          "scatterpolar": [
           {
            "marker": {
             "colorbar": {
              "outlinewidth": 0,
              "ticks": ""
             }
            },
            "type": "scatterpolar"
           }
          ],
          "scatterpolargl": [
           {
            "marker": {
             "colorbar": {
              "outlinewidth": 0,
              "ticks": ""
             }
            },
            "type": "scatterpolargl"
           }
          ],
          "scatterternary": [
           {
            "marker": {
             "colorbar": {
              "outlinewidth": 0,
              "ticks": ""
             }
            },
            "type": "scatterternary"
           }
          ],
          "surface": [
           {
            "colorbar": {
             "outlinewidth": 0,
             "ticks": ""
            },
            "colorscale": [
             [
              0,
              "#0d0887"
             ],
             [
              0.1111111111111111,
              "#46039f"
             ],
             [
              0.2222222222222222,
              "#7201a8"
             ],
             [
              0.3333333333333333,
              "#9c179e"
             ],
             [
              0.4444444444444444,
              "#bd3786"
             ],
             [
              0.5555555555555556,
              "#d8576b"
             ],
             [
              0.6666666666666666,
              "#ed7953"
             ],
             [
              0.7777777777777778,
              "#fb9f3a"
             ],
             [
              0.8888888888888888,
              "#fdca26"
             ],
             [
              1,
              "#f0f921"
             ]
            ],
            "type": "surface"
           }
          ],
          "table": [
           {
            "cells": {
             "fill": {
              "color": "#EBF0F8"
             },
             "line": {
              "color": "white"
             }
            },
            "header": {
             "fill": {
              "color": "#C8D4E3"
             },
             "line": {
              "color": "white"
             }
            },
            "type": "table"
           }
          ]
         },
         "layout": {
          "annotationdefaults": {
           "arrowcolor": "#2a3f5f",
           "arrowhead": 0,
           "arrowwidth": 1
          },
          "autotypenumbers": "strict",
          "coloraxis": {
           "colorbar": {
            "outlinewidth": 0,
            "ticks": ""
           }
          },
          "colorscale": {
           "diverging": [
            [
             0,
             "#8e0152"
            ],
            [
             0.1,
             "#c51b7d"
            ],
            [
             0.2,
             "#de77ae"
            ],
            [
             0.3,
             "#f1b6da"
            ],
            [
             0.4,
             "#fde0ef"
            ],
            [
             0.5,
             "#f7f7f7"
            ],
            [
             0.6,
             "#e6f5d0"
            ],
            [
             0.7,
             "#b8e186"
            ],
            [
             0.8,
             "#7fbc41"
            ],
            [
             0.9,
             "#4d9221"
            ],
            [
             1,
             "#276419"
            ]
           ],
           "sequential": [
            [
             0,
             "#0d0887"
            ],
            [
             0.1111111111111111,
             "#46039f"
            ],
            [
             0.2222222222222222,
             "#7201a8"
            ],
            [
             0.3333333333333333,
             "#9c179e"
            ],
            [
             0.4444444444444444,
             "#bd3786"
            ],
            [
             0.5555555555555556,
             "#d8576b"
            ],
            [
             0.6666666666666666,
             "#ed7953"
            ],
            [
             0.7777777777777778,
             "#fb9f3a"
            ],
            [
             0.8888888888888888,
             "#fdca26"
            ],
            [
             1,
             "#f0f921"
            ]
           ],
           "sequentialminus": [
            [
             0,
             "#0d0887"
            ],
            [
             0.1111111111111111,
             "#46039f"
            ],
            [
             0.2222222222222222,
             "#7201a8"
            ],
            [
             0.3333333333333333,
             "#9c179e"
            ],
            [
             0.4444444444444444,
             "#bd3786"
            ],
            [
             0.5555555555555556,
             "#d8576b"
            ],
            [
             0.6666666666666666,
             "#ed7953"
            ],
            [
             0.7777777777777778,
             "#fb9f3a"
            ],
            [
             0.8888888888888888,
             "#fdca26"
            ],
            [
             1,
             "#f0f921"
            ]
           ]
          },
          "colorway": [
           "#636efa",
           "#EF553B",
           "#00cc96",
           "#ab63fa",
           "#FFA15A",
           "#19d3f3",
           "#FF6692",
           "#B6E880",
           "#FF97FF",
           "#FECB52"
          ],
          "font": {
           "color": "#2a3f5f"
          },
          "geo": {
           "bgcolor": "white",
           "lakecolor": "white",
           "landcolor": "#E5ECF6",
           "showlakes": true,
           "showland": true,
           "subunitcolor": "white"
          },
          "hoverlabel": {
           "align": "left"
          },
          "hovermode": "closest",
          "mapbox": {
           "style": "light"
          },
          "paper_bgcolor": "white",
          "plot_bgcolor": "#E5ECF6",
          "polar": {
           "angularaxis": {
            "gridcolor": "white",
            "linecolor": "white",
            "ticks": ""
           },
           "bgcolor": "#E5ECF6",
           "radialaxis": {
            "gridcolor": "white",
            "linecolor": "white",
            "ticks": ""
           }
          },
          "scene": {
           "xaxis": {
            "backgroundcolor": "#E5ECF6",
            "gridcolor": "white",
            "gridwidth": 2,
            "linecolor": "white",
            "showbackground": true,
            "ticks": "",
            "zerolinecolor": "white"
           },
           "yaxis": {
            "backgroundcolor": "#E5ECF6",
            "gridcolor": "white",
            "gridwidth": 2,
            "linecolor": "white",
            "showbackground": true,
            "ticks": "",
            "zerolinecolor": "white"
           },
           "zaxis": {
            "backgroundcolor": "#E5ECF6",
            "gridcolor": "white",
            "gridwidth": 2,
            "linecolor": "white",
            "showbackground": true,
            "ticks": "",
            "zerolinecolor": "white"
           }
          },
          "shapedefaults": {
           "line": {
            "color": "#2a3f5f"
           }
          },
          "ternary": {
           "aaxis": {
            "gridcolor": "white",
            "linecolor": "white",
            "ticks": ""
           },
           "baxis": {
            "gridcolor": "white",
            "linecolor": "white",
            "ticks": ""
           },
           "bgcolor": "#E5ECF6",
           "caxis": {
            "gridcolor": "white",
            "linecolor": "white",
            "ticks": ""
           }
          },
          "title": {
           "x": 0.05
          },
          "xaxis": {
           "automargin": true,
           "gridcolor": "white",
           "linecolor": "white",
           "ticks": "",
           "title": {
            "standoff": 15
           },
           "zerolinecolor": "white",
           "zerolinewidth": 2
          },
          "yaxis": {
           "automargin": true,
           "gridcolor": "white",
           "linecolor": "white",
           "ticks": "",
           "title": {
            "standoff": 15
           },
           "zerolinecolor": "white",
           "zerolinewidth": 2
          }
         }
        },
        "xaxis": {
         "anchor": "y",
         "domain": [
          0,
          1
         ],
         "title": {
          "text": "value"
         }
        },
        "yaxis": {
         "anchor": "x",
         "domain": [
          0,
          1
         ],
         "title": {
          "text": "count"
         }
        }
       }
      },
      "text/html": [
       "<div>                            <div id=\"e00cd416-9675-4ff2-93b4-9a2b60a48f21\" class=\"plotly-graph-div\" style=\"height:525px; width:100%;\"></div>            <script type=\"text/javascript\">                require([\"plotly\"], function(Plotly) {                    window.PLOTLYENV=window.PLOTLYENV || {};                                    if (document.getElementById(\"e00cd416-9675-4ff2-93b4-9a2b60a48f21\")) {                    Plotly.newPlot(                        \"e00cd416-9675-4ff2-93b4-9a2b60a48f21\",                        [{\"alignmentgroup\": \"True\", \"bingroup\": \"x\", \"hovertemplate\": \"variable=0<br>value=%{x}<br>count=%{y}<extra></extra>\", \"legendgroup\": \"0\", \"marker\": {\"color\": \"#636efa\"}, \"name\": \"0\", \"offsetgroup\": \"0\", \"orientation\": \"v\", \"showlegend\": true, \"type\": \"histogram\", \"x\": [492.5368171021378, 338.3349168646081, 239.3254156769596, 290.5914489311164, 81.50593824228028], \"xaxis\": \"x\", \"yaxis\": \"y\"}],                        {\"barmode\": \"relative\", \"legend\": {\"title\": {\"text\": \"variable\"}, \"tracegroupgap\": 0}, \"margin\": {\"t\": 60}, \"template\": {\"data\": {\"bar\": [{\"error_x\": {\"color\": \"#2a3f5f\"}, \"error_y\": {\"color\": \"#2a3f5f\"}, \"marker\": {\"line\": {\"color\": \"#E5ECF6\", \"width\": 0.5}}, \"type\": \"bar\"}], \"barpolar\": [{\"marker\": {\"line\": {\"color\": \"#E5ECF6\", \"width\": 0.5}}, \"type\": \"barpolar\"}], \"carpet\": [{\"aaxis\": {\"endlinecolor\": \"#2a3f5f\", \"gridcolor\": \"white\", \"linecolor\": \"white\", \"minorgridcolor\": \"white\", \"startlinecolor\": \"#2a3f5f\"}, \"baxis\": {\"endlinecolor\": \"#2a3f5f\", \"gridcolor\": \"white\", \"linecolor\": \"white\", \"minorgridcolor\": \"white\", \"startlinecolor\": \"#2a3f5f\"}, \"type\": \"carpet\"}], \"choropleth\": [{\"colorbar\": {\"outlinewidth\": 0, \"ticks\": \"\"}, \"type\": \"choropleth\"}], \"contour\": [{\"colorbar\": {\"outlinewidth\": 0, \"ticks\": \"\"}, \"colorscale\": [[0.0, \"#0d0887\"], [0.1111111111111111, \"#46039f\"], [0.2222222222222222, \"#7201a8\"], [0.3333333333333333, \"#9c179e\"], [0.4444444444444444, \"#bd3786\"], [0.5555555555555556, \"#d8576b\"], [0.6666666666666666, \"#ed7953\"], [0.7777777777777778, \"#fb9f3a\"], [0.8888888888888888, \"#fdca26\"], [1.0, \"#f0f921\"]], \"type\": \"contour\"}], \"contourcarpet\": [{\"colorbar\": {\"outlinewidth\": 0, \"ticks\": \"\"}, \"type\": \"contourcarpet\"}], \"heatmap\": [{\"colorbar\": {\"outlinewidth\": 0, \"ticks\": \"\"}, \"colorscale\": [[0.0, \"#0d0887\"], [0.1111111111111111, \"#46039f\"], [0.2222222222222222, \"#7201a8\"], [0.3333333333333333, \"#9c179e\"], [0.4444444444444444, \"#bd3786\"], [0.5555555555555556, \"#d8576b\"], [0.6666666666666666, \"#ed7953\"], [0.7777777777777778, \"#fb9f3a\"], [0.8888888888888888, \"#fdca26\"], [1.0, \"#f0f921\"]], \"type\": \"heatmap\"}], \"heatmapgl\": [{\"colorbar\": {\"outlinewidth\": 0, \"ticks\": \"\"}, \"colorscale\": [[0.0, \"#0d0887\"], [0.1111111111111111, \"#46039f\"], [0.2222222222222222, \"#7201a8\"], [0.3333333333333333, \"#9c179e\"], [0.4444444444444444, \"#bd3786\"], [0.5555555555555556, \"#d8576b\"], [0.6666666666666666, \"#ed7953\"], [0.7777777777777778, \"#fb9f3a\"], [0.8888888888888888, \"#fdca26\"], [1.0, \"#f0f921\"]], \"type\": \"heatmapgl\"}], \"histogram\": [{\"marker\": {\"colorbar\": {\"outlinewidth\": 0, \"ticks\": \"\"}}, \"type\": \"histogram\"}], \"histogram2d\": [{\"colorbar\": {\"outlinewidth\": 0, \"ticks\": \"\"}, \"colorscale\": [[0.0, \"#0d0887\"], [0.1111111111111111, \"#46039f\"], [0.2222222222222222, \"#7201a8\"], [0.3333333333333333, \"#9c179e\"], [0.4444444444444444, \"#bd3786\"], [0.5555555555555556, \"#d8576b\"], [0.6666666666666666, \"#ed7953\"], [0.7777777777777778, \"#fb9f3a\"], [0.8888888888888888, \"#fdca26\"], [1.0, \"#f0f921\"]], \"type\": \"histogram2d\"}], \"histogram2dcontour\": [{\"colorbar\": {\"outlinewidth\": 0, \"ticks\": \"\"}, \"colorscale\": [[0.0, \"#0d0887\"], [0.1111111111111111, \"#46039f\"], [0.2222222222222222, \"#7201a8\"], [0.3333333333333333, \"#9c179e\"], [0.4444444444444444, \"#bd3786\"], [0.5555555555555556, \"#d8576b\"], [0.6666666666666666, \"#ed7953\"], [0.7777777777777778, \"#fb9f3a\"], [0.8888888888888888, \"#fdca26\"], [1.0, \"#f0f921\"]], \"type\": \"histogram2dcontour\"}], \"mesh3d\": [{\"colorbar\": {\"outlinewidth\": 0, \"ticks\": \"\"}, \"type\": \"mesh3d\"}], \"parcoords\": [{\"line\": {\"colorbar\": {\"outlinewidth\": 0, \"ticks\": \"\"}}, \"type\": \"parcoords\"}], \"pie\": [{\"automargin\": true, \"type\": \"pie\"}], \"scatter\": [{\"marker\": {\"colorbar\": {\"outlinewidth\": 0, \"ticks\": \"\"}}, \"type\": \"scatter\"}], \"scatter3d\": [{\"line\": {\"colorbar\": {\"outlinewidth\": 0, \"ticks\": \"\"}}, \"marker\": {\"colorbar\": {\"outlinewidth\": 0, \"ticks\": \"\"}}, \"type\": \"scatter3d\"}], \"scattercarpet\": [{\"marker\": {\"colorbar\": {\"outlinewidth\": 0, \"ticks\": \"\"}}, \"type\": \"scattercarpet\"}], \"scattergeo\": [{\"marker\": {\"colorbar\": {\"outlinewidth\": 0, \"ticks\": \"\"}}, \"type\": \"scattergeo\"}], \"scattergl\": [{\"marker\": {\"colorbar\": {\"outlinewidth\": 0, \"ticks\": \"\"}}, \"type\": \"scattergl\"}], \"scattermapbox\": [{\"marker\": {\"colorbar\": {\"outlinewidth\": 0, \"ticks\": \"\"}}, \"type\": \"scattermapbox\"}], \"scatterpolar\": [{\"marker\": {\"colorbar\": {\"outlinewidth\": 0, \"ticks\": \"\"}}, \"type\": \"scatterpolar\"}], \"scatterpolargl\": [{\"marker\": {\"colorbar\": {\"outlinewidth\": 0, \"ticks\": \"\"}}, \"type\": \"scatterpolargl\"}], \"scatterternary\": [{\"marker\": {\"colorbar\": {\"outlinewidth\": 0, \"ticks\": \"\"}}, \"type\": \"scatterternary\"}], \"surface\": [{\"colorbar\": {\"outlinewidth\": 0, \"ticks\": \"\"}, \"colorscale\": [[0.0, \"#0d0887\"], [0.1111111111111111, \"#46039f\"], [0.2222222222222222, \"#7201a8\"], [0.3333333333333333, \"#9c179e\"], [0.4444444444444444, \"#bd3786\"], [0.5555555555555556, \"#d8576b\"], [0.6666666666666666, \"#ed7953\"], [0.7777777777777778, \"#fb9f3a\"], [0.8888888888888888, \"#fdca26\"], [1.0, \"#f0f921\"]], \"type\": \"surface\"}], \"table\": [{\"cells\": {\"fill\": {\"color\": \"#EBF0F8\"}, \"line\": {\"color\": \"white\"}}, \"header\": {\"fill\": {\"color\": \"#C8D4E3\"}, \"line\": {\"color\": \"white\"}}, \"type\": \"table\"}]}, \"layout\": {\"annotationdefaults\": {\"arrowcolor\": \"#2a3f5f\", \"arrowhead\": 0, \"arrowwidth\": 1}, \"autotypenumbers\": \"strict\", \"coloraxis\": {\"colorbar\": {\"outlinewidth\": 0, \"ticks\": \"\"}}, \"colorscale\": {\"diverging\": [[0, \"#8e0152\"], [0.1, \"#c51b7d\"], [0.2, \"#de77ae\"], [0.3, \"#f1b6da\"], [0.4, \"#fde0ef\"], [0.5, \"#f7f7f7\"], [0.6, \"#e6f5d0\"], [0.7, \"#b8e186\"], [0.8, \"#7fbc41\"], [0.9, \"#4d9221\"], [1, \"#276419\"]], \"sequential\": [[0.0, \"#0d0887\"], [0.1111111111111111, \"#46039f\"], [0.2222222222222222, \"#7201a8\"], [0.3333333333333333, \"#9c179e\"], [0.4444444444444444, \"#bd3786\"], [0.5555555555555556, \"#d8576b\"], [0.6666666666666666, \"#ed7953\"], [0.7777777777777778, \"#fb9f3a\"], [0.8888888888888888, \"#fdca26\"], [1.0, \"#f0f921\"]], \"sequentialminus\": [[0.0, \"#0d0887\"], [0.1111111111111111, \"#46039f\"], [0.2222222222222222, \"#7201a8\"], [0.3333333333333333, \"#9c179e\"], [0.4444444444444444, \"#bd3786\"], [0.5555555555555556, \"#d8576b\"], [0.6666666666666666, \"#ed7953\"], [0.7777777777777778, \"#fb9f3a\"], [0.8888888888888888, \"#fdca26\"], [1.0, \"#f0f921\"]]}, \"colorway\": [\"#636efa\", \"#EF553B\", \"#00cc96\", \"#ab63fa\", \"#FFA15A\", \"#19d3f3\", \"#FF6692\", \"#B6E880\", \"#FF97FF\", \"#FECB52\"], \"font\": {\"color\": \"#2a3f5f\"}, \"geo\": {\"bgcolor\": \"white\", \"lakecolor\": \"white\", \"landcolor\": \"#E5ECF6\", \"showlakes\": true, \"showland\": true, \"subunitcolor\": \"white\"}, \"hoverlabel\": {\"align\": \"left\"}, \"hovermode\": \"closest\", \"mapbox\": {\"style\": \"light\"}, \"paper_bgcolor\": \"white\", \"plot_bgcolor\": \"#E5ECF6\", \"polar\": {\"angularaxis\": {\"gridcolor\": \"white\", \"linecolor\": \"white\", \"ticks\": \"\"}, \"bgcolor\": \"#E5ECF6\", \"radialaxis\": {\"gridcolor\": \"white\", \"linecolor\": \"white\", \"ticks\": \"\"}}, \"scene\": {\"xaxis\": {\"backgroundcolor\": \"#E5ECF6\", \"gridcolor\": \"white\", \"gridwidth\": 2, \"linecolor\": \"white\", \"showbackground\": true, \"ticks\": \"\", \"zerolinecolor\": \"white\"}, \"yaxis\": {\"backgroundcolor\": \"#E5ECF6\", \"gridcolor\": \"white\", \"gridwidth\": 2, \"linecolor\": \"white\", \"showbackground\": true, \"ticks\": \"\", \"zerolinecolor\": \"white\"}, \"zaxis\": {\"backgroundcolor\": \"#E5ECF6\", \"gridcolor\": \"white\", \"gridwidth\": 2, \"linecolor\": \"white\", \"showbackground\": true, \"ticks\": \"\", \"zerolinecolor\": \"white\"}}, \"shapedefaults\": {\"line\": {\"color\": \"#2a3f5f\"}}, \"ternary\": {\"aaxis\": {\"gridcolor\": \"white\", \"linecolor\": \"white\", \"ticks\": \"\"}, \"baxis\": {\"gridcolor\": \"white\", \"linecolor\": \"white\", \"ticks\": \"\"}, \"bgcolor\": \"#E5ECF6\", \"caxis\": {\"gridcolor\": \"white\", \"linecolor\": \"white\", \"ticks\": \"\"}}, \"title\": {\"x\": 0.05}, \"xaxis\": {\"automargin\": true, \"gridcolor\": \"white\", \"linecolor\": \"white\", \"ticks\": \"\", \"title\": {\"standoff\": 15}, \"zerolinecolor\": \"white\", \"zerolinewidth\": 2}, \"yaxis\": {\"automargin\": true, \"gridcolor\": \"white\", \"linecolor\": \"white\", \"ticks\": \"\", \"title\": {\"standoff\": 15}, \"zerolinecolor\": \"white\", \"zerolinewidth\": 2}}}, \"xaxis\": {\"anchor\": \"y\", \"domain\": [0.0, 1.0], \"title\": {\"text\": \"value\"}}, \"yaxis\": {\"anchor\": \"x\", \"domain\": [0.0, 1.0], \"title\": {\"text\": \"count\"}}},                        {\"responsive\": true}                    ).then(function(){\n",
       "                            \n",
       "var gd = document.getElementById('e00cd416-9675-4ff2-93b4-9a2b60a48f21');\n",
       "var x = new MutationObserver(function (mutations, observer) {{\n",
       "        var display = window.getComputedStyle(gd).display;\n",
       "        if (!display || display === 'none') {{\n",
       "            console.log([gd, 'removed!']);\n",
       "            Plotly.purge(gd);\n",
       "            observer.disconnect();\n",
       "        }}\n",
       "}});\n",
       "\n",
       "// Listen for the removal of the full notebook cells\n",
       "var notebookContainer = gd.closest('#notebook-container');\n",
       "if (notebookContainer) {{\n",
       "    x.observe(notebookContainer, {childList: true});\n",
       "}}\n",
       "\n",
       "// Listen for the clearing of the current output cell\n",
       "var outputEl = gd.closest('.output');\n",
       "if (outputEl) {{\n",
       "    x.observe(outputEl, {childList: true});\n",
       "}}\n",
       "\n",
       "                        })                };                });            </script>        </div>"
      ]
     },
     "metadata": {},
     "output_type": "display_data"
    }
   ],
   "source": [
    "px.histogram(TDDSF.mean(axis=1))"
   ]
  },
  {
   "cell_type": "markdown",
   "metadata": {},
   "source": [
    "# Member Task 2"
   ]
  },
  {
   "cell_type": "code",
   "execution_count": 27,
   "metadata": {},
   "outputs": [],
   "source": [
    "# Take previously normalized data and add a mean column that will be used to create a histogram, then remove all columns expect for country name and mean cases or deaths for that county\n",
    "TexasDailyCasesFin['mean'] = TexasDailyCasesFin.mean(axis=1)\n",
    "TexasDailyDeathsFin['mean'] = TexasDailyDeathsFin.mean(axis=1)\n",
    "TXCountyCases = TexasDailyCasesFin[[\"County Name\", \"mean\"]]\n",
    "TXDeathsCases = TexasDailyDeathsFin[[\"County Name\", \"mean\"]]"
   ]
  },
  {
   "cell_type": "code",
   "execution_count": 28,
   "metadata": {},
   "outputs": [],
   "source": [
    "#plot the cases and deaths into a hisogram into bins to show by how much cases and deahts in counties are incresing by\n",
    "TXCountyCasesPlot = px.histogram(TXCountyCases, x=TXCountyCases[\"mean\"], nbins=15, labels= {'mean':'Daily New Cases Across Texas', 'count':'probability'})\n",
    "TXDeathsCasesPlot = px.histogram(TXDeathsCases, x=TXDeathsCases[\"mean\"], nbins=15, labels={'mean':'Daily New Deaths Across Texas', 'count':'probability'})"
   ]
  },
  {
   "cell_type": "markdown",
   "metadata": {},
   "source": [
    "# Member Task 2 - 1"
   ]
  },
  {
   "cell_type": "markdown",
   "metadata": {},
   "source": [
    "## Distribution of Cases\n",
    "### The distribution for cases appears to be a geometric distribution, it starts out relatively high and goes down,  it has a postive skew kurtosis"
   ]
  },
  {
   "cell_type": "code",
   "execution_count": 29,
   "metadata": {},
   "outputs": [
    {
     "data": {
      "application/vnd.plotly.v1+json": {
       "config": {
        "plotlyServerURL": "https://plot.ly"
       },
       "data": [
        {
         "alignmentgroup": "True",
         "bingroup": "x",
         "hovertemplate": "Daily New Cases Across Texas=%{x}<br>count=%{y}<extra></extra>",
         "legendgroup": "",
         "marker": {
          "color": "#636efa"
         },
         "name": "",
         "nbinsx": 15,
         "offsetgroup": "",
         "orientation": "v",
         "showlegend": false,
         "type": "histogram",
         "x": [
          832.4787735849056,
          314.5188679245283,
          1056.9811320754718,
          276.10377358490564,
          205.83018867924528,
          131.85377358490567,
          739.9245283018868,
          363.5377358490566,
          204.75,
          287.0943396226415,
          1115.1957547169811,
          148.66037735849056,
          519.308962264151,
          2905.0424528301887,
          24950.42924528302,
          205.56367924528303,
          117.77594339622641,
          305.1580188679245,
          952.9882075471698,
          4157.096698113208,
          2672.9150943396226,
          228.94103773584905,
          129.7570754716981,
          203.38679245283018,
          592.6202830188679,
          364.4316037735849,
          630.2830188679245,
          701.5471698113207,
          355.22169811320754,
          253.16745283018867,
          4577.9669811320755,
          253.70518867924528,
          164.77830188679246,
          351.1391509433962,
          213.79009433962264,
          619.936320754717,
          607.25,
          253.16037735849056,
          231.04716981132074,
          143.54009433962264,
          165.9811320754717,
          199.4245283018868,
          10273.327830188678,
          144.5306603773585,
          319.3867924528302,
          1336.9504716981132,
          282.0943396226415,
          154.2759433962264,
          534.8844339622641,
          1016.7853773584906,
          133.86556603773585,
          186.11556603773585,
          180.52830188679246,
          174.81132075471697,
          153.66509433962264,
          218.88443396226415,
          32156.443396226416,
          297.8301886792453,
          395.686320754717,
          153.53301886792454,
          8521.375,
          331.47877358490564,
          132.9929245283019,
          280.3301886792453,
          152.9056603773585,
          248.38679245283018,
          276.02358490566036,
          1982.6603773584907,
          140.67924528301887,
          2483.4150943396226,
          13487.72641509434,
          575.6556603773585,
          336.5377358490566,
          505.04009433962267,
          387.89622641509436,
          148.7995283018868,
          196.09198113207546,
          127.21462264150944,
          7492.797169811321,
          202.07075471698113,
          327.12971698113205,
          404.24056603773585,
          290.5070754716981,
          4142.153301886792,
          162.22169811320754,
          398.27122641509436,
          129.86556603773585,
          180.3183962264151,
          399.45754716981133,
          347.1768867924528,
          1407.6816037735848,
          1363.9080188679245,
          501.1981132075472,
          1726.7948113207547,
          729.9457547169811,
          158.625,
          200.75471698113208,
          199.95754716981133,
          156.47877358490567,
          706.4457547169811,
          43613.34669811321,
          678.6556603773585,
          180.97641509433961,
          166.58018867924528,
          2317.9764150943397,
          170.99764150943398,
          806.7594339622641,
          9340.646226415094,
          584.3844339622641,
          376.3608490566038,
          817.4221698113207,
          464.1627358490566,
          325.14622641509436,
          603.747641509434,
          177.37264150943398,
          808.6957547169811,
          300.92216981132077,
          127.94575471698113,
          189.20518867924528,
          302.3231132075472,
          459.4929245283019,
          136.35377358490567,
          2349.384433962264,
          179.62971698113208,
          568.4528301886793,
          2196.3325471698113,
          423.12028301886795,
          311.60141509433964,
          1773.9056603773586,
          494.95047169811323,
          118.12028301886792,
          123.77122641509433,
          612.066037735849,
          147.48349056603774,
          115.81839622641509,
          152.19103773584905,
          401.42452830188677,
          144.9504716981132,
          779.8419811320755,
          317.95047169811323,
          347.6061320754717,
          227.10141509433961,
          367.8938679245283,
          336.51650943396226,
          291.87028301886795,
          961.9528301886793,
          402.04009433962267,
          147.83018867924528,
          239.83490566037736,
          301.85849056603774,
          114.51650943396227,
          5046.257075471698,
          181.01650943396226,
          182.08726415094338,
          2942.080188679245,
          123.00471698113208,
          328.1627358490566,
          182.50471698113208,
          182.91037735849056,
          159.71462264150944,
          487.1933962264151,
          1141.9457547169811,
          647.066037735849,
          137.39622641509433,
          1998.0801886792453,
          379.936320754717,
          181.9009433962264,
          185.44103773584905,
          336.3820754716981,
          5651.948113207547,
          359.0801886792453,
          216.0683962264151,
          124.31367924528301,
          633.4882075471698,
          716.1391509433962,
          214.12264150943398,
          279.16509433962267,
          4255.9740566037735,
          227.1061320754717,
          140.41745283018867,
          992.7169811320755,
          425.2240566037736,
          301.85849056603774,
          1757.4834905660377,
          239.7004716981132,
          306.85849056603774,
          493.34669811320754,
          1852.4669811320755,
          201.83726415094338,
          210.125,
          1838.551886792453,
          160.51415094339623,
          149.7806603773585,
          200.35849056603774,
          302.74528301886795,
          185.33726415094338,
          121.45283018867924,
          328.9292452830189,
          1294.4599056603774,
          247.0754716981132,
          581.1037735849056,
          195.51650943396226,
          180.17216981132074,
          276.47641509433964,
          621.813679245283,
          199.25,
          144.67688679245282,
          441.7358490566038,
          145.19103773584905,
          307.16509433962267,
          138.76179245283018,
          2292.353773584906,
          225.15330188679246,
          1043.4834905660377,
          205.06132075471697,
          127.22405660377359,
          130.8443396226415,
          165.23584905660377,
          197.30896226415095,
          26048.889150943396,
          1736.7971698113208,
          123.48349056603773,
          285.8018867924528,
          124.10141509433963,
          499.9457547169811,
          1488.9622641509434,
          9686.53537735849,
          208.08254716981133,
          303.6792452830189,
          481.3301886792453,
          157.13443396226415,
          469.87971698113205,
          884.1816037735849,
          588.7948113207547,
          1008.0872641509434,
          1083.801886792453,
          556.563679245283,
          242.51179245283018,
          516.3490566037735,
          4375.436320754717,
          538.3608490566038,
          167.73820754716982,
          1662.0966981132076,
          302.57783018867923,
          378.90330188679246,
          5041.9009433962265,
          591.7169811320755,
          197.38443396226415,
          873.6108490566038,
          498.35377358490564,
          207.57075471698113,
          336.7806603773585,
          294.62028301886795,
          296.7169811320755
         ],
         "xaxis": "x",
         "yaxis": "y"
        }
       ],
       "layout": {
        "barmode": "relative",
        "legend": {
         "tracegroupgap": 0
        },
        "margin": {
         "t": 60
        },
        "template": {
         "data": {
          "bar": [
           {
            "error_x": {
             "color": "#2a3f5f"
            },
            "error_y": {
             "color": "#2a3f5f"
            },
            "marker": {
             "line": {
              "color": "#E5ECF6",
              "width": 0.5
             }
            },
            "type": "bar"
           }
          ],
          "barpolar": [
           {
            "marker": {
             "line": {
              "color": "#E5ECF6",
              "width": 0.5
             }
            },
            "type": "barpolar"
           }
          ],
          "carpet": [
           {
            "aaxis": {
             "endlinecolor": "#2a3f5f",
             "gridcolor": "white",
             "linecolor": "white",
             "minorgridcolor": "white",
             "startlinecolor": "#2a3f5f"
            },
            "baxis": {
             "endlinecolor": "#2a3f5f",
             "gridcolor": "white",
             "linecolor": "white",
             "minorgridcolor": "white",
             "startlinecolor": "#2a3f5f"
            },
            "type": "carpet"
           }
          ],
          "choropleth": [
           {
            "colorbar": {
             "outlinewidth": 0,
             "ticks": ""
            },
            "type": "choropleth"
           }
          ],
          "contour": [
           {
            "colorbar": {
             "outlinewidth": 0,
             "ticks": ""
            },
            "colorscale": [
             [
              0,
              "#0d0887"
             ],
             [
              0.1111111111111111,
              "#46039f"
             ],
             [
              0.2222222222222222,
              "#7201a8"
             ],
             [
              0.3333333333333333,
              "#9c179e"
             ],
             [
              0.4444444444444444,
              "#bd3786"
             ],
             [
              0.5555555555555556,
              "#d8576b"
             ],
             [
              0.6666666666666666,
              "#ed7953"
             ],
             [
              0.7777777777777778,
              "#fb9f3a"
             ],
             [
              0.8888888888888888,
              "#fdca26"
             ],
             [
              1,
              "#f0f921"
             ]
            ],
            "type": "contour"
           }
          ],
          "contourcarpet": [
           {
            "colorbar": {
             "outlinewidth": 0,
             "ticks": ""
            },
            "type": "contourcarpet"
           }
          ],
          "heatmap": [
           {
            "colorbar": {
             "outlinewidth": 0,
             "ticks": ""
            },
            "colorscale": [
             [
              0,
              "#0d0887"
             ],
             [
              0.1111111111111111,
              "#46039f"
             ],
             [
              0.2222222222222222,
              "#7201a8"
             ],
             [
              0.3333333333333333,
              "#9c179e"
             ],
             [
              0.4444444444444444,
              "#bd3786"
             ],
             [
              0.5555555555555556,
              "#d8576b"
             ],
             [
              0.6666666666666666,
              "#ed7953"
             ],
             [
              0.7777777777777778,
              "#fb9f3a"
             ],
             [
              0.8888888888888888,
              "#fdca26"
             ],
             [
              1,
              "#f0f921"
             ]
            ],
            "type": "heatmap"
           }
          ],
          "heatmapgl": [
           {
            "colorbar": {
             "outlinewidth": 0,
             "ticks": ""
            },
            "colorscale": [
             [
              0,
              "#0d0887"
             ],
             [
              0.1111111111111111,
              "#46039f"
             ],
             [
              0.2222222222222222,
              "#7201a8"
             ],
             [
              0.3333333333333333,
              "#9c179e"
             ],
             [
              0.4444444444444444,
              "#bd3786"
             ],
             [
              0.5555555555555556,
              "#d8576b"
             ],
             [
              0.6666666666666666,
              "#ed7953"
             ],
             [
              0.7777777777777778,
              "#fb9f3a"
             ],
             [
              0.8888888888888888,
              "#fdca26"
             ],
             [
              1,
              "#f0f921"
             ]
            ],
            "type": "heatmapgl"
           }
          ],
          "histogram": [
           {
            "marker": {
             "colorbar": {
              "outlinewidth": 0,
              "ticks": ""
             }
            },
            "type": "histogram"
           }
          ],
          "histogram2d": [
           {
            "colorbar": {
             "outlinewidth": 0,
             "ticks": ""
            },
            "colorscale": [
             [
              0,
              "#0d0887"
             ],
             [
              0.1111111111111111,
              "#46039f"
             ],
             [
              0.2222222222222222,
              "#7201a8"
             ],
             [
              0.3333333333333333,
              "#9c179e"
             ],
             [
              0.4444444444444444,
              "#bd3786"
             ],
             [
              0.5555555555555556,
              "#d8576b"
             ],
             [
              0.6666666666666666,
              "#ed7953"
             ],
             [
              0.7777777777777778,
              "#fb9f3a"
             ],
             [
              0.8888888888888888,
              "#fdca26"
             ],
             [
              1,
              "#f0f921"
             ]
            ],
            "type": "histogram2d"
           }
          ],
          "histogram2dcontour": [
           {
            "colorbar": {
             "outlinewidth": 0,
             "ticks": ""
            },
            "colorscale": [
             [
              0,
              "#0d0887"
             ],
             [
              0.1111111111111111,
              "#46039f"
             ],
             [
              0.2222222222222222,
              "#7201a8"
             ],
             [
              0.3333333333333333,
              "#9c179e"
             ],
             [
              0.4444444444444444,
              "#bd3786"
             ],
             [
              0.5555555555555556,
              "#d8576b"
             ],
             [
              0.6666666666666666,
              "#ed7953"
             ],
             [
              0.7777777777777778,
              "#fb9f3a"
             ],
             [
              0.8888888888888888,
              "#fdca26"
             ],
             [
              1,
              "#f0f921"
             ]
            ],
            "type": "histogram2dcontour"
           }
          ],
          "mesh3d": [
           {
            "colorbar": {
             "outlinewidth": 0,
             "ticks": ""
            },
            "type": "mesh3d"
           }
          ],
          "parcoords": [
           {
            "line": {
             "colorbar": {
              "outlinewidth": 0,
              "ticks": ""
             }
            },
            "type": "parcoords"
           }
          ],
          "pie": [
           {
            "automargin": true,
            "type": "pie"
           }
          ],
          "scatter": [
           {
            "marker": {
             "colorbar": {
              "outlinewidth": 0,
              "ticks": ""
             }
            },
            "type": "scatter"
           }
          ],
          "scatter3d": [
           {
            "line": {
             "colorbar": {
              "outlinewidth": 0,
              "ticks": ""
             }
            },
            "marker": {
             "colorbar": {
              "outlinewidth": 0,
              "ticks": ""
             }
            },
            "type": "scatter3d"
           }
          ],
          "scattercarpet": [
           {
            "marker": {
             "colorbar": {
              "outlinewidth": 0,
              "ticks": ""
             }
            },
            "type": "scattercarpet"
           }
          ],
          "scattergeo": [
           {
            "marker": {
             "colorbar": {
              "outlinewidth": 0,
              "ticks": ""
             }
            },
            "type": "scattergeo"
           }
          ],
          "scattergl": [
           {
            "marker": {
             "colorbar": {
              "outlinewidth": 0,
              "ticks": ""
             }
            },
            "type": "scattergl"
           }
          ],
          "scattermapbox": [
           {
            "marker": {
             "colorbar": {
              "outlinewidth": 0,
              "ticks": ""
             }
            },
            "type": "scattermapbox"
           }
          ],
          "scatterpolar": [
           {
            "marker": {
             "colorbar": {
              "outlinewidth": 0,
              "ticks": ""
             }
            },
            "type": "scatterpolar"
           }
          ],
          "scatterpolargl": [
           {
            "marker": {
             "colorbar": {
              "outlinewidth": 0,
              "ticks": ""
             }
            },
            "type": "scatterpolargl"
           }
          ],
          "scatterternary": [
           {
            "marker": {
             "colorbar": {
              "outlinewidth": 0,
              "ticks": ""
             }
            },
            "type": "scatterternary"
           }
          ],
          "surface": [
           {
            "colorbar": {
             "outlinewidth": 0,
             "ticks": ""
            },
            "colorscale": [
             [
              0,
              "#0d0887"
             ],
             [
              0.1111111111111111,
              "#46039f"
             ],
             [
              0.2222222222222222,
              "#7201a8"
             ],
             [
              0.3333333333333333,
              "#9c179e"
             ],
             [
              0.4444444444444444,
              "#bd3786"
             ],
             [
              0.5555555555555556,
              "#d8576b"
             ],
             [
              0.6666666666666666,
              "#ed7953"
             ],
             [
              0.7777777777777778,
              "#fb9f3a"
             ],
             [
              0.8888888888888888,
              "#fdca26"
             ],
             [
              1,
              "#f0f921"
             ]
            ],
            "type": "surface"
           }
          ],
          "table": [
           {
            "cells": {
             "fill": {
              "color": "#EBF0F8"
             },
             "line": {
              "color": "white"
             }
            },
            "header": {
             "fill": {
              "color": "#C8D4E3"
             },
             "line": {
              "color": "white"
             }
            },
            "type": "table"
           }
          ]
         },
         "layout": {
          "annotationdefaults": {
           "arrowcolor": "#2a3f5f",
           "arrowhead": 0,
           "arrowwidth": 1
          },
          "autotypenumbers": "strict",
          "coloraxis": {
           "colorbar": {
            "outlinewidth": 0,
            "ticks": ""
           }
          },
          "colorscale": {
           "diverging": [
            [
             0,
             "#8e0152"
            ],
            [
             0.1,
             "#c51b7d"
            ],
            [
             0.2,
             "#de77ae"
            ],
            [
             0.3,
             "#f1b6da"
            ],
            [
             0.4,
             "#fde0ef"
            ],
            [
             0.5,
             "#f7f7f7"
            ],
            [
             0.6,
             "#e6f5d0"
            ],
            [
             0.7,
             "#b8e186"
            ],
            [
             0.8,
             "#7fbc41"
            ],
            [
             0.9,
             "#4d9221"
            ],
            [
             1,
             "#276419"
            ]
           ],
           "sequential": [
            [
             0,
             "#0d0887"
            ],
            [
             0.1111111111111111,
             "#46039f"
            ],
            [
             0.2222222222222222,
             "#7201a8"
            ],
            [
             0.3333333333333333,
             "#9c179e"
            ],
            [
             0.4444444444444444,
             "#bd3786"
            ],
            [
             0.5555555555555556,
             "#d8576b"
            ],
            [
             0.6666666666666666,
             "#ed7953"
            ],
            [
             0.7777777777777778,
             "#fb9f3a"
            ],
            [
             0.8888888888888888,
             "#fdca26"
            ],
            [
             1,
             "#f0f921"
            ]
           ],
           "sequentialminus": [
            [
             0,
             "#0d0887"
            ],
            [
             0.1111111111111111,
             "#46039f"
            ],
            [
             0.2222222222222222,
             "#7201a8"
            ],
            [
             0.3333333333333333,
             "#9c179e"
            ],
            [
             0.4444444444444444,
             "#bd3786"
            ],
            [
             0.5555555555555556,
             "#d8576b"
            ],
            [
             0.6666666666666666,
             "#ed7953"
            ],
            [
             0.7777777777777778,
             "#fb9f3a"
            ],
            [
             0.8888888888888888,
             "#fdca26"
            ],
            [
             1,
             "#f0f921"
            ]
           ]
          },
          "colorway": [
           "#636efa",
           "#EF553B",
           "#00cc96",
           "#ab63fa",
           "#FFA15A",
           "#19d3f3",
           "#FF6692",
           "#B6E880",
           "#FF97FF",
           "#FECB52"
          ],
          "font": {
           "color": "#2a3f5f"
          },
          "geo": {
           "bgcolor": "white",
           "lakecolor": "white",
           "landcolor": "#E5ECF6",
           "showlakes": true,
           "showland": true,
           "subunitcolor": "white"
          },
          "hoverlabel": {
           "align": "left"
          },
          "hovermode": "closest",
          "mapbox": {
           "style": "light"
          },
          "paper_bgcolor": "white",
          "plot_bgcolor": "#E5ECF6",
          "polar": {
           "angularaxis": {
            "gridcolor": "white",
            "linecolor": "white",
            "ticks": ""
           },
           "bgcolor": "#E5ECF6",
           "radialaxis": {
            "gridcolor": "white",
            "linecolor": "white",
            "ticks": ""
           }
          },
          "scene": {
           "xaxis": {
            "backgroundcolor": "#E5ECF6",
            "gridcolor": "white",
            "gridwidth": 2,
            "linecolor": "white",
            "showbackground": true,
            "ticks": "",
            "zerolinecolor": "white"
           },
           "yaxis": {
            "backgroundcolor": "#E5ECF6",
            "gridcolor": "white",
            "gridwidth": 2,
            "linecolor": "white",
            "showbackground": true,
            "ticks": "",
            "zerolinecolor": "white"
           },
           "zaxis": {
            "backgroundcolor": "#E5ECF6",
            "gridcolor": "white",
            "gridwidth": 2,
            "linecolor": "white",
            "showbackground": true,
            "ticks": "",
            "zerolinecolor": "white"
           }
          },
          "shapedefaults": {
           "line": {
            "color": "#2a3f5f"
           }
          },
          "ternary": {
           "aaxis": {
            "gridcolor": "white",
            "linecolor": "white",
            "ticks": ""
           },
           "baxis": {
            "gridcolor": "white",
            "linecolor": "white",
            "ticks": ""
           },
           "bgcolor": "#E5ECF6",
           "caxis": {
            "gridcolor": "white",
            "linecolor": "white",
            "ticks": ""
           }
          },
          "title": {
           "x": 0.05
          },
          "xaxis": {
           "automargin": true,
           "gridcolor": "white",
           "linecolor": "white",
           "ticks": "",
           "title": {
            "standoff": 15
           },
           "zerolinecolor": "white",
           "zerolinewidth": 2
          },
          "yaxis": {
           "automargin": true,
           "gridcolor": "white",
           "linecolor": "white",
           "ticks": "",
           "title": {
            "standoff": 15
           },
           "zerolinecolor": "white",
           "zerolinewidth": 2
          }
         }
        },
        "xaxis": {
         "anchor": "y",
         "domain": [
          0,
          1
         ],
         "title": {
          "text": "Daily New Cases Across Texas"
         }
        },
        "yaxis": {
         "anchor": "x",
         "domain": [
          0,
          1
         ],
         "title": {
          "text": "count"
         }
        }
       }
      },
      "text/html": [
       "<div>                            <div id=\"72db132e-1ad7-4f42-b756-1d00f2b12426\" class=\"plotly-graph-div\" style=\"height:525px; width:100%;\"></div>            <script type=\"text/javascript\">                require([\"plotly\"], function(Plotly) {                    window.PLOTLYENV=window.PLOTLYENV || {};                                    if (document.getElementById(\"72db132e-1ad7-4f42-b756-1d00f2b12426\")) {                    Plotly.newPlot(                        \"72db132e-1ad7-4f42-b756-1d00f2b12426\",                        [{\"alignmentgroup\": \"True\", \"bingroup\": \"x\", \"hovertemplate\": \"Daily New Cases Across Texas=%{x}<br>count=%{y}<extra></extra>\", \"legendgroup\": \"\", \"marker\": {\"color\": \"#636efa\"}, \"name\": \"\", \"nbinsx\": 15, \"offsetgroup\": \"\", \"orientation\": \"v\", \"showlegend\": false, \"type\": \"histogram\", \"x\": [832.4787735849056, 314.5188679245283, 1056.9811320754718, 276.10377358490564, 205.83018867924528, 131.85377358490567, 739.9245283018868, 363.5377358490566, 204.75, 287.0943396226415, 1115.1957547169811, 148.66037735849056, 519.308962264151, 2905.0424528301887, 24950.42924528302, 205.56367924528303, 117.77594339622641, 305.1580188679245, 952.9882075471698, 4157.096698113208, 2672.9150943396226, 228.94103773584905, 129.7570754716981, 203.38679245283018, 592.6202830188679, 364.4316037735849, 630.2830188679245, 701.5471698113207, 355.22169811320754, 253.16745283018867, 4577.9669811320755, 253.70518867924528, 164.77830188679246, 351.1391509433962, 213.79009433962264, 619.936320754717, 607.25, 253.16037735849056, 231.04716981132074, 143.54009433962264, 165.9811320754717, 199.4245283018868, 10273.327830188678, 144.5306603773585, 319.3867924528302, 1336.9504716981132, 282.0943396226415, 154.2759433962264, 534.8844339622641, 1016.7853773584906, 133.86556603773585, 186.11556603773585, 180.52830188679246, 174.81132075471697, 153.66509433962264, 218.88443396226415, 32156.443396226416, 297.8301886792453, 395.686320754717, 153.53301886792454, 8521.375, 331.47877358490564, 132.9929245283019, 280.3301886792453, 152.9056603773585, 248.38679245283018, 276.02358490566036, 1982.6603773584907, 140.67924528301887, 2483.4150943396226, 13487.72641509434, 575.6556603773585, 336.5377358490566, 505.04009433962267, 387.89622641509436, 148.7995283018868, 196.09198113207546, 127.21462264150944, 7492.797169811321, 202.07075471698113, 327.12971698113205, 404.24056603773585, 290.5070754716981, 4142.153301886792, 162.22169811320754, 398.27122641509436, 129.86556603773585, 180.3183962264151, 399.45754716981133, 347.1768867924528, 1407.6816037735848, 1363.9080188679245, 501.1981132075472, 1726.7948113207547, 729.9457547169811, 158.625, 200.75471698113208, 199.95754716981133, 156.47877358490567, 706.4457547169811, 43613.34669811321, 678.6556603773585, 180.97641509433961, 166.58018867924528, 2317.9764150943397, 170.99764150943398, 806.7594339622641, 9340.646226415094, 584.3844339622641, 376.3608490566038, 817.4221698113207, 464.1627358490566, 325.14622641509436, 603.747641509434, 177.37264150943398, 808.6957547169811, 300.92216981132077, 127.94575471698113, 189.20518867924528, 302.3231132075472, 459.4929245283019, 136.35377358490567, 2349.384433962264, 179.62971698113208, 568.4528301886793, 2196.3325471698113, 423.12028301886795, 311.60141509433964, 1773.9056603773586, 494.95047169811323, 118.12028301886792, 123.77122641509433, 612.066037735849, 147.48349056603774, 115.81839622641509, 152.19103773584905, 401.42452830188677, 144.9504716981132, 779.8419811320755, 317.95047169811323, 347.6061320754717, 227.10141509433961, 367.8938679245283, 336.51650943396226, 291.87028301886795, 961.9528301886793, 402.04009433962267, 147.83018867924528, 239.83490566037736, 301.85849056603774, 114.51650943396227, 5046.257075471698, 181.01650943396226, 182.08726415094338, 2942.080188679245, 123.00471698113208, 328.1627358490566, 182.50471698113208, 182.91037735849056, 159.71462264150944, 487.1933962264151, 1141.9457547169811, 647.066037735849, 137.39622641509433, 1998.0801886792453, 379.936320754717, 181.9009433962264, 185.44103773584905, 336.3820754716981, 5651.948113207547, 359.0801886792453, 216.0683962264151, 124.31367924528301, 633.4882075471698, 716.1391509433962, 214.12264150943398, 279.16509433962267, 4255.9740566037735, 227.1061320754717, 140.41745283018867, 992.7169811320755, 425.2240566037736, 301.85849056603774, 1757.4834905660377, 239.7004716981132, 306.85849056603774, 493.34669811320754, 1852.4669811320755, 201.83726415094338, 210.125, 1838.551886792453, 160.51415094339623, 149.7806603773585, 200.35849056603774, 302.74528301886795, 185.33726415094338, 121.45283018867924, 328.9292452830189, 1294.4599056603774, 247.0754716981132, 581.1037735849056, 195.51650943396226, 180.17216981132074, 276.47641509433964, 621.813679245283, 199.25, 144.67688679245282, 441.7358490566038, 145.19103773584905, 307.16509433962267, 138.76179245283018, 2292.353773584906, 225.15330188679246, 1043.4834905660377, 205.06132075471697, 127.22405660377359, 130.8443396226415, 165.23584905660377, 197.30896226415095, 26048.889150943396, 1736.7971698113208, 123.48349056603773, 285.8018867924528, 124.10141509433963, 499.9457547169811, 1488.9622641509434, 9686.53537735849, 208.08254716981133, 303.6792452830189, 481.3301886792453, 157.13443396226415, 469.87971698113205, 884.1816037735849, 588.7948113207547, 1008.0872641509434, 1083.801886792453, 556.563679245283, 242.51179245283018, 516.3490566037735, 4375.436320754717, 538.3608490566038, 167.73820754716982, 1662.0966981132076, 302.57783018867923, 378.90330188679246, 5041.9009433962265, 591.7169811320755, 197.38443396226415, 873.6108490566038, 498.35377358490564, 207.57075471698113, 336.7806603773585, 294.62028301886795, 296.7169811320755], \"xaxis\": \"x\", \"yaxis\": \"y\"}],                        {\"barmode\": \"relative\", \"legend\": {\"tracegroupgap\": 0}, \"margin\": {\"t\": 60}, \"template\": {\"data\": {\"bar\": [{\"error_x\": {\"color\": \"#2a3f5f\"}, \"error_y\": {\"color\": \"#2a3f5f\"}, \"marker\": {\"line\": {\"color\": \"#E5ECF6\", \"width\": 0.5}}, \"type\": \"bar\"}], \"barpolar\": [{\"marker\": {\"line\": {\"color\": \"#E5ECF6\", \"width\": 0.5}}, \"type\": \"barpolar\"}], \"carpet\": [{\"aaxis\": {\"endlinecolor\": \"#2a3f5f\", \"gridcolor\": \"white\", \"linecolor\": \"white\", \"minorgridcolor\": \"white\", \"startlinecolor\": \"#2a3f5f\"}, \"baxis\": {\"endlinecolor\": \"#2a3f5f\", \"gridcolor\": \"white\", \"linecolor\": \"white\", \"minorgridcolor\": \"white\", \"startlinecolor\": \"#2a3f5f\"}, \"type\": \"carpet\"}], \"choropleth\": [{\"colorbar\": {\"outlinewidth\": 0, \"ticks\": \"\"}, \"type\": \"choropleth\"}], \"contour\": [{\"colorbar\": {\"outlinewidth\": 0, \"ticks\": \"\"}, \"colorscale\": [[0.0, \"#0d0887\"], [0.1111111111111111, \"#46039f\"], [0.2222222222222222, \"#7201a8\"], [0.3333333333333333, \"#9c179e\"], [0.4444444444444444, \"#bd3786\"], [0.5555555555555556, \"#d8576b\"], [0.6666666666666666, \"#ed7953\"], [0.7777777777777778, \"#fb9f3a\"], [0.8888888888888888, \"#fdca26\"], [1.0, \"#f0f921\"]], \"type\": \"contour\"}], \"contourcarpet\": [{\"colorbar\": {\"outlinewidth\": 0, \"ticks\": \"\"}, \"type\": \"contourcarpet\"}], \"heatmap\": [{\"colorbar\": {\"outlinewidth\": 0, \"ticks\": \"\"}, \"colorscale\": [[0.0, \"#0d0887\"], [0.1111111111111111, \"#46039f\"], [0.2222222222222222, \"#7201a8\"], [0.3333333333333333, \"#9c179e\"], [0.4444444444444444, \"#bd3786\"], [0.5555555555555556, \"#d8576b\"], [0.6666666666666666, \"#ed7953\"], [0.7777777777777778, \"#fb9f3a\"], [0.8888888888888888, \"#fdca26\"], [1.0, \"#f0f921\"]], \"type\": \"heatmap\"}], \"heatmapgl\": [{\"colorbar\": {\"outlinewidth\": 0, \"ticks\": \"\"}, \"colorscale\": [[0.0, \"#0d0887\"], [0.1111111111111111, \"#46039f\"], [0.2222222222222222, \"#7201a8\"], [0.3333333333333333, \"#9c179e\"], [0.4444444444444444, \"#bd3786\"], [0.5555555555555556, \"#d8576b\"], [0.6666666666666666, \"#ed7953\"], [0.7777777777777778, \"#fb9f3a\"], [0.8888888888888888, \"#fdca26\"], [1.0, \"#f0f921\"]], \"type\": \"heatmapgl\"}], \"histogram\": [{\"marker\": {\"colorbar\": {\"outlinewidth\": 0, \"ticks\": \"\"}}, \"type\": \"histogram\"}], \"histogram2d\": [{\"colorbar\": {\"outlinewidth\": 0, \"ticks\": \"\"}, \"colorscale\": [[0.0, \"#0d0887\"], [0.1111111111111111, \"#46039f\"], [0.2222222222222222, \"#7201a8\"], [0.3333333333333333, \"#9c179e\"], [0.4444444444444444, \"#bd3786\"], [0.5555555555555556, \"#d8576b\"], [0.6666666666666666, \"#ed7953\"], [0.7777777777777778, \"#fb9f3a\"], [0.8888888888888888, \"#fdca26\"], [1.0, \"#f0f921\"]], \"type\": \"histogram2d\"}], \"histogram2dcontour\": [{\"colorbar\": {\"outlinewidth\": 0, \"ticks\": \"\"}, \"colorscale\": [[0.0, \"#0d0887\"], [0.1111111111111111, \"#46039f\"], [0.2222222222222222, \"#7201a8\"], [0.3333333333333333, \"#9c179e\"], [0.4444444444444444, \"#bd3786\"], [0.5555555555555556, \"#d8576b\"], [0.6666666666666666, \"#ed7953\"], [0.7777777777777778, \"#fb9f3a\"], [0.8888888888888888, \"#fdca26\"], [1.0, \"#f0f921\"]], \"type\": \"histogram2dcontour\"}], \"mesh3d\": [{\"colorbar\": {\"outlinewidth\": 0, \"ticks\": \"\"}, \"type\": \"mesh3d\"}], \"parcoords\": [{\"line\": {\"colorbar\": {\"outlinewidth\": 0, \"ticks\": \"\"}}, \"type\": \"parcoords\"}], \"pie\": [{\"automargin\": true, \"type\": \"pie\"}], \"scatter\": [{\"marker\": {\"colorbar\": {\"outlinewidth\": 0, \"ticks\": \"\"}}, \"type\": \"scatter\"}], \"scatter3d\": [{\"line\": {\"colorbar\": {\"outlinewidth\": 0, \"ticks\": \"\"}}, \"marker\": {\"colorbar\": {\"outlinewidth\": 0, \"ticks\": \"\"}}, \"type\": \"scatter3d\"}], \"scattercarpet\": [{\"marker\": {\"colorbar\": {\"outlinewidth\": 0, \"ticks\": \"\"}}, \"type\": \"scattercarpet\"}], \"scattergeo\": [{\"marker\": {\"colorbar\": {\"outlinewidth\": 0, \"ticks\": \"\"}}, \"type\": \"scattergeo\"}], \"scattergl\": [{\"marker\": {\"colorbar\": {\"outlinewidth\": 0, \"ticks\": \"\"}}, \"type\": \"scattergl\"}], \"scattermapbox\": [{\"marker\": {\"colorbar\": {\"outlinewidth\": 0, \"ticks\": \"\"}}, \"type\": \"scattermapbox\"}], \"scatterpolar\": [{\"marker\": {\"colorbar\": {\"outlinewidth\": 0, \"ticks\": \"\"}}, \"type\": \"scatterpolar\"}], \"scatterpolargl\": [{\"marker\": {\"colorbar\": {\"outlinewidth\": 0, \"ticks\": \"\"}}, \"type\": \"scatterpolargl\"}], \"scatterternary\": [{\"marker\": {\"colorbar\": {\"outlinewidth\": 0, \"ticks\": \"\"}}, \"type\": \"scatterternary\"}], \"surface\": [{\"colorbar\": {\"outlinewidth\": 0, \"ticks\": \"\"}, \"colorscale\": [[0.0, \"#0d0887\"], [0.1111111111111111, \"#46039f\"], [0.2222222222222222, \"#7201a8\"], [0.3333333333333333, \"#9c179e\"], [0.4444444444444444, \"#bd3786\"], [0.5555555555555556, \"#d8576b\"], [0.6666666666666666, \"#ed7953\"], [0.7777777777777778, \"#fb9f3a\"], [0.8888888888888888, \"#fdca26\"], [1.0, \"#f0f921\"]], \"type\": \"surface\"}], \"table\": [{\"cells\": {\"fill\": {\"color\": \"#EBF0F8\"}, \"line\": {\"color\": \"white\"}}, \"header\": {\"fill\": {\"color\": \"#C8D4E3\"}, \"line\": {\"color\": \"white\"}}, \"type\": \"table\"}]}, \"layout\": {\"annotationdefaults\": {\"arrowcolor\": \"#2a3f5f\", \"arrowhead\": 0, \"arrowwidth\": 1}, \"autotypenumbers\": \"strict\", \"coloraxis\": {\"colorbar\": {\"outlinewidth\": 0, \"ticks\": \"\"}}, \"colorscale\": {\"diverging\": [[0, \"#8e0152\"], [0.1, \"#c51b7d\"], [0.2, \"#de77ae\"], [0.3, \"#f1b6da\"], [0.4, \"#fde0ef\"], [0.5, \"#f7f7f7\"], [0.6, \"#e6f5d0\"], [0.7, \"#b8e186\"], [0.8, \"#7fbc41\"], [0.9, \"#4d9221\"], [1, \"#276419\"]], \"sequential\": [[0.0, \"#0d0887\"], [0.1111111111111111, \"#46039f\"], [0.2222222222222222, \"#7201a8\"], [0.3333333333333333, \"#9c179e\"], [0.4444444444444444, \"#bd3786\"], [0.5555555555555556, \"#d8576b\"], [0.6666666666666666, \"#ed7953\"], [0.7777777777777778, \"#fb9f3a\"], [0.8888888888888888, \"#fdca26\"], [1.0, \"#f0f921\"]], \"sequentialminus\": [[0.0, \"#0d0887\"], [0.1111111111111111, \"#46039f\"], [0.2222222222222222, \"#7201a8\"], [0.3333333333333333, \"#9c179e\"], [0.4444444444444444, \"#bd3786\"], [0.5555555555555556, \"#d8576b\"], [0.6666666666666666, \"#ed7953\"], [0.7777777777777778, \"#fb9f3a\"], [0.8888888888888888, \"#fdca26\"], [1.0, \"#f0f921\"]]}, \"colorway\": [\"#636efa\", \"#EF553B\", \"#00cc96\", \"#ab63fa\", \"#FFA15A\", \"#19d3f3\", \"#FF6692\", \"#B6E880\", \"#FF97FF\", \"#FECB52\"], \"font\": {\"color\": \"#2a3f5f\"}, \"geo\": {\"bgcolor\": \"white\", \"lakecolor\": \"white\", \"landcolor\": \"#E5ECF6\", \"showlakes\": true, \"showland\": true, \"subunitcolor\": \"white\"}, \"hoverlabel\": {\"align\": \"left\"}, \"hovermode\": \"closest\", \"mapbox\": {\"style\": \"light\"}, \"paper_bgcolor\": \"white\", \"plot_bgcolor\": \"#E5ECF6\", \"polar\": {\"angularaxis\": {\"gridcolor\": \"white\", \"linecolor\": \"white\", \"ticks\": \"\"}, \"bgcolor\": \"#E5ECF6\", \"radialaxis\": {\"gridcolor\": \"white\", \"linecolor\": \"white\", \"ticks\": \"\"}}, \"scene\": {\"xaxis\": {\"backgroundcolor\": \"#E5ECF6\", \"gridcolor\": \"white\", \"gridwidth\": 2, \"linecolor\": \"white\", \"showbackground\": true, \"ticks\": \"\", \"zerolinecolor\": \"white\"}, \"yaxis\": {\"backgroundcolor\": \"#E5ECF6\", \"gridcolor\": \"white\", \"gridwidth\": 2, \"linecolor\": \"white\", \"showbackground\": true, \"ticks\": \"\", \"zerolinecolor\": \"white\"}, \"zaxis\": {\"backgroundcolor\": \"#E5ECF6\", \"gridcolor\": \"white\", \"gridwidth\": 2, \"linecolor\": \"white\", \"showbackground\": true, \"ticks\": \"\", \"zerolinecolor\": \"white\"}}, \"shapedefaults\": {\"line\": {\"color\": \"#2a3f5f\"}}, \"ternary\": {\"aaxis\": {\"gridcolor\": \"white\", \"linecolor\": \"white\", \"ticks\": \"\"}, \"baxis\": {\"gridcolor\": \"white\", \"linecolor\": \"white\", \"ticks\": \"\"}, \"bgcolor\": \"#E5ECF6\", \"caxis\": {\"gridcolor\": \"white\", \"linecolor\": \"white\", \"ticks\": \"\"}}, \"title\": {\"x\": 0.05}, \"xaxis\": {\"automargin\": true, \"gridcolor\": \"white\", \"linecolor\": \"white\", \"ticks\": \"\", \"title\": {\"standoff\": 15}, \"zerolinecolor\": \"white\", \"zerolinewidth\": 2}, \"yaxis\": {\"automargin\": true, \"gridcolor\": \"white\", \"linecolor\": \"white\", \"ticks\": \"\", \"title\": {\"standoff\": 15}, \"zerolinecolor\": \"white\", \"zerolinewidth\": 2}}}, \"xaxis\": {\"anchor\": \"y\", \"domain\": [0.0, 1.0], \"title\": {\"text\": \"Daily New Cases Across Texas\"}}, \"yaxis\": {\"anchor\": \"x\", \"domain\": [0.0, 1.0], \"title\": {\"text\": \"count\"}}},                        {\"responsive\": true}                    ).then(function(){\n",
       "                            \n",
       "var gd = document.getElementById('72db132e-1ad7-4f42-b756-1d00f2b12426');\n",
       "var x = new MutationObserver(function (mutations, observer) {{\n",
       "        var display = window.getComputedStyle(gd).display;\n",
       "        if (!display || display === 'none') {{\n",
       "            console.log([gd, 'removed!']);\n",
       "            Plotly.purge(gd);\n",
       "            observer.disconnect();\n",
       "        }}\n",
       "}});\n",
       "\n",
       "// Listen for the removal of the full notebook cells\n",
       "var notebookContainer = gd.closest('#notebook-container');\n",
       "if (notebookContainer) {{\n",
       "    x.observe(notebookContainer, {childList: true});\n",
       "}}\n",
       "\n",
       "// Listen for the clearing of the current output cell\n",
       "var outputEl = gd.closest('.output');\n",
       "if (outputEl) {{\n",
       "    x.observe(outputEl, {childList: true});\n",
       "}}\n",
       "\n",
       "                        })                };                });            </script>        </div>"
      ]
     },
     "metadata": {},
     "output_type": "display_data"
    }
   ],
   "source": [
    "TXCountyCasesPlot"
   ]
  },
  {
   "cell_type": "markdown",
   "metadata": {},
   "source": [
    "## Distribution of Deaths\n",
    "### The distribution for deaths appears to be a geometric distribution, it starts out relatively high and goes down, it has a postive skew kurtosis"
   ]
  },
  {
   "cell_type": "code",
   "execution_count": 30,
   "metadata": {},
   "outputs": [
    {
     "data": {
      "application/vnd.plotly.v1+json": {
       "config": {
        "plotlyServerURL": "https://plot.ly"
       },
       "data": [
        {
         "alignmentgroup": "True",
         "bingroup": "x",
         "hovertemplate": "Daily New Deaths Across Texas=%{x}<br>count=%{y}<extra></extra>",
         "legendgroup": "",
         "marker": {
          "color": "#636efa"
         },
         "name": "",
         "nbinsx": 15,
         "offsetgroup": "",
         "orientation": "v",
         "showlegend": false,
         "type": "histogram",
         "x": [
          259.88443396226415,
          161.76650943396226,
          342.49056603773585,
          172.00235849056602,
          134.6179245283019,
          118.34905660377359,
          247.12735849056602,
          187.40330188679246,
          131.5259433962264,
          170.35849056603774,
          330.52122641509436,
          122.6627358490566,
          196.15801886792454,
          1004.7075471698113,
          5127.287735849057,
          144.45990566037736,
          115.125,
          160.41509433962264,
          351.60141509433964,
          1034.5377358490566,
          675.2948113207547,
          136.22877358490567,
          117.53301886792453,
          133.45283018867926,
          213.51179245283018,
          160.41509433962264,
          232.87028301886792,
          224.74528301886792,
          165.68632075471697,
          149.83018867924528,
          1239.757075471698,
          148.13443396226415,
          128.70754716981133,
          191.4009433962264,
          133.93632075471697,
          219.3066037735849,
          249.3820754716981,
          132.25943396226415,
          139.63915094339623,
          121.49292452830188,
          122.48584905660377,
          135.58490566037736,
          2624.5990566037735,
          121.22169811320755,
          166.4693396226415,
          506.95283018867923,
          150.29716981132074,
          120.78066037735849,
          216.7806603773585,
          299.8632075471698,
          117.48349056603773,
          126.67216981132076,
          123.26415094339623,
          129.79481132075472,
          119.41509433962264,
          132.91981132075472,
          6665.367924528302,
          149.70990566037736,
          163.7004716981132,
          127.16037735849056,
          2269.311320754717,
          166.71462264150944,
          119.72641509433963,
          139.73820754716982,
          122.7004716981132,
          143.43867924528303,
          160.9693396226415,
          536.9504716981132,
          118.55896226415095,
          576.3514150943396,
          2316.4504716981132,
          220.36556603773585,
          157.0566037735849,
          206.92688679245282,
          178.46698113207546,
          123.96462264150944,
          129.75,
          117.21698113207547,
          2082.2334905660377,
          141.32075471698113,
          164.41509433962264,
          165.62028301886792,
          168.15801886792454,
          954.5566037735849,
          130.37735849056602,
          181.66037735849056,
          117.23113207547169,
          132.95990566037736,
          167.79481132075472,
          170.3561320754717,
          464.50943396226415,
          436.1132075471698,
          187.7570754716981,
          524.8537735849056,
          206.69103773584905,
          122.01179245283019,
          136.14858490566039,
          128.5754716981132,
          124.12971698113208,
          258.64622641509436,
          11719.17924528302,
          280.688679245283,
          127.30424528301887,
          129.4316037735849,
          674.1297169811321,
          123,
          324.08962264150944,
          2393.2971698113206,
          209.32311320754718,
          176.91037735849056,
          269.92216981132077,
          210.87735849056602,
          172.13915094339623,
          209.01179245283018,
          126.34905660377359,
          359.936320754717,
          169.39622641509433,
          117.58490566037736,
          136.3490566037736,
          151.31367924528303,
          204.94811320754718,
          119.60613207547169,
          739.875,
          127.47641509433963,
          217.50471698113208,
          558.7594339622641,
          165.91037735849056,
          153.42216981132074,
          455.3042452830189,
          231.6438679245283,
          115.06367924528301,
          115.9127358490566,
          245.24528301886792,
          124.70283018867924,
          114.59669811320755,
          123.13207547169812,
          193.91509433962264,
          123.91981132075472,
          244.6556603773585,
          151.62971698113208,
          167.31367924528303,
          133.8183962264151,
          167.8938679245283,
          157.9693396226415,
          158.62735849056602,
          336.9740566037736,
          175.22169811320754,
          122.68867924528301,
          144.5566037735849,
          169.69575471698113,
          114.42924528301887,
          914.4080188679245,
          130.08254716981133,
          134.44575471698113,
          759.3443396226415,
          116.24292452830188,
          150.0943396226415,
          140.1745283018868,
          129.24528301886792,
          124.67688679245283,
          208.65330188679246,
          280.4457547169811,
          244.5070754716981,
          119.91745283018868,
          554.1674528301887,
          176.5566037735849,
          127.33962264150944,
          136.8679245283019,
          166.75943396226415,
          1588.9740566037735,
          169.7688679245283,
          146.12264150943398,
          117.6627358490566,
          281.9410377358491,
          243.87735849056602,
          148.94811320754718,
          153.12971698113208,
          1030.4740566037735,
          139.5754716981132,
          119.48820754716981,
          321.2830188679245,
          188.83018867924528,
          175.62971698113208,
          465.60849056603774,
          139.91509433962264,
          154.41273584905662,
          244.11320754716982,
          423.3183962264151,
          132.0683962264151,
          145.9433962264151,
          462.0306603773585,
          124.15330188679245,
          123.38915094339623,
          145.73584905660377,
          155.40330188679246,
          132.32783018867926,
          116.34669811320755,
          158.09198113207546,
          374.1061320754717,
          141.69575471698113,
          251.67924528301887,
          142.53301886792454,
          136.50471698113208,
          184.89150943396226,
          283.9858490566038,
          130.52358490566039,
          121.39150943396227,
          158.95754716981133,
          122.34433962264151,
          179.35141509433961,
          122.45990566037736,
          699.683962264151,
          136.95518867924528,
          290.70754716981133,
          138.54481132075472,
          117.72169811320755,
          118.03537735849056,
          123.93160377358491,
          133.24056603773585,
          5310.75,
          472.54009433962267,
          116.36556603773585,
          148.13443396226415,
          118.33962264150944,
          198.6556603773585,
          418.45283018867923,
          3199.926886792453,
          150.89858490566039,
          168.65330188679246,
          218.56132075471697,
          123.79716981132076,
          183.30896226415095,
          247.23584905660377,
          257.6698113207547,
          347.95990566037733,
          297.1627358490566,
          248.70283018867926,
          144.5943396226415,
          206.2570754716981,
          832.4599056603773,
          221.66037735849056,
          127.23113207547169,
          457.10141509433964,
          149.13679245283018,
          171.85141509433961,
          1545.948113207547,
          240.2570754716981,
          135.15801886792454,
          289.41037735849056,
          232.11320754716982,
          137.29009433962264,
          160.55424528301887,
          150.36084905660377,
          145.7570754716981
         ],
         "xaxis": "x",
         "yaxis": "y"
        }
       ],
       "layout": {
        "barmode": "relative",
        "legend": {
         "tracegroupgap": 0
        },
        "margin": {
         "t": 60
        },
        "template": {
         "data": {
          "bar": [
           {
            "error_x": {
             "color": "#2a3f5f"
            },
            "error_y": {
             "color": "#2a3f5f"
            },
            "marker": {
             "line": {
              "color": "#E5ECF6",
              "width": 0.5
             }
            },
            "type": "bar"
           }
          ],
          "barpolar": [
           {
            "marker": {
             "line": {
              "color": "#E5ECF6",
              "width": 0.5
             }
            },
            "type": "barpolar"
           }
          ],
          "carpet": [
           {
            "aaxis": {
             "endlinecolor": "#2a3f5f",
             "gridcolor": "white",
             "linecolor": "white",
             "minorgridcolor": "white",
             "startlinecolor": "#2a3f5f"
            },
            "baxis": {
             "endlinecolor": "#2a3f5f",
             "gridcolor": "white",
             "linecolor": "white",
             "minorgridcolor": "white",
             "startlinecolor": "#2a3f5f"
            },
            "type": "carpet"
           }
          ],
          "choropleth": [
           {
            "colorbar": {
             "outlinewidth": 0,
             "ticks": ""
            },
            "type": "choropleth"
           }
          ],
          "contour": [
           {
            "colorbar": {
             "outlinewidth": 0,
             "ticks": ""
            },
            "colorscale": [
             [
              0,
              "#0d0887"
             ],
             [
              0.1111111111111111,
              "#46039f"
             ],
             [
              0.2222222222222222,
              "#7201a8"
             ],
             [
              0.3333333333333333,
              "#9c179e"
             ],
             [
              0.4444444444444444,
              "#bd3786"
             ],
             [
              0.5555555555555556,
              "#d8576b"
             ],
             [
              0.6666666666666666,
              "#ed7953"
             ],
             [
              0.7777777777777778,
              "#fb9f3a"
             ],
             [
              0.8888888888888888,
              "#fdca26"
             ],
             [
              1,
              "#f0f921"
             ]
            ],
            "type": "contour"
           }
          ],
          "contourcarpet": [
           {
            "colorbar": {
             "outlinewidth": 0,
             "ticks": ""
            },
            "type": "contourcarpet"
           }
          ],
          "heatmap": [
           {
            "colorbar": {
             "outlinewidth": 0,
             "ticks": ""
            },
            "colorscale": [
             [
              0,
              "#0d0887"
             ],
             [
              0.1111111111111111,
              "#46039f"
             ],
             [
              0.2222222222222222,
              "#7201a8"
             ],
             [
              0.3333333333333333,
              "#9c179e"
             ],
             [
              0.4444444444444444,
              "#bd3786"
             ],
             [
              0.5555555555555556,
              "#d8576b"
             ],
             [
              0.6666666666666666,
              "#ed7953"
             ],
             [
              0.7777777777777778,
              "#fb9f3a"
             ],
             [
              0.8888888888888888,
              "#fdca26"
             ],
             [
              1,
              "#f0f921"
             ]
            ],
            "type": "heatmap"
           }
          ],
          "heatmapgl": [
           {
            "colorbar": {
             "outlinewidth": 0,
             "ticks": ""
            },
            "colorscale": [
             [
              0,
              "#0d0887"
             ],
             [
              0.1111111111111111,
              "#46039f"
             ],
             [
              0.2222222222222222,
              "#7201a8"
             ],
             [
              0.3333333333333333,
              "#9c179e"
             ],
             [
              0.4444444444444444,
              "#bd3786"
             ],
             [
              0.5555555555555556,
              "#d8576b"
             ],
             [
              0.6666666666666666,
              "#ed7953"
             ],
             [
              0.7777777777777778,
              "#fb9f3a"
             ],
             [
              0.8888888888888888,
              "#fdca26"
             ],
             [
              1,
              "#f0f921"
             ]
            ],
            "type": "heatmapgl"
           }
          ],
          "histogram": [
           {
            "marker": {
             "colorbar": {
              "outlinewidth": 0,
              "ticks": ""
             }
            },
            "type": "histogram"
           }
          ],
          "histogram2d": [
           {
            "colorbar": {
             "outlinewidth": 0,
             "ticks": ""
            },
            "colorscale": [
             [
              0,
              "#0d0887"
             ],
             [
              0.1111111111111111,
              "#46039f"
             ],
             [
              0.2222222222222222,
              "#7201a8"
             ],
             [
              0.3333333333333333,
              "#9c179e"
             ],
             [
              0.4444444444444444,
              "#bd3786"
             ],
             [
              0.5555555555555556,
              "#d8576b"
             ],
             [
              0.6666666666666666,
              "#ed7953"
             ],
             [
              0.7777777777777778,
              "#fb9f3a"
             ],
             [
              0.8888888888888888,
              "#fdca26"
             ],
             [
              1,
              "#f0f921"
             ]
            ],
            "type": "histogram2d"
           }
          ],
          "histogram2dcontour": [
           {
            "colorbar": {
             "outlinewidth": 0,
             "ticks": ""
            },
            "colorscale": [
             [
              0,
              "#0d0887"
             ],
             [
              0.1111111111111111,
              "#46039f"
             ],
             [
              0.2222222222222222,
              "#7201a8"
             ],
             [
              0.3333333333333333,
              "#9c179e"
             ],
             [
              0.4444444444444444,
              "#bd3786"
             ],
             [
              0.5555555555555556,
              "#d8576b"
             ],
             [
              0.6666666666666666,
              "#ed7953"
             ],
             [
              0.7777777777777778,
              "#fb9f3a"
             ],
             [
              0.8888888888888888,
              "#fdca26"
             ],
             [
              1,
              "#f0f921"
             ]
            ],
            "type": "histogram2dcontour"
           }
          ],
          "mesh3d": [
           {
            "colorbar": {
             "outlinewidth": 0,
             "ticks": ""
            },
            "type": "mesh3d"
           }
          ],
          "parcoords": [
           {
            "line": {
             "colorbar": {
              "outlinewidth": 0,
              "ticks": ""
             }
            },
            "type": "parcoords"
           }
          ],
          "pie": [
           {
            "automargin": true,
            "type": "pie"
           }
          ],
          "scatter": [
           {
            "marker": {
             "colorbar": {
              "outlinewidth": 0,
              "ticks": ""
             }
            },
            "type": "scatter"
           }
          ],
          "scatter3d": [
           {
            "line": {
             "colorbar": {
              "outlinewidth": 0,
              "ticks": ""
             }
            },
            "marker": {
             "colorbar": {
              "outlinewidth": 0,
              "ticks": ""
             }
            },
            "type": "scatter3d"
           }
          ],
          "scattercarpet": [
           {
            "marker": {
             "colorbar": {
              "outlinewidth": 0,
              "ticks": ""
             }
            },
            "type": "scattercarpet"
           }
          ],
          "scattergeo": [
           {
            "marker": {
             "colorbar": {
              "outlinewidth": 0,
              "ticks": ""
             }
            },
            "type": "scattergeo"
           }
          ],
          "scattergl": [
           {
            "marker": {
             "colorbar": {
              "outlinewidth": 0,
              "ticks": ""
             }
            },
            "type": "scattergl"
           }
          ],
          "scattermapbox": [
           {
            "marker": {
             "colorbar": {
              "outlinewidth": 0,
              "ticks": ""
             }
            },
            "type": "scattermapbox"
           }
          ],
          "scatterpolar": [
           {
            "marker": {
             "colorbar": {
              "outlinewidth": 0,
              "ticks": ""
             }
            },
            "type": "scatterpolar"
           }
          ],
          "scatterpolargl": [
           {
            "marker": {
             "colorbar": {
              "outlinewidth": 0,
              "ticks": ""
             }
            },
            "type": "scatterpolargl"
           }
          ],
          "scatterternary": [
           {
            "marker": {
             "colorbar": {
              "outlinewidth": 0,
              "ticks": ""
             }
            },
            "type": "scatterternary"
           }
          ],
          "surface": [
           {
            "colorbar": {
             "outlinewidth": 0,
             "ticks": ""
            },
            "colorscale": [
             [
              0,
              "#0d0887"
             ],
             [
              0.1111111111111111,
              "#46039f"
             ],
             [
              0.2222222222222222,
              "#7201a8"
             ],
             [
              0.3333333333333333,
              "#9c179e"
             ],
             [
              0.4444444444444444,
              "#bd3786"
             ],
             [
              0.5555555555555556,
              "#d8576b"
             ],
             [
              0.6666666666666666,
              "#ed7953"
             ],
             [
              0.7777777777777778,
              "#fb9f3a"
             ],
             [
              0.8888888888888888,
              "#fdca26"
             ],
             [
              1,
              "#f0f921"
             ]
            ],
            "type": "surface"
           }
          ],
          "table": [
           {
            "cells": {
             "fill": {
              "color": "#EBF0F8"
             },
             "line": {
              "color": "white"
             }
            },
            "header": {
             "fill": {
              "color": "#C8D4E3"
             },
             "line": {
              "color": "white"
             }
            },
            "type": "table"
           }
          ]
         },
         "layout": {
          "annotationdefaults": {
           "arrowcolor": "#2a3f5f",
           "arrowhead": 0,
           "arrowwidth": 1
          },
          "autotypenumbers": "strict",
          "coloraxis": {
           "colorbar": {
            "outlinewidth": 0,
            "ticks": ""
           }
          },
          "colorscale": {
           "diverging": [
            [
             0,
             "#8e0152"
            ],
            [
             0.1,
             "#c51b7d"
            ],
            [
             0.2,
             "#de77ae"
            ],
            [
             0.3,
             "#f1b6da"
            ],
            [
             0.4,
             "#fde0ef"
            ],
            [
             0.5,
             "#f7f7f7"
            ],
            [
             0.6,
             "#e6f5d0"
            ],
            [
             0.7,
             "#b8e186"
            ],
            [
             0.8,
             "#7fbc41"
            ],
            [
             0.9,
             "#4d9221"
            ],
            [
             1,
             "#276419"
            ]
           ],
           "sequential": [
            [
             0,
             "#0d0887"
            ],
            [
             0.1111111111111111,
             "#46039f"
            ],
            [
             0.2222222222222222,
             "#7201a8"
            ],
            [
             0.3333333333333333,
             "#9c179e"
            ],
            [
             0.4444444444444444,
             "#bd3786"
            ],
            [
             0.5555555555555556,
             "#d8576b"
            ],
            [
             0.6666666666666666,
             "#ed7953"
            ],
            [
             0.7777777777777778,
             "#fb9f3a"
            ],
            [
             0.8888888888888888,
             "#fdca26"
            ],
            [
             1,
             "#f0f921"
            ]
           ],
           "sequentialminus": [
            [
             0,
             "#0d0887"
            ],
            [
             0.1111111111111111,
             "#46039f"
            ],
            [
             0.2222222222222222,
             "#7201a8"
            ],
            [
             0.3333333333333333,
             "#9c179e"
            ],
            [
             0.4444444444444444,
             "#bd3786"
            ],
            [
             0.5555555555555556,
             "#d8576b"
            ],
            [
             0.6666666666666666,
             "#ed7953"
            ],
            [
             0.7777777777777778,
             "#fb9f3a"
            ],
            [
             0.8888888888888888,
             "#fdca26"
            ],
            [
             1,
             "#f0f921"
            ]
           ]
          },
          "colorway": [
           "#636efa",
           "#EF553B",
           "#00cc96",
           "#ab63fa",
           "#FFA15A",
           "#19d3f3",
           "#FF6692",
           "#B6E880",
           "#FF97FF",
           "#FECB52"
          ],
          "font": {
           "color": "#2a3f5f"
          },
          "geo": {
           "bgcolor": "white",
           "lakecolor": "white",
           "landcolor": "#E5ECF6",
           "showlakes": true,
           "showland": true,
           "subunitcolor": "white"
          },
          "hoverlabel": {
           "align": "left"
          },
          "hovermode": "closest",
          "mapbox": {
           "style": "light"
          },
          "paper_bgcolor": "white",
          "plot_bgcolor": "#E5ECF6",
          "polar": {
           "angularaxis": {
            "gridcolor": "white",
            "linecolor": "white",
            "ticks": ""
           },
           "bgcolor": "#E5ECF6",
           "radialaxis": {
            "gridcolor": "white",
            "linecolor": "white",
            "ticks": ""
           }
          },
          "scene": {
           "xaxis": {
            "backgroundcolor": "#E5ECF6",
            "gridcolor": "white",
            "gridwidth": 2,
            "linecolor": "white",
            "showbackground": true,
            "ticks": "",
            "zerolinecolor": "white"
           },
           "yaxis": {
            "backgroundcolor": "#E5ECF6",
            "gridcolor": "white",
            "gridwidth": 2,
            "linecolor": "white",
            "showbackground": true,
            "ticks": "",
            "zerolinecolor": "white"
           },
           "zaxis": {
            "backgroundcolor": "#E5ECF6",
            "gridcolor": "white",
            "gridwidth": 2,
            "linecolor": "white",
            "showbackground": true,
            "ticks": "",
            "zerolinecolor": "white"
           }
          },
          "shapedefaults": {
           "line": {
            "color": "#2a3f5f"
           }
          },
          "ternary": {
           "aaxis": {
            "gridcolor": "white",
            "linecolor": "white",
            "ticks": ""
           },
           "baxis": {
            "gridcolor": "white",
            "linecolor": "white",
            "ticks": ""
           },
           "bgcolor": "#E5ECF6",
           "caxis": {
            "gridcolor": "white",
            "linecolor": "white",
            "ticks": ""
           }
          },
          "title": {
           "x": 0.05
          },
          "xaxis": {
           "automargin": true,
           "gridcolor": "white",
           "linecolor": "white",
           "ticks": "",
           "title": {
            "standoff": 15
           },
           "zerolinecolor": "white",
           "zerolinewidth": 2
          },
          "yaxis": {
           "automargin": true,
           "gridcolor": "white",
           "linecolor": "white",
           "ticks": "",
           "title": {
            "standoff": 15
           },
           "zerolinecolor": "white",
           "zerolinewidth": 2
          }
         }
        },
        "xaxis": {
         "anchor": "y",
         "domain": [
          0,
          1
         ],
         "title": {
          "text": "Daily New Deaths Across Texas"
         }
        },
        "yaxis": {
         "anchor": "x",
         "domain": [
          0,
          1
         ],
         "title": {
          "text": "count"
         }
        }
       }
      },
      "text/html": [
       "<div>                            <div id=\"f1989816-e12d-4425-ae42-622f17eea066\" class=\"plotly-graph-div\" style=\"height:525px; width:100%;\"></div>            <script type=\"text/javascript\">                require([\"plotly\"], function(Plotly) {                    window.PLOTLYENV=window.PLOTLYENV || {};                                    if (document.getElementById(\"f1989816-e12d-4425-ae42-622f17eea066\")) {                    Plotly.newPlot(                        \"f1989816-e12d-4425-ae42-622f17eea066\",                        [{\"alignmentgroup\": \"True\", \"bingroup\": \"x\", \"hovertemplate\": \"Daily New Deaths Across Texas=%{x}<br>count=%{y}<extra></extra>\", \"legendgroup\": \"\", \"marker\": {\"color\": \"#636efa\"}, \"name\": \"\", \"nbinsx\": 15, \"offsetgroup\": \"\", \"orientation\": \"v\", \"showlegend\": false, \"type\": \"histogram\", \"x\": [259.88443396226415, 161.76650943396226, 342.49056603773585, 172.00235849056602, 134.6179245283019, 118.34905660377359, 247.12735849056602, 187.40330188679246, 131.5259433962264, 170.35849056603774, 330.52122641509436, 122.6627358490566, 196.15801886792454, 1004.7075471698113, 5127.287735849057, 144.45990566037736, 115.125, 160.41509433962264, 351.60141509433964, 1034.5377358490566, 675.2948113207547, 136.22877358490567, 117.53301886792453, 133.45283018867926, 213.51179245283018, 160.41509433962264, 232.87028301886792, 224.74528301886792, 165.68632075471697, 149.83018867924528, 1239.757075471698, 148.13443396226415, 128.70754716981133, 191.4009433962264, 133.93632075471697, 219.3066037735849, 249.3820754716981, 132.25943396226415, 139.63915094339623, 121.49292452830188, 122.48584905660377, 135.58490566037736, 2624.5990566037735, 121.22169811320755, 166.4693396226415, 506.95283018867923, 150.29716981132074, 120.78066037735849, 216.7806603773585, 299.8632075471698, 117.48349056603773, 126.67216981132076, 123.26415094339623, 129.79481132075472, 119.41509433962264, 132.91981132075472, 6665.367924528302, 149.70990566037736, 163.7004716981132, 127.16037735849056, 2269.311320754717, 166.71462264150944, 119.72641509433963, 139.73820754716982, 122.7004716981132, 143.43867924528303, 160.9693396226415, 536.9504716981132, 118.55896226415095, 576.3514150943396, 2316.4504716981132, 220.36556603773585, 157.0566037735849, 206.92688679245282, 178.46698113207546, 123.96462264150944, 129.75, 117.21698113207547, 2082.2334905660377, 141.32075471698113, 164.41509433962264, 165.62028301886792, 168.15801886792454, 954.5566037735849, 130.37735849056602, 181.66037735849056, 117.23113207547169, 132.95990566037736, 167.79481132075472, 170.3561320754717, 464.50943396226415, 436.1132075471698, 187.7570754716981, 524.8537735849056, 206.69103773584905, 122.01179245283019, 136.14858490566039, 128.5754716981132, 124.12971698113208, 258.64622641509436, 11719.17924528302, 280.688679245283, 127.30424528301887, 129.4316037735849, 674.1297169811321, 123.0, 324.08962264150944, 2393.2971698113206, 209.32311320754718, 176.91037735849056, 269.92216981132077, 210.87735849056602, 172.13915094339623, 209.01179245283018, 126.34905660377359, 359.936320754717, 169.39622641509433, 117.58490566037736, 136.3490566037736, 151.31367924528303, 204.94811320754718, 119.60613207547169, 739.875, 127.47641509433963, 217.50471698113208, 558.7594339622641, 165.91037735849056, 153.42216981132074, 455.3042452830189, 231.6438679245283, 115.06367924528301, 115.9127358490566, 245.24528301886792, 124.70283018867924, 114.59669811320755, 123.13207547169812, 193.91509433962264, 123.91981132075472, 244.6556603773585, 151.62971698113208, 167.31367924528303, 133.8183962264151, 167.8938679245283, 157.9693396226415, 158.62735849056602, 336.9740566037736, 175.22169811320754, 122.68867924528301, 144.5566037735849, 169.69575471698113, 114.42924528301887, 914.4080188679245, 130.08254716981133, 134.44575471698113, 759.3443396226415, 116.24292452830188, 150.0943396226415, 140.1745283018868, 129.24528301886792, 124.67688679245283, 208.65330188679246, 280.4457547169811, 244.5070754716981, 119.91745283018868, 554.1674528301887, 176.5566037735849, 127.33962264150944, 136.8679245283019, 166.75943396226415, 1588.9740566037735, 169.7688679245283, 146.12264150943398, 117.6627358490566, 281.9410377358491, 243.87735849056602, 148.94811320754718, 153.12971698113208, 1030.4740566037735, 139.5754716981132, 119.48820754716981, 321.2830188679245, 188.83018867924528, 175.62971698113208, 465.60849056603774, 139.91509433962264, 154.41273584905662, 244.11320754716982, 423.3183962264151, 132.0683962264151, 145.9433962264151, 462.0306603773585, 124.15330188679245, 123.38915094339623, 145.73584905660377, 155.40330188679246, 132.32783018867926, 116.34669811320755, 158.09198113207546, 374.1061320754717, 141.69575471698113, 251.67924528301887, 142.53301886792454, 136.50471698113208, 184.89150943396226, 283.9858490566038, 130.52358490566039, 121.39150943396227, 158.95754716981133, 122.34433962264151, 179.35141509433961, 122.45990566037736, 699.683962264151, 136.95518867924528, 290.70754716981133, 138.54481132075472, 117.72169811320755, 118.03537735849056, 123.93160377358491, 133.24056603773585, 5310.75, 472.54009433962267, 116.36556603773585, 148.13443396226415, 118.33962264150944, 198.6556603773585, 418.45283018867923, 3199.926886792453, 150.89858490566039, 168.65330188679246, 218.56132075471697, 123.79716981132076, 183.30896226415095, 247.23584905660377, 257.6698113207547, 347.95990566037733, 297.1627358490566, 248.70283018867926, 144.5943396226415, 206.2570754716981, 832.4599056603773, 221.66037735849056, 127.23113207547169, 457.10141509433964, 149.13679245283018, 171.85141509433961, 1545.948113207547, 240.2570754716981, 135.15801886792454, 289.41037735849056, 232.11320754716982, 137.29009433962264, 160.55424528301887, 150.36084905660377, 145.7570754716981], \"xaxis\": \"x\", \"yaxis\": \"y\"}],                        {\"barmode\": \"relative\", \"legend\": {\"tracegroupgap\": 0}, \"margin\": {\"t\": 60}, \"template\": {\"data\": {\"bar\": [{\"error_x\": {\"color\": \"#2a3f5f\"}, \"error_y\": {\"color\": \"#2a3f5f\"}, \"marker\": {\"line\": {\"color\": \"#E5ECF6\", \"width\": 0.5}}, \"type\": \"bar\"}], \"barpolar\": [{\"marker\": {\"line\": {\"color\": \"#E5ECF6\", \"width\": 0.5}}, \"type\": \"barpolar\"}], \"carpet\": [{\"aaxis\": {\"endlinecolor\": \"#2a3f5f\", \"gridcolor\": \"white\", \"linecolor\": \"white\", \"minorgridcolor\": \"white\", \"startlinecolor\": \"#2a3f5f\"}, \"baxis\": {\"endlinecolor\": \"#2a3f5f\", \"gridcolor\": \"white\", \"linecolor\": \"white\", \"minorgridcolor\": \"white\", \"startlinecolor\": \"#2a3f5f\"}, \"type\": \"carpet\"}], \"choropleth\": [{\"colorbar\": {\"outlinewidth\": 0, \"ticks\": \"\"}, \"type\": \"choropleth\"}], \"contour\": [{\"colorbar\": {\"outlinewidth\": 0, \"ticks\": \"\"}, \"colorscale\": [[0.0, \"#0d0887\"], [0.1111111111111111, \"#46039f\"], [0.2222222222222222, \"#7201a8\"], [0.3333333333333333, \"#9c179e\"], [0.4444444444444444, \"#bd3786\"], [0.5555555555555556, \"#d8576b\"], [0.6666666666666666, \"#ed7953\"], [0.7777777777777778, \"#fb9f3a\"], [0.8888888888888888, \"#fdca26\"], [1.0, \"#f0f921\"]], \"type\": \"contour\"}], \"contourcarpet\": [{\"colorbar\": {\"outlinewidth\": 0, \"ticks\": \"\"}, \"type\": \"contourcarpet\"}], \"heatmap\": [{\"colorbar\": {\"outlinewidth\": 0, \"ticks\": \"\"}, \"colorscale\": [[0.0, \"#0d0887\"], [0.1111111111111111, \"#46039f\"], [0.2222222222222222, \"#7201a8\"], [0.3333333333333333, \"#9c179e\"], [0.4444444444444444, \"#bd3786\"], [0.5555555555555556, \"#d8576b\"], [0.6666666666666666, \"#ed7953\"], [0.7777777777777778, \"#fb9f3a\"], [0.8888888888888888, \"#fdca26\"], [1.0, \"#f0f921\"]], \"type\": \"heatmap\"}], \"heatmapgl\": [{\"colorbar\": {\"outlinewidth\": 0, \"ticks\": \"\"}, \"colorscale\": [[0.0, \"#0d0887\"], [0.1111111111111111, \"#46039f\"], [0.2222222222222222, \"#7201a8\"], [0.3333333333333333, \"#9c179e\"], [0.4444444444444444, \"#bd3786\"], [0.5555555555555556, \"#d8576b\"], [0.6666666666666666, \"#ed7953\"], [0.7777777777777778, \"#fb9f3a\"], [0.8888888888888888, \"#fdca26\"], [1.0, \"#f0f921\"]], \"type\": \"heatmapgl\"}], \"histogram\": [{\"marker\": {\"colorbar\": {\"outlinewidth\": 0, \"ticks\": \"\"}}, \"type\": \"histogram\"}], \"histogram2d\": [{\"colorbar\": {\"outlinewidth\": 0, \"ticks\": \"\"}, \"colorscale\": [[0.0, \"#0d0887\"], [0.1111111111111111, \"#46039f\"], [0.2222222222222222, \"#7201a8\"], [0.3333333333333333, \"#9c179e\"], [0.4444444444444444, \"#bd3786\"], [0.5555555555555556, \"#d8576b\"], [0.6666666666666666, \"#ed7953\"], [0.7777777777777778, \"#fb9f3a\"], [0.8888888888888888, \"#fdca26\"], [1.0, \"#f0f921\"]], \"type\": \"histogram2d\"}], \"histogram2dcontour\": [{\"colorbar\": {\"outlinewidth\": 0, \"ticks\": \"\"}, \"colorscale\": [[0.0, \"#0d0887\"], [0.1111111111111111, \"#46039f\"], [0.2222222222222222, \"#7201a8\"], [0.3333333333333333, \"#9c179e\"], [0.4444444444444444, \"#bd3786\"], [0.5555555555555556, \"#d8576b\"], [0.6666666666666666, \"#ed7953\"], [0.7777777777777778, \"#fb9f3a\"], [0.8888888888888888, \"#fdca26\"], [1.0, \"#f0f921\"]], \"type\": \"histogram2dcontour\"}], \"mesh3d\": [{\"colorbar\": {\"outlinewidth\": 0, \"ticks\": \"\"}, \"type\": \"mesh3d\"}], \"parcoords\": [{\"line\": {\"colorbar\": {\"outlinewidth\": 0, \"ticks\": \"\"}}, \"type\": \"parcoords\"}], \"pie\": [{\"automargin\": true, \"type\": \"pie\"}], \"scatter\": [{\"marker\": {\"colorbar\": {\"outlinewidth\": 0, \"ticks\": \"\"}}, \"type\": \"scatter\"}], \"scatter3d\": [{\"line\": {\"colorbar\": {\"outlinewidth\": 0, \"ticks\": \"\"}}, \"marker\": {\"colorbar\": {\"outlinewidth\": 0, \"ticks\": \"\"}}, \"type\": \"scatter3d\"}], \"scattercarpet\": [{\"marker\": {\"colorbar\": {\"outlinewidth\": 0, \"ticks\": \"\"}}, \"type\": \"scattercarpet\"}], \"scattergeo\": [{\"marker\": {\"colorbar\": {\"outlinewidth\": 0, \"ticks\": \"\"}}, \"type\": \"scattergeo\"}], \"scattergl\": [{\"marker\": {\"colorbar\": {\"outlinewidth\": 0, \"ticks\": \"\"}}, \"type\": \"scattergl\"}], \"scattermapbox\": [{\"marker\": {\"colorbar\": {\"outlinewidth\": 0, \"ticks\": \"\"}}, \"type\": \"scattermapbox\"}], \"scatterpolar\": [{\"marker\": {\"colorbar\": {\"outlinewidth\": 0, \"ticks\": \"\"}}, \"type\": \"scatterpolar\"}], \"scatterpolargl\": [{\"marker\": {\"colorbar\": {\"outlinewidth\": 0, \"ticks\": \"\"}}, \"type\": \"scatterpolargl\"}], \"scatterternary\": [{\"marker\": {\"colorbar\": {\"outlinewidth\": 0, \"ticks\": \"\"}}, \"type\": \"scatterternary\"}], \"surface\": [{\"colorbar\": {\"outlinewidth\": 0, \"ticks\": \"\"}, \"colorscale\": [[0.0, \"#0d0887\"], [0.1111111111111111, \"#46039f\"], [0.2222222222222222, \"#7201a8\"], [0.3333333333333333, \"#9c179e\"], [0.4444444444444444, \"#bd3786\"], [0.5555555555555556, \"#d8576b\"], [0.6666666666666666, \"#ed7953\"], [0.7777777777777778, \"#fb9f3a\"], [0.8888888888888888, \"#fdca26\"], [1.0, \"#f0f921\"]], \"type\": \"surface\"}], \"table\": [{\"cells\": {\"fill\": {\"color\": \"#EBF0F8\"}, \"line\": {\"color\": \"white\"}}, \"header\": {\"fill\": {\"color\": \"#C8D4E3\"}, \"line\": {\"color\": \"white\"}}, \"type\": \"table\"}]}, \"layout\": {\"annotationdefaults\": {\"arrowcolor\": \"#2a3f5f\", \"arrowhead\": 0, \"arrowwidth\": 1}, \"autotypenumbers\": \"strict\", \"coloraxis\": {\"colorbar\": {\"outlinewidth\": 0, \"ticks\": \"\"}}, \"colorscale\": {\"diverging\": [[0, \"#8e0152\"], [0.1, \"#c51b7d\"], [0.2, \"#de77ae\"], [0.3, \"#f1b6da\"], [0.4, \"#fde0ef\"], [0.5, \"#f7f7f7\"], [0.6, \"#e6f5d0\"], [0.7, \"#b8e186\"], [0.8, \"#7fbc41\"], [0.9, \"#4d9221\"], [1, \"#276419\"]], \"sequential\": [[0.0, \"#0d0887\"], [0.1111111111111111, \"#46039f\"], [0.2222222222222222, \"#7201a8\"], [0.3333333333333333, \"#9c179e\"], [0.4444444444444444, \"#bd3786\"], [0.5555555555555556, \"#d8576b\"], [0.6666666666666666, \"#ed7953\"], [0.7777777777777778, \"#fb9f3a\"], [0.8888888888888888, \"#fdca26\"], [1.0, \"#f0f921\"]], \"sequentialminus\": [[0.0, \"#0d0887\"], [0.1111111111111111, \"#46039f\"], [0.2222222222222222, \"#7201a8\"], [0.3333333333333333, \"#9c179e\"], [0.4444444444444444, \"#bd3786\"], [0.5555555555555556, \"#d8576b\"], [0.6666666666666666, \"#ed7953\"], [0.7777777777777778, \"#fb9f3a\"], [0.8888888888888888, \"#fdca26\"], [1.0, \"#f0f921\"]]}, \"colorway\": [\"#636efa\", \"#EF553B\", \"#00cc96\", \"#ab63fa\", \"#FFA15A\", \"#19d3f3\", \"#FF6692\", \"#B6E880\", \"#FF97FF\", \"#FECB52\"], \"font\": {\"color\": \"#2a3f5f\"}, \"geo\": {\"bgcolor\": \"white\", \"lakecolor\": \"white\", \"landcolor\": \"#E5ECF6\", \"showlakes\": true, \"showland\": true, \"subunitcolor\": \"white\"}, \"hoverlabel\": {\"align\": \"left\"}, \"hovermode\": \"closest\", \"mapbox\": {\"style\": \"light\"}, \"paper_bgcolor\": \"white\", \"plot_bgcolor\": \"#E5ECF6\", \"polar\": {\"angularaxis\": {\"gridcolor\": \"white\", \"linecolor\": \"white\", \"ticks\": \"\"}, \"bgcolor\": \"#E5ECF6\", \"radialaxis\": {\"gridcolor\": \"white\", \"linecolor\": \"white\", \"ticks\": \"\"}}, \"scene\": {\"xaxis\": {\"backgroundcolor\": \"#E5ECF6\", \"gridcolor\": \"white\", \"gridwidth\": 2, \"linecolor\": \"white\", \"showbackground\": true, \"ticks\": \"\", \"zerolinecolor\": \"white\"}, \"yaxis\": {\"backgroundcolor\": \"#E5ECF6\", \"gridcolor\": \"white\", \"gridwidth\": 2, \"linecolor\": \"white\", \"showbackground\": true, \"ticks\": \"\", \"zerolinecolor\": \"white\"}, \"zaxis\": {\"backgroundcolor\": \"#E5ECF6\", \"gridcolor\": \"white\", \"gridwidth\": 2, \"linecolor\": \"white\", \"showbackground\": true, \"ticks\": \"\", \"zerolinecolor\": \"white\"}}, \"shapedefaults\": {\"line\": {\"color\": \"#2a3f5f\"}}, \"ternary\": {\"aaxis\": {\"gridcolor\": \"white\", \"linecolor\": \"white\", \"ticks\": \"\"}, \"baxis\": {\"gridcolor\": \"white\", \"linecolor\": \"white\", \"ticks\": \"\"}, \"bgcolor\": \"#E5ECF6\", \"caxis\": {\"gridcolor\": \"white\", \"linecolor\": \"white\", \"ticks\": \"\"}}, \"title\": {\"x\": 0.05}, \"xaxis\": {\"automargin\": true, \"gridcolor\": \"white\", \"linecolor\": \"white\", \"ticks\": \"\", \"title\": {\"standoff\": 15}, \"zerolinecolor\": \"white\", \"zerolinewidth\": 2}, \"yaxis\": {\"automargin\": true, \"gridcolor\": \"white\", \"linecolor\": \"white\", \"ticks\": \"\", \"title\": {\"standoff\": 15}, \"zerolinecolor\": \"white\", \"zerolinewidth\": 2}}}, \"xaxis\": {\"anchor\": \"y\", \"domain\": [0.0, 1.0], \"title\": {\"text\": \"Daily New Deaths Across Texas\"}}, \"yaxis\": {\"anchor\": \"x\", \"domain\": [0.0, 1.0], \"title\": {\"text\": \"count\"}}},                        {\"responsive\": true}                    ).then(function(){\n",
       "                            \n",
       "var gd = document.getElementById('f1989816-e12d-4425-ae42-622f17eea066');\n",
       "var x = new MutationObserver(function (mutations, observer) {{\n",
       "        var display = window.getComputedStyle(gd).display;\n",
       "        if (!display || display === 'none') {{\n",
       "            console.log([gd, 'removed!']);\n",
       "            Plotly.purge(gd);\n",
       "            observer.disconnect();\n",
       "        }}\n",
       "}});\n",
       "\n",
       "// Listen for the removal of the full notebook cells\n",
       "var notebookContainer = gd.closest('#notebook-container');\n",
       "if (notebookContainer) {{\n",
       "    x.observe(notebookContainer, {childList: true});\n",
       "}}\n",
       "\n",
       "// Listen for the clearing of the current output cell\n",
       "var outputEl = gd.closest('.output');\n",
       "if (outputEl) {{\n",
       "    x.observe(outputEl, {childList: true});\n",
       "}}\n",
       "\n",
       "                        })                };                });            </script>        </div>"
      ]
     },
     "metadata": {},
     "output_type": "display_data"
    }
   ],
   "source": [
    "TXDeathsCasesPlot"
   ]
  },
  {
   "cell_type": "markdown",
   "metadata": {},
   "source": [
    "# Member Task 2 - 2"
   ]
  },
  {
   "cell_type": "markdown",
   "metadata": {},
   "source": [
    "### Texas Cases Poission Distribution "
   ]
  },
  {
   "cell_type": "code",
   "execution_count": 31,
   "metadata": {},
   "outputs": [
    {
     "data": {
      "application/vnd.plotly.v1+json": {
       "config": {
        "plotlyServerURL": "https://plot.ly"
       },
       "data": [
        {
         "alignmentgroup": "True",
         "bingroup": "x",
         "hovertemplate": "variable=0<br>value=%{x}<br>count=%{y}<extra></extra>",
         "legendgroup": "0",
         "marker": {
          "color": "#636efa"
         },
         "name": "0",
         "offsetgroup": "0",
         "orientation": "v",
         "showlegend": true,
         "type": "histogram",
         "x": [
          902196,
          904075,
          904255,
          903019,
          904021,
          904157,
          902807,
          904745,
          903597,
          903983,
          903193,
          903727,
          903338,
          906207,
          904192,
          902376,
          903611,
          903973,
          903658,
          904424,
          903280,
          902378,
          904329,
          904879,
          903354,
          902682,
          902311,
          902075,
          903742,
          903272,
          901652,
          904163,
          903598,
          904378,
          902564,
          904731,
          904212,
          903363,
          904829,
          904604,
          902515,
          903801,
          904140,
          904232,
          904764,
          902295,
          902195,
          902972,
          903288,
          904426,
          902744,
          905043,
          902315,
          905545,
          902762,
          903503,
          903746,
          901578,
          902447,
          902365,
          902700,
          903205,
          902669,
          903685,
          904185,
          903962,
          903934,
          903862,
          902039,
          903266,
          906131,
          901724,
          903430,
          904621,
          903597,
          903332,
          904400,
          903021,
          903087,
          902472,
          902301,
          900628,
          903058,
          901901,
          904273,
          904044,
          903203,
          903529,
          905511,
          904589,
          903516,
          905481,
          903596,
          905516,
          902834,
          903634,
          903607,
          902496,
          902748,
          903701,
          903763,
          902258,
          903129,
          903032,
          903905,
          901862,
          902784,
          902676,
          901076,
          904498,
          902931,
          904055,
          904228,
          904221,
          902277,
          903750,
          901886,
          903232,
          903473,
          902020,
          905056,
          903980,
          903613,
          903598,
          904979,
          902323,
          903633,
          905781,
          904205,
          904274,
          903234,
          904410,
          902113,
          905089,
          901086,
          904006,
          903838,
          903421,
          905032,
          902363,
          902487,
          903573,
          904189,
          903373,
          904211,
          903743,
          904974,
          903879,
          903113,
          904003,
          902458,
          904333,
          904472,
          902251,
          903379,
          904047,
          903251,
          902543,
          902262,
          905221,
          903601,
          904758,
          902794,
          902710,
          903676,
          903473,
          902505,
          903914,
          903406,
          903597,
          903536,
          904002,
          903738,
          902620,
          903434,
          903601,
          902506,
          904418,
          904228,
          904530,
          904892,
          904155,
          904038,
          903071,
          902899,
          900749,
          902405,
          903170,
          904029,
          903457,
          904269,
          902748,
          904742,
          903284,
          903594,
          903355,
          902624,
          902058,
          904111,
          904290,
          903699,
          904502,
          902759,
          904747,
          902926,
          904635,
          901570,
          903925,
          904041,
          903748,
          901034,
          903283,
          904674,
          903974,
          901982,
          903441,
          904666,
          903348,
          903797,
          905555,
          903669,
          903755,
          903974,
          902632,
          902531,
          903533,
          903266,
          903438,
          904552,
          904503,
          903163,
          904603,
          905199,
          904090,
          902918,
          903902,
          902424,
          904258,
          904895,
          904144,
          901988,
          902116,
          904650,
          903546,
          904438,
          904187,
          901304,
          904895,
          902616,
          903614,
          904782,
          902992,
          902652,
          904213,
          904265,
          902622,
          902279,
          904105,
          902392,
          903071,
          903866,
          903003,
          904651,
          903371,
          905052,
          903221,
          902646,
          905388,
          904013,
          903035,
          903855,
          903678,
          903997,
          903942,
          902761,
          904556,
          904990,
          902770,
          906035,
          903487,
          903349,
          904296,
          904418,
          900724,
          904804,
          903801,
          903751,
          903942,
          902594,
          905782,
          904754,
          903180,
          901945,
          904135,
          903856,
          902499,
          904268,
          903138,
          902809,
          904215,
          902399,
          906293,
          903622,
          903337,
          901502,
          902856,
          904198,
          903702,
          904108,
          903495,
          903742,
          903847,
          903967,
          904505,
          904034,
          901895,
          903812,
          902487,
          903646,
          903717,
          903742,
          904686,
          902424,
          903804,
          904286,
          902519,
          904579,
          903895,
          903207,
          903997,
          902158,
          902788,
          904845,
          904854,
          903328,
          903273,
          904225,
          902630,
          902456,
          905232,
          903158,
          904846,
          904086,
          903753,
          904474,
          903241,
          903309,
          903372,
          903746,
          903459,
          903836,
          903459,
          903408,
          905054,
          902644,
          902089,
          903220,
          903877,
          903364,
          903781,
          903722,
          905228,
          905458,
          904078,
          902808,
          903901,
          903691,
          903384,
          903710,
          902756,
          903554,
          903467,
          904085,
          903283,
          903657,
          904776,
          902596,
          903821,
          902542,
          902625,
          903807,
          903851,
          902891,
          903926,
          902967,
          902893,
          901962,
          903899,
          903314,
          904236,
          904460,
          902824,
          901267,
          904565,
          904008,
          902145,
          905230,
          904804,
          903863,
          903459,
          904776,
          904628,
          904522,
          904696,
          901888,
          905191,
          902564,
          902377,
          902683,
          904265,
          903838,
          903262,
          904065,
          904818,
          903125,
          903412,
          904002,
          903110,
          903578,
          903562,
          904399,
          903994,
          902046,
          904133,
          902343,
          902847,
          903784,
          901557,
          901472,
          905036,
          903940,
          904102,
          902729,
          905497,
          903026,
          903182,
          903237,
          903385,
          903043,
          903634,
          903678,
          902944,
          904603,
          902184,
          904268,
          903691,
          905065,
          903794,
          903457,
          904488,
          904725,
          904243,
          904563,
          903704,
          903729,
          903696,
          904880,
          902928,
          904936,
          903013,
          902334,
          904883,
          902603,
          904518,
          903932,
          903549,
          904445,
          904455,
          903129,
          904842,
          903527,
          904232,
          902914,
          903152,
          902622,
          903234,
          903830,
          903191,
          903968,
          901784,
          903792,
          903386,
          902294,
          901936,
          903149,
          902435,
          903514,
          902412,
          902360,
          905358,
          904349,
          902681,
          903851,
          903678,
          902429,
          903017,
          902279,
          903365,
          904067,
          903916,
          904005,
          904421,
          904543,
          904273,
          901226,
          903174,
          904028,
          902697,
          904684,
          903010,
          904967,
          905755,
          903496,
          904367,
          904974,
          902370,
          903283,
          904599,
          903879,
          904488,
          903742,
          903315,
          904010,
          904360,
          903198,
          902616,
          904263,
          901190,
          903542,
          903887,
          903363,
          901906,
          902172,
          903211,
          903043,
          903572,
          904966,
          902229,
          904042,
          903679,
          904077,
          902621,
          901846,
          905164,
          901896,
          904012,
          903606,
          902511,
          905185,
          903388,
          904843,
          903835,
          905478,
          904602,
          904081,
          904149,
          902778,
          904030,
          903388,
          904030,
          902662,
          903492,
          903013,
          901765,
          904332,
          904719,
          904111,
          902748,
          904590,
          906292,
          904733,
          904148,
          903473,
          902445,
          902907,
          904205,
          904272,
          904650,
          904356,
          902904,
          903405,
          905046,
          904049,
          904857,
          901287,
          904751,
          905418,
          904856,
          904766,
          902904,
          903775,
          902951,
          903509,
          903885,
          903654,
          902920,
          904653,
          904760,
          904460,
          903498,
          905125,
          902642,
          904439,
          902036,
          903258,
          903402,
          902642,
          904691,
          904623,
          903592,
          902638,
          903984,
          903205,
          903679,
          904040,
          904544,
          901848,
          904256,
          904208,
          903515,
          904584,
          902118,
          903762,
          902803,
          904413,
          905319,
          903574,
          903374,
          902606,
          904874,
          902821,
          904000,
          902789,
          902354,
          904328,
          903802,
          902884,
          902910,
          903633,
          904008,
          902988,
          903517,
          905175,
          904667,
          903982,
          903623,
          902849,
          903168,
          903861,
          905330,
          904069,
          903758,
          904902,
          904019,
          903922,
          903933,
          903108,
          904078,
          902901,
          904759,
          905516,
          901441,
          904942,
          902868,
          904598,
          902269,
          905005,
          902772,
          904321,
          903355,
          903487,
          901411,
          903461,
          904136,
          904468,
          902742,
          903013,
          903376,
          905204,
          903713,
          902912,
          904477,
          903869,
          900434,
          903745,
          904248,
          904553,
          903074,
          904386,
          904044,
          903195,
          904524,
          903175,
          902004,
          904488,
          905200,
          903502,
          903249,
          904145,
          902701,
          902271,
          903293,
          903296,
          902928,
          904005,
          905267,
          903967,
          903050,
          902509,
          903973,
          902994,
          904086,
          901629,
          903573,
          903762,
          905312,
          902608,
          902977,
          904970,
          903025,
          902941,
          903682,
          903307,
          903051,
          902723,
          905043,
          904198,
          903014,
          901735,
          904118,
          904595,
          905083,
          903433,
          903219,
          903010,
          903817,
          904750,
          901808,
          903824,
          902327,
          903274,
          903019,
          905178,
          903283,
          901620,
          903230,
          903124,
          904297,
          902935,
          905194,
          902445,
          904352,
          904732,
          902945,
          902624,
          903404,
          903658,
          903160,
          904202,
          902853,
          903501,
          903598,
          903785,
          903120,
          902440,
          902568,
          903915,
          905144,
          903469,
          903850,
          904576,
          903295,
          903886,
          902857,
          903194,
          903750,
          902502,
          904261,
          903442,
          905477,
          902538,
          905272,
          904495,
          903776,
          901910,
          904290,
          903564,
          904156,
          902596,
          903963,
          902017,
          902209,
          901530,
          905573,
          901801,
          904419,
          902434,
          902020,
          903327,
          904193,
          902630,
          903327,
          904680,
          902730,
          903132,
          903147,
          903647,
          905396,
          905174,
          903932,
          903831,
          903830,
          903923,
          902624,
          903908,
          903213,
          903450,
          904943,
          903940,
          903802,
          902911,
          902603,
          903874,
          904609,
          903928,
          903304,
          904319,
          903490,
          902795,
          904784,
          903465,
          902327,
          903376,
          905056,
          903623,
          902643,
          902930,
          902612,
          903538,
          901978,
          905013,
          903446,
          903864,
          902946,
          903100,
          903115,
          902899,
          904051,
          902736,
          904485,
          902446,
          904236,
          904268,
          904518,
          903353,
          903410,
          904185,
          904191,
          904536,
          903202,
          904465,
          903936,
          902672,
          901979,
          900417,
          902990,
          903484,
          902429,
          905636,
          905083,
          903101,
          902003,
          902733,
          903406,
          904254,
          902380,
          902183,
          903971,
          902629,
          902023,
          903046,
          904836,
          903073,
          904650,
          903133,
          904416,
          904386,
          904501,
          903952,
          902159,
          902789,
          903194,
          905118,
          904656,
          904371,
          903872,
          905030,
          904067,
          903599,
          902412,
          902815,
          903687,
          904132,
          902822,
          903340,
          903132,
          902956,
          904333,
          902521,
          902988,
          905236,
          902650,
          904684,
          904783,
          904214,
          903162,
          903043,
          904643,
          902906,
          903868,
          903869,
          903600,
          904716,
          903680,
          904677,
          904936,
          901658,
          903063,
          903647,
          903998,
          902912,
          904406,
          902745,
          903067,
          903169,
          904588,
          904558,
          902829,
          902490,
          902586,
          903807,
          903775,
          903699,
          904254,
          905586,
          901678,
          903236,
          904991,
          901660,
          904190,
          903399,
          903657,
          902843,
          902690,
          904381,
          903370,
          902716,
          904572,
          901505,
          904606,
          902670,
          903492,
          904595,
          903715,
          904892,
          902095,
          901302,
          904642,
          903108,
          904474,
          903969,
          904280,
          903080,
          903593,
          904159,
          901605,
          904073,
          904670,
          904618,
          904116,
          903468,
          903841,
          904492,
          904087,
          904678,
          903330,
          904570,
          903722,
          903948,
          903046,
          903753,
          903990,
          902710,
          902892,
          903545,
          903926,
          904501,
          903875,
          904667,
          903155
         ],
         "xaxis": "x",
         "yaxis": "y"
        }
       ],
       "layout": {
        "barmode": "relative",
        "legend": {
         "title": {
          "text": "variable"
         },
         "tracegroupgap": 0
        },
        "margin": {
         "t": 60
        },
        "template": {
         "data": {
          "bar": [
           {
            "error_x": {
             "color": "#2a3f5f"
            },
            "error_y": {
             "color": "#2a3f5f"
            },
            "marker": {
             "line": {
              "color": "#E5ECF6",
              "width": 0.5
             }
            },
            "type": "bar"
           }
          ],
          "barpolar": [
           {
            "marker": {
             "line": {
              "color": "#E5ECF6",
              "width": 0.5
             }
            },
            "type": "barpolar"
           }
          ],
          "carpet": [
           {
            "aaxis": {
             "endlinecolor": "#2a3f5f",
             "gridcolor": "white",
             "linecolor": "white",
             "minorgridcolor": "white",
             "startlinecolor": "#2a3f5f"
            },
            "baxis": {
             "endlinecolor": "#2a3f5f",
             "gridcolor": "white",
             "linecolor": "white",
             "minorgridcolor": "white",
             "startlinecolor": "#2a3f5f"
            },
            "type": "carpet"
           }
          ],
          "choropleth": [
           {
            "colorbar": {
             "outlinewidth": 0,
             "ticks": ""
            },
            "type": "choropleth"
           }
          ],
          "contour": [
           {
            "colorbar": {
             "outlinewidth": 0,
             "ticks": ""
            },
            "colorscale": [
             [
              0,
              "#0d0887"
             ],
             [
              0.1111111111111111,
              "#46039f"
             ],
             [
              0.2222222222222222,
              "#7201a8"
             ],
             [
              0.3333333333333333,
              "#9c179e"
             ],
             [
              0.4444444444444444,
              "#bd3786"
             ],
             [
              0.5555555555555556,
              "#d8576b"
             ],
             [
              0.6666666666666666,
              "#ed7953"
             ],
             [
              0.7777777777777778,
              "#fb9f3a"
             ],
             [
              0.8888888888888888,
              "#fdca26"
             ],
             [
              1,
              "#f0f921"
             ]
            ],
            "type": "contour"
           }
          ],
          "contourcarpet": [
           {
            "colorbar": {
             "outlinewidth": 0,
             "ticks": ""
            },
            "type": "contourcarpet"
           }
          ],
          "heatmap": [
           {
            "colorbar": {
             "outlinewidth": 0,
             "ticks": ""
            },
            "colorscale": [
             [
              0,
              "#0d0887"
             ],
             [
              0.1111111111111111,
              "#46039f"
             ],
             [
              0.2222222222222222,
              "#7201a8"
             ],
             [
              0.3333333333333333,
              "#9c179e"
             ],
             [
              0.4444444444444444,
              "#bd3786"
             ],
             [
              0.5555555555555556,
              "#d8576b"
             ],
             [
              0.6666666666666666,
              "#ed7953"
             ],
             [
              0.7777777777777778,
              "#fb9f3a"
             ],
             [
              0.8888888888888888,
              "#fdca26"
             ],
             [
              1,
              "#f0f921"
             ]
            ],
            "type": "heatmap"
           }
          ],
          "heatmapgl": [
           {
            "colorbar": {
             "outlinewidth": 0,
             "ticks": ""
            },
            "colorscale": [
             [
              0,
              "#0d0887"
             ],
             [
              0.1111111111111111,
              "#46039f"
             ],
             [
              0.2222222222222222,
              "#7201a8"
             ],
             [
              0.3333333333333333,
              "#9c179e"
             ],
             [
              0.4444444444444444,
              "#bd3786"
             ],
             [
              0.5555555555555556,
              "#d8576b"
             ],
             [
              0.6666666666666666,
              "#ed7953"
             ],
             [
              0.7777777777777778,
              "#fb9f3a"
             ],
             [
              0.8888888888888888,
              "#fdca26"
             ],
             [
              1,
              "#f0f921"
             ]
            ],
            "type": "heatmapgl"
           }
          ],
          "histogram": [
           {
            "marker": {
             "colorbar": {
              "outlinewidth": 0,
              "ticks": ""
             }
            },
            "type": "histogram"
           }
          ],
          "histogram2d": [
           {
            "colorbar": {
             "outlinewidth": 0,
             "ticks": ""
            },
            "colorscale": [
             [
              0,
              "#0d0887"
             ],
             [
              0.1111111111111111,
              "#46039f"
             ],
             [
              0.2222222222222222,
              "#7201a8"
             ],
             [
              0.3333333333333333,
              "#9c179e"
             ],
             [
              0.4444444444444444,
              "#bd3786"
             ],
             [
              0.5555555555555556,
              "#d8576b"
             ],
             [
              0.6666666666666666,
              "#ed7953"
             ],
             [
              0.7777777777777778,
              "#fb9f3a"
             ],
             [
              0.8888888888888888,
              "#fdca26"
             ],
             [
              1,
              "#f0f921"
             ]
            ],
            "type": "histogram2d"
           }
          ],
          "histogram2dcontour": [
           {
            "colorbar": {
             "outlinewidth": 0,
             "ticks": ""
            },
            "colorscale": [
             [
              0,
              "#0d0887"
             ],
             [
              0.1111111111111111,
              "#46039f"
             ],
             [
              0.2222222222222222,
              "#7201a8"
             ],
             [
              0.3333333333333333,
              "#9c179e"
             ],
             [
              0.4444444444444444,
              "#bd3786"
             ],
             [
              0.5555555555555556,
              "#d8576b"
             ],
             [
              0.6666666666666666,
              "#ed7953"
             ],
             [
              0.7777777777777778,
              "#fb9f3a"
             ],
             [
              0.8888888888888888,
              "#fdca26"
             ],
             [
              1,
              "#f0f921"
             ]
            ],
            "type": "histogram2dcontour"
           }
          ],
          "mesh3d": [
           {
            "colorbar": {
             "outlinewidth": 0,
             "ticks": ""
            },
            "type": "mesh3d"
           }
          ],
          "parcoords": [
           {
            "line": {
             "colorbar": {
              "outlinewidth": 0,
              "ticks": ""
             }
            },
            "type": "parcoords"
           }
          ],
          "pie": [
           {
            "automargin": true,
            "type": "pie"
           }
          ],
          "scatter": [
           {
            "marker": {
             "colorbar": {
              "outlinewidth": 0,
              "ticks": ""
             }
            },
            "type": "scatter"
           }
          ],
          "scatter3d": [
           {
            "line": {
             "colorbar": {
              "outlinewidth": 0,
              "ticks": ""
             }
            },
            "marker": {
             "colorbar": {
              "outlinewidth": 0,
              "ticks": ""
             }
            },
            "type": "scatter3d"
           }
          ],
          "scattercarpet": [
           {
            "marker": {
             "colorbar": {
              "outlinewidth": 0,
              "ticks": ""
             }
            },
            "type": "scattercarpet"
           }
          ],
          "scattergeo": [
           {
            "marker": {
             "colorbar": {
              "outlinewidth": 0,
              "ticks": ""
             }
            },
            "type": "scattergeo"
           }
          ],
          "scattergl": [
           {
            "marker": {
             "colorbar": {
              "outlinewidth": 0,
              "ticks": ""
             }
            },
            "type": "scattergl"
           }
          ],
          "scattermapbox": [
           {
            "marker": {
             "colorbar": {
              "outlinewidth": 0,
              "ticks": ""
             }
            },
            "type": "scattermapbox"
           }
          ],
          "scatterpolar": [
           {
            "marker": {
             "colorbar": {
              "outlinewidth": 0,
              "ticks": ""
             }
            },
            "type": "scatterpolar"
           }
          ],
          "scatterpolargl": [
           {
            "marker": {
             "colorbar": {
              "outlinewidth": 0,
              "ticks": ""
             }
            },
            "type": "scatterpolargl"
           }
          ],
          "scatterternary": [
           {
            "marker": {
             "colorbar": {
              "outlinewidth": 0,
              "ticks": ""
             }
            },
            "type": "scatterternary"
           }
          ],
          "surface": [
           {
            "colorbar": {
             "outlinewidth": 0,
             "ticks": ""
            },
            "colorscale": [
             [
              0,
              "#0d0887"
             ],
             [
              0.1111111111111111,
              "#46039f"
             ],
             [
              0.2222222222222222,
              "#7201a8"
             ],
             [
              0.3333333333333333,
              "#9c179e"
             ],
             [
              0.4444444444444444,
              "#bd3786"
             ],
             [
              0.5555555555555556,
              "#d8576b"
             ],
             [
              0.6666666666666666,
              "#ed7953"
             ],
             [
              0.7777777777777778,
              "#fb9f3a"
             ],
             [
              0.8888888888888888,
              "#fdca26"
             ],
             [
              1,
              "#f0f921"
             ]
            ],
            "type": "surface"
           }
          ],
          "table": [
           {
            "cells": {
             "fill": {
              "color": "#EBF0F8"
             },
             "line": {
              "color": "white"
             }
            },
            "header": {
             "fill": {
              "color": "#C8D4E3"
             },
             "line": {
              "color": "white"
             }
            },
            "type": "table"
           }
          ]
         },
         "layout": {
          "annotationdefaults": {
           "arrowcolor": "#2a3f5f",
           "arrowhead": 0,
           "arrowwidth": 1
          },
          "autotypenumbers": "strict",
          "coloraxis": {
           "colorbar": {
            "outlinewidth": 0,
            "ticks": ""
           }
          },
          "colorscale": {
           "diverging": [
            [
             0,
             "#8e0152"
            ],
            [
             0.1,
             "#c51b7d"
            ],
            [
             0.2,
             "#de77ae"
            ],
            [
             0.3,
             "#f1b6da"
            ],
            [
             0.4,
             "#fde0ef"
            ],
            [
             0.5,
             "#f7f7f7"
            ],
            [
             0.6,
             "#e6f5d0"
            ],
            [
             0.7,
             "#b8e186"
            ],
            [
             0.8,
             "#7fbc41"
            ],
            [
             0.9,
             "#4d9221"
            ],
            [
             1,
             "#276419"
            ]
           ],
           "sequential": [
            [
             0,
             "#0d0887"
            ],
            [
             0.1111111111111111,
             "#46039f"
            ],
            [
             0.2222222222222222,
             "#7201a8"
            ],
            [
             0.3333333333333333,
             "#9c179e"
            ],
            [
             0.4444444444444444,
             "#bd3786"
            ],
            [
             0.5555555555555556,
             "#d8576b"
            ],
            [
             0.6666666666666666,
             "#ed7953"
            ],
            [
             0.7777777777777778,
             "#fb9f3a"
            ],
            [
             0.8888888888888888,
             "#fdca26"
            ],
            [
             1,
             "#f0f921"
            ]
           ],
           "sequentialminus": [
            [
             0,
             "#0d0887"
            ],
            [
             0.1111111111111111,
             "#46039f"
            ],
            [
             0.2222222222222222,
             "#7201a8"
            ],
            [
             0.3333333333333333,
             "#9c179e"
            ],
            [
             0.4444444444444444,
             "#bd3786"
            ],
            [
             0.5555555555555556,
             "#d8576b"
            ],
            [
             0.6666666666666666,
             "#ed7953"
            ],
            [
             0.7777777777777778,
             "#fb9f3a"
            ],
            [
             0.8888888888888888,
             "#fdca26"
            ],
            [
             1,
             "#f0f921"
            ]
           ]
          },
          "colorway": [
           "#636efa",
           "#EF553B",
           "#00cc96",
           "#ab63fa",
           "#FFA15A",
           "#19d3f3",
           "#FF6692",
           "#B6E880",
           "#FF97FF",
           "#FECB52"
          ],
          "font": {
           "color": "#2a3f5f"
          },
          "geo": {
           "bgcolor": "white",
           "lakecolor": "white",
           "landcolor": "#E5ECF6",
           "showlakes": true,
           "showland": true,
           "subunitcolor": "white"
          },
          "hoverlabel": {
           "align": "left"
          },
          "hovermode": "closest",
          "mapbox": {
           "style": "light"
          },
          "paper_bgcolor": "white",
          "plot_bgcolor": "#E5ECF6",
          "polar": {
           "angularaxis": {
            "gridcolor": "white",
            "linecolor": "white",
            "ticks": ""
           },
           "bgcolor": "#E5ECF6",
           "radialaxis": {
            "gridcolor": "white",
            "linecolor": "white",
            "ticks": ""
           }
          },
          "scene": {
           "xaxis": {
            "backgroundcolor": "#E5ECF6",
            "gridcolor": "white",
            "gridwidth": 2,
            "linecolor": "white",
            "showbackground": true,
            "ticks": "",
            "zerolinecolor": "white"
           },
           "yaxis": {
            "backgroundcolor": "#E5ECF6",
            "gridcolor": "white",
            "gridwidth": 2,
            "linecolor": "white",
            "showbackground": true,
            "ticks": "",
            "zerolinecolor": "white"
           },
           "zaxis": {
            "backgroundcolor": "#E5ECF6",
            "gridcolor": "white",
            "gridwidth": 2,
            "linecolor": "white",
            "showbackground": true,
            "ticks": "",
            "zerolinecolor": "white"
           }
          },
          "shapedefaults": {
           "line": {
            "color": "#2a3f5f"
           }
          },
          "ternary": {
           "aaxis": {
            "gridcolor": "white",
            "linecolor": "white",
            "ticks": ""
           },
           "baxis": {
            "gridcolor": "white",
            "linecolor": "white",
            "ticks": ""
           },
           "bgcolor": "#E5ECF6",
           "caxis": {
            "gridcolor": "white",
            "linecolor": "white",
            "ticks": ""
           }
          },
          "title": {
           "x": 0.05
          },
          "xaxis": {
           "automargin": true,
           "gridcolor": "white",
           "linecolor": "white",
           "ticks": "",
           "title": {
            "standoff": 15
           },
           "zerolinecolor": "white",
           "zerolinewidth": 2
          },
          "yaxis": {
           "automargin": true,
           "gridcolor": "white",
           "linecolor": "white",
           "ticks": "",
           "title": {
            "standoff": 15
           },
           "zerolinecolor": "white",
           "zerolinewidth": 2
          }
         }
        },
        "xaxis": {
         "anchor": "y",
         "domain": [
          0,
          1
         ],
         "title": {
          "text": "value"
         }
        },
        "yaxis": {
         "anchor": "x",
         "domain": [
          0,
          1
         ],
         "title": {
          "text": "count"
         }
        }
       }
      },
      "text/html": [
       "<div>                            <div id=\"f438dcd8-ac2a-48c7-999f-c3cc7af4028b\" class=\"plotly-graph-div\" style=\"height:525px; width:100%;\"></div>            <script type=\"text/javascript\">                require([\"plotly\"], function(Plotly) {                    window.PLOTLYENV=window.PLOTLYENV || {};                                    if (document.getElementById(\"f438dcd8-ac2a-48c7-999f-c3cc7af4028b\")) {                    Plotly.newPlot(                        \"f438dcd8-ac2a-48c7-999f-c3cc7af4028b\",                        [{\"alignmentgroup\": \"True\", \"bingroup\": \"x\", \"hovertemplate\": \"variable=0<br>value=%{x}<br>count=%{y}<extra></extra>\", \"legendgroup\": \"0\", \"marker\": {\"color\": \"#636efa\"}, \"name\": \"0\", \"offsetgroup\": \"0\", \"orientation\": \"v\", \"showlegend\": true, \"type\": \"histogram\", \"x\": [902196, 904075, 904255, 903019, 904021, 904157, 902807, 904745, 903597, 903983, 903193, 903727, 903338, 906207, 904192, 902376, 903611, 903973, 903658, 904424, 903280, 902378, 904329, 904879, 903354, 902682, 902311, 902075, 903742, 903272, 901652, 904163, 903598, 904378, 902564, 904731, 904212, 903363, 904829, 904604, 902515, 903801, 904140, 904232, 904764, 902295, 902195, 902972, 903288, 904426, 902744, 905043, 902315, 905545, 902762, 903503, 903746, 901578, 902447, 902365, 902700, 903205, 902669, 903685, 904185, 903962, 903934, 903862, 902039, 903266, 906131, 901724, 903430, 904621, 903597, 903332, 904400, 903021, 903087, 902472, 902301, 900628, 903058, 901901, 904273, 904044, 903203, 903529, 905511, 904589, 903516, 905481, 903596, 905516, 902834, 903634, 903607, 902496, 902748, 903701, 903763, 902258, 903129, 903032, 903905, 901862, 902784, 902676, 901076, 904498, 902931, 904055, 904228, 904221, 902277, 903750, 901886, 903232, 903473, 902020, 905056, 903980, 903613, 903598, 904979, 902323, 903633, 905781, 904205, 904274, 903234, 904410, 902113, 905089, 901086, 904006, 903838, 903421, 905032, 902363, 902487, 903573, 904189, 903373, 904211, 903743, 904974, 903879, 903113, 904003, 902458, 904333, 904472, 902251, 903379, 904047, 903251, 902543, 902262, 905221, 903601, 904758, 902794, 902710, 903676, 903473, 902505, 903914, 903406, 903597, 903536, 904002, 903738, 902620, 903434, 903601, 902506, 904418, 904228, 904530, 904892, 904155, 904038, 903071, 902899, 900749, 902405, 903170, 904029, 903457, 904269, 902748, 904742, 903284, 903594, 903355, 902624, 902058, 904111, 904290, 903699, 904502, 902759, 904747, 902926, 904635, 901570, 903925, 904041, 903748, 901034, 903283, 904674, 903974, 901982, 903441, 904666, 903348, 903797, 905555, 903669, 903755, 903974, 902632, 902531, 903533, 903266, 903438, 904552, 904503, 903163, 904603, 905199, 904090, 902918, 903902, 902424, 904258, 904895, 904144, 901988, 902116, 904650, 903546, 904438, 904187, 901304, 904895, 902616, 903614, 904782, 902992, 902652, 904213, 904265, 902622, 902279, 904105, 902392, 903071, 903866, 903003, 904651, 903371, 905052, 903221, 902646, 905388, 904013, 903035, 903855, 903678, 903997, 903942, 902761, 904556, 904990, 902770, 906035, 903487, 903349, 904296, 904418, 900724, 904804, 903801, 903751, 903942, 902594, 905782, 904754, 903180, 901945, 904135, 903856, 902499, 904268, 903138, 902809, 904215, 902399, 906293, 903622, 903337, 901502, 902856, 904198, 903702, 904108, 903495, 903742, 903847, 903967, 904505, 904034, 901895, 903812, 902487, 903646, 903717, 903742, 904686, 902424, 903804, 904286, 902519, 904579, 903895, 903207, 903997, 902158, 902788, 904845, 904854, 903328, 903273, 904225, 902630, 902456, 905232, 903158, 904846, 904086, 903753, 904474, 903241, 903309, 903372, 903746, 903459, 903836, 903459, 903408, 905054, 902644, 902089, 903220, 903877, 903364, 903781, 903722, 905228, 905458, 904078, 902808, 903901, 903691, 903384, 903710, 902756, 903554, 903467, 904085, 903283, 903657, 904776, 902596, 903821, 902542, 902625, 903807, 903851, 902891, 903926, 902967, 902893, 901962, 903899, 903314, 904236, 904460, 902824, 901267, 904565, 904008, 902145, 905230, 904804, 903863, 903459, 904776, 904628, 904522, 904696, 901888, 905191, 902564, 902377, 902683, 904265, 903838, 903262, 904065, 904818, 903125, 903412, 904002, 903110, 903578, 903562, 904399, 903994, 902046, 904133, 902343, 902847, 903784, 901557, 901472, 905036, 903940, 904102, 902729, 905497, 903026, 903182, 903237, 903385, 903043, 903634, 903678, 902944, 904603, 902184, 904268, 903691, 905065, 903794, 903457, 904488, 904725, 904243, 904563, 903704, 903729, 903696, 904880, 902928, 904936, 903013, 902334, 904883, 902603, 904518, 903932, 903549, 904445, 904455, 903129, 904842, 903527, 904232, 902914, 903152, 902622, 903234, 903830, 903191, 903968, 901784, 903792, 903386, 902294, 901936, 903149, 902435, 903514, 902412, 902360, 905358, 904349, 902681, 903851, 903678, 902429, 903017, 902279, 903365, 904067, 903916, 904005, 904421, 904543, 904273, 901226, 903174, 904028, 902697, 904684, 903010, 904967, 905755, 903496, 904367, 904974, 902370, 903283, 904599, 903879, 904488, 903742, 903315, 904010, 904360, 903198, 902616, 904263, 901190, 903542, 903887, 903363, 901906, 902172, 903211, 903043, 903572, 904966, 902229, 904042, 903679, 904077, 902621, 901846, 905164, 901896, 904012, 903606, 902511, 905185, 903388, 904843, 903835, 905478, 904602, 904081, 904149, 902778, 904030, 903388, 904030, 902662, 903492, 903013, 901765, 904332, 904719, 904111, 902748, 904590, 906292, 904733, 904148, 903473, 902445, 902907, 904205, 904272, 904650, 904356, 902904, 903405, 905046, 904049, 904857, 901287, 904751, 905418, 904856, 904766, 902904, 903775, 902951, 903509, 903885, 903654, 902920, 904653, 904760, 904460, 903498, 905125, 902642, 904439, 902036, 903258, 903402, 902642, 904691, 904623, 903592, 902638, 903984, 903205, 903679, 904040, 904544, 901848, 904256, 904208, 903515, 904584, 902118, 903762, 902803, 904413, 905319, 903574, 903374, 902606, 904874, 902821, 904000, 902789, 902354, 904328, 903802, 902884, 902910, 903633, 904008, 902988, 903517, 905175, 904667, 903982, 903623, 902849, 903168, 903861, 905330, 904069, 903758, 904902, 904019, 903922, 903933, 903108, 904078, 902901, 904759, 905516, 901441, 904942, 902868, 904598, 902269, 905005, 902772, 904321, 903355, 903487, 901411, 903461, 904136, 904468, 902742, 903013, 903376, 905204, 903713, 902912, 904477, 903869, 900434, 903745, 904248, 904553, 903074, 904386, 904044, 903195, 904524, 903175, 902004, 904488, 905200, 903502, 903249, 904145, 902701, 902271, 903293, 903296, 902928, 904005, 905267, 903967, 903050, 902509, 903973, 902994, 904086, 901629, 903573, 903762, 905312, 902608, 902977, 904970, 903025, 902941, 903682, 903307, 903051, 902723, 905043, 904198, 903014, 901735, 904118, 904595, 905083, 903433, 903219, 903010, 903817, 904750, 901808, 903824, 902327, 903274, 903019, 905178, 903283, 901620, 903230, 903124, 904297, 902935, 905194, 902445, 904352, 904732, 902945, 902624, 903404, 903658, 903160, 904202, 902853, 903501, 903598, 903785, 903120, 902440, 902568, 903915, 905144, 903469, 903850, 904576, 903295, 903886, 902857, 903194, 903750, 902502, 904261, 903442, 905477, 902538, 905272, 904495, 903776, 901910, 904290, 903564, 904156, 902596, 903963, 902017, 902209, 901530, 905573, 901801, 904419, 902434, 902020, 903327, 904193, 902630, 903327, 904680, 902730, 903132, 903147, 903647, 905396, 905174, 903932, 903831, 903830, 903923, 902624, 903908, 903213, 903450, 904943, 903940, 903802, 902911, 902603, 903874, 904609, 903928, 903304, 904319, 903490, 902795, 904784, 903465, 902327, 903376, 905056, 903623, 902643, 902930, 902612, 903538, 901978, 905013, 903446, 903864, 902946, 903100, 903115, 902899, 904051, 902736, 904485, 902446, 904236, 904268, 904518, 903353, 903410, 904185, 904191, 904536, 903202, 904465, 903936, 902672, 901979, 900417, 902990, 903484, 902429, 905636, 905083, 903101, 902003, 902733, 903406, 904254, 902380, 902183, 903971, 902629, 902023, 903046, 904836, 903073, 904650, 903133, 904416, 904386, 904501, 903952, 902159, 902789, 903194, 905118, 904656, 904371, 903872, 905030, 904067, 903599, 902412, 902815, 903687, 904132, 902822, 903340, 903132, 902956, 904333, 902521, 902988, 905236, 902650, 904684, 904783, 904214, 903162, 903043, 904643, 902906, 903868, 903869, 903600, 904716, 903680, 904677, 904936, 901658, 903063, 903647, 903998, 902912, 904406, 902745, 903067, 903169, 904588, 904558, 902829, 902490, 902586, 903807, 903775, 903699, 904254, 905586, 901678, 903236, 904991, 901660, 904190, 903399, 903657, 902843, 902690, 904381, 903370, 902716, 904572, 901505, 904606, 902670, 903492, 904595, 903715, 904892, 902095, 901302, 904642, 903108, 904474, 903969, 904280, 903080, 903593, 904159, 901605, 904073, 904670, 904618, 904116, 903468, 903841, 904492, 904087, 904678, 903330, 904570, 903722, 903948, 903046, 903753, 903990, 902710, 902892, 903545, 903926, 904501, 903875, 904667, 903155], \"xaxis\": \"x\", \"yaxis\": \"y\"}],                        {\"barmode\": \"relative\", \"legend\": {\"title\": {\"text\": \"variable\"}, \"tracegroupgap\": 0}, \"margin\": {\"t\": 60}, \"template\": {\"data\": {\"bar\": [{\"error_x\": {\"color\": \"#2a3f5f\"}, \"error_y\": {\"color\": \"#2a3f5f\"}, \"marker\": {\"line\": {\"color\": \"#E5ECF6\", \"width\": 0.5}}, \"type\": \"bar\"}], \"barpolar\": [{\"marker\": {\"line\": {\"color\": \"#E5ECF6\", \"width\": 0.5}}, \"type\": \"barpolar\"}], \"carpet\": [{\"aaxis\": {\"endlinecolor\": \"#2a3f5f\", \"gridcolor\": \"white\", \"linecolor\": \"white\", \"minorgridcolor\": \"white\", \"startlinecolor\": \"#2a3f5f\"}, \"baxis\": {\"endlinecolor\": \"#2a3f5f\", \"gridcolor\": \"white\", \"linecolor\": \"white\", \"minorgridcolor\": \"white\", \"startlinecolor\": \"#2a3f5f\"}, \"type\": \"carpet\"}], \"choropleth\": [{\"colorbar\": {\"outlinewidth\": 0, \"ticks\": \"\"}, \"type\": \"choropleth\"}], \"contour\": [{\"colorbar\": {\"outlinewidth\": 0, \"ticks\": \"\"}, \"colorscale\": [[0.0, \"#0d0887\"], [0.1111111111111111, \"#46039f\"], [0.2222222222222222, \"#7201a8\"], [0.3333333333333333, \"#9c179e\"], [0.4444444444444444, \"#bd3786\"], [0.5555555555555556, \"#d8576b\"], [0.6666666666666666, \"#ed7953\"], [0.7777777777777778, \"#fb9f3a\"], [0.8888888888888888, \"#fdca26\"], [1.0, \"#f0f921\"]], \"type\": \"contour\"}], \"contourcarpet\": [{\"colorbar\": {\"outlinewidth\": 0, \"ticks\": \"\"}, \"type\": \"contourcarpet\"}], \"heatmap\": [{\"colorbar\": {\"outlinewidth\": 0, \"ticks\": \"\"}, \"colorscale\": [[0.0, \"#0d0887\"], [0.1111111111111111, \"#46039f\"], [0.2222222222222222, \"#7201a8\"], [0.3333333333333333, \"#9c179e\"], [0.4444444444444444, \"#bd3786\"], [0.5555555555555556, \"#d8576b\"], [0.6666666666666666, \"#ed7953\"], [0.7777777777777778, \"#fb9f3a\"], [0.8888888888888888, \"#fdca26\"], [1.0, \"#f0f921\"]], \"type\": \"heatmap\"}], \"heatmapgl\": [{\"colorbar\": {\"outlinewidth\": 0, \"ticks\": \"\"}, \"colorscale\": [[0.0, \"#0d0887\"], [0.1111111111111111, \"#46039f\"], [0.2222222222222222, \"#7201a8\"], [0.3333333333333333, \"#9c179e\"], [0.4444444444444444, \"#bd3786\"], [0.5555555555555556, \"#d8576b\"], [0.6666666666666666, \"#ed7953\"], [0.7777777777777778, \"#fb9f3a\"], [0.8888888888888888, \"#fdca26\"], [1.0, \"#f0f921\"]], \"type\": \"heatmapgl\"}], \"histogram\": [{\"marker\": {\"colorbar\": {\"outlinewidth\": 0, \"ticks\": \"\"}}, \"type\": \"histogram\"}], \"histogram2d\": [{\"colorbar\": {\"outlinewidth\": 0, \"ticks\": \"\"}, \"colorscale\": [[0.0, \"#0d0887\"], [0.1111111111111111, \"#46039f\"], [0.2222222222222222, \"#7201a8\"], [0.3333333333333333, \"#9c179e\"], [0.4444444444444444, \"#bd3786\"], [0.5555555555555556, \"#d8576b\"], [0.6666666666666666, \"#ed7953\"], [0.7777777777777778, \"#fb9f3a\"], [0.8888888888888888, \"#fdca26\"], [1.0, \"#f0f921\"]], \"type\": \"histogram2d\"}], \"histogram2dcontour\": [{\"colorbar\": {\"outlinewidth\": 0, \"ticks\": \"\"}, \"colorscale\": [[0.0, \"#0d0887\"], [0.1111111111111111, \"#46039f\"], [0.2222222222222222, \"#7201a8\"], [0.3333333333333333, \"#9c179e\"], [0.4444444444444444, \"#bd3786\"], [0.5555555555555556, \"#d8576b\"], [0.6666666666666666, \"#ed7953\"], [0.7777777777777778, \"#fb9f3a\"], [0.8888888888888888, \"#fdca26\"], [1.0, \"#f0f921\"]], \"type\": \"histogram2dcontour\"}], \"mesh3d\": [{\"colorbar\": {\"outlinewidth\": 0, \"ticks\": \"\"}, \"type\": \"mesh3d\"}], \"parcoords\": [{\"line\": {\"colorbar\": {\"outlinewidth\": 0, \"ticks\": \"\"}}, \"type\": \"parcoords\"}], \"pie\": [{\"automargin\": true, \"type\": \"pie\"}], \"scatter\": [{\"marker\": {\"colorbar\": {\"outlinewidth\": 0, \"ticks\": \"\"}}, \"type\": \"scatter\"}], \"scatter3d\": [{\"line\": {\"colorbar\": {\"outlinewidth\": 0, \"ticks\": \"\"}}, \"marker\": {\"colorbar\": {\"outlinewidth\": 0, \"ticks\": \"\"}}, \"type\": \"scatter3d\"}], \"scattercarpet\": [{\"marker\": {\"colorbar\": {\"outlinewidth\": 0, \"ticks\": \"\"}}, \"type\": \"scattercarpet\"}], \"scattergeo\": [{\"marker\": {\"colorbar\": {\"outlinewidth\": 0, \"ticks\": \"\"}}, \"type\": \"scattergeo\"}], \"scattergl\": [{\"marker\": {\"colorbar\": {\"outlinewidth\": 0, \"ticks\": \"\"}}, \"type\": \"scattergl\"}], \"scattermapbox\": [{\"marker\": {\"colorbar\": {\"outlinewidth\": 0, \"ticks\": \"\"}}, \"type\": \"scattermapbox\"}], \"scatterpolar\": [{\"marker\": {\"colorbar\": {\"outlinewidth\": 0, \"ticks\": \"\"}}, \"type\": \"scatterpolar\"}], \"scatterpolargl\": [{\"marker\": {\"colorbar\": {\"outlinewidth\": 0, \"ticks\": \"\"}}, \"type\": \"scatterpolargl\"}], \"scatterternary\": [{\"marker\": {\"colorbar\": {\"outlinewidth\": 0, \"ticks\": \"\"}}, \"type\": \"scatterternary\"}], \"surface\": [{\"colorbar\": {\"outlinewidth\": 0, \"ticks\": \"\"}, \"colorscale\": [[0.0, \"#0d0887\"], [0.1111111111111111, \"#46039f\"], [0.2222222222222222, \"#7201a8\"], [0.3333333333333333, \"#9c179e\"], [0.4444444444444444, \"#bd3786\"], [0.5555555555555556, \"#d8576b\"], [0.6666666666666666, \"#ed7953\"], [0.7777777777777778, \"#fb9f3a\"], [0.8888888888888888, \"#fdca26\"], [1.0, \"#f0f921\"]], \"type\": \"surface\"}], \"table\": [{\"cells\": {\"fill\": {\"color\": \"#EBF0F8\"}, \"line\": {\"color\": \"white\"}}, \"header\": {\"fill\": {\"color\": \"#C8D4E3\"}, \"line\": {\"color\": \"white\"}}, \"type\": \"table\"}]}, \"layout\": {\"annotationdefaults\": {\"arrowcolor\": \"#2a3f5f\", \"arrowhead\": 0, \"arrowwidth\": 1}, \"autotypenumbers\": \"strict\", \"coloraxis\": {\"colorbar\": {\"outlinewidth\": 0, \"ticks\": \"\"}}, \"colorscale\": {\"diverging\": [[0, \"#8e0152\"], [0.1, \"#c51b7d\"], [0.2, \"#de77ae\"], [0.3, \"#f1b6da\"], [0.4, \"#fde0ef\"], [0.5, \"#f7f7f7\"], [0.6, \"#e6f5d0\"], [0.7, \"#b8e186\"], [0.8, \"#7fbc41\"], [0.9, \"#4d9221\"], [1, \"#276419\"]], \"sequential\": [[0.0, \"#0d0887\"], [0.1111111111111111, \"#46039f\"], [0.2222222222222222, \"#7201a8\"], [0.3333333333333333, \"#9c179e\"], [0.4444444444444444, \"#bd3786\"], [0.5555555555555556, \"#d8576b\"], [0.6666666666666666, \"#ed7953\"], [0.7777777777777778, \"#fb9f3a\"], [0.8888888888888888, \"#fdca26\"], [1.0, \"#f0f921\"]], \"sequentialminus\": [[0.0, \"#0d0887\"], [0.1111111111111111, \"#46039f\"], [0.2222222222222222, \"#7201a8\"], [0.3333333333333333, \"#9c179e\"], [0.4444444444444444, \"#bd3786\"], [0.5555555555555556, \"#d8576b\"], [0.6666666666666666, \"#ed7953\"], [0.7777777777777778, \"#fb9f3a\"], [0.8888888888888888, \"#fdca26\"], [1.0, \"#f0f921\"]]}, \"colorway\": [\"#636efa\", \"#EF553B\", \"#00cc96\", \"#ab63fa\", \"#FFA15A\", \"#19d3f3\", \"#FF6692\", \"#B6E880\", \"#FF97FF\", \"#FECB52\"], \"font\": {\"color\": \"#2a3f5f\"}, \"geo\": {\"bgcolor\": \"white\", \"lakecolor\": \"white\", \"landcolor\": \"#E5ECF6\", \"showlakes\": true, \"showland\": true, \"subunitcolor\": \"white\"}, \"hoverlabel\": {\"align\": \"left\"}, \"hovermode\": \"closest\", \"mapbox\": {\"style\": \"light\"}, \"paper_bgcolor\": \"white\", \"plot_bgcolor\": \"#E5ECF6\", \"polar\": {\"angularaxis\": {\"gridcolor\": \"white\", \"linecolor\": \"white\", \"ticks\": \"\"}, \"bgcolor\": \"#E5ECF6\", \"radialaxis\": {\"gridcolor\": \"white\", \"linecolor\": \"white\", \"ticks\": \"\"}}, \"scene\": {\"xaxis\": {\"backgroundcolor\": \"#E5ECF6\", \"gridcolor\": \"white\", \"gridwidth\": 2, \"linecolor\": \"white\", \"showbackground\": true, \"ticks\": \"\", \"zerolinecolor\": \"white\"}, \"yaxis\": {\"backgroundcolor\": \"#E5ECF6\", \"gridcolor\": \"white\", \"gridwidth\": 2, \"linecolor\": \"white\", \"showbackground\": true, \"ticks\": \"\", \"zerolinecolor\": \"white\"}, \"zaxis\": {\"backgroundcolor\": \"#E5ECF6\", \"gridcolor\": \"white\", \"gridwidth\": 2, \"linecolor\": \"white\", \"showbackground\": true, \"ticks\": \"\", \"zerolinecolor\": \"white\"}}, \"shapedefaults\": {\"line\": {\"color\": \"#2a3f5f\"}}, \"ternary\": {\"aaxis\": {\"gridcolor\": \"white\", \"linecolor\": \"white\", \"ticks\": \"\"}, \"baxis\": {\"gridcolor\": \"white\", \"linecolor\": \"white\", \"ticks\": \"\"}, \"bgcolor\": \"#E5ECF6\", \"caxis\": {\"gridcolor\": \"white\", \"linecolor\": \"white\", \"ticks\": \"\"}}, \"title\": {\"x\": 0.05}, \"xaxis\": {\"automargin\": true, \"gridcolor\": \"white\", \"linecolor\": \"white\", \"ticks\": \"\", \"title\": {\"standoff\": 15}, \"zerolinecolor\": \"white\", \"zerolinewidth\": 2}, \"yaxis\": {\"automargin\": true, \"gridcolor\": \"white\", \"linecolor\": \"white\", \"ticks\": \"\", \"title\": {\"standoff\": 15}, \"zerolinecolor\": \"white\", \"zerolinewidth\": 2}}}, \"xaxis\": {\"anchor\": \"y\", \"domain\": [0.0, 1.0], \"title\": {\"text\": \"value\"}}, \"yaxis\": {\"anchor\": \"x\", \"domain\": [0.0, 1.0], \"title\": {\"text\": \"count\"}}},                        {\"responsive\": true}                    ).then(function(){\n",
       "                            \n",
       "var gd = document.getElementById('f438dcd8-ac2a-48c7-999f-c3cc7af4028b');\n",
       "var x = new MutationObserver(function (mutations, observer) {{\n",
       "        var display = window.getComputedStyle(gd).display;\n",
       "        if (!display || display === 'none') {{\n",
       "            console.log([gd, 'removed!']);\n",
       "            Plotly.purge(gd);\n",
       "            observer.disconnect();\n",
       "        }}\n",
       "}});\n",
       "\n",
       "// Listen for the removal of the full notebook cells\n",
       "var notebookContainer = gd.closest('#notebook-container');\n",
       "if (notebookContainer) {{\n",
       "    x.observe(notebookContainer, {childList: true});\n",
       "}}\n",
       "\n",
       "// Listen for the clearing of the current output cell\n",
       "var outputEl = gd.closest('.output');\n",
       "if (outputEl) {{\n",
       "    x.observe(outputEl, {childList: true});\n",
       "}}\n",
       "\n",
       "                        })                };                });            </script>        </div>"
      ]
     },
     "metadata": {},
     "output_type": "display_data"
    }
   ],
   "source": [
    "#the mu value is the perviouly calcauted mean in task 1 of the member task\n",
    "mu = 903585\n",
    "random_sample = stats.poisson.rvs(mu=mu, size=1000)\n",
    "poisson = px.histogram(random_sample)\n",
    "poisson"
   ]
  },
  {
   "cell_type": "markdown",
   "metadata": {},
   "source": [
    "### Texas Deaths Poission Distribution "
   ]
  },
  {
   "cell_type": "code",
   "execution_count": 32,
   "metadata": {},
   "outputs": [
    {
     "data": {
      "application/vnd.plotly.v1+json": {
       "config": {
        "plotlyServerURL": "https://plot.ly"
       },
       "data": [
        {
         "alignmentgroup": "True",
         "bingroup": "x",
         "hovertemplate": "variable=0<br>value=%{x}<br>count=%{y}<extra></extra>",
         "legendgroup": "0",
         "marker": {
          "color": "#636efa"
         },
         "name": "0",
         "offsetgroup": "0",
         "orientation": "v",
         "showlegend": true,
         "type": "histogram",
         "x": [
          679612,
          681806,
          679706,
          679999,
          680524,
          679801,
          680651,
          680625,
          679800,
          680983,
          680057,
          680267,
          680554,
          678420,
          680203,
          681306,
          679439,
          681385,
          680528,
          679643,
          680582,
          680284,
          680025,
          680723,
          679495,
          680598,
          680961,
          680217,
          680194,
          680103,
          679660,
          681155,
          680466,
          681138,
          679139,
          679642,
          680367,
          680218,
          680177,
          678986,
          679773,
          681769,
          679847,
          679800,
          680871,
          680455,
          679066,
          680892,
          680526,
          681465,
          681230,
          679001,
          679775,
          679346,
          679081,
          680762,
          678935,
          679537,
          680781,
          679933,
          680777,
          679993,
          680024,
          681201,
          681050,
          680650,
          680514,
          680921,
          680191,
          678598,
          681228,
          681777,
          680054,
          680272,
          680483,
          679840,
          680549,
          678063,
          679666,
          679071,
          680861,
          680136,
          680968,
          680751,
          680571,
          681103,
          680207,
          680552,
          678619,
          679081,
          680578,
          680899,
          682620,
          680354,
          681205,
          680439,
          680553,
          680262,
          681556,
          681756,
          681059,
          680085,
          681146,
          680164,
          678453,
          680826,
          680184,
          680238,
          680026,
          680406,
          680685,
          680242,
          681098,
          679685,
          681146,
          680370,
          680913,
          680218,
          679767,
          681824,
          678164,
          681174,
          680621,
          680369,
          681558,
          681484,
          679860,
          679327,
          680470,
          680472,
          680627,
          680126,
          680470,
          680092,
          679753,
          679851,
          680288,
          681021,
          680571,
          678038,
          680616,
          679495,
          679545,
          680424,
          680609,
          679417,
          679877,
          679981,
          679744,
          680173,
          679404,
          680588,
          681228,
          681167,
          680444,
          680442,
          679761,
          679406,
          679974,
          680343,
          679364,
          680265,
          680838,
          681023,
          681210,
          680261,
          679229,
          680237,
          680619,
          680262,
          680331,
          679865,
          681533,
          679445,
          682331,
          680567,
          680715,
          679034,
          681504,
          679796,
          680077,
          680833,
          680856,
          680078,
          680820,
          680890,
          679817,
          679472,
          680222,
          679709,
          680368,
          681111,
          680144,
          681548,
          680143,
          679890,
          679770,
          677944,
          679991,
          680586,
          681539,
          680266,
          680054,
          679608,
          678295,
          679440,
          681014,
          679509,
          681456,
          680557,
          680652,
          680656,
          680257,
          680167,
          680362,
          679958,
          679758,
          681367,
          678604,
          681610,
          679478,
          680786,
          681064,
          680398,
          680721,
          680439,
          681169,
          681090,
          680593,
          679603,
          679918,
          680286,
          679185,
          680646,
          680139,
          680963,
          680375,
          680507,
          681084,
          680536,
          681039,
          679106,
          679834,
          679973,
          679483,
          679981,
          681224,
          680551,
          680156,
          679408,
          680342,
          678597,
          681136,
          679921,
          680388,
          680790,
          680039,
          680533,
          680881,
          680284,
          680902,
          682054,
          679117,
          680038,
          679305,
          682557,
          680721,
          680296,
          680125,
          681269,
          679103,
          679917,
          679957,
          679368,
          679241,
          679873,
          679416,
          681743,
          679499,
          679829,
          680671,
          680327,
          680797,
          680966,
          679513,
          681223,
          678833,
          679941,
          680251,
          681227,
          681292,
          680440,
          681934,
          680878,
          681050,
          680194,
          681407,
          681373,
          681056,
          681071,
          678613,
          680556,
          680209,
          681350,
          680347,
          681392,
          681198,
          682232,
          680676,
          680623,
          679087,
          679215,
          679914,
          679147,
          680931,
          679571,
          678248,
          680955,
          679181,
          680981,
          681134,
          679961,
          680560,
          679030,
          680124,
          680746,
          682055,
          680338,
          679965,
          680931,
          681505,
          679743,
          680563,
          681659,
          681388,
          680165,
          679924,
          679352,
          680995,
          679571,
          680822,
          679846,
          679977,
          680620,
          677904,
          680989,
          679327,
          680063,
          681446,
          679946,
          679515,
          679403,
          680129,
          679613,
          679700,
          680915,
          679553,
          680331,
          680027,
          680470,
          681578,
          681234,
          680376,
          680259,
          679980,
          682070,
          679794,
          680435,
          681037,
          680591,
          679932,
          681113,
          678801,
          679007,
          680377,
          679607,
          680021,
          681519,
          681193,
          680237,
          679726,
          679448,
          679968,
          680211,
          681134,
          680911,
          680709,
          680255,
          681203,
          679468,
          679850,
          680174,
          680292,
          681049,
          680067,
          679922,
          680304,
          679343,
          680988,
          680796,
          679678,
          679420,
          680169,
          679240,
          679852,
          678815,
          679220,
          681355,
          680663,
          679769,
          680369,
          681095,
          681087,
          679309,
          679957,
          681410,
          681568,
          680397,
          681404,
          679582,
          680178,
          682302,
          680494,
          681055,
          679451,
          680939,
          680033,
          680125,
          680447,
          680372,
          680037,
          681435,
          679548,
          681235,
          680774,
          680858,
          681017,
          681031,
          680330,
          679397,
          680587,
          681149,
          679957,
          679016,
          679328,
          680516,
          680050,
          681157,
          680458,
          679412,
          680088,
          680598,
          679946,
          679729,
          681104,
          680063,
          680597,
          681046,
          680769,
          678449,
          679488,
          680425,
          679919,
          678611,
          681132,
          679160,
          680042,
          681182,
          680584,
          679603,
          679411,
          681088,
          679466,
          680186,
          679316,
          680915,
          680475,
          680055,
          681015,
          680153,
          681388,
          680205,
          679560,
          678611,
          680767,
          681150,
          681470,
          679762,
          681884,
          679250,
          681178,
          679743,
          680521,
          680255,
          678845,
          678763,
          678966,
          680727,
          680809,
          681689,
          680756,
          680897,
          679807,
          679520,
          679614,
          680306,
          680372,
          680008,
          679937,
          680291,
          679787,
          679890,
          680500,
          679310,
          679896,
          680993,
          679706,
          679869,
          679156,
          680848,
          681070,
          679307,
          679369,
          682013,
          679624,
          679915,
          681602,
          679295,
          680782,
          679578,
          681124,
          680004,
          680037,
          680589,
          678384,
          681321,
          679781,
          678957,
          679938,
          679472,
          679276,
          680630,
          679126,
          679886,
          680159,
          679910,
          679609,
          680085,
          680104,
          681211,
          680239,
          679827,
          681301,
          680639,
          679663,
          680754,
          680376,
          680053,
          679863,
          679508,
          680237,
          679830,
          681090,
          679319,
          680244,
          680145,
          682320,
          680544,
          679897,
          679067,
          681103,
          680306,
          679626,
          681653,
          680188,
          679315,
          679586,
          679867,
          679991,
          679687,
          680351,
          680151,
          679130,
          680364,
          679630,
          681084,
          679299,
          680411,
          678779,
          679382,
          680061,
          680412,
          680458,
          679297,
          680886,
          679170,
          680041,
          681321,
          679249,
          679032,
          680418,
          679922,
          680881,
          680403,
          679943,
          679943,
          678831,
          680122,
          680841,
          681182,
          682042,
          680545,
          680417,
          680027,
          678094,
          679488,
          681334,
          681095,
          680356,
          678819,
          680835,
          679435,
          679344,
          680238,
          679644,
          679838,
          678777,
          678938,
          681043,
          679987,
          680235,
          679846,
          679759,
          679994,
          680474,
          681127,
          680319,
          680152,
          680844,
          680519,
          681841,
          680046,
          680950,
          680151,
          679404,
          679557,
          679674,
          681815,
          679387,
          678183,
          680359,
          680644,
          682083,
          680759,
          680015,
          681074,
          679717,
          680065,
          680104,
          681515,
          680163,
          680893,
          681802,
          680947,
          679450,
          679961,
          680226,
          680290,
          679345,
          679861,
          680472,
          680907,
          679962,
          679273,
          679218,
          680110,
          680731,
          682266,
          680610,
          678796,
          681281,
          680390,
          679503,
          680869,
          678189,
          680138,
          679796,
          679036,
          680876,
          679437,
          680200,
          680170,
          680600,
          680005,
          678464,
          678695,
          681733,
          680085,
          680429,
          680465,
          679815,
          681459,
          681748,
          679723,
          680321,
          679076,
          681586,
          679439,
          679365,
          679573,
          680531,
          681436,
          680660,
          678110,
          680637,
          679121,
          680625,
          680291,
          678755,
          681080,
          681147,
          680153,
          680037,
          679642,
          680745,
          680774,
          679649,
          680563,
          680092,
          679577,
          680463,
          680976,
          679897,
          680416,
          678673,
          680753,
          680673,
          681442,
          682103,
          680155,
          680986,
          679590,
          679308,
          681113,
          679606,
          680777,
          679005,
          679606,
          680686,
          680552,
          681093,
          679542,
          680014,
          680362,
          680462,
          680495,
          679731,
          679612,
          679856,
          678609,
          680523,
          680752,
          679620,
          680857,
          679794,
          681045,
          680830,
          680946,
          680280,
          681337,
          679831,
          679688,
          681000,
          678611,
          678965,
          679649,
          681965,
          681818,
          679071,
          679561,
          680712,
          680365,
          680239,
          679653,
          681090,
          679479,
          680404,
          680892,
          680405,
          680768,
          679850,
          681673,
          679649,
          679738,
          681041,
          679293,
          680220,
          680384,
          680883,
          680592,
          680761,
          679547,
          679860,
          680903,
          679476,
          681239,
          680579,
          679426,
          679971,
          678760,
          679037,
          680478,
          679088,
          680685,
          680330,
          682015,
          681179,
          680486,
          680705,
          681224,
          679654,
          680861,
          679853,
          679574,
          680642,
          679796,
          679881,
          680275,
          680734,
          680861,
          679770,
          680865,
          678919,
          680761,
          679546,
          679500,
          680447,
          681235,
          679872,
          679301,
          680357,
          679094,
          680343,
          678607,
          680561,
          680863,
          679276,
          680632,
          680541,
          679973,
          679731,
          679747,
          678953,
          681183,
          680697,
          680397,
          679565,
          681049,
          681025,
          680177,
          680411,
          681448,
          678703,
          679750,
          680918,
          678453,
          681046,
          680071,
          681715,
          681233,
          680436,
          680022,
          680626,
          679996,
          679238,
          680114,
          678328,
          680896,
          679239,
          679768,
          680717,
          680056,
          681277,
          680395,
          679505,
          680199,
          682539,
          680699,
          680004,
          680602,
          680871,
          680690,
          680294,
          679660,
          679569,
          681553,
          679070,
          679066,
          679914,
          680017,
          679968,
          680090,
          679690,
          679920,
          679369,
          679245,
          680034,
          679762,
          680420,
          680869,
          679130,
          680374,
          681109,
          680108,
          680079,
          680470,
          681065,
          680201,
          679720,
          681246,
          679199,
          679281,
          681063,
          680525,
          679897,
          680637,
          680849,
          681093,
          680544,
          681353,
          678661,
          680226,
          680749,
          680111,
          678692,
          680115,
          680376,
          681259,
          679285,
          679318,
          678571,
          680041,
          680160,
          680695,
          679861,
          680596,
          679991,
          679839,
          681108,
          680839,
          680681,
          680407,
          680975,
          679438,
          679889,
          681752,
          681096,
          681440,
          680279,
          681048,
          681217,
          679866,
          680330,
          679527,
          679194,
          680701,
          681059,
          681040,
          679416,
          678863,
          680070,
          679810,
          678396,
          680459,
          680604,
          680431,
          679856,
          681100,
          678644,
          678829,
          679779,
          680453,
          679647,
          680522,
          681498,
          680675,
          678948,
          680445,
          681454,
          679751,
          681201,
          679044,
          679081,
          680702,
          680910,
          680118,
          680710,
          680859,
          679646,
          679954
         ],
         "xaxis": "x",
         "yaxis": "y"
        }
       ],
       "layout": {
        "barmode": "relative",
        "legend": {
         "title": {
          "text": "variable"
         },
         "tracegroupgap": 0
        },
        "margin": {
         "t": 60
        },
        "template": {
         "data": {
          "bar": [
           {
            "error_x": {
             "color": "#2a3f5f"
            },
            "error_y": {
             "color": "#2a3f5f"
            },
            "marker": {
             "line": {
              "color": "#E5ECF6",
              "width": 0.5
             }
            },
            "type": "bar"
           }
          ],
          "barpolar": [
           {
            "marker": {
             "line": {
              "color": "#E5ECF6",
              "width": 0.5
             }
            },
            "type": "barpolar"
           }
          ],
          "carpet": [
           {
            "aaxis": {
             "endlinecolor": "#2a3f5f",
             "gridcolor": "white",
             "linecolor": "white",
             "minorgridcolor": "white",
             "startlinecolor": "#2a3f5f"
            },
            "baxis": {
             "endlinecolor": "#2a3f5f",
             "gridcolor": "white",
             "linecolor": "white",
             "minorgridcolor": "white",
             "startlinecolor": "#2a3f5f"
            },
            "type": "carpet"
           }
          ],
          "choropleth": [
           {
            "colorbar": {
             "outlinewidth": 0,
             "ticks": ""
            },
            "type": "choropleth"
           }
          ],
          "contour": [
           {
            "colorbar": {
             "outlinewidth": 0,
             "ticks": ""
            },
            "colorscale": [
             [
              0,
              "#0d0887"
             ],
             [
              0.1111111111111111,
              "#46039f"
             ],
             [
              0.2222222222222222,
              "#7201a8"
             ],
             [
              0.3333333333333333,
              "#9c179e"
             ],
             [
              0.4444444444444444,
              "#bd3786"
             ],
             [
              0.5555555555555556,
              "#d8576b"
             ],
             [
              0.6666666666666666,
              "#ed7953"
             ],
             [
              0.7777777777777778,
              "#fb9f3a"
             ],
             [
              0.8888888888888888,
              "#fdca26"
             ],
             [
              1,
              "#f0f921"
             ]
            ],
            "type": "contour"
           }
          ],
          "contourcarpet": [
           {
            "colorbar": {
             "outlinewidth": 0,
             "ticks": ""
            },
            "type": "contourcarpet"
           }
          ],
          "heatmap": [
           {
            "colorbar": {
             "outlinewidth": 0,
             "ticks": ""
            },
            "colorscale": [
             [
              0,
              "#0d0887"
             ],
             [
              0.1111111111111111,
              "#46039f"
             ],
             [
              0.2222222222222222,
              "#7201a8"
             ],
             [
              0.3333333333333333,
              "#9c179e"
             ],
             [
              0.4444444444444444,
              "#bd3786"
             ],
             [
              0.5555555555555556,
              "#d8576b"
             ],
             [
              0.6666666666666666,
              "#ed7953"
             ],
             [
              0.7777777777777778,
              "#fb9f3a"
             ],
             [
              0.8888888888888888,
              "#fdca26"
             ],
             [
              1,
              "#f0f921"
             ]
            ],
            "type": "heatmap"
           }
          ],
          "heatmapgl": [
           {
            "colorbar": {
             "outlinewidth": 0,
             "ticks": ""
            },
            "colorscale": [
             [
              0,
              "#0d0887"
             ],
             [
              0.1111111111111111,
              "#46039f"
             ],
             [
              0.2222222222222222,
              "#7201a8"
             ],
             [
              0.3333333333333333,
              "#9c179e"
             ],
             [
              0.4444444444444444,
              "#bd3786"
             ],
             [
              0.5555555555555556,
              "#d8576b"
             ],
             [
              0.6666666666666666,
              "#ed7953"
             ],
             [
              0.7777777777777778,
              "#fb9f3a"
             ],
             [
              0.8888888888888888,
              "#fdca26"
             ],
             [
              1,
              "#f0f921"
             ]
            ],
            "type": "heatmapgl"
           }
          ],
          "histogram": [
           {
            "marker": {
             "colorbar": {
              "outlinewidth": 0,
              "ticks": ""
             }
            },
            "type": "histogram"
           }
          ],
          "histogram2d": [
           {
            "colorbar": {
             "outlinewidth": 0,
             "ticks": ""
            },
            "colorscale": [
             [
              0,
              "#0d0887"
             ],
             [
              0.1111111111111111,
              "#46039f"
             ],
             [
              0.2222222222222222,
              "#7201a8"
             ],
             [
              0.3333333333333333,
              "#9c179e"
             ],
             [
              0.4444444444444444,
              "#bd3786"
             ],
             [
              0.5555555555555556,
              "#d8576b"
             ],
             [
              0.6666666666666666,
              "#ed7953"
             ],
             [
              0.7777777777777778,
              "#fb9f3a"
             ],
             [
              0.8888888888888888,
              "#fdca26"
             ],
             [
              1,
              "#f0f921"
             ]
            ],
            "type": "histogram2d"
           }
          ],
          "histogram2dcontour": [
           {
            "colorbar": {
             "outlinewidth": 0,
             "ticks": ""
            },
            "colorscale": [
             [
              0,
              "#0d0887"
             ],
             [
              0.1111111111111111,
              "#46039f"
             ],
             [
              0.2222222222222222,
              "#7201a8"
             ],
             [
              0.3333333333333333,
              "#9c179e"
             ],
             [
              0.4444444444444444,
              "#bd3786"
             ],
             [
              0.5555555555555556,
              "#d8576b"
             ],
             [
              0.6666666666666666,
              "#ed7953"
             ],
             [
              0.7777777777777778,
              "#fb9f3a"
             ],
             [
              0.8888888888888888,
              "#fdca26"
             ],
             [
              1,
              "#f0f921"
             ]
            ],
            "type": "histogram2dcontour"
           }
          ],
          "mesh3d": [
           {
            "colorbar": {
             "outlinewidth": 0,
             "ticks": ""
            },
            "type": "mesh3d"
           }
          ],
          "parcoords": [
           {
            "line": {
             "colorbar": {
              "outlinewidth": 0,
              "ticks": ""
             }
            },
            "type": "parcoords"
           }
          ],
          "pie": [
           {
            "automargin": true,
            "type": "pie"
           }
          ],
          "scatter": [
           {
            "marker": {
             "colorbar": {
              "outlinewidth": 0,
              "ticks": ""
             }
            },
            "type": "scatter"
           }
          ],
          "scatter3d": [
           {
            "line": {
             "colorbar": {
              "outlinewidth": 0,
              "ticks": ""
             }
            },
            "marker": {
             "colorbar": {
              "outlinewidth": 0,
              "ticks": ""
             }
            },
            "type": "scatter3d"
           }
          ],
          "scattercarpet": [
           {
            "marker": {
             "colorbar": {
              "outlinewidth": 0,
              "ticks": ""
             }
            },
            "type": "scattercarpet"
           }
          ],
          "scattergeo": [
           {
            "marker": {
             "colorbar": {
              "outlinewidth": 0,
              "ticks": ""
             }
            },
            "type": "scattergeo"
           }
          ],
          "scattergl": [
           {
            "marker": {
             "colorbar": {
              "outlinewidth": 0,
              "ticks": ""
             }
            },
            "type": "scattergl"
           }
          ],
          "scattermapbox": [
           {
            "marker": {
             "colorbar": {
              "outlinewidth": 0,
              "ticks": ""
             }
            },
            "type": "scattermapbox"
           }
          ],
          "scatterpolar": [
           {
            "marker": {
             "colorbar": {
              "outlinewidth": 0,
              "ticks": ""
             }
            },
            "type": "scatterpolar"
           }
          ],
          "scatterpolargl": [
           {
            "marker": {
             "colorbar": {
              "outlinewidth": 0,
              "ticks": ""
             }
            },
            "type": "scatterpolargl"
           }
          ],
          "scatterternary": [
           {
            "marker": {
             "colorbar": {
              "outlinewidth": 0,
              "ticks": ""
             }
            },
            "type": "scatterternary"
           }
          ],
          "surface": [
           {
            "colorbar": {
             "outlinewidth": 0,
             "ticks": ""
            },
            "colorscale": [
             [
              0,
              "#0d0887"
             ],
             [
              0.1111111111111111,
              "#46039f"
             ],
             [
              0.2222222222222222,
              "#7201a8"
             ],
             [
              0.3333333333333333,
              "#9c179e"
             ],
             [
              0.4444444444444444,
              "#bd3786"
             ],
             [
              0.5555555555555556,
              "#d8576b"
             ],
             [
              0.6666666666666666,
              "#ed7953"
             ],
             [
              0.7777777777777778,
              "#fb9f3a"
             ],
             [
              0.8888888888888888,
              "#fdca26"
             ],
             [
              1,
              "#f0f921"
             ]
            ],
            "type": "surface"
           }
          ],
          "table": [
           {
            "cells": {
             "fill": {
              "color": "#EBF0F8"
             },
             "line": {
              "color": "white"
             }
            },
            "header": {
             "fill": {
              "color": "#C8D4E3"
             },
             "line": {
              "color": "white"
             }
            },
            "type": "table"
           }
          ]
         },
         "layout": {
          "annotationdefaults": {
           "arrowcolor": "#2a3f5f",
           "arrowhead": 0,
           "arrowwidth": 1
          },
          "autotypenumbers": "strict",
          "coloraxis": {
           "colorbar": {
            "outlinewidth": 0,
            "ticks": ""
           }
          },
          "colorscale": {
           "diverging": [
            [
             0,
             "#8e0152"
            ],
            [
             0.1,
             "#c51b7d"
            ],
            [
             0.2,
             "#de77ae"
            ],
            [
             0.3,
             "#f1b6da"
            ],
            [
             0.4,
             "#fde0ef"
            ],
            [
             0.5,
             "#f7f7f7"
            ],
            [
             0.6,
             "#e6f5d0"
            ],
            [
             0.7,
             "#b8e186"
            ],
            [
             0.8,
             "#7fbc41"
            ],
            [
             0.9,
             "#4d9221"
            ],
            [
             1,
             "#276419"
            ]
           ],
           "sequential": [
            [
             0,
             "#0d0887"
            ],
            [
             0.1111111111111111,
             "#46039f"
            ],
            [
             0.2222222222222222,
             "#7201a8"
            ],
            [
             0.3333333333333333,
             "#9c179e"
            ],
            [
             0.4444444444444444,
             "#bd3786"
            ],
            [
             0.5555555555555556,
             "#d8576b"
            ],
            [
             0.6666666666666666,
             "#ed7953"
            ],
            [
             0.7777777777777778,
             "#fb9f3a"
            ],
            [
             0.8888888888888888,
             "#fdca26"
            ],
            [
             1,
             "#f0f921"
            ]
           ],
           "sequentialminus": [
            [
             0,
             "#0d0887"
            ],
            [
             0.1111111111111111,
             "#46039f"
            ],
            [
             0.2222222222222222,
             "#7201a8"
            ],
            [
             0.3333333333333333,
             "#9c179e"
            ],
            [
             0.4444444444444444,
             "#bd3786"
            ],
            [
             0.5555555555555556,
             "#d8576b"
            ],
            [
             0.6666666666666666,
             "#ed7953"
            ],
            [
             0.7777777777777778,
             "#fb9f3a"
            ],
            [
             0.8888888888888888,
             "#fdca26"
            ],
            [
             1,
             "#f0f921"
            ]
           ]
          },
          "colorway": [
           "#636efa",
           "#EF553B",
           "#00cc96",
           "#ab63fa",
           "#FFA15A",
           "#19d3f3",
           "#FF6692",
           "#B6E880",
           "#FF97FF",
           "#FECB52"
          ],
          "font": {
           "color": "#2a3f5f"
          },
          "geo": {
           "bgcolor": "white",
           "lakecolor": "white",
           "landcolor": "#E5ECF6",
           "showlakes": true,
           "showland": true,
           "subunitcolor": "white"
          },
          "hoverlabel": {
           "align": "left"
          },
          "hovermode": "closest",
          "mapbox": {
           "style": "light"
          },
          "paper_bgcolor": "white",
          "plot_bgcolor": "#E5ECF6",
          "polar": {
           "angularaxis": {
            "gridcolor": "white",
            "linecolor": "white",
            "ticks": ""
           },
           "bgcolor": "#E5ECF6",
           "radialaxis": {
            "gridcolor": "white",
            "linecolor": "white",
            "ticks": ""
           }
          },
          "scene": {
           "xaxis": {
            "backgroundcolor": "#E5ECF6",
            "gridcolor": "white",
            "gridwidth": 2,
            "linecolor": "white",
            "showbackground": true,
            "ticks": "",
            "zerolinecolor": "white"
           },
           "yaxis": {
            "backgroundcolor": "#E5ECF6",
            "gridcolor": "white",
            "gridwidth": 2,
            "linecolor": "white",
            "showbackground": true,
            "ticks": "",
            "zerolinecolor": "white"
           },
           "zaxis": {
            "backgroundcolor": "#E5ECF6",
            "gridcolor": "white",
            "gridwidth": 2,
            "linecolor": "white",
            "showbackground": true,
            "ticks": "",
            "zerolinecolor": "white"
           }
          },
          "shapedefaults": {
           "line": {
            "color": "#2a3f5f"
           }
          },
          "ternary": {
           "aaxis": {
            "gridcolor": "white",
            "linecolor": "white",
            "ticks": ""
           },
           "baxis": {
            "gridcolor": "white",
            "linecolor": "white",
            "ticks": ""
           },
           "bgcolor": "#E5ECF6",
           "caxis": {
            "gridcolor": "white",
            "linecolor": "white",
            "ticks": ""
           }
          },
          "title": {
           "x": 0.05
          },
          "xaxis": {
           "automargin": true,
           "gridcolor": "white",
           "linecolor": "white",
           "ticks": "",
           "title": {
            "standoff": 15
           },
           "zerolinecolor": "white",
           "zerolinewidth": 2
          },
          "yaxis": {
           "automargin": true,
           "gridcolor": "white",
           "linecolor": "white",
           "ticks": "",
           "title": {
            "standoff": 15
           },
           "zerolinecolor": "white",
           "zerolinewidth": 2
          }
         }
        },
        "xaxis": {
         "anchor": "y",
         "domain": [
          0,
          1
         ],
         "title": {
          "text": "value"
         }
        },
        "yaxis": {
         "anchor": "x",
         "domain": [
          0,
          1
         ],
         "title": {
          "text": "count"
         }
        }
       }
      },
      "text/html": [
       "<div>                            <div id=\"7f56a56f-54e1-42aa-9922-02aee15b6c30\" class=\"plotly-graph-div\" style=\"height:525px; width:100%;\"></div>            <script type=\"text/javascript\">                require([\"plotly\"], function(Plotly) {                    window.PLOTLYENV=window.PLOTLYENV || {};                                    if (document.getElementById(\"7f56a56f-54e1-42aa-9922-02aee15b6c30\")) {                    Plotly.newPlot(                        \"7f56a56f-54e1-42aa-9922-02aee15b6c30\",                        [{\"alignmentgroup\": \"True\", \"bingroup\": \"x\", \"hovertemplate\": \"variable=0<br>value=%{x}<br>count=%{y}<extra></extra>\", \"legendgroup\": \"0\", \"marker\": {\"color\": \"#636efa\"}, \"name\": \"0\", \"offsetgroup\": \"0\", \"orientation\": \"v\", \"showlegend\": true, \"type\": \"histogram\", \"x\": [679612, 681806, 679706, 679999, 680524, 679801, 680651, 680625, 679800, 680983, 680057, 680267, 680554, 678420, 680203, 681306, 679439, 681385, 680528, 679643, 680582, 680284, 680025, 680723, 679495, 680598, 680961, 680217, 680194, 680103, 679660, 681155, 680466, 681138, 679139, 679642, 680367, 680218, 680177, 678986, 679773, 681769, 679847, 679800, 680871, 680455, 679066, 680892, 680526, 681465, 681230, 679001, 679775, 679346, 679081, 680762, 678935, 679537, 680781, 679933, 680777, 679993, 680024, 681201, 681050, 680650, 680514, 680921, 680191, 678598, 681228, 681777, 680054, 680272, 680483, 679840, 680549, 678063, 679666, 679071, 680861, 680136, 680968, 680751, 680571, 681103, 680207, 680552, 678619, 679081, 680578, 680899, 682620, 680354, 681205, 680439, 680553, 680262, 681556, 681756, 681059, 680085, 681146, 680164, 678453, 680826, 680184, 680238, 680026, 680406, 680685, 680242, 681098, 679685, 681146, 680370, 680913, 680218, 679767, 681824, 678164, 681174, 680621, 680369, 681558, 681484, 679860, 679327, 680470, 680472, 680627, 680126, 680470, 680092, 679753, 679851, 680288, 681021, 680571, 678038, 680616, 679495, 679545, 680424, 680609, 679417, 679877, 679981, 679744, 680173, 679404, 680588, 681228, 681167, 680444, 680442, 679761, 679406, 679974, 680343, 679364, 680265, 680838, 681023, 681210, 680261, 679229, 680237, 680619, 680262, 680331, 679865, 681533, 679445, 682331, 680567, 680715, 679034, 681504, 679796, 680077, 680833, 680856, 680078, 680820, 680890, 679817, 679472, 680222, 679709, 680368, 681111, 680144, 681548, 680143, 679890, 679770, 677944, 679991, 680586, 681539, 680266, 680054, 679608, 678295, 679440, 681014, 679509, 681456, 680557, 680652, 680656, 680257, 680167, 680362, 679958, 679758, 681367, 678604, 681610, 679478, 680786, 681064, 680398, 680721, 680439, 681169, 681090, 680593, 679603, 679918, 680286, 679185, 680646, 680139, 680963, 680375, 680507, 681084, 680536, 681039, 679106, 679834, 679973, 679483, 679981, 681224, 680551, 680156, 679408, 680342, 678597, 681136, 679921, 680388, 680790, 680039, 680533, 680881, 680284, 680902, 682054, 679117, 680038, 679305, 682557, 680721, 680296, 680125, 681269, 679103, 679917, 679957, 679368, 679241, 679873, 679416, 681743, 679499, 679829, 680671, 680327, 680797, 680966, 679513, 681223, 678833, 679941, 680251, 681227, 681292, 680440, 681934, 680878, 681050, 680194, 681407, 681373, 681056, 681071, 678613, 680556, 680209, 681350, 680347, 681392, 681198, 682232, 680676, 680623, 679087, 679215, 679914, 679147, 680931, 679571, 678248, 680955, 679181, 680981, 681134, 679961, 680560, 679030, 680124, 680746, 682055, 680338, 679965, 680931, 681505, 679743, 680563, 681659, 681388, 680165, 679924, 679352, 680995, 679571, 680822, 679846, 679977, 680620, 677904, 680989, 679327, 680063, 681446, 679946, 679515, 679403, 680129, 679613, 679700, 680915, 679553, 680331, 680027, 680470, 681578, 681234, 680376, 680259, 679980, 682070, 679794, 680435, 681037, 680591, 679932, 681113, 678801, 679007, 680377, 679607, 680021, 681519, 681193, 680237, 679726, 679448, 679968, 680211, 681134, 680911, 680709, 680255, 681203, 679468, 679850, 680174, 680292, 681049, 680067, 679922, 680304, 679343, 680988, 680796, 679678, 679420, 680169, 679240, 679852, 678815, 679220, 681355, 680663, 679769, 680369, 681095, 681087, 679309, 679957, 681410, 681568, 680397, 681404, 679582, 680178, 682302, 680494, 681055, 679451, 680939, 680033, 680125, 680447, 680372, 680037, 681435, 679548, 681235, 680774, 680858, 681017, 681031, 680330, 679397, 680587, 681149, 679957, 679016, 679328, 680516, 680050, 681157, 680458, 679412, 680088, 680598, 679946, 679729, 681104, 680063, 680597, 681046, 680769, 678449, 679488, 680425, 679919, 678611, 681132, 679160, 680042, 681182, 680584, 679603, 679411, 681088, 679466, 680186, 679316, 680915, 680475, 680055, 681015, 680153, 681388, 680205, 679560, 678611, 680767, 681150, 681470, 679762, 681884, 679250, 681178, 679743, 680521, 680255, 678845, 678763, 678966, 680727, 680809, 681689, 680756, 680897, 679807, 679520, 679614, 680306, 680372, 680008, 679937, 680291, 679787, 679890, 680500, 679310, 679896, 680993, 679706, 679869, 679156, 680848, 681070, 679307, 679369, 682013, 679624, 679915, 681602, 679295, 680782, 679578, 681124, 680004, 680037, 680589, 678384, 681321, 679781, 678957, 679938, 679472, 679276, 680630, 679126, 679886, 680159, 679910, 679609, 680085, 680104, 681211, 680239, 679827, 681301, 680639, 679663, 680754, 680376, 680053, 679863, 679508, 680237, 679830, 681090, 679319, 680244, 680145, 682320, 680544, 679897, 679067, 681103, 680306, 679626, 681653, 680188, 679315, 679586, 679867, 679991, 679687, 680351, 680151, 679130, 680364, 679630, 681084, 679299, 680411, 678779, 679382, 680061, 680412, 680458, 679297, 680886, 679170, 680041, 681321, 679249, 679032, 680418, 679922, 680881, 680403, 679943, 679943, 678831, 680122, 680841, 681182, 682042, 680545, 680417, 680027, 678094, 679488, 681334, 681095, 680356, 678819, 680835, 679435, 679344, 680238, 679644, 679838, 678777, 678938, 681043, 679987, 680235, 679846, 679759, 679994, 680474, 681127, 680319, 680152, 680844, 680519, 681841, 680046, 680950, 680151, 679404, 679557, 679674, 681815, 679387, 678183, 680359, 680644, 682083, 680759, 680015, 681074, 679717, 680065, 680104, 681515, 680163, 680893, 681802, 680947, 679450, 679961, 680226, 680290, 679345, 679861, 680472, 680907, 679962, 679273, 679218, 680110, 680731, 682266, 680610, 678796, 681281, 680390, 679503, 680869, 678189, 680138, 679796, 679036, 680876, 679437, 680200, 680170, 680600, 680005, 678464, 678695, 681733, 680085, 680429, 680465, 679815, 681459, 681748, 679723, 680321, 679076, 681586, 679439, 679365, 679573, 680531, 681436, 680660, 678110, 680637, 679121, 680625, 680291, 678755, 681080, 681147, 680153, 680037, 679642, 680745, 680774, 679649, 680563, 680092, 679577, 680463, 680976, 679897, 680416, 678673, 680753, 680673, 681442, 682103, 680155, 680986, 679590, 679308, 681113, 679606, 680777, 679005, 679606, 680686, 680552, 681093, 679542, 680014, 680362, 680462, 680495, 679731, 679612, 679856, 678609, 680523, 680752, 679620, 680857, 679794, 681045, 680830, 680946, 680280, 681337, 679831, 679688, 681000, 678611, 678965, 679649, 681965, 681818, 679071, 679561, 680712, 680365, 680239, 679653, 681090, 679479, 680404, 680892, 680405, 680768, 679850, 681673, 679649, 679738, 681041, 679293, 680220, 680384, 680883, 680592, 680761, 679547, 679860, 680903, 679476, 681239, 680579, 679426, 679971, 678760, 679037, 680478, 679088, 680685, 680330, 682015, 681179, 680486, 680705, 681224, 679654, 680861, 679853, 679574, 680642, 679796, 679881, 680275, 680734, 680861, 679770, 680865, 678919, 680761, 679546, 679500, 680447, 681235, 679872, 679301, 680357, 679094, 680343, 678607, 680561, 680863, 679276, 680632, 680541, 679973, 679731, 679747, 678953, 681183, 680697, 680397, 679565, 681049, 681025, 680177, 680411, 681448, 678703, 679750, 680918, 678453, 681046, 680071, 681715, 681233, 680436, 680022, 680626, 679996, 679238, 680114, 678328, 680896, 679239, 679768, 680717, 680056, 681277, 680395, 679505, 680199, 682539, 680699, 680004, 680602, 680871, 680690, 680294, 679660, 679569, 681553, 679070, 679066, 679914, 680017, 679968, 680090, 679690, 679920, 679369, 679245, 680034, 679762, 680420, 680869, 679130, 680374, 681109, 680108, 680079, 680470, 681065, 680201, 679720, 681246, 679199, 679281, 681063, 680525, 679897, 680637, 680849, 681093, 680544, 681353, 678661, 680226, 680749, 680111, 678692, 680115, 680376, 681259, 679285, 679318, 678571, 680041, 680160, 680695, 679861, 680596, 679991, 679839, 681108, 680839, 680681, 680407, 680975, 679438, 679889, 681752, 681096, 681440, 680279, 681048, 681217, 679866, 680330, 679527, 679194, 680701, 681059, 681040, 679416, 678863, 680070, 679810, 678396, 680459, 680604, 680431, 679856, 681100, 678644, 678829, 679779, 680453, 679647, 680522, 681498, 680675, 678948, 680445, 681454, 679751, 681201, 679044, 679081, 680702, 680910, 680118, 680710, 680859, 679646, 679954], \"xaxis\": \"x\", \"yaxis\": \"y\"}],                        {\"barmode\": \"relative\", \"legend\": {\"title\": {\"text\": \"variable\"}, \"tracegroupgap\": 0}, \"margin\": {\"t\": 60}, \"template\": {\"data\": {\"bar\": [{\"error_x\": {\"color\": \"#2a3f5f\"}, \"error_y\": {\"color\": \"#2a3f5f\"}, \"marker\": {\"line\": {\"color\": \"#E5ECF6\", \"width\": 0.5}}, \"type\": \"bar\"}], \"barpolar\": [{\"marker\": {\"line\": {\"color\": \"#E5ECF6\", \"width\": 0.5}}, \"type\": \"barpolar\"}], \"carpet\": [{\"aaxis\": {\"endlinecolor\": \"#2a3f5f\", \"gridcolor\": \"white\", \"linecolor\": \"white\", \"minorgridcolor\": \"white\", \"startlinecolor\": \"#2a3f5f\"}, \"baxis\": {\"endlinecolor\": \"#2a3f5f\", \"gridcolor\": \"white\", \"linecolor\": \"white\", \"minorgridcolor\": \"white\", \"startlinecolor\": \"#2a3f5f\"}, \"type\": \"carpet\"}], \"choropleth\": [{\"colorbar\": {\"outlinewidth\": 0, \"ticks\": \"\"}, \"type\": \"choropleth\"}], \"contour\": [{\"colorbar\": {\"outlinewidth\": 0, \"ticks\": \"\"}, \"colorscale\": [[0.0, \"#0d0887\"], [0.1111111111111111, \"#46039f\"], [0.2222222222222222, \"#7201a8\"], [0.3333333333333333, \"#9c179e\"], [0.4444444444444444, \"#bd3786\"], [0.5555555555555556, \"#d8576b\"], [0.6666666666666666, \"#ed7953\"], [0.7777777777777778, \"#fb9f3a\"], [0.8888888888888888, \"#fdca26\"], [1.0, \"#f0f921\"]], \"type\": \"contour\"}], \"contourcarpet\": [{\"colorbar\": {\"outlinewidth\": 0, \"ticks\": \"\"}, \"type\": \"contourcarpet\"}], \"heatmap\": [{\"colorbar\": {\"outlinewidth\": 0, \"ticks\": \"\"}, \"colorscale\": [[0.0, \"#0d0887\"], [0.1111111111111111, \"#46039f\"], [0.2222222222222222, \"#7201a8\"], [0.3333333333333333, \"#9c179e\"], [0.4444444444444444, \"#bd3786\"], [0.5555555555555556, \"#d8576b\"], [0.6666666666666666, \"#ed7953\"], [0.7777777777777778, \"#fb9f3a\"], [0.8888888888888888, \"#fdca26\"], [1.0, \"#f0f921\"]], \"type\": \"heatmap\"}], \"heatmapgl\": [{\"colorbar\": {\"outlinewidth\": 0, \"ticks\": \"\"}, \"colorscale\": [[0.0, \"#0d0887\"], [0.1111111111111111, \"#46039f\"], [0.2222222222222222, \"#7201a8\"], [0.3333333333333333, \"#9c179e\"], [0.4444444444444444, \"#bd3786\"], [0.5555555555555556, \"#d8576b\"], [0.6666666666666666, \"#ed7953\"], [0.7777777777777778, \"#fb9f3a\"], [0.8888888888888888, \"#fdca26\"], [1.0, \"#f0f921\"]], \"type\": \"heatmapgl\"}], \"histogram\": [{\"marker\": {\"colorbar\": {\"outlinewidth\": 0, \"ticks\": \"\"}}, \"type\": \"histogram\"}], \"histogram2d\": [{\"colorbar\": {\"outlinewidth\": 0, \"ticks\": \"\"}, \"colorscale\": [[0.0, \"#0d0887\"], [0.1111111111111111, \"#46039f\"], [0.2222222222222222, \"#7201a8\"], [0.3333333333333333, \"#9c179e\"], [0.4444444444444444, \"#bd3786\"], [0.5555555555555556, \"#d8576b\"], [0.6666666666666666, \"#ed7953\"], [0.7777777777777778, \"#fb9f3a\"], [0.8888888888888888, \"#fdca26\"], [1.0, \"#f0f921\"]], \"type\": \"histogram2d\"}], \"histogram2dcontour\": [{\"colorbar\": {\"outlinewidth\": 0, \"ticks\": \"\"}, \"colorscale\": [[0.0, \"#0d0887\"], [0.1111111111111111, \"#46039f\"], [0.2222222222222222, \"#7201a8\"], [0.3333333333333333, \"#9c179e\"], [0.4444444444444444, \"#bd3786\"], [0.5555555555555556, \"#d8576b\"], [0.6666666666666666, \"#ed7953\"], [0.7777777777777778, \"#fb9f3a\"], [0.8888888888888888, \"#fdca26\"], [1.0, \"#f0f921\"]], \"type\": \"histogram2dcontour\"}], \"mesh3d\": [{\"colorbar\": {\"outlinewidth\": 0, \"ticks\": \"\"}, \"type\": \"mesh3d\"}], \"parcoords\": [{\"line\": {\"colorbar\": {\"outlinewidth\": 0, \"ticks\": \"\"}}, \"type\": \"parcoords\"}], \"pie\": [{\"automargin\": true, \"type\": \"pie\"}], \"scatter\": [{\"marker\": {\"colorbar\": {\"outlinewidth\": 0, \"ticks\": \"\"}}, \"type\": \"scatter\"}], \"scatter3d\": [{\"line\": {\"colorbar\": {\"outlinewidth\": 0, \"ticks\": \"\"}}, \"marker\": {\"colorbar\": {\"outlinewidth\": 0, \"ticks\": \"\"}}, \"type\": \"scatter3d\"}], \"scattercarpet\": [{\"marker\": {\"colorbar\": {\"outlinewidth\": 0, \"ticks\": \"\"}}, \"type\": \"scattercarpet\"}], \"scattergeo\": [{\"marker\": {\"colorbar\": {\"outlinewidth\": 0, \"ticks\": \"\"}}, \"type\": \"scattergeo\"}], \"scattergl\": [{\"marker\": {\"colorbar\": {\"outlinewidth\": 0, \"ticks\": \"\"}}, \"type\": \"scattergl\"}], \"scattermapbox\": [{\"marker\": {\"colorbar\": {\"outlinewidth\": 0, \"ticks\": \"\"}}, \"type\": \"scattermapbox\"}], \"scatterpolar\": [{\"marker\": {\"colorbar\": {\"outlinewidth\": 0, \"ticks\": \"\"}}, \"type\": \"scatterpolar\"}], \"scatterpolargl\": [{\"marker\": {\"colorbar\": {\"outlinewidth\": 0, \"ticks\": \"\"}}, \"type\": \"scatterpolargl\"}], \"scatterternary\": [{\"marker\": {\"colorbar\": {\"outlinewidth\": 0, \"ticks\": \"\"}}, \"type\": \"scatterternary\"}], \"surface\": [{\"colorbar\": {\"outlinewidth\": 0, \"ticks\": \"\"}, \"colorscale\": [[0.0, \"#0d0887\"], [0.1111111111111111, \"#46039f\"], [0.2222222222222222, \"#7201a8\"], [0.3333333333333333, \"#9c179e\"], [0.4444444444444444, \"#bd3786\"], [0.5555555555555556, \"#d8576b\"], [0.6666666666666666, \"#ed7953\"], [0.7777777777777778, \"#fb9f3a\"], [0.8888888888888888, \"#fdca26\"], [1.0, \"#f0f921\"]], \"type\": \"surface\"}], \"table\": [{\"cells\": {\"fill\": {\"color\": \"#EBF0F8\"}, \"line\": {\"color\": \"white\"}}, \"header\": {\"fill\": {\"color\": \"#C8D4E3\"}, \"line\": {\"color\": \"white\"}}, \"type\": \"table\"}]}, \"layout\": {\"annotationdefaults\": {\"arrowcolor\": \"#2a3f5f\", \"arrowhead\": 0, \"arrowwidth\": 1}, \"autotypenumbers\": \"strict\", \"coloraxis\": {\"colorbar\": {\"outlinewidth\": 0, \"ticks\": \"\"}}, \"colorscale\": {\"diverging\": [[0, \"#8e0152\"], [0.1, \"#c51b7d\"], [0.2, \"#de77ae\"], [0.3, \"#f1b6da\"], [0.4, \"#fde0ef\"], [0.5, \"#f7f7f7\"], [0.6, \"#e6f5d0\"], [0.7, \"#b8e186\"], [0.8, \"#7fbc41\"], [0.9, \"#4d9221\"], [1, \"#276419\"]], \"sequential\": [[0.0, \"#0d0887\"], [0.1111111111111111, \"#46039f\"], [0.2222222222222222, \"#7201a8\"], [0.3333333333333333, \"#9c179e\"], [0.4444444444444444, \"#bd3786\"], [0.5555555555555556, \"#d8576b\"], [0.6666666666666666, \"#ed7953\"], [0.7777777777777778, \"#fb9f3a\"], [0.8888888888888888, \"#fdca26\"], [1.0, \"#f0f921\"]], \"sequentialminus\": [[0.0, \"#0d0887\"], [0.1111111111111111, \"#46039f\"], [0.2222222222222222, \"#7201a8\"], [0.3333333333333333, \"#9c179e\"], [0.4444444444444444, \"#bd3786\"], [0.5555555555555556, \"#d8576b\"], [0.6666666666666666, \"#ed7953\"], [0.7777777777777778, \"#fb9f3a\"], [0.8888888888888888, \"#fdca26\"], [1.0, \"#f0f921\"]]}, \"colorway\": [\"#636efa\", \"#EF553B\", \"#00cc96\", \"#ab63fa\", \"#FFA15A\", \"#19d3f3\", \"#FF6692\", \"#B6E880\", \"#FF97FF\", \"#FECB52\"], \"font\": {\"color\": \"#2a3f5f\"}, \"geo\": {\"bgcolor\": \"white\", \"lakecolor\": \"white\", \"landcolor\": \"#E5ECF6\", \"showlakes\": true, \"showland\": true, \"subunitcolor\": \"white\"}, \"hoverlabel\": {\"align\": \"left\"}, \"hovermode\": \"closest\", \"mapbox\": {\"style\": \"light\"}, \"paper_bgcolor\": \"white\", \"plot_bgcolor\": \"#E5ECF6\", \"polar\": {\"angularaxis\": {\"gridcolor\": \"white\", \"linecolor\": \"white\", \"ticks\": \"\"}, \"bgcolor\": \"#E5ECF6\", \"radialaxis\": {\"gridcolor\": \"white\", \"linecolor\": \"white\", \"ticks\": \"\"}}, \"scene\": {\"xaxis\": {\"backgroundcolor\": \"#E5ECF6\", \"gridcolor\": \"white\", \"gridwidth\": 2, \"linecolor\": \"white\", \"showbackground\": true, \"ticks\": \"\", \"zerolinecolor\": \"white\"}, \"yaxis\": {\"backgroundcolor\": \"#E5ECF6\", \"gridcolor\": \"white\", \"gridwidth\": 2, \"linecolor\": \"white\", \"showbackground\": true, \"ticks\": \"\", \"zerolinecolor\": \"white\"}, \"zaxis\": {\"backgroundcolor\": \"#E5ECF6\", \"gridcolor\": \"white\", \"gridwidth\": 2, \"linecolor\": \"white\", \"showbackground\": true, \"ticks\": \"\", \"zerolinecolor\": \"white\"}}, \"shapedefaults\": {\"line\": {\"color\": \"#2a3f5f\"}}, \"ternary\": {\"aaxis\": {\"gridcolor\": \"white\", \"linecolor\": \"white\", \"ticks\": \"\"}, \"baxis\": {\"gridcolor\": \"white\", \"linecolor\": \"white\", \"ticks\": \"\"}, \"bgcolor\": \"#E5ECF6\", \"caxis\": {\"gridcolor\": \"white\", \"linecolor\": \"white\", \"ticks\": \"\"}}, \"title\": {\"x\": 0.05}, \"xaxis\": {\"automargin\": true, \"gridcolor\": \"white\", \"linecolor\": \"white\", \"ticks\": \"\", \"title\": {\"standoff\": 15}, \"zerolinecolor\": \"white\", \"zerolinewidth\": 2}, \"yaxis\": {\"automargin\": true, \"gridcolor\": \"white\", \"linecolor\": \"white\", \"ticks\": \"\", \"title\": {\"standoff\": 15}, \"zerolinecolor\": \"white\", \"zerolinewidth\": 2}}}, \"xaxis\": {\"anchor\": \"y\", \"domain\": [0.0, 1.0], \"title\": {\"text\": \"value\"}}, \"yaxis\": {\"anchor\": \"x\", \"domain\": [0.0, 1.0], \"title\": {\"text\": \"count\"}}},                        {\"responsive\": true}                    ).then(function(){\n",
       "                            \n",
       "var gd = document.getElementById('7f56a56f-54e1-42aa-9922-02aee15b6c30');\n",
       "var x = new MutationObserver(function (mutations, observer) {{\n",
       "        var display = window.getComputedStyle(gd).display;\n",
       "        if (!display || display === 'none') {{\n",
       "            console.log([gd, 'removed!']);\n",
       "            Plotly.purge(gd);\n",
       "            observer.disconnect();\n",
       "        }}\n",
       "}});\n",
       "\n",
       "// Listen for the removal of the full notebook cells\n",
       "var notebookContainer = gd.closest('#notebook-container');\n",
       "if (notebookContainer) {{\n",
       "    x.observe(notebookContainer, {childList: true});\n",
       "}}\n",
       "\n",
       "// Listen for the clearing of the current output cell\n",
       "var outputEl = gd.closest('.output');\n",
       "if (outputEl) {{\n",
       "    x.observe(outputEl, {childList: true});\n",
       "}}\n",
       "\n",
       "                        })                };                });            </script>        </div>"
      ]
     },
     "metadata": {},
     "output_type": "display_data"
    }
   ],
   "source": [
    "#the mu value is the perviouly calcauted mean in task 1 of the member task\n",
    "mu = 680204\n",
    "ransam = stats.poisson.rvs(mu=mu, size=1000)\n",
    "poisson = px.histogram(ransam,)\n",
    "poisson"
   ]
  },
  {
   "cell_type": "markdown",
   "metadata": {},
   "source": [
    "# Member Task 2 - 2"
   ]
  },
  {
   "cell_type": "code",
   "execution_count": 33,
   "metadata": {},
   "outputs": [],
   "source": [
    "#the mu value is the perviouly calcauted mean in task 1 of the member task\n",
    "ncMu = 7\n",
    "flMu = 10\n",
    "caMu = 18\n",
    "ransam = stats.poisson.rvs(mu=ncMu, size=1000)\n",
    "ncPoisson = px.histogram(ransam,)\n",
    "ransam = stats.poisson.rvs(mu=flMu, size=1000)\n",
    "flPoisson = px.histogram(ransam,)\n",
    "ransam = stats.poisson.rvs(mu=flMu, size=1000)\n",
    "caPoisson = px.histogram(ransam,)"
   ]
  },
  {
   "cell_type": "code",
   "execution_count": 34,
   "metadata": {
    "scrolled": false
   },
   "outputs": [
    {
     "data": {
      "application/vnd.plotly.v1+json": {
       "config": {
        "plotlyServerURL": "https://plot.ly"
       },
       "data": [
        {
         "alignmentgroup": "True",
         "bingroup": "x",
         "hovertemplate": "variable=0<br>value=%{x}<br>count=%{y}<extra></extra>",
         "legendgroup": "0",
         "marker": {
          "color": "#636efa"
         },
         "name": "0",
         "offsetgroup": "0",
         "orientation": "v",
         "showlegend": true,
         "type": "histogram",
         "x": [
          15,
          6,
          5,
          7,
          9,
          6,
          3,
          5,
          4,
          7,
          6,
          6,
          4,
          6,
          10,
          12,
          9,
          7,
          10,
          11,
          11,
          5,
          4,
          6,
          7,
          8,
          8,
          8,
          7,
          5,
          11,
          8,
          3,
          9,
          8,
          4,
          6,
          5,
          11,
          7,
          6,
          7,
          5,
          9,
          6,
          8,
          6,
          6,
          5,
          10,
          6,
          7,
          6,
          11,
          5,
          5,
          9,
          5,
          5,
          2,
          8,
          3,
          5,
          10,
          11,
          5,
          5,
          7,
          4,
          7,
          7,
          10,
          6,
          6,
          5,
          6,
          8,
          5,
          7,
          9,
          3,
          6,
          8,
          9,
          8,
          10,
          5,
          10,
          9,
          7,
          9,
          10,
          6,
          7,
          6,
          3,
          9,
          14,
          9,
          4,
          11,
          4,
          8,
          2,
          6,
          10,
          4,
          2,
          7,
          7,
          8,
          6,
          9,
          6,
          4,
          9,
          4,
          9,
          7,
          3,
          2,
          8,
          10,
          7,
          6,
          3,
          5,
          6,
          8,
          10,
          8,
          7,
          7,
          7,
          4,
          8,
          7,
          3,
          3,
          8,
          5,
          5,
          7,
          5,
          8,
          4,
          5,
          9,
          3,
          6,
          3,
          9,
          5,
          11,
          9,
          8,
          11,
          11,
          6,
          6,
          4,
          5,
          12,
          6,
          5,
          6,
          10,
          11,
          2,
          8,
          11,
          6,
          10,
          4,
          6,
          6,
          9,
          10,
          9,
          3,
          8,
          8,
          4,
          9,
          8,
          11,
          4,
          3,
          9,
          9,
          4,
          7,
          7,
          4,
          5,
          6,
          4,
          3,
          5,
          8,
          5,
          8,
          7,
          6,
          7,
          6,
          10,
          5,
          3,
          9,
          7,
          7,
          3,
          9,
          8,
          8,
          6,
          7,
          10,
          9,
          4,
          10,
          13,
          4,
          12,
          6,
          11,
          6,
          8,
          5,
          5,
          5,
          5,
          8,
          7,
          7,
          9,
          7,
          6,
          10,
          13,
          4,
          2,
          10,
          7,
          9,
          2,
          5,
          3,
          4,
          8,
          9,
          20,
          6,
          7,
          6,
          4,
          7,
          8,
          4,
          4,
          9,
          7,
          11,
          7,
          5,
          7,
          9,
          8,
          9,
          10,
          5,
          6,
          5,
          4,
          9,
          10,
          4,
          5,
          4,
          9,
          3,
          14,
          12,
          7,
          10,
          9,
          9,
          11,
          5,
          15,
          2,
          14,
          7,
          7,
          8,
          9,
          6,
          6,
          6,
          5,
          6,
          10,
          6,
          7,
          8,
          7,
          5,
          8,
          5,
          6,
          7,
          9,
          4,
          5,
          5,
          17,
          11,
          5,
          10,
          10,
          1,
          10,
          1,
          18,
          3,
          3,
          9,
          5,
          7,
          5,
          7,
          9,
          10,
          6,
          5,
          7,
          8,
          5,
          8,
          5,
          6,
          13,
          10,
          5,
          7,
          7,
          6,
          11,
          7,
          10,
          8,
          7,
          7,
          3,
          6,
          6,
          3,
          10,
          7,
          10,
          14,
          10,
          12,
          6,
          8,
          12,
          9,
          5,
          7,
          5,
          5,
          4,
          7,
          5,
          8,
          6,
          6,
          10,
          5,
          6,
          7,
          12,
          6,
          11,
          5,
          7,
          6,
          11,
          13,
          5,
          11,
          4,
          7,
          7,
          6,
          4,
          12,
          3,
          6,
          3,
          7,
          5,
          2,
          4,
          11,
          10,
          6,
          9,
          6,
          10,
          5,
          3,
          3,
          3,
          10,
          10,
          6,
          6,
          7,
          3,
          6,
          5,
          11,
          8,
          6,
          7,
          6,
          6,
          6,
          8,
          1,
          6,
          6,
          7,
          7,
          3,
          5,
          11,
          5,
          6,
          11,
          12,
          8,
          8,
          10,
          6,
          13,
          10,
          9,
          8,
          8,
          9,
          5,
          6,
          13,
          7,
          3,
          11,
          8,
          10,
          8,
          7,
          8,
          6,
          9,
          7,
          6,
          9,
          8,
          12,
          5,
          7,
          6,
          11,
          3,
          5,
          11,
          6,
          8,
          8,
          8,
          6,
          6,
          9,
          13,
          11,
          12,
          10,
          12,
          7,
          6,
          5,
          5,
          4,
          5,
          5,
          7,
          11,
          4,
          7,
          13,
          5,
          6,
          4,
          7,
          5,
          7,
          7,
          3,
          5,
          9,
          7,
          5,
          10,
          6,
          10,
          7,
          13,
          4,
          5,
          7,
          6,
          3,
          4,
          4,
          8,
          7,
          8,
          8,
          9,
          6,
          6,
          6,
          5,
          10,
          9,
          7,
          8,
          5,
          10,
          8,
          7,
          8,
          2,
          8,
          7,
          7,
          6,
          3,
          4,
          8,
          9,
          7,
          10,
          11,
          6,
          6,
          7,
          7,
          1,
          4,
          3,
          11,
          7,
          11,
          7,
          9,
          6,
          7,
          13,
          7,
          7,
          10,
          5,
          7,
          14,
          5,
          7,
          8,
          6,
          9,
          3,
          6,
          9,
          4,
          9,
          11,
          13,
          7,
          11,
          9,
          2,
          6,
          7,
          5,
          3,
          6,
          7,
          5,
          9,
          7,
          12,
          7,
          5,
          5,
          6,
          5,
          8,
          6,
          5,
          1,
          6,
          11,
          6,
          8,
          4,
          7,
          2,
          5,
          5,
          11,
          3,
          11,
          6,
          4,
          9,
          3,
          4,
          6,
          12,
          4,
          7,
          7,
          5,
          8,
          7,
          7,
          10,
          8,
          9,
          6,
          6,
          7,
          6,
          4,
          6,
          8,
          8,
          4,
          10,
          10,
          12,
          9,
          7,
          6,
          8,
          4,
          8,
          8,
          6,
          3,
          9,
          11,
          10,
          8,
          8,
          7,
          8,
          7,
          4,
          9,
          5,
          8,
          5,
          3,
          6,
          9,
          8,
          4,
          9,
          7,
          7,
          6,
          6,
          7,
          6,
          6,
          6,
          5,
          9,
          9,
          10,
          7,
          7,
          3,
          6,
          4,
          9,
          6,
          11,
          4,
          6,
          5,
          11,
          6,
          6,
          9,
          5,
          5,
          8,
          7,
          9,
          5,
          6,
          2,
          2,
          1,
          8,
          5,
          6,
          4,
          6,
          1,
          5,
          9,
          6,
          6,
          7,
          11,
          5,
          10,
          11,
          11,
          9,
          12,
          6,
          5,
          9,
          5,
          7,
          7,
          5,
          4,
          5,
          7,
          3,
          8,
          7,
          10,
          7,
          6,
          7,
          9,
          9,
          10,
          9,
          8,
          9,
          9,
          9,
          8,
          6,
          11,
          6,
          6,
          3,
          7,
          5,
          8,
          11,
          6,
          9,
          4,
          7,
          7,
          6,
          10,
          6,
          7,
          3,
          5,
          9,
          7,
          8,
          5,
          8,
          5,
          9,
          6,
          7,
          7,
          7,
          7,
          8,
          7,
          11,
          10,
          6,
          5,
          4,
          10,
          11,
          7,
          10,
          6,
          6,
          7,
          4,
          7,
          7,
          5,
          5,
          6,
          4,
          10,
          5,
          4,
          5,
          10,
          9,
          8,
          9,
          6,
          6,
          10,
          10,
          8,
          4,
          10,
          4,
          6,
          8,
          7,
          4,
          3,
          10,
          10,
          7,
          8,
          4,
          6,
          10,
          7,
          6,
          11,
          9,
          13,
          7,
          7,
          4,
          4,
          7,
          6,
          3,
          6,
          10,
          8,
          5,
          1,
          7,
          11,
          5,
          6,
          7,
          9,
          4,
          5,
          10,
          6,
          6,
          9,
          7,
          6,
          5,
          11,
          6,
          4,
          7,
          6,
          8,
          5,
          7,
          7,
          4,
          7,
          8,
          9,
          7,
          11,
          11,
          9,
          4,
          7,
          7,
          6,
          7,
          7,
          14,
          8,
          9,
          8,
          14,
          6,
          6,
          8,
          1,
          8,
          9,
          14,
          6,
          11,
          6,
          7,
          10,
          5,
          3,
          7,
          6,
          9,
          8,
          9,
          10,
          10,
          5,
          6,
          10,
          10,
          3,
          11,
          7,
          6,
          11,
          9,
          6,
          9,
          7,
          7,
          9,
          9,
          10,
          7,
          8,
          3,
          16,
          8,
          8,
          4,
          10,
          6,
          6,
          4,
          4,
          4,
          7,
          6,
          10,
          11,
          8,
          8,
          8,
          8,
          6,
          4,
          5,
          7,
          8,
          5,
          6,
          3,
          9,
          6,
          10,
          4,
          5,
          5,
          4,
          2,
          11,
          3,
          4,
          7,
          10,
          10,
          12,
          8,
          8,
          3,
          4,
          5,
          5,
          5,
          11,
          9,
          8,
          5,
          8,
          6,
          6,
          5
         ],
         "xaxis": "x",
         "yaxis": "y"
        }
       ],
       "layout": {
        "barmode": "relative",
        "legend": {
         "title": {
          "text": "variable"
         },
         "tracegroupgap": 0
        },
        "margin": {
         "t": 60
        },
        "template": {
         "data": {
          "bar": [
           {
            "error_x": {
             "color": "#2a3f5f"
            },
            "error_y": {
             "color": "#2a3f5f"
            },
            "marker": {
             "line": {
              "color": "#E5ECF6",
              "width": 0.5
             }
            },
            "type": "bar"
           }
          ],
          "barpolar": [
           {
            "marker": {
             "line": {
              "color": "#E5ECF6",
              "width": 0.5
             }
            },
            "type": "barpolar"
           }
          ],
          "carpet": [
           {
            "aaxis": {
             "endlinecolor": "#2a3f5f",
             "gridcolor": "white",
             "linecolor": "white",
             "minorgridcolor": "white",
             "startlinecolor": "#2a3f5f"
            },
            "baxis": {
             "endlinecolor": "#2a3f5f",
             "gridcolor": "white",
             "linecolor": "white",
             "minorgridcolor": "white",
             "startlinecolor": "#2a3f5f"
            },
            "type": "carpet"
           }
          ],
          "choropleth": [
           {
            "colorbar": {
             "outlinewidth": 0,
             "ticks": ""
            },
            "type": "choropleth"
           }
          ],
          "contour": [
           {
            "colorbar": {
             "outlinewidth": 0,
             "ticks": ""
            },
            "colorscale": [
             [
              0,
              "#0d0887"
             ],
             [
              0.1111111111111111,
              "#46039f"
             ],
             [
              0.2222222222222222,
              "#7201a8"
             ],
             [
              0.3333333333333333,
              "#9c179e"
             ],
             [
              0.4444444444444444,
              "#bd3786"
             ],
             [
              0.5555555555555556,
              "#d8576b"
             ],
             [
              0.6666666666666666,
              "#ed7953"
             ],
             [
              0.7777777777777778,
              "#fb9f3a"
             ],
             [
              0.8888888888888888,
              "#fdca26"
             ],
             [
              1,
              "#f0f921"
             ]
            ],
            "type": "contour"
           }
          ],
          "contourcarpet": [
           {
            "colorbar": {
             "outlinewidth": 0,
             "ticks": ""
            },
            "type": "contourcarpet"
           }
          ],
          "heatmap": [
           {
            "colorbar": {
             "outlinewidth": 0,
             "ticks": ""
            },
            "colorscale": [
             [
              0,
              "#0d0887"
             ],
             [
              0.1111111111111111,
              "#46039f"
             ],
             [
              0.2222222222222222,
              "#7201a8"
             ],
             [
              0.3333333333333333,
              "#9c179e"
             ],
             [
              0.4444444444444444,
              "#bd3786"
             ],
             [
              0.5555555555555556,
              "#d8576b"
             ],
             [
              0.6666666666666666,
              "#ed7953"
             ],
             [
              0.7777777777777778,
              "#fb9f3a"
             ],
             [
              0.8888888888888888,
              "#fdca26"
             ],
             [
              1,
              "#f0f921"
             ]
            ],
            "type": "heatmap"
           }
          ],
          "heatmapgl": [
           {
            "colorbar": {
             "outlinewidth": 0,
             "ticks": ""
            },
            "colorscale": [
             [
              0,
              "#0d0887"
             ],
             [
              0.1111111111111111,
              "#46039f"
             ],
             [
              0.2222222222222222,
              "#7201a8"
             ],
             [
              0.3333333333333333,
              "#9c179e"
             ],
             [
              0.4444444444444444,
              "#bd3786"
             ],
             [
              0.5555555555555556,
              "#d8576b"
             ],
             [
              0.6666666666666666,
              "#ed7953"
             ],
             [
              0.7777777777777778,
              "#fb9f3a"
             ],
             [
              0.8888888888888888,
              "#fdca26"
             ],
             [
              1,
              "#f0f921"
             ]
            ],
            "type": "heatmapgl"
           }
          ],
          "histogram": [
           {
            "marker": {
             "colorbar": {
              "outlinewidth": 0,
              "ticks": ""
             }
            },
            "type": "histogram"
           }
          ],
          "histogram2d": [
           {
            "colorbar": {
             "outlinewidth": 0,
             "ticks": ""
            },
            "colorscale": [
             [
              0,
              "#0d0887"
             ],
             [
              0.1111111111111111,
              "#46039f"
             ],
             [
              0.2222222222222222,
              "#7201a8"
             ],
             [
              0.3333333333333333,
              "#9c179e"
             ],
             [
              0.4444444444444444,
              "#bd3786"
             ],
             [
              0.5555555555555556,
              "#d8576b"
             ],
             [
              0.6666666666666666,
              "#ed7953"
             ],
             [
              0.7777777777777778,
              "#fb9f3a"
             ],
             [
              0.8888888888888888,
              "#fdca26"
             ],
             [
              1,
              "#f0f921"
             ]
            ],
            "type": "histogram2d"
           }
          ],
          "histogram2dcontour": [
           {
            "colorbar": {
             "outlinewidth": 0,
             "ticks": ""
            },
            "colorscale": [
             [
              0,
              "#0d0887"
             ],
             [
              0.1111111111111111,
              "#46039f"
             ],
             [
              0.2222222222222222,
              "#7201a8"
             ],
             [
              0.3333333333333333,
              "#9c179e"
             ],
             [
              0.4444444444444444,
              "#bd3786"
             ],
             [
              0.5555555555555556,
              "#d8576b"
             ],
             [
              0.6666666666666666,
              "#ed7953"
             ],
             [
              0.7777777777777778,
              "#fb9f3a"
             ],
             [
              0.8888888888888888,
              "#fdca26"
             ],
             [
              1,
              "#f0f921"
             ]
            ],
            "type": "histogram2dcontour"
           }
          ],
          "mesh3d": [
           {
            "colorbar": {
             "outlinewidth": 0,
             "ticks": ""
            },
            "type": "mesh3d"
           }
          ],
          "parcoords": [
           {
            "line": {
             "colorbar": {
              "outlinewidth": 0,
              "ticks": ""
             }
            },
            "type": "parcoords"
           }
          ],
          "pie": [
           {
            "automargin": true,
            "type": "pie"
           }
          ],
          "scatter": [
           {
            "marker": {
             "colorbar": {
              "outlinewidth": 0,
              "ticks": ""
             }
            },
            "type": "scatter"
           }
          ],
          "scatter3d": [
           {
            "line": {
             "colorbar": {
              "outlinewidth": 0,
              "ticks": ""
             }
            },
            "marker": {
             "colorbar": {
              "outlinewidth": 0,
              "ticks": ""
             }
            },
            "type": "scatter3d"
           }
          ],
          "scattercarpet": [
           {
            "marker": {
             "colorbar": {
              "outlinewidth": 0,
              "ticks": ""
             }
            },
            "type": "scattercarpet"
           }
          ],
          "scattergeo": [
           {
            "marker": {
             "colorbar": {
              "outlinewidth": 0,
              "ticks": ""
             }
            },
            "type": "scattergeo"
           }
          ],
          "scattergl": [
           {
            "marker": {
             "colorbar": {
              "outlinewidth": 0,
              "ticks": ""
             }
            },
            "type": "scattergl"
           }
          ],
          "scattermapbox": [
           {
            "marker": {
             "colorbar": {
              "outlinewidth": 0,
              "ticks": ""
             }
            },
            "type": "scattermapbox"
           }
          ],
          "scatterpolar": [
           {
            "marker": {
             "colorbar": {
              "outlinewidth": 0,
              "ticks": ""
             }
            },
            "type": "scatterpolar"
           }
          ],
          "scatterpolargl": [
           {
            "marker": {
             "colorbar": {
              "outlinewidth": 0,
              "ticks": ""
             }
            },
            "type": "scatterpolargl"
           }
          ],
          "scatterternary": [
           {
            "marker": {
             "colorbar": {
              "outlinewidth": 0,
              "ticks": ""
             }
            },
            "type": "scatterternary"
           }
          ],
          "surface": [
           {
            "colorbar": {
             "outlinewidth": 0,
             "ticks": ""
            },
            "colorscale": [
             [
              0,
              "#0d0887"
             ],
             [
              0.1111111111111111,
              "#46039f"
             ],
             [
              0.2222222222222222,
              "#7201a8"
             ],
             [
              0.3333333333333333,
              "#9c179e"
             ],
             [
              0.4444444444444444,
              "#bd3786"
             ],
             [
              0.5555555555555556,
              "#d8576b"
             ],
             [
              0.6666666666666666,
              "#ed7953"
             ],
             [
              0.7777777777777778,
              "#fb9f3a"
             ],
             [
              0.8888888888888888,
              "#fdca26"
             ],
             [
              1,
              "#f0f921"
             ]
            ],
            "type": "surface"
           }
          ],
          "table": [
           {
            "cells": {
             "fill": {
              "color": "#EBF0F8"
             },
             "line": {
              "color": "white"
             }
            },
            "header": {
             "fill": {
              "color": "#C8D4E3"
             },
             "line": {
              "color": "white"
             }
            },
            "type": "table"
           }
          ]
         },
         "layout": {
          "annotationdefaults": {
           "arrowcolor": "#2a3f5f",
           "arrowhead": 0,
           "arrowwidth": 1
          },
          "autotypenumbers": "strict",
          "coloraxis": {
           "colorbar": {
            "outlinewidth": 0,
            "ticks": ""
           }
          },
          "colorscale": {
           "diverging": [
            [
             0,
             "#8e0152"
            ],
            [
             0.1,
             "#c51b7d"
            ],
            [
             0.2,
             "#de77ae"
            ],
            [
             0.3,
             "#f1b6da"
            ],
            [
             0.4,
             "#fde0ef"
            ],
            [
             0.5,
             "#f7f7f7"
            ],
            [
             0.6,
             "#e6f5d0"
            ],
            [
             0.7,
             "#b8e186"
            ],
            [
             0.8,
             "#7fbc41"
            ],
            [
             0.9,
             "#4d9221"
            ],
            [
             1,
             "#276419"
            ]
           ],
           "sequential": [
            [
             0,
             "#0d0887"
            ],
            [
             0.1111111111111111,
             "#46039f"
            ],
            [
             0.2222222222222222,
             "#7201a8"
            ],
            [
             0.3333333333333333,
             "#9c179e"
            ],
            [
             0.4444444444444444,
             "#bd3786"
            ],
            [
             0.5555555555555556,
             "#d8576b"
            ],
            [
             0.6666666666666666,
             "#ed7953"
            ],
            [
             0.7777777777777778,
             "#fb9f3a"
            ],
            [
             0.8888888888888888,
             "#fdca26"
            ],
            [
             1,
             "#f0f921"
            ]
           ],
           "sequentialminus": [
            [
             0,
             "#0d0887"
            ],
            [
             0.1111111111111111,
             "#46039f"
            ],
            [
             0.2222222222222222,
             "#7201a8"
            ],
            [
             0.3333333333333333,
             "#9c179e"
            ],
            [
             0.4444444444444444,
             "#bd3786"
            ],
            [
             0.5555555555555556,
             "#d8576b"
            ],
            [
             0.6666666666666666,
             "#ed7953"
            ],
            [
             0.7777777777777778,
             "#fb9f3a"
            ],
            [
             0.8888888888888888,
             "#fdca26"
            ],
            [
             1,
             "#f0f921"
            ]
           ]
          },
          "colorway": [
           "#636efa",
           "#EF553B",
           "#00cc96",
           "#ab63fa",
           "#FFA15A",
           "#19d3f3",
           "#FF6692",
           "#B6E880",
           "#FF97FF",
           "#FECB52"
          ],
          "font": {
           "color": "#2a3f5f"
          },
          "geo": {
           "bgcolor": "white",
           "lakecolor": "white",
           "landcolor": "#E5ECF6",
           "showlakes": true,
           "showland": true,
           "subunitcolor": "white"
          },
          "hoverlabel": {
           "align": "left"
          },
          "hovermode": "closest",
          "mapbox": {
           "style": "light"
          },
          "paper_bgcolor": "white",
          "plot_bgcolor": "#E5ECF6",
          "polar": {
           "angularaxis": {
            "gridcolor": "white",
            "linecolor": "white",
            "ticks": ""
           },
           "bgcolor": "#E5ECF6",
           "radialaxis": {
            "gridcolor": "white",
            "linecolor": "white",
            "ticks": ""
           }
          },
          "scene": {
           "xaxis": {
            "backgroundcolor": "#E5ECF6",
            "gridcolor": "white",
            "gridwidth": 2,
            "linecolor": "white",
            "showbackground": true,
            "ticks": "",
            "zerolinecolor": "white"
           },
           "yaxis": {
            "backgroundcolor": "#E5ECF6",
            "gridcolor": "white",
            "gridwidth": 2,
            "linecolor": "white",
            "showbackground": true,
            "ticks": "",
            "zerolinecolor": "white"
           },
           "zaxis": {
            "backgroundcolor": "#E5ECF6",
            "gridcolor": "white",
            "gridwidth": 2,
            "linecolor": "white",
            "showbackground": true,
            "ticks": "",
            "zerolinecolor": "white"
           }
          },
          "shapedefaults": {
           "line": {
            "color": "#2a3f5f"
           }
          },
          "ternary": {
           "aaxis": {
            "gridcolor": "white",
            "linecolor": "white",
            "ticks": ""
           },
           "baxis": {
            "gridcolor": "white",
            "linecolor": "white",
            "ticks": ""
           },
           "bgcolor": "#E5ECF6",
           "caxis": {
            "gridcolor": "white",
            "linecolor": "white",
            "ticks": ""
           }
          },
          "title": {
           "x": 0.05
          },
          "xaxis": {
           "automargin": true,
           "gridcolor": "white",
           "linecolor": "white",
           "ticks": "",
           "title": {
            "standoff": 15
           },
           "zerolinecolor": "white",
           "zerolinewidth": 2
          },
          "yaxis": {
           "automargin": true,
           "gridcolor": "white",
           "linecolor": "white",
           "ticks": "",
           "title": {
            "standoff": 15
           },
           "zerolinecolor": "white",
           "zerolinewidth": 2
          }
         }
        },
        "xaxis": {
         "anchor": "y",
         "domain": [
          0,
          1
         ],
         "title": {
          "text": "value"
         }
        },
        "yaxis": {
         "anchor": "x",
         "domain": [
          0,
          1
         ],
         "title": {
          "text": "count"
         }
        }
       }
      },
      "text/html": [
       "<div>                            <div id=\"721b75ea-d5cc-4ff4-8b6e-ec40f2fd5e28\" class=\"plotly-graph-div\" style=\"height:525px; width:100%;\"></div>            <script type=\"text/javascript\">                require([\"plotly\"], function(Plotly) {                    window.PLOTLYENV=window.PLOTLYENV || {};                                    if (document.getElementById(\"721b75ea-d5cc-4ff4-8b6e-ec40f2fd5e28\")) {                    Plotly.newPlot(                        \"721b75ea-d5cc-4ff4-8b6e-ec40f2fd5e28\",                        [{\"alignmentgroup\": \"True\", \"bingroup\": \"x\", \"hovertemplate\": \"variable=0<br>value=%{x}<br>count=%{y}<extra></extra>\", \"legendgroup\": \"0\", \"marker\": {\"color\": \"#636efa\"}, \"name\": \"0\", \"offsetgroup\": \"0\", \"orientation\": \"v\", \"showlegend\": true, \"type\": \"histogram\", \"x\": [15, 6, 5, 7, 9, 6, 3, 5, 4, 7, 6, 6, 4, 6, 10, 12, 9, 7, 10, 11, 11, 5, 4, 6, 7, 8, 8, 8, 7, 5, 11, 8, 3, 9, 8, 4, 6, 5, 11, 7, 6, 7, 5, 9, 6, 8, 6, 6, 5, 10, 6, 7, 6, 11, 5, 5, 9, 5, 5, 2, 8, 3, 5, 10, 11, 5, 5, 7, 4, 7, 7, 10, 6, 6, 5, 6, 8, 5, 7, 9, 3, 6, 8, 9, 8, 10, 5, 10, 9, 7, 9, 10, 6, 7, 6, 3, 9, 14, 9, 4, 11, 4, 8, 2, 6, 10, 4, 2, 7, 7, 8, 6, 9, 6, 4, 9, 4, 9, 7, 3, 2, 8, 10, 7, 6, 3, 5, 6, 8, 10, 8, 7, 7, 7, 4, 8, 7, 3, 3, 8, 5, 5, 7, 5, 8, 4, 5, 9, 3, 6, 3, 9, 5, 11, 9, 8, 11, 11, 6, 6, 4, 5, 12, 6, 5, 6, 10, 11, 2, 8, 11, 6, 10, 4, 6, 6, 9, 10, 9, 3, 8, 8, 4, 9, 8, 11, 4, 3, 9, 9, 4, 7, 7, 4, 5, 6, 4, 3, 5, 8, 5, 8, 7, 6, 7, 6, 10, 5, 3, 9, 7, 7, 3, 9, 8, 8, 6, 7, 10, 9, 4, 10, 13, 4, 12, 6, 11, 6, 8, 5, 5, 5, 5, 8, 7, 7, 9, 7, 6, 10, 13, 4, 2, 10, 7, 9, 2, 5, 3, 4, 8, 9, 20, 6, 7, 6, 4, 7, 8, 4, 4, 9, 7, 11, 7, 5, 7, 9, 8, 9, 10, 5, 6, 5, 4, 9, 10, 4, 5, 4, 9, 3, 14, 12, 7, 10, 9, 9, 11, 5, 15, 2, 14, 7, 7, 8, 9, 6, 6, 6, 5, 6, 10, 6, 7, 8, 7, 5, 8, 5, 6, 7, 9, 4, 5, 5, 17, 11, 5, 10, 10, 1, 10, 1, 18, 3, 3, 9, 5, 7, 5, 7, 9, 10, 6, 5, 7, 8, 5, 8, 5, 6, 13, 10, 5, 7, 7, 6, 11, 7, 10, 8, 7, 7, 3, 6, 6, 3, 10, 7, 10, 14, 10, 12, 6, 8, 12, 9, 5, 7, 5, 5, 4, 7, 5, 8, 6, 6, 10, 5, 6, 7, 12, 6, 11, 5, 7, 6, 11, 13, 5, 11, 4, 7, 7, 6, 4, 12, 3, 6, 3, 7, 5, 2, 4, 11, 10, 6, 9, 6, 10, 5, 3, 3, 3, 10, 10, 6, 6, 7, 3, 6, 5, 11, 8, 6, 7, 6, 6, 6, 8, 1, 6, 6, 7, 7, 3, 5, 11, 5, 6, 11, 12, 8, 8, 10, 6, 13, 10, 9, 8, 8, 9, 5, 6, 13, 7, 3, 11, 8, 10, 8, 7, 8, 6, 9, 7, 6, 9, 8, 12, 5, 7, 6, 11, 3, 5, 11, 6, 8, 8, 8, 6, 6, 9, 13, 11, 12, 10, 12, 7, 6, 5, 5, 4, 5, 5, 7, 11, 4, 7, 13, 5, 6, 4, 7, 5, 7, 7, 3, 5, 9, 7, 5, 10, 6, 10, 7, 13, 4, 5, 7, 6, 3, 4, 4, 8, 7, 8, 8, 9, 6, 6, 6, 5, 10, 9, 7, 8, 5, 10, 8, 7, 8, 2, 8, 7, 7, 6, 3, 4, 8, 9, 7, 10, 11, 6, 6, 7, 7, 1, 4, 3, 11, 7, 11, 7, 9, 6, 7, 13, 7, 7, 10, 5, 7, 14, 5, 7, 8, 6, 9, 3, 6, 9, 4, 9, 11, 13, 7, 11, 9, 2, 6, 7, 5, 3, 6, 7, 5, 9, 7, 12, 7, 5, 5, 6, 5, 8, 6, 5, 1, 6, 11, 6, 8, 4, 7, 2, 5, 5, 11, 3, 11, 6, 4, 9, 3, 4, 6, 12, 4, 7, 7, 5, 8, 7, 7, 10, 8, 9, 6, 6, 7, 6, 4, 6, 8, 8, 4, 10, 10, 12, 9, 7, 6, 8, 4, 8, 8, 6, 3, 9, 11, 10, 8, 8, 7, 8, 7, 4, 9, 5, 8, 5, 3, 6, 9, 8, 4, 9, 7, 7, 6, 6, 7, 6, 6, 6, 5, 9, 9, 10, 7, 7, 3, 6, 4, 9, 6, 11, 4, 6, 5, 11, 6, 6, 9, 5, 5, 8, 7, 9, 5, 6, 2, 2, 1, 8, 5, 6, 4, 6, 1, 5, 9, 6, 6, 7, 11, 5, 10, 11, 11, 9, 12, 6, 5, 9, 5, 7, 7, 5, 4, 5, 7, 3, 8, 7, 10, 7, 6, 7, 9, 9, 10, 9, 8, 9, 9, 9, 8, 6, 11, 6, 6, 3, 7, 5, 8, 11, 6, 9, 4, 7, 7, 6, 10, 6, 7, 3, 5, 9, 7, 8, 5, 8, 5, 9, 6, 7, 7, 7, 7, 8, 7, 11, 10, 6, 5, 4, 10, 11, 7, 10, 6, 6, 7, 4, 7, 7, 5, 5, 6, 4, 10, 5, 4, 5, 10, 9, 8, 9, 6, 6, 10, 10, 8, 4, 10, 4, 6, 8, 7, 4, 3, 10, 10, 7, 8, 4, 6, 10, 7, 6, 11, 9, 13, 7, 7, 4, 4, 7, 6, 3, 6, 10, 8, 5, 1, 7, 11, 5, 6, 7, 9, 4, 5, 10, 6, 6, 9, 7, 6, 5, 11, 6, 4, 7, 6, 8, 5, 7, 7, 4, 7, 8, 9, 7, 11, 11, 9, 4, 7, 7, 6, 7, 7, 14, 8, 9, 8, 14, 6, 6, 8, 1, 8, 9, 14, 6, 11, 6, 7, 10, 5, 3, 7, 6, 9, 8, 9, 10, 10, 5, 6, 10, 10, 3, 11, 7, 6, 11, 9, 6, 9, 7, 7, 9, 9, 10, 7, 8, 3, 16, 8, 8, 4, 10, 6, 6, 4, 4, 4, 7, 6, 10, 11, 8, 8, 8, 8, 6, 4, 5, 7, 8, 5, 6, 3, 9, 6, 10, 4, 5, 5, 4, 2, 11, 3, 4, 7, 10, 10, 12, 8, 8, 3, 4, 5, 5, 5, 11, 9, 8, 5, 8, 6, 6, 5], \"xaxis\": \"x\", \"yaxis\": \"y\"}],                        {\"barmode\": \"relative\", \"legend\": {\"title\": {\"text\": \"variable\"}, \"tracegroupgap\": 0}, \"margin\": {\"t\": 60}, \"template\": {\"data\": {\"bar\": [{\"error_x\": {\"color\": \"#2a3f5f\"}, \"error_y\": {\"color\": \"#2a3f5f\"}, \"marker\": {\"line\": {\"color\": \"#E5ECF6\", \"width\": 0.5}}, \"type\": \"bar\"}], \"barpolar\": [{\"marker\": {\"line\": {\"color\": \"#E5ECF6\", \"width\": 0.5}}, \"type\": \"barpolar\"}], \"carpet\": [{\"aaxis\": {\"endlinecolor\": \"#2a3f5f\", \"gridcolor\": \"white\", \"linecolor\": \"white\", \"minorgridcolor\": \"white\", \"startlinecolor\": \"#2a3f5f\"}, \"baxis\": {\"endlinecolor\": \"#2a3f5f\", \"gridcolor\": \"white\", \"linecolor\": \"white\", \"minorgridcolor\": \"white\", \"startlinecolor\": \"#2a3f5f\"}, \"type\": \"carpet\"}], \"choropleth\": [{\"colorbar\": {\"outlinewidth\": 0, \"ticks\": \"\"}, \"type\": \"choropleth\"}], \"contour\": [{\"colorbar\": {\"outlinewidth\": 0, \"ticks\": \"\"}, \"colorscale\": [[0.0, \"#0d0887\"], [0.1111111111111111, \"#46039f\"], [0.2222222222222222, \"#7201a8\"], [0.3333333333333333, \"#9c179e\"], [0.4444444444444444, \"#bd3786\"], [0.5555555555555556, \"#d8576b\"], [0.6666666666666666, \"#ed7953\"], [0.7777777777777778, \"#fb9f3a\"], [0.8888888888888888, \"#fdca26\"], [1.0, \"#f0f921\"]], \"type\": \"contour\"}], \"contourcarpet\": [{\"colorbar\": {\"outlinewidth\": 0, \"ticks\": \"\"}, \"type\": \"contourcarpet\"}], \"heatmap\": [{\"colorbar\": {\"outlinewidth\": 0, \"ticks\": \"\"}, \"colorscale\": [[0.0, \"#0d0887\"], [0.1111111111111111, \"#46039f\"], [0.2222222222222222, \"#7201a8\"], [0.3333333333333333, \"#9c179e\"], [0.4444444444444444, \"#bd3786\"], [0.5555555555555556, \"#d8576b\"], [0.6666666666666666, \"#ed7953\"], [0.7777777777777778, \"#fb9f3a\"], [0.8888888888888888, \"#fdca26\"], [1.0, \"#f0f921\"]], \"type\": \"heatmap\"}], \"heatmapgl\": [{\"colorbar\": {\"outlinewidth\": 0, \"ticks\": \"\"}, \"colorscale\": [[0.0, \"#0d0887\"], [0.1111111111111111, \"#46039f\"], [0.2222222222222222, \"#7201a8\"], [0.3333333333333333, \"#9c179e\"], [0.4444444444444444, \"#bd3786\"], [0.5555555555555556, \"#d8576b\"], [0.6666666666666666, \"#ed7953\"], [0.7777777777777778, \"#fb9f3a\"], [0.8888888888888888, \"#fdca26\"], [1.0, \"#f0f921\"]], \"type\": \"heatmapgl\"}], \"histogram\": [{\"marker\": {\"colorbar\": {\"outlinewidth\": 0, \"ticks\": \"\"}}, \"type\": \"histogram\"}], \"histogram2d\": [{\"colorbar\": {\"outlinewidth\": 0, \"ticks\": \"\"}, \"colorscale\": [[0.0, \"#0d0887\"], [0.1111111111111111, \"#46039f\"], [0.2222222222222222, \"#7201a8\"], [0.3333333333333333, \"#9c179e\"], [0.4444444444444444, \"#bd3786\"], [0.5555555555555556, \"#d8576b\"], [0.6666666666666666, \"#ed7953\"], [0.7777777777777778, \"#fb9f3a\"], [0.8888888888888888, \"#fdca26\"], [1.0, \"#f0f921\"]], \"type\": \"histogram2d\"}], \"histogram2dcontour\": [{\"colorbar\": {\"outlinewidth\": 0, \"ticks\": \"\"}, \"colorscale\": [[0.0, \"#0d0887\"], [0.1111111111111111, \"#46039f\"], [0.2222222222222222, \"#7201a8\"], [0.3333333333333333, \"#9c179e\"], [0.4444444444444444, \"#bd3786\"], [0.5555555555555556, \"#d8576b\"], [0.6666666666666666, \"#ed7953\"], [0.7777777777777778, \"#fb9f3a\"], [0.8888888888888888, \"#fdca26\"], [1.0, \"#f0f921\"]], \"type\": \"histogram2dcontour\"}], \"mesh3d\": [{\"colorbar\": {\"outlinewidth\": 0, \"ticks\": \"\"}, \"type\": \"mesh3d\"}], \"parcoords\": [{\"line\": {\"colorbar\": {\"outlinewidth\": 0, \"ticks\": \"\"}}, \"type\": \"parcoords\"}], \"pie\": [{\"automargin\": true, \"type\": \"pie\"}], \"scatter\": [{\"marker\": {\"colorbar\": {\"outlinewidth\": 0, \"ticks\": \"\"}}, \"type\": \"scatter\"}], \"scatter3d\": [{\"line\": {\"colorbar\": {\"outlinewidth\": 0, \"ticks\": \"\"}}, \"marker\": {\"colorbar\": {\"outlinewidth\": 0, \"ticks\": \"\"}}, \"type\": \"scatter3d\"}], \"scattercarpet\": [{\"marker\": {\"colorbar\": {\"outlinewidth\": 0, \"ticks\": \"\"}}, \"type\": \"scattercarpet\"}], \"scattergeo\": [{\"marker\": {\"colorbar\": {\"outlinewidth\": 0, \"ticks\": \"\"}}, \"type\": \"scattergeo\"}], \"scattergl\": [{\"marker\": {\"colorbar\": {\"outlinewidth\": 0, \"ticks\": \"\"}}, \"type\": \"scattergl\"}], \"scattermapbox\": [{\"marker\": {\"colorbar\": {\"outlinewidth\": 0, \"ticks\": \"\"}}, \"type\": \"scattermapbox\"}], \"scatterpolar\": [{\"marker\": {\"colorbar\": {\"outlinewidth\": 0, \"ticks\": \"\"}}, \"type\": \"scatterpolar\"}], \"scatterpolargl\": [{\"marker\": {\"colorbar\": {\"outlinewidth\": 0, \"ticks\": \"\"}}, \"type\": \"scatterpolargl\"}], \"scatterternary\": [{\"marker\": {\"colorbar\": {\"outlinewidth\": 0, \"ticks\": \"\"}}, \"type\": \"scatterternary\"}], \"surface\": [{\"colorbar\": {\"outlinewidth\": 0, \"ticks\": \"\"}, \"colorscale\": [[0.0, \"#0d0887\"], [0.1111111111111111, \"#46039f\"], [0.2222222222222222, \"#7201a8\"], [0.3333333333333333, \"#9c179e\"], [0.4444444444444444, \"#bd3786\"], [0.5555555555555556, \"#d8576b\"], [0.6666666666666666, \"#ed7953\"], [0.7777777777777778, \"#fb9f3a\"], [0.8888888888888888, \"#fdca26\"], [1.0, \"#f0f921\"]], \"type\": \"surface\"}], \"table\": [{\"cells\": {\"fill\": {\"color\": \"#EBF0F8\"}, \"line\": {\"color\": \"white\"}}, \"header\": {\"fill\": {\"color\": \"#C8D4E3\"}, \"line\": {\"color\": \"white\"}}, \"type\": \"table\"}]}, \"layout\": {\"annotationdefaults\": {\"arrowcolor\": \"#2a3f5f\", \"arrowhead\": 0, \"arrowwidth\": 1}, \"autotypenumbers\": \"strict\", \"coloraxis\": {\"colorbar\": {\"outlinewidth\": 0, \"ticks\": \"\"}}, \"colorscale\": {\"diverging\": [[0, \"#8e0152\"], [0.1, \"#c51b7d\"], [0.2, \"#de77ae\"], [0.3, \"#f1b6da\"], [0.4, \"#fde0ef\"], [0.5, \"#f7f7f7\"], [0.6, \"#e6f5d0\"], [0.7, \"#b8e186\"], [0.8, \"#7fbc41\"], [0.9, \"#4d9221\"], [1, \"#276419\"]], \"sequential\": [[0.0, \"#0d0887\"], [0.1111111111111111, \"#46039f\"], [0.2222222222222222, \"#7201a8\"], [0.3333333333333333, \"#9c179e\"], [0.4444444444444444, \"#bd3786\"], [0.5555555555555556, \"#d8576b\"], [0.6666666666666666, \"#ed7953\"], [0.7777777777777778, \"#fb9f3a\"], [0.8888888888888888, \"#fdca26\"], [1.0, \"#f0f921\"]], \"sequentialminus\": [[0.0, \"#0d0887\"], [0.1111111111111111, \"#46039f\"], [0.2222222222222222, \"#7201a8\"], [0.3333333333333333, \"#9c179e\"], [0.4444444444444444, \"#bd3786\"], [0.5555555555555556, \"#d8576b\"], [0.6666666666666666, \"#ed7953\"], [0.7777777777777778, \"#fb9f3a\"], [0.8888888888888888, \"#fdca26\"], [1.0, \"#f0f921\"]]}, \"colorway\": [\"#636efa\", \"#EF553B\", \"#00cc96\", \"#ab63fa\", \"#FFA15A\", \"#19d3f3\", \"#FF6692\", \"#B6E880\", \"#FF97FF\", \"#FECB52\"], \"font\": {\"color\": \"#2a3f5f\"}, \"geo\": {\"bgcolor\": \"white\", \"lakecolor\": \"white\", \"landcolor\": \"#E5ECF6\", \"showlakes\": true, \"showland\": true, \"subunitcolor\": \"white\"}, \"hoverlabel\": {\"align\": \"left\"}, \"hovermode\": \"closest\", \"mapbox\": {\"style\": \"light\"}, \"paper_bgcolor\": \"white\", \"plot_bgcolor\": \"#E5ECF6\", \"polar\": {\"angularaxis\": {\"gridcolor\": \"white\", \"linecolor\": \"white\", \"ticks\": \"\"}, \"bgcolor\": \"#E5ECF6\", \"radialaxis\": {\"gridcolor\": \"white\", \"linecolor\": \"white\", \"ticks\": \"\"}}, \"scene\": {\"xaxis\": {\"backgroundcolor\": \"#E5ECF6\", \"gridcolor\": \"white\", \"gridwidth\": 2, \"linecolor\": \"white\", \"showbackground\": true, \"ticks\": \"\", \"zerolinecolor\": \"white\"}, \"yaxis\": {\"backgroundcolor\": \"#E5ECF6\", \"gridcolor\": \"white\", \"gridwidth\": 2, \"linecolor\": \"white\", \"showbackground\": true, \"ticks\": \"\", \"zerolinecolor\": \"white\"}, \"zaxis\": {\"backgroundcolor\": \"#E5ECF6\", \"gridcolor\": \"white\", \"gridwidth\": 2, \"linecolor\": \"white\", \"showbackground\": true, \"ticks\": \"\", \"zerolinecolor\": \"white\"}}, \"shapedefaults\": {\"line\": {\"color\": \"#2a3f5f\"}}, \"ternary\": {\"aaxis\": {\"gridcolor\": \"white\", \"linecolor\": \"white\", \"ticks\": \"\"}, \"baxis\": {\"gridcolor\": \"white\", \"linecolor\": \"white\", \"ticks\": \"\"}, \"bgcolor\": \"#E5ECF6\", \"caxis\": {\"gridcolor\": \"white\", \"linecolor\": \"white\", \"ticks\": \"\"}}, \"title\": {\"x\": 0.05}, \"xaxis\": {\"automargin\": true, \"gridcolor\": \"white\", \"linecolor\": \"white\", \"ticks\": \"\", \"title\": {\"standoff\": 15}, \"zerolinecolor\": \"white\", \"zerolinewidth\": 2}, \"yaxis\": {\"automargin\": true, \"gridcolor\": \"white\", \"linecolor\": \"white\", \"ticks\": \"\", \"title\": {\"standoff\": 15}, \"zerolinecolor\": \"white\", \"zerolinewidth\": 2}}}, \"xaxis\": {\"anchor\": \"y\", \"domain\": [0.0, 1.0], \"title\": {\"text\": \"value\"}}, \"yaxis\": {\"anchor\": \"x\", \"domain\": [0.0, 1.0], \"title\": {\"text\": \"count\"}}},                        {\"responsive\": true}                    ).then(function(){\n",
       "                            \n",
       "var gd = document.getElementById('721b75ea-d5cc-4ff4-8b6e-ec40f2fd5e28');\n",
       "var x = new MutationObserver(function (mutations, observer) {{\n",
       "        var display = window.getComputedStyle(gd).display;\n",
       "        if (!display || display === 'none') {{\n",
       "            console.log([gd, 'removed!']);\n",
       "            Plotly.purge(gd);\n",
       "            observer.disconnect();\n",
       "        }}\n",
       "}});\n",
       "\n",
       "// Listen for the removal of the full notebook cells\n",
       "var notebookContainer = gd.closest('#notebook-container');\n",
       "if (notebookContainer) {{\n",
       "    x.observe(notebookContainer, {childList: true});\n",
       "}}\n",
       "\n",
       "// Listen for the clearing of the current output cell\n",
       "var outputEl = gd.closest('.output');\n",
       "if (outputEl) {{\n",
       "    x.observe(outputEl, {childList: true});\n",
       "}}\n",
       "\n",
       "                        })                };                });            </script>        </div>"
      ]
     },
     "metadata": {},
     "output_type": "display_data"
    }
   ],
   "source": [
    "ncPoisson"
   ]
  },
  {
   "cell_type": "code",
   "execution_count": 35,
   "metadata": {},
   "outputs": [
    {
     "data": {
      "application/vnd.plotly.v1+json": {
       "config": {
        "plotlyServerURL": "https://plot.ly"
       },
       "data": [
        {
         "alignmentgroup": "True",
         "bingroup": "x",
         "hovertemplate": "variable=0<br>value=%{x}<br>count=%{y}<extra></extra>",
         "legendgroup": "0",
         "marker": {
          "color": "#636efa"
         },
         "name": "0",
         "offsetgroup": "0",
         "orientation": "v",
         "showlegend": true,
         "type": "histogram",
         "x": [
          9,
          9,
          11,
          7,
          8,
          10,
          8,
          12,
          14,
          10,
          10,
          15,
          10,
          7,
          13,
          13,
          11,
          17,
          8,
          9,
          11,
          12,
          12,
          14,
          7,
          10,
          10,
          16,
          10,
          5,
          12,
          8,
          14,
          8,
          7,
          15,
          7,
          11,
          7,
          15,
          5,
          5,
          13,
          5,
          15,
          3,
          12,
          10,
          11,
          15,
          11,
          8,
          9,
          12,
          9,
          6,
          9,
          9,
          6,
          6,
          7,
          9,
          8,
          19,
          10,
          12,
          6,
          8,
          6,
          9,
          11,
          8,
          10,
          8,
          8,
          13,
          6,
          12,
          9,
          9,
          13,
          8,
          12,
          7,
          11,
          8,
          8,
          15,
          13,
          10,
          6,
          21,
          6,
          16,
          10,
          3,
          2,
          11,
          14,
          14,
          16,
          8,
          7,
          8,
          10,
          14,
          10,
          4,
          14,
          6,
          12,
          10,
          16,
          14,
          9,
          7,
          11,
          11,
          11,
          11,
          7,
          10,
          4,
          10,
          13,
          10,
          8,
          11,
          5,
          13,
          7,
          8,
          14,
          5,
          14,
          6,
          5,
          8,
          7,
          9,
          11,
          16,
          14,
          13,
          16,
          6,
          9,
          7,
          12,
          10,
          8,
          6,
          16,
          9,
          8,
          13,
          6,
          8,
          15,
          3,
          11,
          11,
          7,
          7,
          5,
          9,
          8,
          11,
          7,
          11,
          13,
          12,
          7,
          10,
          10,
          12,
          15,
          15,
          7,
          7,
          6,
          6,
          8,
          14,
          7,
          6,
          9,
          6,
          15,
          10,
          6,
          10,
          15,
          9,
          12,
          14,
          8,
          11,
          8,
          9,
          9,
          17,
          9,
          12,
          9,
          13,
          9,
          18,
          10,
          8,
          8,
          8,
          12,
          15,
          8,
          8,
          14,
          8,
          11,
          5,
          9,
          10,
          6,
          13,
          9,
          11,
          6,
          13,
          5,
          8,
          10,
          14,
          12,
          13,
          15,
          11,
          15,
          13,
          14,
          6,
          5,
          12,
          9,
          11,
          4,
          7,
          9,
          11,
          4,
          11,
          9,
          11,
          9,
          12,
          15,
          10,
          14,
          11,
          7,
          14,
          5,
          11,
          14,
          7,
          9,
          9,
          19,
          10,
          6,
          16,
          9,
          9,
          6,
          6,
          10,
          11,
          12,
          6,
          10,
          13,
          15,
          3,
          12,
          10,
          5,
          9,
          8,
          10,
          5,
          11,
          12,
          13,
          11,
          13,
          5,
          10,
          10,
          10,
          18,
          11,
          11,
          11,
          13,
          8,
          12,
          7,
          12,
          18,
          12,
          8,
          11,
          7,
          11,
          11,
          13,
          13,
          8,
          11,
          13,
          10,
          9,
          9,
          10,
          18,
          11,
          9,
          11,
          9,
          11,
          11,
          11,
          10,
          8,
          11,
          15,
          21,
          10,
          9,
          3,
          11,
          7,
          15,
          13,
          9,
          10,
          9,
          14,
          12,
          8,
          11,
          14,
          8,
          8,
          9,
          10,
          8,
          12,
          12,
          9,
          10,
          4,
          13,
          10,
          17,
          7,
          11,
          6,
          16,
          8,
          6,
          8,
          10,
          16,
          10,
          12,
          13,
          8,
          8,
          8,
          10,
          7,
          5,
          13,
          6,
          9,
          6,
          7,
          10,
          10,
          7,
          7,
          10,
          11,
          10,
          7,
          3,
          11,
          4,
          4,
          8,
          13,
          13,
          8,
          8,
          8,
          16,
          7,
          13,
          10,
          13,
          10,
          13,
          11,
          8,
          12,
          14,
          8,
          11,
          7,
          5,
          9,
          11,
          11,
          7,
          12,
          11,
          10,
          7,
          6,
          6,
          7,
          6,
          13,
          14,
          9,
          13,
          9,
          9,
          7,
          11,
          14,
          10,
          12,
          6,
          13,
          6,
          12,
          4,
          8,
          9,
          7,
          13,
          9,
          6,
          12,
          8,
          9,
          15,
          11,
          17,
          6,
          13,
          7,
          12,
          10,
          14,
          8,
          12,
          9,
          8,
          7,
          7,
          16,
          7,
          16,
          10,
          16,
          7,
          10,
          9,
          11,
          14,
          12,
          5,
          8,
          8,
          13,
          8,
          9,
          13,
          6,
          10,
          9,
          9,
          6,
          12,
          11,
          7,
          11,
          14,
          12,
          18,
          10,
          13,
          12,
          8,
          12,
          16,
          14,
          10,
          11,
          12,
          10,
          12,
          7,
          8,
          9,
          15,
          16,
          14,
          7,
          8,
          14,
          13,
          13,
          12,
          11,
          12,
          9,
          14,
          6,
          11,
          7,
          7,
          7,
          11,
          8,
          13,
          8,
          7,
          10,
          9,
          10,
          6,
          8,
          10,
          9,
          8,
          9,
          14,
          9,
          11,
          9,
          8,
          8,
          6,
          6,
          13,
          8,
          14,
          14,
          10,
          11,
          8,
          9,
          11,
          8,
          8,
          9,
          8,
          8,
          11,
          11,
          14,
          11,
          14,
          13,
          12,
          7,
          7,
          6,
          7,
          10,
          11,
          9,
          14,
          11,
          15,
          14,
          15,
          13,
          7,
          15,
          13,
          14,
          11,
          12,
          6,
          6,
          14,
          12,
          13,
          8,
          10,
          13,
          10,
          12,
          11,
          12,
          7,
          8,
          10,
          7,
          18,
          7,
          10,
          8,
          6,
          12,
          6,
          3,
          13,
          10,
          11,
          10,
          12,
          8,
          6,
          9,
          10,
          4,
          12,
          10,
          12,
          10,
          11,
          8,
          7,
          7,
          15,
          9,
          11,
          5,
          15,
          10,
          7,
          11,
          6,
          11,
          12,
          8,
          10,
          12,
          11,
          14,
          8,
          13,
          7,
          9,
          7,
          3,
          13,
          11,
          9,
          9,
          5,
          10,
          12,
          6,
          6,
          11,
          7,
          21,
          9,
          12,
          10,
          9,
          13,
          13,
          8,
          9,
          11,
          5,
          6,
          5,
          9,
          9,
          8,
          6,
          11,
          11,
          8,
          7,
          9,
          16,
          9,
          9,
          7,
          10,
          4,
          10,
          13,
          11,
          12,
          12,
          11,
          10,
          11,
          13,
          14,
          14,
          3,
          5,
          10,
          8,
          8,
          4,
          5,
          9,
          12,
          5,
          12,
          11,
          9,
          10,
          10,
          11,
          7,
          10,
          12,
          5,
          6,
          8,
          18,
          8,
          10,
          13,
          8,
          11,
          9,
          13,
          10,
          10,
          9,
          12,
          14,
          14,
          12,
          9,
          11,
          8,
          12,
          10,
          14,
          11,
          7,
          15,
          14,
          8,
          14,
          9,
          12,
          11,
          12,
          10,
          11,
          12,
          9,
          11,
          13,
          6,
          14,
          6,
          9,
          17,
          13,
          8,
          9,
          10,
          8,
          14,
          10,
          16,
          16,
          7,
          11,
          8,
          11,
          7,
          11,
          9,
          9,
          9,
          10,
          6,
          13,
          14,
          7,
          13,
          7,
          9,
          12,
          8,
          5,
          8,
          8,
          9,
          12,
          8,
          11,
          14,
          11,
          7,
          10,
          14,
          17,
          11,
          11,
          14,
          14,
          12,
          10,
          11,
          8,
          13,
          13,
          9,
          10,
          9,
          9,
          8,
          12,
          5,
          6,
          6,
          13,
          17,
          12,
          8,
          13,
          11,
          8,
          7,
          9,
          13,
          11,
          9,
          9,
          13,
          6,
          10,
          5,
          8,
          8,
          9,
          6,
          4,
          10,
          6,
          4,
          12,
          10,
          7,
          17,
          8,
          12,
          8,
          17,
          14,
          11,
          16,
          4,
          6,
          10,
          14,
          10,
          16,
          5,
          9,
          11,
          9,
          4,
          7,
          10,
          9,
          16,
          20,
          15,
          12,
          11,
          7,
          7,
          14,
          9,
          7,
          12,
          10,
          11,
          9,
          9,
          6,
          11,
          8,
          8,
          12,
          18,
          10,
          7,
          6,
          11,
          11,
          10,
          9,
          7,
          13,
          15,
          8,
          12,
          6,
          12,
          11,
          16,
          5,
          14,
          10,
          9,
          11,
          9,
          8,
          10,
          5,
          11,
          11,
          14,
          11,
          11,
          11,
          16,
          7,
          9,
          9,
          6,
          11,
          7,
          7,
          17,
          13,
          10,
          11,
          10,
          5,
          8,
          6,
          7,
          11,
          11,
          12,
          19,
          6,
          6,
          7,
          16,
          13,
          14,
          11,
          8,
          5,
          15,
          8,
          8,
          10,
          9,
          9,
          13,
          11,
          17,
          17,
          10,
          9,
          11,
          9,
          6,
          6,
          10,
          11,
          7,
          6,
          13,
          9,
          12,
          15,
          6,
          6,
          9,
          8,
          9,
          12,
          6,
          8,
          9
         ],
         "xaxis": "x",
         "yaxis": "y"
        }
       ],
       "layout": {
        "barmode": "relative",
        "legend": {
         "title": {
          "text": "variable"
         },
         "tracegroupgap": 0
        },
        "margin": {
         "t": 60
        },
        "template": {
         "data": {
          "bar": [
           {
            "error_x": {
             "color": "#2a3f5f"
            },
            "error_y": {
             "color": "#2a3f5f"
            },
            "marker": {
             "line": {
              "color": "#E5ECF6",
              "width": 0.5
             }
            },
            "type": "bar"
           }
          ],
          "barpolar": [
           {
            "marker": {
             "line": {
              "color": "#E5ECF6",
              "width": 0.5
             }
            },
            "type": "barpolar"
           }
          ],
          "carpet": [
           {
            "aaxis": {
             "endlinecolor": "#2a3f5f",
             "gridcolor": "white",
             "linecolor": "white",
             "minorgridcolor": "white",
             "startlinecolor": "#2a3f5f"
            },
            "baxis": {
             "endlinecolor": "#2a3f5f",
             "gridcolor": "white",
             "linecolor": "white",
             "minorgridcolor": "white",
             "startlinecolor": "#2a3f5f"
            },
            "type": "carpet"
           }
          ],
          "choropleth": [
           {
            "colorbar": {
             "outlinewidth": 0,
             "ticks": ""
            },
            "type": "choropleth"
           }
          ],
          "contour": [
           {
            "colorbar": {
             "outlinewidth": 0,
             "ticks": ""
            },
            "colorscale": [
             [
              0,
              "#0d0887"
             ],
             [
              0.1111111111111111,
              "#46039f"
             ],
             [
              0.2222222222222222,
              "#7201a8"
             ],
             [
              0.3333333333333333,
              "#9c179e"
             ],
             [
              0.4444444444444444,
              "#bd3786"
             ],
             [
              0.5555555555555556,
              "#d8576b"
             ],
             [
              0.6666666666666666,
              "#ed7953"
             ],
             [
              0.7777777777777778,
              "#fb9f3a"
             ],
             [
              0.8888888888888888,
              "#fdca26"
             ],
             [
              1,
              "#f0f921"
             ]
            ],
            "type": "contour"
           }
          ],
          "contourcarpet": [
           {
            "colorbar": {
             "outlinewidth": 0,
             "ticks": ""
            },
            "type": "contourcarpet"
           }
          ],
          "heatmap": [
           {
            "colorbar": {
             "outlinewidth": 0,
             "ticks": ""
            },
            "colorscale": [
             [
              0,
              "#0d0887"
             ],
             [
              0.1111111111111111,
              "#46039f"
             ],
             [
              0.2222222222222222,
              "#7201a8"
             ],
             [
              0.3333333333333333,
              "#9c179e"
             ],
             [
              0.4444444444444444,
              "#bd3786"
             ],
             [
              0.5555555555555556,
              "#d8576b"
             ],
             [
              0.6666666666666666,
              "#ed7953"
             ],
             [
              0.7777777777777778,
              "#fb9f3a"
             ],
             [
              0.8888888888888888,
              "#fdca26"
             ],
             [
              1,
              "#f0f921"
             ]
            ],
            "type": "heatmap"
           }
          ],
          "heatmapgl": [
           {
            "colorbar": {
             "outlinewidth": 0,
             "ticks": ""
            },
            "colorscale": [
             [
              0,
              "#0d0887"
             ],
             [
              0.1111111111111111,
              "#46039f"
             ],
             [
              0.2222222222222222,
              "#7201a8"
             ],
             [
              0.3333333333333333,
              "#9c179e"
             ],
             [
              0.4444444444444444,
              "#bd3786"
             ],
             [
              0.5555555555555556,
              "#d8576b"
             ],
             [
              0.6666666666666666,
              "#ed7953"
             ],
             [
              0.7777777777777778,
              "#fb9f3a"
             ],
             [
              0.8888888888888888,
              "#fdca26"
             ],
             [
              1,
              "#f0f921"
             ]
            ],
            "type": "heatmapgl"
           }
          ],
          "histogram": [
           {
            "marker": {
             "colorbar": {
              "outlinewidth": 0,
              "ticks": ""
             }
            },
            "type": "histogram"
           }
          ],
          "histogram2d": [
           {
            "colorbar": {
             "outlinewidth": 0,
             "ticks": ""
            },
            "colorscale": [
             [
              0,
              "#0d0887"
             ],
             [
              0.1111111111111111,
              "#46039f"
             ],
             [
              0.2222222222222222,
              "#7201a8"
             ],
             [
              0.3333333333333333,
              "#9c179e"
             ],
             [
              0.4444444444444444,
              "#bd3786"
             ],
             [
              0.5555555555555556,
              "#d8576b"
             ],
             [
              0.6666666666666666,
              "#ed7953"
             ],
             [
              0.7777777777777778,
              "#fb9f3a"
             ],
             [
              0.8888888888888888,
              "#fdca26"
             ],
             [
              1,
              "#f0f921"
             ]
            ],
            "type": "histogram2d"
           }
          ],
          "histogram2dcontour": [
           {
            "colorbar": {
             "outlinewidth": 0,
             "ticks": ""
            },
            "colorscale": [
             [
              0,
              "#0d0887"
             ],
             [
              0.1111111111111111,
              "#46039f"
             ],
             [
              0.2222222222222222,
              "#7201a8"
             ],
             [
              0.3333333333333333,
              "#9c179e"
             ],
             [
              0.4444444444444444,
              "#bd3786"
             ],
             [
              0.5555555555555556,
              "#d8576b"
             ],
             [
              0.6666666666666666,
              "#ed7953"
             ],
             [
              0.7777777777777778,
              "#fb9f3a"
             ],
             [
              0.8888888888888888,
              "#fdca26"
             ],
             [
              1,
              "#f0f921"
             ]
            ],
            "type": "histogram2dcontour"
           }
          ],
          "mesh3d": [
           {
            "colorbar": {
             "outlinewidth": 0,
             "ticks": ""
            },
            "type": "mesh3d"
           }
          ],
          "parcoords": [
           {
            "line": {
             "colorbar": {
              "outlinewidth": 0,
              "ticks": ""
             }
            },
            "type": "parcoords"
           }
          ],
          "pie": [
           {
            "automargin": true,
            "type": "pie"
           }
          ],
          "scatter": [
           {
            "marker": {
             "colorbar": {
              "outlinewidth": 0,
              "ticks": ""
             }
            },
            "type": "scatter"
           }
          ],
          "scatter3d": [
           {
            "line": {
             "colorbar": {
              "outlinewidth": 0,
              "ticks": ""
             }
            },
            "marker": {
             "colorbar": {
              "outlinewidth": 0,
              "ticks": ""
             }
            },
            "type": "scatter3d"
           }
          ],
          "scattercarpet": [
           {
            "marker": {
             "colorbar": {
              "outlinewidth": 0,
              "ticks": ""
             }
            },
            "type": "scattercarpet"
           }
          ],
          "scattergeo": [
           {
            "marker": {
             "colorbar": {
              "outlinewidth": 0,
              "ticks": ""
             }
            },
            "type": "scattergeo"
           }
          ],
          "scattergl": [
           {
            "marker": {
             "colorbar": {
              "outlinewidth": 0,
              "ticks": ""
             }
            },
            "type": "scattergl"
           }
          ],
          "scattermapbox": [
           {
            "marker": {
             "colorbar": {
              "outlinewidth": 0,
              "ticks": ""
             }
            },
            "type": "scattermapbox"
           }
          ],
          "scatterpolar": [
           {
            "marker": {
             "colorbar": {
              "outlinewidth": 0,
              "ticks": ""
             }
            },
            "type": "scatterpolar"
           }
          ],
          "scatterpolargl": [
           {
            "marker": {
             "colorbar": {
              "outlinewidth": 0,
              "ticks": ""
             }
            },
            "type": "scatterpolargl"
           }
          ],
          "scatterternary": [
           {
            "marker": {
             "colorbar": {
              "outlinewidth": 0,
              "ticks": ""
             }
            },
            "type": "scatterternary"
           }
          ],
          "surface": [
           {
            "colorbar": {
             "outlinewidth": 0,
             "ticks": ""
            },
            "colorscale": [
             [
              0,
              "#0d0887"
             ],
             [
              0.1111111111111111,
              "#46039f"
             ],
             [
              0.2222222222222222,
              "#7201a8"
             ],
             [
              0.3333333333333333,
              "#9c179e"
             ],
             [
              0.4444444444444444,
              "#bd3786"
             ],
             [
              0.5555555555555556,
              "#d8576b"
             ],
             [
              0.6666666666666666,
              "#ed7953"
             ],
             [
              0.7777777777777778,
              "#fb9f3a"
             ],
             [
              0.8888888888888888,
              "#fdca26"
             ],
             [
              1,
              "#f0f921"
             ]
            ],
            "type": "surface"
           }
          ],
          "table": [
           {
            "cells": {
             "fill": {
              "color": "#EBF0F8"
             },
             "line": {
              "color": "white"
             }
            },
            "header": {
             "fill": {
              "color": "#C8D4E3"
             },
             "line": {
              "color": "white"
             }
            },
            "type": "table"
           }
          ]
         },
         "layout": {
          "annotationdefaults": {
           "arrowcolor": "#2a3f5f",
           "arrowhead": 0,
           "arrowwidth": 1
          },
          "autotypenumbers": "strict",
          "coloraxis": {
           "colorbar": {
            "outlinewidth": 0,
            "ticks": ""
           }
          },
          "colorscale": {
           "diverging": [
            [
             0,
             "#8e0152"
            ],
            [
             0.1,
             "#c51b7d"
            ],
            [
             0.2,
             "#de77ae"
            ],
            [
             0.3,
             "#f1b6da"
            ],
            [
             0.4,
             "#fde0ef"
            ],
            [
             0.5,
             "#f7f7f7"
            ],
            [
             0.6,
             "#e6f5d0"
            ],
            [
             0.7,
             "#b8e186"
            ],
            [
             0.8,
             "#7fbc41"
            ],
            [
             0.9,
             "#4d9221"
            ],
            [
             1,
             "#276419"
            ]
           ],
           "sequential": [
            [
             0,
             "#0d0887"
            ],
            [
             0.1111111111111111,
             "#46039f"
            ],
            [
             0.2222222222222222,
             "#7201a8"
            ],
            [
             0.3333333333333333,
             "#9c179e"
            ],
            [
             0.4444444444444444,
             "#bd3786"
            ],
            [
             0.5555555555555556,
             "#d8576b"
            ],
            [
             0.6666666666666666,
             "#ed7953"
            ],
            [
             0.7777777777777778,
             "#fb9f3a"
            ],
            [
             0.8888888888888888,
             "#fdca26"
            ],
            [
             1,
             "#f0f921"
            ]
           ],
           "sequentialminus": [
            [
             0,
             "#0d0887"
            ],
            [
             0.1111111111111111,
             "#46039f"
            ],
            [
             0.2222222222222222,
             "#7201a8"
            ],
            [
             0.3333333333333333,
             "#9c179e"
            ],
            [
             0.4444444444444444,
             "#bd3786"
            ],
            [
             0.5555555555555556,
             "#d8576b"
            ],
            [
             0.6666666666666666,
             "#ed7953"
            ],
            [
             0.7777777777777778,
             "#fb9f3a"
            ],
            [
             0.8888888888888888,
             "#fdca26"
            ],
            [
             1,
             "#f0f921"
            ]
           ]
          },
          "colorway": [
           "#636efa",
           "#EF553B",
           "#00cc96",
           "#ab63fa",
           "#FFA15A",
           "#19d3f3",
           "#FF6692",
           "#B6E880",
           "#FF97FF",
           "#FECB52"
          ],
          "font": {
           "color": "#2a3f5f"
          },
          "geo": {
           "bgcolor": "white",
           "lakecolor": "white",
           "landcolor": "#E5ECF6",
           "showlakes": true,
           "showland": true,
           "subunitcolor": "white"
          },
          "hoverlabel": {
           "align": "left"
          },
          "hovermode": "closest",
          "mapbox": {
           "style": "light"
          },
          "paper_bgcolor": "white",
          "plot_bgcolor": "#E5ECF6",
          "polar": {
           "angularaxis": {
            "gridcolor": "white",
            "linecolor": "white",
            "ticks": ""
           },
           "bgcolor": "#E5ECF6",
           "radialaxis": {
            "gridcolor": "white",
            "linecolor": "white",
            "ticks": ""
           }
          },
          "scene": {
           "xaxis": {
            "backgroundcolor": "#E5ECF6",
            "gridcolor": "white",
            "gridwidth": 2,
            "linecolor": "white",
            "showbackground": true,
            "ticks": "",
            "zerolinecolor": "white"
           },
           "yaxis": {
            "backgroundcolor": "#E5ECF6",
            "gridcolor": "white",
            "gridwidth": 2,
            "linecolor": "white",
            "showbackground": true,
            "ticks": "",
            "zerolinecolor": "white"
           },
           "zaxis": {
            "backgroundcolor": "#E5ECF6",
            "gridcolor": "white",
            "gridwidth": 2,
            "linecolor": "white",
            "showbackground": true,
            "ticks": "",
            "zerolinecolor": "white"
           }
          },
          "shapedefaults": {
           "line": {
            "color": "#2a3f5f"
           }
          },
          "ternary": {
           "aaxis": {
            "gridcolor": "white",
            "linecolor": "white",
            "ticks": ""
           },
           "baxis": {
            "gridcolor": "white",
            "linecolor": "white",
            "ticks": ""
           },
           "bgcolor": "#E5ECF6",
           "caxis": {
            "gridcolor": "white",
            "linecolor": "white",
            "ticks": ""
           }
          },
          "title": {
           "x": 0.05
          },
          "xaxis": {
           "automargin": true,
           "gridcolor": "white",
           "linecolor": "white",
           "ticks": "",
           "title": {
            "standoff": 15
           },
           "zerolinecolor": "white",
           "zerolinewidth": 2
          },
          "yaxis": {
           "automargin": true,
           "gridcolor": "white",
           "linecolor": "white",
           "ticks": "",
           "title": {
            "standoff": 15
           },
           "zerolinecolor": "white",
           "zerolinewidth": 2
          }
         }
        },
        "xaxis": {
         "anchor": "y",
         "domain": [
          0,
          1
         ],
         "title": {
          "text": "value"
         }
        },
        "yaxis": {
         "anchor": "x",
         "domain": [
          0,
          1
         ],
         "title": {
          "text": "count"
         }
        }
       }
      },
      "text/html": [
       "<div>                            <div id=\"8e574878-b580-45af-925f-1269c21cfa87\" class=\"plotly-graph-div\" style=\"height:525px; width:100%;\"></div>            <script type=\"text/javascript\">                require([\"plotly\"], function(Plotly) {                    window.PLOTLYENV=window.PLOTLYENV || {};                                    if (document.getElementById(\"8e574878-b580-45af-925f-1269c21cfa87\")) {                    Plotly.newPlot(                        \"8e574878-b580-45af-925f-1269c21cfa87\",                        [{\"alignmentgroup\": \"True\", \"bingroup\": \"x\", \"hovertemplate\": \"variable=0<br>value=%{x}<br>count=%{y}<extra></extra>\", \"legendgroup\": \"0\", \"marker\": {\"color\": \"#636efa\"}, \"name\": \"0\", \"offsetgroup\": \"0\", \"orientation\": \"v\", \"showlegend\": true, \"type\": \"histogram\", \"x\": [9, 9, 11, 7, 8, 10, 8, 12, 14, 10, 10, 15, 10, 7, 13, 13, 11, 17, 8, 9, 11, 12, 12, 14, 7, 10, 10, 16, 10, 5, 12, 8, 14, 8, 7, 15, 7, 11, 7, 15, 5, 5, 13, 5, 15, 3, 12, 10, 11, 15, 11, 8, 9, 12, 9, 6, 9, 9, 6, 6, 7, 9, 8, 19, 10, 12, 6, 8, 6, 9, 11, 8, 10, 8, 8, 13, 6, 12, 9, 9, 13, 8, 12, 7, 11, 8, 8, 15, 13, 10, 6, 21, 6, 16, 10, 3, 2, 11, 14, 14, 16, 8, 7, 8, 10, 14, 10, 4, 14, 6, 12, 10, 16, 14, 9, 7, 11, 11, 11, 11, 7, 10, 4, 10, 13, 10, 8, 11, 5, 13, 7, 8, 14, 5, 14, 6, 5, 8, 7, 9, 11, 16, 14, 13, 16, 6, 9, 7, 12, 10, 8, 6, 16, 9, 8, 13, 6, 8, 15, 3, 11, 11, 7, 7, 5, 9, 8, 11, 7, 11, 13, 12, 7, 10, 10, 12, 15, 15, 7, 7, 6, 6, 8, 14, 7, 6, 9, 6, 15, 10, 6, 10, 15, 9, 12, 14, 8, 11, 8, 9, 9, 17, 9, 12, 9, 13, 9, 18, 10, 8, 8, 8, 12, 15, 8, 8, 14, 8, 11, 5, 9, 10, 6, 13, 9, 11, 6, 13, 5, 8, 10, 14, 12, 13, 15, 11, 15, 13, 14, 6, 5, 12, 9, 11, 4, 7, 9, 11, 4, 11, 9, 11, 9, 12, 15, 10, 14, 11, 7, 14, 5, 11, 14, 7, 9, 9, 19, 10, 6, 16, 9, 9, 6, 6, 10, 11, 12, 6, 10, 13, 15, 3, 12, 10, 5, 9, 8, 10, 5, 11, 12, 13, 11, 13, 5, 10, 10, 10, 18, 11, 11, 11, 13, 8, 12, 7, 12, 18, 12, 8, 11, 7, 11, 11, 13, 13, 8, 11, 13, 10, 9, 9, 10, 18, 11, 9, 11, 9, 11, 11, 11, 10, 8, 11, 15, 21, 10, 9, 3, 11, 7, 15, 13, 9, 10, 9, 14, 12, 8, 11, 14, 8, 8, 9, 10, 8, 12, 12, 9, 10, 4, 13, 10, 17, 7, 11, 6, 16, 8, 6, 8, 10, 16, 10, 12, 13, 8, 8, 8, 10, 7, 5, 13, 6, 9, 6, 7, 10, 10, 7, 7, 10, 11, 10, 7, 3, 11, 4, 4, 8, 13, 13, 8, 8, 8, 16, 7, 13, 10, 13, 10, 13, 11, 8, 12, 14, 8, 11, 7, 5, 9, 11, 11, 7, 12, 11, 10, 7, 6, 6, 7, 6, 13, 14, 9, 13, 9, 9, 7, 11, 14, 10, 12, 6, 13, 6, 12, 4, 8, 9, 7, 13, 9, 6, 12, 8, 9, 15, 11, 17, 6, 13, 7, 12, 10, 14, 8, 12, 9, 8, 7, 7, 16, 7, 16, 10, 16, 7, 10, 9, 11, 14, 12, 5, 8, 8, 13, 8, 9, 13, 6, 10, 9, 9, 6, 12, 11, 7, 11, 14, 12, 18, 10, 13, 12, 8, 12, 16, 14, 10, 11, 12, 10, 12, 7, 8, 9, 15, 16, 14, 7, 8, 14, 13, 13, 12, 11, 12, 9, 14, 6, 11, 7, 7, 7, 11, 8, 13, 8, 7, 10, 9, 10, 6, 8, 10, 9, 8, 9, 14, 9, 11, 9, 8, 8, 6, 6, 13, 8, 14, 14, 10, 11, 8, 9, 11, 8, 8, 9, 8, 8, 11, 11, 14, 11, 14, 13, 12, 7, 7, 6, 7, 10, 11, 9, 14, 11, 15, 14, 15, 13, 7, 15, 13, 14, 11, 12, 6, 6, 14, 12, 13, 8, 10, 13, 10, 12, 11, 12, 7, 8, 10, 7, 18, 7, 10, 8, 6, 12, 6, 3, 13, 10, 11, 10, 12, 8, 6, 9, 10, 4, 12, 10, 12, 10, 11, 8, 7, 7, 15, 9, 11, 5, 15, 10, 7, 11, 6, 11, 12, 8, 10, 12, 11, 14, 8, 13, 7, 9, 7, 3, 13, 11, 9, 9, 5, 10, 12, 6, 6, 11, 7, 21, 9, 12, 10, 9, 13, 13, 8, 9, 11, 5, 6, 5, 9, 9, 8, 6, 11, 11, 8, 7, 9, 16, 9, 9, 7, 10, 4, 10, 13, 11, 12, 12, 11, 10, 11, 13, 14, 14, 3, 5, 10, 8, 8, 4, 5, 9, 12, 5, 12, 11, 9, 10, 10, 11, 7, 10, 12, 5, 6, 8, 18, 8, 10, 13, 8, 11, 9, 13, 10, 10, 9, 12, 14, 14, 12, 9, 11, 8, 12, 10, 14, 11, 7, 15, 14, 8, 14, 9, 12, 11, 12, 10, 11, 12, 9, 11, 13, 6, 14, 6, 9, 17, 13, 8, 9, 10, 8, 14, 10, 16, 16, 7, 11, 8, 11, 7, 11, 9, 9, 9, 10, 6, 13, 14, 7, 13, 7, 9, 12, 8, 5, 8, 8, 9, 12, 8, 11, 14, 11, 7, 10, 14, 17, 11, 11, 14, 14, 12, 10, 11, 8, 13, 13, 9, 10, 9, 9, 8, 12, 5, 6, 6, 13, 17, 12, 8, 13, 11, 8, 7, 9, 13, 11, 9, 9, 13, 6, 10, 5, 8, 8, 9, 6, 4, 10, 6, 4, 12, 10, 7, 17, 8, 12, 8, 17, 14, 11, 16, 4, 6, 10, 14, 10, 16, 5, 9, 11, 9, 4, 7, 10, 9, 16, 20, 15, 12, 11, 7, 7, 14, 9, 7, 12, 10, 11, 9, 9, 6, 11, 8, 8, 12, 18, 10, 7, 6, 11, 11, 10, 9, 7, 13, 15, 8, 12, 6, 12, 11, 16, 5, 14, 10, 9, 11, 9, 8, 10, 5, 11, 11, 14, 11, 11, 11, 16, 7, 9, 9, 6, 11, 7, 7, 17, 13, 10, 11, 10, 5, 8, 6, 7, 11, 11, 12, 19, 6, 6, 7, 16, 13, 14, 11, 8, 5, 15, 8, 8, 10, 9, 9, 13, 11, 17, 17, 10, 9, 11, 9, 6, 6, 10, 11, 7, 6, 13, 9, 12, 15, 6, 6, 9, 8, 9, 12, 6, 8, 9], \"xaxis\": \"x\", \"yaxis\": \"y\"}],                        {\"barmode\": \"relative\", \"legend\": {\"title\": {\"text\": \"variable\"}, \"tracegroupgap\": 0}, \"margin\": {\"t\": 60}, \"template\": {\"data\": {\"bar\": [{\"error_x\": {\"color\": \"#2a3f5f\"}, \"error_y\": {\"color\": \"#2a3f5f\"}, \"marker\": {\"line\": {\"color\": \"#E5ECF6\", \"width\": 0.5}}, \"type\": \"bar\"}], \"barpolar\": [{\"marker\": {\"line\": {\"color\": \"#E5ECF6\", \"width\": 0.5}}, \"type\": \"barpolar\"}], \"carpet\": [{\"aaxis\": {\"endlinecolor\": \"#2a3f5f\", \"gridcolor\": \"white\", \"linecolor\": \"white\", \"minorgridcolor\": \"white\", \"startlinecolor\": \"#2a3f5f\"}, \"baxis\": {\"endlinecolor\": \"#2a3f5f\", \"gridcolor\": \"white\", \"linecolor\": \"white\", \"minorgridcolor\": \"white\", \"startlinecolor\": \"#2a3f5f\"}, \"type\": \"carpet\"}], \"choropleth\": [{\"colorbar\": {\"outlinewidth\": 0, \"ticks\": \"\"}, \"type\": \"choropleth\"}], \"contour\": [{\"colorbar\": {\"outlinewidth\": 0, \"ticks\": \"\"}, \"colorscale\": [[0.0, \"#0d0887\"], [0.1111111111111111, \"#46039f\"], [0.2222222222222222, \"#7201a8\"], [0.3333333333333333, \"#9c179e\"], [0.4444444444444444, \"#bd3786\"], [0.5555555555555556, \"#d8576b\"], [0.6666666666666666, \"#ed7953\"], [0.7777777777777778, \"#fb9f3a\"], [0.8888888888888888, \"#fdca26\"], [1.0, \"#f0f921\"]], \"type\": \"contour\"}], \"contourcarpet\": [{\"colorbar\": {\"outlinewidth\": 0, \"ticks\": \"\"}, \"type\": \"contourcarpet\"}], \"heatmap\": [{\"colorbar\": {\"outlinewidth\": 0, \"ticks\": \"\"}, \"colorscale\": [[0.0, \"#0d0887\"], [0.1111111111111111, \"#46039f\"], [0.2222222222222222, \"#7201a8\"], [0.3333333333333333, \"#9c179e\"], [0.4444444444444444, \"#bd3786\"], [0.5555555555555556, \"#d8576b\"], [0.6666666666666666, \"#ed7953\"], [0.7777777777777778, \"#fb9f3a\"], [0.8888888888888888, \"#fdca26\"], [1.0, \"#f0f921\"]], \"type\": \"heatmap\"}], \"heatmapgl\": [{\"colorbar\": {\"outlinewidth\": 0, \"ticks\": \"\"}, \"colorscale\": [[0.0, \"#0d0887\"], [0.1111111111111111, \"#46039f\"], [0.2222222222222222, \"#7201a8\"], [0.3333333333333333, \"#9c179e\"], [0.4444444444444444, \"#bd3786\"], [0.5555555555555556, \"#d8576b\"], [0.6666666666666666, \"#ed7953\"], [0.7777777777777778, \"#fb9f3a\"], [0.8888888888888888, \"#fdca26\"], [1.0, \"#f0f921\"]], \"type\": \"heatmapgl\"}], \"histogram\": [{\"marker\": {\"colorbar\": {\"outlinewidth\": 0, \"ticks\": \"\"}}, \"type\": \"histogram\"}], \"histogram2d\": [{\"colorbar\": {\"outlinewidth\": 0, \"ticks\": \"\"}, \"colorscale\": [[0.0, \"#0d0887\"], [0.1111111111111111, \"#46039f\"], [0.2222222222222222, \"#7201a8\"], [0.3333333333333333, \"#9c179e\"], [0.4444444444444444, \"#bd3786\"], [0.5555555555555556, \"#d8576b\"], [0.6666666666666666, \"#ed7953\"], [0.7777777777777778, \"#fb9f3a\"], [0.8888888888888888, \"#fdca26\"], [1.0, \"#f0f921\"]], \"type\": \"histogram2d\"}], \"histogram2dcontour\": [{\"colorbar\": {\"outlinewidth\": 0, \"ticks\": \"\"}, \"colorscale\": [[0.0, \"#0d0887\"], [0.1111111111111111, \"#46039f\"], [0.2222222222222222, \"#7201a8\"], [0.3333333333333333, \"#9c179e\"], [0.4444444444444444, \"#bd3786\"], [0.5555555555555556, \"#d8576b\"], [0.6666666666666666, \"#ed7953\"], [0.7777777777777778, \"#fb9f3a\"], [0.8888888888888888, \"#fdca26\"], [1.0, \"#f0f921\"]], \"type\": \"histogram2dcontour\"}], \"mesh3d\": [{\"colorbar\": {\"outlinewidth\": 0, \"ticks\": \"\"}, \"type\": \"mesh3d\"}], \"parcoords\": [{\"line\": {\"colorbar\": {\"outlinewidth\": 0, \"ticks\": \"\"}}, \"type\": \"parcoords\"}], \"pie\": [{\"automargin\": true, \"type\": \"pie\"}], \"scatter\": [{\"marker\": {\"colorbar\": {\"outlinewidth\": 0, \"ticks\": \"\"}}, \"type\": \"scatter\"}], \"scatter3d\": [{\"line\": {\"colorbar\": {\"outlinewidth\": 0, \"ticks\": \"\"}}, \"marker\": {\"colorbar\": {\"outlinewidth\": 0, \"ticks\": \"\"}}, \"type\": \"scatter3d\"}], \"scattercarpet\": [{\"marker\": {\"colorbar\": {\"outlinewidth\": 0, \"ticks\": \"\"}}, \"type\": \"scattercarpet\"}], \"scattergeo\": [{\"marker\": {\"colorbar\": {\"outlinewidth\": 0, \"ticks\": \"\"}}, \"type\": \"scattergeo\"}], \"scattergl\": [{\"marker\": {\"colorbar\": {\"outlinewidth\": 0, \"ticks\": \"\"}}, \"type\": \"scattergl\"}], \"scattermapbox\": [{\"marker\": {\"colorbar\": {\"outlinewidth\": 0, \"ticks\": \"\"}}, \"type\": \"scattermapbox\"}], \"scatterpolar\": [{\"marker\": {\"colorbar\": {\"outlinewidth\": 0, \"ticks\": \"\"}}, \"type\": \"scatterpolar\"}], \"scatterpolargl\": [{\"marker\": {\"colorbar\": {\"outlinewidth\": 0, \"ticks\": \"\"}}, \"type\": \"scatterpolargl\"}], \"scatterternary\": [{\"marker\": {\"colorbar\": {\"outlinewidth\": 0, \"ticks\": \"\"}}, \"type\": \"scatterternary\"}], \"surface\": [{\"colorbar\": {\"outlinewidth\": 0, \"ticks\": \"\"}, \"colorscale\": [[0.0, \"#0d0887\"], [0.1111111111111111, \"#46039f\"], [0.2222222222222222, \"#7201a8\"], [0.3333333333333333, \"#9c179e\"], [0.4444444444444444, \"#bd3786\"], [0.5555555555555556, \"#d8576b\"], [0.6666666666666666, \"#ed7953\"], [0.7777777777777778, \"#fb9f3a\"], [0.8888888888888888, \"#fdca26\"], [1.0, \"#f0f921\"]], \"type\": \"surface\"}], \"table\": [{\"cells\": {\"fill\": {\"color\": \"#EBF0F8\"}, \"line\": {\"color\": \"white\"}}, \"header\": {\"fill\": {\"color\": \"#C8D4E3\"}, \"line\": {\"color\": \"white\"}}, \"type\": \"table\"}]}, \"layout\": {\"annotationdefaults\": {\"arrowcolor\": \"#2a3f5f\", \"arrowhead\": 0, \"arrowwidth\": 1}, \"autotypenumbers\": \"strict\", \"coloraxis\": {\"colorbar\": {\"outlinewidth\": 0, \"ticks\": \"\"}}, \"colorscale\": {\"diverging\": [[0, \"#8e0152\"], [0.1, \"#c51b7d\"], [0.2, \"#de77ae\"], [0.3, \"#f1b6da\"], [0.4, \"#fde0ef\"], [0.5, \"#f7f7f7\"], [0.6, \"#e6f5d0\"], [0.7, \"#b8e186\"], [0.8, \"#7fbc41\"], [0.9, \"#4d9221\"], [1, \"#276419\"]], \"sequential\": [[0.0, \"#0d0887\"], [0.1111111111111111, \"#46039f\"], [0.2222222222222222, \"#7201a8\"], [0.3333333333333333, \"#9c179e\"], [0.4444444444444444, \"#bd3786\"], [0.5555555555555556, \"#d8576b\"], [0.6666666666666666, \"#ed7953\"], [0.7777777777777778, \"#fb9f3a\"], [0.8888888888888888, \"#fdca26\"], [1.0, \"#f0f921\"]], \"sequentialminus\": [[0.0, \"#0d0887\"], [0.1111111111111111, \"#46039f\"], [0.2222222222222222, \"#7201a8\"], [0.3333333333333333, \"#9c179e\"], [0.4444444444444444, \"#bd3786\"], [0.5555555555555556, \"#d8576b\"], [0.6666666666666666, \"#ed7953\"], [0.7777777777777778, \"#fb9f3a\"], [0.8888888888888888, \"#fdca26\"], [1.0, \"#f0f921\"]]}, \"colorway\": [\"#636efa\", \"#EF553B\", \"#00cc96\", \"#ab63fa\", \"#FFA15A\", \"#19d3f3\", \"#FF6692\", \"#B6E880\", \"#FF97FF\", \"#FECB52\"], \"font\": {\"color\": \"#2a3f5f\"}, \"geo\": {\"bgcolor\": \"white\", \"lakecolor\": \"white\", \"landcolor\": \"#E5ECF6\", \"showlakes\": true, \"showland\": true, \"subunitcolor\": \"white\"}, \"hoverlabel\": {\"align\": \"left\"}, \"hovermode\": \"closest\", \"mapbox\": {\"style\": \"light\"}, \"paper_bgcolor\": \"white\", \"plot_bgcolor\": \"#E5ECF6\", \"polar\": {\"angularaxis\": {\"gridcolor\": \"white\", \"linecolor\": \"white\", \"ticks\": \"\"}, \"bgcolor\": \"#E5ECF6\", \"radialaxis\": {\"gridcolor\": \"white\", \"linecolor\": \"white\", \"ticks\": \"\"}}, \"scene\": {\"xaxis\": {\"backgroundcolor\": \"#E5ECF6\", \"gridcolor\": \"white\", \"gridwidth\": 2, \"linecolor\": \"white\", \"showbackground\": true, \"ticks\": \"\", \"zerolinecolor\": \"white\"}, \"yaxis\": {\"backgroundcolor\": \"#E5ECF6\", \"gridcolor\": \"white\", \"gridwidth\": 2, \"linecolor\": \"white\", \"showbackground\": true, \"ticks\": \"\", \"zerolinecolor\": \"white\"}, \"zaxis\": {\"backgroundcolor\": \"#E5ECF6\", \"gridcolor\": \"white\", \"gridwidth\": 2, \"linecolor\": \"white\", \"showbackground\": true, \"ticks\": \"\", \"zerolinecolor\": \"white\"}}, \"shapedefaults\": {\"line\": {\"color\": \"#2a3f5f\"}}, \"ternary\": {\"aaxis\": {\"gridcolor\": \"white\", \"linecolor\": \"white\", \"ticks\": \"\"}, \"baxis\": {\"gridcolor\": \"white\", \"linecolor\": \"white\", \"ticks\": \"\"}, \"bgcolor\": \"#E5ECF6\", \"caxis\": {\"gridcolor\": \"white\", \"linecolor\": \"white\", \"ticks\": \"\"}}, \"title\": {\"x\": 0.05}, \"xaxis\": {\"automargin\": true, \"gridcolor\": \"white\", \"linecolor\": \"white\", \"ticks\": \"\", \"title\": {\"standoff\": 15}, \"zerolinecolor\": \"white\", \"zerolinewidth\": 2}, \"yaxis\": {\"automargin\": true, \"gridcolor\": \"white\", \"linecolor\": \"white\", \"ticks\": \"\", \"title\": {\"standoff\": 15}, \"zerolinecolor\": \"white\", \"zerolinewidth\": 2}}}, \"xaxis\": {\"anchor\": \"y\", \"domain\": [0.0, 1.0], \"title\": {\"text\": \"value\"}}, \"yaxis\": {\"anchor\": \"x\", \"domain\": [0.0, 1.0], \"title\": {\"text\": \"count\"}}},                        {\"responsive\": true}                    ).then(function(){\n",
       "                            \n",
       "var gd = document.getElementById('8e574878-b580-45af-925f-1269c21cfa87');\n",
       "var x = new MutationObserver(function (mutations, observer) {{\n",
       "        var display = window.getComputedStyle(gd).display;\n",
       "        if (!display || display === 'none') {{\n",
       "            console.log([gd, 'removed!']);\n",
       "            Plotly.purge(gd);\n",
       "            observer.disconnect();\n",
       "        }}\n",
       "}});\n",
       "\n",
       "// Listen for the removal of the full notebook cells\n",
       "var notebookContainer = gd.closest('#notebook-container');\n",
       "if (notebookContainer) {{\n",
       "    x.observe(notebookContainer, {childList: true});\n",
       "}}\n",
       "\n",
       "// Listen for the clearing of the current output cell\n",
       "var outputEl = gd.closest('.output');\n",
       "if (outputEl) {{\n",
       "    x.observe(outputEl, {childList: true});\n",
       "}}\n",
       "\n",
       "                        })                };                });            </script>        </div>"
      ]
     },
     "metadata": {},
     "output_type": "display_data"
    }
   ],
   "source": [
    "flPoisson"
   ]
  },
  {
   "cell_type": "code",
   "execution_count": 36,
   "metadata": {},
   "outputs": [
    {
     "data": {
      "application/vnd.plotly.v1+json": {
       "config": {
        "plotlyServerURL": "https://plot.ly"
       },
       "data": [
        {
         "alignmentgroup": "True",
         "bingroup": "x",
         "hovertemplate": "variable=0<br>value=%{x}<br>count=%{y}<extra></extra>",
         "legendgroup": "0",
         "marker": {
          "color": "#636efa"
         },
         "name": "0",
         "offsetgroup": "0",
         "orientation": "v",
         "showlegend": true,
         "type": "histogram",
         "x": [
          11,
          11,
          9,
          5,
          11,
          6,
          12,
          4,
          13,
          12,
          7,
          11,
          12,
          10,
          10,
          10,
          7,
          8,
          14,
          8,
          16,
          10,
          12,
          10,
          14,
          9,
          6,
          8,
          8,
          7,
          4,
          16,
          7,
          10,
          13,
          10,
          9,
          12,
          13,
          10,
          10,
          16,
          8,
          11,
          8,
          12,
          10,
          9,
          7,
          6,
          10,
          11,
          4,
          6,
          9,
          8,
          7,
          10,
          7,
          8,
          9,
          8,
          6,
          10,
          11,
          13,
          8,
          12,
          9,
          7,
          11,
          10,
          18,
          8,
          11,
          10,
          9,
          9,
          11,
          8,
          11,
          9,
          10,
          8,
          6,
          10,
          12,
          8,
          6,
          10,
          10,
          8,
          13,
          15,
          13,
          9,
          8,
          11,
          8,
          12,
          12,
          11,
          5,
          5,
          9,
          14,
          11,
          13,
          12,
          10,
          7,
          6,
          7,
          16,
          11,
          16,
          9,
          6,
          12,
          7,
          7,
          10,
          9,
          13,
          13,
          10,
          10,
          10,
          7,
          12,
          8,
          5,
          9,
          12,
          13,
          11,
          6,
          11,
          6,
          11,
          8,
          10,
          13,
          11,
          5,
          7,
          5,
          11,
          16,
          10,
          8,
          11,
          7,
          9,
          11,
          9,
          6,
          10,
          8,
          8,
          7,
          10,
          15,
          13,
          22,
          7,
          8,
          10,
          12,
          5,
          10,
          9,
          9,
          10,
          9,
          11,
          14,
          8,
          8,
          10,
          7,
          4,
          12,
          15,
          6,
          6,
          11,
          10,
          8,
          10,
          14,
          6,
          7,
          7,
          10,
          13,
          11,
          8,
          6,
          11,
          6,
          8,
          12,
          9,
          8,
          11,
          10,
          7,
          10,
          14,
          15,
          7,
          8,
          10,
          8,
          10,
          9,
          9,
          9,
          10,
          7,
          12,
          12,
          13,
          7,
          9,
          8,
          8,
          15,
          14,
          15,
          12,
          7,
          13,
          5,
          6,
          9,
          11,
          6,
          11,
          10,
          8,
          8,
          16,
          13,
          8,
          14,
          3,
          12,
          5,
          14,
          6,
          12,
          11,
          11,
          8,
          13,
          7,
          7,
          15,
          16,
          11,
          7,
          8,
          8,
          8,
          14,
          14,
          10,
          17,
          18,
          11,
          9,
          9,
          15,
          13,
          12,
          2,
          14,
          11,
          6,
          13,
          5,
          10,
          11,
          8,
          11,
          6,
          9,
          10,
          7,
          7,
          16,
          12,
          11,
          12,
          7,
          13,
          11,
          8,
          6,
          9,
          12,
          10,
          13,
          17,
          8,
          8,
          6,
          12,
          11,
          8,
          4,
          11,
          10,
          14,
          11,
          10,
          9,
          9,
          10,
          11,
          7,
          12,
          4,
          13,
          7,
          8,
          10,
          7,
          7,
          3,
          12,
          8,
          14,
          7,
          11,
          13,
          10,
          14,
          10,
          7,
          6,
          6,
          10,
          6,
          12,
          11,
          15,
          10,
          6,
          10,
          7,
          11,
          14,
          4,
          15,
          8,
          8,
          9,
          11,
          9,
          10,
          10,
          7,
          9,
          4,
          11,
          15,
          10,
          10,
          7,
          15,
          7,
          9,
          9,
          10,
          9,
          7,
          13,
          10,
          6,
          6,
          9,
          8,
          17,
          9,
          8,
          11,
          6,
          10,
          14,
          11,
          10,
          6,
          7,
          7,
          12,
          7,
          8,
          8,
          11,
          7,
          8,
          13,
          11,
          10,
          6,
          14,
          9,
          11,
          9,
          10,
          11,
          7,
          7,
          19,
          9,
          16,
          6,
          14,
          8,
          17,
          11,
          10,
          10,
          9,
          9,
          8,
          10,
          4,
          7,
          9,
          8,
          9,
          7,
          12,
          15,
          15,
          11,
          7,
          11,
          7,
          9,
          11,
          12,
          10,
          9,
          4,
          13,
          6,
          13,
          11,
          11,
          2,
          8,
          13,
          11,
          9,
          4,
          11,
          13,
          6,
          9,
          10,
          9,
          8,
          16,
          12,
          7,
          8,
          7,
          5,
          7,
          7,
          17,
          7,
          7,
          8,
          9,
          13,
          9,
          14,
          13,
          13,
          11,
          10,
          14,
          10,
          14,
          10,
          7,
          11,
          12,
          12,
          7,
          9,
          8,
          12,
          11,
          8,
          9,
          10,
          10,
          10,
          7,
          3,
          10,
          10,
          13,
          14,
          12,
          9,
          11,
          19,
          8,
          12,
          12,
          4,
          12,
          11,
          10,
          9,
          6,
          13,
          12,
          17,
          10,
          8,
          11,
          10,
          8,
          8,
          9,
          11,
          13,
          10,
          13,
          12,
          7,
          17,
          7,
          8,
          5,
          10,
          7,
          9,
          11,
          5,
          7,
          7,
          8,
          10,
          5,
          4,
          11,
          11,
          12,
          12,
          5,
          7,
          9,
          14,
          8,
          9,
          11,
          8,
          8,
          18,
          14,
          11,
          13,
          9,
          11,
          13,
          17,
          15,
          9,
          14,
          7,
          14,
          12,
          9,
          9,
          11,
          12,
          13,
          8,
          13,
          8,
          9,
          17,
          13,
          6,
          21,
          9,
          9,
          11,
          10,
          11,
          6,
          9,
          8,
          12,
          16,
          9,
          11,
          10,
          10,
          7,
          10,
          4,
          11,
          17,
          14,
          14,
          9,
          7,
          9,
          8,
          9,
          14,
          7,
          13,
          9,
          15,
          10,
          12,
          10,
          12,
          11,
          12,
          16,
          13,
          8,
          13,
          14,
          13,
          6,
          13,
          9,
          8,
          6,
          12,
          9,
          12,
          16,
          13,
          8,
          7,
          11,
          12,
          12,
          8,
          9,
          9,
          11,
          14,
          10,
          11,
          10,
          3,
          9,
          15,
          8,
          13,
          7,
          6,
          17,
          12,
          8,
          9,
          13,
          11,
          12,
          10,
          5,
          7,
          6,
          12,
          11,
          11,
          16,
          6,
          11,
          10,
          9,
          9,
          10,
          12,
          13,
          14,
          14,
          11,
          9,
          15,
          13,
          11,
          11,
          11,
          7,
          10,
          7,
          14,
          11,
          7,
          9,
          12,
          12,
          13,
          16,
          7,
          8,
          14,
          10,
          12,
          6,
          9,
          12,
          10,
          9,
          10,
          15,
          10,
          7,
          9,
          9,
          9,
          11,
          8,
          5,
          5,
          11,
          11,
          18,
          12,
          12,
          11,
          10,
          11,
          10,
          13,
          11,
          8,
          10,
          14,
          10,
          7,
          13,
          9,
          13,
          6,
          11,
          7,
          7,
          10,
          5,
          16,
          14,
          7,
          14,
          13,
          7,
          11,
          12,
          8,
          11,
          18,
          10,
          13,
          11,
          9,
          9,
          17,
          7,
          10,
          11,
          15,
          14,
          18,
          14,
          15,
          11,
          9,
          9,
          8,
          8,
          6,
          11,
          13,
          13,
          14,
          10,
          8,
          10,
          10,
          4,
          4,
          12,
          9,
          8,
          11,
          13,
          6,
          8,
          11,
          8,
          7,
          8,
          9,
          10,
          10,
          8,
          9,
          9,
          12,
          12,
          14,
          6,
          10,
          10,
          5,
          11,
          11,
          7,
          11,
          13,
          7,
          12,
          11,
          10,
          7,
          12,
          5,
          15,
          12,
          8,
          12,
          6,
          7,
          9,
          8,
          7,
          9,
          8,
          9,
          13,
          7,
          9,
          12,
          7,
          9,
          12,
          9,
          13,
          14,
          9,
          11,
          8,
          11,
          11,
          14,
          12,
          10,
          13,
          11,
          10,
          13,
          6,
          8,
          6,
          12,
          9,
          10,
          11,
          10,
          10,
          12,
          6,
          11,
          12,
          12,
          7,
          9,
          5,
          9,
          7,
          15,
          10,
          4,
          12,
          9,
          5,
          10,
          15,
          14,
          9,
          8,
          11,
          12,
          16,
          10,
          13,
          13,
          16,
          11,
          6,
          13,
          14,
          12,
          9,
          10,
          9,
          8,
          12,
          8,
          12,
          14,
          11,
          17,
          11,
          11,
          8,
          12,
          10,
          6,
          7,
          7,
          13,
          5,
          10,
          10,
          11,
          8,
          13,
          12,
          8,
          10,
          9,
          12,
          7,
          8,
          9,
          10,
          12,
          12,
          5,
          17,
          8,
          11,
          8,
          10,
          11,
          11,
          12,
          11,
          13,
          9,
          8,
          12,
          9,
          9,
          12,
          6,
          6,
          9,
          18,
          15,
          7,
          12,
          9,
          13,
          11,
          14,
          11,
          11,
          10,
          15,
          11,
          12,
          7,
          10,
          6,
          2,
          9,
          12,
          5,
          10,
          6,
          15,
          7,
          7,
          7,
          7,
          8,
          10,
          13,
          7,
          15,
          12
         ],
         "xaxis": "x",
         "yaxis": "y"
        }
       ],
       "layout": {
        "barmode": "relative",
        "legend": {
         "title": {
          "text": "variable"
         },
         "tracegroupgap": 0
        },
        "margin": {
         "t": 60
        },
        "template": {
         "data": {
          "bar": [
           {
            "error_x": {
             "color": "#2a3f5f"
            },
            "error_y": {
             "color": "#2a3f5f"
            },
            "marker": {
             "line": {
              "color": "#E5ECF6",
              "width": 0.5
             }
            },
            "type": "bar"
           }
          ],
          "barpolar": [
           {
            "marker": {
             "line": {
              "color": "#E5ECF6",
              "width": 0.5
             }
            },
            "type": "barpolar"
           }
          ],
          "carpet": [
           {
            "aaxis": {
             "endlinecolor": "#2a3f5f",
             "gridcolor": "white",
             "linecolor": "white",
             "minorgridcolor": "white",
             "startlinecolor": "#2a3f5f"
            },
            "baxis": {
             "endlinecolor": "#2a3f5f",
             "gridcolor": "white",
             "linecolor": "white",
             "minorgridcolor": "white",
             "startlinecolor": "#2a3f5f"
            },
            "type": "carpet"
           }
          ],
          "choropleth": [
           {
            "colorbar": {
             "outlinewidth": 0,
             "ticks": ""
            },
            "type": "choropleth"
           }
          ],
          "contour": [
           {
            "colorbar": {
             "outlinewidth": 0,
             "ticks": ""
            },
            "colorscale": [
             [
              0,
              "#0d0887"
             ],
             [
              0.1111111111111111,
              "#46039f"
             ],
             [
              0.2222222222222222,
              "#7201a8"
             ],
             [
              0.3333333333333333,
              "#9c179e"
             ],
             [
              0.4444444444444444,
              "#bd3786"
             ],
             [
              0.5555555555555556,
              "#d8576b"
             ],
             [
              0.6666666666666666,
              "#ed7953"
             ],
             [
              0.7777777777777778,
              "#fb9f3a"
             ],
             [
              0.8888888888888888,
              "#fdca26"
             ],
             [
              1,
              "#f0f921"
             ]
            ],
            "type": "contour"
           }
          ],
          "contourcarpet": [
           {
            "colorbar": {
             "outlinewidth": 0,
             "ticks": ""
            },
            "type": "contourcarpet"
           }
          ],
          "heatmap": [
           {
            "colorbar": {
             "outlinewidth": 0,
             "ticks": ""
            },
            "colorscale": [
             [
              0,
              "#0d0887"
             ],
             [
              0.1111111111111111,
              "#46039f"
             ],
             [
              0.2222222222222222,
              "#7201a8"
             ],
             [
              0.3333333333333333,
              "#9c179e"
             ],
             [
              0.4444444444444444,
              "#bd3786"
             ],
             [
              0.5555555555555556,
              "#d8576b"
             ],
             [
              0.6666666666666666,
              "#ed7953"
             ],
             [
              0.7777777777777778,
              "#fb9f3a"
             ],
             [
              0.8888888888888888,
              "#fdca26"
             ],
             [
              1,
              "#f0f921"
             ]
            ],
            "type": "heatmap"
           }
          ],
          "heatmapgl": [
           {
            "colorbar": {
             "outlinewidth": 0,
             "ticks": ""
            },
            "colorscale": [
             [
              0,
              "#0d0887"
             ],
             [
              0.1111111111111111,
              "#46039f"
             ],
             [
              0.2222222222222222,
              "#7201a8"
             ],
             [
              0.3333333333333333,
              "#9c179e"
             ],
             [
              0.4444444444444444,
              "#bd3786"
             ],
             [
              0.5555555555555556,
              "#d8576b"
             ],
             [
              0.6666666666666666,
              "#ed7953"
             ],
             [
              0.7777777777777778,
              "#fb9f3a"
             ],
             [
              0.8888888888888888,
              "#fdca26"
             ],
             [
              1,
              "#f0f921"
             ]
            ],
            "type": "heatmapgl"
           }
          ],
          "histogram": [
           {
            "marker": {
             "colorbar": {
              "outlinewidth": 0,
              "ticks": ""
             }
            },
            "type": "histogram"
           }
          ],
          "histogram2d": [
           {
            "colorbar": {
             "outlinewidth": 0,
             "ticks": ""
            },
            "colorscale": [
             [
              0,
              "#0d0887"
             ],
             [
              0.1111111111111111,
              "#46039f"
             ],
             [
              0.2222222222222222,
              "#7201a8"
             ],
             [
              0.3333333333333333,
              "#9c179e"
             ],
             [
              0.4444444444444444,
              "#bd3786"
             ],
             [
              0.5555555555555556,
              "#d8576b"
             ],
             [
              0.6666666666666666,
              "#ed7953"
             ],
             [
              0.7777777777777778,
              "#fb9f3a"
             ],
             [
              0.8888888888888888,
              "#fdca26"
             ],
             [
              1,
              "#f0f921"
             ]
            ],
            "type": "histogram2d"
           }
          ],
          "histogram2dcontour": [
           {
            "colorbar": {
             "outlinewidth": 0,
             "ticks": ""
            },
            "colorscale": [
             [
              0,
              "#0d0887"
             ],
             [
              0.1111111111111111,
              "#46039f"
             ],
             [
              0.2222222222222222,
              "#7201a8"
             ],
             [
              0.3333333333333333,
              "#9c179e"
             ],
             [
              0.4444444444444444,
              "#bd3786"
             ],
             [
              0.5555555555555556,
              "#d8576b"
             ],
             [
              0.6666666666666666,
              "#ed7953"
             ],
             [
              0.7777777777777778,
              "#fb9f3a"
             ],
             [
              0.8888888888888888,
              "#fdca26"
             ],
             [
              1,
              "#f0f921"
             ]
            ],
            "type": "histogram2dcontour"
           }
          ],
          "mesh3d": [
           {
            "colorbar": {
             "outlinewidth": 0,
             "ticks": ""
            },
            "type": "mesh3d"
           }
          ],
          "parcoords": [
           {
            "line": {
             "colorbar": {
              "outlinewidth": 0,
              "ticks": ""
             }
            },
            "type": "parcoords"
           }
          ],
          "pie": [
           {
            "automargin": true,
            "type": "pie"
           }
          ],
          "scatter": [
           {
            "marker": {
             "colorbar": {
              "outlinewidth": 0,
              "ticks": ""
             }
            },
            "type": "scatter"
           }
          ],
          "scatter3d": [
           {
            "line": {
             "colorbar": {
              "outlinewidth": 0,
              "ticks": ""
             }
            },
            "marker": {
             "colorbar": {
              "outlinewidth": 0,
              "ticks": ""
             }
            },
            "type": "scatter3d"
           }
          ],
          "scattercarpet": [
           {
            "marker": {
             "colorbar": {
              "outlinewidth": 0,
              "ticks": ""
             }
            },
            "type": "scattercarpet"
           }
          ],
          "scattergeo": [
           {
            "marker": {
             "colorbar": {
              "outlinewidth": 0,
              "ticks": ""
             }
            },
            "type": "scattergeo"
           }
          ],
          "scattergl": [
           {
            "marker": {
             "colorbar": {
              "outlinewidth": 0,
              "ticks": ""
             }
            },
            "type": "scattergl"
           }
          ],
          "scattermapbox": [
           {
            "marker": {
             "colorbar": {
              "outlinewidth": 0,
              "ticks": ""
             }
            },
            "type": "scattermapbox"
           }
          ],
          "scatterpolar": [
           {
            "marker": {
             "colorbar": {
              "outlinewidth": 0,
              "ticks": ""
             }
            },
            "type": "scatterpolar"
           }
          ],
          "scatterpolargl": [
           {
            "marker": {
             "colorbar": {
              "outlinewidth": 0,
              "ticks": ""
             }
            },
            "type": "scatterpolargl"
           }
          ],
          "scatterternary": [
           {
            "marker": {
             "colorbar": {
              "outlinewidth": 0,
              "ticks": ""
             }
            },
            "type": "scatterternary"
           }
          ],
          "surface": [
           {
            "colorbar": {
             "outlinewidth": 0,
             "ticks": ""
            },
            "colorscale": [
             [
              0,
              "#0d0887"
             ],
             [
              0.1111111111111111,
              "#46039f"
             ],
             [
              0.2222222222222222,
              "#7201a8"
             ],
             [
              0.3333333333333333,
              "#9c179e"
             ],
             [
              0.4444444444444444,
              "#bd3786"
             ],
             [
              0.5555555555555556,
              "#d8576b"
             ],
             [
              0.6666666666666666,
              "#ed7953"
             ],
             [
              0.7777777777777778,
              "#fb9f3a"
             ],
             [
              0.8888888888888888,
              "#fdca26"
             ],
             [
              1,
              "#f0f921"
             ]
            ],
            "type": "surface"
           }
          ],
          "table": [
           {
            "cells": {
             "fill": {
              "color": "#EBF0F8"
             },
             "line": {
              "color": "white"
             }
            },
            "header": {
             "fill": {
              "color": "#C8D4E3"
             },
             "line": {
              "color": "white"
             }
            },
            "type": "table"
           }
          ]
         },
         "layout": {
          "annotationdefaults": {
           "arrowcolor": "#2a3f5f",
           "arrowhead": 0,
           "arrowwidth": 1
          },
          "autotypenumbers": "strict",
          "coloraxis": {
           "colorbar": {
            "outlinewidth": 0,
            "ticks": ""
           }
          },
          "colorscale": {
           "diverging": [
            [
             0,
             "#8e0152"
            ],
            [
             0.1,
             "#c51b7d"
            ],
            [
             0.2,
             "#de77ae"
            ],
            [
             0.3,
             "#f1b6da"
            ],
            [
             0.4,
             "#fde0ef"
            ],
            [
             0.5,
             "#f7f7f7"
            ],
            [
             0.6,
             "#e6f5d0"
            ],
            [
             0.7,
             "#b8e186"
            ],
            [
             0.8,
             "#7fbc41"
            ],
            [
             0.9,
             "#4d9221"
            ],
            [
             1,
             "#276419"
            ]
           ],
           "sequential": [
            [
             0,
             "#0d0887"
            ],
            [
             0.1111111111111111,
             "#46039f"
            ],
            [
             0.2222222222222222,
             "#7201a8"
            ],
            [
             0.3333333333333333,
             "#9c179e"
            ],
            [
             0.4444444444444444,
             "#bd3786"
            ],
            [
             0.5555555555555556,
             "#d8576b"
            ],
            [
             0.6666666666666666,
             "#ed7953"
            ],
            [
             0.7777777777777778,
             "#fb9f3a"
            ],
            [
             0.8888888888888888,
             "#fdca26"
            ],
            [
             1,
             "#f0f921"
            ]
           ],
           "sequentialminus": [
            [
             0,
             "#0d0887"
            ],
            [
             0.1111111111111111,
             "#46039f"
            ],
            [
             0.2222222222222222,
             "#7201a8"
            ],
            [
             0.3333333333333333,
             "#9c179e"
            ],
            [
             0.4444444444444444,
             "#bd3786"
            ],
            [
             0.5555555555555556,
             "#d8576b"
            ],
            [
             0.6666666666666666,
             "#ed7953"
            ],
            [
             0.7777777777777778,
             "#fb9f3a"
            ],
            [
             0.8888888888888888,
             "#fdca26"
            ],
            [
             1,
             "#f0f921"
            ]
           ]
          },
          "colorway": [
           "#636efa",
           "#EF553B",
           "#00cc96",
           "#ab63fa",
           "#FFA15A",
           "#19d3f3",
           "#FF6692",
           "#B6E880",
           "#FF97FF",
           "#FECB52"
          ],
          "font": {
           "color": "#2a3f5f"
          },
          "geo": {
           "bgcolor": "white",
           "lakecolor": "white",
           "landcolor": "#E5ECF6",
           "showlakes": true,
           "showland": true,
           "subunitcolor": "white"
          },
          "hoverlabel": {
           "align": "left"
          },
          "hovermode": "closest",
          "mapbox": {
           "style": "light"
          },
          "paper_bgcolor": "white",
          "plot_bgcolor": "#E5ECF6",
          "polar": {
           "angularaxis": {
            "gridcolor": "white",
            "linecolor": "white",
            "ticks": ""
           },
           "bgcolor": "#E5ECF6",
           "radialaxis": {
            "gridcolor": "white",
            "linecolor": "white",
            "ticks": ""
           }
          },
          "scene": {
           "xaxis": {
            "backgroundcolor": "#E5ECF6",
            "gridcolor": "white",
            "gridwidth": 2,
            "linecolor": "white",
            "showbackground": true,
            "ticks": "",
            "zerolinecolor": "white"
           },
           "yaxis": {
            "backgroundcolor": "#E5ECF6",
            "gridcolor": "white",
            "gridwidth": 2,
            "linecolor": "white",
            "showbackground": true,
            "ticks": "",
            "zerolinecolor": "white"
           },
           "zaxis": {
            "backgroundcolor": "#E5ECF6",
            "gridcolor": "white",
            "gridwidth": 2,
            "linecolor": "white",
            "showbackground": true,
            "ticks": "",
            "zerolinecolor": "white"
           }
          },
          "shapedefaults": {
           "line": {
            "color": "#2a3f5f"
           }
          },
          "ternary": {
           "aaxis": {
            "gridcolor": "white",
            "linecolor": "white",
            "ticks": ""
           },
           "baxis": {
            "gridcolor": "white",
            "linecolor": "white",
            "ticks": ""
           },
           "bgcolor": "#E5ECF6",
           "caxis": {
            "gridcolor": "white",
            "linecolor": "white",
            "ticks": ""
           }
          },
          "title": {
           "x": 0.05
          },
          "xaxis": {
           "automargin": true,
           "gridcolor": "white",
           "linecolor": "white",
           "ticks": "",
           "title": {
            "standoff": 15
           },
           "zerolinecolor": "white",
           "zerolinewidth": 2
          },
          "yaxis": {
           "automargin": true,
           "gridcolor": "white",
           "linecolor": "white",
           "ticks": "",
           "title": {
            "standoff": 15
           },
           "zerolinecolor": "white",
           "zerolinewidth": 2
          }
         }
        },
        "xaxis": {
         "anchor": "y",
         "domain": [
          0,
          1
         ],
         "title": {
          "text": "value"
         }
        },
        "yaxis": {
         "anchor": "x",
         "domain": [
          0,
          1
         ],
         "title": {
          "text": "count"
         }
        }
       }
      },
      "text/html": [
       "<div>                            <div id=\"b4544aea-b13e-463e-ba75-7957ac1f0a63\" class=\"plotly-graph-div\" style=\"height:525px; width:100%;\"></div>            <script type=\"text/javascript\">                require([\"plotly\"], function(Plotly) {                    window.PLOTLYENV=window.PLOTLYENV || {};                                    if (document.getElementById(\"b4544aea-b13e-463e-ba75-7957ac1f0a63\")) {                    Plotly.newPlot(                        \"b4544aea-b13e-463e-ba75-7957ac1f0a63\",                        [{\"alignmentgroup\": \"True\", \"bingroup\": \"x\", \"hovertemplate\": \"variable=0<br>value=%{x}<br>count=%{y}<extra></extra>\", \"legendgroup\": \"0\", \"marker\": {\"color\": \"#636efa\"}, \"name\": \"0\", \"offsetgroup\": \"0\", \"orientation\": \"v\", \"showlegend\": true, \"type\": \"histogram\", \"x\": [11, 11, 9, 5, 11, 6, 12, 4, 13, 12, 7, 11, 12, 10, 10, 10, 7, 8, 14, 8, 16, 10, 12, 10, 14, 9, 6, 8, 8, 7, 4, 16, 7, 10, 13, 10, 9, 12, 13, 10, 10, 16, 8, 11, 8, 12, 10, 9, 7, 6, 10, 11, 4, 6, 9, 8, 7, 10, 7, 8, 9, 8, 6, 10, 11, 13, 8, 12, 9, 7, 11, 10, 18, 8, 11, 10, 9, 9, 11, 8, 11, 9, 10, 8, 6, 10, 12, 8, 6, 10, 10, 8, 13, 15, 13, 9, 8, 11, 8, 12, 12, 11, 5, 5, 9, 14, 11, 13, 12, 10, 7, 6, 7, 16, 11, 16, 9, 6, 12, 7, 7, 10, 9, 13, 13, 10, 10, 10, 7, 12, 8, 5, 9, 12, 13, 11, 6, 11, 6, 11, 8, 10, 13, 11, 5, 7, 5, 11, 16, 10, 8, 11, 7, 9, 11, 9, 6, 10, 8, 8, 7, 10, 15, 13, 22, 7, 8, 10, 12, 5, 10, 9, 9, 10, 9, 11, 14, 8, 8, 10, 7, 4, 12, 15, 6, 6, 11, 10, 8, 10, 14, 6, 7, 7, 10, 13, 11, 8, 6, 11, 6, 8, 12, 9, 8, 11, 10, 7, 10, 14, 15, 7, 8, 10, 8, 10, 9, 9, 9, 10, 7, 12, 12, 13, 7, 9, 8, 8, 15, 14, 15, 12, 7, 13, 5, 6, 9, 11, 6, 11, 10, 8, 8, 16, 13, 8, 14, 3, 12, 5, 14, 6, 12, 11, 11, 8, 13, 7, 7, 15, 16, 11, 7, 8, 8, 8, 14, 14, 10, 17, 18, 11, 9, 9, 15, 13, 12, 2, 14, 11, 6, 13, 5, 10, 11, 8, 11, 6, 9, 10, 7, 7, 16, 12, 11, 12, 7, 13, 11, 8, 6, 9, 12, 10, 13, 17, 8, 8, 6, 12, 11, 8, 4, 11, 10, 14, 11, 10, 9, 9, 10, 11, 7, 12, 4, 13, 7, 8, 10, 7, 7, 3, 12, 8, 14, 7, 11, 13, 10, 14, 10, 7, 6, 6, 10, 6, 12, 11, 15, 10, 6, 10, 7, 11, 14, 4, 15, 8, 8, 9, 11, 9, 10, 10, 7, 9, 4, 11, 15, 10, 10, 7, 15, 7, 9, 9, 10, 9, 7, 13, 10, 6, 6, 9, 8, 17, 9, 8, 11, 6, 10, 14, 11, 10, 6, 7, 7, 12, 7, 8, 8, 11, 7, 8, 13, 11, 10, 6, 14, 9, 11, 9, 10, 11, 7, 7, 19, 9, 16, 6, 14, 8, 17, 11, 10, 10, 9, 9, 8, 10, 4, 7, 9, 8, 9, 7, 12, 15, 15, 11, 7, 11, 7, 9, 11, 12, 10, 9, 4, 13, 6, 13, 11, 11, 2, 8, 13, 11, 9, 4, 11, 13, 6, 9, 10, 9, 8, 16, 12, 7, 8, 7, 5, 7, 7, 17, 7, 7, 8, 9, 13, 9, 14, 13, 13, 11, 10, 14, 10, 14, 10, 7, 11, 12, 12, 7, 9, 8, 12, 11, 8, 9, 10, 10, 10, 7, 3, 10, 10, 13, 14, 12, 9, 11, 19, 8, 12, 12, 4, 12, 11, 10, 9, 6, 13, 12, 17, 10, 8, 11, 10, 8, 8, 9, 11, 13, 10, 13, 12, 7, 17, 7, 8, 5, 10, 7, 9, 11, 5, 7, 7, 8, 10, 5, 4, 11, 11, 12, 12, 5, 7, 9, 14, 8, 9, 11, 8, 8, 18, 14, 11, 13, 9, 11, 13, 17, 15, 9, 14, 7, 14, 12, 9, 9, 11, 12, 13, 8, 13, 8, 9, 17, 13, 6, 21, 9, 9, 11, 10, 11, 6, 9, 8, 12, 16, 9, 11, 10, 10, 7, 10, 4, 11, 17, 14, 14, 9, 7, 9, 8, 9, 14, 7, 13, 9, 15, 10, 12, 10, 12, 11, 12, 16, 13, 8, 13, 14, 13, 6, 13, 9, 8, 6, 12, 9, 12, 16, 13, 8, 7, 11, 12, 12, 8, 9, 9, 11, 14, 10, 11, 10, 3, 9, 15, 8, 13, 7, 6, 17, 12, 8, 9, 13, 11, 12, 10, 5, 7, 6, 12, 11, 11, 16, 6, 11, 10, 9, 9, 10, 12, 13, 14, 14, 11, 9, 15, 13, 11, 11, 11, 7, 10, 7, 14, 11, 7, 9, 12, 12, 13, 16, 7, 8, 14, 10, 12, 6, 9, 12, 10, 9, 10, 15, 10, 7, 9, 9, 9, 11, 8, 5, 5, 11, 11, 18, 12, 12, 11, 10, 11, 10, 13, 11, 8, 10, 14, 10, 7, 13, 9, 13, 6, 11, 7, 7, 10, 5, 16, 14, 7, 14, 13, 7, 11, 12, 8, 11, 18, 10, 13, 11, 9, 9, 17, 7, 10, 11, 15, 14, 18, 14, 15, 11, 9, 9, 8, 8, 6, 11, 13, 13, 14, 10, 8, 10, 10, 4, 4, 12, 9, 8, 11, 13, 6, 8, 11, 8, 7, 8, 9, 10, 10, 8, 9, 9, 12, 12, 14, 6, 10, 10, 5, 11, 11, 7, 11, 13, 7, 12, 11, 10, 7, 12, 5, 15, 12, 8, 12, 6, 7, 9, 8, 7, 9, 8, 9, 13, 7, 9, 12, 7, 9, 12, 9, 13, 14, 9, 11, 8, 11, 11, 14, 12, 10, 13, 11, 10, 13, 6, 8, 6, 12, 9, 10, 11, 10, 10, 12, 6, 11, 12, 12, 7, 9, 5, 9, 7, 15, 10, 4, 12, 9, 5, 10, 15, 14, 9, 8, 11, 12, 16, 10, 13, 13, 16, 11, 6, 13, 14, 12, 9, 10, 9, 8, 12, 8, 12, 14, 11, 17, 11, 11, 8, 12, 10, 6, 7, 7, 13, 5, 10, 10, 11, 8, 13, 12, 8, 10, 9, 12, 7, 8, 9, 10, 12, 12, 5, 17, 8, 11, 8, 10, 11, 11, 12, 11, 13, 9, 8, 12, 9, 9, 12, 6, 6, 9, 18, 15, 7, 12, 9, 13, 11, 14, 11, 11, 10, 15, 11, 12, 7, 10, 6, 2, 9, 12, 5, 10, 6, 15, 7, 7, 7, 7, 8, 10, 13, 7, 15, 12], \"xaxis\": \"x\", \"yaxis\": \"y\"}],                        {\"barmode\": \"relative\", \"legend\": {\"title\": {\"text\": \"variable\"}, \"tracegroupgap\": 0}, \"margin\": {\"t\": 60}, \"template\": {\"data\": {\"bar\": [{\"error_x\": {\"color\": \"#2a3f5f\"}, \"error_y\": {\"color\": \"#2a3f5f\"}, \"marker\": {\"line\": {\"color\": \"#E5ECF6\", \"width\": 0.5}}, \"type\": \"bar\"}], \"barpolar\": [{\"marker\": {\"line\": {\"color\": \"#E5ECF6\", \"width\": 0.5}}, \"type\": \"barpolar\"}], \"carpet\": [{\"aaxis\": {\"endlinecolor\": \"#2a3f5f\", \"gridcolor\": \"white\", \"linecolor\": \"white\", \"minorgridcolor\": \"white\", \"startlinecolor\": \"#2a3f5f\"}, \"baxis\": {\"endlinecolor\": \"#2a3f5f\", \"gridcolor\": \"white\", \"linecolor\": \"white\", \"minorgridcolor\": \"white\", \"startlinecolor\": \"#2a3f5f\"}, \"type\": \"carpet\"}], \"choropleth\": [{\"colorbar\": {\"outlinewidth\": 0, \"ticks\": \"\"}, \"type\": \"choropleth\"}], \"contour\": [{\"colorbar\": {\"outlinewidth\": 0, \"ticks\": \"\"}, \"colorscale\": [[0.0, \"#0d0887\"], [0.1111111111111111, \"#46039f\"], [0.2222222222222222, \"#7201a8\"], [0.3333333333333333, \"#9c179e\"], [0.4444444444444444, \"#bd3786\"], [0.5555555555555556, \"#d8576b\"], [0.6666666666666666, \"#ed7953\"], [0.7777777777777778, \"#fb9f3a\"], [0.8888888888888888, \"#fdca26\"], [1.0, \"#f0f921\"]], \"type\": \"contour\"}], \"contourcarpet\": [{\"colorbar\": {\"outlinewidth\": 0, \"ticks\": \"\"}, \"type\": \"contourcarpet\"}], \"heatmap\": [{\"colorbar\": {\"outlinewidth\": 0, \"ticks\": \"\"}, \"colorscale\": [[0.0, \"#0d0887\"], [0.1111111111111111, \"#46039f\"], [0.2222222222222222, \"#7201a8\"], [0.3333333333333333, \"#9c179e\"], [0.4444444444444444, \"#bd3786\"], [0.5555555555555556, \"#d8576b\"], [0.6666666666666666, \"#ed7953\"], [0.7777777777777778, \"#fb9f3a\"], [0.8888888888888888, \"#fdca26\"], [1.0, \"#f0f921\"]], \"type\": \"heatmap\"}], \"heatmapgl\": [{\"colorbar\": {\"outlinewidth\": 0, \"ticks\": \"\"}, \"colorscale\": [[0.0, \"#0d0887\"], [0.1111111111111111, \"#46039f\"], [0.2222222222222222, \"#7201a8\"], [0.3333333333333333, \"#9c179e\"], [0.4444444444444444, \"#bd3786\"], [0.5555555555555556, \"#d8576b\"], [0.6666666666666666, \"#ed7953\"], [0.7777777777777778, \"#fb9f3a\"], [0.8888888888888888, \"#fdca26\"], [1.0, \"#f0f921\"]], \"type\": \"heatmapgl\"}], \"histogram\": [{\"marker\": {\"colorbar\": {\"outlinewidth\": 0, \"ticks\": \"\"}}, \"type\": \"histogram\"}], \"histogram2d\": [{\"colorbar\": {\"outlinewidth\": 0, \"ticks\": \"\"}, \"colorscale\": [[0.0, \"#0d0887\"], [0.1111111111111111, \"#46039f\"], [0.2222222222222222, \"#7201a8\"], [0.3333333333333333, \"#9c179e\"], [0.4444444444444444, \"#bd3786\"], [0.5555555555555556, \"#d8576b\"], [0.6666666666666666, \"#ed7953\"], [0.7777777777777778, \"#fb9f3a\"], [0.8888888888888888, \"#fdca26\"], [1.0, \"#f0f921\"]], \"type\": \"histogram2d\"}], \"histogram2dcontour\": [{\"colorbar\": {\"outlinewidth\": 0, \"ticks\": \"\"}, \"colorscale\": [[0.0, \"#0d0887\"], [0.1111111111111111, \"#46039f\"], [0.2222222222222222, \"#7201a8\"], [0.3333333333333333, \"#9c179e\"], [0.4444444444444444, \"#bd3786\"], [0.5555555555555556, \"#d8576b\"], [0.6666666666666666, \"#ed7953\"], [0.7777777777777778, \"#fb9f3a\"], [0.8888888888888888, \"#fdca26\"], [1.0, \"#f0f921\"]], \"type\": \"histogram2dcontour\"}], \"mesh3d\": [{\"colorbar\": {\"outlinewidth\": 0, \"ticks\": \"\"}, \"type\": \"mesh3d\"}], \"parcoords\": [{\"line\": {\"colorbar\": {\"outlinewidth\": 0, \"ticks\": \"\"}}, \"type\": \"parcoords\"}], \"pie\": [{\"automargin\": true, \"type\": \"pie\"}], \"scatter\": [{\"marker\": {\"colorbar\": {\"outlinewidth\": 0, \"ticks\": \"\"}}, \"type\": \"scatter\"}], \"scatter3d\": [{\"line\": {\"colorbar\": {\"outlinewidth\": 0, \"ticks\": \"\"}}, \"marker\": {\"colorbar\": {\"outlinewidth\": 0, \"ticks\": \"\"}}, \"type\": \"scatter3d\"}], \"scattercarpet\": [{\"marker\": {\"colorbar\": {\"outlinewidth\": 0, \"ticks\": \"\"}}, \"type\": \"scattercarpet\"}], \"scattergeo\": [{\"marker\": {\"colorbar\": {\"outlinewidth\": 0, \"ticks\": \"\"}}, \"type\": \"scattergeo\"}], \"scattergl\": [{\"marker\": {\"colorbar\": {\"outlinewidth\": 0, \"ticks\": \"\"}}, \"type\": \"scattergl\"}], \"scattermapbox\": [{\"marker\": {\"colorbar\": {\"outlinewidth\": 0, \"ticks\": \"\"}}, \"type\": \"scattermapbox\"}], \"scatterpolar\": [{\"marker\": {\"colorbar\": {\"outlinewidth\": 0, \"ticks\": \"\"}}, \"type\": \"scatterpolar\"}], \"scatterpolargl\": [{\"marker\": {\"colorbar\": {\"outlinewidth\": 0, \"ticks\": \"\"}}, \"type\": \"scatterpolargl\"}], \"scatterternary\": [{\"marker\": {\"colorbar\": {\"outlinewidth\": 0, \"ticks\": \"\"}}, \"type\": \"scatterternary\"}], \"surface\": [{\"colorbar\": {\"outlinewidth\": 0, \"ticks\": \"\"}, \"colorscale\": [[0.0, \"#0d0887\"], [0.1111111111111111, \"#46039f\"], [0.2222222222222222, \"#7201a8\"], [0.3333333333333333, \"#9c179e\"], [0.4444444444444444, \"#bd3786\"], [0.5555555555555556, \"#d8576b\"], [0.6666666666666666, \"#ed7953\"], [0.7777777777777778, \"#fb9f3a\"], [0.8888888888888888, \"#fdca26\"], [1.0, \"#f0f921\"]], \"type\": \"surface\"}], \"table\": [{\"cells\": {\"fill\": {\"color\": \"#EBF0F8\"}, \"line\": {\"color\": \"white\"}}, \"header\": {\"fill\": {\"color\": \"#C8D4E3\"}, \"line\": {\"color\": \"white\"}}, \"type\": \"table\"}]}, \"layout\": {\"annotationdefaults\": {\"arrowcolor\": \"#2a3f5f\", \"arrowhead\": 0, \"arrowwidth\": 1}, \"autotypenumbers\": \"strict\", \"coloraxis\": {\"colorbar\": {\"outlinewidth\": 0, \"ticks\": \"\"}}, \"colorscale\": {\"diverging\": [[0, \"#8e0152\"], [0.1, \"#c51b7d\"], [0.2, \"#de77ae\"], [0.3, \"#f1b6da\"], [0.4, \"#fde0ef\"], [0.5, \"#f7f7f7\"], [0.6, \"#e6f5d0\"], [0.7, \"#b8e186\"], [0.8, \"#7fbc41\"], [0.9, \"#4d9221\"], [1, \"#276419\"]], \"sequential\": [[0.0, \"#0d0887\"], [0.1111111111111111, \"#46039f\"], [0.2222222222222222, \"#7201a8\"], [0.3333333333333333, \"#9c179e\"], [0.4444444444444444, \"#bd3786\"], [0.5555555555555556, \"#d8576b\"], [0.6666666666666666, \"#ed7953\"], [0.7777777777777778, \"#fb9f3a\"], [0.8888888888888888, \"#fdca26\"], [1.0, \"#f0f921\"]], \"sequentialminus\": [[0.0, \"#0d0887\"], [0.1111111111111111, \"#46039f\"], [0.2222222222222222, \"#7201a8\"], [0.3333333333333333, \"#9c179e\"], [0.4444444444444444, \"#bd3786\"], [0.5555555555555556, \"#d8576b\"], [0.6666666666666666, \"#ed7953\"], [0.7777777777777778, \"#fb9f3a\"], [0.8888888888888888, \"#fdca26\"], [1.0, \"#f0f921\"]]}, \"colorway\": [\"#636efa\", \"#EF553B\", \"#00cc96\", \"#ab63fa\", \"#FFA15A\", \"#19d3f3\", \"#FF6692\", \"#B6E880\", \"#FF97FF\", \"#FECB52\"], \"font\": {\"color\": \"#2a3f5f\"}, \"geo\": {\"bgcolor\": \"white\", \"lakecolor\": \"white\", \"landcolor\": \"#E5ECF6\", \"showlakes\": true, \"showland\": true, \"subunitcolor\": \"white\"}, \"hoverlabel\": {\"align\": \"left\"}, \"hovermode\": \"closest\", \"mapbox\": {\"style\": \"light\"}, \"paper_bgcolor\": \"white\", \"plot_bgcolor\": \"#E5ECF6\", \"polar\": {\"angularaxis\": {\"gridcolor\": \"white\", \"linecolor\": \"white\", \"ticks\": \"\"}, \"bgcolor\": \"#E5ECF6\", \"radialaxis\": {\"gridcolor\": \"white\", \"linecolor\": \"white\", \"ticks\": \"\"}}, \"scene\": {\"xaxis\": {\"backgroundcolor\": \"#E5ECF6\", \"gridcolor\": \"white\", \"gridwidth\": 2, \"linecolor\": \"white\", \"showbackground\": true, \"ticks\": \"\", \"zerolinecolor\": \"white\"}, \"yaxis\": {\"backgroundcolor\": \"#E5ECF6\", \"gridcolor\": \"white\", \"gridwidth\": 2, \"linecolor\": \"white\", \"showbackground\": true, \"ticks\": \"\", \"zerolinecolor\": \"white\"}, \"zaxis\": {\"backgroundcolor\": \"#E5ECF6\", \"gridcolor\": \"white\", \"gridwidth\": 2, \"linecolor\": \"white\", \"showbackground\": true, \"ticks\": \"\", \"zerolinecolor\": \"white\"}}, \"shapedefaults\": {\"line\": {\"color\": \"#2a3f5f\"}}, \"ternary\": {\"aaxis\": {\"gridcolor\": \"white\", \"linecolor\": \"white\", \"ticks\": \"\"}, \"baxis\": {\"gridcolor\": \"white\", \"linecolor\": \"white\", \"ticks\": \"\"}, \"bgcolor\": \"#E5ECF6\", \"caxis\": {\"gridcolor\": \"white\", \"linecolor\": \"white\", \"ticks\": \"\"}}, \"title\": {\"x\": 0.05}, \"xaxis\": {\"automargin\": true, \"gridcolor\": \"white\", \"linecolor\": \"white\", \"ticks\": \"\", \"title\": {\"standoff\": 15}, \"zerolinecolor\": \"white\", \"zerolinewidth\": 2}, \"yaxis\": {\"automargin\": true, \"gridcolor\": \"white\", \"linecolor\": \"white\", \"ticks\": \"\", \"title\": {\"standoff\": 15}, \"zerolinecolor\": \"white\", \"zerolinewidth\": 2}}}, \"xaxis\": {\"anchor\": \"y\", \"domain\": [0.0, 1.0], \"title\": {\"text\": \"value\"}}, \"yaxis\": {\"anchor\": \"x\", \"domain\": [0.0, 1.0], \"title\": {\"text\": \"count\"}}},                        {\"responsive\": true}                    ).then(function(){\n",
       "                            \n",
       "var gd = document.getElementById('b4544aea-b13e-463e-ba75-7957ac1f0a63');\n",
       "var x = new MutationObserver(function (mutations, observer) {{\n",
       "        var display = window.getComputedStyle(gd).display;\n",
       "        if (!display || display === 'none') {{\n",
       "            console.log([gd, 'removed!']);\n",
       "            Plotly.purge(gd);\n",
       "            observer.disconnect();\n",
       "        }}\n",
       "}});\n",
       "\n",
       "// Listen for the removal of the full notebook cells\n",
       "var notebookContainer = gd.closest('#notebook-container');\n",
       "if (notebookContainer) {{\n",
       "    x.observe(notebookContainer, {childList: true});\n",
       "}}\n",
       "\n",
       "// Listen for the clearing of the current output cell\n",
       "var outputEl = gd.closest('.output');\n",
       "if (outputEl) {{\n",
       "    x.observe(outputEl, {childList: true});\n",
       "}}\n",
       "\n",
       "                        })                };                });            </script>        </div>"
      ]
     },
     "metadata": {},
     "output_type": "display_data"
    }
   ],
   "source": [
    "caPoisson"
   ]
  },
  {
   "cell_type": "markdown",
   "metadata": {},
   "source": [
    "# Member Task 2 - 4"
   ]
  },
  {
   "cell_type": "code",
   "execution_count": 37,
   "metadata": {},
   "outputs": [
    {
     "data": {
      "text/html": [
       "<div>\n",
       "<style scoped>\n",
       "    .dataframe tbody tr th:only-of-type {\n",
       "        vertical-align: middle;\n",
       "    }\n",
       "\n",
       "    .dataframe tbody tr th {\n",
       "        vertical-align: top;\n",
       "    }\n",
       "\n",
       "    .dataframe thead th {\n",
       "        text-align: right;\n",
       "    }\n",
       "</style>\n",
       "<table border=\"1\" class=\"dataframe\">\n",
       "  <thead>\n",
       "    <tr style=\"text-align: right;\">\n",
       "      <th></th>\n",
       "      <th>NUM_LICENSED_BEDS</th>\n",
       "      <th>NUM_STAFFED_BEDS</th>\n",
       "      <th>NUM_ICU_BEDS</th>\n",
       "      <th>ADULT_ICU_BEDS</th>\n",
       "      <th>PEDI_ICU_BEDS</th>\n",
       "      <th>BED_UTILIZATION</th>\n",
       "      <th>AVG_VENTILATOR_USAGE</th>\n",
       "      <th>Potential_Increase_In_Bed_Capac</th>\n",
       "    </tr>\n",
       "    <tr>\n",
       "      <th>HQ_STATE</th>\n",
       "      <th></th>\n",
       "      <th></th>\n",
       "      <th></th>\n",
       "      <th></th>\n",
       "      <th></th>\n",
       "      <th></th>\n",
       "      <th></th>\n",
       "      <th></th>\n",
       "    </tr>\n",
       "  </thead>\n",
       "  <tbody>\n",
       "    <tr>\n",
       "      <th>TX</th>\n",
       "      <td>81737.0</td>\n",
       "      <td>71982.0</td>\n",
       "      <td>8688</td>\n",
       "      <td>8688</td>\n",
       "      <td>3637.0</td>\n",
       "      <td>263.780372</td>\n",
       "      <td>1916.0</td>\n",
       "      <td>9755</td>\n",
       "    </tr>\n",
       "  </tbody>\n",
       "</table>\n",
       "</div>"
      ],
      "text/plain": [
       "          NUM_LICENSED_BEDS  NUM_STAFFED_BEDS  NUM_ICU_BEDS  ADULT_ICU_BEDS  \\\n",
       "HQ_STATE                                                                      \n",
       "TX                  81737.0           71982.0          8688            8688   \n",
       "\n",
       "          PEDI_ICU_BEDS  BED_UTILIZATION  AVG_VENTILATOR_USAGE  \\\n",
       "HQ_STATE                                                         \n",
       "TX               3637.0       263.780372                1916.0   \n",
       "\n",
       "          Potential_Increase_In_Bed_Capac  \n",
       "HQ_STATE                                   \n",
       "TX                                   9755  "
      ]
     },
     "execution_count": 37,
     "metadata": {},
     "output_type": "execute_result"
    }
   ],
   "source": [
    "HospitalBedData = pd.read_csv(\"../../../../data/stage_I/Definitive_Healthcare _USA_Hospital_Beds.csv\")\n",
    "TexasBedData = HospitalBedData.loc[(HospitalBedData[\"HQ_STATE\"] == \"TX\")]\n",
    "TBD = TexasBedData.drop(['X','Y','OBJECTID','HQ_ZIP_CODE','FIPS','HQ_ADDRESS1','COUNTY_NAME','STATE_FIPS','CNTY_FIPS','HOSPITAL_NAME','HOSPITAL_TYPE','HQ_ADDRESS','HQ_CITY'], axis=1)\n",
    "TBDM = TBD.groupby(['HQ_STATE']).sum()\n",
    "TBDM.head()"
   ]
  },
  {
   "cell_type": "code",
   "execution_count": 39,
   "metadata": {},
   "outputs": [
    {
     "data": {
      "text/plain": [
       "0.33190753166967907"
      ]
     },
     "execution_count": 39,
     "metadata": {},
     "output_type": "execute_result"
    }
   ],
   "source": [
    "TBD['NUM_LICENSED_BEDS'].corr(TBD['BED_UTILIZATION'])"
   ]
  },
  {
   "cell_type": "markdown",
   "metadata": {},
   "source": [
    "### The correlction between hospital bed data in the COVID data is both can be used off of each other to show how COIVD is affecting a community, less hospital beds and ventlatiors can be correlated to more deaths, less hospitals in general mean more cases and deaths in general"
   ]
  },
  {
   "cell_type": "markdown",
   "metadata": {},
   "source": [
    "# Member Task 2 - 5"
   ]
  },
  {
   "cell_type": "markdown",
   "metadata": {},
   "source": [
    "### Hospital Bed Hypothesis - The fewer hospital beds and ventilators available in a county the more deaths occur from COVID in that county as a result "
   ]
  }
 ],
 "metadata": {
  "kernelspec": {
   "display_name": "Python 3",
   "language": "python",
   "name": "python3"
  },
  "language_info": {
   "codemirror_mode": {
    "name": "ipython",
    "version": 3
   },
   "file_extension": ".py",
   "mimetype": "text/x-python",
   "name": "python",
   "nbconvert_exporter": "python",
   "pygments_lexer": "ipython3",
   "version": "3.8.5"
  }
 },
 "nbformat": 4,
 "nbformat_minor": 4
}
