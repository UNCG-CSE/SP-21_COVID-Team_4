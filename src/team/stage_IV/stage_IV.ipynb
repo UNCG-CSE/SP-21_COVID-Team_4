{
 "cells": [
  {
   "cell_type": "markdown",
   "id": "c9d75607-2a51-4009-9cc4-e2b8e003e671",
   "metadata": {},
   "source": [
    "# Import modules"
   ]
  },
  {
   "cell_type": "code",
   "execution_count": 1,
   "id": "c2c8627e-5970-405a-a804-1a8892be5325",
   "metadata": {},
   "outputs": [],
   "source": [
    "from math import inf\n",
    "from jupyter_dash import JupyterDash\n",
    "import dash_core_components as dcc\n",
    "import dash_html_components as html\n",
    "from dash.dependencies import Input, Output\n",
    "import plotly.express as px\n",
    "import plotly.graph_objects as go\n",
    "import pandas as pd\n",
    "from datetime import date, timedelta\n",
    "import numpy as np\n",
    "\n",
    "from itertools import chain\n",
    "\n",
    "from sklearn.metrics import mean_squared_error\n",
    "from sklearn.preprocessing import PolynomialFeatures\n",
    "\n",
    "import statsmodels.api as sm\n",
    "\n",
    "from tqdm.notebook import tqdm"
   ]
  },
  {
   "cell_type": "markdown",
   "id": "50fef2b5-b4dc-4533-9ceb-5c024d554828",
   "metadata": {},
   "source": [
    "# Function definition to preprocess and create new dataframe"
   ]
  },
  {
   "cell_type": "code",
   "execution_count": 2,
   "id": "7766a75b-d052-43f4-8d96-03c92862c7c4",
   "metadata": {},
   "outputs": [],
   "source": [
    "def create_new_df(from_df, create_for, level):\n",
    "    def state_pop(x):\n",
    "        return np.ceil(x/x.population*county_wise_popn[x.name[0]]).astype('int')\n",
    "\n",
    "    temp_df = from_df.copy()\n",
    "    level, groupby = ('county', ['state', 'county']) if level.lower() == \"county\" else ('State', ['state'])\n",
    "    opposite = \"_deaths\" if create_for == \"cases\" else \"_cases\"\n",
    "    type_data = temp_df[[i for i in temp_df.columns if opposite not in i]]\n",
    "    type_data.columns = [i.replace(\"_{0}\".format(create_for), \"\") for i in type_data.columns]\n",
    "    type_data = pd.concat([type_data.iloc[:, :6], type_data.iloc[:, 5:].diff(axis=1).iloc[:, 1:]], axis=1)\n",
    "    # Replace all negative values with 0\n",
    "    temp = type_data.iloc[:,5:]\n",
    "    temp[temp < 0] = 0\n",
    "    type_data = pd.concat([type_data.iloc[:, :5], temp], axis=1)\n",
    "    if level == \"State\":\n",
    "        type_data = type_data.groupby(['State']).sum().drop(['countyFIPS', 'StateFIPS'], axis=1)\n",
    "        max_popn = type_data.population.max()\n",
    "        temp = pd.concat([type_data.iloc[:,0], np.ceil(type_data.apply(lambda x: x/x[0]*max_popn, axis=1)).astype('int').iloc[:, 1:]], axis=1)\n",
    "        temp = temp.reset_index().set_index(['State', 'population'])\n",
    "        final_data = type_data.reset_index().set_index(['State', 'population'])\n",
    "    else:\n",
    "        type_data.drop(type_data[type_data.population == 0].index, inplace=True)\n",
    "        type_data.drop(['countyFIPS', 'StateFIPS'], axis=1, inplace=True)\n",
    "        type_data.set_index(['State', 'County Name'], inplace=True)\n",
    "        county_wise_popn = temp_df.groupby(['State']).max().population.to_dict()\n",
    "        temp = pd.concat([type_data[type_data.population != 0][['population']], type_data[type_data.population != 0].apply(state_pop, axis=1).iloc[:,1:]], axis=1)\n",
    "        temp = temp.reset_index().set_index(['State', 'County Name', 'population'])\n",
    "        final_data = type_data.reset_index().set_index(['State', 'County Name', 'population'])\n",
    "    final_data = final_data.stack().reset_index()\n",
    "    temp = temp.stack().reset_index()\n",
    "    final_data.columns = groupby + ['population', 'date', create_for]\n",
    "    indices = []\n",
    "    roll_avg = []\n",
    "    for state, group in final_data.groupby(groupby):\n",
    "        first = group[group[create_for] != 0].index\n",
    "        indices += list(range(group.index[0], first[0]) if not first.empty else [])\n",
    "        roll_avg += [np.ceil(group[create_for].rolling(window=7, min_periods=1).mean()).astype('int')]\n",
    "    final_data['roll_avg_7'] = pd.concat(roll_avg)\n",
    "    final_data.drop(indices, inplace=True)\n",
    "    temp.drop(indices, inplace=True)\n",
    "    final_data['linear_norm'] = temp[0]\n",
    "    final_data.reset_index(drop=True, inplace=True)\n",
    "    final_data['days'] = final_data.groupby(groupby).cumcount() + 1\n",
    "    final_data['log_norm'] = np.log(final_data['roll_avg_7'])\n",
    "    return final_data"
   ]
  },
  {
   "cell_type": "markdown",
   "id": "ba501380-4f6b-4ec4-8edd-10b25592053b",
   "metadata": {},
   "source": [
    "# Function definition to find best degree for polynomial features in polynomial regression"
   ]
  },
  {
   "cell_type": "code",
   "execution_count": 3,
   "id": "d4b2b49a-b949-424f-a845-cb217143e089",
   "metadata": {},
   "outputs": [],
   "source": [
    "def choose_best_degree(pd_df, fit_for):\n",
    "    temp = pd_df.copy()\n",
    "    rmse = inf\n",
    "    req = 0\n",
    "    for i in range(20):\n",
    "        polynomial_features = PolynomialFeatures(degree=i)\n",
    "        y = temp[fit_for]\n",
    "        xp = polynomial_features.fit_transform(temp.days.values.reshape(temp.days.shape[0], 1))\n",
    "        pm = sm.OLS(y.values.reshape(y.shape[0], 1), xp).fit()\n",
    "        temp['poly_pred'] = np.ceil(pm.predict(xp))\n",
    "        temp_rmse = np.sqrt(mean_squared_error(temp[fit_for], temp.poly_pred))\n",
    "        if temp_rmse < rmse:\n",
    "            rmse = temp_rmse\n",
    "            req = i\n",
    "    return req"
   ]
  },
  {
   "cell_type": "markdown",
   "id": "3dda0fae-dda7-4b9b-8fb3-f2e715cee9ee",
   "metadata": {},
   "source": [
    "# Function definition to fit data for polynomial regression"
   ]
  },
  {
   "cell_type": "code",
   "execution_count": 4,
   "id": "242237d5-0a23-4942-814f-407017c3df2e",
   "metadata": {},
   "outputs": [],
   "source": [
    "def poly_fit(data, fit_for):\n",
    "    temp = data.copy()\n",
    "    go_objs = []\n",
    "    degree = choose_best_degree(temp, fit_for)\n",
    "    polynomial_features = PolynomialFeatures(degree=degree)\n",
    "    y = temp[fit_for]\n",
    "    xp = polynomial_features.fit_transform(temp.days.values.reshape(temp.days.shape[0], 1))\n",
    "    poly_model = sm.OLS(y.values.reshape(y.shape[0], 1), xp).fit()\n",
    "    temp['poly_pred'] = np.ceil(poly_model.predict(xp))\n",
    "    return temp"
   ]
  },
  {
   "cell_type": "markdown",
   "id": "c3c943d2-786f-40e6-9eda-74aa6d97055d",
   "metadata": {},
   "source": [
    "# Function definition to fit data for linear regression"
   ]
  },
  {
   "cell_type": "code",
   "execution_count": 5,
   "id": "0a4a8288-bbf6-4ab4-83f2-54d9e3105808",
   "metadata": {},
   "outputs": [],
   "source": [
    "def linear_fit(data, fit_for):\n",
    "    temp = data.copy()\n",
    "    lr_model_cases = sm.OLS(temp[fit_for], temp.days).fit()\n",
    "    temp['lr_pred'] = np.ceil(lr_model_cases.predict(temp.days))\n",
    "    return temp"
   ]
  },
  {
   "cell_type": "markdown",
   "id": "3f068d06-8082-4c86-b317-2039fec450b3",
   "metadata": {},
   "source": [
    "# Load dataset"
   ]
  },
  {
   "cell_type": "code",
   "execution_count": 6,
   "id": "99c3a28d-b1a3-4e34-acdd-62c66b55c46a",
   "metadata": {},
   "outputs": [],
   "source": [
    "super_dataset = pd.read_csv(\"../../../data/stage_IV/superDataset.csv\")\n",
    "state_names = pd.read_csv(\"../../../data/stage_I/name-abbr.csv\", header=None, names=['label', 'value'])"
   ]
  },
  {
   "cell_type": "markdown",
   "id": "fa45602f-c112-4073-b0e5-af66f7c9da02",
   "metadata": {},
   "source": [
    "# Call above defined functions to create country, state and county level dataframes"
   ]
  },
  {
   "cell_type": "code",
   "execution_count": 7,
   "id": "7b37a9dc-1ef0-4d3c-aa63-84162cad3642",
   "metadata": {},
   "outputs": [
    {
     "data": {
      "application/vnd.jupyter.widget-view+json": {
       "model_id": "f5de89055a234ea38f4b991b2571ecd6",
       "version_major": 2,
       "version_minor": 0
      },
      "text/plain": [
       "  0%|          | 0/4 [00:00<?, ?it/s]"
      ]
     },
     "metadata": {},
     "output_type": "display_data"
    },
    {
     "name": "stderr",
     "output_type": "stream",
     "text": [
      "/home/pratik/.virtualenvs/gpu_venv/lib/python3.7/site-packages/pandas/core/arraylike.py:358: RuntimeWarning: divide by zero encountered in log\n",
      "  result = getattr(ufunc, method)(*inputs, **kwargs)\n",
      "/home/pratik/.virtualenvs/gpu_venv/lib/python3.7/site-packages/pandas/core/arraylike.py:358: RuntimeWarning: divide by zero encountered in log\n",
      "  result = getattr(ufunc, method)(*inputs, **kwargs)\n",
      "/home/pratik/.virtualenvs/gpu_venv/lib/python3.7/site-packages/pandas/core/arraylike.py:358: RuntimeWarning: divide by zero encountered in log\n",
      "  result = getattr(ufunc, method)(*inputs, **kwargs)\n",
      "/home/pratik/.virtualenvs/gpu_venv/lib/python3.7/site-packages/pandas/core/arraylike.py:358: RuntimeWarning: divide by zero encountered in log\n",
      "  result = getattr(ufunc, method)(*inputs, **kwargs)\n"
     ]
    }
   ],
   "source": [
    "all_dfs = []\n",
    "pbar = tqdm(total=4)\n",
    "for i in ['cases', 'deaths']:\n",
    "    for j in ['state', 'county']:\n",
    "        pbar.set_description(desc=\"Creating {0}-wise {1} dataframe\".format(i, j))\n",
    "        temp = create_new_df(super_dataset, i, j)\n",
    "        x = []\n",
    "        for state, group in temp.groupby(['state'] + [j] if j == 'county' else [j]):\n",
    "            new = poly_fit(linear_fit(group, i), 'roll_avg_7')\n",
    "            x.append(new)\n",
    "        all_dfs.append(pd.concat(x))\n",
    "        pbar.update(1)\n",
    "pbar.close()\n",
    "state_df = {\"cases\": all_dfs[0], \"deaths\": all_dfs[2]}\n",
    "county_df = {\"cases\": all_dfs[1], \"deaths\": all_dfs[3]}\n",
    "us_df = {}\n",
    "for i in ['cases', 'deaths']:\n",
    "    temp = state_df[i].groupby('date').sum()[[i, 'roll_avg_7']]\n",
    "    temp['days'] = np.arange(1, temp.shape[0]+1)\n",
    "    temp.reset_index(inplace=True)\n",
    "    us_df.update({i: poly_fit(linear_fit(temp, i), 'roll_avg_7')})"
   ]
  },
  {
   "cell_type": "markdown",
   "id": "958ff416-f760-4dea-a958-2a62a8fb742e",
   "metadata": {},
   "source": [
    "# Create dashboard"
   ]
  },
  {
   "cell_type": "code",
   "execution_count": 107,
   "id": "a32f18dc-0f9f-4aef-8fcd-e360bd359a56",
   "metadata": {},
   "outputs": [],
   "source": [
    "app = JupyterDash(__name__, external_stylesheets=['https://codepen.io/chriddyp/pen/bWLwgP.css'])"
   ]
  },
  {
   "cell_type": "markdown",
   "id": "73869b29-5b65-44fa-83cb-f1581113c9cd",
   "metadata": {},
   "source": [
    "# Create dashboard layout"
   ]
  },
  {
   "cell_type": "code",
   "execution_count": 108,
   "id": "33c15d53-4881-40d3-b928-03ea5f95fd1d",
   "metadata": {},
   "outputs": [],
   "source": [
    "app.layout = html.Div([\n",
    "    html.H1(\"COVID - 19 Data Visualization\", style={'text-align': 'center'}),\n",
    "    dcc.Dropdown(\n",
    "        id='state_dropdown',\n",
    "        options=[{'label': 'All States', 'value': 'all'}] + state_names.to_dict('records'),\n",
    "        value='all'\n",
    "    ),\n",
    "    dcc.Dropdown(\n",
    "        id='county_dropdown',\n",
    "        placeholder='Select a county',\n",
    "    ),\n",
    "    dcc.DatePickerSingle(\n",
    "        id='pre_date_picker',\n",
    "        min_date_allowed=[i for i in super_dataset.columns if \"_cases\" in i][0].replace(\"_cases\", \"\"),\n",
    "        max_date_allowed=date.today(),\n",
    "        date = [i for i in super_dataset.columns if \"_cases\" in i][0].replace(\"_cases\", \"\"),\n",
    "    ),\n",
    "    dcc.DatePickerSingle(\n",
    "        id='post_date_picker',\n",
    "        min_date_allowed=[i for i in super_dataset.columns if \"_cases\" in i][0].replace(\"_cases\", \"\"),\n",
    "        max_date_allowed=date.today(),\n",
    "        date=date.today()\n",
    "    ),\n",
    "    dcc.RadioItems(\n",
    "        id='graph_type_picker',\n",
    "        options=[\n",
    "                {'label' : 'Plot', 'value' : 'Plot'},\n",
    "                {'label' : 'Map', 'value': 'Map'}\n",
    "            ],\n",
    "        value='Plot'\n",
    "    ),\n",
    "    dcc.Dropdown(\n",
    "        id='data_normalization',\n",
    "        placeholder = 'Select the normalization',\n",
    "        options=[\n",
    "            {'label' : 'Linear', 'value' : 'Linear'},\n",
    "            {'label' : 'Log', 'value' : 'Log'}\n",
    "        ],   \n",
    "    ),\n",
    "    dcc.RadioItems(\n",
    "        id='data_type_picker',\n",
    "        options=[\n",
    "            {'label' : 'Cases', 'value' : 'cases'},\n",
    "            {'label' : 'Deaths', 'value' : 'deaths'}\n",
    "        ],\n",
    "        value='cases'\n",
    "    ),\n",
    "    dcc.Dropdown(\n",
    "        id='prediction',\n",
    "        placeholder = 'Select the Prediction Model',\n",
    "        options=[\n",
    "            {'label' : 'Linear Model', 'value' : 'Linear'},\n",
    "            {'label' : 'Non-Linear Model', 'value' : 'Non-Linear Model'}\n",
    "        ],\n",
    "    ),\n",
    "    dcc.DatePickerSingle(\n",
    "        id='prediction_date_picker',\n",
    "        date=date(2021,4,26)\n",
    "    ),\n",
    "    dcc.Checklist(\n",
    "        id = 'roll_avg_checklist',\n",
    "        options = [\n",
    "            {'label' : ' 7-day moving average', 'value': 'true'},\n",
    "        ],\n",
    "        value=['true']\n",
    "    ),\n",
    "    html.P(\n",
    "        id='para_text',\n",
    "        children='Dash converts Python classes into HTML'\n",
    "    ),\n",
    "    dcc.Graph(\n",
    "        id = 'viz_graph',\n",
    "        figure = {\n",
    "            \n",
    "        },\n",
    "    ),\n",
    "])"
   ]
  },
  {
   "cell_type": "markdown",
   "id": "721db902-0e85-481a-82ef-782de3ec9b34",
   "metadata": {},
   "source": [
    "# Callback for state and county dropdown"
   ]
  },
  {
   "cell_type": "code",
   "execution_count": 109,
   "id": "1a0eb39f-4a45-45bc-9560-9b6b9ee211b7",
   "metadata": {},
   "outputs": [],
   "source": [
    "@app.callback(\n",
    "    [Output(component_id='county_dropdown', component_property='options'),\n",
    "     Output(component_id='county_dropdown', component_property='disabled')],\n",
    "    [Input(component_id='state_dropdown', component_property='value')]\n",
    ")\n",
    "def update_county(value):\n",
    "    county_disabled = True\n",
    "    if not value:\n",
    "        ret = []\n",
    "    elif value == 'all':\n",
    "        ret = []\n",
    "    else:\n",
    "        county_disabled = False\n",
    "        placeholder = \"Select a county\"\n",
    "        ret = [{'label': 'All Counties', 'value': 'all'}] + [{'label': i, 'value': i} for i in super_dataset[(super_dataset.State == value)&(super_dataset.countyFIPS != 0)]['County Name']]\n",
    "    return ret, county_disabled\n",
    "\n",
    "@app.callback(\n",
    "    Output(component_id='county_dropdown', component_property='value'),\n",
    "    [Input(component_id='county_dropdown', component_property='options')]\n",
    ")\n",
    "def update_county_vals(value):\n",
    "    return 'all'"
   ]
  },
  {
   "cell_type": "markdown",
   "id": "5f760264-56de-400f-b930-89b43f092bdd",
   "metadata": {},
   "source": [
    "# Callback for graphs"
   ]
  },
  {
   "cell_type": "code",
   "execution_count": 110,
   "id": "e44841ca-e574-4289-8b60-25cd70391997",
   "metadata": {},
   "outputs": [],
   "source": [
    "@app.callback(\n",
    "    [\n",
    "        Output(component_id = 'viz_graph', component_property = 'figure'),\n",
    "        Output(component_id='para_text', component_property='children')\n",
    "    ],\n",
    "    [\n",
    "        Input(component_id='state_dropdown', component_property='value'),\n",
    "        Input(component_id='county_dropdown', component_property='value'),\n",
    "        Input(component_id='pre_date_picker', component_property='date'),\n",
    "        Input(component_id='post_date_picker', component_property='date'),\n",
    "        Input(component_id='data_type_picker', component_property='value'),\n",
    "        Input(component_id='roll_avg_checklist', component_property='value'),\n",
    "    ]\n",
    ")\n",
    "\n",
    "def update_graph(state, county, start_date, end_date, data_type, roll_avg_state):\n",
    "    if state == 'all':\n",
    "        df = us_df[data_type]\n",
    "        state = \"United States\".upper()\n",
    "    else:\n",
    "        if county == \"all\":\n",
    "            df = state_df[data_type]\n",
    "            df = df[df.state == state]\n",
    "        else:\n",
    "            df = county_df[data_type]\n",
    "            df = df[(df.state == state) & (df.county == county)]\n",
    "        state = state_names[state_names.value == state].label.values[0].upper()\n",
    "    df = df[(df.date >= start_date) & (df.date <=end_date)]\n",
    "    fig = go.Figure()\n",
    "    fig.add_trace(\n",
    "        go.Bar(x=df.date, y=df[data_type], name=data_type, marker=dict(color='silver')),\n",
    "    )\n",
    "    if roll_avg_state == ['true']:\n",
    "        fig.add_trace(\n",
    "            go.Scatter(x=df.date, y=df.roll_avg_7, mode='lines', name='7 - day moving avg', marker=dict(color='blue')),\n",
    "        )\n",
    "    fig.update_layout(\n",
    "        title=\"COVID 19 {0} across {1} from {2} to {3}\".format(data_type, state, start_date, end_date),\n",
    "        title_x=0.5,\n",
    "        xaxis_title=\"Date\",\n",
    "        yaxis_title=\"Frequency (NEW {0} per day)\".format(data_type.upper()),\n",
    "        legend=dict(orientation=\"h\", yanchor=\"bottom\", y=1, x=0.5),\n",
    "        height=600\n",
    "    )\n",
    "    return fig, str(type(roll_avg_state))"
   ]
  },
  {
   "cell_type": "markdown",
   "id": "8a8e7f99-f90d-4f25-8830-d38a4d397828",
   "metadata": {},
   "source": [
    "# Run server"
   ]
  },
  {
   "cell_type": "code",
   "execution_count": 111,
   "id": "3943f24b-88f3-447a-9bde-0ecfb4c40b51",
   "metadata": {},
   "outputs": [
    {
     "name": "stdout",
     "output_type": "stream",
     "text": [
      "Dash app running on http://127.0.0.1:8085/\n"
     ]
    }
   ],
   "source": [
    "app.run_server(mode=\"external\", debug=True, port=8085, use_reloader=False)"
   ]
  },
  {
   "cell_type": "code",
   "execution_count": null,
   "id": "db3c3fce-e2ef-4229-9934-7a8e540c2cc7",
   "metadata": {},
   "outputs": [],
   "source": []
  }
 ],
 "metadata": {
  "kernelspec": {
   "display_name": "gpu_venv",
   "language": "python",
   "name": "gpu_venv"
  },
  "language_info": {
   "codemirror_mode": {
    "name": "ipython",
    "version": 3
   },
   "file_extension": ".py",
   "mimetype": "text/x-python",
   "name": "python",
   "nbconvert_exporter": "python",
   "pygments_lexer": "ipython3",
   "version": "3.7.10"
  }
 },
 "nbformat": 4,
 "nbformat_minor": 5
}
