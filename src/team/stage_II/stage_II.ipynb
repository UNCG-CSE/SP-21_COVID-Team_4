{
  "nbformat": 4,
  "nbformat_minor": 0,
  "metadata": {
    "colab": {
      "name": "stage_II.ipynb",
      "provenance": []
    },
    "kernelspec": {
      "name": "python3",
      "display_name": "Python 3"
    }
  },
  "cells": [
    {
      "cell_type": "code",
      "metadata": {
        "id": "DJTLn3aCC7YJ"
      },
      "source": [
        "This is stage II"
      ],
      "execution_count": null,
      "outputs": []
    }
  ]
}